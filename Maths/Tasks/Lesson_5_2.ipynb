{
 "cells": [
  {
   "cell_type": "code",
   "execution_count": 220,
   "metadata": {},
   "outputs": [],
   "source": [
    "import numpy as np\n",
    "import matplotlib.pyplot as plt\n",
    "import math\n",
    "import itertools\n",
    "from scipy.stats import norm\n",
    "%matplotlib inline"
   ]
  },
  {
   "cell_type": "code",
   "execution_count": 221,
   "metadata": {},
   "outputs": [
    {
     "name": "stdout",
     "output_type": "stream",
     "text": [
      "\n",
      "25\n",
      "stop\n"
     ]
    }
   ],
   "source": [
    "\"\"\"\n",
    "Напишите код, моделирующий выпадение поля в рулетке (с учетом поля зеро)\n",
    "\"\"\"\n",
    "i = 0\n",
    "while i != 'stop':\n",
    "    i = input()\n",
    "    if i == 'stop':\n",
    "        break\n",
    "    x = np.random.randint(0, 36)\n",
    "    if x==0:\n",
    "        print(\"Zero!\")\n",
    "    else:\n",
    "        print(int(x))"
   ]
  },
  {
   "cell_type": "code",
   "execution_count": 222,
   "metadata": {
    "scrolled": true
   },
   "outputs": [
    {
     "name": "stdout",
     "output_type": "stream",
     "text": [
      "Набор zero: []\n",
      " -количество: 0\n",
      "\n",
      "Набор красных: [2, 6, 6, 8, 8, 8, 10, 10, 10, 12, 14, 16, 18, 18, 20, 20, 26, 28, 28, 30, 36]\n",
      " -количество: 21\n",
      "\n",
      "Набор черных: [1, 3, 7, 9, 13, 17, 21, 21, 25, 27, 27, 27, 29, 31, 31, 33]\n",
      " -количество: 16\n",
      "\n",
      "Общее количество = 37\n",
      "P(A+B+C) = 1.0\n"
     ]
    }
   ],
   "source": [
    "\"\"\"\n",
    "Напишите код, проверяющий любую из теорем сложения или умножения вероятности на примере рулетки или подбрасывания монетки.\n",
    "\"\"\"\n",
    "n = 37\n",
    "zero = []\n",
    "red = []\n",
    "black = []\n",
    "for i in range(n):\n",
    "    m = np.random.randint(0, n)\n",
    "    if m == 0:\n",
    "        zero.append(m)\n",
    "    elif m % 2 == 0:\n",
    "        red.append(m)\n",
    "    elif m % 2 != 0:\n",
    "        black.append(m)\n",
    "        \n",
    "num_zero = len(zero)\n",
    "num_red = len(red)\n",
    "num_black = len(black)\n",
    "print(f\"Набор zero: {sorted(zero)}\\n -количество: {num_zero}\\n\")\n",
    "print(f\"Набор красных: {sorted(red)}\\n -количество: {num_red}\\n\")\n",
    "print(f\"Набор черных: {sorted(black)}\\n -количество: {num_black}\\n\")\n",
    "print(f\"Общее количество = {num_zero + num_red + num_black}\")\n",
    "print(f\"P(A+B+C) = {num_zero/n + num_red/n + num_black/n}\")"
   ]
  },
  {
   "cell_type": "code",
   "execution_count": 223,
   "metadata": {},
   "outputs": [
    {
     "data": {
      "image/png": "[encoded data removed]",
      "text/plain": [
       "<Figure size 432x288 with 1 Axes>"
      ]
     },
     "metadata": {
      "needs_background": "light"
     },
     "output_type": "display_data"
    },
    {
     "name": "stdout",
     "output_type": "stream",
     "text": [
      "\n",
      "Длина общей выборки: 100\n",
      "Состав общей выборки:\n",
      "[0.8925632869850946, 0.031180378176914214, 0.3521663741863651, 0.8822765311577183, 0.04745394025943239, 0.8852652786288588, 0.7680183385380688, 0.021870280155784072, 0.7462484766262937, 0.10663346773083038, 0.5562607640378393, 0.4534591210032832, 0.1833474531889523, 0.8989464647403428, 0.5271534245090885, 0.9036980812055608, 0.03412366401246203, 0.48547512416166017, 0.7403437788666031, 0.9396334497602357, 0.07318437507968545, 0.4333263549725145, 0.42882338627247385, 0.3599830606065241, 0.8145362397912247, 0.8913525832824765, 0.4444052630704879, 0.28456287216515064, 0.5438348679817594, 0.3950254068599087, 0.6172772441331089, 0.7442522669526629, 0.0021734176555171514, 0.2638923080090486, 0.06213197387441849, 0.6346752340782189, 0.7149397944125016, 0.8358715924712241, 0.9585785816611198, 0.6401348943227173, 0.3203178100612222, 0.04564804825928859, 0.16144557390462744, 0.16418432535648075, 0.9056183873255024, 0.5349369876984245, 0.5637935859563113, 0.9478552885147458, 0.09047036695059629, 0.421086033830407, 0.4437144992309815, 0.8585643737041887, 0.19351957617760362, 0.6076113166471135, 0.699891753082059, 0.7401604856289644, 0.7163938528292009, 0.1409599608788279, 0.5681125706685175, 0.1348039056506991, 0.2710813796783872, 0.33303962027735745, 0.9868654916885548, 0.6676765132848008, 0.08906669159554481, 0.763589958978333, 0.8976032120442454, 0.36071946804767807, 0.029318349407014277, 0.3293042622919531, 0.8129752240845965, 0.12785078180351905, 0.9325043657014545, 0.5929757804626211, 0.37774597665381704, 0.6491353791972344, 0.7040723037374306, 0.8037098951832565, 0.13004179649742276, 0.6866359231839843, 0.720973597386451, 0.976694799561897, 0.030307797593187913, 0.22729326050756304, 0.8262001664881312, 0.9764288431190836, 0.41300816412872976, 0.06029453624243952, 0.19914967489997026, 0.980495564522432, 0.65701629486884, 0.816191568309971, 0.32916709155469837, 0.5383360823500849, 0.6723863136442781, 0.859674852518485, 0.9537120794399471, 0.30635237673945637, 0.9515700273536335, 0.9374058514700968]\n",
      "\n",
      "\n"
     ]
    }
   ],
   "source": [
    "\"\"\"\n",
    "Сгенерируйте десять выборок случайных чисел х0, …, х9.\n",
    "и постройте гистограмму распределения случайной суммы х0+х1+ …+ х9.\n",
    "\"\"\"\n",
    "n = 11\n",
    "list_sample = []\n",
    "fin_sample = []\n",
    "for i in range(1,n):\n",
    "    numbers = list(np.random.rand(10))\n",
    "    list_sample.append(numbers)  \n",
    "\n",
    "for item in list_sample:\n",
    "    for var in item:\n",
    "        fin_sample.append(var)\n",
    "\n",
    "plt.hist(fin_sample)\n",
    "plt.title(\"Гистограмма распределения общей выборки\")\n",
    "plt.show()\n",
    "print(f\"\\nДлина общей выборки: {len(fin_sample)}\\nСостав общей выборки:\\n{fin_sample}\\n\\n\")"
   ]
  },
  {
   "cell_type": "code",
   "execution_count": 224,
   "metadata": {},
   "outputs": [
    {
     "name": "stdout",
     "output_type": "stream",
     "text": [
      "Количество испытаний: 10000\n",
      "Количество успехов: 3797\n",
      "Количество неудач: 6203\n",
      "Вероятность выпадения успеха: 0.3797\n",
      "C = 6.0\n",
      "P = 0.375\n",
      "Разница: 0.004699999999999982\n"
     ]
    }
   ],
   "source": [
    "\"\"\"\n",
    "Дополните код Монте-Карло последовательности независимых испытаний расчетом соответствующих вероятностей \n",
    "(через биномиальное распределение) и сравните результаты.\n",
    "\"\"\"\n",
    "\n",
    "k, n = 0, 10000\n",
    "a = np.random.randint(0, 2, n)\n",
    "b = np.random.randint(0, 2, n)\n",
    "c = np.random.randint(0, 2, n)\n",
    "d = np.random.randint(0, 2, n)\n",
    "x = a + b + c + d\n",
    "\n",
    "for i in range(0, n):\n",
    "    if x[i] == 2:\n",
    "        k = k + 1\n",
    "C = math.factorial(4) / (math.factorial(2) * math.factorial(2))\n",
    "P = C / (2**4)\n",
    "p = k/n\n",
    "\n",
    "print(f\"Количество испытаний: {n}\\nКоличество успехов: {k}\\nКоличество неудач: {n-k}\\n\\\n",
    "Вероятность выпадения успеха: {p}\\nC = {C}\\nP = {P}\\nРазница: {abs(P-p)}\")"
   ]
  },
  {
   "cell_type": "markdown",
   "metadata": {},
   "source": [
    "- Вывод: значения практически совпадают. Чем больше выборка в испытании, тем ближе вероятности рассчитанные по формуле Бернули и простым отношением."
   ]
  },
  {
   "cell_type": "code",
   "execution_count": 225,
   "metadata": {},
   "outputs": [
    {
     "name": "stdout",
     "output_type": "stream",
     "text": [
      "Количество испытаний: 99999\n",
      "Количество успехов: 31461\n",
      "Количество неудач: 68538\n",
      "Вероятность выпадения успеха: 0.3146131461314613\n",
      "C = 10.0\n",
      "P = 0.3125\n",
      "Разница: 0.0021131461314612965\n"
     ]
    }
   ],
   "source": [
    "\"\"\"\n",
    "Повторите расчеты биномиальных коэффициентов и вероятностей k успехов в последовательности из n независимых испытаний, \n",
    "взяв другие значения n и k.\n",
    "\n",
    "\"\"\"\n",
    "k, n = 0, 99999\n",
    "a = np.random.randint(0, 2, n)\n",
    "b = np.random.randint(0, 2, n)\n",
    "c = np.random.randint(0, 2, n)\n",
    "d = np.random.randint(0, 2, n)\n",
    "e = np.random.randint(0, 2, n)\n",
    "x = a + b + c + d + e\n",
    "\n",
    "for i in range(0, n):\n",
    "    if x[i] == 2:\n",
    "        k = k + 1\n",
    "C = math.factorial(5) / (math.factorial(2) * math.factorial(3))\n",
    "P = C / (2**5)\n",
    "p = k/n\n",
    "\n",
    "print(f\"Количество испытаний: {n}\\nКоличество успехов: {k}\\nКоличество неудач: {n-k}\\n\\\n",
    "Вероятность выпадения успеха: {p}\\nC = {C}\\nP = {P}\\nРазница: {abs(P-p)}\")\n",
    "\n"
   ]
  },
  {
   "cell_type": "code",
   "execution_count": 226,
   "metadata": {
    "scrolled": true
   },
   "outputs": [
    {
     "name": "stdout",
     "output_type": "stream",
     "text": [
      "00\n",
      "03\n",
      "30\n",
      "33\n"
     ]
    }
   ],
   "source": [
    "\"\"\"\n",
    "Из урока по комбинаторике повторите расчеты, сгенерировав возможные варианты перестановок для других значений n и k\n",
    "\n",
    "\"\"\"\n",
    "for p in itertools.product(\"03\",repeat=2):\n",
    "    print(''.join(p))   "
   ]
  },
  {
   "cell_type": "code",
   "execution_count": 227,
   "metadata": {},
   "outputs": [
    {
     "name": "stdout",
     "output_type": "stream",
     "text": [
      "0.6735447037797845 0.1619809982906621\n",
      "0.6735447037797837 0.16198099829066226\n",
      "Значение корреляции по формуле: 88.97295408417142\n",
      "Значения вычисленные по методу:\n",
      " [[1.         0.88972954]\n",
      " [0.88972954 1.        ]]\n",
      "\n"
     ]
    },
    {
     "name": "stderr",
     "output_type": "stream",
     "text": [
      "/usr/local/lib/python3.6/dist-packages/ipykernel_launcher.py:17: FutureWarning: `rcond` parameter will change to the default of machine precision times ``max(M, N)`` where M and N are the input matrix dimensions.\n",
      "To use the future default and silence this warning we advise to pass `rcond=None`, to keep using the old, explicitly pass `rcond=-1`.\n"
     ]
    },
    {
     "data": {
      "image/png": "[encoded data removed]",
      "text/plain": [
       "<Figure size 432x288 with 1 Axes>"
      ]
     },
     "metadata": {
      "needs_background": "light"
     },
     "output_type": "display_data"
    }
   ],
   "source": [
    "\"\"\"\n",
    "Дополните код расчетом коэффициента корреляции x и y по формуле\n",
    "\"\"\"\n",
    "n = 100\n",
    "r = 0.7\n",
    "x = np.random.rand(n)\n",
    "y = r*x + (1 - r)*np.random.rand(n)\n",
    "plt.plot(x, y, 'o')\n",
    "plt.xlabel('x')\n",
    "plt.ylabel('y')\n",
    "plt.grid(True)\n",
    "\n",
    "a = (np.sum(x)*np.sum(y) - n*np.sum(x*y))/(np.sum(x)*np.sum(x) - n*np.sum(x*x))\n",
    "b = (np.sum(y) - a*np.sum(x))/n\n",
    "R = np.sum((x-np.mean(x))*(y-np.mean(y))) / (np.var(x)*np.var(y))**0.5\n",
    "A = np.vstack([x, np.ones(len(x))]).T\n",
    "a1, b1 = np.linalg.lstsq(A, y)[0]\n",
    "print(a, b)\n",
    "print(a1, b1)\n",
    "print(f\"Значение корреляции по формуле: {R}\\nЗначения вычисленные по методу:\\n {np.corrcoef(x, y)}\\n\" )\n",
    "plt.plot([0, 1], [b, a + b])\n",
    "plt.show()"
   ]
  },
  {
   "cell_type": "code",
   "execution_count": null,
   "metadata": {},
   "outputs": [],
   "source": []
  }
 ],
 "metadata": {
  "kernelspec": {
   "display_name": "Python 3",
   "language": "python",
   "name": "python3"
  },
  "language_info": {
   "codemirror_mode": {
    "name": "ipython",
    "version": 3
   },
   "file_extension": ".py",
   "mimetype": "text/x-python",
   "name": "python",
   "nbconvert_exporter": "python",
   "pygments_lexer": "ipython3",
   "version": "3.6.10"
  }
 },
 "nbformat": 4,
 "nbformat_minor": 4
}
