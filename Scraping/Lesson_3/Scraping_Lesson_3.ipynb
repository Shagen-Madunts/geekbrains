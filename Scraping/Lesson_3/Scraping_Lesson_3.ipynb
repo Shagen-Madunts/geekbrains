{
 "cells": [
  {
   "cell_type": "code",
   "execution_count": 187,
   "metadata": {},
   "outputs": [
    {
     "data": {
      "text/html": [
       "<style>.container { width:100% !important; }</style>"
      ],
      "text/plain": [
       "<IPython.core.display.HTML object>"
      ]
     },
     "metadata": {},
     "output_type": "display_data"
    }
   ],
   "source": [
    "import requests as rq\n",
    "import re\n",
    "from bs4 import BeautifulSoup as bs\n",
    "import numpy as np\n",
    "import math\n",
    "from random import randint\n",
    "import json\n",
    "import pickle\n",
    "import time\n",
    "import tqdm\n",
    "import re\n",
    "import datetime\n",
    "from tqdm import tqdm\n",
    "from getpass import getpass\n",
    "import xmltodict, json\n",
    "import pandas as pd\n",
    "from IPython.core.display import display, HTML\n",
    "display(HTML(\"<style>.container { width:100% !important; }</style>\"))\n",
    "pd.set_option('display.max_rows', 1000)\n",
    "pd.set_option('display.max_columns', 100)\n",
    "pd.set_option('display.max_colwidth', 100)\n",
    "pd.set_option('display.width', 1000)\n",
    "pd.set_option('precision', 2)\n",
    "\n",
    "pd.options.display.float_format = '{:20,.2f}'.format\n",
    "np.set_printoptions(suppress=False)\n",
    "from pymongo import MongoClient"
   ]
  },
  {
   "cell_type": "code",
   "execution_count": 16,
   "metadata": {},
   "outputs": [],
   "source": [
    "def str2num(s):\n",
    "    if s is None:\n",
    "        return None\n",
    "    try:\n",
    "        return float(s)\n",
    "    except ValueError:\n",
    "        item = str(s).strip().replace(' ', '').replace(',', '.')\n",
    "        res = re.search('[-+]?\\d*\\.?\\d+', item)\n",
    "        if res:\n",
    "            return float(res.group(0))\n",
    "        else:\n",
    "            return None\n",
    "\n",
    "def str2date(date):\n",
    "    d = str(date)\n",
    "    return pd.to_datetime(d[:10], format='%Y-%m-%d')"
   ]
  },
  {
   "cell_type": "markdown",
   "metadata": {},
   "source": [
    "# Задание 2 урок"
   ]
  },
  {
   "cell_type": "markdown",
   "metadata": {},
   "source": [
    "Необходимо собрать информацию о вакансиях на вводимую должность (используем input или через аргументы) с сайта superjob.ru и hh.ru. Приложение должно анализировать несколько страниц сайта(также вводим через input или аргументы). Получившийся список должен содержать в себе минимум:\n",
    "\n",
    "    *Наименование вакансии\n",
    "    *Предлагаемую зарплату (отдельно мин. и отдельно макс. и отдельно валюта)\n",
    "    *Ссылку на саму вакансию        \n",
    "    *Сайт откуда собрана вакансия\n",
    "По своему желанию можно добавить еще работодателя и расположение. Данная структура должна быть одинаковая для вакансий с обоих сайтов. Общий результат можно вывести с помощью dataFrame через pandas."
   ]
  },
  {
   "cell_type": "code",
   "execution_count": 3,
   "metadata": {},
   "outputs": [],
   "source": [
    "# Указываем интересующую должность, Headers и Paparams для запросов \n",
    "job = 'продавец'"
   ]
  },
  {
   "cell_type": "code",
   "execution_count": 4,
   "metadata": {},
   "outputs": [],
   "source": [
    "headers = {\"User-Agent\":'Mozilla/5.0 (Windows NT 10.0; Win64; x64) AppleWebKit/537.36 (KHTML, like Gecko) Chrome/83.0.4103.116 Safari/537.36', 'accept': '*/*',\n",
    "          'cookie': '_xsrf=de884125fde6477ed9c7161ed263ea53; _xsrf=de884125fde6477ed9c7161ed263ea53; hhrole=anonymous; region_clarified=NOT_SET; display=desktop; hhtoken=LPeQjTKZ_afPzaTypkHXCMgn0_jl; hhuid=lk36Wan1dMD2dl74cc1I5w--; GMT=3; _fbp=fb.1.1593340366222.421034606; iap.uid=2016ae8cd7d542b186d6e67a282f7d87; _ga=GA1.2.45243456.1593340367; _gid=GA1.2.1045293019.1593340367; __zzatgib-w-hh=MDA0dBA=Fz2+aQ==; regions=113; __ddg1=arLcdN8Pq8fTWee0ZdlV; _ym_d=1593345354; _ym_uid=159334535496613988; _ym_isad=2; __ddg2=sSwrGRG1bIhS7u2w; total_searches=47; gssc58=; _ym_visorc_156828=w; _gat_gtag_UA_11659974_2=1; cfidsgib-w-hh=yPYHkzwbbl0DO5VJDLh0f+Pjzkb47tVWctu3OAbo9LdPC+lj/9CGbxMAVInqh3ZK/WY/sYxuS1mnY++uDQ+YdSJjEIblX8A66VzewCULumH4nHpBVFhE6T8vOkE3ggxI+Z2Sy33+/mwRkPR7GBSIbk7x2AwQY0EZTjAisLY=; gsscgib-w-hh=NVIvBOyd9CDXzwpLBEvVN1HFf9QmBdIhGDZtZ5ZZ+ps4FZelgYFFK2WM0JAUKnxg2+p9DDGwrfxOPapKqLLkG00k7LEyCdZ8oas9CV4/8dnd8TmJAPbN9OeLhmTQg8vTiauJHU+e8b9PDX2SwgTqQFNmcBN2sahuEv2FuznPrHrndF/3mkhsqTJ4g94=; fgsscgib-w-hh=e0a6861354de74151cc564cc99569903e8742063; cfidsgib-w-hh=cpeq9lhFLTJephPmzT4JIGnNmwmBw8YzbF6rE7KzoX4e/EexNKNVn4RIe5ukHyCGwftXp9d6K1oHMsAoCMnIYJElCYMfks+/vkeg1M26QbfvpepfDBaDFFYKoS47ysDkcgtrpuZAzJYRbqKa8mlaMWF1l97+JMvTQ4jk3Ns='}\n",
    "params = {'area':113, 'st':'searchVacancy', 'text':job,'fromSearch':True, 'from':'suggest_post', \"items_on_page\": 100}"
   ]
  },
  {
   "cell_type": "markdown",
   "metadata": {},
   "source": [
    "*Теперь собираем максильно возможное количество страниц по каждому региону и добавляем ссылки на найденные страницы в список URLS*"
   ]
  },
  {
   "cell_type": "code",
   "execution_count": 5,
   "metadata": {
    "scrolled": true
   },
   "outputs": [
    {
     "name": "stderr",
     "output_type": "stream",
     "text": [
      "100%|██████████████████████████████████████████████████████████████████████████████| 5000/5000 [48:29<00:00,  2.55it/s]\n"
     ]
    }
   ],
   "source": [
    "areas = [i for i in range(0,5000)]\n",
    "\n",
    "urls = []\n",
    "for area in tqdm(areas):\n",
    "    ur = f\"https://hh.ru/search/vacancy?L_is_autosearch=false&area={area}&only_with_salary=true&items_on_page=100&clusters=true&enable_snippets=true&text={params['text']}\"\n",
    "    req = rq.get(f\"{ur}\", headers=headers)\n",
    "    soup = bs(req.text, 'html.parser')\n",
    "    try:\n",
    "        counts = int(str(soup.find_all(\"h1\", attrs={'class':\"bloko-header-1\"})[0].text.strip()).split('вакансий')[0].replace('\\xa0', ''))\n",
    "    except:\n",
    "        continue\n",
    "    if counts > 0 and counts <= 100:\n",
    "        urls.append([f\"https://hh.ru/search/vacancy?L_is_autosearch=true&area={area}&currency_code=RUR&only_with_salary=true&items_on_page=100&clusters=true&enable_snippets=true&text={params['text']}&page=0\"])\n",
    "    if counts > 100:\n",
    "        c = counts // 100 + 1\n",
    "        res = c if c <=20 else 20\n",
    "        urls.append([f\"https://hh.ru/search/vacancy?L_is_autosearch=true&area={area}&currency_code=RUR&only_with_salary=true&items_on_page=100&clusters=true&enable_snippets=true&text={params['text']}&page={i}\" for i in list(range(res))])                            "
   ]
  },
  {
   "cell_type": "code",
   "execution_count": 6,
   "metadata": {},
   "outputs": [],
   "source": [
    "with open('list_urls_hh_v3.pkl', 'wb') as f:\n",
    "    pickle.dump(urls, f)"
   ]
  },
  {
   "cell_type": "markdown",
   "metadata": {},
   "source": [
    "*Теперь собираем по списку URLS все id вакансий и создаем список ссылок LINKS уже на конкретные вакансии*"
   ]
  },
  {
   "cell_type": "code",
   "execution_count": 4,
   "metadata": {},
   "outputs": [],
   "source": [
    "urls = pd.read_pickle('list_urls_hh_v3.pkl')"
   ]
  },
  {
   "cell_type": "code",
   "execution_count": 5,
   "metadata": {
    "scrolled": true
   },
   "outputs": [
    {
     "name": "stderr",
     "output_type": "stream",
     "text": [
      "100%|████████████████████████████████████████████████████████████████████████████| 1696/1696 [5:33:39<00:00,  2.64it/s]\n"
     ]
    }
   ],
   "source": [
    "links = []\n",
    "for url in tqdm(urls):\n",
    "    for href in url:\n",
    "#         print(f\"{href}\")        \n",
    "        req = rq.get(f\"{href}\", headers=headers)\n",
    "#         print(f\"Статус: {req.status_code}\")     \n",
    "        soup = bs(req.text, 'html.parser')\n",
    "        items1 = soup.find_all(\"script\", attrs={\"data-name\":\"HH/Vacancy/SendResponseAttempt\"})\n",
    "        for link in items1:\n",
    "            data = dict(json.loads(link.get('data-params')))\n",
    "            links.append(f\"https://hh.ru/vacancy/{data['vacancyId']}?query={params['text']}\")\n",
    "links = list(set(links))"
   ]
  },
  {
   "cell_type": "code",
   "execution_count": 6,
   "metadata": {},
   "outputs": [],
   "source": [
    "with open('final_links.pkl', 'wb') as f:\n",
    "    pickle.dump(links, f)"
   ]
  },
  {
   "cell_type": "markdown",
   "metadata": {},
   "source": [
    "***Собираем конечную информацию с отдельных конечных страничек вакансий*** "
   ]
  },
  {
   "cell_type": "code",
   "execution_count": 170,
   "metadata": {},
   "outputs": [],
   "source": [
    "links = pd.read_pickle('final_links.pkl')"
   ]
  },
  {
   "cell_type": "code",
   "execution_count": 171,
   "metadata": {
    "scrolled": true
   },
   "outputs": [
    {
     "name": "stderr",
     "output_type": "stream",
     "text": [
      "\n",
      "\n",
      "\n",
      "  0%|                                                                                          | 0/300 [00:00<?, ?it/s]"
     ]
    },
    {
     "name": "stdout",
     "output_type": "stream",
     "text": [
      "https://hh.ru/vacancy/37649115?query=продавец\n",
      "Статус: 200\n"
     ]
    },
    {
     "name": "stderr",
     "output_type": "stream",
     "text": [
      "\n",
      "\n",
      "\n",
      "  0%|▎                                                                                 | 1/300 [00:02<12:54,  2.59s/it]"
     ]
    },
    {
     "name": "stdout",
     "output_type": "stream",
     "text": [
      "https://hh.ru/vacancy/36745062?query=продавец\n",
      "Статус: 200\n"
     ]
    },
    {
     "name": "stderr",
     "output_type": "stream",
     "text": [
      "\n",
      "\n",
      "\n",
      "  1%|▌                                                                                 | 2/300 [00:04<11:20,  2.28s/it]"
     ]
    },
    {
     "name": "stdout",
     "output_type": "stream",
     "text": [
      "https://hh.ru/vacancy/36911843?query=продавец\n",
      "Статус: 200\n"
     ]
    },
    {
     "name": "stderr",
     "output_type": "stream",
     "text": [
      "\n",
      "\n",
      "\n",
      "  1%|▊                                                                                 | 3/300 [00:05<10:21,  2.09s/it]"
     ]
    },
    {
     "name": "stdout",
     "output_type": "stream",
     "text": [
      "https://hh.ru/vacancy/37402498?query=продавец\n",
      "Статус: 200\n"
     ]
    },
    {
     "name": "stderr",
     "output_type": "stream",
     "text": [
      "\n",
      "\n",
      "\n",
      "  1%|█                                                                                 | 4/300 [00:09<12:18,  2.50s/it]"
     ]
    },
    {
     "name": "stdout",
     "output_type": "stream",
     "text": [
      "https://hh.ru/vacancy/37740408?query=продавец\n",
      "Статус: 200\n"
     ]
    },
    {
     "name": "stderr",
     "output_type": "stream",
     "text": [
      "\n",
      "\n",
      "\n",
      "  2%|█▎                                                                                | 5/300 [00:11<12:13,  2.49s/it]"
     ]
    },
    {
     "name": "stdout",
     "output_type": "stream",
     "text": [
      "https://hh.ru/vacancy/36468819?query=продавец\n",
      "Статус: 200\n"
     ]
    },
    {
     "name": "stderr",
     "output_type": "stream",
     "text": [
      "\n",
      "\n",
      "\n",
      "  2%|█▋                                                                                | 6/300 [00:14<12:11,  2.49s/it]"
     ]
    },
    {
     "name": "stdout",
     "output_type": "stream",
     "text": [
      "https://hh.ru/vacancy/37687064?query=продавец\n",
      "Статус: 200\n"
     ]
    },
    {
     "name": "stderr",
     "output_type": "stream",
     "text": [
      "\n",
      "\n",
      "\n",
      "  2%|█▉                                                                                | 7/300 [00:16<12:05,  2.48s/it]"
     ]
    },
    {
     "name": "stdout",
     "output_type": "stream",
     "text": [
      "https://hh.ru/vacancy/37455392?query=продавец\n",
      "Статус: 200\n"
     ]
    },
    {
     "name": "stderr",
     "output_type": "stream",
     "text": [
      "\n",
      "\n",
      "\n",
      "  3%|██▏                                                                               | 8/300 [00:19<11:56,  2.45s/it]"
     ]
    },
    {
     "name": "stdout",
     "output_type": "stream",
     "text": [
      "https://hh.ru/vacancy/37222849?query=продавец\n",
      "Статус: 200\n"
     ]
    },
    {
     "name": "stderr",
     "output_type": "stream",
     "text": [
      "\n",
      "\n",
      "\n",
      "  3%|██▍                                                                               | 9/300 [00:21<11:53,  2.45s/it]"
     ]
    },
    {
     "name": "stdout",
     "output_type": "stream",
     "text": [
      "https://hh.ru/vacancy/37501829?query=продавец\n",
      "Статус: 200\n"
     ]
    },
    {
     "name": "stderr",
     "output_type": "stream",
     "text": [
      "\n",
      "\n",
      "\n",
      "  3%|██▋                                                                              | 10/300 [00:24<13:20,  2.76s/it]"
     ]
    },
    {
     "name": "stdout",
     "output_type": "stream",
     "text": [
      "https://hh.ru/vacancy/36602151?query=продавец\n",
      "Статус: 200\n"
     ]
    },
    {
     "name": "stderr",
     "output_type": "stream",
     "text": [
      "\n",
      "\n",
      "\n",
      "  4%|██▉                                                                              | 11/300 [00:26<11:25,  2.37s/it]"
     ]
    },
    {
     "name": "stdout",
     "output_type": "stream",
     "text": [
      "https://hh.ru/vacancy/37423105?query=продавец\n",
      "Статус: 200\n"
     ]
    },
    {
     "name": "stderr",
     "output_type": "stream",
     "text": [
      "\n",
      "\n",
      "\n",
      "  4%|███▏                                                                             | 12/300 [00:27<09:59,  2.08s/it]"
     ]
    },
    {
     "name": "stdout",
     "output_type": "stream",
     "text": [
      "https://hh.ru/vacancy/37724755?query=продавец\n",
      "Статус: 200\n"
     ]
    },
    {
     "name": "stderr",
     "output_type": "stream",
     "text": [
      "\n",
      "\n",
      "\n",
      "  4%|███▌                                                                             | 13/300 [00:31<11:54,  2.49s/it]"
     ]
    },
    {
     "name": "stdout",
     "output_type": "stream",
     "text": [
      "https://hh.ru/vacancy/37601249?query=продавец\n",
      "Статус: 200\n"
     ]
    },
    {
     "name": "stderr",
     "output_type": "stream",
     "text": [
      "\n",
      "\n",
      "\n",
      "  5%|███▊                                                                             | 14/300 [00:34<13:18,  2.79s/it]"
     ]
    },
    {
     "name": "stdout",
     "output_type": "stream",
     "text": [
      "https://hh.ru/vacancy/35169216?query=продавец\n",
      "Статус: 200\n"
     ]
    },
    {
     "name": "stderr",
     "output_type": "stream",
     "text": [
      "\n",
      "\n",
      "\n",
      "  5%|████                                                                             | 15/300 [00:36<11:19,  2.38s/it]"
     ]
    },
    {
     "name": "stdout",
     "output_type": "stream",
     "text": [
      "https://hh.ru/vacancy/37491993?query=продавец\n",
      "Статус: 200\n"
     ]
    },
    {
     "name": "stderr",
     "output_type": "stream",
     "text": [
      "\n",
      "\n",
      "\n",
      "  5%|████▎                                                                            | 16/300 [00:37<09:53,  2.09s/it]"
     ]
    },
    {
     "name": "stdout",
     "output_type": "stream",
     "text": [
      "https://hh.ru/vacancy/36627454?query=продавец\n",
      "Статус: 200\n"
     ]
    },
    {
     "name": "stderr",
     "output_type": "stream",
     "text": [
      "\n",
      "\n",
      "\n",
      "  6%|████▌                                                                            | 17/300 [00:41<11:58,  2.54s/it]"
     ]
    },
    {
     "name": "stdout",
     "output_type": "stream",
     "text": [
      "https://hh.ru/vacancy/36706260?query=продавец\n",
      "Статус: 200\n"
     ]
    },
    {
     "name": "stderr",
     "output_type": "stream",
     "text": [
      "\n",
      "\n",
      "\n",
      "  6%|████▊                                                                            | 18/300 [00:44<13:15,  2.82s/it]"
     ]
    },
    {
     "name": "stdout",
     "output_type": "stream",
     "text": [
      "https://hh.ru/vacancy/37246758?query=продавец\n",
      "Статус: 200\n"
     ]
    },
    {
     "name": "stderr",
     "output_type": "stream",
     "text": [
      "\n",
      "\n",
      "\n",
      "  6%|█████▏                                                                           | 19/300 [00:46<11:15,  2.40s/it]"
     ]
    },
    {
     "name": "stdout",
     "output_type": "stream",
     "text": [
      "https://hh.ru/vacancy/37583639?query=продавец\n",
      "Статус: 200\n"
     ]
    },
    {
     "name": "stderr",
     "output_type": "stream",
     "text": [
      "\n",
      "\n",
      "\n",
      "  7%|█████▍                                                                           | 20/300 [00:47<09:53,  2.12s/it]"
     ]
    },
    {
     "name": "stdout",
     "output_type": "stream",
     "text": [
      "https://hh.ru/vacancy/37498885?query=продавец\n",
      "Статус: 200\n"
     ]
    },
    {
     "name": "stderr",
     "output_type": "stream",
     "text": [
      "\n",
      "\n",
      "\n",
      "  7%|█████▋                                                                           | 21/300 [00:51<11:53,  2.56s/it]"
     ]
    },
    {
     "name": "stdout",
     "output_type": "stream",
     "text": [
      "https://hh.ru/vacancy/37436591?query=продавец\n",
      "Статус: 200\n"
     ]
    },
    {
     "name": "stderr",
     "output_type": "stream",
     "text": [
      "\n",
      "\n",
      "\n",
      "  7%|█████▉                                                                           | 22/300 [00:54<13:09,  2.84s/it]"
     ]
    },
    {
     "name": "stdout",
     "output_type": "stream",
     "text": [
      "https://hh.ru/vacancy/37589002?query=продавец\n",
      "Статус: 200\n"
     ]
    },
    {
     "name": "stderr",
     "output_type": "stream",
     "text": [
      "\n",
      "\n",
      "\n",
      "  8%|██████▏                                                                          | 23/300 [00:58<14:14,  3.09s/it]"
     ]
    },
    {
     "name": "stdout",
     "output_type": "stream",
     "text": [
      "https://hh.ru/vacancy/36469098?query=продавец\n",
      "Статус: 200\n"
     ]
    },
    {
     "name": "stderr",
     "output_type": "stream",
     "text": [
      "\n",
      "\n",
      "\n",
      "  8%|██████▍                                                                          | 24/300 [00:59<12:09,  2.64s/it]"
     ]
    },
    {
     "name": "stdout",
     "output_type": "stream",
     "text": [
      "https://hh.ru/vacancy/37561372?query=продавец\n",
      "Статус: 200\n"
     ]
    },
    {
     "name": "stderr",
     "output_type": "stream",
     "text": [
      "\n",
      "\n",
      "\n",
      "  8%|██████▊                                                                          | 25/300 [01:01<10:28,  2.29s/it]"
     ]
    },
    {
     "name": "stdout",
     "output_type": "stream",
     "text": [
      "https://hh.ru/vacancy/37494616?query=продавец\n",
      "Статус: 200\n"
     ]
    },
    {
     "name": "stderr",
     "output_type": "stream",
     "text": [
      "\n",
      "\n",
      "\n",
      "  9%|███████                                                                          | 26/300 [01:03<10:42,  2.35s/it]"
     ]
    },
    {
     "name": "stdout",
     "output_type": "stream",
     "text": [
      "https://hh.ru/vacancy/37668466?query=продавец\n",
      "Статус: 200\n"
     ]
    },
    {
     "name": "stderr",
     "output_type": "stream",
     "text": [
      "\n",
      "\n",
      "\n",
      "  9%|███████▎                                                                         | 27/300 [01:07<12:06,  2.66s/it]"
     ]
    },
    {
     "name": "stdout",
     "output_type": "stream",
     "text": [
      "https://hh.ru/vacancy/36708651?query=продавец\n",
      "Статус: 200\n"
     ]
    },
    {
     "name": "stderr",
     "output_type": "stream",
     "text": [
      "\n",
      "\n",
      "\n",
      "  9%|███████▌                                                                         | 28/300 [01:08<10:27,  2.31s/it]"
     ]
    },
    {
     "name": "stdout",
     "output_type": "stream",
     "text": [
      "https://hh.ru/vacancy/37625435?query=продавец\n",
      "Статус: 200\n"
     ]
    },
    {
     "name": "stderr",
     "output_type": "stream",
     "text": [
      "\n",
      "\n",
      "\n",
      " 10%|███████▊                                                                         | 29/300 [01:10<09:16,  2.05s/it]"
     ]
    },
    {
     "name": "stdout",
     "output_type": "stream",
     "text": [
      "https://hh.ru/vacancy/37574874?query=продавец\n",
      "Статус: 200\n"
     ]
    },
    {
     "name": "stderr",
     "output_type": "stream",
     "text": [
      "\n",
      "\n",
      "\n",
      " 10%|████████                                                                         | 30/300 [01:12<09:49,  2.18s/it]"
     ]
    },
    {
     "name": "stdout",
     "output_type": "stream",
     "text": [
      "https://hh.ru/vacancy/37325355?query=продавец\n",
      "Статус: 200\n"
     ]
    },
    {
     "name": "stderr",
     "output_type": "stream",
     "text": [
      "\n",
      "\n",
      "\n",
      " 10%|████████▎                                                                        | 31/300 [01:16<11:26,  2.55s/it]"
     ]
    },
    {
     "name": "stdout",
     "output_type": "stream",
     "text": [
      "https://hh.ru/vacancy/37499248?query=продавец\n",
      "Статус: 200\n"
     ]
    },
    {
     "name": "stderr",
     "output_type": "stream",
     "text": [
      "\n",
      "\n",
      "\n",
      " 11%|████████▋                                                                        | 32/300 [01:17<09:52,  2.21s/it]"
     ]
    },
    {
     "name": "stdout",
     "output_type": "stream",
     "text": [
      "https://hh.ru/vacancy/30386110?query=продавец\n",
      "Статус: 200\n"
     ]
    },
    {
     "name": "stderr",
     "output_type": "stream",
     "text": [
      "\n",
      "\n",
      "\n",
      " 11%|████████▉                                                                        | 33/300 [01:18<08:47,  1.97s/it]"
     ]
    },
    {
     "name": "stdout",
     "output_type": "stream",
     "text": [
      "https://hh.ru/vacancy/37409279?query=продавец\n",
      "Статус: 200\n"
     ]
    },
    {
     "name": "stderr",
     "output_type": "stream",
     "text": [
      "\n",
      "\n",
      "\n",
      " 11%|█████████▏                                                                       | 34/300 [01:21<09:36,  2.17s/it]"
     ]
    },
    {
     "name": "stdout",
     "output_type": "stream",
     "text": [
      "https://hh.ru/vacancy/37585521?query=продавец\n",
      "Статус: 200\n"
     ]
    },
    {
     "name": "stderr",
     "output_type": "stream",
     "text": [
      "\n",
      "\n",
      "\n",
      " 12%|█████████▍                                                                       | 35/300 [01:25<11:19,  2.56s/it]"
     ]
    },
    {
     "name": "stdout",
     "output_type": "stream",
     "text": [
      "https://hh.ru/vacancy/36466702?query=продавец\n",
      "Статус: 200\n"
     ]
    },
    {
     "name": "stderr",
     "output_type": "stream",
     "text": [
      "\n",
      "\n",
      "\n",
      " 12%|█████████▋                                                                       | 36/300 [01:26<09:49,  2.23s/it]"
     ]
    },
    {
     "name": "stdout",
     "output_type": "stream",
     "text": [
      "https://hh.ru/vacancy/37640042?query=продавец\n",
      "Статус: 200\n"
     ]
    },
    {
     "name": "stderr",
     "output_type": "stream",
     "text": [
      "\n",
      "\n",
      "\n",
      " 12%|█████████▉                                                                       | 37/300 [01:28<10:07,  2.31s/it]"
     ]
    },
    {
     "name": "stdout",
     "output_type": "stream",
     "text": [
      "https://hh.ru/vacancy/37486090?query=продавец\n",
      "Статус: 200\n"
     ]
    },
    {
     "name": "stderr",
     "output_type": "stream",
     "text": [
      "\n",
      "\n",
      "\n",
      " 13%|██████████▎                                                                      | 38/300 [01:31<10:12,  2.34s/it]"
     ]
    },
    {
     "name": "stdout",
     "output_type": "stream",
     "text": [
      "https://hh.ru/vacancy/37406900?query=продавец\n",
      "Статус: 200\n"
     ]
    },
    {
     "name": "stderr",
     "output_type": "stream",
     "text": [
      "\n",
      "\n",
      "\n",
      " 13%|██████████▌                                                                      | 39/300 [01:34<11:46,  2.71s/it]"
     ]
    },
    {
     "name": "stdout",
     "output_type": "stream",
     "text": [
      "https://hh.ru/vacancy/37636938?query=продавец\n",
      "Статус: 200\n"
     ]
    },
    {
     "name": "stderr",
     "output_type": "stream",
     "text": [
      "\n",
      "\n",
      "\n",
      " 13%|██████████▊                                                                      | 40/300 [01:38<12:41,  2.93s/it]"
     ]
    },
    {
     "name": "stdout",
     "output_type": "stream",
     "text": [
      "https://hh.ru/vacancy/37562434?query=продавец\n",
      "Статус: 200\n"
     ]
    },
    {
     "name": "stderr",
     "output_type": "stream",
     "text": [
      "\n",
      "\n",
      "\n",
      " 14%|███████████                                                                      | 41/300 [01:39<10:40,  2.47s/it]"
     ]
    },
    {
     "name": "stdout",
     "output_type": "stream",
     "text": [
      "https://hh.ru/vacancy/37616815?query=продавец\n",
      "Статус: 200\n"
     ]
    },
    {
     "name": "stderr",
     "output_type": "stream",
     "text": [
      "\n",
      "\n",
      "\n",
      " 14%|███████████▎                                                                     | 42/300 [01:42<10:39,  2.48s/it]"
     ]
    },
    {
     "name": "stdout",
     "output_type": "stream",
     "text": [
      "https://hh.ru/vacancy/36469237?query=продавец\n",
      "Статус: 200\n"
     ]
    },
    {
     "name": "stderr",
     "output_type": "stream",
     "text": [
      "\n",
      "\n",
      "\n",
      " 14%|███████████▌                                                                     | 43/300 [01:45<11:57,  2.79s/it]"
     ]
    },
    {
     "name": "stdout",
     "output_type": "stream",
     "text": [
      "https://hh.ru/vacancy/36467192?query=продавец\n",
      "Статус: 200\n"
     ]
    },
    {
     "name": "stderr",
     "output_type": "stream",
     "text": [
      "\n",
      "\n",
      "\n",
      " 15%|███████████▉                                                                     | 44/300 [01:47<10:24,  2.44s/it]"
     ]
    },
    {
     "name": "stdout",
     "output_type": "stream",
     "text": [
      "https://hh.ru/vacancy/37278065?query=продавец\n",
      "Статус: 200\n"
     ]
    },
    {
     "name": "stderr",
     "output_type": "stream",
     "text": [
      "\n",
      "\n",
      "\n",
      " 15%|████████████▏                                                                    | 45/300 [01:50<11:42,  2.75s/it]"
     ]
    },
    {
     "name": "stdout",
     "output_type": "stream",
     "text": [
      "https://hh.ru/vacancy/36910962?query=продавец\n",
      "Статус: 200\n"
     ]
    },
    {
     "name": "stderr",
     "output_type": "stream",
     "text": [
      "\n",
      "\n",
      "\n",
      " 15%|████████████▍                                                                    | 46/300 [01:52<10:08,  2.39s/it]"
     ]
    },
    {
     "name": "stdout",
     "output_type": "stream",
     "text": [
      "https://hh.ru/vacancy/37673975?query=продавец\n",
      "Статус: 200\n"
     ]
    },
    {
     "name": "stderr",
     "output_type": "stream",
     "text": [
      "\n",
      "\n",
      "\n",
      " 16%|████████████▋                                                                    | 47/300 [01:55<10:15,  2.43s/it]"
     ]
    },
    {
     "name": "stdout",
     "output_type": "stream",
     "text": [
      "https://hh.ru/vacancy/37533378?query=продавец\n",
      "Статус: 200\n"
     ]
    },
    {
     "name": "stderr",
     "output_type": "stream",
     "text": [
      "\n",
      "\n",
      "\n",
      " 16%|████████████▉                                                                    | 48/300 [01:57<10:21,  2.47s/it]"
     ]
    },
    {
     "name": "stdout",
     "output_type": "stream",
     "text": [
      "https://hh.ru/vacancy/37573317?query=продавец\n",
      "Статус: 200\n"
     ]
    },
    {
     "name": "stderr",
     "output_type": "stream",
     "text": [
      "\n",
      "\n",
      "\n",
      " 16%|█████████████▏                                                                   | 49/300 [01:58<08:54,  2.13s/it]"
     ]
    },
    {
     "name": "stdout",
     "output_type": "stream",
     "text": [
      "https://hh.ru/vacancy/37703286?query=продавец\n",
      "Статус: 200\n"
     ]
    },
    {
     "name": "stderr",
     "output_type": "stream",
     "text": [
      "\n",
      "\n",
      "\n",
      " 17%|█████████████▌                                                                   | 50/300 [02:01<09:14,  2.22s/it]"
     ]
    },
    {
     "name": "stdout",
     "output_type": "stream",
     "text": [
      "https://hh.ru/vacancy/36706088?query=продавец\n",
      "Статус: 200\n"
     ]
    },
    {
     "name": "stderr",
     "output_type": "stream",
     "text": [
      "\n",
      "\n",
      "\n",
      " 17%|█████████████▊                                                                   | 51/300 [02:04<10:42,  2.58s/it]"
     ]
    },
    {
     "name": "stdout",
     "output_type": "stream",
     "text": [
      "https://hh.ru/vacancy/37575065?query=продавец\n",
      "Статус: 200\n"
     ]
    },
    {
     "name": "stderr",
     "output_type": "stream",
     "text": [
      "\n",
      "\n",
      "\n",
      " 17%|██████████████                                                                   | 52/300 [02:08<11:50,  2.87s/it]"
     ]
    },
    {
     "name": "stdout",
     "output_type": "stream",
     "text": [
      "https://hh.ru/vacancy/37576466?query=продавец\n",
      "Статус: 200\n"
     ]
    },
    {
     "name": "stderr",
     "output_type": "stream",
     "text": [
      "\n",
      "\n",
      "\n",
      " 18%|██████████████▎                                                                  | 53/300 [02:10<11:19,  2.75s/it]"
     ]
    },
    {
     "name": "stdout",
     "output_type": "stream",
     "text": [
      "https://hh.ru/vacancy/37341192?query=продавец\n",
      "Статус: 200\n"
     ]
    },
    {
     "name": "stderr",
     "output_type": "stream",
     "text": [
      "\n",
      "\n",
      "\n",
      " 18%|██████████████▌                                                                  | 54/300 [02:13<10:54,  2.66s/it]"
     ]
    },
    {
     "name": "stdout",
     "output_type": "stream",
     "text": [
      "https://hh.ru/vacancy/37533230?query=продавец\n",
      "Статус: 200\n"
     ]
    },
    {
     "name": "stderr",
     "output_type": "stream",
     "text": [
      "\n",
      "\n",
      "\n",
      " 18%|██████████████▊                                                                  | 55/300 [02:16<11:44,  2.88s/it]"
     ]
    },
    {
     "name": "stdout",
     "output_type": "stream",
     "text": [
      "https://hh.ru/vacancy/36803340?query=продавец\n",
      "Статус: 200\n"
     ]
    },
    {
     "name": "stderr",
     "output_type": "stream",
     "text": [
      "\n",
      "\n",
      "\n",
      " 19%|███████████████                                                                  | 56/300 [02:18<09:59,  2.46s/it]"
     ]
    },
    {
     "name": "stdout",
     "output_type": "stream",
     "text": [
      "https://hh.ru/vacancy/36467612?query=продавец\n",
      "Статус: 200\n"
     ]
    },
    {
     "name": "stderr",
     "output_type": "stream",
     "text": [
      "\n",
      "\n",
      "\n",
      " 19%|███████████████▍                                                                 | 57/300 [02:20<10:18,  2.55s/it]"
     ]
    },
    {
     "name": "stdout",
     "output_type": "stream",
     "text": [
      "https://hh.ru/vacancy/36935315?query=продавец\n",
      "Статус: 200\n"
     ]
    },
    {
     "name": "stderr",
     "output_type": "stream",
     "text": [
      "\n",
      "\n",
      "\n",
      " 19%|███████████████▋                                                                 | 58/300 [02:22<08:55,  2.21s/it]"
     ]
    },
    {
     "name": "stdout",
     "output_type": "stream",
     "text": [
      "https://hh.ru/vacancy/37145758?query=продавец\n",
      "Статус: 200\n"
     ]
    },
    {
     "name": "stderr",
     "output_type": "stream",
     "text": [
      "\n",
      "\n",
      "\n",
      " 20%|███████████████▉                                                                 | 59/300 [02:23<07:56,  1.98s/it]"
     ]
    },
    {
     "name": "stdout",
     "output_type": "stream",
     "text": [
      "https://hh.ru/vacancy/37371798?query=продавец\n",
      "Статус: 200\n"
     ]
    },
    {
     "name": "stderr",
     "output_type": "stream",
     "text": [
      "\n",
      "\n",
      "\n",
      " 20%|████████████████▏                                                                | 60/300 [02:25<07:20,  1.83s/it]"
     ]
    },
    {
     "name": "stdout",
     "output_type": "stream",
     "text": [
      "https://hh.ru/vacancy/37666379?query=продавец\n",
      "Статус: 200\n"
     ]
    },
    {
     "name": "stderr",
     "output_type": "stream",
     "text": [
      "\n",
      "\n",
      "\n",
      " 20%|████████████████▍                                                                | 61/300 [02:26<06:55,  1.74s/it]"
     ]
    },
    {
     "name": "stdout",
     "output_type": "stream",
     "text": [
      "https://hh.ru/vacancy/37656765?query=продавец\n",
      "Статус: 200\n"
     ]
    },
    {
     "name": "stderr",
     "output_type": "stream",
     "text": [
      "\n",
      "\n",
      "\n",
      " 21%|████████████████▋                                                                | 62/300 [02:28<06:33,  1.65s/it]"
     ]
    },
    {
     "name": "stdout",
     "output_type": "stream",
     "text": [
      "https://hh.ru/vacancy/37597044?query=продавец\n",
      "Статус: 200\n"
     ]
    },
    {
     "name": "stderr",
     "output_type": "stream",
     "text": [
      "\n",
      "\n",
      "\n",
      " 21%|█████████████████                                                                | 63/300 [02:29<06:13,  1.58s/it]"
     ]
    },
    {
     "name": "stdout",
     "output_type": "stream",
     "text": [
      "https://hh.ru/vacancy/37360730?query=продавец\n",
      "Статус: 200\n"
     ]
    },
    {
     "name": "stderr",
     "output_type": "stream",
     "text": [
      "\n",
      "\n",
      "\n",
      " 21%|█████████████████▎                                                               | 64/300 [02:32<08:20,  2.12s/it]"
     ]
    },
    {
     "name": "stdout",
     "output_type": "stream",
     "text": [
      "https://hh.ru/vacancy/37558963?query=продавец\n",
      "Статус: 200\n"
     ]
    },
    {
     "name": "stderr",
     "output_type": "stream",
     "text": [
      "\n",
      "\n",
      "\n",
      " 22%|█████████████████▌                                                               | 65/300 [02:35<08:42,  2.23s/it]"
     ]
    },
    {
     "name": "stdout",
     "output_type": "stream",
     "text": [
      "https://hh.ru/vacancy/37584672?query=продавец\n",
      "Статус: 200\n"
     ]
    },
    {
     "name": "stderr",
     "output_type": "stream",
     "text": [
      "\n",
      "\n",
      "\n",
      " 22%|█████████████████▊                                                               | 66/300 [02:38<10:11,  2.61s/it]"
     ]
    },
    {
     "name": "stdout",
     "output_type": "stream",
     "text": [
      "https://hh.ru/vacancy/37336164?query=продавец\n",
      "Статус: 200\n"
     ]
    },
    {
     "name": "stderr",
     "output_type": "stream",
     "text": [
      "\n",
      "\n",
      "\n",
      " 22%|██████████████████                                                               | 67/300 [02:40<08:46,  2.26s/it]"
     ]
    },
    {
     "name": "stdout",
     "output_type": "stream",
     "text": [
      "https://hh.ru/vacancy/37318700?query=продавец\n",
      "Статус: 200\n"
     ]
    },
    {
     "name": "stderr",
     "output_type": "stream",
     "text": [
      "\n",
      "\n",
      "\n",
      " 23%|██████████████████▎                                                              | 68/300 [02:43<10:07,  2.62s/it]"
     ]
    },
    {
     "name": "stdout",
     "output_type": "stream",
     "text": [
      "https://hh.ru/vacancy/36113748?query=продавец\n",
      "Статус: 200\n"
     ]
    },
    {
     "name": "stderr",
     "output_type": "stream",
     "text": [
      "\n",
      "\n",
      "\n",
      " 23%|██████████████████▋                                                              | 69/300 [02:45<08:41,  2.26s/it]"
     ]
    },
    {
     "name": "stdout",
     "output_type": "stream",
     "text": [
      "https://hh.ru/vacancy/37531486?query=продавец\n",
      "Статус: 200\n"
     ]
    },
    {
     "name": "stderr",
     "output_type": "stream",
     "text": [
      "\n",
      "\n",
      "\n",
      " 23%|██████████████████▉                                                              | 70/300 [02:46<07:45,  2.02s/it]"
     ]
    },
    {
     "name": "stdout",
     "output_type": "stream",
     "text": [
      "https://hh.ru/vacancy/37505226?query=продавец\n",
      "Статус: 200\n"
     ]
    },
    {
     "name": "stderr",
     "output_type": "stream",
     "text": [
      "\n",
      "\n",
      "\n",
      " 24%|███████████████████▏                                                             | 71/300 [02:50<09:24,  2.46s/it]"
     ]
    },
    {
     "name": "stdout",
     "output_type": "stream",
     "text": [
      "https://hh.ru/vacancy/37629113?query=продавец\n",
      "Статус: 200\n"
     ]
    },
    {
     "name": "stderr",
     "output_type": "stream",
     "text": [
      "\n",
      "\n",
      "\n",
      " 24%|███████████████████▍                                                             | 72/300 [02:51<08:11,  2.16s/it]"
     ]
    },
    {
     "name": "stdout",
     "output_type": "stream",
     "text": [
      "https://hh.ru/vacancy/37724555?query=продавец\n",
      "Статус: 200\n"
     ]
    },
    {
     "name": "stderr",
     "output_type": "stream",
     "text": [
      "\n",
      "\n",
      "\n",
      " 24%|███████████████████▋                                                             | 73/300 [02:53<07:24,  1.96s/it]"
     ]
    },
    {
     "name": "stdout",
     "output_type": "stream",
     "text": [
      "https://hh.ru/vacancy/36927060?query=продавец\n",
      "Статус: 200\n"
     ]
    },
    {
     "name": "stderr",
     "output_type": "stream",
     "text": [
      "\n",
      "\n",
      "\n",
      " 25%|███████████████████▉                                                             | 74/300 [02:55<08:01,  2.13s/it]"
     ]
    },
    {
     "name": "stdout",
     "output_type": "stream",
     "text": [
      "https://hh.ru/vacancy/37411832?query=продавец\n",
      "Статус: 200\n"
     ]
    },
    {
     "name": "stderr",
     "output_type": "stream",
     "text": [
      "\n",
      "\n",
      "\n",
      " 25%|████████████████████▎                                                            | 75/300 [02:58<08:19,  2.22s/it]"
     ]
    },
    {
     "name": "stdout",
     "output_type": "stream",
     "text": [
      "https://hh.ru/vacancy/37651978?query=продавец\n",
      "Статус: 200\n"
     ]
    },
    {
     "name": "stderr",
     "output_type": "stream",
     "text": [
      "\n",
      "\n",
      "\n",
      " 25%|████████████████████▌                                                            | 76/300 [02:59<07:34,  2.03s/it]"
     ]
    },
    {
     "name": "stdout",
     "output_type": "stream",
     "text": [
      "https://hh.ru/vacancy/36448912?query=продавец\n",
      "Статус: 200\n"
     ]
    },
    {
     "name": "stderr",
     "output_type": "stream",
     "text": [
      "\n",
      "\n",
      "\n",
      " 26%|████████████████████▊                                                            | 77/300 [03:03<09:05,  2.45s/it]"
     ]
    },
    {
     "name": "stdout",
     "output_type": "stream",
     "text": [
      "https://hh.ru/vacancy/37504605?query=продавец\n",
      "Статус: 200\n"
     ]
    },
    {
     "name": "stderr",
     "output_type": "stream",
     "text": [
      "\n",
      "\n",
      "\n",
      " 26%|█████████████████████                                                            | 78/300 [03:06<10:07,  2.73s/it]"
     ]
    },
    {
     "name": "stdout",
     "output_type": "stream",
     "text": [
      "https://hh.ru/vacancy/37654697?query=продавец\n",
      "Статус: 200\n"
     ]
    },
    {
     "name": "stderr",
     "output_type": "stream",
     "text": [
      "\n",
      "\n",
      "\n",
      " 26%|█████████████████████▎                                                           | 79/300 [03:08<09:40,  2.63s/it]"
     ]
    },
    {
     "name": "stdout",
     "output_type": "stream",
     "text": [
      "https://hh.ru/vacancy/36955568?query=продавец\n",
      "Статус: 200\n"
     ]
    },
    {
     "name": "stderr",
     "output_type": "stream",
     "text": [
      "\n",
      "\n",
      "\n",
      " 27%|█████████████████████▌                                                           | 80/300 [03:12<10:31,  2.87s/it]"
     ]
    },
    {
     "name": "stdout",
     "output_type": "stream",
     "text": [
      "https://hh.ru/vacancy/37651959?query=продавец\n",
      "Статус: 200\n"
     ]
    },
    {
     "name": "stderr",
     "output_type": "stream",
     "text": [
      "\n",
      "\n",
      "\n",
      " 27%|█████████████████████▊                                                           | 81/300 [03:15<11:02,  3.03s/it]"
     ]
    },
    {
     "name": "stdout",
     "output_type": "stream",
     "text": [
      "https://hh.ru/vacancy/37582072?query=продавец\n",
      "Статус: 200\n"
     ]
    },
    {
     "name": "stderr",
     "output_type": "stream",
     "text": [
      "\n",
      "\n",
      "\n",
      " 27%|██████████████████████▏                                                          | 82/300 [03:18<10:19,  2.84s/it]"
     ]
    },
    {
     "name": "stdout",
     "output_type": "stream",
     "text": [
      "https://hh.ru/vacancy/36912915?query=продавец\n",
      "Статус: 200\n"
     ]
    },
    {
     "name": "stderr",
     "output_type": "stream",
     "text": [
      "\n",
      "\n",
      "\n",
      " 28%|██████████████████████▍                                                          | 83/300 [03:20<09:54,  2.74s/it]"
     ]
    },
    {
     "name": "stdout",
     "output_type": "stream",
     "text": [
      "https://hh.ru/vacancy/35456902?query=продавец\n",
      "Статус: 200\n"
     ]
    },
    {
     "name": "stderr",
     "output_type": "stream",
     "text": [
      "\n",
      "\n",
      "\n",
      " 28%|██████████████████████▋                                                          | 84/300 [03:22<08:51,  2.46s/it]"
     ]
    },
    {
     "name": "stdout",
     "output_type": "stream",
     "text": [
      "https://hh.ru/vacancy/37599942?query=продавец\n",
      "Статус: 200\n"
     ]
    },
    {
     "name": "stderr",
     "output_type": "stream",
     "text": [
      "\n",
      "\n",
      "\n",
      " 28%|██████████████████████▉                                                          | 85/300 [03:25<08:57,  2.50s/it]"
     ]
    },
    {
     "name": "stdout",
     "output_type": "stream",
     "text": [
      "https://hh.ru/vacancy/37016469?query=продавец\n",
      "Статус: 200\n"
     ]
    },
    {
     "name": "stderr",
     "output_type": "stream",
     "text": [
      "\n",
      "\n",
      "\n",
      " 29%|███████████████████████▏                                                         | 86/300 [03:26<07:46,  2.18s/it]"
     ]
    },
    {
     "name": "stdout",
     "output_type": "stream",
     "text": [
      "https://hh.ru/vacancy/37731364?query=продавец\n",
      "Статус: 200\n"
     ]
    },
    {
     "name": "stderr",
     "output_type": "stream",
     "text": [
      "\n",
      "\n",
      "\n",
      " 29%|███████████████████████▍                                                         | 87/300 [03:29<09:05,  2.56s/it]"
     ]
    },
    {
     "name": "stdout",
     "output_type": "stream",
     "text": [
      "https://hh.ru/vacancy/37284713?query=продавец\n",
      "Статус: 200\n"
     ]
    },
    {
     "name": "stderr",
     "output_type": "stream",
     "text": [
      "\n",
      "\n",
      "\n",
      " 29%|███████████████████████▊                                                         | 88/300 [03:33<09:57,  2.82s/it]"
     ]
    },
    {
     "name": "stdout",
     "output_type": "stream",
     "text": [
      "https://hh.ru/vacancy/36466109?query=продавец\n",
      "Статус: 200\n"
     ]
    },
    {
     "name": "stderr",
     "output_type": "stream",
     "text": [
      "\n",
      "\n",
      "\n",
      " 30%|████████████████████████                                                         | 89/300 [03:36<10:32,  3.00s/it]"
     ]
    },
    {
     "name": "stdout",
     "output_type": "stream",
     "text": [
      "https://hh.ru/vacancy/36761792?query=продавец\n",
      "Статус: 200\n"
     ]
    },
    {
     "name": "stderr",
     "output_type": "stream",
     "text": [
      "\n",
      "\n",
      "\n",
      " 30%|████████████████████████▎                                                        | 90/300 [03:39<10:05,  2.88s/it]"
     ]
    },
    {
     "name": "stdout",
     "output_type": "stream",
     "text": [
      "https://hh.ru/vacancy/37149276?query=продавец\n",
      "Статус: 200\n"
     ]
    },
    {
     "name": "stderr",
     "output_type": "stream",
     "text": [
      "\n",
      "\n",
      "\n",
      " 30%|████████████████████████▌                                                        | 91/300 [03:41<09:35,  2.76s/it]"
     ]
    },
    {
     "name": "stdout",
     "output_type": "stream",
     "text": [
      "https://hh.ru/vacancy/37343625?query=продавец\n",
      "Статус: 200\n"
     ]
    },
    {
     "name": "stderr",
     "output_type": "stream",
     "text": [
      "\n",
      "\n",
      "\n",
      " 31%|████████████████████████▊                                                        | 92/300 [03:44<09:24,  2.72s/it]"
     ]
    },
    {
     "name": "stdout",
     "output_type": "stream",
     "text": [
      "https://hh.ru/vacancy/37634150?query=продавец\n",
      "Статус: 200\n"
     ]
    },
    {
     "name": "stderr",
     "output_type": "stream",
     "text": [
      "\n",
      "\n",
      "\n",
      " 31%|█████████████████████████                                                        | 93/300 [03:46<08:12,  2.38s/it]"
     ]
    },
    {
     "name": "stdout",
     "output_type": "stream",
     "text": [
      "https://hh.ru/vacancy/37314882?query=продавец\n",
      "Статус: 200\n"
     ]
    },
    {
     "name": "stderr",
     "output_type": "stream",
     "text": [
      "\n",
      "\n",
      "\n",
      " 31%|█████████████████████████▍                                                       | 94/300 [03:49<09:18,  2.71s/it]"
     ]
    },
    {
     "name": "stdout",
     "output_type": "stream",
     "text": [
      "https://hh.ru/vacancy/36854325?query=продавец\n",
      "Статус: 200\n"
     ]
    },
    {
     "name": "stderr",
     "output_type": "stream",
     "text": [
      "\n",
      "\n",
      "\n",
      " 32%|█████████████████████████▋                                                       | 95/300 [03:52<09:59,  2.93s/it]"
     ]
    },
    {
     "name": "stdout",
     "output_type": "stream",
     "text": [
      "https://hh.ru/vacancy/36868314?query=продавец\n",
      "Статус: 200\n"
     ]
    },
    {
     "name": "stderr",
     "output_type": "stream",
     "text": [
      "\n",
      "\n",
      "\n",
      " 32%|█████████████████████████▉                                                       | 96/300 [03:55<09:29,  2.79s/it]"
     ]
    },
    {
     "name": "stdout",
     "output_type": "stream",
     "text": [
      "https://hh.ru/vacancy/37150325?query=продавец\n",
      "Статус: 200\n"
     ]
    },
    {
     "name": "stderr",
     "output_type": "stream",
     "text": [
      "\n",
      "\n",
      "\n",
      " 32%|██████████████████████████▏                                                      | 97/300 [03:58<10:07,  2.99s/it]"
     ]
    },
    {
     "name": "stdout",
     "output_type": "stream",
     "text": [
      "https://hh.ru/vacancy/37689664?query=продавец\n",
      "Статус: 200\n"
     ]
    },
    {
     "name": "stderr",
     "output_type": "stream",
     "text": [
      "\n",
      "\n",
      "\n",
      " 33%|██████████████████████████▍                                                      | 98/300 [04:01<09:29,  2.82s/it]"
     ]
    },
    {
     "name": "stdout",
     "output_type": "stream",
     "text": [
      "https://hh.ru/vacancy/37335980?query=продавец\n",
      "Статус: 200\n"
     ]
    },
    {
     "name": "stderr",
     "output_type": "stream",
     "text": [
      "\n",
      "\n",
      "\n",
      " 33%|██████████████████████████▋                                                      | 99/300 [04:03<09:04,  2.71s/it]"
     ]
    },
    {
     "name": "stdout",
     "output_type": "stream",
     "text": [
      "https://hh.ru/vacancy/37522566?query=продавец\n",
      "Статус: 200\n"
     ]
    },
    {
     "name": "stderr",
     "output_type": "stream",
     "text": [
      "\n",
      "\n",
      "\n",
      " 33%|██████████████████████████▋                                                     | 100/300 [04:07<09:55,  2.98s/it]"
     ]
    },
    {
     "name": "stdout",
     "output_type": "stream",
     "text": [
      "https://hh.ru/vacancy/37222956?query=продавец\n",
      "Статус: 200\n"
     ]
    },
    {
     "name": "stderr",
     "output_type": "stream",
     "text": [
      "\n",
      "\n",
      "\n",
      " 34%|██████████████████████████▉                                                     | 101/300 [04:09<09:20,  2.82s/it]"
     ]
    },
    {
     "name": "stdout",
     "output_type": "stream",
     "text": [
      "https://hh.ru/vacancy/37608536?query=продавец\n",
      "Статус: 200\n"
     ]
    },
    {
     "name": "stderr",
     "output_type": "stream",
     "text": [
      "\n",
      "\n",
      "\n",
      " 34%|███████████████████████████▏                                                    | 102/300 [04:13<10:01,  3.04s/it]"
     ]
    },
    {
     "name": "stdout",
     "output_type": "stream",
     "text": [
      "https://hh.ru/vacancy/36926808?query=продавец\n",
      "Статус: 200\n"
     ]
    },
    {
     "name": "stderr",
     "output_type": "stream",
     "text": [
      "\n",
      "\n",
      "\n",
      " 34%|███████████████████████████▍                                                    | 103/300 [04:16<10:31,  3.21s/it]"
     ]
    },
    {
     "name": "stdout",
     "output_type": "stream",
     "text": [
      "https://hh.ru/vacancy/36467797?query=продавец\n",
      "Статус: 200\n"
     ]
    },
    {
     "name": "stderr",
     "output_type": "stream",
     "text": [
      "\n",
      "\n",
      "\n",
      " 35%|███████████████████████████▋                                                    | 104/300 [04:18<08:47,  2.69s/it]"
     ]
    },
    {
     "name": "stdout",
     "output_type": "stream",
     "text": [
      "https://hh.ru/vacancy/36913197?query=продавец\n",
      "Статус: 200\n"
     ]
    },
    {
     "name": "stderr",
     "output_type": "stream",
     "text": [
      "\n",
      "\n",
      "\n",
      " 35%|████████████████████████████                                                    | 105/300 [04:20<08:31,  2.62s/it]"
     ]
    },
    {
     "name": "stdout",
     "output_type": "stream",
     "text": [
      "https://hh.ru/vacancy/37407812?query=продавец\n",
      "Статус: 200\n"
     ]
    },
    {
     "name": "stderr",
     "output_type": "stream",
     "text": [
      "\n",
      "\n",
      "\n",
      " 35%|████████████████████████████▎                                                   | 106/300 [04:22<07:27,  2.31s/it]"
     ]
    },
    {
     "name": "stdout",
     "output_type": "stream",
     "text": [
      "https://hh.ru/vacancy/37731447?query=продавец\n",
      "Статус: 200\n"
     ]
    },
    {
     "name": "stderr",
     "output_type": "stream",
     "text": [
      "\n",
      "\n",
      "\n",
      " 36%|████████████████████████████▌                                                   | 107/300 [04:24<07:34,  2.36s/it]"
     ]
    },
    {
     "name": "stdout",
     "output_type": "stream",
     "text": [
      "https://hh.ru/vacancy/37001722?query=продавец\n",
      "Статус: 200\n"
     ]
    },
    {
     "name": "stderr",
     "output_type": "stream",
     "text": [
      "\n",
      "\n",
      "\n",
      " 36%|████████████████████████████▊                                                   | 108/300 [04:26<06:53,  2.15s/it]"
     ]
    },
    {
     "name": "stdout",
     "output_type": "stream",
     "text": [
      "https://hh.ru/vacancy/36467303?query=продавец\n",
      "Статус: 200\n"
     ]
    },
    {
     "name": "stderr",
     "output_type": "stream",
     "text": [
      "\n",
      "\n",
      "\n",
      " 36%|█████████████████████████████                                                   | 109/300 [04:29<07:08,  2.25s/it]"
     ]
    },
    {
     "name": "stdout",
     "output_type": "stream",
     "text": [
      "https://hh.ru/vacancy/37662934?query=продавец\n",
      "Статус: 200\n"
     ]
    },
    {
     "name": "stderr",
     "output_type": "stream",
     "text": [
      "\n",
      "\n",
      "\n",
      " 37%|█████████████████████████████▎                                                  | 110/300 [04:32<08:12,  2.59s/it]"
     ]
    },
    {
     "name": "stdout",
     "output_type": "stream",
     "text": [
      "https://hh.ru/vacancy/37437250?query=продавец\n",
      "Статус: 200\n"
     ]
    },
    {
     "name": "stderr",
     "output_type": "stream",
     "text": [
      "\n",
      "\n",
      "\n",
      " 37%|█████████████████████████████▌                                                  | 111/300 [04:34<08:00,  2.54s/it]"
     ]
    },
    {
     "name": "stdout",
     "output_type": "stream",
     "text": [
      "https://hh.ru/vacancy/37167239?query=продавец\n",
      "Статус: 200\n"
     ]
    },
    {
     "name": "stderr",
     "output_type": "stream",
     "text": [
      "\n",
      "\n",
      "\n",
      " 37%|█████████████████████████████▊                                                  | 112/300 [04:37<07:55,  2.53s/it]"
     ]
    },
    {
     "name": "stdout",
     "output_type": "stream",
     "text": [
      "https://hh.ru/vacancy/37295941?query=продавец\n",
      "Статус: 200\n"
     ]
    },
    {
     "name": "stderr",
     "output_type": "stream",
     "text": [
      "\n",
      "\n",
      "\n",
      " 38%|██████████████████████████████▏                                                 | 113/300 [04:40<08:41,  2.79s/it]"
     ]
    },
    {
     "name": "stdout",
     "output_type": "stream",
     "text": [
      "https://hh.ru/vacancy/37722524?query=продавец\n",
      "Статус: 200\n"
     ]
    },
    {
     "name": "stderr",
     "output_type": "stream",
     "text": [
      "\n",
      "\n",
      "\n",
      " 38%|██████████████████████████████▍                                                 | 114/300 [04:43<08:17,  2.67s/it]"
     ]
    },
    {
     "name": "stdout",
     "output_type": "stream",
     "text": [
      "https://hh.ru/vacancy/37693208?query=продавец\n",
      "Статус: 200\n"
     ]
    },
    {
     "name": "stderr",
     "output_type": "stream",
     "text": [
      "\n",
      "\n",
      "\n",
      " 38%|██████████████████████████████▋                                                 | 115/300 [04:46<08:55,  2.89s/it]"
     ]
    },
    {
     "name": "stdout",
     "output_type": "stream",
     "text": [
      "https://hh.ru/vacancy/37184919?query=продавец\n",
      "Статус: 200\n"
     ]
    },
    {
     "name": "stderr",
     "output_type": "stream",
     "text": [
      "\n",
      "\n",
      "\n",
      " 39%|██████████████████████████████▉                                                 | 116/300 [04:50<09:20,  3.05s/it]"
     ]
    },
    {
     "name": "stdout",
     "output_type": "stream",
     "text": [
      "https://hh.ru/vacancy/37125777?query=продавец\n",
      "Статус: 200\n"
     ]
    },
    {
     "name": "stderr",
     "output_type": "stream",
     "text": [
      "\n",
      "\n",
      "\n",
      " 39%|███████████████████████████████▏                                                | 117/300 [04:51<07:53,  2.59s/it]"
     ]
    },
    {
     "name": "stdout",
     "output_type": "stream",
     "text": [
      "https://hh.ru/vacancy/37541186?query=продавец\n",
      "Статус: 200\n"
     ]
    },
    {
     "name": "stderr",
     "output_type": "stream",
     "text": [
      "\n",
      "\n",
      "\n",
      " 39%|███████████████████████████████▍                                                | 118/300 [04:54<07:46,  2.57s/it]"
     ]
    },
    {
     "name": "stdout",
     "output_type": "stream",
     "text": [
      "https://hh.ru/vacancy/37510570?query=продавец\n",
      "Статус: 200\n"
     ]
    },
    {
     "name": "stderr",
     "output_type": "stream",
     "text": [
      "\n",
      "\n",
      "\n",
      " 40%|███████████████████████████████▋                                                | 119/300 [04:57<08:33,  2.84s/it]"
     ]
    },
    {
     "name": "stdout",
     "output_type": "stream",
     "text": [
      "https://hh.ru/vacancy/36743303?query=продавец\n",
      "Статус: 200\n"
     ]
    },
    {
     "name": "stderr",
     "output_type": "stream",
     "text": [
      "\n",
      "\n",
      "\n",
      " 40%|████████████████████████████████                                                | 120/300 [04:58<07:15,  2.42s/it]"
     ]
    },
    {
     "name": "stdout",
     "output_type": "stream",
     "text": [
      "https://hh.ru/vacancy/37679502?query=продавец\n",
      "Статус: 200\n"
     ]
    },
    {
     "name": "stderr",
     "output_type": "stream",
     "text": [
      "\n",
      "\n",
      "\n",
      " 40%|████████████████████████████████▎                                               | 121/300 [05:02<08:10,  2.74s/it]"
     ]
    },
    {
     "name": "stdout",
     "output_type": "stream",
     "text": [
      "https://hh.ru/vacancy/36610430?query=продавец\n",
      "Статус: 200\n"
     ]
    },
    {
     "name": "stderr",
     "output_type": "stream",
     "text": [
      "\n",
      "\n",
      "\n",
      " 41%|████████████████████████████████▌                                               | 122/300 [05:06<08:55,  3.01s/it]"
     ]
    },
    {
     "name": "stdout",
     "output_type": "stream",
     "text": [
      "https://hh.ru/vacancy/36812861?query=продавец\n",
      "Статус: 200\n"
     ]
    },
    {
     "name": "stderr",
     "output_type": "stream",
     "text": [
      "\n",
      "\n",
      "\n",
      " 41%|████████████████████████████████▊                                               | 123/300 [05:07<07:31,  2.55s/it]"
     ]
    },
    {
     "name": "stdout",
     "output_type": "stream",
     "text": [
      "https://hh.ru/vacancy/37614883?query=продавец\n",
      "Статус: 200\n"
     ]
    },
    {
     "name": "stderr",
     "output_type": "stream",
     "text": [
      "\n",
      "\n",
      "\n",
      " 41%|█████████████████████████████████                                               | 124/300 [05:09<06:30,  2.22s/it]"
     ]
    },
    {
     "name": "stdout",
     "output_type": "stream",
     "text": [
      "https://hh.ru/vacancy/37541047?query=продавец\n",
      "Статус: 200\n"
     ]
    },
    {
     "name": "stderr",
     "output_type": "stream",
     "text": [
      "\n",
      "\n",
      "\n",
      " 42%|█████████████████████████████████▎                                              | 125/300 [05:10<05:51,  2.01s/it]"
     ]
    },
    {
     "name": "stdout",
     "output_type": "stream",
     "text": [
      "https://hh.ru/vacancy/37492364?query=продавец\n",
      "Статус: 200\n"
     ]
    },
    {
     "name": "stderr",
     "output_type": "stream",
     "text": [
      "\n",
      "\n",
      "\n",
      " 42%|█████████████████████████████████▌                                              | 126/300 [05:14<07:05,  2.44s/it]"
     ]
    },
    {
     "name": "stdout",
     "output_type": "stream",
     "text": [
      "https://hh.ru/vacancy/36468085?query=продавец\n",
      "Статус: 200\n"
     ]
    },
    {
     "name": "stderr",
     "output_type": "stream",
     "text": [
      "\n",
      "\n",
      "\n",
      " 42%|█████████████████████████████████▊                                              | 127/300 [05:15<06:16,  2.18s/it]"
     ]
    },
    {
     "name": "stdout",
     "output_type": "stream",
     "text": [
      "https://hh.ru/vacancy/36467581?query=продавец\n",
      "Статус: 200\n"
     ]
    },
    {
     "name": "stderr",
     "output_type": "stream",
     "text": [
      "\n",
      "\n",
      "\n",
      " 43%|██████████████████████████████████▏                                             | 128/300 [05:17<05:39,  1.97s/it]"
     ]
    },
    {
     "name": "stdout",
     "output_type": "stream",
     "text": [
      "https://hh.ru/vacancy/37401010?query=продавец\n",
      "Статус: 200\n"
     ]
    },
    {
     "name": "stderr",
     "output_type": "stream",
     "text": [
      "\n",
      "\n",
      "\n",
      " 43%|██████████████████████████████████▍                                             | 129/300 [05:19<06:01,  2.12s/it]"
     ]
    },
    {
     "name": "stdout",
     "output_type": "stream",
     "text": [
      "https://hh.ru/vacancy/36880065?query=продавец\n",
      "Статус: 200\n"
     ]
    },
    {
     "name": "stderr",
     "output_type": "stream",
     "text": [
      "\n",
      "\n",
      "\n",
      " 43%|██████████████████████████████████▋                                             | 130/300 [05:22<07:06,  2.51s/it]"
     ]
    },
    {
     "name": "stdout",
     "output_type": "stream",
     "text": [
      "https://hh.ru/vacancy/37742208?query=продавец\n",
      "Статус: 200\n"
     ]
    },
    {
     "name": "stderr",
     "output_type": "stream",
     "text": [
      "\n",
      "\n",
      "\n",
      " 44%|██████████████████████████████████▉                                             | 131/300 [05:24<06:08,  2.18s/it]"
     ]
    },
    {
     "name": "stdout",
     "output_type": "stream",
     "text": [
      "https://hh.ru/vacancy/36467832?query=продавец\n",
      "Статус: 200\n"
     ]
    },
    {
     "name": "stderr",
     "output_type": "stream",
     "text": [
      "\n",
      "\n",
      "\n",
      " 44%|███████████████████████████████████▏                                            | 132/300 [05:25<05:29,  1.96s/it]"
     ]
    },
    {
     "name": "stdout",
     "output_type": "stream",
     "text": [
      "https://hh.ru/vacancy/36602682?query=продавец\n",
      "Статус: 200\n"
     ]
    },
    {
     "name": "stderr",
     "output_type": "stream",
     "text": [
      "\n",
      "\n",
      "\n",
      " 44%|███████████████████████████████████▍                                            | 133/300 [05:28<05:53,  2.12s/it]"
     ]
    },
    {
     "name": "stdout",
     "output_type": "stream",
     "text": [
      "https://hh.ru/vacancy/37666503?query=продавец\n",
      "Статус: 403\n"
     ]
    },
    {
     "name": "stderr",
     "output_type": "stream",
     "text": [
      "\n",
      "\n",
      "\n",
      " 45%|███████████████████████████████████▋                                            | 134/300 [05:30<05:57,  2.16s/it]"
     ]
    },
    {
     "name": "stdout",
     "output_type": "stream",
     "text": [
      "https://hh.ru/vacancy/37474711?query=продавец\n",
      "Статус: 200\n"
     ]
    },
    {
     "name": "stderr",
     "output_type": "stream",
     "text": [
      "\n",
      "\n",
      "\n",
      " 45%|████████████████████████████████████                                            | 135/300 [05:32<06:05,  2.22s/it]"
     ]
    },
    {
     "name": "stdout",
     "output_type": "stream",
     "text": [
      "https://hh.ru/vacancy/37242164?query=продавец\n",
      "Статус: 200\n"
     ]
    },
    {
     "name": "stderr",
     "output_type": "stream",
     "text": [
      "\n",
      "\n",
      "\n",
      " 45%|████████████████████████████████████▎                                           | 136/300 [05:34<05:22,  1.97s/it]"
     ]
    },
    {
     "name": "stdout",
     "output_type": "stream",
     "text": [
      "https://hh.ru/vacancy/37657914?query=продавец\n",
      "Статус: 200\n"
     ]
    },
    {
     "name": "stderr",
     "output_type": "stream",
     "text": [
      "\n",
      "\n",
      "\n",
      " 46%|████████████████████████████████████▌                                           | 137/300 [05:35<04:58,  1.83s/it]"
     ]
    },
    {
     "name": "stdout",
     "output_type": "stream",
     "text": [
      "https://hh.ru/vacancy/36985790?query=продавец\n",
      "Статус: 200\n"
     ]
    },
    {
     "name": "stderr",
     "output_type": "stream",
     "text": [
      "\n",
      "\n",
      "\n",
      " 46%|████████████████████████████████████▊                                           | 138/300 [05:38<05:27,  2.02s/it]"
     ]
    },
    {
     "name": "stdout",
     "output_type": "stream",
     "text": [
      "https://hh.ru/vacancy/36993022?query=продавец\n",
      "Статус: 200\n"
     ]
    },
    {
     "name": "stderr",
     "output_type": "stream",
     "text": [
      "\n",
      "\n",
      "\n",
      " 46%|█████████████████████████████████████                                           | 139/300 [05:39<05:07,  1.91s/it]"
     ]
    },
    {
     "name": "stdout",
     "output_type": "stream",
     "text": [
      "https://hh.ru/vacancy/37334068?query=продавец\n",
      "Статус: 200\n"
     ]
    },
    {
     "name": "stderr",
     "output_type": "stream",
     "text": [
      "\n",
      "\n",
      "\n",
      " 47%|█████████████████████████████████████▎                                          | 140/300 [05:41<04:47,  1.79s/it]"
     ]
    },
    {
     "name": "stdout",
     "output_type": "stream",
     "text": [
      "https://hh.ru/vacancy/37427526?query=продавец\n",
      "Статус: 200\n"
     ]
    },
    {
     "name": "stderr",
     "output_type": "stream",
     "text": [
      "\n",
      "\n",
      "\n",
      " 47%|█████████████████████████████████████▌                                          | 141/300 [05:44<06:02,  2.28s/it]"
     ]
    },
    {
     "name": "stdout",
     "output_type": "stream",
     "text": [
      "https://hh.ru/vacancy/36993619?query=продавец\n",
      "Статус: 200\n"
     ]
    },
    {
     "name": "stderr",
     "output_type": "stream",
     "text": [
      "\n",
      "\n",
      "\n",
      " 47%|█████████████████████████████████████▊                                          | 142/300 [05:46<05:22,  2.04s/it]"
     ]
    },
    {
     "name": "stdout",
     "output_type": "stream",
     "text": [
      "https://hh.ru/vacancy/37711531?query=продавец\n",
      "Статус: 200\n"
     ]
    },
    {
     "name": "stderr",
     "output_type": "stream",
     "text": [
      "\n",
      "\n",
      "\n",
      " 48%|██████████████████████████████████████▏                                         | 143/300 [05:49<06:28,  2.47s/it]"
     ]
    },
    {
     "name": "stdout",
     "output_type": "stream",
     "text": [
      "https://hh.ru/vacancy/37657814?query=продавец\n",
      "Статус: 200\n"
     ]
    },
    {
     "name": "stderr",
     "output_type": "stream",
     "text": [
      "\n",
      "\n",
      "\n",
      " 48%|██████████████████████████████████████▍                                         | 144/300 [05:51<05:34,  2.15s/it]"
     ]
    },
    {
     "name": "stdout",
     "output_type": "stream",
     "text": [
      "https://hh.ru/vacancy/36468404?query=продавец\n",
      "Статус: 200\n"
     ]
    },
    {
     "name": "stderr",
     "output_type": "stream",
     "text": [
      "\n",
      "\n",
      "\n",
      " 48%|██████████████████████████████████████▋                                         | 145/300 [05:52<05:05,  1.97s/it]"
     ]
    },
    {
     "name": "stdout",
     "output_type": "stream",
     "text": [
      "https://hh.ru/vacancy/37185540?query=продавец\n",
      "Статус: 200\n"
     ]
    },
    {
     "name": "stderr",
     "output_type": "stream",
     "text": [
      "\n",
      "\n",
      "\n",
      " 49%|██████████████████████████████████████▉                                         | 146/300 [05:55<05:28,  2.13s/it]"
     ]
    },
    {
     "name": "stdout",
     "output_type": "stream",
     "text": [
      "https://hh.ru/vacancy/37587917?query=продавец\n",
      "Статус: 200\n"
     ]
    },
    {
     "name": "stderr",
     "output_type": "stream",
     "text": [
      "\n",
      "\n",
      "\n",
      " 49%|███████████████████████████████████████▏                                        | 147/300 [05:57<05:41,  2.23s/it]"
     ]
    },
    {
     "name": "stdout",
     "output_type": "stream",
     "text": [
      "https://hh.ru/vacancy/37478128?query=продавец\n",
      "Статус: 200\n"
     ]
    },
    {
     "name": "stderr",
     "output_type": "stream",
     "text": [
      "\n",
      "\n",
      "\n",
      " 49%|███████████████████████████████████████▍                                        | 148/300 [06:00<05:47,  2.29s/it]"
     ]
    },
    {
     "name": "stdout",
     "output_type": "stream",
     "text": [
      "https://hh.ru/vacancy/35016201?query=продавец\n",
      "Статус: 200\n"
     ]
    },
    {
     "name": "stderr",
     "output_type": "stream",
     "text": [
      "\n",
      "\n",
      "\n",
      " 50%|███████████████████████████████████████▋                                        | 149/300 [06:03<06:41,  2.66s/it]"
     ]
    },
    {
     "name": "stdout",
     "output_type": "stream",
     "text": [
      "https://hh.ru/vacancy/37730358?query=продавец\n",
      "Статус: 200\n"
     ]
    },
    {
     "name": "stderr",
     "output_type": "stream",
     "text": [
      "\n",
      "\n",
      "\n",
      " 50%|████████████████████████████████████████                                        | 150/300 [06:05<05:42,  2.29s/it]"
     ]
    },
    {
     "name": "stdout",
     "output_type": "stream",
     "text": [
      "https://hh.ru/vacancy/35604738?query=продавец\n",
      "Статус: 200\n"
     ]
    },
    {
     "name": "stderr",
     "output_type": "stream",
     "text": [
      "\n",
      "\n",
      "\n",
      " 50%|████████████████████████████████████████▎                                       | 151/300 [06:06<05:08,  2.07s/it]"
     ]
    },
    {
     "name": "stdout",
     "output_type": "stream",
     "text": [
      "https://hh.ru/vacancy/37411501?query=продавец\n",
      "Статус: 200\n"
     ]
    },
    {
     "name": "stderr",
     "output_type": "stream",
     "text": [
      "\n",
      "\n",
      "\n",
      " 51%|████████████████████████████████████████▌                                       | 152/300 [06:08<05:19,  2.16s/it]"
     ]
    },
    {
     "name": "stdout",
     "output_type": "stream",
     "text": [
      "https://hh.ru/vacancy/37456429?query=продавец\n",
      "Статус: 200\n"
     ]
    },
    {
     "name": "stderr",
     "output_type": "stream",
     "text": [
      "\n",
      "\n",
      "\n",
      " 51%|████████████████████████████████████████▊                                       | 153/300 [06:11<05:30,  2.25s/it]"
     ]
    },
    {
     "name": "stdout",
     "output_type": "stream",
     "text": [
      "https://hh.ru/vacancy/37452397?query=продавец\n",
      "Статус: 200\n"
     ]
    },
    {
     "name": "stderr",
     "output_type": "stream",
     "text": [
      "\n",
      "\n",
      "\n",
      " 51%|█████████████████████████████████████████                                       | 154/300 [06:13<05:00,  2.06s/it]"
     ]
    },
    {
     "name": "stdout",
     "output_type": "stream",
     "text": [
      "https://hh.ru/vacancy/37738506?query=продавец\n",
      "Статус: 200\n"
     ]
    },
    {
     "name": "stderr",
     "output_type": "stream",
     "text": [
      "\n",
      "\n",
      "\n",
      " 52%|█████████████████████████████████████████▎                                      | 155/300 [06:16<06:04,  2.51s/it]"
     ]
    },
    {
     "name": "stdout",
     "output_type": "stream",
     "text": [
      "https://hh.ru/vacancy/37710786?query=продавец\n",
      "Статус: 200\n"
     ]
    },
    {
     "name": "stderr",
     "output_type": "stream",
     "text": [
      "\n",
      "\n",
      "\n",
      " 52%|█████████████████████████████████████████▌                                      | 156/300 [06:18<05:14,  2.19s/it]"
     ]
    },
    {
     "name": "stdout",
     "output_type": "stream",
     "text": [
      "https://hh.ru/vacancy/37413689?query=продавец\n",
      "Статус: 200\n"
     ]
    },
    {
     "name": "stderr",
     "output_type": "stream",
     "text": [
      "\n",
      "\n",
      "\n",
      " 52%|█████████████████████████████████████████▊                                      | 157/300 [06:21<06:04,  2.55s/it]"
     ]
    },
    {
     "name": "stdout",
     "output_type": "stream",
     "text": [
      "https://hh.ru/vacancy/36896005?query=продавец\n",
      "Статус: 200\n"
     ]
    },
    {
     "name": "stderr",
     "output_type": "stream",
     "text": [
      "\n",
      "\n",
      "\n",
      " 53%|██████████████████████████████████████████▏                                     | 158/300 [06:24<06:40,  2.82s/it]"
     ]
    },
    {
     "name": "stdout",
     "output_type": "stream",
     "text": [
      "https://hh.ru/vacancy/31920620?query=продавец\n",
      "Статус: 200\n"
     ]
    },
    {
     "name": "stderr",
     "output_type": "stream",
     "text": [
      "\n",
      "\n",
      "\n",
      " 53%|██████████████████████████████████████████▍                                     | 159/300 [06:28<07:05,  3.02s/it]"
     ]
    },
    {
     "name": "stdout",
     "output_type": "stream",
     "text": [
      "https://hh.ru/vacancy/36705514?query=продавец\n",
      "Статус: 200\n"
     ]
    },
    {
     "name": "stderr",
     "output_type": "stream",
     "text": [
      "\n",
      "\n",
      "\n",
      " 53%|██████████████████████████████████████████▋                                     | 160/300 [06:31<07:21,  3.16s/it]"
     ]
    },
    {
     "name": "stdout",
     "output_type": "stream",
     "text": [
      "https://hh.ru/vacancy/37358243?query=продавец\n",
      "Статус: 200\n"
     ]
    },
    {
     "name": "stderr",
     "output_type": "stream",
     "text": [
      "\n",
      "\n",
      "\n",
      " 54%|██████████████████████████████████████████▉                                     | 161/300 [06:33<06:10,  2.67s/it]"
     ]
    },
    {
     "name": "stdout",
     "output_type": "stream",
     "text": [
      "https://hh.ru/vacancy/37738508?query=продавец\n",
      "Статус: 200\n"
     ]
    },
    {
     "name": "stderr",
     "output_type": "stream",
     "text": [
      "\n",
      "\n",
      "\n",
      " 54%|███████████████████████████████████████████▏                                    | 162/300 [06:35<06:00,  2.61s/it]"
     ]
    },
    {
     "name": "stdout",
     "output_type": "stream",
     "text": [
      "https://hh.ru/vacancy/36466043?query=продавец\n",
      "Статус: 200\n"
     ]
    },
    {
     "name": "stderr",
     "output_type": "stream",
     "text": [
      "\n",
      "\n",
      "\n",
      " 54%|███████████████████████████████████████████▍                                    | 163/300 [06:39<06:33,  2.87s/it]"
     ]
    },
    {
     "name": "stdout",
     "output_type": "stream",
     "text": [
      "https://hh.ru/vacancy/37463631?query=продавец\n",
      "Статус: 200\n"
     ]
    },
    {
     "name": "stderr",
     "output_type": "stream",
     "text": [
      "\n",
      "\n",
      "\n",
      " 55%|███████████████████████████████████████████▋                                    | 164/300 [06:41<06:15,  2.76s/it]"
     ]
    },
    {
     "name": "stdout",
     "output_type": "stream",
     "text": [
      "https://hh.ru/vacancy/37495920?query=продавец\n",
      "Статус: 200\n"
     ]
    },
    {
     "name": "stderr",
     "output_type": "stream",
     "text": [
      "\n",
      "\n",
      "\n",
      " 55%|████████████████████████████████████████████                                    | 165/300 [06:45<06:41,  2.97s/it]"
     ]
    },
    {
     "name": "stdout",
     "output_type": "stream",
     "text": [
      "https://hh.ru/vacancy/37721080?query=продавец\n",
      "Статус: 200\n"
     ]
    },
    {
     "name": "stderr",
     "output_type": "stream",
     "text": [
      "\n",
      "\n",
      "\n",
      " 55%|████████████████████████████████████████████▎                                   | 166/300 [06:46<05:36,  2.51s/it]"
     ]
    },
    {
     "name": "stdout",
     "output_type": "stream",
     "text": [
      "https://hh.ru/vacancy/37661295?query=продавец\n",
      "Статус: 200\n"
     ]
    },
    {
     "name": "stderr",
     "output_type": "stream",
     "text": [
      "\n",
      "\n",
      "\n",
      " 56%|████████████████████████████████████████████▌                                   | 167/300 [06:48<04:51,  2.19s/it]"
     ]
    },
    {
     "name": "stdout",
     "output_type": "stream",
     "text": [
      "https://hh.ru/vacancy/37666360?query=продавец\n",
      "Статус: 200\n"
     ]
    },
    {
     "name": "stderr",
     "output_type": "stream",
     "text": [
      "\n",
      "\n",
      "\n",
      " 56%|████████████████████████████████████████████▊                                   | 168/300 [06:49<04:21,  1.98s/it]"
     ]
    },
    {
     "name": "stdout",
     "output_type": "stream",
     "text": [
      "https://hh.ru/vacancy/37028744?query=продавец\n",
      "Статус: 200\n"
     ]
    },
    {
     "name": "stderr",
     "output_type": "stream",
     "text": [
      "\n",
      "\n",
      "\n",
      " 56%|█████████████████████████████████████████████                                   | 169/300 [06:51<03:59,  1.83s/it]"
     ]
    },
    {
     "name": "stdout",
     "output_type": "stream",
     "text": [
      "https://hh.ru/vacancy/37650976?query=продавец\n",
      "Статус: 200\n"
     ]
    },
    {
     "name": "stderr",
     "output_type": "stream",
     "text": [
      "\n",
      "\n",
      "\n",
      " 57%|█████████████████████████████████████████████▎                                  | 170/300 [06:52<03:41,  1.71s/it]"
     ]
    },
    {
     "name": "stdout",
     "output_type": "stream",
     "text": [
      "https://hh.ru/vacancy/37051486?query=продавец\n",
      "Статус: 200\n"
     ]
    },
    {
     "name": "stderr",
     "output_type": "stream",
     "text": [
      "\n",
      "\n",
      "\n",
      " 57%|█████████████████████████████████████████████▌                                  | 171/300 [06:54<03:32,  1.64s/it]"
     ]
    },
    {
     "name": "stdout",
     "output_type": "stream",
     "text": [
      "https://hh.ru/vacancy/36528202?query=продавец\n",
      "Статус: 200\n"
     ]
    },
    {
     "name": "stderr",
     "output_type": "stream",
     "text": [
      "\n",
      "\n",
      "\n",
      " 57%|█████████████████████████████████████████████▊                                  | 172/300 [06:56<04:00,  1.88s/it]"
     ]
    },
    {
     "name": "stdout",
     "output_type": "stream",
     "text": [
      "https://hh.ru/vacancy/36467267?query=продавец\n",
      "Статус: 200\n"
     ]
    },
    {
     "name": "stderr",
     "output_type": "stream",
     "text": [
      "\n",
      "\n",
      "\n",
      " 58%|██████████████████████████████████████████████▏                                 | 173/300 [06:58<04:18,  2.04s/it]"
     ]
    },
    {
     "name": "stdout",
     "output_type": "stream",
     "text": [
      "https://hh.ru/vacancy/37165208?query=продавец\n",
      "Статус: 200\n"
     ]
    },
    {
     "name": "stderr",
     "output_type": "stream",
     "text": [
      "\n",
      "\n",
      "\n",
      " 58%|██████████████████████████████████████████████▍                                 | 174/300 [07:01<04:30,  2.15s/it]"
     ]
    },
    {
     "name": "stdout",
     "output_type": "stream",
     "text": [
      "https://hh.ru/vacancy/37650073?query=продавец\n",
      "Статус: 200\n"
     ]
    },
    {
     "name": "stderr",
     "output_type": "stream",
     "text": [
      "\n",
      "\n",
      "\n",
      " 58%|██████████████████████████████████████████████▋                                 | 175/300 [07:02<04:01,  1.93s/it]"
     ]
    },
    {
     "name": "stdout",
     "output_type": "stream",
     "text": [
      "https://hh.ru/vacancy/37656821?query=продавец\n",
      "Статус: 200\n"
     ]
    },
    {
     "name": "stderr",
     "output_type": "stream",
     "text": [
      "\n",
      "\n",
      "\n",
      " 59%|██████████████████████████████████████████████▉                                 | 176/300 [07:06<04:55,  2.39s/it]"
     ]
    },
    {
     "name": "stdout",
     "output_type": "stream",
     "text": [
      "https://hh.ru/vacancy/36624925?query=продавец\n",
      "Статус: 200\n"
     ]
    },
    {
     "name": "stderr",
     "output_type": "stream",
     "text": [
      "\n",
      "\n",
      "\n",
      " 59%|███████████████████████████████████████████████▏                                | 177/300 [07:09<05:31,  2.70s/it]"
     ]
    },
    {
     "name": "stdout",
     "output_type": "stream",
     "text": [
      "https://hh.ru/vacancy/37390454?query=продавец\n",
      "Статус: 200\n"
     ]
    },
    {
     "name": "stderr",
     "output_type": "stream",
     "text": [
      "\n",
      "\n",
      "\n",
      " 59%|███████████████████████████████████████████████▍                                | 178/300 [07:13<06:00,  2.95s/it]"
     ]
    },
    {
     "name": "stdout",
     "output_type": "stream",
     "text": [
      "https://hh.ru/vacancy/37733495?query=продавец\n",
      "Статус: 200\n"
     ]
    },
    {
     "name": "stderr",
     "output_type": "stream",
     "text": [
      "\n",
      "\n",
      "\n",
      " 60%|███████████████████████████████████████████████▋                                | 179/300 [07:15<05:37,  2.79s/it]"
     ]
    },
    {
     "name": "stdout",
     "output_type": "stream",
     "text": [
      "https://hh.ru/vacancy/37739922?query=продавец\n",
      "Статус: 200\n"
     ]
    },
    {
     "name": "stderr",
     "output_type": "stream",
     "text": [
      "\n",
      "\n",
      "\n",
      " 60%|████████████████████████████████████████████████                                | 180/300 [07:16<04:44,  2.37s/it]"
     ]
    },
    {
     "name": "stdout",
     "output_type": "stream",
     "text": [
      "https://hh.ru/vacancy/37564158?query=продавец\n",
      "Статус: 200\n"
     ]
    },
    {
     "name": "stderr",
     "output_type": "stream",
     "text": [
      "\n",
      "\n",
      "\n",
      " 60%|████████████████████████████████████████████████▎                               | 181/300 [07:18<04:05,  2.07s/it]"
     ]
    },
    {
     "name": "stdout",
     "output_type": "stream",
     "text": [
      "https://hh.ru/vacancy/36926450?query=продавец\n",
      "Статус: 200\n"
     ]
    },
    {
     "name": "stderr",
     "output_type": "stream",
     "text": [
      "\n",
      "\n",
      "\n",
      " 61%|████████████████████████████████████████████████▌                               | 182/300 [07:21<04:26,  2.26s/it]"
     ]
    },
    {
     "name": "stdout",
     "output_type": "stream",
     "text": [
      "https://hh.ru/vacancy/37673848?query=продавец\n",
      "Статус: 200\n"
     ]
    },
    {
     "name": "stderr",
     "output_type": "stream",
     "text": [
      "\n",
      "\n",
      "\n",
      " 61%|████████████████████████████████████████████████▊                               | 183/300 [07:24<05:10,  2.65s/it]"
     ]
    },
    {
     "name": "stdout",
     "output_type": "stream",
     "text": [
      "https://hh.ru/vacancy/32533035?query=продавец\n",
      "Статус: 200\n"
     ]
    },
    {
     "name": "stderr",
     "output_type": "stream",
     "text": [
      "\n",
      "\n",
      "\n",
      " 61%|█████████████████████████████████████████████████                               | 184/300 [07:26<04:29,  2.32s/it]"
     ]
    },
    {
     "name": "stdout",
     "output_type": "stream",
     "text": [
      "https://hh.ru/vacancy/37639068?query=продавец\n",
      "Статус: 200\n"
     ]
    },
    {
     "name": "stderr",
     "output_type": "stream",
     "text": [
      "\n",
      "\n",
      "\n",
      " 62%|█████████████████████████████████████████████████▎                              | 185/300 [07:29<05:06,  2.66s/it]"
     ]
    },
    {
     "name": "stdout",
     "output_type": "stream",
     "text": [
      "https://hh.ru/vacancy/37336465?query=продавец\n",
      "Статус: 200\n"
     ]
    },
    {
     "name": "stderr",
     "output_type": "stream",
     "text": [
      "\n",
      "\n",
      "\n",
      " 62%|█████████████████████████████████████████████████▌                              | 186/300 [07:33<05:29,  2.89s/it]"
     ]
    },
    {
     "name": "stdout",
     "output_type": "stream",
     "text": [
      "https://hh.ru/vacancy/36707219?query=продавец\n",
      "Статус: 200\n"
     ]
    },
    {
     "name": "stderr",
     "output_type": "stream",
     "text": [
      "\n",
      "\n",
      "\n",
      " 62%|█████████████████████████████████████████████████▊                              | 187/300 [07:34<04:38,  2.46s/it]"
     ]
    },
    {
     "name": "stdout",
     "output_type": "stream",
     "text": [
      "https://hh.ru/vacancy/37389298?query=продавец\n",
      "Статус: 200\n"
     ]
    },
    {
     "name": "stderr",
     "output_type": "stream",
     "text": [
      "\n",
      "\n",
      "\n",
      " 63%|██████████████████████████████████████████████████▏                             | 188/300 [07:37<04:43,  2.53s/it]"
     ]
    },
    {
     "name": "stdout",
     "output_type": "stream",
     "text": [
      "https://hh.ru/vacancy/37569958?query=продавец\n",
      "Статус: 200\n"
     ]
    },
    {
     "name": "stderr",
     "output_type": "stream",
     "text": [
      "\n",
      "\n",
      "\n",
      " 63%|██████████████████████████████████████████████████▍                             | 189/300 [07:39<04:36,  2.49s/it]"
     ]
    },
    {
     "name": "stdout",
     "output_type": "stream",
     "text": [
      "https://hh.ru/vacancy/37438227?query=продавец\n",
      "Статус: 200\n"
     ]
    },
    {
     "name": "stderr",
     "output_type": "stream",
     "text": [
      "\n",
      "\n",
      "\n",
      " 63%|██████████████████████████████████████████████████▋                             | 190/300 [07:42<04:31,  2.47s/it]"
     ]
    },
    {
     "name": "stdout",
     "output_type": "stream",
     "text": [
      "https://hh.ru/vacancy/36386566?query=продавец\n",
      "Статус: 200\n"
     ]
    },
    {
     "name": "stderr",
     "output_type": "stream",
     "text": [
      "\n",
      "\n",
      "\n",
      " 64%|██████████████████████████████████████████████████▉                             | 191/300 [07:45<04:59,  2.75s/it]"
     ]
    },
    {
     "name": "stdout",
     "output_type": "stream",
     "text": [
      "https://hh.ru/vacancy/36496348?query=продавец\n",
      "Статус: 200\n"
     ]
    },
    {
     "name": "stderr",
     "output_type": "stream",
     "text": [
      "\n",
      "\n",
      "\n",
      " 64%|███████████████████████████████████████████████████▏                            | 192/300 [07:46<04:15,  2.37s/it]"
     ]
    },
    {
     "name": "stdout",
     "output_type": "stream",
     "text": [
      "https://hh.ru/vacancy/36692366?query=продавец\n",
      "Статус: 200\n"
     ]
    },
    {
     "name": "stderr",
     "output_type": "stream",
     "text": [
      "\n",
      "\n",
      "\n",
      " 64%|███████████████████████████████████████████████████▍                            | 193/300 [07:48<03:42,  2.08s/it]"
     ]
    },
    {
     "name": "stdout",
     "output_type": "stream",
     "text": [
      "https://hh.ru/vacancy/37275478?query=продавец\n",
      "Статус: 200\n"
     ]
    },
    {
     "name": "stderr",
     "output_type": "stream",
     "text": [
      "\n",
      "\n",
      "\n",
      " 65%|███████████████████████████████████████████████████▋                            | 194/300 [07:49<03:16,  1.86s/it]"
     ]
    },
    {
     "name": "stdout",
     "output_type": "stream",
     "text": [
      "https://hh.ru/vacancy/32479278?query=продавец\n",
      "Статус: 200\n"
     ]
    },
    {
     "name": "stderr",
     "output_type": "stream",
     "text": [
      "\n",
      "\n",
      "\n",
      " 65%|████████████████████████████████████████████████████                            | 195/300 [07:53<04:07,  2.36s/it]"
     ]
    },
    {
     "name": "stdout",
     "output_type": "stream",
     "text": [
      "https://hh.ru/vacancy/37660348?query=продавец\n",
      "Статус: 200\n"
     ]
    },
    {
     "name": "stderr",
     "output_type": "stream",
     "text": [
      "\n",
      "\n",
      "\n",
      " 65%|████████████████████████████████████████████████████▎                           | 196/300 [07:54<03:36,  2.08s/it]"
     ]
    },
    {
     "name": "stdout",
     "output_type": "stream",
     "text": [
      "https://hh.ru/vacancy/36496834?query=продавец\n",
      "Статус: 200\n"
     ]
    },
    {
     "name": "stderr",
     "output_type": "stream",
     "text": [
      "\n",
      "\n",
      "\n",
      " 66%|████████████████████████████████████████████████████▌                           | 197/300 [07:56<03:16,  1.91s/it]"
     ]
    },
    {
     "name": "stdout",
     "output_type": "stream",
     "text": [
      "https://hh.ru/vacancy/36467608?query=продавец\n",
      "Статус: 200\n"
     ]
    },
    {
     "name": "stderr",
     "output_type": "stream",
     "text": [
      "\n",
      "\n",
      "\n",
      " 66%|████████████████████████████████████████████████████▊                           | 198/300 [07:59<04:01,  2.37s/it]"
     ]
    },
    {
     "name": "stdout",
     "output_type": "stream",
     "text": [
      "https://hh.ru/vacancy/37384672?query=продавец\n",
      "Статус: 200\n"
     ]
    },
    {
     "name": "stderr",
     "output_type": "stream",
     "text": [
      "\n",
      "\n",
      "\n",
      " 66%|█████████████████████████████████████████████████████                           | 199/300 [08:00<03:30,  2.09s/it]"
     ]
    },
    {
     "name": "stdout",
     "output_type": "stream",
     "text": [
      "https://hh.ru/vacancy/37438961?query=продавец\n",
      "Статус: 200\n"
     ]
    },
    {
     "name": "stderr",
     "output_type": "stream",
     "text": [
      "\n",
      "\n",
      "\n",
      " 67%|█████████████████████████████████████████████████████▎                          | 200/300 [08:04<04:10,  2.51s/it]"
     ]
    },
    {
     "name": "stdout",
     "output_type": "stream",
     "text": [
      "https://hh.ru/vacancy/37455590?query=продавец\n",
      "Статус: 200\n"
     ]
    },
    {
     "name": "stderr",
     "output_type": "stream",
     "text": [
      "\n",
      "\n",
      "\n",
      " 67%|█████████████████████████████████████████████████████▌                          | 201/300 [08:05<03:34,  2.17s/it]"
     ]
    },
    {
     "name": "stdout",
     "output_type": "stream",
     "text": [
      "https://hh.ru/vacancy/37649579?query=продавец\n",
      "Статус: 200\n"
     ]
    },
    {
     "name": "stderr",
     "output_type": "stream",
     "text": [
      "\n",
      "\n",
      "\n",
      " 67%|█████████████████████████████████████████████████████▊                          | 202/300 [08:07<03:11,  1.96s/it]"
     ]
    },
    {
     "name": "stdout",
     "output_type": "stream",
     "text": [
      "https://hh.ru/vacancy/37719730?query=продавец\n",
      "Статус: 200\n"
     ]
    },
    {
     "name": "stderr",
     "output_type": "stream",
     "text": [
      "\n",
      "\n",
      "\n",
      " 68%|██████████████████████████████████████████████████████▏                         | 203/300 [08:10<03:53,  2.41s/it]"
     ]
    },
    {
     "name": "stdout",
     "output_type": "stream",
     "text": [
      "https://hh.ru/vacancy/37681180?query=продавец\n",
      "Статус: 200\n"
     ]
    },
    {
     "name": "stderr",
     "output_type": "stream",
     "text": [
      "\n",
      "\n",
      "\n",
      " 68%|██████████████████████████████████████████████████████▍                         | 204/300 [08:12<03:24,  2.13s/it]"
     ]
    },
    {
     "name": "stdout",
     "output_type": "stream",
     "text": [
      "https://hh.ru/vacancy/37559249?query=продавец\n",
      "Статус: 200\n"
     ]
    },
    {
     "name": "stderr",
     "output_type": "stream",
     "text": [
      "\n",
      "\n",
      "\n",
      " 68%|██████████████████████████████████████████████████████▋                         | 205/300 [08:13<03:01,  1.91s/it]"
     ]
    },
    {
     "name": "stdout",
     "output_type": "stream",
     "text": [
      "https://hh.ru/vacancy/37170392?query=продавец\n",
      "Статус: 200\n"
     ]
    },
    {
     "name": "stderr",
     "output_type": "stream",
     "text": [
      "\n",
      "\n",
      "\n",
      " 69%|██████████████████████████████████████████████████████▉                         | 206/300 [08:15<02:49,  1.80s/it]"
     ]
    },
    {
     "name": "stdout",
     "output_type": "stream",
     "text": [
      "https://hh.ru/vacancy/37309259?query=продавец\n",
      "Статус: 200\n"
     ]
    },
    {
     "name": "stderr",
     "output_type": "stream",
     "text": [
      "\n",
      "\n",
      "\n",
      " 69%|███████████████████████████████████████████████████████▏                        | 207/300 [08:17<03:05,  1.99s/it]"
     ]
    },
    {
     "name": "stdout",
     "output_type": "stream",
     "text": [
      "https://hh.ru/vacancy/36466980?query=продавец\n",
      "Статус: 200\n"
     ]
    },
    {
     "name": "stderr",
     "output_type": "stream",
     "text": [
      "\n",
      "\n",
      "\n",
      " 69%|███████████████████████████████████████████████████████▍                        | 208/300 [08:20<03:16,  2.14s/it]"
     ]
    },
    {
     "name": "stdout",
     "output_type": "stream",
     "text": [
      "https://hh.ru/vacancy/37327051?query=продавец\n",
      "Статус: 200\n"
     ]
    },
    {
     "name": "stderr",
     "output_type": "stream",
     "text": [
      "\n",
      "\n",
      "\n",
      " 70%|███████████████████████████████████████████████████████▋                        | 209/300 [08:21<02:54,  1.91s/it]"
     ]
    },
    {
     "name": "stdout",
     "output_type": "stream",
     "text": [
      "https://hh.ru/vacancy/37500956?query=продавец\n",
      "Статус: 200\n"
     ]
    },
    {
     "name": "stderr",
     "output_type": "stream",
     "text": [
      "\n",
      "\n",
      "\n",
      " 70%|████████████████████████████████████████████████████████                        | 210/300 [08:22<02:38,  1.76s/it]"
     ]
    },
    {
     "name": "stdout",
     "output_type": "stream",
     "text": [
      "https://hh.ru/vacancy/37657485?query=продавец\n",
      "Статус: 200\n"
     ]
    },
    {
     "name": "stderr",
     "output_type": "stream",
     "text": [
      "\n",
      "\n",
      "\n",
      " 70%|████████████████████████████████████████████████████████▎                       | 211/300 [08:26<03:20,  2.25s/it]"
     ]
    },
    {
     "name": "stdout",
     "output_type": "stream",
     "text": [
      "https://hh.ru/vacancy/36672259?query=продавец\n",
      "Статус: 200\n"
     ]
    },
    {
     "name": "stderr",
     "output_type": "stream",
     "text": [
      "\n",
      "\n",
      "\n",
      " 71%|████████████████████████████████████████████████████████▌                       | 212/300 [08:27<02:57,  2.02s/it]"
     ]
    },
    {
     "name": "stdout",
     "output_type": "stream",
     "text": [
      "https://hh.ru/vacancy/37084083?query=продавец\n",
      "Статус: 200\n"
     ]
    },
    {
     "name": "stderr",
     "output_type": "stream",
     "text": [
      "\n",
      "\n",
      "\n",
      " 71%|████████████████████████████████████████████████████████▊                       | 213/300 [08:30<03:07,  2.15s/it]"
     ]
    },
    {
     "name": "stdout",
     "output_type": "stream",
     "text": [
      "https://hh.ru/vacancy/37493224?query=продавец\n",
      "Статус: 200\n"
     ]
    },
    {
     "name": "stderr",
     "output_type": "stream",
     "text": [
      "\n",
      "\n",
      "\n",
      " 71%|█████████████████████████████████████████████████████████                       | 214/300 [08:32<03:11,  2.23s/it]"
     ]
    },
    {
     "name": "stdout",
     "output_type": "stream",
     "text": [
      "https://hh.ru/vacancy/36385293?query=продавец\n",
      "Статус: 200\n"
     ]
    },
    {
     "name": "stderr",
     "output_type": "stream",
     "text": [
      "\n",
      "\n",
      "\n",
      " 72%|█████████████████████████████████████████████████████████▎                      | 215/300 [08:36<03:40,  2.59s/it]"
     ]
    },
    {
     "name": "stdout",
     "output_type": "stream",
     "text": [
      "https://hh.ru/vacancy/37010394?query=продавец\n",
      "Статус: 200\n"
     ]
    },
    {
     "name": "stderr",
     "output_type": "stream",
     "text": [
      "\n",
      "\n",
      "\n",
      " 72%|█████████████████████████████████████████████████████████▌                      | 216/300 [08:39<03:59,  2.85s/it]"
     ]
    },
    {
     "name": "stdout",
     "output_type": "stream",
     "text": [
      "https://hh.ru/vacancy/36602104?query=продавец\n",
      "Статус: 200\n"
     ]
    },
    {
     "name": "stderr",
     "output_type": "stream",
     "text": [
      "\n",
      "\n",
      "\n",
      " 72%|█████████████████████████████████████████████████████████▊                      | 217/300 [08:42<03:49,  2.76s/it]"
     ]
    },
    {
     "name": "stdout",
     "output_type": "stream",
     "text": [
      "https://hh.ru/vacancy/37655767?query=продавец\n",
      "Статус: 200\n"
     ]
    },
    {
     "name": "stderr",
     "output_type": "stream",
     "text": [
      "\n",
      "\n",
      "\n",
      " 73%|██████████████████████████████████████████████████████████▏                     | 218/300 [08:44<03:39,  2.68s/it]"
     ]
    },
    {
     "name": "stdout",
     "output_type": "stream",
     "text": [
      "https://hh.ru/vacancy/36677827?query=продавец\n",
      "Статус: 200\n"
     ]
    },
    {
     "name": "stderr",
     "output_type": "stream",
     "text": [
      "\n",
      "\n",
      "\n",
      " 73%|██████████████████████████████████████████████████████████▍                     | 219/300 [08:48<03:59,  2.95s/it]"
     ]
    },
    {
     "name": "stdout",
     "output_type": "stream",
     "text": [
      "https://hh.ru/vacancy/36847416?query=продавец\n",
      "Статус: 200\n"
     ]
    },
    {
     "name": "stderr",
     "output_type": "stream",
     "text": [
      "\n",
      "\n",
      "\n",
      " 73%|██████████████████████████████████████████████████████████▋                     | 220/300 [08:49<03:18,  2.48s/it]"
     ]
    },
    {
     "name": "stdout",
     "output_type": "stream",
     "text": [
      "https://hh.ru/vacancy/37734031?query=продавец\n",
      "Статус: 200\n"
     ]
    },
    {
     "name": "stderr",
     "output_type": "stream",
     "text": [
      "\n",
      "\n",
      "\n",
      " 74%|██████████████████████████████████████████████████████████▉                     | 221/300 [08:51<03:14,  2.46s/it]"
     ]
    },
    {
     "name": "stdout",
     "output_type": "stream",
     "text": [
      "https://hh.ru/vacancy/36940493?query=продавец\n",
      "Статус: 200\n"
     ]
    },
    {
     "name": "stderr",
     "output_type": "stream",
     "text": [
      "\n",
      "\n",
      "\n",
      " 74%|███████████████████████████████████████████████████████████▏                    | 222/300 [08:53<02:49,  2.17s/it]"
     ]
    },
    {
     "name": "stdout",
     "output_type": "stream",
     "text": [
      "https://hh.ru/vacancy/36743217?query=продавец\n",
      "Статус: 200\n"
     ]
    },
    {
     "name": "stderr",
     "output_type": "stream",
     "text": [
      "\n",
      "\n",
      "\n",
      " 74%|███████████████████████████████████████████████████████████▍                    | 223/300 [08:55<02:55,  2.28s/it]"
     ]
    },
    {
     "name": "stdout",
     "output_type": "stream",
     "text": [
      "https://hh.ru/vacancy/37496305?query=продавец\n",
      "Статус: 200\n"
     ]
    },
    {
     "name": "stderr",
     "output_type": "stream",
     "text": [
      "\n",
      "\n",
      "\n",
      " 75%|███████████████████████████████████████████████████████████▋                    | 224/300 [08:57<02:33,  2.02s/it]"
     ]
    },
    {
     "name": "stdout",
     "output_type": "stream",
     "text": [
      "https://hh.ru/vacancy/37351503?query=продавец\n",
      "Статус: 200\n"
     ]
    },
    {
     "name": "stderr",
     "output_type": "stream",
     "text": [
      "\n",
      "\n",
      "\n",
      " 75%|████████████████████████████████████████████████████████████                    | 225/300 [09:00<02:46,  2.22s/it]"
     ]
    },
    {
     "name": "stdout",
     "output_type": "stream",
     "text": [
      "https://hh.ru/vacancy/37423154?query=продавец\n",
      "Статус: 200\n"
     ]
    },
    {
     "name": "stderr",
     "output_type": "stream",
     "text": [
      "\n",
      "\n",
      "\n",
      " 75%|████████████████████████████████████████████████████████████▎                   | 226/300 [09:02<02:50,  2.31s/it]"
     ]
    },
    {
     "name": "stdout",
     "output_type": "stream",
     "text": [
      "https://hh.ru/vacancy/37598400?query=продавец\n",
      "Статус: 200\n"
     ]
    },
    {
     "name": "stderr",
     "output_type": "stream",
     "text": [
      "\n",
      "\n",
      "\n",
      " 76%|████████████████████████████████████████████████████████████▌                   | 227/300 [09:06<03:12,  2.64s/it]"
     ]
    },
    {
     "name": "stdout",
     "output_type": "stream",
     "text": [
      "https://hh.ru/vacancy/36465910?query=продавец\n",
      "Статус: 200\n"
     ]
    },
    {
     "name": "stderr",
     "output_type": "stream",
     "text": [
      "\n",
      "\n",
      "\n",
      " 76%|████████████████████████████████████████████████████████████▊                   | 228/300 [09:08<03:06,  2.59s/it]"
     ]
    },
    {
     "name": "stdout",
     "output_type": "stream",
     "text": [
      "https://hh.ru/vacancy/36931388?query=продавец\n",
      "Статус: 200\n"
     ]
    },
    {
     "name": "stderr",
     "output_type": "stream",
     "text": [
      "\n",
      "\n",
      "\n",
      " 76%|█████████████████████████████████████████████████████████████                   | 229/300 [09:09<02:39,  2.25s/it]"
     ]
    },
    {
     "name": "stdout",
     "output_type": "stream",
     "text": [
      "https://hh.ru/vacancy/37101025?query=продавец\n",
      "Статус: 200\n"
     ]
    },
    {
     "name": "stderr",
     "output_type": "stream",
     "text": [
      "\n",
      "\n",
      "\n",
      " 77%|█████████████████████████████████████████████████████████████▎                  | 230/300 [09:13<03:03,  2.62s/it]"
     ]
    },
    {
     "name": "stdout",
     "output_type": "stream",
     "text": [
      "https://hh.ru/vacancy/37025818?query=продавец\n",
      "Статус: 200\n"
     ]
    },
    {
     "name": "stderr",
     "output_type": "stream",
     "text": [
      "\n",
      "\n",
      "\n",
      " 77%|█████████████████████████████████████████████████████████████▌                  | 231/300 [09:14<02:34,  2.24s/it]"
     ]
    },
    {
     "name": "stdout",
     "output_type": "stream",
     "text": [
      "https://hh.ru/vacancy/36913727?query=продавец\n",
      "Статус: 200\n"
     ]
    },
    {
     "name": "stderr",
     "output_type": "stream",
     "text": [
      "\n",
      "\n",
      "\n",
      " 77%|█████████████████████████████████████████████████████████████▊                  | 232/300 [09:16<02:16,  2.01s/it]"
     ]
    },
    {
     "name": "stdout",
     "output_type": "stream",
     "text": [
      "https://hh.ru/vacancy/37562427?query=продавец\n",
      "Статус: 200\n"
     ]
    },
    {
     "name": "stderr",
     "output_type": "stream",
     "text": [
      "\n",
      "\n",
      "\n",
      " 78%|██████████████████████████████████████████████████████████████▏                 | 233/300 [09:19<02:42,  2.43s/it]"
     ]
    },
    {
     "name": "stdout",
     "output_type": "stream",
     "text": [
      "https://hh.ru/vacancy/37501710?query=продавец\n",
      "Статус: 200\n"
     ]
    },
    {
     "name": "stderr",
     "output_type": "stream",
     "text": [
      "\n",
      "\n",
      "\n",
      " 78%|██████████████████████████████████████████████████████████████▍                 | 234/300 [09:22<02:39,  2.42s/it]"
     ]
    },
    {
     "name": "stdout",
     "output_type": "stream",
     "text": [
      "https://hh.ru/vacancy/37582889?query=продавец\n",
      "Статус: 200\n"
     ]
    },
    {
     "name": "stderr",
     "output_type": "stream",
     "text": [
      "\n",
      "\n",
      "\n",
      " 78%|██████████████████████████████████████████████████████████████▋                 | 235/300 [09:23<02:18,  2.13s/it]"
     ]
    },
    {
     "name": "stdout",
     "output_type": "stream",
     "text": [
      "https://hh.ru/vacancy/37127297?query=продавец\n",
      "Статус: 200\n"
     ]
    },
    {
     "name": "stderr",
     "output_type": "stream",
     "text": [
      "\n",
      "\n",
      "\n",
      " 79%|██████████████████████████████████████████████████████████████▉                 | 236/300 [09:27<02:42,  2.54s/it]"
     ]
    },
    {
     "name": "stdout",
     "output_type": "stream",
     "text": [
      "https://hh.ru/vacancy/36998885?query=продавец\n",
      "Статус: 200\n"
     ]
    },
    {
     "name": "stderr",
     "output_type": "stream",
     "text": [
      "\n",
      "\n",
      "\n",
      " 79%|███████████████████████████████████████████████████████████████▏                | 237/300 [09:28<02:20,  2.22s/it]"
     ]
    },
    {
     "name": "stdout",
     "output_type": "stream",
     "text": [
      "https://hh.ru/vacancy/37250804?query=продавец\n",
      "Статус: 200\n"
     ]
    },
    {
     "name": "stderr",
     "output_type": "stream",
     "text": [
      "\n",
      "\n",
      "\n",
      " 79%|███████████████████████████████████████████████████████████████▍                | 238/300 [09:31<02:40,  2.59s/it]"
     ]
    },
    {
     "name": "stdout",
     "output_type": "stream",
     "text": [
      "https://hh.ru/vacancy/37351493?query=продавец\n",
      "Статус: 200\n"
     ]
    },
    {
     "name": "stderr",
     "output_type": "stream",
     "text": [
      "\n",
      "\n",
      "\n",
      " 80%|███████████████████████████████████████████████████████████████▋                | 239/300 [09:33<02:17,  2.26s/it]"
     ]
    },
    {
     "name": "stdout",
     "output_type": "stream",
     "text": [
      "https://hh.ru/vacancy/37650426?query=продавец\n",
      "Статус: 200\n"
     ]
    },
    {
     "name": "stderr",
     "output_type": "stream",
     "text": [
      "\n",
      "\n",
      "\n",
      " 80%|████████████████████████████████████████████████████████████████                | 240/300 [09:35<02:17,  2.30s/it]"
     ]
    },
    {
     "name": "stdout",
     "output_type": "stream",
     "text": [
      "https://hh.ru/vacancy/37363482?query=продавец\n",
      "Статус: 200\n"
     ]
    },
    {
     "name": "stderr",
     "output_type": "stream",
     "text": [
      "\n",
      "\n",
      "\n",
      " 80%|████████████████████████████████████████████████████████████████▎               | 241/300 [09:37<01:58,  2.02s/it]"
     ]
    },
    {
     "name": "stdout",
     "output_type": "stream",
     "text": [
      "https://hh.ru/vacancy/36467407?query=продавец\n",
      "Статус: 200\n"
     ]
    },
    {
     "name": "stderr",
     "output_type": "stream",
     "text": [
      "\n",
      "\n",
      "\n",
      " 81%|████████████████████████████████████████████████████████████████▌               | 242/300 [09:40<02:22,  2.47s/it]"
     ]
    },
    {
     "name": "stdout",
     "output_type": "stream",
     "text": [
      "https://hh.ru/vacancy/37451852?query=продавец\n",
      "Статус: 200\n"
     ]
    },
    {
     "name": "stderr",
     "output_type": "stream",
     "text": [
      "\n",
      "\n",
      "\n",
      " 81%|████████████████████████████████████████████████████████████████▊               | 243/300 [09:42<02:02,  2.16s/it]"
     ]
    },
    {
     "name": "stdout",
     "output_type": "stream",
     "text": [
      "https://hh.ru/vacancy/37580893?query=продавец\n",
      "Статус: 200\n"
     ]
    },
    {
     "name": "stderr",
     "output_type": "stream",
     "text": [
      "\n",
      "\n",
      "\n",
      " 81%|█████████████████████████████████████████████████████████████████               | 244/300 [09:45<02:21,  2.53s/it]"
     ]
    },
    {
     "name": "stdout",
     "output_type": "stream",
     "text": [
      "https://hh.ru/vacancy/36472263?query=продавец\n",
      "Статус: 200\n"
     ]
    },
    {
     "name": "stderr",
     "output_type": "stream",
     "text": [
      "\n",
      "\n",
      "\n",
      " 82%|█████████████████████████████████████████████████████████████████▎              | 245/300 [09:49<02:34,  2.81s/it]"
     ]
    },
    {
     "name": "stdout",
     "output_type": "stream",
     "text": [
      "https://hh.ru/vacancy/37429624?query=продавец\n",
      "Статус: 200\n"
     ]
    },
    {
     "name": "stderr",
     "output_type": "stream",
     "text": [
      "\n",
      "\n",
      "\n",
      " 82%|█████████████████████████████████████████████████████████████████▌              | 246/300 [09:52<02:43,  3.03s/it]"
     ]
    },
    {
     "name": "stdout",
     "output_type": "stream",
     "text": [
      "https://hh.ru/vacancy/37637015?query=продавец\n",
      "Статус: 200\n"
     ]
    },
    {
     "name": "stderr",
     "output_type": "stream",
     "text": [
      "\n",
      "\n",
      "\n",
      " 82%|█████████████████████████████████████████████████████████████████▊              | 247/300 [09:54<02:15,  2.56s/it]"
     ]
    },
    {
     "name": "stdout",
     "output_type": "stream",
     "text": [
      "https://hh.ru/vacancy/37614903?query=продавец\n",
      "Статус: 200\n"
     ]
    },
    {
     "name": "stderr",
     "output_type": "stream",
     "text": [
      "\n",
      "\n",
      "\n",
      " 83%|██████████████████████████████████████████████████████████████████▏             | 248/300 [09:57<02:26,  2.82s/it]"
     ]
    },
    {
     "name": "stdout",
     "output_type": "stream",
     "text": [
      "https://hh.ru/vacancy/37527818?query=продавец\n",
      "Статус: 200\n"
     ]
    },
    {
     "name": "stderr",
     "output_type": "stream",
     "text": [
      "\n",
      "\n",
      "\n",
      " 83%|██████████████████████████████████████████████████████████████████▍             | 249/300 [09:58<02:03,  2.41s/it]"
     ]
    },
    {
     "name": "stdout",
     "output_type": "stream",
     "text": [
      "https://hh.ru/vacancy/37650551?query=продавец\n",
      "Статус: 200\n"
     ]
    },
    {
     "name": "stderr",
     "output_type": "stream",
     "text": [
      "\n",
      "\n",
      "\n",
      " 83%|██████████████████████████████████████████████████████████████████▋             | 250/300 [10:00<01:44,  2.10s/it]"
     ]
    },
    {
     "name": "stdout",
     "output_type": "stream",
     "text": [
      "https://hh.ru/vacancy/36467146?query=продавец\n",
      "Статус: 200\n"
     ]
    },
    {
     "name": "stderr",
     "output_type": "stream",
     "text": [
      "\n",
      "\n",
      "\n",
      " 84%|██████████████████████████████████████████████████████████████████▉             | 251/300 [10:03<02:03,  2.52s/it]"
     ]
    },
    {
     "name": "stdout",
     "output_type": "stream",
     "text": [
      "https://hh.ru/vacancy/37709085?query=продавец\n",
      "Статус: 200\n"
     ]
    },
    {
     "name": "stderr",
     "output_type": "stream",
     "text": [
      "\n",
      "\n",
      "\n",
      " 84%|███████████████████████████████████████████████████████████████████▏            | 252/300 [10:05<01:45,  2.20s/it]"
     ]
    },
    {
     "name": "stdout",
     "output_type": "stream",
     "text": [
      "https://hh.ru/vacancy/37651582?query=продавец\n",
      "Статус: 200\n"
     ]
    },
    {
     "name": "stderr",
     "output_type": "stream",
     "text": [
      "\n",
      "\n",
      "\n",
      " 84%|███████████████████████████████████████████████████████████████████▍            | 253/300 [10:06<01:32,  1.97s/it]"
     ]
    },
    {
     "name": "stdout",
     "output_type": "stream",
     "text": [
      "https://hh.ru/vacancy/37449675?query=продавец\n",
      "Статус: 200\n"
     ]
    },
    {
     "name": "stderr",
     "output_type": "stream",
     "text": [
      "\n",
      "\n",
      "\n",
      " 85%|███████████████████████████████████████████████████████████████████▋            | 254/300 [10:10<01:54,  2.49s/it]"
     ]
    },
    {
     "name": "stdout",
     "output_type": "stream",
     "text": [
      "https://hh.ru/vacancy/37662096?query=продавец\n",
      "Статус: 200\n"
     ]
    },
    {
     "name": "stderr",
     "output_type": "stream",
     "text": [
      "\n",
      "\n",
      "\n",
      " 85%|████████████████████████████████████████████████████████████████████            | 255/300 [10:13<02:05,  2.78s/it]"
     ]
    },
    {
     "name": "stdout",
     "output_type": "stream",
     "text": [
      "https://hh.ru/vacancy/37736761?query=продавец\n",
      "Статус: 200\n"
     ]
    },
    {
     "name": "stderr",
     "output_type": "stream",
     "text": [
      "\n",
      "\n",
      "\n",
      " 85%|████████████████████████████████████████████████████████████████████▎           | 256/300 [10:16<01:57,  2.68s/it]"
     ]
    },
    {
     "name": "stdout",
     "output_type": "stream",
     "text": [
      "https://hh.ru/vacancy/36934703?query=продавец\n",
      "Статус: 200\n"
     ]
    },
    {
     "name": "stderr",
     "output_type": "stream",
     "text": [
      "\n",
      "\n",
      "\n",
      " 86%|████████████████████████████████████████████████████████████████████▌           | 257/300 [10:19<02:04,  2.90s/it]"
     ]
    },
    {
     "name": "stdout",
     "output_type": "stream",
     "text": [
      "https://hh.ru/vacancy/37071418?query=продавец\n",
      "Статус: 200\n"
     ]
    },
    {
     "name": "stderr",
     "output_type": "stream",
     "text": [
      "\n",
      "\n",
      "\n",
      " 86%|████████████████████████████████████████████████████████████████████▊           | 258/300 [10:22<01:55,  2.76s/it]"
     ]
    },
    {
     "name": "stdout",
     "output_type": "stream",
     "text": [
      "https://hh.ru/vacancy/37586301?query=продавец\n",
      "Статус: 200\n"
     ]
    },
    {
     "name": "stderr",
     "output_type": "stream",
     "text": [
      "\n",
      "\n",
      "\n",
      " 86%|█████████████████████████████████████████████████████████████████████           | 259/300 [10:25<02:02,  2.98s/it]"
     ]
    },
    {
     "name": "stdout",
     "output_type": "stream",
     "text": [
      "https://hh.ru/vacancy/36467999?query=продавец\n",
      "Статус: 200\n"
     ]
    },
    {
     "name": "stderr",
     "output_type": "stream",
     "text": [
      "\n",
      "\n",
      "\n",
      " 87%|█████████████████████████████████████████████████████████████████████▎          | 260/300 [10:29<02:06,  3.16s/it]"
     ]
    },
    {
     "name": "stdout",
     "output_type": "stream",
     "text": [
      "https://hh.ru/vacancy/36188109?query=продавец\n",
      "Статус: 200\n"
     ]
    },
    {
     "name": "stderr",
     "output_type": "stream",
     "text": [
      "\n",
      "\n",
      "\n",
      " 87%|█████████████████████████████████████████████████████████████████████▌          | 261/300 [10:31<01:55,  2.96s/it]"
     ]
    },
    {
     "name": "stdout",
     "output_type": "stream",
     "text": [
      "https://hh.ru/vacancy/37596245?query=продавец\n",
      "Статус: 200\n"
     ]
    },
    {
     "name": "stderr",
     "output_type": "stream",
     "text": [
      "\n",
      "\n",
      "\n",
      " 87%|█████████████████████████████████████████████████████████████████████▊          | 262/300 [10:35<01:58,  3.12s/it]"
     ]
    },
    {
     "name": "stdout",
     "output_type": "stream",
     "text": [
      "https://hh.ru/vacancy/37312186?query=продавец\n",
      "Статус: 200\n"
     ]
    },
    {
     "name": "stderr",
     "output_type": "stream",
     "text": [
      "\n",
      "\n",
      "\n",
      " 88%|██████████████████████████████████████████████████████████████████████▏         | 263/300 [10:36<01:36,  2.60s/it]"
     ]
    },
    {
     "name": "stdout",
     "output_type": "stream",
     "text": [
      "https://hh.ru/vacancy/37674664?query=продавец\n",
      "Статус: 200\n"
     ]
    },
    {
     "name": "stderr",
     "output_type": "stream",
     "text": [
      "\n",
      "\n",
      "\n",
      " 88%|██████████████████████████████████████████████████████████████████████▍         | 264/300 [10:38<01:31,  2.54s/it]"
     ]
    },
    {
     "name": "stdout",
     "output_type": "stream",
     "text": [
      "https://hh.ru/vacancy/37350668?query=продавец\n",
      "Статус: 200\n"
     ]
    },
    {
     "name": "stderr",
     "output_type": "stream",
     "text": [
      "\n",
      "\n",
      "\n",
      " 88%|██████████████████████████████████████████████████████████████████████▋         | 265/300 [10:40<01:16,  2.20s/it]"
     ]
    },
    {
     "name": "stdout",
     "output_type": "stream",
     "text": [
      "https://hh.ru/vacancy/37332332?query=продавец\n",
      "Статус: 200\n"
     ]
    },
    {
     "name": "stderr",
     "output_type": "stream",
     "text": [
      "\n",
      "\n",
      "\n",
      " 89%|██████████████████████████████████████████████████████████████████████▉         | 266/300 [10:41<01:06,  1.96s/it]"
     ]
    },
    {
     "name": "stdout",
     "output_type": "stream",
     "text": [
      "https://hh.ru/vacancy/37735684?query=продавец\n",
      "Статус: 200\n"
     ]
    },
    {
     "name": "stderr",
     "output_type": "stream",
     "text": [
      "\n",
      "\n",
      "\n",
      " 89%|███████████████████████████████████████████████████████████████████████▏        | 267/300 [10:45<01:19,  2.40s/it]"
     ]
    },
    {
     "name": "stdout",
     "output_type": "stream",
     "text": [
      "https://hh.ru/vacancy/37340864?query=продавец\n",
      "Статус: 200\n"
     ]
    },
    {
     "name": "stderr",
     "output_type": "stream",
     "text": [
      "\n",
      "\n",
      "\n",
      " 89%|███████████████████████████████████████████████████████████████████████▍        | 268/300 [10:48<01:25,  2.67s/it]"
     ]
    },
    {
     "name": "stdout",
     "output_type": "stream",
     "text": [
      "https://hh.ru/vacancy/37740048?query=продавец\n",
      "Статус: 200\n"
     ]
    },
    {
     "name": "stderr",
     "output_type": "stream",
     "text": [
      "\n",
      "\n",
      "\n",
      " 90%|███████████████████████████████████████████████████████████████████████▋        | 269/300 [10:51<01:29,  2.89s/it]"
     ]
    },
    {
     "name": "stdout",
     "output_type": "stream",
     "text": [
      "https://hh.ru/vacancy/37731451?query=продавец\n",
      "Статус: 200\n"
     ]
    },
    {
     "name": "stderr",
     "output_type": "stream",
     "text": [
      "\n",
      "\n",
      "\n",
      " 90%|████████████████████████████████████████████████████████████████████████        | 270/300 [10:53<01:14,  2.47s/it]"
     ]
    },
    {
     "name": "stdout",
     "output_type": "stream",
     "text": [
      "https://hh.ru/vacancy/37489577?query=продавец\n",
      "Статус: 200\n"
     ]
    },
    {
     "name": "stderr",
     "output_type": "stream",
     "text": [
      "\n",
      "\n",
      "\n",
      " 90%|████████████████████████████████████████████████████████████████████████▎       | 271/300 [10:54<01:02,  2.16s/it]"
     ]
    },
    {
     "name": "stdout",
     "output_type": "stream",
     "text": [
      "https://hh.ru/vacancy/36468410?query=продавец\n",
      "Статус: 200\n"
     ]
    },
    {
     "name": "stderr",
     "output_type": "stream",
     "text": [
      "\n",
      "\n",
      "\n",
      " 91%|████████████████████████████████████████████████████████████████████████▌       | 272/300 [10:56<00:55,  1.98s/it]"
     ]
    },
    {
     "name": "stdout",
     "output_type": "stream",
     "text": [
      "https://hh.ru/vacancy/36809898?query=продавец\n",
      "Статус: 200\n"
     ]
    },
    {
     "name": "stderr",
     "output_type": "stream",
     "text": [
      "\n",
      "\n",
      "\n",
      " 91%|████████████████████████████████████████████████████████████████████████▊       | 273/300 [10:57<00:49,  1.83s/it]"
     ]
    },
    {
     "name": "stdout",
     "output_type": "stream",
     "text": [
      "https://hh.ru/vacancy/37651344?query=продавец\n",
      "Статус: 200\n"
     ]
    },
    {
     "name": "stderr",
     "output_type": "stream",
     "text": [
      "\n",
      "\n",
      "\n",
      " 91%|█████████████████████████████████████████████████████████████████████████       | 274/300 [11:01<00:59,  2.31s/it]"
     ]
    },
    {
     "name": "stdout",
     "output_type": "stream",
     "text": [
      "https://hh.ru/vacancy/37632898?query=продавец\n",
      "Статус: 200\n"
     ]
    },
    {
     "name": "stderr",
     "output_type": "stream",
     "text": [
      "\n",
      "\n",
      "\n",
      " 92%|█████████████████████████████████████████████████████████████████████████▎      | 275/300 [11:03<00:58,  2.33s/it]"
     ]
    },
    {
     "name": "stdout",
     "output_type": "stream",
     "text": [
      "https://hh.ru/vacancy/37546016?query=продавец\n",
      "Статус: 200\n"
     ]
    },
    {
     "name": "stderr",
     "output_type": "stream",
     "text": [
      "\n",
      "\n",
      "\n",
      " 92%|█████████████████████████████████████████████████████████████████████████▌      | 276/300 [11:06<00:56,  2.36s/it]"
     ]
    },
    {
     "name": "stdout",
     "output_type": "stream",
     "text": [
      "https://hh.ru/vacancy/37650294?query=продавец\n",
      "Статус: 200\n"
     ]
    },
    {
     "name": "stderr",
     "output_type": "stream",
     "text": [
      "\n",
      "\n",
      "\n",
      " 92%|█████████████████████████████████████████████████████████████████████████▊      | 277/300 [11:08<00:55,  2.41s/it]"
     ]
    },
    {
     "name": "stdout",
     "output_type": "stream",
     "text": [
      "https://hh.ru/vacancy/37451402?query=продавец\n",
      "Статус: 200\n"
     ]
    },
    {
     "name": "stderr",
     "output_type": "stream",
     "text": [
      "\n",
      "\n",
      "\n",
      " 93%|██████████████████████████████████████████████████████████████████████████▏     | 278/300 [11:11<00:53,  2.45s/it]"
     ]
    },
    {
     "name": "stdout",
     "output_type": "stream",
     "text": [
      "https://hh.ru/vacancy/37428838?query=продавец\n",
      "Статус: 200\n"
     ]
    },
    {
     "name": "stderr",
     "output_type": "stream",
     "text": [
      "\n",
      "\n",
      "\n",
      " 93%|██████████████████████████████████████████████████████████████████████████▍     | 279/300 [11:12<00:44,  2.14s/it]"
     ]
    },
    {
     "name": "stdout",
     "output_type": "stream",
     "text": [
      "https://hh.ru/vacancy/37281162?query=продавец\n",
      "Статус: 200\n"
     ]
    },
    {
     "name": "stderr",
     "output_type": "stream",
     "text": [
      "\n",
      "\n",
      "\n",
      " 93%|██████████████████████████████████████████████████████████████████████████▋     | 280/300 [11:15<00:44,  2.24s/it]"
     ]
    },
    {
     "name": "stdout",
     "output_type": "stream",
     "text": [
      "https://hh.ru/vacancy/37101877?query=продавец\n",
      "Статус: 200\n"
     ]
    },
    {
     "name": "stderr",
     "output_type": "stream",
     "text": [
      "\n",
      "\n",
      "\n",
      " 94%|██████████████████████████████████████████████████████████████████████████▉     | 281/300 [11:18<00:49,  2.61s/it]"
     ]
    },
    {
     "name": "stdout",
     "output_type": "stream",
     "text": [
      "https://hh.ru/vacancy/36468842?query=продавец\n",
      "Статус: 200\n"
     ]
    },
    {
     "name": "stderr",
     "output_type": "stream",
     "text": [
      "\n",
      "\n",
      "\n",
      " 94%|███████████████████████████████████████████████████████████████████████████▏    | 282/300 [11:22<00:51,  2.89s/it]"
     ]
    },
    {
     "name": "stdout",
     "output_type": "stream",
     "text": [
      "https://hh.ru/vacancy/37625786?query=продавец\n",
      "Статус: 200\n"
     ]
    },
    {
     "name": "stderr",
     "output_type": "stream",
     "text": [
      "\n",
      "\n",
      "\n",
      " 94%|███████████████████████████████████████████████████████████████████████████▍    | 283/300 [11:24<00:47,  2.77s/it]"
     ]
    },
    {
     "name": "stdout",
     "output_type": "stream",
     "text": [
      "https://hh.ru/vacancy/37466683?query=продавец\n",
      "Статус: 200\n"
     ]
    },
    {
     "name": "stderr",
     "output_type": "stream",
     "text": [
      "\n",
      "\n",
      "\n",
      " 95%|███████████████████████████████████████████████████████████████████████████▋    | 284/300 [11:27<00:47,  2.96s/it]"
     ]
    },
    {
     "name": "stdout",
     "output_type": "stream",
     "text": [
      "https://hh.ru/vacancy/37565408?query=продавец\n",
      "Статус: 200\n"
     ]
    },
    {
     "name": "stderr",
     "output_type": "stream",
     "text": [
      "\n",
      "\n",
      "\n",
      " 95%|████████████████████████████████████████████████████████████████████████████    | 285/300 [11:29<00:37,  2.49s/it]"
     ]
    },
    {
     "name": "stdout",
     "output_type": "stream",
     "text": [
      "https://hh.ru/vacancy/37717066?query=продавец\n",
      "Статус: 200\n"
     ]
    },
    {
     "name": "stderr",
     "output_type": "stream",
     "text": [
      "\n",
      "\n",
      "\n",
      " 95%|████████████████████████████████████████████████████████████████████████████▎   | 286/300 [11:31<00:34,  2.48s/it]"
     ]
    },
    {
     "name": "stdout",
     "output_type": "stream",
     "text": [
      "https://hh.ru/vacancy/37652718?query=продавец\n",
      "Статус: 200\n"
     ]
    },
    {
     "name": "stderr",
     "output_type": "stream",
     "text": [
      "\n",
      "\n",
      "\n",
      " 96%|████████████████████████████████████████████████████████████████████████████▌   | 287/300 [11:34<00:33,  2.56s/it]"
     ]
    },
    {
     "name": "stdout",
     "output_type": "stream",
     "text": [
      "https://hh.ru/vacancy/37682017?query=продавец\n",
      "Статус: 200\n"
     ]
    },
    {
     "name": "stderr",
     "output_type": "stream",
     "text": [
      "\n",
      "\n",
      "\n",
      " 96%|████████████████████████████████████████████████████████████████████████████▊   | 288/300 [11:36<00:30,  2.51s/it]"
     ]
    },
    {
     "name": "stdout",
     "output_type": "stream",
     "text": [
      "https://hh.ru/vacancy/37492488?query=продавец\n",
      "Статус: 200\n"
     ]
    },
    {
     "name": "stderr",
     "output_type": "stream",
     "text": [
      "\n",
      "\n",
      "\n",
      " 96%|█████████████████████████████████████████████████████████████████████████████   | 289/300 [11:39<00:27,  2.48s/it]"
     ]
    },
    {
     "name": "stdout",
     "output_type": "stream",
     "text": [
      "https://hh.ru/vacancy/37481658?query=продавец\n",
      "Статус: 200\n"
     ]
    },
    {
     "name": "stderr",
     "output_type": "stream",
     "text": [
      "\n",
      "\n",
      "\n",
      " 97%|█████████████████████████████████████████████████████████████████████████████▎  | 290/300 [11:43<00:28,  2.83s/it]"
     ]
    },
    {
     "name": "stdout",
     "output_type": "stream",
     "text": [
      "https://hh.ru/vacancy/37381465?query=продавец\n",
      "Статус: 200\n"
     ]
    },
    {
     "name": "stderr",
     "output_type": "stream",
     "text": [
      "\n",
      "\n",
      "\n",
      " 97%|█████████████████████████████████████████████████████████████████████████████▌  | 291/300 [11:45<00:24,  2.71s/it]"
     ]
    },
    {
     "name": "stdout",
     "output_type": "stream",
     "text": [
      "https://hh.ru/vacancy/37436379?query=продавец\n",
      "Статус: 200\n"
     ]
    },
    {
     "name": "stderr",
     "output_type": "stream",
     "text": [
      "\n",
      "\n",
      "\n",
      " 97%|█████████████████████████████████████████████████████████████████████████████▊  | 292/300 [11:48<00:23,  2.93s/it]"
     ]
    },
    {
     "name": "stdout",
     "output_type": "stream",
     "text": [
      "https://hh.ru/vacancy/36527495?query=продавец\n",
      "Статус: 200\n"
     ]
    },
    {
     "name": "stderr",
     "output_type": "stream",
     "text": [
      "\n",
      "\n",
      "\n",
      " 98%|██████████████████████████████████████████████████████████████████████████████▏ | 293/300 [11:52<00:21,  3.09s/it]"
     ]
    },
    {
     "name": "stdout",
     "output_type": "stream",
     "text": [
      "https://hh.ru/vacancy/37338104?query=продавец\n",
      "Статус: 200\n"
     ]
    },
    {
     "name": "stderr",
     "output_type": "stream",
     "text": [
      "\n",
      "\n",
      "\n",
      " 98%|██████████████████████████████████████████████████████████████████████████████▍ | 294/300 [11:53<00:15,  2.61s/it]"
     ]
    },
    {
     "name": "stdout",
     "output_type": "stream",
     "text": [
      "https://hh.ru/vacancy/12692567?query=продавец\n",
      "Статус: 200\n"
     ]
    },
    {
     "name": "stderr",
     "output_type": "stream",
     "text": [
      "\n",
      "\n",
      "\n",
      " 98%|██████████████████████████████████████████████████████████████████████████████▋ | 295/300 [11:57<00:14,  2.86s/it]"
     ]
    },
    {
     "name": "stdout",
     "output_type": "stream",
     "text": [
      "https://hh.ru/vacancy/36884564?query=продавец\n",
      "Статус: 200\n"
     ]
    },
    {
     "name": "stderr",
     "output_type": "stream",
     "text": [
      "\n",
      "\n",
      "\n",
      " 99%|██████████████████████████████████████████████████████████████████████████████▉ | 296/300 [11:59<00:10,  2.73s/it]"
     ]
    },
    {
     "name": "stdout",
     "output_type": "stream",
     "text": [
      "https://hh.ru/vacancy/37305295?query=продавец\n",
      "Статус: 200\n"
     ]
    },
    {
     "name": "stderr",
     "output_type": "stream",
     "text": [
      "\n",
      "\n",
      "\n",
      " 99%|███████████████████████████████████████████████████████████████████████████████▏| 297/300 [12:02<00:07,  2.65s/it]"
     ]
    },
    {
     "name": "stdout",
     "output_type": "stream",
     "text": [
      "https://hh.ru/vacancy/37740499?query=продавец\n",
      "Статус: 200\n"
     ]
    },
    {
     "name": "stderr",
     "output_type": "stream",
     "text": [
      "\n",
      "\n",
      "\n",
      " 99%|███████████████████████████████████████████████████████████████████████████████▍| 298/300 [12:05<00:05,  2.90s/it]"
     ]
    },
    {
     "name": "stdout",
     "output_type": "stream",
     "text": [
      "https://hh.ru/vacancy/37740655?query=продавец\n",
      "Статус: 200\n"
     ]
    },
    {
     "name": "stderr",
     "output_type": "stream",
     "text": [
      "\n",
      "\n",
      "\n",
      "100%|███████████████████████████████████████████████████████████████████████████████▋| 299/300 [12:09<00:03,  3.06s/it]"
     ]
    },
    {
     "name": "stdout",
     "output_type": "stream",
     "text": [
      "https://hh.ru/vacancy/37395343?query=продавец\n",
      "Статус: 200\n"
     ]
    },
    {
     "name": "stderr",
     "output_type": "stream",
     "text": [
      "\n",
      "\n",
      "\n",
      "100%|████████████████████████████████████████████████████████████████████████████████| 300/300 [12:10<00:00,  2.58s/it]"
     ]
    },
    {
     "name": "stdout",
     "output_type": "stream",
     "text": [
      "Количество записей  294 Количество обработанных адресов 299\n"
     ]
    }
   ],
   "source": [
    "data_f = []\n",
    "count_ok = 0\n",
    "for href in tqdm(links[:300]):\n",
    "    time.sleep(randint(1,3))\n",
    "    print(f\"{href}\")        \n",
    "    req = rq.get(f\"{href}\", headers=headers)\n",
    "    print(f\"Статус: {req.status_code}\")  \n",
    "    if req.status_code > 400:\n",
    "        continue\n",
    "    soup = bs(req.text, 'html.parser')\n",
    "\n",
    "    el = {}\n",
    "    \n",
    "    v1 = soup.find(\"script\", attrs={'data-name':\"HH/GoogleDfpService\"})\n",
    "    if v1:\n",
    "        dd = v1.get('data-params')    \n",
    "        salary_min = dict(json.loads(dd))['vac_salary_from']\n",
    "        salary_max = dict(json.loads(dd))['vac_salary_to']\n",
    "        lat = np.nan\n",
    "        lon = np.nan\n",
    "        employer = soup.find(\"span\", attrs={'class':\"bloko-section-header-2 bloko-section-header-2_lite\"}).text\n",
    "        city = soup.find(\"p\", attrs={'data-qa':\"vacancy-view-location\"}).text\n",
    "        \n",
    "        ids1 = soup.find(\"script\", attrs={'data-name':'HH/VacancyResponsePopup/VacancyResponsePopup'})\n",
    "        if ids1:\n",
    "            ids = ids1.get('data-params')\n",
    "            id_point =  dict(json.loads(ids))['vacancyId']\n",
    "        \n",
    "        ids2 = soup.find(\"input\", attrs={'name':'vacancyId'})\n",
    "        if ids2:\n",
    "            id_point = ids2.get('value')         \n",
    "        \n",
    "        currency = dict(json.loads(dd))['vac_salary_cur']\n",
    "        \n",
    "        date3 = soup.find(\"p\", attrs={'class':\"vacancy-creation-time\"})\n",
    "        if date3:\n",
    "            date = date3.text.split('Вакансия опубликована')[1].split(' в ')[0].replace('\\xa0', ' ').strip()  \n",
    "            \n",
    "        date2 = soup.find(\"span\", attrs={'class':\"vacancy-serp-item__publication-date\"})\n",
    "        if date2:\n",
    "            date = date2.text.replace('\\xa0', ' ')            \n",
    "            \n",
    "        date1 = soup.find(\"script\", attrs={'type':\"application/ld+json\"})\n",
    "        if date1:\n",
    "            ff = date1.text\n",
    "            date = dict(json.loads(ff))['datePosted']\n",
    "            name = dict(json.loads(ff))['title']\n",
    "\n",
    "        date0 = re.sub(\"[\\r\\t\\n\\b]\",\"\", soup.text)\n",
    "        date0 = re.search(r\"publicationDate\\\":\\s\\\"(.*?)\\\"\" , date0)\n",
    "        if date0:\n",
    "            date = date0.group(1)  \n",
    "        \n",
    "\n",
    "    v2 = soup.find(\"script\", attrs={'data-name':\"HH/Employer/VacancyCard/VacancyMap\"})\n",
    "    if v2:\n",
    "        dd = v2.get('data-params')    \n",
    "        salary_min = dict(json.loads(dd))['cianPlacemarks']['compensation']['from']\n",
    "        salary_max = dict(json.loads(dd))['cianPlacemarks']['compensation']['to']\n",
    "        lat = dict(json.loads(dd))['address']['mapData']['points']['marker']['lat']\n",
    "        lon = dict(json.loads(dd))['address']['mapData']['points']['marker']['lng']\n",
    "        city = dict(json.loads(dd))['address']['city']\n",
    "        employer = soup.find(\"span\", attrs={'class':\"bloko-section-header-2 bloko-section-header-2_lite\"}).text\n",
    "        ids = soup.find(\"script\", attrs={'data-name':\"HH/Vacancy/SendResponseAttempt\"}).get('data-params')\n",
    "        id_point = dict(json.loads(ids))['vacancyId']\n",
    "        currency = dict(json.loads(dd))['cianPlacemarks']['compensation']['currencyCode']\n",
    "        \n",
    "        if date:\n",
    "            pass\n",
    "        else:\n",
    "            date = soup.find(\"span\", attrs={'class':\"vacancy-serp-item__publication-date\"}).text.replace('\\xa0', ' ')  \n",
    "            \n",
    "        date0 = re.sub(\"[\\r\\t\\n\\b]\",\"\", soup.text)\n",
    "        date0 = re.search(r\"publicationDate\\\":\\s\\\"(.*?)\\\"\" , date0)\n",
    "        if date0:\n",
    "            date = date0.group(1)            \n",
    "        \n",
    "    name = soup.find(\"h1\", attrs={'data-qa':\"vacancy-title\"}).text\n",
    "    \n",
    "    el.update({\n",
    "        'name' : name, \n",
    "        'link': href,\n",
    "        'publish_date': date, \n",
    "        'salary_min': salary_min,\n",
    "        'salary_max': salary_max,\n",
    "        'lat': lat,\n",
    "        'lon': lon,\n",
    "        'city': city,\n",
    "        'employer': employer,\n",
    "        'id': id_point,\n",
    "        'currency' : currency,\n",
    "        'site': 'hh.ru'\n",
    "\n",
    "    })\n",
    "    data_f.append(el)\n",
    "    count_ok += 1\n",
    "df = pd.DataFrame(data_f)\n",
    "hh = df.drop_duplicates('id')\n",
    "hh.to_pickle('raw_data_v1.pkl')\n",
    "print('Количество записей ', len(hh), 'Количество обработанных адресов', count_ok)"
   ]
  },
  {
   "cell_type": "markdown",
   "metadata": {},
   "source": [
    "# Задание 3 урок"
   ]
  },
  {
   "cell_type": "markdown",
   "metadata": {},
   "source": [
    "- Развернуть у себя на компьютере/виртуальной машине/хостинге MongoDB и реализовать функцию, записывающую собранные вакансии в созданную БД (без датафрейма)\n",
    "- Написать функцию, которая производит поиск и выводит на экран вакансии с заработной платой больше введенной суммы. Поиск по двум полям (мин и макс зарплату)\n",
    "- Написать функцию, которая будет добавлять в вашу базу данных только новые вакансии с сайта"
   ]
  },
  {
   "cell_type": "markdown",
   "metadata": {},
   "source": [
    "***Готовим данные к загрузке в монгу***"
   ]
  },
  {
   "cell_type": "code",
   "execution_count": 172,
   "metadata": {},
   "outputs": [],
   "source": [
    "hh = pd.read_pickle('raw_data_v1.pkl')"
   ]
  },
  {
   "cell_type": "code",
   "execution_count": 173,
   "metadata": {},
   "outputs": [
    {
     "data": {
      "text/plain": [
       "(294, 12)"
      ]
     },
     "execution_count": 173,
     "metadata": {},
     "output_type": "execute_result"
    }
   ],
   "source": [
    "hh.shape"
   ]
  },
  {
   "cell_type": "markdown",
   "metadata": {},
   "source": [
    "***Небольшая обработка данных***"
   ]
  },
  {
   "cell_type": "code",
   "execution_count": 182,
   "metadata": {},
   "outputs": [],
   "source": [
    "hh['publish_date'] = hh['publish_date'].apply(lambda x: str2date(x))\n",
    "\n",
    "hh['salary_min'] = hh['salary_min'].apply(lambda x: str2num(x))\n",
    "hh['salary_max'] = hh['salary_max'].apply(lambda x: str2num(x))\n",
    "hh['lon'] = hh['lon'].apply(lambda x: str2num(x))\n",
    "hh['lat'] = hh['lon'].apply(lambda x: str2num(x))\n",
    "hh['id'] = hh['id'].apply(lambda x: str2num(x))\n",
    "\n",
    "hh['salary_max'] = hh['salary_max'].apply(lambda x: np.nan if x == 0 else x)\n",
    "\n",
    "hh['lat'] = hh['lat'].apply(lambda x: np.nan if x == 0 else x)\n",
    "hh['lon'] = hh['lon'].apply(lambda x: np.nan if x == 0 else x)\n",
    "\n",
    "hh['name'] = hh['name'].apply(lambda x: x.replace('\\xa0', ' '))\n",
    "hh['employer'] = hh['employer'].apply(lambda x: x.replace('\\xa0', ' '))"
   ]
  },
  {
   "cell_type": "code",
   "execution_count": 183,
   "metadata": {},
   "outputs": [
    {
     "data": {
      "text/plain": [
       "name                    object\n",
       "link                    object\n",
       "publish_date    datetime64[ns]\n",
       "salary_min             float64\n",
       "salary_max             float64\n",
       "lat                    float64\n",
       "lon                    float64\n",
       "city                    object\n",
       "employer                object\n",
       "id                     float64\n",
       "currency                object\n",
       "site                    object\n",
       "dtype: object"
      ]
     },
     "execution_count": 183,
     "metadata": {},
     "output_type": "execute_result"
    }
   ],
   "source": [
    "hh.dtypes"
   ]
  },
  {
   "cell_type": "code",
   "execution_count": 184,
   "metadata": {},
   "outputs": [],
   "source": [
    "# функция, которая будет добавлять в вашу базу данных только новые вакансии с сайта\n",
    "def data_to_db(df):    \n",
    "    client = MongoClient('localhost', 27017)\n",
    "    hh_db = client['hh']\n",
    "    vac = hh_db.vacancy\n",
    "    have = list(pd.DataFrame(vac.find( {} ))['id'])\n",
    "    rows = []\n",
    "    vacs = {}\n",
    "    for i, row in df[~(df['id'].isin(have))].iterrows():\n",
    "        vacs = {\n",
    "            'name' : row['name'],\n",
    "            'link' : row['link'],\n",
    "            'publish_date' : row['publish_date'],\n",
    "            'salary_min' : row['salary_min'],\n",
    "            'salary_max' : row['salary_max'],\n",
    "            'lat' : row['lat'] if row['lat'] > 0 else None,\n",
    "            'lon' : row['lon'] if row['lon'] > 0 else None,\n",
    "            'city' : row['city'],\n",
    "            'employer' : row['employer'],\n",
    "            'id' : row['id'],\n",
    "            'currency' : row['currency'],\n",
    "            'site' : row['site']\n",
    "        }\n",
    "        rows.append(vacs)\n",
    "    if len(rows) > 0:\n",
    "        vac.insert_many(rows)\n",
    "        print('Данные загружены')\n",
    "        \n",
    "    else:\n",
    "        print('Нет новых записей')"
   ]
  },
  {
   "cell_type": "code",
   "execution_count": 185,
   "metadata": {},
   "outputs": [
    {
     "name": "stdout",
     "output_type": "stream",
     "text": [
      "Нет новых записей\n"
     ]
    }
   ],
   "source": [
    "# запускаем\n",
    "data_to_db(hh)"
   ]
  },
  {
   "cell_type": "code",
   "execution_count": 186,
   "metadata": {},
   "outputs": [
    {
     "data": {
      "text/html": [
       "<div>\n",
       "<style scoped>\n",
       "    .dataframe tbody tr th:only-of-type {\n",
       "        vertical-align: middle;\n",
       "    }\n",
       "\n",
       "    .dataframe tbody tr th {\n",
       "        vertical-align: top;\n",
       "    }\n",
       "\n",
       "    .dataframe thead th {\n",
       "        text-align: right;\n",
       "    }\n",
       "</style>\n",
       "<table border=\"1\" class=\"dataframe\">\n",
       "  <thead>\n",
       "    <tr style=\"text-align: right;\">\n",
       "      <th></th>\n",
       "      <th>_id</th>\n",
       "      <th>name</th>\n",
       "      <th>link</th>\n",
       "      <th>publish_date</th>\n",
       "      <th>salary_min</th>\n",
       "      <th>salary_max</th>\n",
       "      <th>lat</th>\n",
       "      <th>lon</th>\n",
       "      <th>city</th>\n",
       "      <th>employer</th>\n",
       "      <th>id</th>\n",
       "      <th>currency</th>\n",
       "      <th>site</th>\n",
       "    </tr>\n",
       "  </thead>\n",
       "  <tbody>\n",
       "    <tr>\n",
       "      <td>0</td>\n",
       "      <td>5efd83e56fa9af93f70e0836</td>\n",
       "      <td>Продавец-кассир (Псков, улица Максима Горького, 19А)</td>\n",
       "      <td>https://hh.ru/vacancy/37649115?query=продавец</td>\n",
       "      <td>2020-06-24</td>\n",
       "      <td>18,000.00</td>\n",
       "      <td>23,000.00</td>\n",
       "      <td>nan</td>\n",
       "      <td>nan</td>\n",
       "      <td>Псков, улица Максима Горького, 19А</td>\n",
       "      <td>Пятёрочка. Магазины</td>\n",
       "      <td>37,649,115.00</td>\n",
       "      <td>RUR</td>\n",
       "      <td>hh.ru</td>\n",
       "    </tr>\n",
       "    <tr>\n",
       "      <td>1</td>\n",
       "      <td>5efd83e56fa9af93f70e0837</td>\n",
       "      <td>Продавец-кассир (Вологда, улица Панкратова, 80)</td>\n",
       "      <td>https://hh.ru/vacancy/36745062?query=продавец</td>\n",
       "      <td>2020-06-10</td>\n",
       "      <td>18,000.00</td>\n",
       "      <td>23,000.00</td>\n",
       "      <td>39.83</td>\n",
       "      <td>39.83</td>\n",
       "      <td>Волода</td>\n",
       "      <td>Пятёрочка. Магазины</td>\n",
       "      <td>36,745,062.00</td>\n",
       "      <td>RUR</td>\n",
       "      <td>hh.ru</td>\n",
       "    </tr>\n",
       "    <tr>\n",
       "      <td>2</td>\n",
       "      <td>5efd83e56fa9af93f70e0838</td>\n",
       "      <td>Продавец-кассир (Москва, Флотская улица, 50)</td>\n",
       "      <td>https://hh.ru/vacancy/36911843?query=продавец</td>\n",
       "      <td>2020-06-29</td>\n",
       "      <td>33,500.00</td>\n",
       "      <td>38,000.00</td>\n",
       "      <td>37.50</td>\n",
       "      <td>37.50</td>\n",
       "      <td>Москва</td>\n",
       "      <td>Пятёрочка. Магазины</td>\n",
       "      <td>36,911,843.00</td>\n",
       "      <td>RUR</td>\n",
       "      <td>hh.ru</td>\n",
       "    </tr>\n",
       "    <tr>\n",
       "      <td>3</td>\n",
       "      <td>5efd83e56fa9af93f70e0839</td>\n",
       "      <td>Продавец-консультант автомобилей с пробегом Автопрайм</td>\n",
       "      <td>https://hh.ru/vacancy/37402498?query=продавец</td>\n",
       "      <td>2020-06-08</td>\n",
       "      <td>100,000.00</td>\n",
       "      <td>nan</td>\n",
       "      <td>30.36</td>\n",
       "      <td>30.36</td>\n",
       "      <td>Санкт-Петербург</td>\n",
       "      <td>РОЛЬФ, группа компаний</td>\n",
       "      <td>37,402,498.00</td>\n",
       "      <td>RUR</td>\n",
       "      <td>hh.ru</td>\n",
       "    </tr>\n",
       "    <tr>\n",
       "      <td>4</td>\n",
       "      <td>5efd83e56fa9af93f70e083a</td>\n",
       "      <td>Продавец-консультант (ТРЦ Гудзон)</td>\n",
       "      <td>https://hh.ru/vacancy/37740408?query=продавец</td>\n",
       "      <td>2020-06-29</td>\n",
       "      <td>38,000.00</td>\n",
       "      <td>nan</td>\n",
       "      <td>nan</td>\n",
       "      <td>nan</td>\n",
       "      <td>Нагорная, Варшавская, Нахимовский проспект, Каширская, Москва, Каширское шоссе, 14</td>\n",
       "      <td>Henderson</td>\n",
       "      <td>37,740,408.00</td>\n",
       "      <td>RUR</td>\n",
       "      <td>hh.ru</td>\n",
       "    </tr>\n",
       "    <tr>\n",
       "      <td>5</td>\n",
       "      <td>5efd83e56fa9af93f70e083b</td>\n",
       "      <td>Продавец-кассир (Киров, Московская улица, 203)</td>\n",
       "      <td>https://hh.ru/vacancy/36468819?query=продавец</td>\n",
       "      <td>2020-06-08</td>\n",
       "      <td>17,000.00</td>\n",
       "      <td>22,000.00</td>\n",
       "      <td>49.58</td>\n",
       "      <td>49.58</td>\n",
       "      <td>Киров</td>\n",
       "      <td>Пятёрочка. Магазины</td>\n",
       "      <td>36,468,819.00</td>\n",
       "      <td>RUR</td>\n",
       "      <td>hh.ru</td>\n",
       "    </tr>\n",
       "    <tr>\n",
       "      <td>6</td>\n",
       "      <td>5efd83e56fa9af93f70e083c</td>\n",
       "      <td>Продавец-консультант</td>\n",
       "      <td>https://hh.ru/vacancy/37687064?query=продавец</td>\n",
       "      <td>2020-06-30</td>\n",
       "      <td>41,000.00</td>\n",
       "      <td>nan</td>\n",
       "      <td>131.88</td>\n",
       "      <td>131.88</td>\n",
       "      <td>Владивосток</td>\n",
       "      <td>Связной</td>\n",
       "      <td>11,445,422.00</td>\n",
       "      <td>RUR</td>\n",
       "      <td>hh.ru</td>\n",
       "    </tr>\n",
       "    <tr>\n",
       "      <td>7</td>\n",
       "      <td>5efd83e56fa9af93f70e083d</td>\n",
       "      <td>Продавец-консультант</td>\n",
       "      <td>https://hh.ru/vacancy/37455392?query=продавец</td>\n",
       "      <td>2020-06-11</td>\n",
       "      <td>15,000.00</td>\n",
       "      <td>35,000.00</td>\n",
       "      <td>nan</td>\n",
       "      <td>nan</td>\n",
       "      <td>Омск, улица 10 лет Октября, 219/1</td>\n",
       "      <td>ООО ФОРТУНА 55</td>\n",
       "      <td>37,455,392.00</td>\n",
       "      <td>RUR</td>\n",
       "      <td>hh.ru</td>\n",
       "    </tr>\n",
       "    <tr>\n",
       "      <td>8</td>\n",
       "      <td>5efd83e56fa9af93f70e083e</td>\n",
       "      <td>Продавец-консультант (г. Печоры)</td>\n",
       "      <td>https://hh.ru/vacancy/37222849?query=продавец</td>\n",
       "      <td>2020-06-30</td>\n",
       "      <td>25,000.00</td>\n",
       "      <td>nan</td>\n",
       "      <td>nan</td>\n",
       "      <td>nan</td>\n",
       "      <td>Печоры</td>\n",
       "      <td>Связной</td>\n",
       "      <td>37,222,849.00</td>\n",
       "      <td>RUR</td>\n",
       "      <td>hh.ru</td>\n",
       "    </tr>\n",
       "    <tr>\n",
       "      <td>9</td>\n",
       "      <td>5efd83e56fa9af93f70e083f</td>\n",
       "      <td>Продавец-консультант в магазин одежды (ул.Бориса Богаткова)</td>\n",
       "      <td>https://hh.ru/vacancy/37501829?query=продавец</td>\n",
       "      <td>2020-06-16</td>\n",
       "      <td>27,000.00</td>\n",
       "      <td>nan</td>\n",
       "      <td>nan</td>\n",
       "      <td>nan</td>\n",
       "      <td>Новосибирск, улица Бориса Богаткова, 208/1</td>\n",
       "      <td>Торговая сеть OHARA</td>\n",
       "      <td>37,501,829.00</td>\n",
       "      <td>RUR</td>\n",
       "      <td>hh.ru</td>\n",
       "    </tr>\n",
       "    <tr>\n",
       "      <td>10</td>\n",
       "      <td>5efd83e56fa9af93f70e0840</td>\n",
       "      <td>Продавец-кассир (Богданович, Кооперативная улица, 7)</td>\n",
       "      <td>https://hh.ru/vacancy/36602151?query=продавец</td>\n",
       "      <td>2020-06-28</td>\n",
       "      <td>18,000.00</td>\n",
       "      <td>23,000.00</td>\n",
       "      <td>62.02</td>\n",
       "      <td>62.02</td>\n",
       "      <td>Богданович</td>\n",
       "      <td>Пятёрочка. Магазины</td>\n",
       "      <td>36,602,151.00</td>\n",
       "      <td>RUR</td>\n",
       "      <td>hh.ru</td>\n",
       "    </tr>\n",
       "    <tr>\n",
       "      <td>11</td>\n",
       "      <td>5efd83e56fa9af93f70e0841</td>\n",
       "      <td>Старший продавец/ Администратор</td>\n",
       "      <td>https://hh.ru/vacancy/37423105?query=продавец</td>\n",
       "      <td>2020-06-30</td>\n",
       "      <td>40,000.00</td>\n",
       "      <td>nan</td>\n",
       "      <td>nan</td>\n",
       "      <td>nan</td>\n",
       "      <td>деревня Колтуши</td>\n",
       "      <td>ИП Иванова Татьяна Анатольевна</td>\n",
       "      <td>37,423,105.00</td>\n",
       "      <td>RUR</td>\n",
       "      <td>hh.ru</td>\n",
       "    </tr>\n",
       "    <tr>\n",
       "      <td>12</td>\n",
       "      <td>5efd83e56fa9af93f70e0842</td>\n",
       "      <td>Продавец-кассир (ул. Филатова)</td>\n",
       "      <td>https://hh.ru/vacancy/37724755?query=продавец</td>\n",
       "      <td>2020-07-01</td>\n",
       "      <td>21,000.00</td>\n",
       "      <td>27,000.00</td>\n",
       "      <td>nan</td>\n",
       "      <td>nan</td>\n",
       "      <td>Краснодар</td>\n",
       "      <td>ООО ЮгОпт</td>\n",
       "      <td>37,724,755.00</td>\n",
       "      <td>RUR</td>\n",
       "      <td>hh.ru</td>\n",
       "    </tr>\n",
       "    <tr>\n",
       "      <td>13</td>\n",
       "      <td>5efd83e56fa9af93f70e0843</td>\n",
       "      <td>Продавец-Управляющий шоу-румом одежды</td>\n",
       "      <td>https://hh.ru/vacancy/37601249?query=продавец</td>\n",
       "      <td>2020-06-22</td>\n",
       "      <td>30,000.00</td>\n",
       "      <td>60,000.00</td>\n",
       "      <td>nan</td>\n",
       "      <td>nan</td>\n",
       "      <td>Тюмень, улица Герцена, 64</td>\n",
       "      <td>ИП Липихин Андрей Николаевич</td>\n",
       "      <td>37,601,249.00</td>\n",
       "      <td>RUR</td>\n",
       "      <td>hh.ru</td>\n",
       "    </tr>\n",
       "    <tr>\n",
       "      <td>14</td>\n",
       "      <td>5efd83e56fa9af93f70e0844</td>\n",
       "      <td>Оператор call-центра</td>\n",
       "      <td>https://hh.ru/vacancy/35169216?query=продавец</td>\n",
       "      <td>2020-06-30</td>\n",
       "      <td>26,000.00</td>\n",
       "      <td>nan</td>\n",
       "      <td>39.19</td>\n",
       "      <td>39.19</td>\n",
       "      <td>Воронеж</td>\n",
       "      <td>Связной</td>\n",
       "      <td>35,169,216.00</td>\n",
       "      <td>RUR</td>\n",
       "      <td>hh.ru</td>\n",
       "    </tr>\n",
       "    <tr>\n",
       "      <td>15</td>\n",
       "      <td>5efd83e56fa9af93f70e0845</td>\n",
       "      <td>Продавец-консультант</td>\n",
       "      <td>https://hh.ru/vacancy/37491993?query=продавец</td>\n",
       "      <td>2020-06-15</td>\n",
       "      <td>15,000.00</td>\n",
       "      <td>25,000.00</td>\n",
       "      <td>nan</td>\n",
       "      <td>nan</td>\n",
       "      <td>Таганрог, улица Дзержинского, 154-2А</td>\n",
       "      <td>ИП Kovalenko dance company</td>\n",
       "      <td>37,491,993.00</td>\n",
       "      <td>RUR</td>\n",
       "      <td>hh.ru</td>\n",
       "    </tr>\n",
       "    <tr>\n",
       "      <td>16</td>\n",
       "      <td>5efd83e56fa9af93f70e0846</td>\n",
       "      <td>Старший продавец-кассир (Самара, улица Буянова, 100)</td>\n",
       "      <td>https://hh.ru/vacancy/36627454?query=продавец</td>\n",
       "      <td>2020-06-17</td>\n",
       "      <td>22,000.00</td>\n",
       "      <td>28,000.00</td>\n",
       "      <td>50.12</td>\n",
       "      <td>50.12</td>\n",
       "      <td>Самара</td>\n",
       "      <td>Пятёрочка. Магазины</td>\n",
       "      <td>36,627,454.00</td>\n",
       "      <td>RUR</td>\n",
       "      <td>hh.ru</td>\n",
       "    </tr>\n",
       "    <tr>\n",
       "      <td>17</td>\n",
       "      <td>5efd83e56fa9af93f70e0847</td>\n",
       "      <td>Продавец-кассир (Бирск, улица Мира, 82)</td>\n",
       "      <td>https://hh.ru/vacancy/36706260?query=продавец</td>\n",
       "      <td>2020-06-29</td>\n",
       "      <td>14,000.00</td>\n",
       "      <td>17,000.00</td>\n",
       "      <td>55.55</td>\n",
       "      <td>55.55</td>\n",
       "      <td>г Бирск</td>\n",
       "      <td>Пятёрочка. Магазины</td>\n",
       "      <td>36,706,260.00</td>\n",
       "      <td>RUR</td>\n",
       "      <td>hh.ru</td>\n",
       "    </tr>\n",
       "    <tr>\n",
       "      <td>18</td>\n",
       "      <td>5efd83e56fa9af93f70e0848</td>\n",
       "      <td>Продавец-кассир</td>\n",
       "      <td>https://hh.ru/vacancy/37246758?query=продавец</td>\n",
       "      <td>2020-06-17</td>\n",
       "      <td>20,000.00</td>\n",
       "      <td>nan</td>\n",
       "      <td>nan</td>\n",
       "      <td>nan</td>\n",
       "      <td>Новошахтинск</td>\n",
       "      <td>ООО Ваш персонал</td>\n",
       "      <td>37,246,758.00</td>\n",
       "      <td>RUR</td>\n",
       "      <td>hh.ru</td>\n",
       "    </tr>\n",
       "    <tr>\n",
       "      <td>19</td>\n",
       "      <td>5efd83e56fa9af93f70e0849</td>\n",
       "      <td>Продавец в бутик одежды Trussardi (Аутлет Новая Рига)</td>\n",
       "      <td>https://hh.ru/vacancy/37583639?query=продавец</td>\n",
       "      <td>2020-07-01</td>\n",
       "      <td>50,000.00</td>\n",
       "      <td>85,000.00</td>\n",
       "      <td>nan</td>\n",
       "      <td>nan</td>\n",
       "      <td>деревня Лапшинка</td>\n",
       "      <td>Т.Р.С. Дистрибьюшн</td>\n",
       "      <td>37,583,639.00</td>\n",
       "      <td>RUR</td>\n",
       "      <td>hh.ru</td>\n",
       "    </tr>\n",
       "    <tr>\n",
       "      <td>20</td>\n",
       "      <td>5efd83e56fa9af93f70e084a</td>\n",
       "      <td>Продавец-консультант интернет-магазина (входящие звонки)</td>\n",
       "      <td>https://hh.ru/vacancy/37498885?query=продавец</td>\n",
       "      <td>2020-06-29</td>\n",
       "      <td>27,000.00</td>\n",
       "      <td>nan</td>\n",
       "      <td>50.11</td>\n",
       "      <td>50.11</td>\n",
       "      <td>Самара</td>\n",
       "      <td>М.Видео-Эльдорадо. Сервис и Логистика</td>\n",
       "      <td>37,498,885.00</td>\n",
       "      <td>RUR</td>\n",
       "      <td>hh.ru</td>\n",
       "    </tr>\n",
       "    <tr>\n",
       "      <td>21</td>\n",
       "      <td>5efd83e56fa9af93f70e084b</td>\n",
       "      <td>Мобильный продавец ( Ключевая)</td>\n",
       "      <td>https://hh.ru/vacancy/37436591?query=продавец</td>\n",
       "      <td>2020-06-22</td>\n",
       "      <td>18,000.00</td>\n",
       "      <td>22,000.00</td>\n",
       "      <td>34.44</td>\n",
       "      <td>34.44</td>\n",
       "      <td>Петрозаводск</td>\n",
       "      <td>Улыбка радуги</td>\n",
       "      <td>37,436,591.00</td>\n",
       "      <td>RUR</td>\n",
       "      <td>hh.ru</td>\n",
       "    </tr>\n",
       "    <tr>\n",
       "      <td>22</td>\n",
       "      <td>5efd83e56fa9af93f70e084c</td>\n",
       "      <td>Продавец-консультант (г. Севастополь)</td>\n",
       "      <td>https://hh.ru/vacancy/37589002?query=продавец</td>\n",
       "      <td>2020-06-19</td>\n",
       "      <td>30,000.00</td>\n",
       "      <td>nan</td>\n",
       "      <td>nan</td>\n",
       "      <td>nan</td>\n",
       "      <td>Севастополь</td>\n",
       "      <td>ООО Каби</td>\n",
       "      <td>37,589,002.00</td>\n",
       "      <td>RUR</td>\n",
       "      <td>hh.ru</td>\n",
       "    </tr>\n",
       "    <tr>\n",
       "      <td>23</td>\n",
       "      <td>5efd83e56fa9af93f70e084d</td>\n",
       "      <td>Продавец-кассир (Нефтеюганск, с12)</td>\n",
       "      <td>https://hh.ru/vacancy/36469098?query=продавец</td>\n",
       "      <td>2020-06-24</td>\n",
       "      <td>30,000.00</td>\n",
       "      <td>36,000.00</td>\n",
       "      <td>72.70</td>\n",
       "      <td>72.70</td>\n",
       "      <td>Нефтеюганск</td>\n",
       "      <td>Пятёрочка. Магазины</td>\n",
       "      <td>36,469,098.00</td>\n",
       "      <td>RUR</td>\n",
       "      <td>hh.ru</td>\n",
       "    </tr>\n",
       "    <tr>\n",
       "      <td>24</td>\n",
       "      <td>5efd83e56fa9af93f70e084e</td>\n",
       "      <td>Продавец-кассир (Нижний Новгород, улица Адмирала Васюнина, 2Б)</td>\n",
       "      <td>https://hh.ru/vacancy/37561372?query=продавец</td>\n",
       "      <td>2020-06-18</td>\n",
       "      <td>19,300.00</td>\n",
       "      <td>24,200.00</td>\n",
       "      <td>nan</td>\n",
       "      <td>nan</td>\n",
       "      <td>Горьковская, Нижний Новгород, улица Адмирала Васюнина, 2Б</td>\n",
       "      <td>Пятёрочка. Магазины</td>\n",
       "      <td>37,561,372.00</td>\n",
       "      <td>RUR</td>\n",
       "      <td>hh.ru</td>\n",
       "    </tr>\n",
       "    <tr>\n",
       "      <td>25</td>\n",
       "      <td>5efd83e56fa9af93f70e084f</td>\n",
       "      <td>Продавец магазина \"Магнит\" (м. Девяткино, м. Гражданский пр-кт)</td>\n",
       "      <td>https://hh.ru/vacancy/37494616?query=продавец</td>\n",
       "      <td>2020-06-15</td>\n",
       "      <td>33,200.00</td>\n",
       "      <td>nan</td>\n",
       "      <td>nan</td>\n",
       "      <td>nan</td>\n",
       "      <td>Санкт-Петербург</td>\n",
       "      <td>МАГНИТ, Розничная сеть</td>\n",
       "      <td>37,494,616.00</td>\n",
       "      <td>RUR</td>\n",
       "      <td>hh.ru</td>\n",
       "    </tr>\n",
       "    <tr>\n",
       "      <td>26</td>\n",
       "      <td>5efd83e56fa9af93f70e0850</td>\n",
       "      <td>Продавец-дизайнер в мебельный салон \"Инфинити\" (ТЦ Гранд)</td>\n",
       "      <td>https://hh.ru/vacancy/37668466?query=продавец</td>\n",
       "      <td>2020-06-30</td>\n",
       "      <td>50,000.00</td>\n",
       "      <td>100,000.00</td>\n",
       "      <td>nan</td>\n",
       "      <td>nan</td>\n",
       "      <td>Планерная, Химки, улица Бутаково, 4</td>\n",
       "      <td>INFINITI-Мебель</td>\n",
       "      <td>37,668,466.00</td>\n",
       "      <td>RUR</td>\n",
       "      <td>hh.ru</td>\n",
       "    </tr>\n",
       "    <tr>\n",
       "      <td>27</td>\n",
       "      <td>5efd83e56fa9af93f70e0851</td>\n",
       "      <td>Продавец-кассир (Орск, улица Пржевальского, 1А)</td>\n",
       "      <td>https://hh.ru/vacancy/36708651?query=продавец</td>\n",
       "      <td>2020-06-25</td>\n",
       "      <td>16,000.00</td>\n",
       "      <td>20,000.00</td>\n",
       "      <td>58.49</td>\n",
       "      <td>58.49</td>\n",
       "      <td>Орск</td>\n",
       "      <td>Пятёрочка. Магазины</td>\n",
       "      <td>36,708,651.00</td>\n",
       "      <td>RUR</td>\n",
       "      <td>hh.ru</td>\n",
       "    </tr>\n",
       "    <tr>\n",
       "      <td>28</td>\n",
       "      <td>5efd83e56fa9af93f70e0852</td>\n",
       "      <td>Продавец магазина \"Магнит Косметик\"</td>\n",
       "      <td>https://hh.ru/vacancy/37625435?query=продавец</td>\n",
       "      <td>2020-06-22</td>\n",
       "      <td>nan</td>\n",
       "      <td>20,700.00</td>\n",
       "      <td>nan</td>\n",
       "      <td>nan</td>\n",
       "      <td>Новокубанск</td>\n",
       "      <td>МАГНИТ, Розничная сеть</td>\n",
       "      <td>37,625,435.00</td>\n",
       "      <td>RUR</td>\n",
       "      <td>hh.ru</td>\n",
       "    </tr>\n",
       "    <tr>\n",
       "      <td>29</td>\n",
       "      <td>5efd83e56fa9af93f70e0853</td>\n",
       "      <td>Продавец-консультант (м. новокосино)</td>\n",
       "      <td>https://hh.ru/vacancy/37574874?query=продавец</td>\n",
       "      <td>2020-07-01</td>\n",
       "      <td>48,000.00</td>\n",
       "      <td>80,000.00</td>\n",
       "      <td>nan</td>\n",
       "      <td>nan</td>\n",
       "      <td>Москва, Новокосино</td>\n",
       "      <td>Билайн</td>\n",
       "      <td>37,574,874.00</td>\n",
       "      <td>RUR</td>\n",
       "      <td>hh.ru</td>\n",
       "    </tr>\n",
       "    <tr>\n",
       "      <td>30</td>\n",
       "      <td>5efd83e56fa9af93f70e0854</td>\n",
       "      <td>Продавец-кассир (ТЦ \"Республика\")</td>\n",
       "      <td>https://hh.ru/vacancy/37325355?query=продавец</td>\n",
       "      <td>2020-06-26</td>\n",
       "      <td>25,500.00</td>\n",
       "      <td>25,500.00</td>\n",
       "      <td>nan</td>\n",
       "      <td>nan</td>\n",
       "      <td>Нижний Новгород</td>\n",
       "      <td>ПАО Детский Мир</td>\n",
       "      <td>37,325,355.00</td>\n",
       "      <td>RUR</td>\n",
       "      <td>hh.ru</td>\n",
       "    </tr>\n",
       "    <tr>\n",
       "      <td>31</td>\n",
       "      <td>5efd83e56fa9af93f70e0855</td>\n",
       "      <td>Продавец-консультант</td>\n",
       "      <td>https://hh.ru/vacancy/37499248?query=продавец</td>\n",
       "      <td>2020-06-29</td>\n",
       "      <td>9,500.00</td>\n",
       "      <td>nan</td>\n",
       "      <td>nan</td>\n",
       "      <td>nan</td>\n",
       "      <td>Пермь, улица Мира, 20</td>\n",
       "      <td>ООО Оптима</td>\n",
       "      <td>37,499,248.00</td>\n",
       "      <td>RUR</td>\n",
       "      <td>hh.ru</td>\n",
       "    </tr>\n",
       "    <tr>\n",
       "      <td>32</td>\n",
       "      <td>5efd83e56fa9af93f70e0856</td>\n",
       "      <td>Продавец-кассир на АЗС (м. Академическая, Лесная, Финляндский вокзал, Ладожская)</td>\n",
       "      <td>https://hh.ru/vacancy/30386110?query=продавец</td>\n",
       "      <td>2020-06-29</td>\n",
       "      <td>27,000.00</td>\n",
       "      <td>30,000.00</td>\n",
       "      <td>nan</td>\n",
       "      <td>nan</td>\n",
       "      <td>Санкт-Петербург</td>\n",
       "      <td>Стопэкспресс</td>\n",
       "      <td>30,386,110.00</td>\n",
       "      <td>RUR</td>\n",
       "      <td>hh.ru</td>\n",
       "    </tr>\n",
       "    <tr>\n",
       "      <td>33</td>\n",
       "      <td>5efd83e56fa9af93f70e0857</td>\n",
       "      <td>Продавец-кассир</td>\n",
       "      <td>https://hh.ru/vacancy/37409279?query=продавец</td>\n",
       "      <td>2020-06-09</td>\n",
       "      <td>25,000.00</td>\n",
       "      <td>nan</td>\n",
       "      <td>nan</td>\n",
       "      <td>nan</td>\n",
       "      <td>Череповец</td>\n",
       "      <td>Компания «СПОРТМАСТЕР», Розничные продажи</td>\n",
       "      <td>37,409,279.00</td>\n",
       "      <td>RUR</td>\n",
       "      <td>hh.ru</td>\n",
       "    </tr>\n",
       "    <tr>\n",
       "      <td>34</td>\n",
       "      <td>5efd83e56fa9af93f70e0858</td>\n",
       "      <td>Продавец-консультант ювелирных изделий</td>\n",
       "      <td>https://hh.ru/vacancy/37585521?query=продавец</td>\n",
       "      <td>2020-06-25</td>\n",
       "      <td>25,000.00</td>\n",
       "      <td>nan</td>\n",
       "      <td>nan</td>\n",
       "      <td>nan</td>\n",
       "      <td>Бугульма</td>\n",
       "      <td>Наше Золото</td>\n",
       "      <td>37,585,521.00</td>\n",
       "      <td>RUR</td>\n",
       "      <td>hh.ru</td>\n",
       "    </tr>\n",
       "    <tr>\n",
       "      <td>35</td>\n",
       "      <td>5efd83e56fa9af93f70e0859</td>\n",
       "      <td>Продавец-кассир (Дзержинск, Советская улица, 13)</td>\n",
       "      <td>https://hh.ru/vacancy/36466702?query=продавец</td>\n",
       "      <td>2020-06-08</td>\n",
       "      <td>18,000.00</td>\n",
       "      <td>24,000.00</td>\n",
       "      <td>43.46</td>\n",
       "      <td>43.46</td>\n",
       "      <td>г Дзержинск</td>\n",
       "      <td>Пятёрочка. Магазины</td>\n",
       "      <td>36,466,702.00</td>\n",
       "      <td>RUR</td>\n",
       "      <td>hh.ru</td>\n",
       "    </tr>\n",
       "    <tr>\n",
       "      <td>36</td>\n",
       "      <td>5efd83e56fa9af93f70e085a</td>\n",
       "      <td>Старший продавец магазина \"Магнит Косметик\" (ЗЖМ)</td>\n",
       "      <td>https://hh.ru/vacancy/37640042?query=продавец</td>\n",
       "      <td>2020-06-23</td>\n",
       "      <td>27,300.00</td>\n",
       "      <td>29,800.00</td>\n",
       "      <td>nan</td>\n",
       "      <td>nan</td>\n",
       "      <td>Ростов-на-Дону</td>\n",
       "      <td>МАГНИТ, Розничная сеть</td>\n",
       "      <td>37,640,042.00</td>\n",
       "      <td>RUR</td>\n",
       "      <td>hh.ru</td>\n",
       "    </tr>\n",
       "    <tr>\n",
       "      <td>37</td>\n",
       "      <td>5efd83e56fa9af93f70e085b</td>\n",
       "      <td>Продавец-консультант (Куйбышевский р-н, свет, электрика)</td>\n",
       "      <td>https://hh.ru/vacancy/37486090?query=продавец</td>\n",
       "      <td>2020-06-17</td>\n",
       "      <td>23,000.00</td>\n",
       "      <td>25,000.00</td>\n",
       "      <td>nan</td>\n",
       "      <td>nan</td>\n",
       "      <td>Новокузнецк, улица Орджоникидзе, 19</td>\n",
       "      <td>ООО Управляющая компания Техносистема</td>\n",
       "      <td>37,486,090.00</td>\n",
       "      <td>RUR</td>\n",
       "      <td>hh.ru</td>\n",
       "    </tr>\n",
       "    <tr>\n",
       "      <td>38</td>\n",
       "      <td>5efd83e56fa9af93f70e085c</td>\n",
       "      <td>Продавец-консультант/Оптик-консультант в сеть салонов оптики</td>\n",
       "      <td>https://hh.ru/vacancy/37406900?query=продавец</td>\n",
       "      <td>2020-06-30</td>\n",
       "      <td>50,000.00</td>\n",
       "      <td>nan</td>\n",
       "      <td>nan</td>\n",
       "      <td>nan</td>\n",
       "      <td>Красногорск</td>\n",
       "      <td>Оптимист-Оптика, Сеть салонов</td>\n",
       "      <td>37,406,900.00</td>\n",
       "      <td>RUR</td>\n",
       "      <td>hh.ru</td>\n",
       "    </tr>\n",
       "    <tr>\n",
       "      <td>39</td>\n",
       "      <td>5efd83e56fa9af93f70e085d</td>\n",
       "      <td>Продавец наручных часов (Магазин ТЦ\"Галактика\")</td>\n",
       "      <td>https://hh.ru/vacancy/37636938?query=продавец</td>\n",
       "      <td>2020-06-23</td>\n",
       "      <td>20,000.00</td>\n",
       "      <td>30,000.00</td>\n",
       "      <td>nan</td>\n",
       "      <td>nan</td>\n",
       "      <td>Краснодар, Уральская улица, 98/11</td>\n",
       "      <td>ИП Передерий А.А.</td>\n",
       "      <td>37,636,938.00</td>\n",
       "      <td>RUR</td>\n",
       "      <td>hh.ru</td>\n",
       "    </tr>\n",
       "    <tr>\n",
       "      <td>40</td>\n",
       "      <td>5efd83e56fa9af93f70e085e</td>\n",
       "      <td>Продавец-кассир</td>\n",
       "      <td>https://hh.ru/vacancy/37562434?query=продавец</td>\n",
       "      <td>2020-06-18</td>\n",
       "      <td>21,000.00</td>\n",
       "      <td>nan</td>\n",
       "      <td>nan</td>\n",
       "      <td>nan</td>\n",
       "      <td>Тула</td>\n",
       "      <td>ДИКСИ. Магазины</td>\n",
       "      <td>37,562,434.00</td>\n",
       "      <td>RUR</td>\n",
       "      <td>hh.ru</td>\n",
       "    </tr>\n",
       "    <tr>\n",
       "      <td>41</td>\n",
       "      <td>5efd83e56fa9af93f70e085f</td>\n",
       "      <td>Продавец-консультант</td>\n",
       "      <td>https://hh.ru/vacancy/37616815?query=продавец</td>\n",
       "      <td>2020-06-22</td>\n",
       "      <td>800.00</td>\n",
       "      <td>nan</td>\n",
       "      <td>nan</td>\n",
       "      <td>nan</td>\n",
       "      <td>Минск</td>\n",
       "      <td>УП МИЛОНДА</td>\n",
       "      <td>37,616,815.00</td>\n",
       "      <td>BYR</td>\n",
       "      <td>hh.ru</td>\n",
       "    </tr>\n",
       "    <tr>\n",
       "      <td>42</td>\n",
       "      <td>5efd83e56fa9af93f70e0860</td>\n",
       "      <td>Продавец-кассир (Вельск, Октябрьская улица, 96)</td>\n",
       "      <td>https://hh.ru/vacancy/36469237?query=продавец</td>\n",
       "      <td>2020-06-08</td>\n",
       "      <td>20,000.00</td>\n",
       "      <td>24,000.00</td>\n",
       "      <td>42.10</td>\n",
       "      <td>42.10</td>\n",
       "      <td>Вельск</td>\n",
       "      <td>Пятёрочка. Магазины</td>\n",
       "      <td>36,469,237.00</td>\n",
       "      <td>RUR</td>\n",
       "      <td>hh.ru</td>\n",
       "    </tr>\n",
       "    <tr>\n",
       "      <td>43</td>\n",
       "      <td>5efd83e56fa9af93f70e0861</td>\n",
       "      <td>Продавец-кассир (Усмань, Комсомольская улица, 27)</td>\n",
       "      <td>https://hh.ru/vacancy/36467192?query=продавец</td>\n",
       "      <td>2020-06-24</td>\n",
       "      <td>21,000.00</td>\n",
       "      <td>23,000.00</td>\n",
       "      <td>39.74</td>\n",
       "      <td>39.74</td>\n",
       "      <td>Усмань</td>\n",
       "      <td>Пятёрочка. Магазины</td>\n",
       "      <td>36,467,192.00</td>\n",
       "      <td>RUR</td>\n",
       "      <td>hh.ru</td>\n",
       "    </tr>\n",
       "    <tr>\n",
       "      <td>44</td>\n",
       "      <td>5efd83e56fa9af93f70e0862</td>\n",
       "      <td>Продавец-консультант г. Нижневартовск</td>\n",
       "      <td>https://hh.ru/vacancy/36910962?query=продавец</td>\n",
       "      <td>2020-06-17</td>\n",
       "      <td>29,000.00</td>\n",
       "      <td>32,500.00</td>\n",
       "      <td>nan</td>\n",
       "      <td>nan</td>\n",
       "      <td>Нижневартовск</td>\n",
       "      <td>Билайн</td>\n",
       "      <td>36,910,962.00</td>\n",
       "      <td>RUR</td>\n",
       "      <td>hh.ru</td>\n",
       "    </tr>\n",
       "    <tr>\n",
       "      <td>45</td>\n",
       "      <td>5efd83e56fa9af93f70e0863</td>\n",
       "      <td>Продавец-консультант мебели для кухонь (ТЦ Красная Площадь)</td>\n",
       "      <td>https://hh.ru/vacancy/37673975?query=продавец</td>\n",
       "      <td>2020-06-30</td>\n",
       "      <td>33,000.00</td>\n",
       "      <td>40,000.00</td>\n",
       "      <td>38.98</td>\n",
       "      <td>38.98</td>\n",
       "      <td>Краснодар</td>\n",
       "      <td>Hoff</td>\n",
       "      <td>37,673,975.00</td>\n",
       "      <td>RUR</td>\n",
       "      <td>hh.ru</td>\n",
       "    </tr>\n",
       "    <tr>\n",
       "      <td>46</td>\n",
       "      <td>5efd83e56fa9af93f70e0864</td>\n",
       "      <td>Продавец-кассир</td>\n",
       "      <td>https://hh.ru/vacancy/37533378?query=продавец</td>\n",
       "      <td>2020-06-17</td>\n",
       "      <td>nan</td>\n",
       "      <td>26,000.00</td>\n",
       "      <td>nan</td>\n",
       "      <td>nan</td>\n",
       "      <td>Казань</td>\n",
       "      <td>ПАО Детский Мир</td>\n",
       "      <td>37,533,378.00</td>\n",
       "      <td>RUR</td>\n",
       "      <td>hh.ru</td>\n",
       "    </tr>\n",
       "    <tr>\n",
       "      <td>47</td>\n",
       "      <td>5efd83e56fa9af93f70e0865</td>\n",
       "      <td>Продавец-консультант автозапчасти для автомобилей</td>\n",
       "      <td>https://hh.ru/vacancy/37573317?query=продавец</td>\n",
       "      <td>2020-06-19</td>\n",
       "      <td>23,000.00</td>\n",
       "      <td>42,000.00</td>\n",
       "      <td>nan</td>\n",
       "      <td>nan</td>\n",
       "      <td>Кемерово</td>\n",
       "      <td>ООО ППСибтрансресуср</td>\n",
       "      <td>37,573,317.00</td>\n",
       "      <td>RUR</td>\n",
       "      <td>hh.ru</td>\n",
       "    </tr>\n",
       "    <tr>\n",
       "      <td>48</td>\n",
       "      <td>5efd83e56fa9af93f70e0866</td>\n",
       "      <td>Продавец-консультант</td>\n",
       "      <td>https://hh.ru/vacancy/37703286?query=продавец</td>\n",
       "      <td>2020-06-26</td>\n",
       "      <td>40,000.00</td>\n",
       "      <td>nan</td>\n",
       "      <td>nan</td>\n",
       "      <td>nan</td>\n",
       "      <td>Самара, Алабинская</td>\n",
       "      <td>ООО Успех</td>\n",
       "      <td>37,703,286.00</td>\n",
       "      <td>RUR</td>\n",
       "      <td>hh.ru</td>\n",
       "    </tr>\n",
       "    <tr>\n",
       "      <td>49</td>\n",
       "      <td>5efd8a526fa9af93f70e0868</td>\n",
       "      <td>Продавец-кассир (село Языково, улица Пушкина, 4)</td>\n",
       "      <td>https://hh.ru/vacancy/36706088?query=продавец</td>\n",
       "      <td>2020-06-25</td>\n",
       "      <td>15,000.00</td>\n",
       "      <td>18,000.00</td>\n",
       "      <td>55.02</td>\n",
       "      <td>55.02</td>\n",
       "      <td>село Языково</td>\n",
       "      <td>Пятёрочка. Магазины</td>\n",
       "      <td>36,706,088.00</td>\n",
       "      <td>RUR</td>\n",
       "      <td>hh.ru</td>\n",
       "    </tr>\n",
       "    <tr>\n",
       "      <td>50</td>\n",
       "      <td>5efd8a526fa9af93f70e0869</td>\n",
       "      <td>Продавец-консультант в салон МТС</td>\n",
       "      <td>https://hh.ru/vacancy/37575065?query=продавец</td>\n",
       "      <td>2020-06-19</td>\n",
       "      <td>25,000.00</td>\n",
       "      <td>nan</td>\n",
       "      <td>nan</td>\n",
       "      <td>nan</td>\n",
       "      <td>Черемхово</td>\n",
       "      <td>Розничная сеть МТС</td>\n",
       "      <td>37,575,065.00</td>\n",
       "      <td>RUR</td>\n",
       "      <td>hh.ru</td>\n",
       "    </tr>\n",
       "    <tr>\n",
       "      <td>51</td>\n",
       "      <td>5efd8a526fa9af93f70e086a</td>\n",
       "      <td>Продавец-универсал в Гипермаркет \"Магнит\"</td>\n",
       "      <td>https://hh.ru/vacancy/37576466?query=продавец</td>\n",
       "      <td>2020-06-19</td>\n",
       "      <td>21,200.00</td>\n",
       "      <td>nan</td>\n",
       "      <td>nan</td>\n",
       "      <td>nan</td>\n",
       "      <td>Новочебоксарск</td>\n",
       "      <td>МАГНИТ, Розничная сеть</td>\n",
       "      <td>37,576,466.00</td>\n",
       "      <td>RUR</td>\n",
       "      <td>hh.ru</td>\n",
       "    </tr>\n",
       "    <tr>\n",
       "      <td>52</td>\n",
       "      <td>5efd8a526fa9af93f70e086b</td>\n",
       "      <td>Продавец в павильон, г.Витебск</td>\n",
       "      <td>https://hh.ru/vacancy/37341192?query=продавец</td>\n",
       "      <td>2020-06-04</td>\n",
       "      <td>500.00</td>\n",
       "      <td>nan</td>\n",
       "      <td>nan</td>\n",
       "      <td>nan</td>\n",
       "      <td>Витебск</td>\n",
       "      <td>Серволюкс, Группа компаний</td>\n",
       "      <td>37,341,192.00</td>\n",
       "      <td>BYR</td>\n",
       "      <td>hh.ru</td>\n",
       "    </tr>\n",
       "    <tr>\n",
       "      <td>53</td>\n",
       "      <td>5efd8a526fa9af93f70e086c</td>\n",
       "      <td>Продавец-кассир</td>\n",
       "      <td>https://hh.ru/vacancy/37533230?query=продавец</td>\n",
       "      <td>2020-06-30</td>\n",
       "      <td>24,000.00</td>\n",
       "      <td>26,000.00</td>\n",
       "      <td>nan</td>\n",
       "      <td>nan</td>\n",
       "      <td>Уфа</td>\n",
       "      <td>Улыбка радуги</td>\n",
       "      <td>37,533,230.00</td>\n",
       "      <td>RUR</td>\n",
       "      <td>hh.ru</td>\n",
       "    </tr>\n",
       "    <tr>\n",
       "      <td>54</td>\n",
       "      <td>5efd8a526fa9af93f70e086d</td>\n",
       "      <td>Продавец-кассир (Нижний Новгород, улица Краснодонцев, 17)</td>\n",
       "      <td>https://hh.ru/vacancy/36467612?query=продавец</td>\n",
       "      <td>2020-06-24</td>\n",
       "      <td>19,300.00</td>\n",
       "      <td>24,200.00</td>\n",
       "      <td>43.85</td>\n",
       "      <td>43.85</td>\n",
       "      <td>Нижний Новород</td>\n",
       "      <td>Пятёрочка. Магазины</td>\n",
       "      <td>36,467,612.00</td>\n",
       "      <td>RUR</td>\n",
       "      <td>hh.ru</td>\n",
       "    </tr>\n",
       "    <tr>\n",
       "      <td>55</td>\n",
       "      <td>5efd8a526fa9af93f70e086e</td>\n",
       "      <td>Работник торгового зала</td>\n",
       "      <td>https://hh.ru/vacancy/36935315?query=продавец</td>\n",
       "      <td>2020-06-09</td>\n",
       "      <td>nan</td>\n",
       "      <td>23,000.00</td>\n",
       "      <td>nan</td>\n",
       "      <td>nan</td>\n",
       "      <td>Иркутск</td>\n",
       "      <td>Работут</td>\n",
       "      <td>36,935,315.00</td>\n",
       "      <td>RUR</td>\n",
       "      <td>hh.ru</td>\n",
       "    </tr>\n",
       "    <tr>\n",
       "      <td>56</td>\n",
       "      <td>5efd8a526fa9af93f70e086f</td>\n",
       "      <td>Продавец сантехнических товаров</td>\n",
       "      <td>https://hh.ru/vacancy/37145758?query=продавец</td>\n",
       "      <td>2020-06-24</td>\n",
       "      <td>20,000.00</td>\n",
       "      <td>nan</td>\n",
       "      <td>nan</td>\n",
       "      <td>nan</td>\n",
       "      <td>Брянск, Фокина, 119</td>\n",
       "      <td>Акватек</td>\n",
       "      <td>37,145,758.00</td>\n",
       "      <td>RUR</td>\n",
       "      <td>hh.ru</td>\n",
       "    </tr>\n",
       "    <tr>\n",
       "      <td>57</td>\n",
       "      <td>5efd8a526fa9af93f70e0870</td>\n",
       "      <td>Продавец кондитерских изделий (15 мин. от ст м \"Московская\")</td>\n",
       "      <td>https://hh.ru/vacancy/37371798?query=продавец</td>\n",
       "      <td>2020-06-05</td>\n",
       "      <td>800.00</td>\n",
       "      <td>1,200.00</td>\n",
       "      <td>nan</td>\n",
       "      <td>nan</td>\n",
       "      <td>Минск</td>\n",
       "      <td>ИП Обухова М.Г.</td>\n",
       "      <td>37,371,798.00</td>\n",
       "      <td>BYR</td>\n",
       "      <td>hh.ru</td>\n",
       "    </tr>\n",
       "    <tr>\n",
       "      <td>58</td>\n",
       "      <td>5efd8a526fa9af93f70e0871</td>\n",
       "      <td>Продавец-консультант (Мега)</td>\n",
       "      <td>https://hh.ru/vacancy/37666379?query=продавец</td>\n",
       "      <td>2020-06-25</td>\n",
       "      <td>25,000.00</td>\n",
       "      <td>nan</td>\n",
       "      <td>nan</td>\n",
       "      <td>nan</td>\n",
       "      <td>Федяково (Нижегородская область)</td>\n",
       "      <td>Снежная Королева</td>\n",
       "      <td>37,666,379.00</td>\n",
       "      <td>RUR</td>\n",
       "      <td>hh.ru</td>\n",
       "    </tr>\n",
       "    <tr>\n",
       "      <td>59</td>\n",
       "      <td>5efd8a526fa9af93f70e0872</td>\n",
       "      <td>Продавец-кассир (Рязань, улица Тимуровцев, 5)</td>\n",
       "      <td>https://hh.ru/vacancy/37656765?query=продавец</td>\n",
       "      <td>2020-06-24</td>\n",
       "      <td>21,000.00</td>\n",
       "      <td>26,000.00</td>\n",
       "      <td>nan</td>\n",
       "      <td>nan</td>\n",
       "      <td>Рязанская область, улица Тимуровцев, 5</td>\n",
       "      <td>Пятёрочка. Магазины</td>\n",
       "      <td>37,656,765.00</td>\n",
       "      <td>RUR</td>\n",
       "      <td>hh.ru</td>\n",
       "    </tr>\n",
       "    <tr>\n",
       "      <td>60</td>\n",
       "      <td>5efd8a526fa9af93f70e0873</td>\n",
       "      <td>Продавец-консультант</td>\n",
       "      <td>https://hh.ru/vacancy/37597044?query=продавец</td>\n",
       "      <td>2020-06-21</td>\n",
       "      <td>90,000.00</td>\n",
       "      <td>165,000.00</td>\n",
       "      <td>nan</td>\n",
       "      <td>nan</td>\n",
       "      <td>Усть-Каменогорск</td>\n",
       "      <td>ИП Лесовская Д.В.</td>\n",
       "      <td>37,597,044.00</td>\n",
       "      <td>KZT</td>\n",
       "      <td>hh.ru</td>\n",
       "    </tr>\n",
       "    <tr>\n",
       "      <td>61</td>\n",
       "      <td>5efd8a526fa9af93f70e0874</td>\n",
       "      <td>Продавец-консультант</td>\n",
       "      <td>https://hh.ru/vacancy/37360730?query=продавец</td>\n",
       "      <td>2020-06-29</td>\n",
       "      <td>20,000.00</td>\n",
       "      <td>25,000.00</td>\n",
       "      <td>nan</td>\n",
       "      <td>nan</td>\n",
       "      <td>Кондопога</td>\n",
       "      <td>ИП Берляков Никита Владимирович</td>\n",
       "      <td>37,360,730.00</td>\n",
       "      <td>RUR</td>\n",
       "      <td>hh.ru</td>\n",
       "    </tr>\n",
       "    <tr>\n",
       "      <td>62</td>\n",
       "      <td>5efd8a526fa9af93f70e0875</td>\n",
       "      <td>Продавец-консультант</td>\n",
       "      <td>https://hh.ru/vacancy/37558963?query=продавец</td>\n",
       "      <td>2020-06-30</td>\n",
       "      <td>80,000.00</td>\n",
       "      <td>90,000.00</td>\n",
       "      <td>nan</td>\n",
       "      <td>nan</td>\n",
       "      <td>Теплый Стан, Москва, МКАД, 41-й километр, 4с13</td>\n",
       "      <td>ООО Большой мастер</td>\n",
       "      <td>37,558,963.00</td>\n",
       "      <td>RUR</td>\n",
       "      <td>hh.ru</td>\n",
       "    </tr>\n",
       "    <tr>\n",
       "      <td>63</td>\n",
       "      <td>5efd8a526fa9af93f70e0876</td>\n",
       "      <td>Продавец-кассир (магазин-бар)</td>\n",
       "      <td>https://hh.ru/vacancy/37584672?query=продавец</td>\n",
       "      <td>2020-06-19</td>\n",
       "      <td>20,000.00</td>\n",
       "      <td>20,000.00</td>\n",
       "      <td>nan</td>\n",
       "      <td>nan</td>\n",
       "      <td>Архангельск</td>\n",
       "      <td>ООО Долина</td>\n",
       "      <td>37,584,672.00</td>\n",
       "      <td>RUR</td>\n",
       "      <td>hh.ru</td>\n",
       "    </tr>\n",
       "    <tr>\n",
       "      <td>64</td>\n",
       "      <td>5efd8a526fa9af93f70e0877</td>\n",
       "      <td>Продавец-консультант тканей для одежды (Ленина 28)</td>\n",
       "      <td>https://hh.ru/vacancy/37336164?query=продавец</td>\n",
       "      <td>2020-06-04</td>\n",
       "      <td>20,000.00</td>\n",
       "      <td>40,000.00</td>\n",
       "      <td>nan</td>\n",
       "      <td>nan</td>\n",
       "      <td>Кемерово, проспект Ленина, 28</td>\n",
       "      <td>ООО МирТек</td>\n",
       "      <td>37,336,164.00</td>\n",
       "      <td>RUR</td>\n",
       "      <td>hh.ru</td>\n",
       "    </tr>\n",
       "    <tr>\n",
       "      <td>65</td>\n",
       "      <td>5efd8a526fa9af93f70e0878</td>\n",
       "      <td>Продавец магазина Магнит (г. Иваново, ул. 23-я Линия)</td>\n",
       "      <td>https://hh.ru/vacancy/37318700?query=продавец</td>\n",
       "      <td>2020-06-03</td>\n",
       "      <td>25,000.00</td>\n",
       "      <td>31,300.00</td>\n",
       "      <td>nan</td>\n",
       "      <td>nan</td>\n",
       "      <td>Иваново (Ивановская область)</td>\n",
       "      <td>МАГНИТ, Розничная сеть</td>\n",
       "      <td>37,318,700.00</td>\n",
       "      <td>RUR</td>\n",
       "      <td>hh.ru</td>\n",
       "    </tr>\n",
       "    <tr>\n",
       "      <td>66</td>\n",
       "      <td>5efd8a526fa9af93f70e0879</td>\n",
       "      <td>Продавец-кассир (Шишкин Лес)</td>\n",
       "      <td>https://hh.ru/vacancy/36113748?query=продавец</td>\n",
       "      <td>2020-06-26</td>\n",
       "      <td>30,800.00</td>\n",
       "      <td>38,500.00</td>\n",
       "      <td>nan</td>\n",
       "      <td>nan</td>\n",
       "      <td>Шишкин Лес</td>\n",
       "      <td>МАГНИТ, Розничная сеть</td>\n",
       "      <td>36,113,748.00</td>\n",
       "      <td>RUR</td>\n",
       "      <td>hh.ru</td>\n",
       "    </tr>\n",
       "    <tr>\n",
       "      <td>67</td>\n",
       "      <td>5efd8a526fa9af93f70e087a</td>\n",
       "      <td>Продавец-кассир</td>\n",
       "      <td>https://hh.ru/vacancy/37531486?query=продавец</td>\n",
       "      <td>2020-06-30</td>\n",
       "      <td>35,000.00</td>\n",
       "      <td>35,000.00</td>\n",
       "      <td>37.68</td>\n",
       "      <td>37.68</td>\n",
       "      <td>Москва</td>\n",
       "      <td>Home market</td>\n",
       "      <td>37,531,486.00</td>\n",
       "      <td>RUR</td>\n",
       "      <td>hh.ru</td>\n",
       "    </tr>\n",
       "    <tr>\n",
       "      <td>68</td>\n",
       "      <td>5efd8a526fa9af93f70e087b</td>\n",
       "      <td>Продавец-кассир в ТЦ \"Континент Бухарестская\"</td>\n",
       "      <td>https://hh.ru/vacancy/37505226?query=продавец</td>\n",
       "      <td>2020-06-16</td>\n",
       "      <td>0.00</td>\n",
       "      <td>33,000.00</td>\n",
       "      <td>30.37</td>\n",
       "      <td>30.37</td>\n",
       "      <td>Санкт-Петербург</td>\n",
       "      <td>ПАО Детский Мир</td>\n",
       "      <td>37,505,226.00</td>\n",
       "      <td>RUR</td>\n",
       "      <td>hh.ru</td>\n",
       "    </tr>\n",
       "    <tr>\n",
       "      <td>69</td>\n",
       "      <td>5efd8a526fa9af93f70e087c</td>\n",
       "      <td>Продавец-консультант</td>\n",
       "      <td>https://hh.ru/vacancy/37629113?query=продавец</td>\n",
       "      <td>2020-06-23</td>\n",
       "      <td>20,000.00</td>\n",
       "      <td>35,000.00</td>\n",
       "      <td>nan</td>\n",
       "      <td>nan</td>\n",
       "      <td>Орёл, улица Металлургов, 17Б</td>\n",
       "      <td>Весёлый кот</td>\n",
       "      <td>37,629,113.00</td>\n",
       "      <td>RUR</td>\n",
       "      <td>hh.ru</td>\n",
       "    </tr>\n",
       "    <tr>\n",
       "      <td>70</td>\n",
       "      <td>5efd8a526fa9af93f70e087d</td>\n",
       "      <td>Продавец-кассир выходного дня (Котельники)</td>\n",
       "      <td>https://hh.ru/vacancy/37724555?query=продавец</td>\n",
       "      <td>2020-06-29</td>\n",
       "      <td>20,000.00</td>\n",
       "      <td>nan</td>\n",
       "      <td>37.84</td>\n",
       "      <td>37.84</td>\n",
       "      <td>Котельники</td>\n",
       "      <td>THOMAS MUNZ</td>\n",
       "      <td>37,724,555.00</td>\n",
       "      <td>RUR</td>\n",
       "      <td>hh.ru</td>\n",
       "    </tr>\n",
       "    <tr>\n",
       "      <td>71</td>\n",
       "      <td>5efd8a526fa9af93f70e087e</td>\n",
       "      <td>Продавец-кассир (Санкт-Петербург, улица Костюшко, 68)</td>\n",
       "      <td>https://hh.ru/vacancy/36927060?query=продавец</td>\n",
       "      <td>2020-06-30</td>\n",
       "      <td>27,000.00</td>\n",
       "      <td>33,000.00</td>\n",
       "      <td>30.31</td>\n",
       "      <td>30.31</td>\n",
       "      <td>Санкт-Петербур</td>\n",
       "      <td>Пятёрочка. Магазины</td>\n",
       "      <td>36,927,060.00</td>\n",
       "      <td>RUR</td>\n",
       "      <td>hh.ru</td>\n",
       "    </tr>\n",
       "    <tr>\n",
       "      <td>72</td>\n",
       "      <td>5efd8a526fa9af93f70e087f</td>\n",
       "      <td>Продавец - консультант в салон Мегафон</td>\n",
       "      <td>https://hh.ru/vacancy/37411832?query=продавец</td>\n",
       "      <td>2020-06-23</td>\n",
       "      <td>25,000.00</td>\n",
       "      <td>30,000.00</td>\n",
       "      <td>nan</td>\n",
       "      <td>nan</td>\n",
       "      <td>Киевский</td>\n",
       "      <td>Эра Людей</td>\n",
       "      <td>37,411,832.00</td>\n",
       "      <td>RUR</td>\n",
       "      <td>hh.ru</td>\n",
       "    </tr>\n",
       "    <tr>\n",
       "      <td>73</td>\n",
       "      <td>5efd8a526fa9af93f70e0880</td>\n",
       "      <td>Продавец-кассир (Новоалександровск, улица Победы, 19)</td>\n",
       "      <td>https://hh.ru/vacancy/37651978?query=продавец</td>\n",
       "      <td>2020-06-24</td>\n",
       "      <td>15,000.00</td>\n",
       "      <td>23,000.00</td>\n",
       "      <td>nan</td>\n",
       "      <td>nan</td>\n",
       "      <td>Новоалександровск, улица Победы, 19</td>\n",
       "      <td>Пятёрочка. Магазины</td>\n",
       "      <td>37,651,978.00</td>\n",
       "      <td>RUR</td>\n",
       "      <td>hh.ru</td>\n",
       "    </tr>\n",
       "    <tr>\n",
       "      <td>74</td>\n",
       "      <td>5efd8a526fa9af93f70e0881</td>\n",
       "      <td>Продавец магазина Магнит у дома</td>\n",
       "      <td>https://hh.ru/vacancy/36448912?query=продавец</td>\n",
       "      <td>2020-06-25</td>\n",
       "      <td>24,000.00</td>\n",
       "      <td>29,000.00</td>\n",
       "      <td>nan</td>\n",
       "      <td>nan</td>\n",
       "      <td>Строитель (Белгородская область)</td>\n",
       "      <td>МАГНИТ, Розничная сеть</td>\n",
       "      <td>36,448,912.00</td>\n",
       "      <td>RUR</td>\n",
       "      <td>hh.ru</td>\n",
       "    </tr>\n",
       "    <tr>\n",
       "      <td>75</td>\n",
       "      <td>5efd8a526fa9af93f70e0882</td>\n",
       "      <td>Продавец-консультант ювелирных изделий</td>\n",
       "      <td>https://hh.ru/vacancy/37504605?query=продавец</td>\n",
       "      <td>2020-06-16</td>\n",
       "      <td>60,000.00</td>\n",
       "      <td>nan</td>\n",
       "      <td>nan</td>\n",
       "      <td>nan</td>\n",
       "      <td>Алматы, улица Кабдолова, 1/3</td>\n",
       "      <td>ТОО Aisafi</td>\n",
       "      <td>37,504,605.00</td>\n",
       "      <td>KZT</td>\n",
       "      <td>hh.ru</td>\n",
       "    </tr>\n",
       "    <tr>\n",
       "      <td>76</td>\n",
       "      <td>5efd8a526fa9af93f70e0883</td>\n",
       "      <td>Продавец-кассир Kimex</td>\n",
       "      <td>https://hh.ru/vacancy/37654697?query=продавец</td>\n",
       "      <td>2020-06-24</td>\n",
       "      <td>100,000.00</td>\n",
       "      <td>nan</td>\n",
       "      <td>nan</td>\n",
       "      <td>nan</td>\n",
       "      <td>Алматы, улица Жарокова, 366</td>\n",
       "      <td>ТОО Немос</td>\n",
       "      <td>37,654,697.00</td>\n",
       "      <td>KZT</td>\n",
       "      <td>hh.ru</td>\n",
       "    </tr>\n",
       "    <tr>\n",
       "      <td>77</td>\n",
       "      <td>5efd8a526fa9af93f70e0884</td>\n",
       "      <td>Продавец на фирменную стойку (м. Солнцево)</td>\n",
       "      <td>https://hh.ru/vacancy/36955568?query=продавец</td>\n",
       "      <td>2020-06-30</td>\n",
       "      <td>40,000.00</td>\n",
       "      <td>nan</td>\n",
       "      <td>37.39</td>\n",
       "      <td>37.39</td>\n",
       "      <td>Москва</td>\n",
       "      <td>Розничная сеть МТС</td>\n",
       "      <td>36,955,568.00</td>\n",
       "      <td>RUR</td>\n",
       "      <td>hh.ru</td>\n",
       "    </tr>\n",
       "    <tr>\n",
       "      <td>78</td>\n",
       "      <td>5efd8a526fa9af93f70e0885</td>\n",
       "      <td>Продавец-кассир (Белёв, Рабочая улица, 98А)</td>\n",
       "      <td>https://hh.ru/vacancy/37651959?query=продавец</td>\n",
       "      <td>2020-06-24</td>\n",
       "      <td>22,000.00</td>\n",
       "      <td>24,000.00</td>\n",
       "      <td>nan</td>\n",
       "      <td>nan</td>\n",
       "      <td>Белёв, Рабочая улица, 98А</td>\n",
       "      <td>Пятёрочка. Магазины</td>\n",
       "      <td>37,651,959.00</td>\n",
       "      <td>RUR</td>\n",
       "      <td>hh.ru</td>\n",
       "    </tr>\n",
       "    <tr>\n",
       "      <td>79</td>\n",
       "      <td>5efd8a526fa9af93f70e0886</td>\n",
       "      <td>Продавец-кассир</td>\n",
       "      <td>https://hh.ru/vacancy/37582072?query=продавец</td>\n",
       "      <td>2020-06-19</td>\n",
       "      <td>14,000.00</td>\n",
       "      <td>20,500.00</td>\n",
       "      <td>nan</td>\n",
       "      <td>nan</td>\n",
       "      <td>Бугульма</td>\n",
       "      <td>Улыбка радуги</td>\n",
       "      <td>37,582,072.00</td>\n",
       "      <td>RUR</td>\n",
       "      <td>hh.ru</td>\n",
       "    </tr>\n",
       "    <tr>\n",
       "      <td>80</td>\n",
       "      <td>5efd8a526fa9af93f70e0887</td>\n",
       "      <td>Продавец-кассир (Дубна, Тверская улица, 4А)</td>\n",
       "      <td>https://hh.ru/vacancy/36912915?query=продавец</td>\n",
       "      <td>2020-06-22</td>\n",
       "      <td>24,000.00</td>\n",
       "      <td>30,000.00</td>\n",
       "      <td>37.14</td>\n",
       "      <td>37.14</td>\n",
       "      <td>Дубна</td>\n",
       "      <td>Пятёрочка. Магазины</td>\n",
       "      <td>36,912,915.00</td>\n",
       "      <td>RUR</td>\n",
       "      <td>hh.ru</td>\n",
       "    </tr>\n",
       "    <tr>\n",
       "      <td>81</td>\n",
       "      <td>5efd8a526fa9af93f70e0888</td>\n",
       "      <td>Специалист офиса продаж</td>\n",
       "      <td>https://hh.ru/vacancy/35456902?query=продавец</td>\n",
       "      <td>2020-06-26</td>\n",
       "      <td>38,000.00</td>\n",
       "      <td>nan</td>\n",
       "      <td>38.19</td>\n",
       "      <td>38.19</td>\n",
       "      <td>Кашира</td>\n",
       "      <td>Связной</td>\n",
       "      <td>35,456,902.00</td>\n",
       "      <td>RUR</td>\n",
       "      <td>hh.ru</td>\n",
       "    </tr>\n",
       "    <tr>\n",
       "      <td>82</td>\n",
       "      <td>5efd8a526fa9af93f70e0889</td>\n",
       "      <td>Продавец-консультант</td>\n",
       "      <td>https://hh.ru/vacancy/37599942?query=продавец</td>\n",
       "      <td>2020-06-22</td>\n",
       "      <td>150,000.00</td>\n",
       "      <td>250,000.00</td>\n",
       "      <td>nan</td>\n",
       "      <td>nan</td>\n",
       "      <td>Нур-Султан</td>\n",
       "      <td>ТОО МЕЧТА, ТМ (Мечта Маркет, ТОО)</td>\n",
       "      <td>37,599,942.00</td>\n",
       "      <td>KZT</td>\n",
       "      <td>hh.ru</td>\n",
       "    </tr>\n",
       "    <tr>\n",
       "      <td>83</td>\n",
       "      <td>5efd8a526fa9af93f70e088a</td>\n",
       "      <td>Продавец-консультант</td>\n",
       "      <td>https://hh.ru/vacancy/37016469?query=продавец</td>\n",
       "      <td>2020-06-29</td>\n",
       "      <td>22,000.00</td>\n",
       "      <td>27,500.00</td>\n",
       "      <td>nan</td>\n",
       "      <td>nan</td>\n",
       "      <td>Тобольск</td>\n",
       "      <td>Билайн</td>\n",
       "      <td>37,016,469.00</td>\n",
       "      <td>RUR</td>\n",
       "      <td>hh.ru</td>\n",
       "    </tr>\n",
       "    <tr>\n",
       "      <td>84</td>\n",
       "      <td>5efd8a526fa9af93f70e088b</td>\n",
       "      <td>Продавец-кассир частичная занятость ТЦ Город</td>\n",
       "      <td>https://hh.ru/vacancy/37731364?query=продавец</td>\n",
       "      <td>2020-06-29</td>\n",
       "      <td>17,150.00</td>\n",
       "      <td>19,000.00</td>\n",
       "      <td>37.49</td>\n",
       "      <td>37.49</td>\n",
       "      <td>Долгопрудный</td>\n",
       "      <td>FUNDAY</td>\n",
       "      <td>37,731,364.00</td>\n",
       "      <td>RUR</td>\n",
       "      <td>hh.ru</td>\n",
       "    </tr>\n",
       "    <tr>\n",
       "      <td>85</td>\n",
       "      <td>5efd8a526fa9af93f70e088c</td>\n",
       "      <td>Продавец-кассир (Навашино, Почтовая улица, 20)</td>\n",
       "      <td>https://hh.ru/vacancy/36466109?query=продавец</td>\n",
       "      <td>2020-06-24</td>\n",
       "      <td>16,538.00</td>\n",
       "      <td>20,672.00</td>\n",
       "      <td>42.20</td>\n",
       "      <td>42.20</td>\n",
       "      <td>г Навашино</td>\n",
       "      <td>Пятёрочка. Магазины</td>\n",
       "      <td>36,466,109.00</td>\n",
       "      <td>RUR</td>\n",
       "      <td>hh.ru</td>\n",
       "    </tr>\n",
       "    <tr>\n",
       "      <td>86</td>\n",
       "      <td>5efd8a526fa9af93f70e088d</td>\n",
       "      <td>Продавец-кассир в магазин \"Куриный дом\"</td>\n",
       "      <td>https://hh.ru/vacancy/36761792?query=продавец</td>\n",
       "      <td>2020-06-09</td>\n",
       "      <td>30,000.00</td>\n",
       "      <td>nan</td>\n",
       "      <td>nan</td>\n",
       "      <td>nan</td>\n",
       "      <td>Раменское</td>\n",
       "      <td>Куриный дом</td>\n",
       "      <td>36,761,792.00</td>\n",
       "      <td>RUR</td>\n",
       "      <td>hh.ru</td>\n",
       "    </tr>\n",
       "    <tr>\n",
       "      <td>87</td>\n",
       "      <td>5efd8a526fa9af93f70e088e</td>\n",
       "      <td>Продавец-кассир (Муром, Радиозаводское шоссе, 38А)</td>\n",
       "      <td>https://hh.ru/vacancy/37149276?query=продавец</td>\n",
       "      <td>2020-06-10</td>\n",
       "      <td>18,950.00</td>\n",
       "      <td>23,700.00</td>\n",
       "      <td>42.05</td>\n",
       "      <td>42.05</td>\n",
       "      <td>Муром</td>\n",
       "      <td>Пятёрочка. Магазины</td>\n",
       "      <td>37,149,276.00</td>\n",
       "      <td>RUR</td>\n",
       "      <td>hh.ru</td>\n",
       "    </tr>\n",
       "    <tr>\n",
       "      <td>88</td>\n",
       "      <td>5efd8a526fa9af93f70e088f</td>\n",
       "      <td>Продавец-консультант (м. Митино)</td>\n",
       "      <td>https://hh.ru/vacancy/37343625?query=продавец</td>\n",
       "      <td>2020-06-26</td>\n",
       "      <td>35,000.00</td>\n",
       "      <td>nan</td>\n",
       "      <td>37.36</td>\n",
       "      <td>37.36</td>\n",
       "      <td>Москва</td>\n",
       "      <td>Компания «СПОРТМАСТЕР», Розничные продажи</td>\n",
       "      <td>37,343,625.00</td>\n",
       "      <td>RUR</td>\n",
       "      <td>hh.ru</td>\n",
       "    </tr>\n",
       "    <tr>\n",
       "      <td>89</td>\n",
       "      <td>5efd8a526fa9af93f70e0890</td>\n",
       "      <td>Продавец в салон МТС (Петрозаводск)</td>\n",
       "      <td>https://hh.ru/vacancy/37634150?query=продавец</td>\n",
       "      <td>2020-07-01</td>\n",
       "      <td>29,500.00</td>\n",
       "      <td>40,000.00</td>\n",
       "      <td>34.37</td>\n",
       "      <td>34.37</td>\n",
       "      <td>Петрозаводск</td>\n",
       "      <td>Розничная сеть МТС</td>\n",
       "      <td>37,634,150.00</td>\n",
       "      <td>RUR</td>\n",
       "      <td>hh.ru</td>\n",
       "    </tr>\n",
       "    <tr>\n",
       "      <td>90</td>\n",
       "      <td>5efd8a526fa9af93f70e0891</td>\n",
       "      <td>Продавец-кассир (Лангепас, улица Ленина, 86А)</td>\n",
       "      <td>https://hh.ru/vacancy/37314882?query=продавец</td>\n",
       "      <td>2020-06-18</td>\n",
       "      <td>30,000.00</td>\n",
       "      <td>36,000.00</td>\n",
       "      <td>75.19</td>\n",
       "      <td>75.19</td>\n",
       "      <td>Лангепас</td>\n",
       "      <td>Пятёрочка. Магазины</td>\n",
       "      <td>37,314,882.00</td>\n",
       "      <td>RUR</td>\n",
       "      <td>hh.ru</td>\n",
       "    </tr>\n",
       "    <tr>\n",
       "      <td>91</td>\n",
       "      <td>5efd8a526fa9af93f70e0892</td>\n",
       "      <td>Продавец-консультант ювелирных изделий</td>\n",
       "      <td>https://hh.ru/vacancy/36854325?query=продавец</td>\n",
       "      <td>2020-06-08</td>\n",
       "      <td>20,000.00</td>\n",
       "      <td>nan</td>\n",
       "      <td>nan</td>\n",
       "      <td>nan</td>\n",
       "      <td>Ростов-на-Дону, улица Закруткина, 2/2</td>\n",
       "      <td>ООО Ломбард ГУДДА</td>\n",
       "      <td>36,854,325.00</td>\n",
       "      <td>RUR</td>\n",
       "      <td>hh.ru</td>\n",
       "    </tr>\n",
       "    <tr>\n",
       "      <td>92</td>\n",
       "      <td>5efd8a526fa9af93f70e0893</td>\n",
       "      <td>Продавец-кассир (Кирово-Чепецк, улица Ленина, 6к2)</td>\n",
       "      <td>https://hh.ru/vacancy/36868314?query=продавец</td>\n",
       "      <td>2020-06-08</td>\n",
       "      <td>15,000.00</td>\n",
       "      <td>20,000.00</td>\n",
       "      <td>50.02</td>\n",
       "      <td>50.02</td>\n",
       "      <td>Кирово-Чепецк</td>\n",
       "      <td>Пятёрочка. Магазины</td>\n",
       "      <td>36,868,314.00</td>\n",
       "      <td>RUR</td>\n",
       "      <td>hh.ru</td>\n",
       "    </tr>\n",
       "    <tr>\n",
       "      <td>93</td>\n",
       "      <td>5efd8a526fa9af93f70e0894</td>\n",
       "      <td>Работник торгового зала</td>\n",
       "      <td>https://hh.ru/vacancy/37150325?query=продавец</td>\n",
       "      <td>2020-06-26</td>\n",
       "      <td>25,000.00</td>\n",
       "      <td>nan</td>\n",
       "      <td>nan</td>\n",
       "      <td>nan</td>\n",
       "      <td>Кировск (Мурманская область)</td>\n",
       "      <td>Работут</td>\n",
       "      <td>37,150,325.00</td>\n",
       "      <td>RUR</td>\n",
       "      <td>hh.ru</td>\n",
       "    </tr>\n",
       "    <tr>\n",
       "      <td>94</td>\n",
       "      <td>5efd8a526fa9af93f70e0895</td>\n",
       "      <td>Продавец-консультант</td>\n",
       "      <td>https://hh.ru/vacancy/37689664?query=продавец</td>\n",
       "      <td>2020-06-26</td>\n",
       "      <td>20,250.00</td>\n",
       "      <td>35,000.00</td>\n",
       "      <td>nan</td>\n",
       "      <td>nan</td>\n",
       "      <td>Павлово</td>\n",
       "      <td>Сеть магазинов цифровой и бытовой техники DNS</td>\n",
       "      <td>37,689,664.00</td>\n",
       "      <td>RUR</td>\n",
       "      <td>hh.ru</td>\n",
       "    </tr>\n",
       "    <tr>\n",
       "      <td>95</td>\n",
       "      <td>5efd8a526fa9af93f70e0896</td>\n",
       "      <td>Продавец в магазин кальянов в Южно-Сахалинске</td>\n",
       "      <td>https://hh.ru/vacancy/37335980?query=продавец</td>\n",
       "      <td>2020-06-04</td>\n",
       "      <td>40,000.00</td>\n",
       "      <td>50,000.00</td>\n",
       "      <td>nan</td>\n",
       "      <td>nan</td>\n",
       "      <td>Южно-Сахалинск</td>\n",
       "      <td>ООО Алибаба</td>\n",
       "      <td>37,335,980.00</td>\n",
       "      <td>RUR</td>\n",
       "      <td>hh.ru</td>\n",
       "    </tr>\n",
       "    <tr>\n",
       "      <td>96</td>\n",
       "      <td>5efd8a526fa9af93f70e0897</td>\n",
       "      <td>Продавец-кассир ТЦ \"Акварель\"</td>\n",
       "      <td>https://hh.ru/vacancy/37522566?query=продавец</td>\n",
       "      <td>2020-06-16</td>\n",
       "      <td>20,000.00</td>\n",
       "      <td>nan</td>\n",
       "      <td>nan</td>\n",
       "      <td>nan</td>\n",
       "      <td>Тольятти, Южное шоссе, 6</td>\n",
       "      <td>ООО MODI</td>\n",
       "      <td>37,522,566.00</td>\n",
       "      <td>RUR</td>\n",
       "      <td>hh.ru</td>\n",
       "    </tr>\n",
       "    <tr>\n",
       "      <td>97</td>\n",
       "      <td>5efd957d6fa9af93f70e089d</td>\n",
       "      <td>Продавец-консультант (м.Беговая)</td>\n",
       "      <td>https://hh.ru/vacancy/37222956?query=продавец</td>\n",
       "      <td>2020-07-02</td>\n",
       "      <td>45,000.00</td>\n",
       "      <td>80,000.00</td>\n",
       "      <td>nan</td>\n",
       "      <td>nan</td>\n",
       "      <td>Беговая, Москва, Беговая улица, 2</td>\n",
       "      <td>ЗАО ЧИП и ДИП</td>\n",
       "      <td>37,222,956.00</td>\n",
       "      <td>RUR</td>\n",
       "      <td>hh.ru</td>\n",
       "    </tr>\n",
       "    <tr>\n",
       "      <td>98</td>\n",
       "      <td>5efd957d6fa9af93f70e089e</td>\n",
       "      <td>Продавец-консультант (м.Выхино)</td>\n",
       "      <td>https://hh.ru/vacancy/37608536?query=продавец</td>\n",
       "      <td>2020-07-01</td>\n",
       "      <td>48,000.00</td>\n",
       "      <td>60,000.00</td>\n",
       "      <td>nan</td>\n",
       "      <td>nan</td>\n",
       "      <td>Москва</td>\n",
       "      <td>Билайн</td>\n",
       "      <td>37,608,536.00</td>\n",
       "      <td>RUR</td>\n",
       "      <td>hh.ru</td>\n",
       "    </tr>\n",
       "    <tr>\n",
       "      <td>99</td>\n",
       "      <td>5efd957d6fa9af93f70e089f</td>\n",
       "      <td>Продавец-кассир (Мурманск, Кольский проспект, 80)</td>\n",
       "      <td>https://hh.ru/vacancy/36926808?query=продавец</td>\n",
       "      <td>2020-06-14</td>\n",
       "      <td>25,000.00</td>\n",
       "      <td>31,000.00</td>\n",
       "      <td>33.11</td>\n",
       "      <td>33.11</td>\n",
       "      <td>Мурманск</td>\n",
       "      <td>Пятёрочка. Магазины</td>\n",
       "      <td>36,926,808.00</td>\n",
       "      <td>RUR</td>\n",
       "      <td>hh.ru</td>\n",
       "    </tr>\n",
       "    <tr>\n",
       "      <td>100</td>\n",
       "      <td>5efd957d6fa9af93f70e08a0</td>\n",
       "      <td>Продавец-кассир (Нижний Новгород, улица Кащенко, 25)</td>\n",
       "      <td>https://hh.ru/vacancy/36467797?query=продавец</td>\n",
       "      <td>2020-06-24</td>\n",
       "      <td>19,300.00</td>\n",
       "      <td>24,200.00</td>\n",
       "      <td>43.98</td>\n",
       "      <td>43.98</td>\n",
       "      <td>Нижний Новород</td>\n",
       "      <td>Пятёрочка. Магазины</td>\n",
       "      <td>36,467,797.00</td>\n",
       "      <td>RUR</td>\n",
       "      <td>hh.ru</td>\n",
       "    </tr>\n",
       "    <tr>\n",
       "      <td>101</td>\n",
       "      <td>5efd957d6fa9af93f70e08a1</td>\n",
       "      <td>Продавец-кассир (Руза, улица Солнцева, 20)</td>\n",
       "      <td>https://hh.ru/vacancy/36913197?query=продавец</td>\n",
       "      <td>2020-06-13</td>\n",
       "      <td>30,000.00</td>\n",
       "      <td>35,000.00</td>\n",
       "      <td>36.19</td>\n",
       "      <td>36.19</td>\n",
       "      <td>Руза</td>\n",
       "      <td>Пятёрочка. Магазины</td>\n",
       "      <td>36,913,197.00</td>\n",
       "      <td>RUR</td>\n",
       "      <td>hh.ru</td>\n",
       "    </tr>\n",
       "    <tr>\n",
       "      <td>102</td>\n",
       "      <td>5efd957d6fa9af93f70e08a2</td>\n",
       "      <td>Продавец-консультант в офис продаж</td>\n",
       "      <td>https://hh.ru/vacancy/37407812?query=продавец</td>\n",
       "      <td>2020-07-01</td>\n",
       "      <td>38,000.00</td>\n",
       "      <td>nan</td>\n",
       "      <td>nan</td>\n",
       "      <td>nan</td>\n",
       "      <td>Руза</td>\n",
       "      <td>АО МегаФон Ритейл</td>\n",
       "      <td>37,407,812.00</td>\n",
       "      <td>RUR</td>\n",
       "      <td>hh.ru</td>\n",
       "    </tr>\n",
       "    <tr>\n",
       "      <td>103</td>\n",
       "      <td>5efd957d6fa9af93f70e08a3</td>\n",
       "      <td>Продавец-кассир (Уфа, Вологодская улица, 64)</td>\n",
       "      <td>https://hh.ru/vacancy/37731447?query=продавец</td>\n",
       "      <td>2020-06-29</td>\n",
       "      <td>20,000.00</td>\n",
       "      <td>25,000.00</td>\n",
       "      <td>nan</td>\n",
       "      <td>nan</td>\n",
       "      <td>Уфа, Вологодская улица, 64</td>\n",
       "      <td>Пятёрочка. Магазины</td>\n",
       "      <td>37,731,447.00</td>\n",
       "      <td>RUR</td>\n",
       "      <td>hh.ru</td>\n",
       "    </tr>\n",
       "    <tr>\n",
       "      <td>104</td>\n",
       "      <td>5efd957d6fa9af93f70e08a4</td>\n",
       "      <td>Продавец-консультант мягкой мебели (тц \"Град\")</td>\n",
       "      <td>https://hh.ru/vacancy/37001722?query=продавец</td>\n",
       "      <td>2020-06-21</td>\n",
       "      <td>30.00</td>\n",
       "      <td>60,000.00</td>\n",
       "      <td>nan</td>\n",
       "      <td>nan</td>\n",
       "      <td>Воронеж</td>\n",
       "      <td>Кадровое агентство «Феникс»</td>\n",
       "      <td>37,001,722.00</td>\n",
       "      <td>RUR</td>\n",
       "      <td>hh.ru</td>\n",
       "    </tr>\n",
       "    <tr>\n",
       "      <td>105</td>\n",
       "      <td>5efd957d6fa9af93f70e08a5</td>\n",
       "      <td>Продавец-кассир (село Еткуль, улица Ленина, 44)</td>\n",
       "      <td>https://hh.ru/vacancy/36467303?query=продавец</td>\n",
       "      <td>2020-06-24</td>\n",
       "      <td>16,000.00</td>\n",
       "      <td>19,000.00</td>\n",
       "      <td>61.59</td>\n",
       "      <td>61.59</td>\n",
       "      <td>Еткульский р-н, село Еткуль</td>\n",
       "      <td>Пятёрочка. Магазины</td>\n",
       "      <td>36,467,303.00</td>\n",
       "      <td>RUR</td>\n",
       "      <td>hh.ru</td>\n",
       "    </tr>\n",
       "    <tr>\n",
       "      <td>106</td>\n",
       "      <td>5efd957d6fa9af93f70e08a6</td>\n",
       "      <td>Продавец-консультант</td>\n",
       "      <td>https://hh.ru/vacancy/37662934?query=продавец</td>\n",
       "      <td>2020-07-02</td>\n",
       "      <td>15,000.00</td>\n",
       "      <td>nan</td>\n",
       "      <td>nan</td>\n",
       "      <td>nan</td>\n",
       "      <td>Хабаровск, микрорайон Южный, улица Ворошилова, 33</td>\n",
       "      <td>ООО Кристалл</td>\n",
       "      <td>37,662,934.00</td>\n",
       "      <td>RUR</td>\n",
       "      <td>hh.ru</td>\n",
       "    </tr>\n",
       "    <tr>\n",
       "      <td>107</td>\n",
       "      <td>5efd957d6fa9af93f70e08a7</td>\n",
       "      <td>Продавец-консультант</td>\n",
       "      <td>https://hh.ru/vacancy/37437250?query=продавец</td>\n",
       "      <td>2020-06-15</td>\n",
       "      <td>20,250.00</td>\n",
       "      <td>nan</td>\n",
       "      <td>nan</td>\n",
       "      <td>nan</td>\n",
       "      <td>Лиски, Коммунистическая улица, 21</td>\n",
       "      <td>Сеть магазинов цифровой и бытовой техники DNS</td>\n",
       "      <td>37,437,250.00</td>\n",
       "      <td>RUR</td>\n",
       "      <td>hh.ru</td>\n",
       "    </tr>\n",
       "    <tr>\n",
       "      <td>108</td>\n",
       "      <td>5efd957d6fa9af93f70e08a8</td>\n",
       "      <td>Продавец-консультант в мебельный салон (ст. м. Девяткино)</td>\n",
       "      <td>https://hh.ru/vacancy/37167239?query=продавец</td>\n",
       "      <td>2020-06-26</td>\n",
       "      <td>30,000.00</td>\n",
       "      <td>80,000.00</td>\n",
       "      <td>nan</td>\n",
       "      <td>nan</td>\n",
       "      <td>Мурино</td>\n",
       "      <td>ООО Торговый дом Лазурит</td>\n",
       "      <td>37,167,239.00</td>\n",
       "      <td>RUR</td>\n",
       "      <td>hh.ru</td>\n",
       "    </tr>\n",
       "    <tr>\n",
       "      <td>109</td>\n",
       "      <td>5efd957d6fa9af93f70e08a9</td>\n",
       "      <td>Продавец-кассир</td>\n",
       "      <td>https://hh.ru/vacancy/37722524?query=продавец</td>\n",
       "      <td>2020-06-29</td>\n",
       "      <td>14,000.00</td>\n",
       "      <td>20,000.00</td>\n",
       "      <td>nan</td>\n",
       "      <td>nan</td>\n",
       "      <td>Кирово-Чепецк</td>\n",
       "      <td>ИП Трухина Ольга Сергеевна</td>\n",
       "      <td>37,722,524.00</td>\n",
       "      <td>RUR</td>\n",
       "      <td>hh.ru</td>\n",
       "    </tr>\n",
       "    <tr>\n",
       "      <td>110</td>\n",
       "      <td>5efd957d6fa9af93f70e08aa</td>\n",
       "      <td>Продавец-консультант (Заречный)</td>\n",
       "      <td>https://hh.ru/vacancy/37693208?query=продавец</td>\n",
       "      <td>2020-07-02</td>\n",
       "      <td>28,000.00</td>\n",
       "      <td>nan</td>\n",
       "      <td>45.17</td>\n",
       "      <td>45.17</td>\n",
       "      <td>Заречный</td>\n",
       "      <td>Розничная сеть МТС</td>\n",
       "      <td>37,693,208.00</td>\n",
       "      <td>RUR</td>\n",
       "      <td>hh.ru</td>\n",
       "    </tr>\n",
       "    <tr>\n",
       "      <td>111</td>\n",
       "      <td>5efd957d6fa9af93f70e08ab</td>\n",
       "      <td>Продавец магазина Магнит</td>\n",
       "      <td>https://hh.ru/vacancy/37184919?query=продавец</td>\n",
       "      <td>2020-06-30</td>\n",
       "      <td>18,400.00</td>\n",
       "      <td>nan</td>\n",
       "      <td>nan</td>\n",
       "      <td>nan</td>\n",
       "      <td>Мокшан</td>\n",
       "      <td>МАГНИТ, Розничная сеть</td>\n",
       "      <td>37,184,919.00</td>\n",
       "      <td>RUR</td>\n",
       "      <td>hh.ru</td>\n",
       "    </tr>\n",
       "    <tr>\n",
       "      <td>112</td>\n",
       "      <td>5efd957d6fa9af93f70e08ac</td>\n",
       "      <td>Продавец-кассир (Ликино-Дулёво, Коммунистическая улица, 11)</td>\n",
       "      <td>https://hh.ru/vacancy/37125777?query=продавец</td>\n",
       "      <td>2020-06-16</td>\n",
       "      <td>25,000.00</td>\n",
       "      <td>28,000.00</td>\n",
       "      <td>38.96</td>\n",
       "      <td>38.96</td>\n",
       "      <td>Ликино-Дулёво</td>\n",
       "      <td>Пятёрочка. Магазины</td>\n",
       "      <td>37,125,777.00</td>\n",
       "      <td>RUR</td>\n",
       "      <td>hh.ru</td>\n",
       "    </tr>\n",
       "    <tr>\n",
       "      <td>113</td>\n",
       "      <td>5efd957d6fa9af93f70e08ad</td>\n",
       "      <td>Продавец</td>\n",
       "      <td>https://hh.ru/vacancy/37541186?query=продавец</td>\n",
       "      <td>2020-06-29</td>\n",
       "      <td>12,000.00</td>\n",
       "      <td>12,000.00</td>\n",
       "      <td>nan</td>\n",
       "      <td>nan</td>\n",
       "      <td>Жигулевск</td>\n",
       "      <td>ООО Рони</td>\n",
       "      <td>37,541,186.00</td>\n",
       "      <td>RUR</td>\n",
       "      <td>hh.ru</td>\n",
       "    </tr>\n",
       "    <tr>\n",
       "      <td>114</td>\n",
       "      <td>5efd957d6fa9af93f70e08ae</td>\n",
       "      <td>Продавец-кассир в ТЦ Семья</td>\n",
       "      <td>https://hh.ru/vacancy/37510570?query=продавец</td>\n",
       "      <td>2020-06-23</td>\n",
       "      <td>20,000.00</td>\n",
       "      <td>nan</td>\n",
       "      <td>nan</td>\n",
       "      <td>nan</td>\n",
       "      <td>Уфа, проспект Октября, 34</td>\n",
       "      <td>Lady Collection</td>\n",
       "      <td>37,510,570.00</td>\n",
       "      <td>RUR</td>\n",
       "      <td>hh.ru</td>\n",
       "    </tr>\n",
       "    <tr>\n",
       "      <td>115</td>\n",
       "      <td>5efd957d6fa9af93f70e08af</td>\n",
       "      <td>Продавец-кассир (село Лопатино, Советская улица, 15)</td>\n",
       "      <td>https://hh.ru/vacancy/36743303?query=продавец</td>\n",
       "      <td>2020-06-26</td>\n",
       "      <td>17,000.00</td>\n",
       "      <td>20,000.00</td>\n",
       "      <td>50.22</td>\n",
       "      <td>50.22</td>\n",
       "      <td>село Лопатино</td>\n",
       "      <td>Пятёрочка. Магазины</td>\n",
       "      <td>36,743,303.00</td>\n",
       "      <td>RUR</td>\n",
       "      <td>hh.ru</td>\n",
       "    </tr>\n",
       "    <tr>\n",
       "      <td>116</td>\n",
       "      <td>5efd957d6fa9af93f70e08b0</td>\n",
       "      <td>Продавец-консультант магазина \"Intimissimi\" в ТЦ \"Мега Химки\"</td>\n",
       "      <td>https://hh.ru/vacancy/37679502?query=продавец</td>\n",
       "      <td>2020-06-25</td>\n",
       "      <td>20,800.00</td>\n",
       "      <td>45,000.00</td>\n",
       "      <td>nan</td>\n",
       "      <td>nan</td>\n",
       "      <td>Химки, Ленинградская улица, 1</td>\n",
       "      <td>ООО Саншайн</td>\n",
       "      <td>37,679,502.00</td>\n",
       "      <td>RUR</td>\n",
       "      <td>hh.ru</td>\n",
       "    </tr>\n",
       "    <tr>\n",
       "      <td>117</td>\n",
       "      <td>5efd957d6fa9af93f70e08b1</td>\n",
       "      <td>Продавец-консультант</td>\n",
       "      <td>https://hh.ru/vacancy/36610430?query=продавец</td>\n",
       "      <td>2020-06-22</td>\n",
       "      <td>800.00</td>\n",
       "      <td>1,950.00</td>\n",
       "      <td>nan</td>\n",
       "      <td>nan</td>\n",
       "      <td>Немига, Пушкинская, Спортивная, Кунцевщина, Минск, проспект Победителей, 129</td>\n",
       "      <td>УП Коллекция света</td>\n",
       "      <td>36,610,430.00</td>\n",
       "      <td>BYR</td>\n",
       "      <td>hh.ru</td>\n",
       "    </tr>\n",
       "    <tr>\n",
       "      <td>118</td>\n",
       "      <td>5efd957d6fa9af93f70e08b2</td>\n",
       "      <td>Продавец-консультант</td>\n",
       "      <td>https://hh.ru/vacancy/36812861?query=продавец</td>\n",
       "      <td>2020-06-30</td>\n",
       "      <td>26,000.00</td>\n",
       "      <td>60,000.00</td>\n",
       "      <td>nan</td>\n",
       "      <td>nan</td>\n",
       "      <td>Луга, проспект Урицкого, 77к4</td>\n",
       "      <td>Сеть магазинов цифровой и бытовой техники DNS</td>\n",
       "      <td>36,812,861.00</td>\n",
       "      <td>RUR</td>\n",
       "      <td>hh.ru</td>\n",
       "    </tr>\n",
       "    <tr>\n",
       "      <td>119</td>\n",
       "      <td>5efd957d6fa9af93f70e08b3</td>\n",
       "      <td>Продавец-кассир</td>\n",
       "      <td>https://hh.ru/vacancy/37614883?query=продавец</td>\n",
       "      <td>2020-06-30</td>\n",
       "      <td>25,000.00</td>\n",
       "      <td>nan</td>\n",
       "      <td>nan</td>\n",
       "      <td>nan</td>\n",
       "      <td>Тутаев</td>\n",
       "      <td>ООО Бристоль, сеть магазинов</td>\n",
       "      <td>37,614,883.00</td>\n",
       "      <td>RUR</td>\n",
       "      <td>hh.ru</td>\n",
       "    </tr>\n",
       "    <tr>\n",
       "      <td>120</td>\n",
       "      <td>5efd957d6fa9af93f70e08b4</td>\n",
       "      <td>Продавец-кассир (ул Спасская,14)</td>\n",
       "      <td>https://hh.ru/vacancy/37541047?query=продавец</td>\n",
       "      <td>2020-06-17</td>\n",
       "      <td>23,000.00</td>\n",
       "      <td>nan</td>\n",
       "      <td>nan</td>\n",
       "      <td>nan</td>\n",
       "      <td>Тюмень</td>\n",
       "      <td>ДИКСИ. Магазины</td>\n",
       "      <td>37,541,047.00</td>\n",
       "      <td>RUR</td>\n",
       "      <td>hh.ru</td>\n",
       "    </tr>\n",
       "    <tr>\n",
       "      <td>121</td>\n",
       "      <td>5efd957d6fa9af93f70e08b5</td>\n",
       "      <td>Продавец-консультант</td>\n",
       "      <td>https://hh.ru/vacancy/37492364?query=продавец</td>\n",
       "      <td>2020-06-15</td>\n",
       "      <td>20,000.00</td>\n",
       "      <td>nan</td>\n",
       "      <td>41.39</td>\n",
       "      <td>41.39</td>\n",
       "      <td>Касимов</td>\n",
       "      <td>585, Золотой</td>\n",
       "      <td>37,492,364.00</td>\n",
       "      <td>RUR</td>\n",
       "      <td>hh.ru</td>\n",
       "    </tr>\n",
       "    <tr>\n",
       "      <td>122</td>\n",
       "      <td>5efd957d6fa9af93f70e08b6</td>\n",
       "      <td>Продавец-кассир (Тавда, улица Фанерщиков, 2)</td>\n",
       "      <td>https://hh.ru/vacancy/36468085?query=продавец</td>\n",
       "      <td>2020-06-24</td>\n",
       "      <td>19,000.00</td>\n",
       "      <td>25,000.00</td>\n",
       "      <td>65.32</td>\n",
       "      <td>65.32</td>\n",
       "      <td>Тавда</td>\n",
       "      <td>Пятёрочка. Магазины</td>\n",
       "      <td>36,468,085.00</td>\n",
       "      <td>RUR</td>\n",
       "      <td>hh.ru</td>\n",
       "    </tr>\n",
       "    <tr>\n",
       "      <td>123</td>\n",
       "      <td>5efd957d6fa9af93f70e08b7</td>\n",
       "      <td>Продавец-кассир (Сокол, Базарная площадь, 3)</td>\n",
       "      <td>https://hh.ru/vacancy/36467581?query=продавец</td>\n",
       "      <td>2020-06-08</td>\n",
       "      <td>18,000.00</td>\n",
       "      <td>23,000.00</td>\n",
       "      <td>40.13</td>\n",
       "      <td>40.13</td>\n",
       "      <td>Сокол</td>\n",
       "      <td>Пятёрочка. Магазины</td>\n",
       "      <td>36,467,581.00</td>\n",
       "      <td>RUR</td>\n",
       "      <td>hh.ru</td>\n",
       "    </tr>\n",
       "    <tr>\n",
       "      <td>124</td>\n",
       "      <td>5efd957d6fa9af93f70e08b8</td>\n",
       "      <td>Продавец-универсал (Проводник, Коломенский р-н)</td>\n",
       "      <td>https://hh.ru/vacancy/37401010?query=продавец</td>\n",
       "      <td>2020-06-22</td>\n",
       "      <td>30,800.00</td>\n",
       "      <td>38,500.00</td>\n",
       "      <td>nan</td>\n",
       "      <td>nan</td>\n",
       "      <td>Коломна</td>\n",
       "      <td>МАГНИТ, Розничная сеть</td>\n",
       "      <td>37,401,010.00</td>\n",
       "      <td>RUR</td>\n",
       "      <td>hh.ru</td>\n",
       "    </tr>\n",
       "    <tr>\n",
       "      <td>125</td>\n",
       "      <td>5efd957d6fa9af93f70e08b9</td>\n",
       "      <td>Продавец-консультант Мегафон</td>\n",
       "      <td>https://hh.ru/vacancy/36880065?query=продавец</td>\n",
       "      <td>2020-06-17</td>\n",
       "      <td>25,000.00</td>\n",
       "      <td>30,000.00</td>\n",
       "      <td>nan</td>\n",
       "      <td>nan</td>\n",
       "      <td>Талдом</td>\n",
       "      <td>Эра Людей</td>\n",
       "      <td>36,880,065.00</td>\n",
       "      <td>RUR</td>\n",
       "      <td>hh.ru</td>\n",
       "    </tr>\n",
       "    <tr>\n",
       "      <td>126</td>\n",
       "      <td>5efd957d6fa9af93f70e08ba</td>\n",
       "      <td>Продавец-бариста магазина разливного пива и кофе</td>\n",
       "      <td>https://hh.ru/vacancy/37742208?query=продавец</td>\n",
       "      <td>2020-06-29</td>\n",
       "      <td>550.00</td>\n",
       "      <td>nan</td>\n",
       "      <td>nan</td>\n",
       "      <td>nan</td>\n",
       "      <td>Минск</td>\n",
       "      <td>ИП Адынец Е.О.</td>\n",
       "      <td>37,742,208.00</td>\n",
       "      <td>BYR</td>\n",
       "      <td>hh.ru</td>\n",
       "    </tr>\n",
       "    <tr>\n",
       "      <td>127</td>\n",
       "      <td>5efd957d6fa9af93f70e08bb</td>\n",
       "      <td>Продавец-кассир (Вологда, Зосимовская улица, 70)</td>\n",
       "      <td>https://hh.ru/vacancy/36467832?query=продавец</td>\n",
       "      <td>2020-06-24</td>\n",
       "      <td>18,000.00</td>\n",
       "      <td>23,000.00</td>\n",
       "      <td>39.89</td>\n",
       "      <td>39.89</td>\n",
       "      <td>Волода</td>\n",
       "      <td>Пятёрочка. Магазины</td>\n",
       "      <td>36,467,832.00</td>\n",
       "      <td>RUR</td>\n",
       "      <td>hh.ru</td>\n",
       "    </tr>\n",
       "    <tr>\n",
       "      <td>128</td>\n",
       "      <td>5efd957d6fa9af93f70e08bc</td>\n",
       "      <td>Продавец-кассир (Тетюши, улица 200 лет Тетюшам, 1В)</td>\n",
       "      <td>https://hh.ru/vacancy/36602682?query=продавец</td>\n",
       "      <td>2020-06-12</td>\n",
       "      <td>15,000.00</td>\n",
       "      <td>23,000.00</td>\n",
       "      <td>48.83</td>\n",
       "      <td>48.83</td>\n",
       "      <td>Тетюши</td>\n",
       "      <td>Пятёрочка. Магазины</td>\n",
       "      <td>36,602,682.00</td>\n",
       "      <td>RUR</td>\n",
       "      <td>hh.ru</td>\n",
       "    </tr>\n",
       "    <tr>\n",
       "      <td>129</td>\n",
       "      <td>5efd957d6fa9af93f70e08bd</td>\n",
       "      <td>Продавец-кассир</td>\n",
       "      <td>https://hh.ru/vacancy/37474711?query=продавец</td>\n",
       "      <td>2020-06-15</td>\n",
       "      <td>25,000.00</td>\n",
       "      <td>nan</td>\n",
       "      <td>nan</td>\n",
       "      <td>nan</td>\n",
       "      <td>Нижний Новгород</td>\n",
       "      <td>Гараева Валерия</td>\n",
       "      <td>37,474,711.00</td>\n",
       "      <td>RUR</td>\n",
       "      <td>hh.ru</td>\n",
       "    </tr>\n",
       "    <tr>\n",
       "      <td>130</td>\n",
       "      <td>5efd957d6fa9af93f70e08be</td>\n",
       "      <td>Продавец-консультант салона сотовой связи Tele2</td>\n",
       "      <td>https://hh.ru/vacancy/37242164?query=продавец</td>\n",
       "      <td>2020-07-02</td>\n",
       "      <td>nan</td>\n",
       "      <td>25,000.00</td>\n",
       "      <td>nan</td>\n",
       "      <td>nan</td>\n",
       "      <td>Липецк</td>\n",
       "      <td>Теле2 салон связи (ООО Сфера обслуживания)</td>\n",
       "      <td>37,242,164.00</td>\n",
       "      <td>RUR</td>\n",
       "      <td>hh.ru</td>\n",
       "    </tr>\n",
       "    <tr>\n",
       "      <td>131</td>\n",
       "      <td>5efd957d6fa9af93f70e08bf</td>\n",
       "      <td>Продавец-консультант в ТЦ Зеленопарк</td>\n",
       "      <td>https://hh.ru/vacancy/37657914?query=продавец</td>\n",
       "      <td>2020-06-24</td>\n",
       "      <td>40,000.00</td>\n",
       "      <td>60,000.00</td>\n",
       "      <td>37.26</td>\n",
       "      <td>37.26</td>\n",
       "      <td>рабочий посёлок Ржавки</td>\n",
       "      <td>Ангстрем, Группа компаний</td>\n",
       "      <td>37,657,914.00</td>\n",
       "      <td>RUR</td>\n",
       "      <td>hh.ru</td>\n",
       "    </tr>\n",
       "    <tr>\n",
       "      <td>132</td>\n",
       "      <td>5efd957d6fa9af93f70e08c0</td>\n",
       "      <td>Продавец дизайнер</td>\n",
       "      <td>https://hh.ru/vacancy/36985790?query=продавец</td>\n",
       "      <td>2020-07-01</td>\n",
       "      <td>20,000.00</td>\n",
       "      <td>45,000.00</td>\n",
       "      <td>nan</td>\n",
       "      <td>nan</td>\n",
       "      <td>Чебоксары, улица Фёдора Гладкова, 10</td>\n",
       "      <td>ООО БЭХЭТ</td>\n",
       "      <td>36,985,790.00</td>\n",
       "      <td>RUR</td>\n",
       "      <td>hh.ru</td>\n",
       "    </tr>\n",
       "    <tr>\n",
       "      <td>133</td>\n",
       "      <td>5efd957d6fa9af93f70e08c1</td>\n",
       "      <td>Продавец-консультант в салон связи TELE2</td>\n",
       "      <td>https://hh.ru/vacancy/36993022?query=продавец</td>\n",
       "      <td>2020-06-15</td>\n",
       "      <td>nan</td>\n",
       "      <td>45,000.00</td>\n",
       "      <td>nan</td>\n",
       "      <td>nan</td>\n",
       "      <td>Нижний Тагил</td>\n",
       "      <td>ООО Мобильный город</td>\n",
       "      <td>36,993,022.00</td>\n",
       "      <td>RUR</td>\n",
       "      <td>hh.ru</td>\n",
       "    </tr>\n",
       "    <tr>\n",
       "      <td>134</td>\n",
       "      <td>5efd957d6fa9af93f70e08c2</td>\n",
       "      <td>Продавец производства (Иваново)</td>\n",
       "      <td>https://hh.ru/vacancy/37334068?query=продавец</td>\n",
       "      <td>2020-06-29</td>\n",
       "      <td>20,000.00</td>\n",
       "      <td>23,000.00</td>\n",
       "      <td>40.99</td>\n",
       "      <td>40.99</td>\n",
       "      <td>Иваново</td>\n",
       "      <td>Лента, федеральная розничная сеть, Гипермаркет</td>\n",
       "      <td>37,334,068.00</td>\n",
       "      <td>RUR</td>\n",
       "      <td>hh.ru</td>\n",
       "    </tr>\n",
       "    <tr>\n",
       "      <td>135</td>\n",
       "      <td>5efd957d6fa9af93f70e08c3</td>\n",
       "      <td>Продавец-кассир магазина Магнит (пгт Крапивинский, Школьная, 2а)</td>\n",
       "      <td>https://hh.ru/vacancy/37427526?query=продавец</td>\n",
       "      <td>2020-06-26</td>\n",
       "      <td>0.00</td>\n",
       "      <td>30,000.00</td>\n",
       "      <td>86.06</td>\n",
       "      <td>86.06</td>\n",
       "      <td>Кемерово</td>\n",
       "      <td>МАГНИТ, Розничная сеть</td>\n",
       "      <td>37,427,526.00</td>\n",
       "      <td>RUR</td>\n",
       "      <td>hh.ru</td>\n",
       "    </tr>\n",
       "    <tr>\n",
       "      <td>136</td>\n",
       "      <td>5efd957d6fa9af93f70e08c4</td>\n",
       "      <td>Продавец-кассир (Нижний Новгород, Перекопская улица, 8)</td>\n",
       "      <td>https://hh.ru/vacancy/36993619?query=продавец</td>\n",
       "      <td>2020-06-16</td>\n",
       "      <td>19,300.00</td>\n",
       "      <td>24,200.00</td>\n",
       "      <td>43.94</td>\n",
       "      <td>43.94</td>\n",
       "      <td>Нижний Новгород</td>\n",
       "      <td>Пятёрочка. Магазины</td>\n",
       "      <td>36,993,619.00</td>\n",
       "      <td>RUR</td>\n",
       "      <td>hh.ru</td>\n",
       "    </tr>\n",
       "    <tr>\n",
       "      <td>137</td>\n",
       "      <td>5efd957d6fa9af93f70e08c5</td>\n",
       "      <td>Специалист офиса продаж, г. Чебаркуль</td>\n",
       "      <td>https://hh.ru/vacancy/37711531?query=продавец</td>\n",
       "      <td>2020-06-27</td>\n",
       "      <td>25,000.00</td>\n",
       "      <td>30,000.00</td>\n",
       "      <td>nan</td>\n",
       "      <td>nan</td>\n",
       "      <td>Чебаркуль</td>\n",
       "      <td>Розничная сеть МТС</td>\n",
       "      <td>37,711,531.00</td>\n",
       "      <td>RUR</td>\n",
       "      <td>hh.ru</td>\n",
       "    </tr>\n",
       "    <tr>\n",
       "      <td>138</td>\n",
       "      <td>5efd957d6fa9af93f70e08c6</td>\n",
       "      <td>Продавец-кассир intimissimi</td>\n",
       "      <td>https://hh.ru/vacancy/37657814?query=продавец</td>\n",
       "      <td>2020-06-24</td>\n",
       "      <td>20,000.00</td>\n",
       "      <td>30,000.00</td>\n",
       "      <td>nan</td>\n",
       "      <td>nan</td>\n",
       "      <td>Краснодар, улица Володи Головатого, 313</td>\n",
       "      <td>ИП Лущай М. В.</td>\n",
       "      <td>37,657,814.00</td>\n",
       "      <td>RUR</td>\n",
       "      <td>hh.ru</td>\n",
       "    </tr>\n",
       "    <tr>\n",
       "      <td>139</td>\n",
       "      <td>5efd957d6fa9af93f70e08c7</td>\n",
       "      <td>Старший продавец-кассир (Пермь, улица Героев Хасана, 100)</td>\n",
       "      <td>https://hh.ru/vacancy/36468404?query=продавец</td>\n",
       "      <td>2020-06-09</td>\n",
       "      <td>25,000.00</td>\n",
       "      <td>29,000.00</td>\n",
       "      <td>56.26</td>\n",
       "      <td>56.26</td>\n",
       "      <td>Пермь</td>\n",
       "      <td>Пятёрочка. Магазины</td>\n",
       "      <td>36,468,404.00</td>\n",
       "      <td>RUR</td>\n",
       "      <td>hh.ru</td>\n",
       "    </tr>\n",
       "    <tr>\n",
       "      <td>140</td>\n",
       "      <td>5efd957d6fa9af93f70e08c8</td>\n",
       "      <td>Ночной продавец магазина Магнит</td>\n",
       "      <td>https://hh.ru/vacancy/37185540?query=продавец</td>\n",
       "      <td>2020-06-25</td>\n",
       "      <td>21,000.00</td>\n",
       "      <td>nan</td>\n",
       "      <td>nan</td>\n",
       "      <td>nan</td>\n",
       "      <td>Пенза</td>\n",
       "      <td>МАГНИТ, Розничная сеть</td>\n",
       "      <td>37,185,540.00</td>\n",
       "      <td>RUR</td>\n",
       "      <td>hh.ru</td>\n",
       "    </tr>\n",
       "    <tr>\n",
       "      <td>141</td>\n",
       "      <td>5efd957d6fa9af93f70e08c9</td>\n",
       "      <td>Продавец-кассир (Ивино)</td>\n",
       "      <td>https://hh.ru/vacancy/37587917?query=продавец</td>\n",
       "      <td>2020-06-19</td>\n",
       "      <td>23,000.00</td>\n",
       "      <td>nan</td>\n",
       "      <td>nan</td>\n",
       "      <td>nan</td>\n",
       "      <td>Чехов</td>\n",
       "      <td>ДИКСИ. Магазины</td>\n",
       "      <td>37,587,917.00</td>\n",
       "      <td>RUR</td>\n",
       "      <td>hh.ru</td>\n",
       "    </tr>\n",
       "    <tr>\n",
       "      <td>142</td>\n",
       "      <td>5efd957d6fa9af93f70e08ca</td>\n",
       "      <td>Продавец</td>\n",
       "      <td>https://hh.ru/vacancy/37478128?query=продавец</td>\n",
       "      <td>2020-06-30</td>\n",
       "      <td>20,000.00</td>\n",
       "      <td>25,000.00</td>\n",
       "      <td>nan</td>\n",
       "      <td>nan</td>\n",
       "      <td>Тольятти</td>\n",
       "      <td>Билайн</td>\n",
       "      <td>37,478,128.00</td>\n",
       "      <td>RUR</td>\n",
       "      <td>hh.ru</td>\n",
       "    </tr>\n",
       "    <tr>\n",
       "      <td>143</td>\n",
       "      <td>5efd957d6fa9af93f70e08cb</td>\n",
       "      <td>Продавец-консультант в салон сотовой связи, Новоалтайск</td>\n",
       "      <td>https://hh.ru/vacancy/35016201?query=продавец</td>\n",
       "      <td>2020-06-19</td>\n",
       "      <td>15,000.00</td>\n",
       "      <td>25,000.00</td>\n",
       "      <td>nan</td>\n",
       "      <td>nan</td>\n",
       "      <td>Новоалтайск, Парковая улица, 1</td>\n",
       "      <td>Наследие</td>\n",
       "      <td>35,016,201.00</td>\n",
       "      <td>RUR</td>\n",
       "      <td>hh.ru</td>\n",
       "    </tr>\n",
       "    <tr>\n",
       "      <td>144</td>\n",
       "      <td>5efd957d6fa9af93f70e08cc</td>\n",
       "      <td>Продавец консультант спортивного питания</td>\n",
       "      <td>https://hh.ru/vacancy/37730358?query=продавец</td>\n",
       "      <td>2020-06-29</td>\n",
       "      <td>25,000.00</td>\n",
       "      <td>35,000.00</td>\n",
       "      <td>nan</td>\n",
       "      <td>nan</td>\n",
       "      <td>Краснодар</td>\n",
       "      <td>Рус спорт</td>\n",
       "      <td>37,730,358.00</td>\n",
       "      <td>RUR</td>\n",
       "      <td>hh.ru</td>\n",
       "    </tr>\n",
       "    <tr>\n",
       "      <td>145</td>\n",
       "      <td>5efd957d6fa9af93f70e08cd</td>\n",
       "      <td>Продавец-консультант кухонной мебели</td>\n",
       "      <td>https://hh.ru/vacancy/35604738?query=продавец</td>\n",
       "      <td>2020-06-30</td>\n",
       "      <td>23,000.00</td>\n",
       "      <td>50,000.00</td>\n",
       "      <td>nan</td>\n",
       "      <td>nan</td>\n",
       "      <td>Калининград</td>\n",
       "      <td>ООО Мебельная компания</td>\n",
       "      <td>35,604,738.00</td>\n",
       "      <td>RUR</td>\n",
       "      <td>hh.ru</td>\n",
       "    </tr>\n",
       "    <tr>\n",
       "      <td>146</td>\n",
       "      <td>5efd957d6fa9af93f70e08ce</td>\n",
       "      <td>Продавец-консультант в ювелирном салоне ЭПЛ. Якутские Бриллианты</td>\n",
       "      <td>https://hh.ru/vacancy/37411501?query=продавец</td>\n",
       "      <td>2020-06-30</td>\n",
       "      <td>35,000.00</td>\n",
       "      <td>nan</td>\n",
       "      <td>nan</td>\n",
       "      <td>nan</td>\n",
       "      <td>Астрахань</td>\n",
       "      <td>ИП Сенектутова Инара Мусаевна</td>\n",
       "      <td>37,411,501.00</td>\n",
       "      <td>RUR</td>\n",
       "      <td>hh.ru</td>\n",
       "    </tr>\n",
       "    <tr>\n",
       "      <td>147</td>\n",
       "      <td>5efd957d6fa9af93f70e08cf</td>\n",
       "      <td>Продавец-консультант</td>\n",
       "      <td>https://hh.ru/vacancy/37456429?query=продавец</td>\n",
       "      <td>2020-06-11</td>\n",
       "      <td>120,000.00</td>\n",
       "      <td>180,000.00</td>\n",
       "      <td>nan</td>\n",
       "      <td>nan</td>\n",
       "      <td>Усть-Каменогорск</td>\n",
       "      <td>ТОО ТЕХНИТЭЛ</td>\n",
       "      <td>37,456,429.00</td>\n",
       "      <td>KZT</td>\n",
       "      <td>hh.ru</td>\n",
       "    </tr>\n",
       "    <tr>\n",
       "      <td>148</td>\n",
       "      <td>5efd957d6fa9af93f70e08d0</td>\n",
       "      <td>Специалист торгового зала/Продавец-кассир</td>\n",
       "      <td>https://hh.ru/vacancy/37452397?query=продавец</td>\n",
       "      <td>2020-06-29</td>\n",
       "      <td>0.00</td>\n",
       "      <td>47,000.00</td>\n",
       "      <td>37.96</td>\n",
       "      <td>37.96</td>\n",
       "      <td>рабочий посёлок Томилино</td>\n",
       "      <td>ООО Фреш Маркет</td>\n",
       "      <td>37,452,397.00</td>\n",
       "      <td>RUR</td>\n",
       "      <td>hh.ru</td>\n",
       "    </tr>\n",
       "    <tr>\n",
       "      <td>149</td>\n",
       "      <td>5efd957d6fa9af93f70e08d1</td>\n",
       "      <td>Продавец-консультант Karcher</td>\n",
       "      <td>https://hh.ru/vacancy/37738506?query=продавец</td>\n",
       "      <td>2020-06-29</td>\n",
       "      <td>35,000.00</td>\n",
       "      <td>nan</td>\n",
       "      <td>37.95</td>\n",
       "      <td>37.95</td>\n",
       "      <td>Череповец</td>\n",
       "      <td>Карекс-Центр, Группа компаний</td>\n",
       "      <td>37,738,506.00</td>\n",
       "      <td>RUR</td>\n",
       "      <td>hh.ru</td>\n",
       "    </tr>\n",
       "    <tr>\n",
       "      <td>150</td>\n",
       "      <td>5efd957d6fa9af93f70e08d2</td>\n",
       "      <td>Продавец-кассир ФИКС ПРАЙС</td>\n",
       "      <td>https://hh.ru/vacancy/37710786?query=продавец</td>\n",
       "      <td>2020-06-27</td>\n",
       "      <td>19,000.00</td>\n",
       "      <td>21,000.00</td>\n",
       "      <td>nan</td>\n",
       "      <td>nan</td>\n",
       "      <td>Белгород</td>\n",
       "      <td>ООО КС Интернешнл</td>\n",
       "      <td>37,710,786.00</td>\n",
       "      <td>RUR</td>\n",
       "      <td>hh.ru</td>\n",
       "    </tr>\n",
       "    <tr>\n",
       "      <td>151</td>\n",
       "      <td>5efd957d6fa9af93f70e08d3</td>\n",
       "      <td>Продавец-консультант</td>\n",
       "      <td>https://hh.ru/vacancy/37413689?query=продавец</td>\n",
       "      <td>2020-06-30</td>\n",
       "      <td>20,000.00</td>\n",
       "      <td>50,000.00</td>\n",
       "      <td>nan</td>\n",
       "      <td>nan</td>\n",
       "      <td>Брянск, Объездная улица, 30</td>\n",
       "      <td>ИП Басихина Ольга Александровна</td>\n",
       "      <td>37,413,689.00</td>\n",
       "      <td>RUR</td>\n",
       "      <td>hh.ru</td>\n",
       "    </tr>\n",
       "    <tr>\n",
       "      <td>152</td>\n",
       "      <td>5efd957d6fa9af93f70e08d4</td>\n",
       "      <td>Продавец-кассир (Новосибирск, улица Кирова, 317)</td>\n",
       "      <td>https://hh.ru/vacancy/36896005?query=продавец</td>\n",
       "      <td>2020-06-27</td>\n",
       "      <td>25,300.00</td>\n",
       "      <td>31,900.00</td>\n",
       "      <td>82.97</td>\n",
       "      <td>82.97</td>\n",
       "      <td>Новосибирск</td>\n",
       "      <td>Пятёрочка. Магазины</td>\n",
       "      <td>36,896,005.00</td>\n",
       "      <td>RUR</td>\n",
       "      <td>hh.ru</td>\n",
       "    </tr>\n",
       "    <tr>\n",
       "      <td>153</td>\n",
       "      <td>5efd957d6fa9af93f70e08d5</td>\n",
       "      <td>Продавец недвижимости</td>\n",
       "      <td>https://hh.ru/vacancy/31920620?query=продавец</td>\n",
       "      <td>2020-07-02</td>\n",
       "      <td>100,000.00</td>\n",
       "      <td>250,000.00</td>\n",
       "      <td>nan</td>\n",
       "      <td>nan</td>\n",
       "      <td>Хабаровск, улица Дикопольцева, 26</td>\n",
       "      <td>Компания Новый Атлант</td>\n",
       "      <td>31,920,620.00</td>\n",
       "      <td>RUR</td>\n",
       "      <td>hh.ru</td>\n",
       "    </tr>\n",
       "    <tr>\n",
       "      <td>154</td>\n",
       "      <td>5efd957d6fa9af93f70e08d6</td>\n",
       "      <td>Продавец-кассир (Гай, улица Ленина, 54)</td>\n",
       "      <td>https://hh.ru/vacancy/36705514?query=продавец</td>\n",
       "      <td>2020-06-25</td>\n",
       "      <td>16,000.00</td>\n",
       "      <td>20,000.00</td>\n",
       "      <td>58.44</td>\n",
       "      <td>58.44</td>\n",
       "      <td>Гай</td>\n",
       "      <td>Пятёрочка. Магазины</td>\n",
       "      <td>36,705,514.00</td>\n",
       "      <td>RUR</td>\n",
       "      <td>hh.ru</td>\n",
       "    </tr>\n",
       "    <tr>\n",
       "      <td>155</td>\n",
       "      <td>5efd957d6fa9af93f70e08d7</td>\n",
       "      <td>Продавец-консультант</td>\n",
       "      <td>https://hh.ru/vacancy/37358243?query=продавец</td>\n",
       "      <td>2020-06-05</td>\n",
       "      <td>nan</td>\n",
       "      <td>1,500.00</td>\n",
       "      <td>nan</td>\n",
       "      <td>nan</td>\n",
       "      <td>Минск</td>\n",
       "      <td>ООО ГраальУниверсал</td>\n",
       "      <td>37,358,243.00</td>\n",
       "      <td>BYR</td>\n",
       "      <td>hh.ru</td>\n",
       "    </tr>\n",
       "    <tr>\n",
       "      <td>156</td>\n",
       "      <td>5efd957d6fa9af93f70e08d8</td>\n",
       "      <td>Продавец-консультант (ТЦ Спектр)</td>\n",
       "      <td>https://hh.ru/vacancy/37738508?query=продавец</td>\n",
       "      <td>2020-06-29</td>\n",
       "      <td>35,000.00</td>\n",
       "      <td>60,000.00</td>\n",
       "      <td>nan</td>\n",
       "      <td>nan</td>\n",
       "      <td>Можайск, улица Мира, 2</td>\n",
       "      <td>Сеть магазинов цифровой и бытовой техники DNS</td>\n",
       "      <td>37,738,508.00</td>\n",
       "      <td>RUR</td>\n",
       "      <td>hh.ru</td>\n",
       "    </tr>\n",
       "    <tr>\n",
       "      <td>157</td>\n",
       "      <td>5efd957d6fa9af93f70e08d9</td>\n",
       "      <td>Продавец-кассир (Ярославль, проезд Моторостроителей, 4)</td>\n",
       "      <td>https://hh.ru/vacancy/36466043?query=продавец</td>\n",
       "      <td>2020-06-08</td>\n",
       "      <td>19,000.00</td>\n",
       "      <td>24,000.00</td>\n",
       "      <td>39.77</td>\n",
       "      <td>39.77</td>\n",
       "      <td>Ярославль</td>\n",
       "      <td>Пятёрочка. Магазины</td>\n",
       "      <td>36,466,043.00</td>\n",
       "      <td>RUR</td>\n",
       "      <td>hh.ru</td>\n",
       "    </tr>\n",
       "    <tr>\n",
       "      <td>158</td>\n",
       "      <td>5efd957d6fa9af93f70e08da</td>\n",
       "      <td>Продавец-консультант в магазин одежды МF / частичная занятость</td>\n",
       "      <td>https://hh.ru/vacancy/37463631?query=продавец</td>\n",
       "      <td>2020-06-11</td>\n",
       "      <td>300.00</td>\n",
       "      <td>nan</td>\n",
       "      <td>nan</td>\n",
       "      <td>nan</td>\n",
       "      <td>Минск, улица Немига, 5</td>\n",
       "      <td>ООО Марк Формэль</td>\n",
       "      <td>37,463,631.00</td>\n",
       "      <td>BYR</td>\n",
       "      <td>hh.ru</td>\n",
       "    </tr>\n",
       "    <tr>\n",
       "      <td>159</td>\n",
       "      <td>5efd957d6fa9af93f70e08db</td>\n",
       "      <td>Продавец-консультант \"Алкоголь, напитки\" (ТЦ Форум)</td>\n",
       "      <td>https://hh.ru/vacancy/37495920?query=продавец</td>\n",
       "      <td>2020-06-29</td>\n",
       "      <td>19,000.00</td>\n",
       "      <td>nan</td>\n",
       "      <td>nan</td>\n",
       "      <td>nan</td>\n",
       "      <td>Саратов, улица Танкистов, 1</td>\n",
       "      <td>О’КЕЙ \"Супермаркеты\"</td>\n",
       "      <td>37,495,920.00</td>\n",
       "      <td>RUR</td>\n",
       "      <td>hh.ru</td>\n",
       "    </tr>\n",
       "    <tr>\n",
       "      <td>160</td>\n",
       "      <td>5efd957d6fa9af93f70e08dc</td>\n",
       "      <td>Продавец-консультант NO ONE (Fashion House Outlet)</td>\n",
       "      <td>https://hh.ru/vacancy/37721080?query=продавец</td>\n",
       "      <td>2020-06-29</td>\n",
       "      <td>50,000.00</td>\n",
       "      <td>nan</td>\n",
       "      <td>nan</td>\n",
       "      <td>nan</td>\n",
       "      <td>Планерная, деревня Чёрная Грязь, Ленинградское шоссе, 14-й километр</td>\n",
       "      <td>NO ONE</td>\n",
       "      <td>37,721,080.00</td>\n",
       "      <td>RUR</td>\n",
       "      <td>hh.ru</td>\n",
       "    </tr>\n",
       "    <tr>\n",
       "      <td>161</td>\n",
       "      <td>5efd957d6fa9af93f70e08dd</td>\n",
       "      <td>Кассир-продавец</td>\n",
       "      <td>https://hh.ru/vacancy/37661295?query=продавец</td>\n",
       "      <td>2020-06-24</td>\n",
       "      <td>16,000.00</td>\n",
       "      <td>25,000.00</td>\n",
       "      <td>nan</td>\n",
       "      <td>nan</td>\n",
       "      <td>Воронеж</td>\n",
       "      <td>ИП Беляев Иван Федорович</td>\n",
       "      <td>37,661,295.00</td>\n",
       "      <td>RUR</td>\n",
       "      <td>hh.ru</td>\n",
       "    </tr>\n",
       "    <tr>\n",
       "      <td>162</td>\n",
       "      <td>5efd957d6fa9af93f70e08de</td>\n",
       "      <td>Продавец-кассир (Энгельс, площадь Свободы, 1И)</td>\n",
       "      <td>https://hh.ru/vacancy/37666360?query=продавец</td>\n",
       "      <td>2020-06-25</td>\n",
       "      <td>17,000.00</td>\n",
       "      <td>23,000.00</td>\n",
       "      <td>nan</td>\n",
       "      <td>nan</td>\n",
       "      <td>Энельс, площадь Свободы, 1И</td>\n",
       "      <td>Пятёрочка. Магазины</td>\n",
       "      <td>37,666,360.00</td>\n",
       "      <td>RUR</td>\n",
       "      <td>hh.ru</td>\n",
       "    </tr>\n",
       "    <tr>\n",
       "      <td>163</td>\n",
       "      <td>5efd957d6fa9af93f70e08df</td>\n",
       "      <td>Продавец-консультант</td>\n",
       "      <td>https://hh.ru/vacancy/37028744?query=продавец</td>\n",
       "      <td>2020-07-02</td>\n",
       "      <td>20,000.00</td>\n",
       "      <td>nan</td>\n",
       "      <td>nan</td>\n",
       "      <td>nan</td>\n",
       "      <td>Барнаул, улица Гоголя, 55</td>\n",
       "      <td>ООО БЛИС</td>\n",
       "      <td>37,028,744.00</td>\n",
       "      <td>RUR</td>\n",
       "      <td>hh.ru</td>\n",
       "    </tr>\n",
       "    <tr>\n",
       "      <td>164</td>\n",
       "      <td>5efd957d6fa9af93f70e08e0</td>\n",
       "      <td>Продавец-кассир (Казань, улица Академика Сахарова, 19)</td>\n",
       "      <td>https://hh.ru/vacancy/37650976?query=продавец</td>\n",
       "      <td>2020-06-24</td>\n",
       "      <td>25,000.00</td>\n",
       "      <td>27,700.00</td>\n",
       "      <td>nan</td>\n",
       "      <td>nan</td>\n",
       "      <td>Проспект Победы, Горки, Аметьево, г Казань, ул Академика Сахарова, 19</td>\n",
       "      <td>Пятёрочка. Магазины</td>\n",
       "      <td>37,650,976.00</td>\n",
       "      <td>RUR</td>\n",
       "      <td>hh.ru</td>\n",
       "    </tr>\n",
       "    <tr>\n",
       "      <td>165</td>\n",
       "      <td>5efd957d6fa9af93f70e08e1</td>\n",
       "      <td>Продавец-кассир (Каменск-Уральский, улица Кунавина, 4)</td>\n",
       "      <td>https://hh.ru/vacancy/37051486?query=продавец</td>\n",
       "      <td>2020-06-20</td>\n",
       "      <td>20,000.00</td>\n",
       "      <td>25,000.00</td>\n",
       "      <td>61.91</td>\n",
       "      <td>61.91</td>\n",
       "      <td>Каменск-Уральский</td>\n",
       "      <td>Пятёрочка. Магазины</td>\n",
       "      <td>37,051,486.00</td>\n",
       "      <td>RUR</td>\n",
       "      <td>hh.ru</td>\n",
       "    </tr>\n",
       "    <tr>\n",
       "      <td>166</td>\n",
       "      <td>5efd957d6fa9af93f70e08e2</td>\n",
       "      <td>Мобильный продавец-кассир (Белебей, Советская улица)</td>\n",
       "      <td>https://hh.ru/vacancy/36528202?query=продавец</td>\n",
       "      <td>2020-06-26</td>\n",
       "      <td>16,000.00</td>\n",
       "      <td>20,000.00</td>\n",
       "      <td>54.14</td>\n",
       "      <td>54.14</td>\n",
       "      <td>Белебей</td>\n",
       "      <td>Пятёрочка. Магазины</td>\n",
       "      <td>36,528,202.00</td>\n",
       "      <td>RUR</td>\n",
       "      <td>hh.ru</td>\n",
       "    </tr>\n",
       "    <tr>\n",
       "      <td>167</td>\n",
       "      <td>5efd957d6fa9af93f70e08e3</td>\n",
       "      <td>Продавец-кассир (Челябинск, улица Машиностроителей, 28А)</td>\n",
       "      <td>https://hh.ru/vacancy/36467267?query=продавец</td>\n",
       "      <td>2020-06-24</td>\n",
       "      <td>20,500.00</td>\n",
       "      <td>25,000.00</td>\n",
       "      <td>61.47</td>\n",
       "      <td>61.47</td>\n",
       "      <td>г Челябинск</td>\n",
       "      <td>Пятёрочка. Магазины</td>\n",
       "      <td>36,467,267.00</td>\n",
       "      <td>RUR</td>\n",
       "      <td>hh.ru</td>\n",
       "    </tr>\n",
       "    <tr>\n",
       "      <td>168</td>\n",
       "      <td>5efd957d6fa9af93f70e08e4</td>\n",
       "      <td>Продавец-консультант в офис продаж Билайн</td>\n",
       "      <td>https://hh.ru/vacancy/37165208?query=продавец</td>\n",
       "      <td>2020-06-26</td>\n",
       "      <td>13,000.00</td>\n",
       "      <td>45,000.00</td>\n",
       "      <td>nan</td>\n",
       "      <td>nan</td>\n",
       "      <td>Нижний Новгород</td>\n",
       "      <td>Билайн ШПД</td>\n",
       "      <td>37,165,208.00</td>\n",
       "      <td>RUR</td>\n",
       "      <td>hh.ru</td>\n",
       "    </tr>\n",
       "    <tr>\n",
       "      <td>169</td>\n",
       "      <td>5efd957d6fa9af93f70e08e5</td>\n",
       "      <td>Продавец-кассир (Сочи, улица Красных Партизан, 3/1)</td>\n",
       "      <td>https://hh.ru/vacancy/37650073?query=продавец</td>\n",
       "      <td>2020-06-24</td>\n",
       "      <td>30,000.00</td>\n",
       "      <td>41,000.00</td>\n",
       "      <td>nan</td>\n",
       "      <td>nan</td>\n",
       "      <td>Сочи, улица Красных Партизан, 3/1</td>\n",
       "      <td>Пятёрочка. Магазины</td>\n",
       "      <td>37,650,073.00</td>\n",
       "      <td>RUR</td>\n",
       "      <td>hh.ru</td>\n",
       "    </tr>\n",
       "    <tr>\n",
       "      <td>170</td>\n",
       "      <td>5efd957d6fa9af93f70e08e6</td>\n",
       "      <td>Продавец-кассир (Горячий Ключ, улица Ворошилова, 27)</td>\n",
       "      <td>https://hh.ru/vacancy/37656821?query=продавец</td>\n",
       "      <td>2020-06-24</td>\n",
       "      <td>16,728.00</td>\n",
       "      <td>21,000.00</td>\n",
       "      <td>nan</td>\n",
       "      <td>nan</td>\n",
       "      <td>Горячий Ключ, улица Ворошилова, 27</td>\n",
       "      <td>Пятёрочка. Магазины</td>\n",
       "      <td>37,656,821.00</td>\n",
       "      <td>RUR</td>\n",
       "      <td>hh.ru</td>\n",
       "    </tr>\n",
       "    <tr>\n",
       "      <td>171</td>\n",
       "      <td>5efd957d6fa9af93f70e08e7</td>\n",
       "      <td>Продавец</td>\n",
       "      <td>https://hh.ru/vacancy/36624925?query=продавец</td>\n",
       "      <td>2020-06-26</td>\n",
       "      <td>27,200.00</td>\n",
       "      <td>34,000.00</td>\n",
       "      <td>nan</td>\n",
       "      <td>nan</td>\n",
       "      <td></td>\n",
       "      <td>МАГНИТ, Розничная сеть</td>\n",
       "      <td>36,624,925.00</td>\n",
       "      <td>RUR</td>\n",
       "      <td>hh.ru</td>\n",
       "    </tr>\n",
       "    <tr>\n",
       "      <td>172</td>\n",
       "      <td>5efd957d6fa9af93f70e08e8</td>\n",
       "      <td>Продавец-консультант</td>\n",
       "      <td>https://hh.ru/vacancy/37390454?query=продавец</td>\n",
       "      <td>2020-06-08</td>\n",
       "      <td>30,000.00</td>\n",
       "      <td>nan</td>\n",
       "      <td>nan</td>\n",
       "      <td>nan</td>\n",
       "      <td>Калининград, улица Профессора Баранова, 34</td>\n",
       "      <td>ИП Безега Роман Юрьевич</td>\n",
       "      <td>37,390,454.00</td>\n",
       "      <td>RUR</td>\n",
       "      <td>hh.ru</td>\n",
       "    </tr>\n",
       "    <tr>\n",
       "      <td>173</td>\n",
       "      <td>5efd957d6fa9af93f70e08e9</td>\n",
       "      <td>Продавец-кассир (ТЦ Западный)</td>\n",
       "      <td>https://hh.ru/vacancy/37733495?query=продавец</td>\n",
       "      <td>2020-06-29</td>\n",
       "      <td>20,000.00</td>\n",
       "      <td>nan</td>\n",
       "      <td>nan</td>\n",
       "      <td>nan</td>\n",
       "      <td>Горно-Алтайск</td>\n",
       "      <td>ПАО Детский Мир</td>\n",
       "      <td>37,733,495.00</td>\n",
       "      <td>RUR</td>\n",
       "      <td>hh.ru</td>\n",
       "    </tr>\n",
       "    <tr>\n",
       "      <td>174</td>\n",
       "      <td>5efd957d6fa9af93f70e08ea</td>\n",
       "      <td>Продавец</td>\n",
       "      <td>https://hh.ru/vacancy/37739922?query=продавец</td>\n",
       "      <td>2020-06-29</td>\n",
       "      <td>20,000.00</td>\n",
       "      <td>nan</td>\n",
       "      <td>nan</td>\n",
       "      <td>nan</td>\n",
       "      <td>Ростов-на-Дону</td>\n",
       "      <td>ФГУП КАЛУЖСКОЕ ФСИН РОССИИ</td>\n",
       "      <td>37,739,922.00</td>\n",
       "      <td>RUR</td>\n",
       "      <td>hh.ru</td>\n",
       "    </tr>\n",
       "    <tr>\n",
       "      <td>175</td>\n",
       "      <td>5efd957d6fa9af93f70e08eb</td>\n",
       "      <td>Продавец-консультант/продавец-кассир</td>\n",
       "      <td>https://hh.ru/vacancy/37564158?query=продавец</td>\n",
       "      <td>2020-06-30</td>\n",
       "      <td>22,000.00</td>\n",
       "      <td>60,000.00</td>\n",
       "      <td>nan</td>\n",
       "      <td>nan</td>\n",
       "      <td>Площадь 1905 года, Бажовская, Геологическая, Екатеринбург, улица 8 Марта, 46</td>\n",
       "      <td>ООО Тренди Лаб</td>\n",
       "      <td>37,564,158.00</td>\n",
       "      <td>RUR</td>\n",
       "      <td>hh.ru</td>\n",
       "    </tr>\n",
       "    <tr>\n",
       "      <td>176</td>\n",
       "      <td>5efd957d6fa9af93f70e08ec</td>\n",
       "      <td>Продавец-кассир (село Шеметово, Центральная улица, 57)</td>\n",
       "      <td>https://hh.ru/vacancy/36926450?query=продавец</td>\n",
       "      <td>2020-06-30</td>\n",
       "      <td>22,000.00</td>\n",
       "      <td>28,000.00</td>\n",
       "      <td>38.09</td>\n",
       "      <td>38.09</td>\n",
       "      <td>село Шеметово</td>\n",
       "      <td>Пятёрочка. Магазины</td>\n",
       "      <td>36,926,450.00</td>\n",
       "      <td>RUR</td>\n",
       "      <td>hh.ru</td>\n",
       "    </tr>\n",
       "    <tr>\n",
       "      <td>177</td>\n",
       "      <td>5efd957d6fa9af93f70e08ed</td>\n",
       "      <td>Продавец-кассир (Первоуральск)</td>\n",
       "      <td>https://hh.ru/vacancy/37673848?query=продавец</td>\n",
       "      <td>2020-07-02</td>\n",
       "      <td>19,000.00</td>\n",
       "      <td>24,000.00</td>\n",
       "      <td>60.40</td>\n",
       "      <td>60.40</td>\n",
       "      <td>Екатеринбург</td>\n",
       "      <td>Верный</td>\n",
       "      <td>37,673,848.00</td>\n",
       "      <td>RUR</td>\n",
       "      <td>hh.ru</td>\n",
       "    </tr>\n",
       "    <tr>\n",
       "      <td>178</td>\n",
       "      <td>5efd957d6fa9af93f70e08ee</td>\n",
       "      <td>Продавец недвижимости, (г. Сочи)</td>\n",
       "      <td>https://hh.ru/vacancy/32533035?query=продавец</td>\n",
       "      <td>2020-07-01</td>\n",
       "      <td>200,000.00</td>\n",
       "      <td>nan</td>\n",
       "      <td>39.72</td>\n",
       "      <td>39.72</td>\n",
       "      <td>Сочи</td>\n",
       "      <td>ООО Винсент Недвижимость</td>\n",
       "      <td>32,533,035.00</td>\n",
       "      <td>RUR</td>\n",
       "      <td>hh.ru</td>\n",
       "    </tr>\n",
       "    <tr>\n",
       "      <td>179</td>\n",
       "      <td>5efd957d6fa9af93f70e08ef</td>\n",
       "      <td>Продавец-кассир (ТЦ Сити Молл)</td>\n",
       "      <td>https://hh.ru/vacancy/37639068?query=продавец</td>\n",
       "      <td>2020-06-23</td>\n",
       "      <td>29,000.00</td>\n",
       "      <td>nan</td>\n",
       "      <td>nan</td>\n",
       "      <td>nan</td>\n",
       "      <td>Сургут</td>\n",
       "      <td>ПАО Детский Мир</td>\n",
       "      <td>37,639,068.00</td>\n",
       "      <td>RUR</td>\n",
       "      <td>hh.ru</td>\n",
       "    </tr>\n",
       "    <tr>\n",
       "      <td>180</td>\n",
       "      <td>5efd957d6fa9af93f70e08f0</td>\n",
       "      <td>Продавец-консультант в магазин мужской одежды премиум класса \"Boston One\"</td>\n",
       "      <td>https://hh.ru/vacancy/37336465?query=продавец</td>\n",
       "      <td>2020-07-01</td>\n",
       "      <td>18,000.00</td>\n",
       "      <td>30,000.00</td>\n",
       "      <td>nan</td>\n",
       "      <td>nan</td>\n",
       "      <td>Омск, проспект Карла Маркса, 22</td>\n",
       "      <td>ТД Ниагара</td>\n",
       "      <td>37,336,465.00</td>\n",
       "      <td>RUR</td>\n",
       "      <td>hh.ru</td>\n",
       "    </tr>\n",
       "    <tr>\n",
       "      <td>181</td>\n",
       "      <td>5efd957d6fa9af93f70e08f1</td>\n",
       "      <td>Продавец магазина Магнит</td>\n",
       "      <td>https://hh.ru/vacancy/36707219?query=продавец</td>\n",
       "      <td>2020-07-02</td>\n",
       "      <td>23,100.00</td>\n",
       "      <td>23,100.00</td>\n",
       "      <td>nan</td>\n",
       "      <td>nan</td>\n",
       "      <td>Майма</td>\n",
       "      <td>МАГНИТ, Розничная сеть</td>\n",
       "      <td>36,707,219.00</td>\n",
       "      <td>RUR</td>\n",
       "      <td>hh.ru</td>\n",
       "    </tr>\n",
       "    <tr>\n",
       "      <td>182</td>\n",
       "      <td>5efd957d6fa9af93f70e08f2</td>\n",
       "      <td>Продавец (Зяб 17/17)</td>\n",
       "      <td>https://hh.ru/vacancy/37389298?query=продавец</td>\n",
       "      <td>2020-06-08</td>\n",
       "      <td>0.00</td>\n",
       "      <td>29,800.00</td>\n",
       "      <td>52.33</td>\n",
       "      <td>52.33</td>\n",
       "      <td>Набережные Челны</td>\n",
       "      <td>МАГНИТ, Розничная сеть</td>\n",
       "      <td>37,389,298.00</td>\n",
       "      <td>RUR</td>\n",
       "      <td>hh.ru</td>\n",
       "    </tr>\n",
       "    <tr>\n",
       "      <td>183</td>\n",
       "      <td>5efd957d6fa9af93f70e08f3</td>\n",
       "      <td>Старший продавец</td>\n",
       "      <td>https://hh.ru/vacancy/37569958?query=продавец</td>\n",
       "      <td>2020-06-18</td>\n",
       "      <td>19,000.00</td>\n",
       "      <td>nan</td>\n",
       "      <td>nan</td>\n",
       "      <td>nan</td>\n",
       "      <td>Кораблино, Октябрьская улица, 6</td>\n",
       "      <td>ООО Корзинка-6</td>\n",
       "      <td>37,569,958.00</td>\n",
       "      <td>RUR</td>\n",
       "      <td>hh.ru</td>\n",
       "    </tr>\n",
       "    <tr>\n",
       "      <td>184</td>\n",
       "      <td>5efd957d6fa9af93f70e08f4</td>\n",
       "      <td>Продавец-кассир (ТЦ \"Океан\", г. Жуковский)</td>\n",
       "      <td>https://hh.ru/vacancy/37438227?query=продавец</td>\n",
       "      <td>2020-06-26</td>\n",
       "      <td>14,900.00</td>\n",
       "      <td>nan</td>\n",
       "      <td>38.09</td>\n",
       "      <td>38.09</td>\n",
       "      <td>Жуковский</td>\n",
       "      <td>O'STIN</td>\n",
       "      <td>37,438,227.00</td>\n",
       "      <td>RUR</td>\n",
       "      <td>hh.ru</td>\n",
       "    </tr>\n",
       "    <tr>\n",
       "      <td>185</td>\n",
       "      <td>5efd957d6fa9af93f70e08f5</td>\n",
       "      <td>Продавец магазина МАГНИТ Ялуторовск</td>\n",
       "      <td>https://hh.ru/vacancy/36386566?query=продавец</td>\n",
       "      <td>2020-06-26</td>\n",
       "      <td>20,700.00</td>\n",
       "      <td>25,800.00</td>\n",
       "      <td>nan</td>\n",
       "      <td>nan</td>\n",
       "      <td>Ялуторовск</td>\n",
       "      <td>МАГНИТ, Розничная сеть</td>\n",
       "      <td>36,386,566.00</td>\n",
       "      <td>RUR</td>\n",
       "      <td>hh.ru</td>\n",
       "    </tr>\n",
       "    <tr>\n",
       "      <td>186</td>\n",
       "      <td>5efd957d6fa9af93f70e08f6</td>\n",
       "      <td>Продавец-кассир (Казань, улица Мазита Гафури, 9к1)</td>\n",
       "      <td>https://hh.ru/vacancy/36496348?query=продавец</td>\n",
       "      <td>2020-06-08</td>\n",
       "      <td>25,000.00</td>\n",
       "      <td>27,700.00</td>\n",
       "      <td>49.10</td>\n",
       "      <td>49.10</td>\n",
       "      <td>Казань</td>\n",
       "      <td>Пятёрочка. Магазины</td>\n",
       "      <td>36,496,348.00</td>\n",
       "      <td>RUR</td>\n",
       "      <td>hh.ru</td>\n",
       "    </tr>\n",
       "    <tr>\n",
       "      <td>187</td>\n",
       "      <td>5efd957d6fa9af93f70e08f7</td>\n",
       "      <td>Продавец-кассир (Заречный, Ленинградская улица, 19А)</td>\n",
       "      <td>https://hh.ru/vacancy/36692366?query=продавец</td>\n",
       "      <td>2020-06-20</td>\n",
       "      <td>18,000.00</td>\n",
       "      <td>23,000.00</td>\n",
       "      <td>61.32</td>\n",
       "      <td>61.32</td>\n",
       "      <td>Заречный</td>\n",
       "      <td>Пятёрочка. Магазины</td>\n",
       "      <td>36,692,366.00</td>\n",
       "      <td>RUR</td>\n",
       "      <td>hh.ru</td>\n",
       "    </tr>\n",
       "    <tr>\n",
       "      <td>188</td>\n",
       "      <td>5efd957d6fa9af93f70e08f8</td>\n",
       "      <td>Продавец-бармен (Заводскй и Кировский районы г.Кемерово)</td>\n",
       "      <td>https://hh.ru/vacancy/32479278?query=продавец</td>\n",
       "      <td>2020-07-02</td>\n",
       "      <td>nan</td>\n",
       "      <td>30,000.00</td>\n",
       "      <td>nan</td>\n",
       "      <td>nan</td>\n",
       "      <td>Кемерово</td>\n",
       "      <td>АЛДИ</td>\n",
       "      <td>32,479,278.00</td>\n",
       "      <td>RUR</td>\n",
       "      <td>hh.ru</td>\n",
       "    </tr>\n",
       "    <tr>\n",
       "      <td>189</td>\n",
       "      <td>5efd957d6fa9af93f70e08f9</td>\n",
       "      <td>Продавец-консультант</td>\n",
       "      <td>https://hh.ru/vacancy/37660348?query=продавец</td>\n",
       "      <td>2020-07-02</td>\n",
       "      <td>25,000.00</td>\n",
       "      <td>50,000.00</td>\n",
       "      <td>nan</td>\n",
       "      <td>nan</td>\n",
       "      <td>Пятигорск, улица Бунимовича, 7</td>\n",
       "      <td>Золотая Подкова</td>\n",
       "      <td>37,660,348.00</td>\n",
       "      <td>RUR</td>\n",
       "      <td>hh.ru</td>\n",
       "    </tr>\n",
       "    <tr>\n",
       "      <td>190</td>\n",
       "      <td>5efd957d6fa9af93f70e08fa</td>\n",
       "      <td>Продавец-кассир (Ульяновск, Буинский переулок, 1)</td>\n",
       "      <td>https://hh.ru/vacancy/36496834?query=продавец</td>\n",
       "      <td>2020-06-25</td>\n",
       "      <td>18,000.00</td>\n",
       "      <td>24,000.00</td>\n",
       "      <td>48.39</td>\n",
       "      <td>48.39</td>\n",
       "      <td>г Ульяновск</td>\n",
       "      <td>Пятёрочка. Магазины</td>\n",
       "      <td>36,496,834.00</td>\n",
       "      <td>RUR</td>\n",
       "      <td>hh.ru</td>\n",
       "    </tr>\n",
       "    <tr>\n",
       "      <td>191</td>\n",
       "      <td>5efd957d6fa9af93f70e08fb</td>\n",
       "      <td>Продавец-кассир (Нижний Новгород, Верхнепечёрская улица, 5)</td>\n",
       "      <td>https://hh.ru/vacancy/36467608?query=продавец</td>\n",
       "      <td>2020-06-24</td>\n",
       "      <td>19,300.00</td>\n",
       "      <td>24,200.00</td>\n",
       "      <td>44.07</td>\n",
       "      <td>44.07</td>\n",
       "      <td>Нижний Новгород</td>\n",
       "      <td>Пятёрочка. Магазины</td>\n",
       "      <td>36,467,608.00</td>\n",
       "      <td>RUR</td>\n",
       "      <td>hh.ru</td>\n",
       "    </tr>\n",
       "    <tr>\n",
       "      <td>192</td>\n",
       "      <td>5efd957d6fa9af93f70e08fc</td>\n",
       "      <td>Старший продавец-кассир (ТРЦ РИО Севастопольский)</td>\n",
       "      <td>https://hh.ru/vacancy/37384672?query=продавец</td>\n",
       "      <td>2020-06-26</td>\n",
       "      <td>40,000.00</td>\n",
       "      <td>nan</td>\n",
       "      <td>nan</td>\n",
       "      <td>nan</td>\n",
       "      <td>Крымская, Москва, Большая Черёмушкинская улица, 1</td>\n",
       "      <td>Henderson</td>\n",
       "      <td>37,384,672.00</td>\n",
       "      <td>RUR</td>\n",
       "      <td>hh.ru</td>\n",
       "    </tr>\n",
       "    <tr>\n",
       "      <td>193</td>\n",
       "      <td>5efd957d6fa9af93f70e08fd</td>\n",
       "      <td>Продавец магазина \"Магнит-Косметик\" (г. Железногорск)</td>\n",
       "      <td>https://hh.ru/vacancy/37438961?query=продавец</td>\n",
       "      <td>2020-06-10</td>\n",
       "      <td>0.00</td>\n",
       "      <td>20,800.00</td>\n",
       "      <td>92.88</td>\n",
       "      <td>92.88</td>\n",
       "      <td>Красноярск</td>\n",
       "      <td>МАГНИТ, Розничная сеть</td>\n",
       "      <td>37,438,961.00</td>\n",
       "      <td>RUR</td>\n",
       "      <td>hh.ru</td>\n",
       "    </tr>\n",
       "    <tr>\n",
       "      <td>194</td>\n",
       "      <td>5efd957d6fa9af93f70e08fe</td>\n",
       "      <td>Продавец-консультант</td>\n",
       "      <td>https://hh.ru/vacancy/37455590?query=продавец</td>\n",
       "      <td>2020-06-11</td>\n",
       "      <td>28,000.00</td>\n",
       "      <td>35,000.00</td>\n",
       "      <td>nan</td>\n",
       "      <td>nan</td>\n",
       "      <td>Подольск, Подольск, улица Кирова, 56</td>\n",
       "      <td>Уютный Дом (ИП Карпузов Сергей Борисович)</td>\n",
       "      <td>37,455,590.00</td>\n",
       "      <td>RUR</td>\n",
       "      <td>hh.ru</td>\n",
       "    </tr>\n",
       "    <tr>\n",
       "      <td>195</td>\n",
       "      <td>5efd957d6fa9af93f70e08ff</td>\n",
       "      <td>Продавец-кассир (Старый Оскол, 1)</td>\n",
       "      <td>https://hh.ru/vacancy/37649579?query=продавец</td>\n",
       "      <td>2020-06-24</td>\n",
       "      <td>17,500.00</td>\n",
       "      <td>22,000.00</td>\n",
       "      <td>nan</td>\n",
       "      <td>nan</td>\n",
       "      <td>г Старый Оскол, Северный мкр, 1</td>\n",
       "      <td>Пятёрочка. Магазины</td>\n",
       "      <td>37,649,579.00</td>\n",
       "      <td>RUR</td>\n",
       "      <td>hh.ru</td>\n",
       "    </tr>\n",
       "    <tr>\n",
       "      <td>196</td>\n",
       "      <td>5efd957d6fa9af93f70e0900</td>\n",
       "      <td>Продавец-кассир, поселок Боголюбово</td>\n",
       "      <td>https://hh.ru/vacancy/37719730?query=продавец</td>\n",
       "      <td>2020-06-29</td>\n",
       "      <td>29,000.00</td>\n",
       "      <td>nan</td>\n",
       "      <td>nan</td>\n",
       "      <td>nan</td>\n",
       "      <td>Владимир</td>\n",
       "      <td>ООО Бристоль, сеть магазинов</td>\n",
       "      <td>37,719,730.00</td>\n",
       "      <td>RUR</td>\n",
       "      <td>hh.ru</td>\n",
       "    </tr>\n",
       "    <tr>\n",
       "      <td>197</td>\n",
       "      <td>5efd957d6fa9af93f70e0901</td>\n",
       "      <td>Продавец-кассир (м. Аннино, Орехово)</td>\n",
       "      <td>https://hh.ru/vacancy/37681180?query=продавец</td>\n",
       "      <td>2020-07-02</td>\n",
       "      <td>30,000.00</td>\n",
       "      <td>nan</td>\n",
       "      <td>nan</td>\n",
       "      <td>nan</td>\n",
       "      <td>Москва</td>\n",
       "      <td>Улыбка радуги</td>\n",
       "      <td>37,681,180.00</td>\n",
       "      <td>RUR</td>\n",
       "      <td>hh.ru</td>\n",
       "    </tr>\n",
       "    <tr>\n",
       "      <td>198</td>\n",
       "      <td>5efd957d6fa9af93f70e0902</td>\n",
       "      <td>Продавец-консультант (ТЦ Лента)</td>\n",
       "      <td>https://hh.ru/vacancy/37559249?query=продавец</td>\n",
       "      <td>2020-06-18</td>\n",
       "      <td>35,000.00</td>\n",
       "      <td>60,000.00</td>\n",
       "      <td>nan</td>\n",
       "      <td>nan</td>\n",
       "      <td>Коломна, улица Астахова, 4к2</td>\n",
       "      <td>Сеть магазинов цифровой и бытовой техники DNS</td>\n",
       "      <td>37,559,249.00</td>\n",
       "      <td>RUR</td>\n",
       "      <td>hh.ru</td>\n",
       "    </tr>\n",
       "    <tr>\n",
       "      <td>199</td>\n",
       "      <td>5efd957d6fa9af93f70e0903</td>\n",
       "      <td>Продавец-кассир, г.Щапово</td>\n",
       "      <td>https://hh.ru/vacancy/37170392?query=продавец</td>\n",
       "      <td>2020-06-25</td>\n",
       "      <td>26,700.00</td>\n",
       "      <td>nan</td>\n",
       "      <td>nan</td>\n",
       "      <td>nan</td>\n",
       "      <td>Москва</td>\n",
       "      <td>ДИКСИ. Магазины</td>\n",
       "      <td>37,170,392.00</td>\n",
       "      <td>RUR</td>\n",
       "      <td>hh.ru</td>\n",
       "    </tr>\n",
       "    <tr>\n",
       "      <td>200</td>\n",
       "      <td>5efd957d6fa9af93f70e0904</td>\n",
       "      <td>Продавец-кассир Фикс Прайс (Октябрьский рынок)</td>\n",
       "      <td>https://hh.ru/vacancy/37309259?query=продавец</td>\n",
       "      <td>2020-06-02</td>\n",
       "      <td>19,000.00</td>\n",
       "      <td>21,000.00</td>\n",
       "      <td>nan</td>\n",
       "      <td>nan</td>\n",
       "      <td>Липецк</td>\n",
       "      <td>ООО КС Интернешнл</td>\n",
       "      <td>37,309,259.00</td>\n",
       "      <td>RUR</td>\n",
       "      <td>hh.ru</td>\n",
       "    </tr>\n",
       "    <tr>\n",
       "      <td>201</td>\n",
       "      <td>5efd957d6fa9af93f70e0905</td>\n",
       "      <td>Продавец-кассир (Омск, 1-я Ленинградская улица, 1)</td>\n",
       "      <td>https://hh.ru/vacancy/36466980?query=продавец</td>\n",
       "      <td>2020-06-24</td>\n",
       "      <td>16,500.00</td>\n",
       "      <td>22,000.00</td>\n",
       "      <td>73.48</td>\n",
       "      <td>73.48</td>\n",
       "      <td>Омск</td>\n",
       "      <td>Пятёрочка. Магазины</td>\n",
       "      <td>36,466,980.00</td>\n",
       "      <td>RUR</td>\n",
       "      <td>hh.ru</td>\n",
       "    </tr>\n",
       "    <tr>\n",
       "      <td>202</td>\n",
       "      <td>5efd957d6fa9af93f70e0906</td>\n",
       "      <td>Продавец-кассир</td>\n",
       "      <td>https://hh.ru/vacancy/37327051?query=продавец</td>\n",
       "      <td>2020-06-03</td>\n",
       "      <td>600.00</td>\n",
       "      <td>nan</td>\n",
       "      <td>nan</td>\n",
       "      <td>nan</td>\n",
       "      <td>Гродно, улица Советских Пограничников, 91</td>\n",
       "      <td>ООО Марк Формэль</td>\n",
       "      <td>37,327,051.00</td>\n",
       "      <td>BYR</td>\n",
       "      <td>hh.ru</td>\n",
       "    </tr>\n",
       "    <tr>\n",
       "      <td>203</td>\n",
       "      <td>5efd957d6fa9af93f70e0907</td>\n",
       "      <td>Продавец-консультант в отдел Строительные материалы</td>\n",
       "      <td>https://hh.ru/vacancy/37500956?query=продавец</td>\n",
       "      <td>2020-06-16</td>\n",
       "      <td>31,000.00</td>\n",
       "      <td>nan</td>\n",
       "      <td>135.10</td>\n",
       "      <td>135.10</td>\n",
       "      <td>Хабаровск</td>\n",
       "      <td>Леруа Мерлен. Гипермаркеты</td>\n",
       "      <td>37,500,956.00</td>\n",
       "      <td>RUR</td>\n",
       "      <td>hh.ru</td>\n",
       "    </tr>\n",
       "    <tr>\n",
       "      <td>204</td>\n",
       "      <td>5efd957d6fa9af93f70e0908</td>\n",
       "      <td>Продавец-кассир</td>\n",
       "      <td>https://hh.ru/vacancy/37657485?query=продавец</td>\n",
       "      <td>2020-06-24</td>\n",
       "      <td>40,000.00</td>\n",
       "      <td>40,000.00</td>\n",
       "      <td>nan</td>\n",
       "      <td>nan</td>\n",
       "      <td>Воронеж</td>\n",
       "      <td>Группа Компаний «GreenSpark»</td>\n",
       "      <td>37,657,485.00</td>\n",
       "      <td>RUR</td>\n",
       "      <td>hh.ru</td>\n",
       "    </tr>\n",
       "    <tr>\n",
       "      <td>205</td>\n",
       "      <td>5efd957d6fa9af93f70e0909</td>\n",
       "      <td>Продавец Магнит у дома</td>\n",
       "      <td>https://hh.ru/vacancy/36672259?query=продавец</td>\n",
       "      <td>2020-06-30</td>\n",
       "      <td>21,300.00</td>\n",
       "      <td>25,400.00</td>\n",
       "      <td>nan</td>\n",
       "      <td>nan</td>\n",
       "      <td>Павловск (Воронежская область)</td>\n",
       "      <td>МАГНИТ, Розничная сеть</td>\n",
       "      <td>36,672,259.00</td>\n",
       "      <td>RUR</td>\n",
       "      <td>hh.ru</td>\n",
       "    </tr>\n",
       "    <tr>\n",
       "      <td>206</td>\n",
       "      <td>5efd957d6fa9af93f70e090a</td>\n",
       "      <td>Продавец-универсал (Зеленый)</td>\n",
       "      <td>https://hh.ru/vacancy/37084083?query=продавец</td>\n",
       "      <td>2020-06-22</td>\n",
       "      <td>30,800.00</td>\n",
       "      <td>38,500.00</td>\n",
       "      <td>nan</td>\n",
       "      <td>nan</td>\n",
       "      <td>Ногинск</td>\n",
       "      <td>МАГНИТ, Розничная сеть</td>\n",
       "      <td>37,084,083.00</td>\n",
       "      <td>RUR</td>\n",
       "      <td>hh.ru</td>\n",
       "    </tr>\n",
       "    <tr>\n",
       "      <td>207</td>\n",
       "      <td>5efd957d6fa9af93f70e090b</td>\n",
       "      <td>Продавец-консультант ЛКМ (Леруа Мерлен/ Варшавское)</td>\n",
       "      <td>https://hh.ru/vacancy/37493224?query=продавец</td>\n",
       "      <td>2020-06-26</td>\n",
       "      <td>35,000.00</td>\n",
       "      <td>45,000.00</td>\n",
       "      <td>nan</td>\n",
       "      <td>nan</td>\n",
       "      <td>Аннино, Бульвар Дмитрия Донского, Битца, Ленинский городской округ, Варшавское шоссе, 21-й килом...</td>\n",
       "      <td>AROUND, Группа компаний</td>\n",
       "      <td>37,493,224.00</td>\n",
       "      <td>RUR</td>\n",
       "      <td>hh.ru</td>\n",
       "    </tr>\n",
       "    <tr>\n",
       "      <td>208</td>\n",
       "      <td>5efd957d6fa9af93f70e090c</td>\n",
       "      <td>Продавец-кассир</td>\n",
       "      <td>https://hh.ru/vacancy/36385293?query=продавец</td>\n",
       "      <td>2020-06-26</td>\n",
       "      <td>28,500.00</td>\n",
       "      <td>42,000.00</td>\n",
       "      <td>nan</td>\n",
       "      <td>nan</td>\n",
       "      <td>Москва, Кочновский проезд, 5с7</td>\n",
       "      <td>ООО Военторг - Ритейл</td>\n",
       "      <td>36,385,293.00</td>\n",
       "      <td>RUR</td>\n",
       "      <td>hh.ru</td>\n",
       "    </tr>\n",
       "    <tr>\n",
       "      <td>209</td>\n",
       "      <td>5efd957d6fa9af93f70e090d</td>\n",
       "      <td>Продавец-кассир (село Павловск, Заводская улица, 4Б)</td>\n",
       "      <td>https://hh.ru/vacancy/37010394?query=продавец</td>\n",
       "      <td>2020-06-01</td>\n",
       "      <td>18,500.00</td>\n",
       "      <td>23,500.00</td>\n",
       "      <td>82.95</td>\n",
       "      <td>82.95</td>\n",
       "      <td>село Павловск</td>\n",
       "      <td>Пятёрочка. Магазины</td>\n",
       "      <td>36,883,242.00</td>\n",
       "      <td>RUR</td>\n",
       "      <td>hh.ru</td>\n",
       "    </tr>\n",
       "    <tr>\n",
       "      <td>210</td>\n",
       "      <td>5efd957d6fa9af93f70e090e</td>\n",
       "      <td>Продавец-кассир (Тюмень, улица Энергетиков, 52)</td>\n",
       "      <td>https://hh.ru/vacancy/36602104?query=продавец</td>\n",
       "      <td>2020-06-12</td>\n",
       "      <td>17,500.00</td>\n",
       "      <td>27,000.00</td>\n",
       "      <td>65.59</td>\n",
       "      <td>65.59</td>\n",
       "      <td>Тюмень</td>\n",
       "      <td>Пятёрочка. Магазины</td>\n",
       "      <td>36,602,104.00</td>\n",
       "      <td>RUR</td>\n",
       "      <td>hh.ru</td>\n",
       "    </tr>\n",
       "    <tr>\n",
       "      <td>211</td>\n",
       "      <td>5efd957d6fa9af93f70e090f</td>\n",
       "      <td>Продавец-кассир (село Казачья Слобода, Народная улица, 4)</td>\n",
       "      <td>https://hh.ru/vacancy/37655767?query=продавец</td>\n",
       "      <td>2020-06-24</td>\n",
       "      <td>20,000.00</td>\n",
       "      <td>25,000.00</td>\n",
       "      <td>nan</td>\n",
       "      <td>nan</td>\n",
       "      <td>Шацкий р-н, село Казачья Слобода, улица Народная, 1</td>\n",
       "      <td>Пятёрочка. Магазины</td>\n",
       "      <td>37,655,767.00</td>\n",
       "      <td>RUR</td>\n",
       "      <td>hh.ru</td>\n",
       "    </tr>\n",
       "    <tr>\n",
       "      <td>212</td>\n",
       "      <td>5efd957d6fa9af93f70e0910</td>\n",
       "      <td>Продавец-кассир (Ярославль, Большая Октябрьская улица, 71)</td>\n",
       "      <td>https://hh.ru/vacancy/36677827?query=продавец</td>\n",
       "      <td>2020-06-03</td>\n",
       "      <td>21,000.00</td>\n",
       "      <td>23,000.00</td>\n",
       "      <td>39.86</td>\n",
       "      <td>39.86</td>\n",
       "      <td>Ярославль</td>\n",
       "      <td>Пятёрочка. Магазины</td>\n",
       "      <td>36,677,827.00</td>\n",
       "      <td>RUR</td>\n",
       "      <td>hh.ru</td>\n",
       "    </tr>\n",
       "    <tr>\n",
       "      <td>213</td>\n",
       "      <td>5efd957d6fa9af93f70e0911</td>\n",
       "      <td>Продавец-консультант (Санкт-Петербург, Лыжный пер, 6)</td>\n",
       "      <td>https://hh.ru/vacancy/36847416?query=продавец</td>\n",
       "      <td>2020-06-24</td>\n",
       "      <td>25,000.00</td>\n",
       "      <td>30,293.00</td>\n",
       "      <td>nan</td>\n",
       "      <td>nan</td>\n",
       "      <td>г Санкт-Петербург, Лыжный пер, 6</td>\n",
       "      <td>Перекресток</td>\n",
       "      <td>36,847,416.00</td>\n",
       "      <td>RUR</td>\n",
       "      <td>hh.ru</td>\n",
       "    </tr>\n",
       "    <tr>\n",
       "      <td>214</td>\n",
       "      <td>5efd957d6fa9af93f70e0912</td>\n",
       "      <td>Кассир (Новое Лапино)</td>\n",
       "      <td>https://hh.ru/vacancy/37734031?query=продавец</td>\n",
       "      <td>2020-06-29</td>\n",
       "      <td>40,000.00</td>\n",
       "      <td>45,000.00</td>\n",
       "      <td>37.14</td>\n",
       "      <td>37.14</td>\n",
       "      <td>деревня Лапино</td>\n",
       "      <td>ВкусВилл</td>\n",
       "      <td>37,734,031.00</td>\n",
       "      <td>RUR</td>\n",
       "      <td>hh.ru</td>\n",
       "    </tr>\n",
       "    <tr>\n",
       "      <td>215</td>\n",
       "      <td>5efd957d6fa9af93f70e0913</td>\n",
       "      <td>Продавец-кассир (г Владимир мкр Коммунар)</td>\n",
       "      <td>https://hh.ru/vacancy/36940493?query=продавец</td>\n",
       "      <td>2020-06-29</td>\n",
       "      <td>27,000.00</td>\n",
       "      <td>nan</td>\n",
       "      <td>nan</td>\n",
       "      <td>nan</td>\n",
       "      <td>Владимир</td>\n",
       "      <td>ООО Бристоль, сеть магазинов</td>\n",
       "      <td>36,940,493.00</td>\n",
       "      <td>RUR</td>\n",
       "      <td>hh.ru</td>\n",
       "    </tr>\n",
       "    <tr>\n",
       "      <td>216</td>\n",
       "      <td>5efd957d6fa9af93f70e0914</td>\n",
       "      <td>Продавец-кассир (село Дубёнки, Центральная улица, 19)</td>\n",
       "      <td>https://hh.ru/vacancy/36743217?query=продавец</td>\n",
       "      <td>2020-06-26</td>\n",
       "      <td>14,000.00</td>\n",
       "      <td>18,000.00</td>\n",
       "      <td>46.30</td>\n",
       "      <td>46.30</td>\n",
       "      <td>Дубенский р-н, село Дубенки</td>\n",
       "      <td>Пятёрочка. Магазины</td>\n",
       "      <td>36,743,217.00</td>\n",
       "      <td>RUR</td>\n",
       "      <td>hh.ru</td>\n",
       "    </tr>\n",
       "    <tr>\n",
       "      <td>217</td>\n",
       "      <td>5efd957d6fa9af93f70e0915</td>\n",
       "      <td>Продавец-консультант в салон сотовой связи, ТЦ \"Метро\"</td>\n",
       "      <td>https://hh.ru/vacancy/37496305?query=продавец</td>\n",
       "      <td>2020-06-29</td>\n",
       "      <td>30,000.00</td>\n",
       "      <td>nan</td>\n",
       "      <td>nan</td>\n",
       "      <td>nan</td>\n",
       "      <td>Арзамас, проспект Ленина, 119</td>\n",
       "      <td>ООО Дилер</td>\n",
       "      <td>37,496,305.00</td>\n",
       "      <td>RUR</td>\n",
       "      <td>hh.ru</td>\n",
       "    </tr>\n",
       "    <tr>\n",
       "      <td>218</td>\n",
       "      <td>5efd957d6fa9af93f70e0916</td>\n",
       "      <td>Продавец-консультант/Оптометрист (ТК Альтаир)</td>\n",
       "      <td>https://hh.ru/vacancy/37351503?query=продавец</td>\n",
       "      <td>2020-06-30</td>\n",
       "      <td>30,000.00</td>\n",
       "      <td>nan</td>\n",
       "      <td>nan</td>\n",
       "      <td>nan</td>\n",
       "      <td>Ярославль, Ленинградский проспект, 123</td>\n",
       "      <td>ООО АЙКРАФТ</td>\n",
       "      <td>37,351,503.00</td>\n",
       "      <td>RUR</td>\n",
       "      <td>hh.ru</td>\n",
       "    </tr>\n",
       "    <tr>\n",
       "      <td>219</td>\n",
       "      <td>5efd957d6fa9af93f70e0917</td>\n",
       "      <td>Продавец - консультант (ТЦ Взлет Гипер)</td>\n",
       "      <td>https://hh.ru/vacancy/37423154?query=продавец</td>\n",
       "      <td>2020-06-22</td>\n",
       "      <td>42,000.00</td>\n",
       "      <td>60,000.00</td>\n",
       "      <td>nan</td>\n",
       "      <td>nan</td>\n",
       "      <td>Жуковский, улица Гагарина, 24</td>\n",
       "      <td>Сеть магазинов цифровой и бытовой техники DNS</td>\n",
       "      <td>37,423,154.00</td>\n",
       "      <td>RUR</td>\n",
       "      <td>hh.ru</td>\n",
       "    </tr>\n",
       "    <tr>\n",
       "      <td>220</td>\n",
       "      <td>5efd957d6fa9af93f70e0918</td>\n",
       "      <td>Продавец-кассир (Thomas Munz, ТЦ Саларис)</td>\n",
       "      <td>https://hh.ru/vacancy/37598400?query=продавец</td>\n",
       "      <td>2020-06-29</td>\n",
       "      <td>35,000.00</td>\n",
       "      <td>nan</td>\n",
       "      <td>nan</td>\n",
       "      <td>nan</td>\n",
       "      <td>Москва</td>\n",
       "      <td>THOMAS MUNZ</td>\n",
       "      <td>37,598,400.00</td>\n",
       "      <td>RUR</td>\n",
       "      <td>hh.ru</td>\n",
       "    </tr>\n",
       "    <tr>\n",
       "      <td>221</td>\n",
       "      <td>5efd957d6fa9af93f70e0919</td>\n",
       "      <td>Продавец-кассир (Иваново, улица Карла Маркса, 32)</td>\n",
       "      <td>https://hh.ru/vacancy/36465910?query=продавец</td>\n",
       "      <td>2020-06-08</td>\n",
       "      <td>17,000.00</td>\n",
       "      <td>28,000.00</td>\n",
       "      <td>40.98</td>\n",
       "      <td>40.98</td>\n",
       "      <td>Иваново</td>\n",
       "      <td>Пятёрочка. Магазины</td>\n",
       "      <td>36,465,910.00</td>\n",
       "      <td>RUR</td>\n",
       "      <td>hh.ru</td>\n",
       "    </tr>\n",
       "    <tr>\n",
       "      <td>222</td>\n",
       "      <td>5efd957d6fa9af93f70e091a</td>\n",
       "      <td>Продавец-кассир (Нижний Новгород, Верхоянская улица, 11)</td>\n",
       "      <td>https://hh.ru/vacancy/36931388?query=продавец</td>\n",
       "      <td>2020-06-03</td>\n",
       "      <td>19,300.00</td>\n",
       "      <td>24,200.00</td>\n",
       "      <td>43.84</td>\n",
       "      <td>43.84</td>\n",
       "      <td>Нижний Новгород</td>\n",
       "      <td>Пятёрочка. Магазины</td>\n",
       "      <td>36,931,388.00</td>\n",
       "      <td>RUR</td>\n",
       "      <td>hh.ru</td>\n",
       "    </tr>\n",
       "    <tr>\n",
       "      <td>223</td>\n",
       "      <td>5efd957d6fa9af93f70e091b</td>\n",
       "      <td>Продавец-консультант в adidas</td>\n",
       "      <td>https://hh.ru/vacancy/37101025?query=продавец</td>\n",
       "      <td>2020-07-02</td>\n",
       "      <td>26,000.00</td>\n",
       "      <td>nan</td>\n",
       "      <td>32.05</td>\n",
       "      <td>32.05</td>\n",
       "      <td>Смоленск</td>\n",
       "      <td>adidas, Фирменные магазины</td>\n",
       "      <td>37,101,025.00</td>\n",
       "      <td>RUR</td>\n",
       "      <td>hh.ru</td>\n",
       "    </tr>\n",
       "    <tr>\n",
       "      <td>224</td>\n",
       "      <td>5efd957d6fa9af93f70e091c</td>\n",
       "      <td>Продавец-консультант</td>\n",
       "      <td>https://hh.ru/vacancy/37025818?query=продавец</td>\n",
       "      <td>2020-06-17</td>\n",
       "      <td>90,000.00</td>\n",
       "      <td>200,000.00</td>\n",
       "      <td>nan</td>\n",
       "      <td>nan</td>\n",
       "      <td>Актобе</td>\n",
       "      <td>АО Сәтті Жұлдыз</td>\n",
       "      <td>37,025,818.00</td>\n",
       "      <td>RUR</td>\n",
       "      <td>hh.ru</td>\n",
       "    </tr>\n",
       "    <tr>\n",
       "      <td>225</td>\n",
       "      <td>5efd957d6fa9af93f70e091d</td>\n",
       "      <td>Продавец-кассир (рабочий посёлок Решетниково, проезд ОПМС-1, 14)</td>\n",
       "      <td>https://hh.ru/vacancy/36913727?query=продавец</td>\n",
       "      <td>2020-06-13</td>\n",
       "      <td>23,000.00</td>\n",
       "      <td>28,000.00</td>\n",
       "      <td>36.56</td>\n",
       "      <td>36.56</td>\n",
       "      <td>рабочий посёлок Решетниково</td>\n",
       "      <td>Пятёрочка. Магазины</td>\n",
       "      <td>36,913,727.00</td>\n",
       "      <td>RUR</td>\n",
       "      <td>hh.ru</td>\n",
       "    </tr>\n",
       "    <tr>\n",
       "      <td>226</td>\n",
       "      <td>5efd957d6fa9af93f70e091e</td>\n",
       "      <td>Продавец-консультант ( ДК Синтезспирт, ХБК)</td>\n",
       "      <td>https://hh.ru/vacancy/37562427?query=продавец</td>\n",
       "      <td>2020-06-18</td>\n",
       "      <td>27,000.00</td>\n",
       "      <td>35,000.00</td>\n",
       "      <td>nan</td>\n",
       "      <td>nan</td>\n",
       "      <td>Уфа</td>\n",
       "      <td>Сеть магазинов цифровой и бытовой техники DNS</td>\n",
       "      <td>37,562,427.00</td>\n",
       "      <td>RUR</td>\n",
       "      <td>hh.ru</td>\n",
       "    </tr>\n",
       "    <tr>\n",
       "      <td>227</td>\n",
       "      <td>5efd957d6fa9af93f70e091f</td>\n",
       "      <td>Продавец- консультант спортивной одежды FORWARD</td>\n",
       "      <td>https://hh.ru/vacancy/37501710?query=продавец</td>\n",
       "      <td>2020-06-16</td>\n",
       "      <td>20,000.00</td>\n",
       "      <td>50,000.00</td>\n",
       "      <td>nan</td>\n",
       "      <td>nan</td>\n",
       "      <td>Краснодар, улица Дзержинского, 100</td>\n",
       "      <td>Forward</td>\n",
       "      <td>37,501,710.00</td>\n",
       "      <td>RUR</td>\n",
       "      <td>hh.ru</td>\n",
       "    </tr>\n",
       "    <tr>\n",
       "      <td>228</td>\n",
       "      <td>5efd957d6fa9af93f70e0920</td>\n",
       "      <td>Продавец (вахта в Нововоронеж)</td>\n",
       "      <td>https://hh.ru/vacancy/37582889?query=продавец</td>\n",
       "      <td>2020-06-19</td>\n",
       "      <td>35,000.00</td>\n",
       "      <td>50,000.00</td>\n",
       "      <td>nan</td>\n",
       "      <td>nan</td>\n",
       "      <td>Острогожск</td>\n",
       "      <td>ХМЕЛЬНАЯ МИЛЯ</td>\n",
       "      <td>37,582,889.00</td>\n",
       "      <td>RUR</td>\n",
       "      <td>hh.ru</td>\n",
       "    </tr>\n",
       "    <tr>\n",
       "      <td>229</td>\n",
       "      <td>5efd957d6fa9af93f70e0921</td>\n",
       "      <td>Продавец-кассир (Мурманск, улица Свердлова, 47)</td>\n",
       "      <td>https://hh.ru/vacancy/37127297?query=продавец</td>\n",
       "      <td>2020-06-08</td>\n",
       "      <td>25,000.00</td>\n",
       "      <td>31,000.00</td>\n",
       "      <td>33.11</td>\n",
       "      <td>33.11</td>\n",
       "      <td>Мурманск</td>\n",
       "      <td>Пятёрочка. Магазины</td>\n",
       "      <td>37,127,297.00</td>\n",
       "      <td>RUR</td>\n",
       "      <td>hh.ru</td>\n",
       "    </tr>\n",
       "    <tr>\n",
       "      <td>230</td>\n",
       "      <td>5efd957d6fa9af93f70e0922</td>\n",
       "      <td>Продавец-консультант</td>\n",
       "      <td>https://hh.ru/vacancy/36998885?query=продавец</td>\n",
       "      <td>2020-06-29</td>\n",
       "      <td>20,000.00</td>\n",
       "      <td>35,000.00</td>\n",
       "      <td>nan</td>\n",
       "      <td>nan</td>\n",
       "      <td>Белгород, улица Будённого, 3</td>\n",
       "      <td>ООО Группа Компаний АвтоСеть</td>\n",
       "      <td>36,998,885.00</td>\n",
       "      <td>RUR</td>\n",
       "      <td>hh.ru</td>\n",
       "    </tr>\n",
       "    <tr>\n",
       "      <td>231</td>\n",
       "      <td>5efd957d6fa9af93f70e0923</td>\n",
       "      <td>Продавец-кассир (Серпухов, улица Ворошилова, 133А)</td>\n",
       "      <td>https://hh.ru/vacancy/37250804?query=продавец</td>\n",
       "      <td>2020-06-17</td>\n",
       "      <td>26,000.00</td>\n",
       "      <td>30,000.00</td>\n",
       "      <td>37.44</td>\n",
       "      <td>37.44</td>\n",
       "      <td>Серпухов</td>\n",
       "      <td>Пятёрочка. Магазины</td>\n",
       "      <td>37,250,804.00</td>\n",
       "      <td>RUR</td>\n",
       "      <td>hh.ru</td>\n",
       "    </tr>\n",
       "    <tr>\n",
       "      <td>232</td>\n",
       "      <td>5efd957d6fa9af93f70e0924</td>\n",
       "      <td>Продавец в салон МТС</td>\n",
       "      <td>https://hh.ru/vacancy/37351493?query=продавец</td>\n",
       "      <td>2020-07-01</td>\n",
       "      <td>29,000.00</td>\n",
       "      <td>39,000.00</td>\n",
       "      <td>55.09</td>\n",
       "      <td>55.09</td>\n",
       "      <td>Оренбург</td>\n",
       "      <td>Розничная сеть МТС</td>\n",
       "      <td>37,351,493.00</td>\n",
       "      <td>RUR</td>\n",
       "      <td>hh.ru</td>\n",
       "    </tr>\n",
       "    <tr>\n",
       "      <td>233</td>\n",
       "      <td>5efd957d6fa9af93f70e0925</td>\n",
       "      <td>Продавец-кассир (Тула, улица Максимовского, 15)</td>\n",
       "      <td>https://hh.ru/vacancy/37650426?query=продавец</td>\n",
       "      <td>2020-06-24</td>\n",
       "      <td>23,000.00</td>\n",
       "      <td>26,000.00</td>\n",
       "      <td>nan</td>\n",
       "      <td>nan</td>\n",
       "      <td>Тула, улица Максимовского, 15</td>\n",
       "      <td>Пятёрочка. Магазины</td>\n",
       "      <td>37,650,426.00</td>\n",
       "      <td>RUR</td>\n",
       "      <td>hh.ru</td>\n",
       "    </tr>\n",
       "    <tr>\n",
       "      <td>234</td>\n",
       "      <td>5efd957d6fa9af93f70e0926</td>\n",
       "      <td>Охранник</td>\n",
       "      <td>https://hh.ru/vacancy/37363482?query=продавец</td>\n",
       "      <td>2020-06-05</td>\n",
       "      <td>nan</td>\n",
       "      <td>20,000.00</td>\n",
       "      <td>nan</td>\n",
       "      <td>nan</td>\n",
       "      <td>Заволжье</td>\n",
       "      <td>Master-Staff Group</td>\n",
       "      <td>37,363,482.00</td>\n",
       "      <td>RUR</td>\n",
       "      <td>hh.ru</td>\n",
       "    </tr>\n",
       "    <tr>\n",
       "      <td>235</td>\n",
       "      <td>5efd957d6fa9af93f70e0927</td>\n",
       "      <td>Продавец-кассир (Челябинск, улица 60-летия Октября, 10)</td>\n",
       "      <td>https://hh.ru/vacancy/36467407?query=продавец</td>\n",
       "      <td>2020-06-08</td>\n",
       "      <td>20,500.00</td>\n",
       "      <td>25,000.00</td>\n",
       "      <td>61.40</td>\n",
       "      <td>61.40</td>\n",
       "      <td>г Челябинск</td>\n",
       "      <td>Пятёрочка. Магазины</td>\n",
       "      <td>36,467,407.00</td>\n",
       "      <td>RUR</td>\n",
       "      <td>hh.ru</td>\n",
       "    </tr>\n",
       "    <tr>\n",
       "      <td>236</td>\n",
       "      <td>5efd957d6fa9af93f70e0928</td>\n",
       "      <td>Продавец-консультант</td>\n",
       "      <td>https://hh.ru/vacancy/37451852?query=продавец</td>\n",
       "      <td>2020-06-11</td>\n",
       "      <td>35,000.00</td>\n",
       "      <td>60,000.00</td>\n",
       "      <td>nan</td>\n",
       "      <td>nan</td>\n",
       "      <td>Геленджик, улица Луначарского, 4В</td>\n",
       "      <td>ООО Позитроника-Юг</td>\n",
       "      <td>37,451,852.00</td>\n",
       "      <td>RUR</td>\n",
       "      <td>hh.ru</td>\n",
       "    </tr>\n",
       "    <tr>\n",
       "      <td>237</td>\n",
       "      <td>5efd957d6fa9af93f70e0929</td>\n",
       "      <td>Продавец-консультант автозапчастей для отечественных автомобилей</td>\n",
       "      <td>https://hh.ru/vacancy/37580893?query=продавец</td>\n",
       "      <td>2020-07-01</td>\n",
       "      <td>27,000.00</td>\n",
       "      <td>nan</td>\n",
       "      <td>nan</td>\n",
       "      <td>nan</td>\n",
       "      <td>Нижний Новгород, микрорайон Ипподромный, Херсонская улица, 14</td>\n",
       "      <td>ИП Шеенков С.Б</td>\n",
       "      <td>37,580,893.00</td>\n",
       "      <td>RUR</td>\n",
       "      <td>hh.ru</td>\n",
       "    </tr>\n",
       "    <tr>\n",
       "      <td>238</td>\n",
       "      <td>5efd957d6fa9af93f70e092a</td>\n",
       "      <td>Продавец магазина Магнит (м.:Фрунзенская,Электросила,Парк Победы,Московская,Звездная)</td>\n",
       "      <td>https://hh.ru/vacancy/36472263?query=продавец</td>\n",
       "      <td>2020-06-29</td>\n",
       "      <td>nan</td>\n",
       "      <td>41,500.00</td>\n",
       "      <td>nan</td>\n",
       "      <td>nan</td>\n",
       "      <td>Санкт-Петербург</td>\n",
       "      <td>МАГНИТ, Розничная сеть</td>\n",
       "      <td>36,472,263.00</td>\n",
       "      <td>RUR</td>\n",
       "      <td>hh.ru</td>\n",
       "    </tr>\n",
       "    <tr>\n",
       "      <td>239</td>\n",
       "      <td>5efd957d6fa9af93f70e092b</td>\n",
       "      <td>Продавец-консультант выходного дня Fabi (Outlet Village, Белая Дача)</td>\n",
       "      <td>https://hh.ru/vacancy/37429624?query=продавец</td>\n",
       "      <td>2020-06-26</td>\n",
       "      <td>25,000.00</td>\n",
       "      <td>nan</td>\n",
       "      <td>nan</td>\n",
       "      <td>nan</td>\n",
       "      <td>Котельники, Новорязанское шоссе, 8</td>\n",
       "      <td>NO ONE</td>\n",
       "      <td>37,429,624.00</td>\n",
       "      <td>RUR</td>\n",
       "      <td>hh.ru</td>\n",
       "    </tr>\n",
       "    <tr>\n",
       "      <td>240</td>\n",
       "      <td>5efd957d6fa9af93f70e092c</td>\n",
       "      <td>Продавец-консультант Huawei</td>\n",
       "      <td>https://hh.ru/vacancy/37637015?query=продавец</td>\n",
       "      <td>2020-06-23</td>\n",
       "      <td>40,000.00</td>\n",
       "      <td>nan</td>\n",
       "      <td>nan</td>\n",
       "      <td>nan</td>\n",
       "      <td>Волгодонск, Весенняя улица, 56</td>\n",
       "      <td>Работут</td>\n",
       "      <td>37,637,015.00</td>\n",
       "      <td>RUR</td>\n",
       "      <td>hh.ru</td>\n",
       "    </tr>\n",
       "    <tr>\n",
       "      <td>241</td>\n",
       "      <td>5efd957d6fa9af93f70e092d</td>\n",
       "      <td>Продавец-консультант</td>\n",
       "      <td>https://hh.ru/vacancy/37614903?query=продавец</td>\n",
       "      <td>2020-06-22</td>\n",
       "      <td>30,000.00</td>\n",
       "      <td>nan</td>\n",
       "      <td>nan</td>\n",
       "      <td>nan</td>\n",
       "      <td>Обнинск</td>\n",
       "      <td>Solostyle</td>\n",
       "      <td>37,614,903.00</td>\n",
       "      <td>RUR</td>\n",
       "      <td>hh.ru</td>\n",
       "    </tr>\n",
       "    <tr>\n",
       "      <td>242</td>\n",
       "      <td>5efd957d6fa9af93f70e092e</td>\n",
       "      <td>Продавец-кассир (Мурманск, Кольский проспект, 77)</td>\n",
       "      <td>https://hh.ru/vacancy/37527818?query=продавец</td>\n",
       "      <td>2020-06-17</td>\n",
       "      <td>25,000.00</td>\n",
       "      <td>31,000.00</td>\n",
       "      <td>nan</td>\n",
       "      <td>nan</td>\n",
       "      <td>г Мурманск, False, 77</td>\n",
       "      <td>Пятёрочка. Магазины</td>\n",
       "      <td>37,527,818.00</td>\n",
       "      <td>RUR</td>\n",
       "      <td>hh.ru</td>\n",
       "    </tr>\n",
       "    <tr>\n",
       "      <td>243</td>\n",
       "      <td>5efd957d6fa9af93f70e092f</td>\n",
       "      <td>Продавец-кассир (станица Азовская, улица Ленина, 59)</td>\n",
       "      <td>https://hh.ru/vacancy/37650551?query=продавец</td>\n",
       "      <td>2020-06-24</td>\n",
       "      <td>21,000.00</td>\n",
       "      <td>22,000.00</td>\n",
       "      <td>nan</td>\n",
       "      <td>nan</td>\n",
       "      <td>станица Азовская, улица Ленина, 59</td>\n",
       "      <td>Пятёрочка. Магазины</td>\n",
       "      <td>37,650,551.00</td>\n",
       "      <td>RUR</td>\n",
       "      <td>hh.ru</td>\n",
       "    </tr>\n",
       "    <tr>\n",
       "      <td>244</td>\n",
       "      <td>5efd957d6fa9af93f70e0930</td>\n",
       "      <td>Продавец-кассир (Белово, Юбилейная улица, 62)</td>\n",
       "      <td>https://hh.ru/vacancy/36467146?query=продавец</td>\n",
       "      <td>2020-06-24</td>\n",
       "      <td>20,317.00</td>\n",
       "      <td>26,667.00</td>\n",
       "      <td>86.28</td>\n",
       "      <td>86.28</td>\n",
       "      <td>Белово</td>\n",
       "      <td>Пятёрочка. Магазины</td>\n",
       "      <td>36,467,146.00</td>\n",
       "      <td>RUR</td>\n",
       "      <td>hh.ru</td>\n",
       "    </tr>\n",
       "    <tr>\n",
       "      <td>245</td>\n",
       "      <td>5efd957d6fa9af93f70e0931</td>\n",
       "      <td>Продавец-консультант</td>\n",
       "      <td>https://hh.ru/vacancy/37709085?query=продавец</td>\n",
       "      <td>2020-06-27</td>\n",
       "      <td>45,000.00</td>\n",
       "      <td>80,000.00</td>\n",
       "      <td>nan</td>\n",
       "      <td>nan</td>\n",
       "      <td>Петропавловск-Камчатский</td>\n",
       "      <td>ООО Теплое море</td>\n",
       "      <td>37,709,085.00</td>\n",
       "      <td>RUR</td>\n",
       "      <td>hh.ru</td>\n",
       "    </tr>\n",
       "    <tr>\n",
       "      <td>246</td>\n",
       "      <td>5efd957d6fa9af93f70e0932</td>\n",
       "      <td>Продавец-кассир (Брянск, улица Романа Брянского, 1А)</td>\n",
       "      <td>https://hh.ru/vacancy/37651582?query=продавец</td>\n",
       "      <td>2020-06-24</td>\n",
       "      <td>17,500.00</td>\n",
       "      <td>21,800.00</td>\n",
       "      <td>nan</td>\n",
       "      <td>nan</td>\n",
       "      <td>Брянск, улица Романа Брянского, 1А</td>\n",
       "      <td>Пятёрочка. Магазины</td>\n",
       "      <td>37,651,582.00</td>\n",
       "      <td>RUR</td>\n",
       "      <td>hh.ru</td>\n",
       "    </tr>\n",
       "    <tr>\n",
       "      <td>247</td>\n",
       "      <td>5efd957d6fa9af93f70e0933</td>\n",
       "      <td>Продавец-консультант (г. Елец)</td>\n",
       "      <td>https://hh.ru/vacancy/37449675?query=продавец</td>\n",
       "      <td>2020-06-11</td>\n",
       "      <td>22,780.00</td>\n",
       "      <td>28,665.00</td>\n",
       "      <td>nan</td>\n",
       "      <td>nan</td>\n",
       "      <td>Елец</td>\n",
       "      <td>ПОРЯДОК, Группа компаний</td>\n",
       "      <td>37,449,675.00</td>\n",
       "      <td>RUR</td>\n",
       "      <td>hh.ru</td>\n",
       "    </tr>\n",
       "    <tr>\n",
       "      <td>248</td>\n",
       "      <td>5efd957d6fa9af93f70e0934</td>\n",
       "      <td>Продавец-кассир (ТЦ Апельсин)</td>\n",
       "      <td>https://hh.ru/vacancy/37662096?query=продавец</td>\n",
       "      <td>2020-06-29</td>\n",
       "      <td>25,000.00</td>\n",
       "      <td>nan</td>\n",
       "      <td>82.90</td>\n",
       "      <td>82.90</td>\n",
       "      <td>Новосибирск</td>\n",
       "      <td>THOMAS MUNZ</td>\n",
       "      <td>37,662,096.00</td>\n",
       "      <td>RUR</td>\n",
       "      <td>hh.ru</td>\n",
       "    </tr>\n",
       "    <tr>\n",
       "      <td>249</td>\n",
       "      <td>5efd957d6fa9af93f70e0935</td>\n",
       "      <td>Продавец</td>\n",
       "      <td>https://hh.ru/vacancy/37736761?query=продавец</td>\n",
       "      <td>2020-06-29</td>\n",
       "      <td>15,000.00</td>\n",
       "      <td>50,000.00</td>\n",
       "      <td>nan</td>\n",
       "      <td>nan</td>\n",
       "      <td>Перово, Москва, 2-я Владимирская улица, 38/18</td>\n",
       "      <td>Раки Кусаки</td>\n",
       "      <td>37,736,761.00</td>\n",
       "      <td>RUR</td>\n",
       "      <td>hh.ru</td>\n",
       "    </tr>\n",
       "    <tr>\n",
       "      <td>250</td>\n",
       "      <td>5efd957d6fa9af93f70e0936</td>\n",
       "      <td>Продавец-консультант</td>\n",
       "      <td>https://hh.ru/vacancy/36934703?query=продавец</td>\n",
       "      <td>2020-06-12</td>\n",
       "      <td>nan</td>\n",
       "      <td>180,000.00</td>\n",
       "      <td>nan</td>\n",
       "      <td>nan</td>\n",
       "      <td>Нур-Султан</td>\n",
       "      <td>ТОО Victory Travel</td>\n",
       "      <td>36,934,703.00</td>\n",
       "      <td>KZT</td>\n",
       "      <td>hh.ru</td>\n",
       "    </tr>\n",
       "    <tr>\n",
       "      <td>251</td>\n",
       "      <td>5efd957d6fa9af93f70e0937</td>\n",
       "      <td>Продавец-кассир (ТЦ Центр)</td>\n",
       "      <td>https://hh.ru/vacancy/37071418?query=продавец</td>\n",
       "      <td>2020-06-29</td>\n",
       "      <td>31,000.00</td>\n",
       "      <td>nan</td>\n",
       "      <td>37.52</td>\n",
       "      <td>37.52</td>\n",
       "      <td>Дмитров</td>\n",
       "      <td>ПАО Детский Мир</td>\n",
       "      <td>37,071,418.00</td>\n",
       "      <td>RUR</td>\n",
       "      <td>hh.ru</td>\n",
       "    </tr>\n",
       "    <tr>\n",
       "      <td>252</td>\n",
       "      <td>5efd957d6fa9af93f70e0938</td>\n",
       "      <td>Продавец-консультант</td>\n",
       "      <td>https://hh.ru/vacancy/37586301?query=продавец</td>\n",
       "      <td>2020-06-19</td>\n",
       "      <td>18,000.00</td>\n",
       "      <td>25,000.00</td>\n",
       "      <td>nan</td>\n",
       "      <td>nan</td>\n",
       "      <td>Киров, улица Воровского, 107</td>\n",
       "      <td>УЛИСС</td>\n",
       "      <td>37,586,301.00</td>\n",
       "      <td>RUR</td>\n",
       "      <td>hh.ru</td>\n",
       "    </tr>\n",
       "    <tr>\n",
       "      <td>253</td>\n",
       "      <td>5efd957d6fa9af93f70e0939</td>\n",
       "      <td>Продавец-кассир (Сургут, проспект Мира, 47/2)</td>\n",
       "      <td>https://hh.ru/vacancy/36467999?query=продавец</td>\n",
       "      <td>2020-06-29</td>\n",
       "      <td>25,000.00</td>\n",
       "      <td>34,000.00</td>\n",
       "      <td>73.42</td>\n",
       "      <td>73.42</td>\n",
       "      <td>Сургут</td>\n",
       "      <td>Пятёрочка. Магазины</td>\n",
       "      <td>36,467,999.00</td>\n",
       "      <td>RUR</td>\n",
       "      <td>hh.ru</td>\n",
       "    </tr>\n",
       "    <tr>\n",
       "      <td>254</td>\n",
       "      <td>5efd957d6fa9af93f70e093a</td>\n",
       "      <td>Продавец</td>\n",
       "      <td>https://hh.ru/vacancy/36188109?query=продавец</td>\n",
       "      <td>2020-07-01</td>\n",
       "      <td>22,000.00</td>\n",
       "      <td>27,500.00</td>\n",
       "      <td>20.55</td>\n",
       "      <td>20.55</td>\n",
       "      <td>Калининград</td>\n",
       "      <td>Билайн</td>\n",
       "      <td>36,188,109.00</td>\n",
       "      <td>RUR</td>\n",
       "      <td>hh.ru</td>\n",
       "    </tr>\n",
       "    <tr>\n",
       "      <td>255</td>\n",
       "      <td>5efd957d6fa9af93f70e093b</td>\n",
       "      <td>Продавец-кассир (Димитровград, проспект Автостроителей, 51)</td>\n",
       "      <td>https://hh.ru/vacancy/37596245?query=продавец</td>\n",
       "      <td>2020-06-21</td>\n",
       "      <td>18,000.00</td>\n",
       "      <td>20,000.00</td>\n",
       "      <td>nan</td>\n",
       "      <td>nan</td>\n",
       "      <td>Димитроврад, проспект Автостроителей, 51</td>\n",
       "      <td>Пятёрочка. Магазины</td>\n",
       "      <td>37,596,245.00</td>\n",
       "      <td>RUR</td>\n",
       "      <td>hh.ru</td>\n",
       "    </tr>\n",
       "    <tr>\n",
       "      <td>256</td>\n",
       "      <td>5efd957d6fa9af93f70e093c</td>\n",
       "      <td>Продавец-консультант TV</td>\n",
       "      <td>https://hh.ru/vacancy/37312186?query=продавец</td>\n",
       "      <td>2020-06-02</td>\n",
       "      <td>40,000.00</td>\n",
       "      <td>nan</td>\n",
       "      <td>nan</td>\n",
       "      <td>nan</td>\n",
       "      <td>Кингисепп</td>\n",
       "      <td>Action</td>\n",
       "      <td>37,312,186.00</td>\n",
       "      <td>RUR</td>\n",
       "      <td>hh.ru</td>\n",
       "    </tr>\n",
       "    <tr>\n",
       "      <td>257</td>\n",
       "      <td>5efd957d6fa9af93f70e093d</td>\n",
       "      <td>Продавец спецотдела (гастрономия)</td>\n",
       "      <td>https://hh.ru/vacancy/37674664?query=продавец</td>\n",
       "      <td>2020-06-25</td>\n",
       "      <td>26,000.00</td>\n",
       "      <td>nan</td>\n",
       "      <td>nan</td>\n",
       "      <td>nan</td>\n",
       "      <td>Вологда, Октябрьская улица, 67</td>\n",
       "      <td>Макси, торговая компания</td>\n",
       "      <td>37,674,664.00</td>\n",
       "      <td>RUR</td>\n",
       "      <td>hh.ru</td>\n",
       "    </tr>\n",
       "    <tr>\n",
       "      <td>258</td>\n",
       "      <td>5efd957d6fa9af93f70e093e</td>\n",
       "      <td>Продавец-консультант (Тц Сити Молл Белгородский)</td>\n",
       "      <td>https://hh.ru/vacancy/37350668?query=продавец</td>\n",
       "      <td>2020-06-25</td>\n",
       "      <td>25,000.00</td>\n",
       "      <td>nan</td>\n",
       "      <td>nan</td>\n",
       "      <td>nan</td>\n",
       "      <td>Белгород</td>\n",
       "      <td>Снежная Королева</td>\n",
       "      <td>37,350,668.00</td>\n",
       "      <td>RUR</td>\n",
       "      <td>hh.ru</td>\n",
       "    </tr>\n",
       "    <tr>\n",
       "      <td>259</td>\n",
       "      <td>5efd957d6fa9af93f70e093f</td>\n",
       "      <td>Продавец-универсал</td>\n",
       "      <td>https://hh.ru/vacancy/37332332?query=продавец</td>\n",
       "      <td>2020-06-16</td>\n",
       "      <td>20,200.00</td>\n",
       "      <td>20,200.00</td>\n",
       "      <td>nan</td>\n",
       "      <td>nan</td>\n",
       "      <td>Скопин</td>\n",
       "      <td>МАГНИТ, Розничная сеть</td>\n",
       "      <td>37,332,332.00</td>\n",
       "      <td>RUR</td>\n",
       "      <td>hh.ru</td>\n",
       "    </tr>\n",
       "    <tr>\n",
       "      <td>260</td>\n",
       "      <td>5efd957d6fa9af93f70e0940</td>\n",
       "      <td>Продавец-консультант</td>\n",
       "      <td>https://hh.ru/vacancy/37735684?query=продавец</td>\n",
       "      <td>2020-06-29</td>\n",
       "      <td>600.00</td>\n",
       "      <td>1,000.00</td>\n",
       "      <td>nan</td>\n",
       "      <td>nan</td>\n",
       "      <td>Минск, проспект Победителей, 9</td>\n",
       "      <td>ИП Пацкевич А.О</td>\n",
       "      <td>37,735,684.00</td>\n",
       "      <td>BYR</td>\n",
       "      <td>hh.ru</td>\n",
       "    </tr>\n",
       "    <tr>\n",
       "      <td>261</td>\n",
       "      <td>5efd957d6fa9af93f70e0941</td>\n",
       "      <td>Продавец-пекарь</td>\n",
       "      <td>https://hh.ru/vacancy/37340864?query=продавец</td>\n",
       "      <td>2020-06-04</td>\n",
       "      <td>30,000.00</td>\n",
       "      <td>45,000.00</td>\n",
       "      <td>nan</td>\n",
       "      <td>nan</td>\n",
       "      <td>Красногорск</td>\n",
       "      <td>ООО ЭКСПРЕСС</td>\n",
       "      <td>37,340,864.00</td>\n",
       "      <td>RUR</td>\n",
       "      <td>hh.ru</td>\n",
       "    </tr>\n",
       "    <tr>\n",
       "      <td>262</td>\n",
       "      <td>5efd957d6fa9af93f70e0942</td>\n",
       "      <td>Продавец-товаровед (Первомайская 98)</td>\n",
       "      <td>https://hh.ru/vacancy/37740048?query=продавец</td>\n",
       "      <td>2020-06-29</td>\n",
       "      <td>25,000.00</td>\n",
       "      <td>nan</td>\n",
       "      <td>56.11</td>\n",
       "      <td>56.11</td>\n",
       "      <td>Уфа</td>\n",
       "      <td>585, Золотой</td>\n",
       "      <td>37,740,048.00</td>\n",
       "      <td>RUR</td>\n",
       "      <td>hh.ru</td>\n",
       "    </tr>\n",
       "    <tr>\n",
       "      <td>263</td>\n",
       "      <td>5efd957d6fa9af93f70e0943</td>\n",
       "      <td>Продавец-кассир (Новокузнецк, улица Тореза, 35)</td>\n",
       "      <td>https://hh.ru/vacancy/37731451?query=продавец</td>\n",
       "      <td>2020-06-29</td>\n",
       "      <td>23,150.00</td>\n",
       "      <td>27,500.00</td>\n",
       "      <td>nan</td>\n",
       "      <td>nan</td>\n",
       "      <td>Новокузнецк, улица Тореза, 35</td>\n",
       "      <td>Пятёрочка. Магазины</td>\n",
       "      <td>37,731,451.00</td>\n",
       "      <td>RUR</td>\n",
       "      <td>hh.ru</td>\n",
       "    </tr>\n",
       "    <tr>\n",
       "      <td>264</td>\n",
       "      <td>5efd957d6fa9af93f70e0944</td>\n",
       "      <td>Работник торгового зала (г. Волхов)</td>\n",
       "      <td>https://hh.ru/vacancy/37489577?query=продавец</td>\n",
       "      <td>2020-06-29</td>\n",
       "      <td>19,800.00</td>\n",
       "      <td>26,400.00</td>\n",
       "      <td>nan</td>\n",
       "      <td>nan</td>\n",
       "      <td>Волхов</td>\n",
       "      <td>Работут</td>\n",
       "      <td>37,489,577.00</td>\n",
       "      <td>RUR</td>\n",
       "      <td>hh.ru</td>\n",
       "    </tr>\n",
       "    <tr>\n",
       "      <td>265</td>\n",
       "      <td>5efd957d6fa9af93f70e0945</td>\n",
       "      <td>Продавец-кассир (посёлок городского типа Белоярский, улица Ленина, 262)</td>\n",
       "      <td>https://hh.ru/vacancy/36468410?query=продавец</td>\n",
       "      <td>2020-06-08</td>\n",
       "      <td>18,000.00</td>\n",
       "      <td>23,000.00</td>\n",
       "      <td>61.41</td>\n",
       "      <td>61.41</td>\n",
       "      <td>поселок городского типа Белоярский</td>\n",
       "      <td>Пятёрочка. Магазины</td>\n",
       "      <td>36,468,410.00</td>\n",
       "      <td>RUR</td>\n",
       "      <td>hh.ru</td>\n",
       "    </tr>\n",
       "    <tr>\n",
       "      <td>266</td>\n",
       "      <td>5efd957d6fa9af93f70e0946</td>\n",
       "      <td>Продавец-кассир (Киселёвск, улица Чумова, 42)</td>\n",
       "      <td>https://hh.ru/vacancy/36809898?query=продавец</td>\n",
       "      <td>2020-06-17</td>\n",
       "      <td>18,396.00</td>\n",
       "      <td>24,142.00</td>\n",
       "      <td>86.70</td>\n",
       "      <td>86.70</td>\n",
       "      <td>Киселёвск</td>\n",
       "      <td>Пятёрочка. Магазины</td>\n",
       "      <td>36,809,898.00</td>\n",
       "      <td>RUR</td>\n",
       "      <td>hh.ru</td>\n",
       "    </tr>\n",
       "    <tr>\n",
       "      <td>267</td>\n",
       "      <td>5efd957d6fa9af93f70e0947</td>\n",
       "      <td>Продавец-кассир (Балашиха, Комсомольская улица, 9)</td>\n",
       "      <td>https://hh.ru/vacancy/37651344?query=продавец</td>\n",
       "      <td>2020-06-24</td>\n",
       "      <td>26,000.00</td>\n",
       "      <td>30,000.00</td>\n",
       "      <td>nan</td>\n",
       "      <td>nan</td>\n",
       "      <td>Новокосино, Балашиха, улица Комсомольская, 9</td>\n",
       "      <td>Пятёрочка. Магазины</td>\n",
       "      <td>37,651,344.00</td>\n",
       "      <td>RUR</td>\n",
       "      <td>hh.ru</td>\n",
       "    </tr>\n",
       "    <tr>\n",
       "      <td>268</td>\n",
       "      <td>5efd957d6fa9af93f70e0948</td>\n",
       "      <td>Продавец-кассир в Жилгородок</td>\n",
       "      <td>https://hh.ru/vacancy/37632898?query=продавец</td>\n",
       "      <td>2020-06-23</td>\n",
       "      <td>19,500.00</td>\n",
       "      <td>22,000.00</td>\n",
       "      <td>nan</td>\n",
       "      <td>nan</td>\n",
       "      <td>Балаково, улица Лобачевского, 56</td>\n",
       "      <td>Гулливер, сеть супермаркетов</td>\n",
       "      <td>37,632,898.00</td>\n",
       "      <td>RUR</td>\n",
       "      <td>hh.ru</td>\n",
       "    </tr>\n",
       "    <tr>\n",
       "      <td>269</td>\n",
       "      <td>5efd957d6fa9af93f70e0949</td>\n",
       "      <td>Специалист по замерам/Продавец ПВХ-конструкций</td>\n",
       "      <td>https://hh.ru/vacancy/37546016?query=продавец</td>\n",
       "      <td>2020-06-29</td>\n",
       "      <td>40,000.00</td>\n",
       "      <td>nan</td>\n",
       "      <td>nan</td>\n",
       "      <td>nan</td>\n",
       "      <td>Волгоград, улица Рокоссовского, 54</td>\n",
       "      <td>ООО Окошкино</td>\n",
       "      <td>37,546,016.00</td>\n",
       "      <td>RUR</td>\n",
       "      <td>hh.ru</td>\n",
       "    </tr>\n",
       "    <tr>\n",
       "      <td>270</td>\n",
       "      <td>5efd957d6fa9af93f70e094a</td>\n",
       "      <td>Продавец-кассир (Сочи, улица Гайдара, 20А)</td>\n",
       "      <td>https://hh.ru/vacancy/37650294?query=продавец</td>\n",
       "      <td>2020-06-24</td>\n",
       "      <td>20,000.00</td>\n",
       "      <td>nan</td>\n",
       "      <td>nan</td>\n",
       "      <td>nan</td>\n",
       "      <td>Сочи, улица Гайдара, 20А</td>\n",
       "      <td>Пятёрочка. Магазины</td>\n",
       "      <td>37,650,294.00</td>\n",
       "      <td>RUR</td>\n",
       "      <td>hh.ru</td>\n",
       "    </tr>\n",
       "    <tr>\n",
       "      <td>271</td>\n",
       "      <td>5efd957d6fa9af93f70e094b</td>\n",
       "      <td>Продавец-кассир (ТЦ КС)</td>\n",
       "      <td>https://hh.ru/vacancy/37451402?query=продавец</td>\n",
       "      <td>2020-06-11</td>\n",
       "      <td>25,000.00</td>\n",
       "      <td>nan</td>\n",
       "      <td>61.38</td>\n",
       "      <td>61.38</td>\n",
       "      <td>Челябинск</td>\n",
       "      <td>ZENDEN. Продажи</td>\n",
       "      <td>37,451,402.00</td>\n",
       "      <td>RUR</td>\n",
       "      <td>hh.ru</td>\n",
       "    </tr>\n",
       "    <tr>\n",
       "      <td>272</td>\n",
       "      <td>5efd957d6fa9af93f70e094c</td>\n",
       "      <td>Продавец-консультант</td>\n",
       "      <td>https://hh.ru/vacancy/37428838?query=продавец</td>\n",
       "      <td>2020-06-10</td>\n",
       "      <td>30,000.00</td>\n",
       "      <td>nan</td>\n",
       "      <td>nan</td>\n",
       "      <td>nan</td>\n",
       "      <td>Пятигорск</td>\n",
       "      <td>Ангстрем, Группа компаний</td>\n",
       "      <td>37,428,838.00</td>\n",
       "      <td>RUR</td>\n",
       "      <td>hh.ru</td>\n",
       "    </tr>\n",
       "    <tr>\n",
       "      <td>273</td>\n",
       "      <td>5efd957d6fa9af93f70e094d</td>\n",
       "      <td>Старший продавец-кассир (г. Красногорск ул.Комсомольская)</td>\n",
       "      <td>https://hh.ru/vacancy/37281162?query=продавец</td>\n",
       "      <td>2020-06-25</td>\n",
       "      <td>29,000.00</td>\n",
       "      <td>nan</td>\n",
       "      <td>37.31</td>\n",
       "      <td>37.31</td>\n",
       "      <td>Красногорск</td>\n",
       "      <td>Подружка, сеть магазинов</td>\n",
       "      <td>37,281,162.00</td>\n",
       "      <td>RUR</td>\n",
       "      <td>hh.ru</td>\n",
       "    </tr>\n",
       "    <tr>\n",
       "      <td>274</td>\n",
       "      <td>5efd957d6fa9af93f70e094e</td>\n",
       "      <td>Кассир, г. Пермь</td>\n",
       "      <td>https://hh.ru/vacancy/37101877?query=продавец</td>\n",
       "      <td>2020-06-23</td>\n",
       "      <td>18,900.00</td>\n",
       "      <td>nan</td>\n",
       "      <td>nan</td>\n",
       "      <td>nan</td>\n",
       "      <td>Пермь</td>\n",
       "      <td>Fix Price</td>\n",
       "      <td>37,101,877.00</td>\n",
       "      <td>RUR</td>\n",
       "      <td>hh.ru</td>\n",
       "    </tr>\n",
       "    <tr>\n",
       "      <td>275</td>\n",
       "      <td>5efd957d6fa9af93f70e094f</td>\n",
       "      <td>Продавец-кассир (Дзержинск, площадь Ленина, 1)</td>\n",
       "      <td>https://hh.ru/vacancy/36468842?query=продавец</td>\n",
       "      <td>2020-06-24</td>\n",
       "      <td>18,000.00</td>\n",
       "      <td>24,000.00</td>\n",
       "      <td>43.45</td>\n",
       "      <td>43.45</td>\n",
       "      <td>Дзержинск</td>\n",
       "      <td>Пятёрочка. Магазины</td>\n",
       "      <td>36,468,842.00</td>\n",
       "      <td>RUR</td>\n",
       "      <td>hh.ru</td>\n",
       "    </tr>\n",
       "    <tr>\n",
       "      <td>276</td>\n",
       "      <td>5efd957d6fa9af93f70e0950</td>\n",
       "      <td>Продавец-кассир (Вичуга, Большая Пролетарская улица, 9/1)</td>\n",
       "      <td>https://hh.ru/vacancy/37625786?query=продавец</td>\n",
       "      <td>2020-06-23</td>\n",
       "      <td>17,000.00</td>\n",
       "      <td>28,000.00</td>\n",
       "      <td>nan</td>\n",
       "      <td>nan</td>\n",
       "      <td>Вичуга, Большая Пролетарская улица, 9/1</td>\n",
       "      <td>Пятёрочка. Магазины</td>\n",
       "      <td>37,625,786.00</td>\n",
       "      <td>RUR</td>\n",
       "      <td>hh.ru</td>\n",
       "    </tr>\n",
       "    <tr>\n",
       "      <td>277</td>\n",
       "      <td>5efd957d6fa9af93f70e0951</td>\n",
       "      <td>Продавец-консультант</td>\n",
       "      <td>https://hh.ru/vacancy/37466683?query=продавец</td>\n",
       "      <td>2020-06-30</td>\n",
       "      <td>30,000.00</td>\n",
       "      <td>40,000.00</td>\n",
       "      <td>nan</td>\n",
       "      <td>nan</td>\n",
       "      <td>Севастополь</td>\n",
       "      <td>ИП Юрченко Алексей Владимирович</td>\n",
       "      <td>37,466,683.00</td>\n",
       "      <td>RUR</td>\n",
       "      <td>hh.ru</td>\n",
       "    </tr>\n",
       "    <tr>\n",
       "      <td>278</td>\n",
       "      <td>5efd957d6fa9af93f70e0952</td>\n",
       "      <td>Продавец-консультант в магазин женской одежды</td>\n",
       "      <td>https://hh.ru/vacancy/37565408?query=продавец</td>\n",
       "      <td>2020-06-18</td>\n",
       "      <td>25,000.00</td>\n",
       "      <td>nan</td>\n",
       "      <td>nan</td>\n",
       "      <td>nan</td>\n",
       "      <td>Владимир</td>\n",
       "      <td>Evona</td>\n",
       "      <td>37,565,408.00</td>\n",
       "      <td>RUR</td>\n",
       "      <td>hh.ru</td>\n",
       "    </tr>\n",
       "    <tr>\n",
       "      <td>279</td>\n",
       "      <td>5efd957d6fa9af93f70e0953</td>\n",
       "      <td>Продавец-кассир (село Александров Гай, улица Красного Бойца, 28)</td>\n",
       "      <td>https://hh.ru/vacancy/37717066?query=продавец</td>\n",
       "      <td>2020-06-29</td>\n",
       "      <td>17,000.00</td>\n",
       "      <td>23,000.00</td>\n",
       "      <td>48.58</td>\n",
       "      <td>48.58</td>\n",
       "      <td>село Александров Гай</td>\n",
       "      <td>Пятёрочка. Магазины</td>\n",
       "      <td>37,717,066.00</td>\n",
       "      <td>RUR</td>\n",
       "      <td>hh.ru</td>\n",
       "    </tr>\n",
       "    <tr>\n",
       "      <td>280</td>\n",
       "      <td>5efd957d6fa9af93f70e0954</td>\n",
       "      <td>Продавец-кассир</td>\n",
       "      <td>https://hh.ru/vacancy/37652718?query=продавец</td>\n",
       "      <td>2020-06-30</td>\n",
       "      <td>25,000.00</td>\n",
       "      <td>nan</td>\n",
       "      <td>nan</td>\n",
       "      <td>nan</td>\n",
       "      <td>Абакан</td>\n",
       "      <td>ИП Мальцева Ирина Викторовна</td>\n",
       "      <td>37,652,718.00</td>\n",
       "      <td>RUR</td>\n",
       "      <td>hh.ru</td>\n",
       "    </tr>\n",
       "    <tr>\n",
       "      <td>281</td>\n",
       "      <td>5efd957d6fa9af93f70e0955</td>\n",
       "      <td>Продавец-консультант в отдел женской одежды</td>\n",
       "      <td>https://hh.ru/vacancy/37682017?query=продавец</td>\n",
       "      <td>2020-06-25</td>\n",
       "      <td>25,000.00</td>\n",
       "      <td>nan</td>\n",
       "      <td>nan</td>\n",
       "      <td>nan</td>\n",
       "      <td>Брянск, Объездная улица, 30</td>\n",
       "      <td>KEDMA</td>\n",
       "      <td>37,682,017.00</td>\n",
       "      <td>RUR</td>\n",
       "      <td>hh.ru</td>\n",
       "    </tr>\n",
       "    <tr>\n",
       "      <td>282</td>\n",
       "      <td>5efd957d6fa9af93f70e0956</td>\n",
       "      <td>Продавец-консультант в магазин обуви Rendez-Vous (ТЦ МЕГА )</td>\n",
       "      <td>https://hh.ru/vacancy/37492488?query=продавец</td>\n",
       "      <td>2020-06-29</td>\n",
       "      <td>60,000.00</td>\n",
       "      <td>nan</td>\n",
       "      <td>nan</td>\n",
       "      <td>nan</td>\n",
       "      <td>Кстово</td>\n",
       "      <td>Rendez-vous. Офис</td>\n",
       "      <td>37,492,488.00</td>\n",
       "      <td>RUR</td>\n",
       "      <td>hh.ru</td>\n",
       "    </tr>\n",
       "    <tr>\n",
       "      <td>283</td>\n",
       "      <td>5efd957d6fa9af93f70e0957</td>\n",
       "      <td>Продавец зоотоваров (Твой Дом Крокус)</td>\n",
       "      <td>https://hh.ru/vacancy/37481658?query=продавец</td>\n",
       "      <td>2020-06-15</td>\n",
       "      <td>33,000.00</td>\n",
       "      <td>40,000.00</td>\n",
       "      <td>nan</td>\n",
       "      <td>nan</td>\n",
       "      <td>Красногорск</td>\n",
       "      <td>Бетховен сеть зоомагазинов</td>\n",
       "      <td>37,481,658.00</td>\n",
       "      <td>RUR</td>\n",
       "      <td>hh.ru</td>\n",
       "    </tr>\n",
       "    <tr>\n",
       "      <td>284</td>\n",
       "      <td>5efd957d6fa9af93f70e0958</td>\n",
       "      <td>Старший продавец магазина \"Магнит\" (п.Кедровый)</td>\n",
       "      <td>https://hh.ru/vacancy/37381465?query=продавец</td>\n",
       "      <td>2020-06-08</td>\n",
       "      <td>23,000.00</td>\n",
       "      <td>27,800.00</td>\n",
       "      <td>nan</td>\n",
       "      <td>nan</td>\n",
       "      <td>Красноярск, проспект Мира, 60</td>\n",
       "      <td>МАГНИТ, Розничная сеть</td>\n",
       "      <td>37,381,465.00</td>\n",
       "      <td>RUR</td>\n",
       "      <td>hh.ru</td>\n",
       "    </tr>\n",
       "    <tr>\n",
       "      <td>285</td>\n",
       "      <td>5efd957d6fa9af93f70e0959</td>\n",
       "      <td>Продавец производства (Истра)</td>\n",
       "      <td>https://hh.ru/vacancy/37436379?query=продавец</td>\n",
       "      <td>2020-06-24</td>\n",
       "      <td>30,000.00</td>\n",
       "      <td>34,000.00</td>\n",
       "      <td>36.90</td>\n",
       "      <td>36.90</td>\n",
       "      <td>Истра</td>\n",
       "      <td>Лента, федеральная розничная сеть, Гипермаркет</td>\n",
       "      <td>37,436,379.00</td>\n",
       "      <td>RUR</td>\n",
       "      <td>hh.ru</td>\n",
       "    </tr>\n",
       "    <tr>\n",
       "      <td>286</td>\n",
       "      <td>5efd957d6fa9af93f70e095a</td>\n",
       "      <td>Менеджер по продажам</td>\n",
       "      <td>https://hh.ru/vacancy/36527495?query=продавец</td>\n",
       "      <td>2020-06-29</td>\n",
       "      <td>25,000.00</td>\n",
       "      <td>nan</td>\n",
       "      <td>nan</td>\n",
       "      <td>nan</td>\n",
       "      <td>Усинск</td>\n",
       "      <td>Связной</td>\n",
       "      <td>36,527,495.00</td>\n",
       "      <td>RUR</td>\n",
       "      <td>hh.ru</td>\n",
       "    </tr>\n",
       "    <tr>\n",
       "      <td>287</td>\n",
       "      <td>5efd957d6fa9af93f70e095b</td>\n",
       "      <td>Продавец-кассир (посёлок городского типа Безенчук, Советская улица, 26)</td>\n",
       "      <td>https://hh.ru/vacancy/37338104?query=продавец</td>\n",
       "      <td>2020-06-20</td>\n",
       "      <td>17,000.00</td>\n",
       "      <td>20,000.00</td>\n",
       "      <td>nan</td>\n",
       "      <td>nan</td>\n",
       "      <td>пгт Безенчук, ул Советская, 26</td>\n",
       "      <td>Пятёрочка. Магазины</td>\n",
       "      <td>37,338,104.00</td>\n",
       "      <td>RUR</td>\n",
       "      <td>hh.ru</td>\n",
       "    </tr>\n",
       "    <tr>\n",
       "      <td>288</td>\n",
       "      <td>5efd957d6fa9af93f70e095c</td>\n",
       "      <td>Администратор магазина / Старший продавец</td>\n",
       "      <td>https://hh.ru/vacancy/12692567?query=продавец</td>\n",
       "      <td>2020-06-29</td>\n",
       "      <td>nan</td>\n",
       "      <td>47,000.00</td>\n",
       "      <td>nan</td>\n",
       "      <td>nan</td>\n",
       "      <td>Москва</td>\n",
       "      <td>Федеральная сеть книжных магазинов «Читай-город»</td>\n",
       "      <td>12,692,567.00</td>\n",
       "      <td>RUR</td>\n",
       "      <td>hh.ru</td>\n",
       "    </tr>\n",
       "    <tr>\n",
       "      <td>289</td>\n",
       "      <td>5efd957d6fa9af93f70e095d</td>\n",
       "      <td>Продавец магазина \"Магнит \" (с. Ягодное)</td>\n",
       "      <td>https://hh.ru/vacancy/36884564?query=продавец</td>\n",
       "      <td>2020-06-29</td>\n",
       "      <td>20,400.00</td>\n",
       "      <td>nan</td>\n",
       "      <td>nan</td>\n",
       "      <td>nan</td>\n",
       "      <td>Тольятти</td>\n",
       "      <td>МАГНИТ, Розничная сеть</td>\n",
       "      <td>36,884,564.00</td>\n",
       "      <td>RUR</td>\n",
       "      <td>hh.ru</td>\n",
       "    </tr>\n",
       "    <tr>\n",
       "      <td>290</td>\n",
       "      <td>5efd957d6fa9af93f70e095e</td>\n",
       "      <td>Продавец-кассир</td>\n",
       "      <td>https://hh.ru/vacancy/37305295?query=продавец</td>\n",
       "      <td>2020-06-30</td>\n",
       "      <td>25,000.00</td>\n",
       "      <td>nan</td>\n",
       "      <td>30.15</td>\n",
       "      <td>30.15</td>\n",
       "      <td>Гатчина</td>\n",
       "      <td>ZENDEN. Продажи</td>\n",
       "      <td>37,305,295.00</td>\n",
       "      <td>RUR</td>\n",
       "      <td>hh.ru</td>\n",
       "    </tr>\n",
       "    <tr>\n",
       "      <td>291</td>\n",
       "      <td>5efd957d6fa9af93f70e095f</td>\n",
       "      <td>Продавец-кассир Гипермаркет \"Магнит\"</td>\n",
       "      <td>https://hh.ru/vacancy/37740499?query=продавец</td>\n",
       "      <td>2020-06-29</td>\n",
       "      <td>20,200.00</td>\n",
       "      <td>20,200.00</td>\n",
       "      <td>40.59</td>\n",
       "      <td>40.59</td>\n",
       "      <td>Курганинск</td>\n",
       "      <td>МАГНИТ, Розничная сеть</td>\n",
       "      <td>37,740,499.00</td>\n",
       "      <td>RUR</td>\n",
       "      <td>hh.ru</td>\n",
       "    </tr>\n",
       "    <tr>\n",
       "      <td>292</td>\n",
       "      <td>5efd957d6fa9af93f70e0960</td>\n",
       "      <td>Продавец-кассир (ТЦ Парк плаза)</td>\n",
       "      <td>https://hh.ru/vacancy/37740655?query=продавец</td>\n",
       "      <td>2020-06-29</td>\n",
       "      <td>28,000.00</td>\n",
       "      <td>nan</td>\n",
       "      <td>nan</td>\n",
       "      <td>nan</td>\n",
       "      <td>Электросталь</td>\n",
       "      <td>Компания «СПОРТМАСТЕР», Розничные продажи</td>\n",
       "      <td>37,740,655.00</td>\n",
       "      <td>RUR</td>\n",
       "      <td>hh.ru</td>\n",
       "    </tr>\n",
       "    <tr>\n",
       "      <td>293</td>\n",
       "      <td>5efd957d6fa9af93f70e0961</td>\n",
       "      <td>Продавец-кассир (левый берег)</td>\n",
       "      <td>https://hh.ru/vacancy/37395343?query=продавец</td>\n",
       "      <td>2020-06-30</td>\n",
       "      <td>23,000.00</td>\n",
       "      <td>nan</td>\n",
       "      <td>nan</td>\n",
       "      <td>nan</td>\n",
       "      <td>Красноярск</td>\n",
       "      <td>585, Золотой</td>\n",
       "      <td>37,395,343.00</td>\n",
       "      <td>RUR</td>\n",
       "      <td>hh.ru</td>\n",
       "    </tr>\n",
       "  </tbody>\n",
       "</table>\n",
       "</div>"
      ],
      "text/plain": [
       "                          _id                                                                                   name                                           link publish_date           salary_min           salary_max                  lat                  lon                                                                                                 city                                           employer                   id currency   site\n",
       "0    5efd83e56fa9af93f70e0836                                   Продавец-кассир (Псков, улица Максима Горького, 19А)  https://hh.ru/vacancy/37649115?query=продавец   2020-06-24            18,000.00            23,000.00                  nan                  nan                                                                   Псков, улица Максима Горького, 19А                                Пятёрочка. Магазины        37,649,115.00      RUR  hh.ru\n",
       "1    5efd83e56fa9af93f70e0837                                        Продавец-кассир (Вологда, улица Панкратова, 80)  https://hh.ru/vacancy/36745062?query=продавец   2020-06-10            18,000.00            23,000.00                39.83                39.83                                                                                               Волода                                Пятёрочка. Магазины        36,745,062.00      RUR  hh.ru\n",
       "2    5efd83e56fa9af93f70e0838                                           Продавец-кассир (Москва, Флотская улица, 50)  https://hh.ru/vacancy/36911843?query=продавец   2020-06-29            33,500.00            38,000.00                37.50                37.50                                                                                               Москва                                Пятёрочка. Магазины        36,911,843.00      RUR  hh.ru\n",
       "3    5efd83e56fa9af93f70e0839                                  Продавец-консультант автомобилей с пробегом Автопрайм  https://hh.ru/vacancy/37402498?query=продавец   2020-06-08           100,000.00                  nan                30.36                30.36                                                                                      Санкт-Петербург                             РОЛЬФ, группа компаний        37,402,498.00      RUR  hh.ru\n",
       "4    5efd83e56fa9af93f70e083a                                                      Продавец-консультант (ТРЦ Гудзон)  https://hh.ru/vacancy/37740408?query=продавец   2020-06-29            38,000.00                  nan                  nan                  nan                   Нагорная, Варшавская, Нахимовский проспект, Каширская, Москва, Каширское шоссе, 14                                          Henderson        37,740,408.00      RUR  hh.ru\n",
       "5    5efd83e56fa9af93f70e083b                                         Продавец-кассир (Киров, Московская улица, 203)  https://hh.ru/vacancy/36468819?query=продавец   2020-06-08            17,000.00            22,000.00                49.58                49.58                                                                                                Киров                                Пятёрочка. Магазины        36,468,819.00      RUR  hh.ru\n",
       "6    5efd83e56fa9af93f70e083c                                                                   Продавец-консультант  https://hh.ru/vacancy/37687064?query=продавец   2020-06-30            41,000.00                  nan               131.88               131.88                                                                                          Владивосток                                            Связной        11,445,422.00      RUR  hh.ru\n",
       "7    5efd83e56fa9af93f70e083d                                                                   Продавец-консультант  https://hh.ru/vacancy/37455392?query=продавец   2020-06-11            15,000.00            35,000.00                  nan                  nan                                                                    Омск, улица 10 лет Октября, 219/1                                     ООО ФОРТУНА 55        37,455,392.00      RUR  hh.ru\n",
       "8    5efd83e56fa9af93f70e083e                                                       Продавец-консультант (г. Печоры)  https://hh.ru/vacancy/37222849?query=продавец   2020-06-30            25,000.00                  nan                  nan                  nan                                                                                               Печоры                                            Связной        37,222,849.00      RUR  hh.ru\n",
       "9    5efd83e56fa9af93f70e083f                            Продавец-консультант в магазин одежды (ул.Бориса Богаткова)  https://hh.ru/vacancy/37501829?query=продавец   2020-06-16            27,000.00                  nan                  nan                  nan                                                           Новосибирск, улица Бориса Богаткова, 208/1                                Торговая сеть OHARA        37,501,829.00      RUR  hh.ru\n",
       "10   5efd83e56fa9af93f70e0840                                   Продавец-кассир (Богданович, Кооперативная улица, 7)  https://hh.ru/vacancy/36602151?query=продавец   2020-06-28            18,000.00            23,000.00                62.02                62.02                                                                                           Богданович                                Пятёрочка. Магазины        36,602,151.00      RUR  hh.ru\n",
       "11   5efd83e56fa9af93f70e0841                                                        Старший продавец/ Администратор  https://hh.ru/vacancy/37423105?query=продавец   2020-06-30            40,000.00                  nan                  nan                  nan                                                                                      деревня Колтуши                     ИП Иванова Татьяна Анатольевна        37,423,105.00      RUR  hh.ru\n",
       "12   5efd83e56fa9af93f70e0842                                                         Продавец-кассир (ул. Филатова)  https://hh.ru/vacancy/37724755?query=продавец   2020-07-01            21,000.00            27,000.00                  nan                  nan                                                                                            Краснодар                                          ООО ЮгОпт        37,724,755.00      RUR  hh.ru\n",
       "13   5efd83e56fa9af93f70e0843                                                  Продавец-Управляющий шоу-румом одежды  https://hh.ru/vacancy/37601249?query=продавец   2020-06-22            30,000.00            60,000.00                  nan                  nan                                                                            Тюмень, улица Герцена, 64                       ИП Липихин Андрей Николаевич        37,601,249.00      RUR  hh.ru\n",
       "14   5efd83e56fa9af93f70e0844                                                                   Оператор call-центра  https://hh.ru/vacancy/35169216?query=продавец   2020-06-30            26,000.00                  nan                39.19                39.19                                                                                              Воронеж                                            Связной        35,169,216.00      RUR  hh.ru\n",
       "15   5efd83e56fa9af93f70e0845                                                                   Продавец-консультант  https://hh.ru/vacancy/37491993?query=продавец   2020-06-15            15,000.00            25,000.00                  nan                  nan                                                                 Таганрог, улица Дзержинского, 154-2А                         ИП Kovalenko dance company        37,491,993.00      RUR  hh.ru\n",
       "16   5efd83e56fa9af93f70e0846                                   Старший продавец-кассир (Самара, улица Буянова, 100)  https://hh.ru/vacancy/36627454?query=продавец   2020-06-17            22,000.00            28,000.00                50.12                50.12                                                                                               Самара                                Пятёрочка. Магазины        36,627,454.00      RUR  hh.ru\n",
       "17   5efd83e56fa9af93f70e0847                                                Продавец-кассир (Бирск, улица Мира, 82)  https://hh.ru/vacancy/36706260?query=продавец   2020-06-29            14,000.00            17,000.00                55.55                55.55                                                                                              г Бирск                                Пятёрочка. Магазины        36,706,260.00      RUR  hh.ru\n",
       "18   5efd83e56fa9af93f70e0848                                                                        Продавец-кассир  https://hh.ru/vacancy/37246758?query=продавец   2020-06-17            20,000.00                  nan                  nan                  nan                                                                                         Новошахтинск                                   ООО Ваш персонал        37,246,758.00      RUR  hh.ru\n",
       "19   5efd83e56fa9af93f70e0849                                  Продавец в бутик одежды Trussardi (Аутлет Новая Рига)  https://hh.ru/vacancy/37583639?query=продавец   2020-07-01            50,000.00            85,000.00                  nan                  nan                                                                                     деревня Лапшинка                                 Т.Р.С. Дистрибьюшн        37,583,639.00      RUR  hh.ru\n",
       "20   5efd83e56fa9af93f70e084a                               Продавец-консультант интернет-магазина (входящие звонки)  https://hh.ru/vacancy/37498885?query=продавец   2020-06-29            27,000.00                  nan                50.11                50.11                                                                                               Самара              М.Видео-Эльдорадо. Сервис и Логистика        37,498,885.00      RUR  hh.ru\n",
       "21   5efd83e56fa9af93f70e084b                                                         Мобильный продавец ( Ключевая)  https://hh.ru/vacancy/37436591?query=продавец   2020-06-22            18,000.00            22,000.00                34.44                34.44                                                                                         Петрозаводск                                      Улыбка радуги        37,436,591.00      RUR  hh.ru\n",
       "22   5efd83e56fa9af93f70e084c                                                  Продавец-консультант (г. Севастополь)  https://hh.ru/vacancy/37589002?query=продавец   2020-06-19            30,000.00                  nan                  nan                  nan                                                                                          Севастополь                                           ООО Каби        37,589,002.00      RUR  hh.ru\n",
       "23   5efd83e56fa9af93f70e084d                                                     Продавец-кассир (Нефтеюганск, с12)  https://hh.ru/vacancy/36469098?query=продавец   2020-06-24            30,000.00            36,000.00                72.70                72.70                                                                                          Нефтеюганск                                Пятёрочка. Магазины        36,469,098.00      RUR  hh.ru\n",
       "24   5efd83e56fa9af93f70e084e                         Продавец-кассир (Нижний Новгород, улица Адмирала Васюнина, 2Б)  https://hh.ru/vacancy/37561372?query=продавец   2020-06-18            19,300.00            24,200.00                  nan                  nan                                            Горьковская, Нижний Новгород, улица Адмирала Васюнина, 2Б                                Пятёрочка. Магазины        37,561,372.00      RUR  hh.ru\n",
       "25   5efd83e56fa9af93f70e084f                        Продавец магазина \"Магнит\" (м. Девяткино, м. Гражданский пр-кт)  https://hh.ru/vacancy/37494616?query=продавец   2020-06-15            33,200.00                  nan                  nan                  nan                                                                                      Санкт-Петербург                             МАГНИТ, Розничная сеть        37,494,616.00      RUR  hh.ru\n",
       "26   5efd83e56fa9af93f70e0850                              Продавец-дизайнер в мебельный салон \"Инфинити\" (ТЦ Гранд)  https://hh.ru/vacancy/37668466?query=продавец   2020-06-30            50,000.00           100,000.00                  nan                  nan                                                                  Планерная, Химки, улица Бутаково, 4                                    INFINITI-Мебель        37,668,466.00      RUR  hh.ru\n",
       "27   5efd83e56fa9af93f70e0851                                        Продавец-кассир (Орск, улица Пржевальского, 1А)  https://hh.ru/vacancy/36708651?query=продавец   2020-06-25            16,000.00            20,000.00                58.49                58.49                                                                                                 Орск                                Пятёрочка. Магазины        36,708,651.00      RUR  hh.ru\n",
       "28   5efd83e56fa9af93f70e0852                                                    Продавец магазина \"Магнит Косметик\"  https://hh.ru/vacancy/37625435?query=продавец   2020-06-22                  nan            20,700.00                  nan                  nan                                                                                          Новокубанск                             МАГНИТ, Розничная сеть        37,625,435.00      RUR  hh.ru\n",
       "29   5efd83e56fa9af93f70e0853                                                   Продавец-консультант (м. новокосино)  https://hh.ru/vacancy/37574874?query=продавец   2020-07-01            48,000.00            80,000.00                  nan                  nan                                                                                   Москва, Новокосино                                             Билайн        37,574,874.00      RUR  hh.ru\n",
       "30   5efd83e56fa9af93f70e0854                                                      Продавец-кассир (ТЦ \"Республика\")  https://hh.ru/vacancy/37325355?query=продавец   2020-06-26            25,500.00            25,500.00                  nan                  nan                                                                                      Нижний Новгород                                    ПАО Детский Мир        37,325,355.00      RUR  hh.ru\n",
       "31   5efd83e56fa9af93f70e0855                                                                   Продавец-консультант  https://hh.ru/vacancy/37499248?query=продавец   2020-06-29             9,500.00                  nan                  nan                  nan                                                                                Пермь, улица Мира, 20                                         ООО Оптима        37,499,248.00      RUR  hh.ru\n",
       "32   5efd83e56fa9af93f70e0856       Продавец-кассир на АЗС (м. Академическая, Лесная, Финляндский вокзал, Ладожская)  https://hh.ru/vacancy/30386110?query=продавец   2020-06-29            27,000.00            30,000.00                  nan                  nan                                                                                      Санкт-Петербург                                       Стопэкспресс        30,386,110.00      RUR  hh.ru\n",
       "33   5efd83e56fa9af93f70e0857                                                                        Продавец-кассир  https://hh.ru/vacancy/37409279?query=продавец   2020-06-09            25,000.00                  nan                  nan                  nan                                                                                            Череповец          Компания «СПОРТМАСТЕР», Розничные продажи        37,409,279.00      RUR  hh.ru\n",
       "34   5efd83e56fa9af93f70e0858                                                 Продавец-консультант ювелирных изделий  https://hh.ru/vacancy/37585521?query=продавец   2020-06-25            25,000.00                  nan                  nan                  nan                                                                                             Бугульма                                        Наше Золото        37,585,521.00      RUR  hh.ru\n",
       "35   5efd83e56fa9af93f70e0859                                       Продавец-кассир (Дзержинск, Советская улица, 13)  https://hh.ru/vacancy/36466702?query=продавец   2020-06-08            18,000.00            24,000.00                43.46                43.46                                                                                          г Дзержинск                                Пятёрочка. Магазины        36,466,702.00      RUR  hh.ru\n",
       "36   5efd83e56fa9af93f70e085a                                      Старший продавец магазина \"Магнит Косметик\" (ЗЖМ)  https://hh.ru/vacancy/37640042?query=продавец   2020-06-23            27,300.00            29,800.00                  nan                  nan                                                                                       Ростов-на-Дону                             МАГНИТ, Розничная сеть        37,640,042.00      RUR  hh.ru\n",
       "37   5efd83e56fa9af93f70e085b                               Продавец-консультант (Куйбышевский р-н, свет, электрика)  https://hh.ru/vacancy/37486090?query=продавец   2020-06-17            23,000.00            25,000.00                  nan                  nan                                                                  Новокузнецк, улица Орджоникидзе, 19              ООО Управляющая компания Техносистема        37,486,090.00      RUR  hh.ru\n",
       "38   5efd83e56fa9af93f70e085c                           Продавец-консультант/Оптик-консультант в сеть салонов оптики  https://hh.ru/vacancy/37406900?query=продавец   2020-06-30            50,000.00                  nan                  nan                  nan                                                                                          Красногорск                      Оптимист-Оптика, Сеть салонов        37,406,900.00      RUR  hh.ru\n",
       "39   5efd83e56fa9af93f70e085d                                        Продавец наручных часов (Магазин ТЦ\"Галактика\")  https://hh.ru/vacancy/37636938?query=продавец   2020-06-23            20,000.00            30,000.00                  nan                  nan                                                                    Краснодар, Уральская улица, 98/11                                  ИП Передерий А.А.        37,636,938.00      RUR  hh.ru\n",
       "40   5efd83e56fa9af93f70e085e                                                                        Продавец-кассир  https://hh.ru/vacancy/37562434?query=продавец   2020-06-18            21,000.00                  nan                  nan                  nan                                                                                                 Тула                                    ДИКСИ. Магазины        37,562,434.00      RUR  hh.ru\n",
       "41   5efd83e56fa9af93f70e085f                                                                   Продавец-консультант  https://hh.ru/vacancy/37616815?query=продавец   2020-06-22               800.00                  nan                  nan                  nan                                                                                                Минск                                         УП МИЛОНДА        37,616,815.00      BYR  hh.ru\n",
       "42   5efd83e56fa9af93f70e0860                                        Продавец-кассир (Вельск, Октябрьская улица, 96)  https://hh.ru/vacancy/36469237?query=продавец   2020-06-08            20,000.00            24,000.00                42.10                42.10                                                                                               Вельск                                Пятёрочка. Магазины        36,469,237.00      RUR  hh.ru\n",
       "43   5efd83e56fa9af93f70e0861                                      Продавец-кассир (Усмань, Комсомольская улица, 27)  https://hh.ru/vacancy/36467192?query=продавец   2020-06-24            21,000.00            23,000.00                39.74                39.74                                                                                               Усмань                                Пятёрочка. Магазины        36,467,192.00      RUR  hh.ru\n",
       "44   5efd83e56fa9af93f70e0862                                                  Продавец-консультант г. Нижневартовск  https://hh.ru/vacancy/36910962?query=продавец   2020-06-17            29,000.00            32,500.00                  nan                  nan                                                                                        Нижневартовск                                             Билайн        36,910,962.00      RUR  hh.ru\n",
       "45   5efd83e56fa9af93f70e0863                            Продавец-консультант мебели для кухонь (ТЦ Красная Площадь)  https://hh.ru/vacancy/37673975?query=продавец   2020-06-30            33,000.00            40,000.00                38.98                38.98                                                                                            Краснодар                                               Hoff        37,673,975.00      RUR  hh.ru\n",
       "46   5efd83e56fa9af93f70e0864                                                                        Продавец-кассир  https://hh.ru/vacancy/37533378?query=продавец   2020-06-17                  nan            26,000.00                  nan                  nan                                                                                               Казань                                    ПАО Детский Мир        37,533,378.00      RUR  hh.ru\n",
       "47   5efd83e56fa9af93f70e0865                                      Продавец-консультант автозапчасти для автомобилей  https://hh.ru/vacancy/37573317?query=продавец   2020-06-19            23,000.00            42,000.00                  nan                  nan                                                                                             Кемерово                               ООО ППСибтрансресуср        37,573,317.00      RUR  hh.ru\n",
       "48   5efd83e56fa9af93f70e0866                                                                   Продавец-консультант  https://hh.ru/vacancy/37703286?query=продавец   2020-06-26            40,000.00                  nan                  nan                  nan                                                                                   Самара, Алабинская                                          ООО Успех        37,703,286.00      RUR  hh.ru\n",
       "49   5efd8a526fa9af93f70e0868                                       Продавец-кассир (село Языково, улица Пушкина, 4)  https://hh.ru/vacancy/36706088?query=продавец   2020-06-25            15,000.00            18,000.00                55.02                55.02                                                                                         село Языково                                Пятёрочка. Магазины        36,706,088.00      RUR  hh.ru\n",
       "50   5efd8a526fa9af93f70e0869                                                       Продавец-консультант в салон МТС  https://hh.ru/vacancy/37575065?query=продавец   2020-06-19            25,000.00                  nan                  nan                  nan                                                                                            Черемхово                                 Розничная сеть МТС        37,575,065.00      RUR  hh.ru\n",
       "51   5efd8a526fa9af93f70e086a                                              Продавец-универсал в Гипермаркет \"Магнит\"  https://hh.ru/vacancy/37576466?query=продавец   2020-06-19            21,200.00                  nan                  nan                  nan                                                                                       Новочебоксарск                             МАГНИТ, Розничная сеть        37,576,466.00      RUR  hh.ru\n",
       "52   5efd8a526fa9af93f70e086b                                                         Продавец в павильон, г.Витебск  https://hh.ru/vacancy/37341192?query=продавец   2020-06-04               500.00                  nan                  nan                  nan                                                                                              Витебск                         Серволюкс, Группа компаний        37,341,192.00      BYR  hh.ru\n",
       "53   5efd8a526fa9af93f70e086c                                                                        Продавец-кассир  https://hh.ru/vacancy/37533230?query=продавец   2020-06-30            24,000.00            26,000.00                  nan                  nan                                                                                                  Уфа                                      Улыбка радуги        37,533,230.00      RUR  hh.ru\n",
       "54   5efd8a526fa9af93f70e086d                              Продавец-кассир (Нижний Новгород, улица Краснодонцев, 17)  https://hh.ru/vacancy/36467612?query=продавец   2020-06-24            19,300.00            24,200.00                43.85                43.85                                                                                       Нижний Новород                                Пятёрочка. Магазины        36,467,612.00      RUR  hh.ru\n",
       "55   5efd8a526fa9af93f70e086e                                                                Работник торгового зала  https://hh.ru/vacancy/36935315?query=продавец   2020-06-09                  nan            23,000.00                  nan                  nan                                                                                              Иркутск                                            Работут        36,935,315.00      RUR  hh.ru\n",
       "56   5efd8a526fa9af93f70e086f                                                        Продавец сантехнических товаров  https://hh.ru/vacancy/37145758?query=продавец   2020-06-24            20,000.00                  nan                  nan                  nan                                                                                  Брянск, Фокина, 119                                            Акватек        37,145,758.00      RUR  hh.ru\n",
       "57   5efd8a526fa9af93f70e0870                           Продавец кондитерских изделий (15 мин. от ст м \"Московская\")  https://hh.ru/vacancy/37371798?query=продавец   2020-06-05               800.00             1,200.00                  nan                  nan                                                                                                Минск                                    ИП Обухова М.Г.        37,371,798.00      BYR  hh.ru\n",
       "58   5efd8a526fa9af93f70e0871                                                            Продавец-консультант (Мега)  https://hh.ru/vacancy/37666379?query=продавец   2020-06-25            25,000.00                  nan                  nan                  nan                                                                     Федяково (Нижегородская область)                                   Снежная Королева        37,666,379.00      RUR  hh.ru\n",
       "59   5efd8a526fa9af93f70e0872                                          Продавец-кассир (Рязань, улица Тимуровцев, 5)  https://hh.ru/vacancy/37656765?query=продавец   2020-06-24            21,000.00            26,000.00                  nan                  nan                                                           Рязанская область, улица Тимуровцев, 5                                    Пятёрочка. Магазины        37,656,765.00      RUR  hh.ru\n",
       "60   5efd8a526fa9af93f70e0873                                                                   Продавец-консультант  https://hh.ru/vacancy/37597044?query=продавец   2020-06-21            90,000.00           165,000.00                  nan                  nan                                                                                     Усть-Каменогорск                                  ИП Лесовская Д.В.        37,597,044.00      KZT  hh.ru\n",
       "61   5efd8a526fa9af93f70e0874                                                                   Продавец-консультант  https://hh.ru/vacancy/37360730?query=продавец   2020-06-29            20,000.00            25,000.00                  nan                  nan                                                                                            Кондопога                    ИП Берляков Никита Владимирович        37,360,730.00      RUR  hh.ru\n",
       "62   5efd8a526fa9af93f70e0875                                                                   Продавец-консультант  https://hh.ru/vacancy/37558963?query=продавец   2020-06-30            80,000.00            90,000.00                  nan                  nan                                                       Теплый Стан, Москва, МКАД, 41-й километр, 4с13                                 ООО Большой мастер        37,558,963.00      RUR  hh.ru\n",
       "63   5efd8a526fa9af93f70e0876                                                          Продавец-кассир (магазин-бар)  https://hh.ru/vacancy/37584672?query=продавец   2020-06-19            20,000.00            20,000.00                  nan                  nan                                                                                          Архангельск                                         ООО Долина        37,584,672.00      RUR  hh.ru\n",
       "64   5efd8a526fa9af93f70e0877                                     Продавец-консультант тканей для одежды (Ленина 28)  https://hh.ru/vacancy/37336164?query=продавец   2020-06-04            20,000.00            40,000.00                  nan                  nan                                                                        Кемерово, проспект Ленина, 28                                         ООО МирТек        37,336,164.00      RUR  hh.ru\n",
       "65   5efd8a526fa9af93f70e0878                                  Продавец магазина Магнит (г. Иваново, ул. 23-я Линия)  https://hh.ru/vacancy/37318700?query=продавец   2020-06-03            25,000.00            31,300.00                  nan                  nan                                                                         Иваново (Ивановская область)                             МАГНИТ, Розничная сеть        37,318,700.00      RUR  hh.ru\n",
       "66   5efd8a526fa9af93f70e0879                                                           Продавец-кассир (Шишкин Лес)  https://hh.ru/vacancy/36113748?query=продавец   2020-06-26            30,800.00            38,500.00                  nan                  nan                                                                                           Шишкин Лес                             МАГНИТ, Розничная сеть        36,113,748.00      RUR  hh.ru\n",
       "67   5efd8a526fa9af93f70e087a                                                                        Продавец-кассир  https://hh.ru/vacancy/37531486?query=продавец   2020-06-30            35,000.00            35,000.00                37.68                37.68                                                                                               Москва                                        Home market        37,531,486.00      RUR  hh.ru\n",
       "68   5efd8a526fa9af93f70e087b                                          Продавец-кассир в ТЦ \"Континент Бухарестская\"  https://hh.ru/vacancy/37505226?query=продавец   2020-06-16                 0.00            33,000.00                30.37                30.37                                                                                      Санкт-Петербург                                    ПАО Детский Мир        37,505,226.00      RUR  hh.ru\n",
       "69   5efd8a526fa9af93f70e087c                                                                   Продавец-консультант  https://hh.ru/vacancy/37629113?query=продавец   2020-06-23            20,000.00            35,000.00                  nan                  nan                                                                         Орёл, улица Металлургов, 17Б                                        Весёлый кот        37,629,113.00      RUR  hh.ru\n",
       "70   5efd8a526fa9af93f70e087d                                             Продавец-кассир выходного дня (Котельники)  https://hh.ru/vacancy/37724555?query=продавец   2020-06-29            20,000.00                  nan                37.84                37.84                                                                                           Котельники                                        THOMAS MUNZ        37,724,555.00      RUR  hh.ru\n",
       "71   5efd8a526fa9af93f70e087e                                  Продавец-кассир (Санкт-Петербург, улица Костюшко, 68)  https://hh.ru/vacancy/36927060?query=продавец   2020-06-30            27,000.00            33,000.00                30.31                30.31                                                                                       Санкт-Петербур                                Пятёрочка. Магазины        36,927,060.00      RUR  hh.ru\n",
       "72   5efd8a526fa9af93f70e087f                                                 Продавец - консультант в салон Мегафон  https://hh.ru/vacancy/37411832?query=продавец   2020-06-23            25,000.00            30,000.00                  nan                  nan                                                                                             Киевский                                          Эра Людей        37,411,832.00      RUR  hh.ru\n",
       "73   5efd8a526fa9af93f70e0880                                  Продавец-кассир (Новоалександровск, улица Победы, 19)  https://hh.ru/vacancy/37651978?query=продавец   2020-06-24            15,000.00            23,000.00                  nan                  nan                                                              Новоалександровск, улица Победы, 19                                    Пятёрочка. Магазины        37,651,978.00      RUR  hh.ru\n",
       "74   5efd8a526fa9af93f70e0881                                                        Продавец магазина Магнит у дома  https://hh.ru/vacancy/36448912?query=продавец   2020-06-25            24,000.00            29,000.00                  nan                  nan                                                                     Строитель (Белгородская область)                             МАГНИТ, Розничная сеть        36,448,912.00      RUR  hh.ru\n",
       "75   5efd8a526fa9af93f70e0882                                                 Продавец-консультант ювелирных изделий  https://hh.ru/vacancy/37504605?query=продавец   2020-06-16            60,000.00                  nan                  nan                  nan                                                                         Алматы, улица Кабдолова, 1/3                                         ТОО Aisafi        37,504,605.00      KZT  hh.ru\n",
       "76   5efd8a526fa9af93f70e0883                                                                  Продавец-кассир Kimex  https://hh.ru/vacancy/37654697?query=продавец   2020-06-24           100,000.00                  nan                  nan                  nan                                                                          Алматы, улица Жарокова, 366                                          ТОО Немос        37,654,697.00      KZT  hh.ru\n",
       "77   5efd8a526fa9af93f70e0884                                             Продавец на фирменную стойку (м. Солнцево)  https://hh.ru/vacancy/36955568?query=продавец   2020-06-30            40,000.00                  nan                37.39                37.39                                                                                               Москва                                 Розничная сеть МТС        36,955,568.00      RUR  hh.ru\n",
       "78   5efd8a526fa9af93f70e0885                                            Продавец-кассир (Белёв, Рабочая улица, 98А)  https://hh.ru/vacancy/37651959?query=продавец   2020-06-24            22,000.00            24,000.00                  nan                  nan                                                                            Белёв, Рабочая улица, 98А                                Пятёрочка. Магазины        37,651,959.00      RUR  hh.ru\n",
       "79   5efd8a526fa9af93f70e0886                                                                        Продавец-кассир  https://hh.ru/vacancy/37582072?query=продавец   2020-06-19            14,000.00            20,500.00                  nan                  nan                                                                                             Бугульма                                      Улыбка радуги        37,582,072.00      RUR  hh.ru\n",
       "80   5efd8a526fa9af93f70e0887                                            Продавец-кассир (Дубна, Тверская улица, 4А)  https://hh.ru/vacancy/36912915?query=продавец   2020-06-22            24,000.00            30,000.00                37.14                37.14                                                                                                Дубна                                Пятёрочка. Магазины        36,912,915.00      RUR  hh.ru\n",
       "81   5efd8a526fa9af93f70e0888                                                                Специалист офиса продаж  https://hh.ru/vacancy/35456902?query=продавец   2020-06-26            38,000.00                  nan                38.19                38.19                                                                                               Кашира                                            Связной        35,456,902.00      RUR  hh.ru\n",
       "82   5efd8a526fa9af93f70e0889                                                                   Продавец-консультант  https://hh.ru/vacancy/37599942?query=продавец   2020-06-22           150,000.00           250,000.00                  nan                  nan                                                                                           Нур-Султан                  ТОО МЕЧТА, ТМ (Мечта Маркет, ТОО)        37,599,942.00      KZT  hh.ru\n",
       "83   5efd8a526fa9af93f70e088a                                                                   Продавец-консультант  https://hh.ru/vacancy/37016469?query=продавец   2020-06-29            22,000.00            27,500.00                  nan                  nan                                                                                             Тобольск                                             Билайн        37,016,469.00      RUR  hh.ru\n",
       "84   5efd8a526fa9af93f70e088b                                           Продавец-кассир частичная занятость ТЦ Город  https://hh.ru/vacancy/37731364?query=продавец   2020-06-29            17,150.00            19,000.00                37.49                37.49                                                                                         Долгопрудный                                             FUNDAY        37,731,364.00      RUR  hh.ru\n",
       "85   5efd8a526fa9af93f70e088c                                         Продавец-кассир (Навашино, Почтовая улица, 20)  https://hh.ru/vacancy/36466109?query=продавец   2020-06-24            16,538.00            20,672.00                42.20                42.20                                                                                           г Навашино                                Пятёрочка. Магазины        36,466,109.00      RUR  hh.ru\n",
       "86   5efd8a526fa9af93f70e088d                                                Продавец-кассир в магазин \"Куриный дом\"  https://hh.ru/vacancy/36761792?query=продавец   2020-06-09            30,000.00                  nan                  nan                  nan                                                                                            Раменское                                        Куриный дом        36,761,792.00      RUR  hh.ru\n",
       "87   5efd8a526fa9af93f70e088e                                     Продавец-кассир (Муром, Радиозаводское шоссе, 38А)  https://hh.ru/vacancy/37149276?query=продавец   2020-06-10            18,950.00            23,700.00                42.05                42.05                                                                                                Муром                                Пятёрочка. Магазины        37,149,276.00      RUR  hh.ru\n",
       "88   5efd8a526fa9af93f70e088f                                                       Продавец-консультант (м. Митино)  https://hh.ru/vacancy/37343625?query=продавец   2020-06-26            35,000.00                  nan                37.36                37.36                                                                                               Москва          Компания «СПОРТМАСТЕР», Розничные продажи        37,343,625.00      RUR  hh.ru\n",
       "89   5efd8a526fa9af93f70e0890                                                    Продавец в салон МТС (Петрозаводск)  https://hh.ru/vacancy/37634150?query=продавец   2020-07-01            29,500.00            40,000.00                34.37                34.37                                                                                         Петрозаводск                                 Розничная сеть МТС        37,634,150.00      RUR  hh.ru\n",
       "90   5efd8a526fa9af93f70e0891                                          Продавец-кассир (Лангепас, улица Ленина, 86А)  https://hh.ru/vacancy/37314882?query=продавец   2020-06-18            30,000.00            36,000.00                75.19                75.19                                                                                             Лангепас                                Пятёрочка. Магазины        37,314,882.00      RUR  hh.ru\n",
       "91   5efd8a526fa9af93f70e0892                                                 Продавец-консультант ювелирных изделий  https://hh.ru/vacancy/36854325?query=продавец   2020-06-08            20,000.00                  nan                  nan                  nan                                                                Ростов-на-Дону, улица Закруткина, 2/2                                  ООО Ломбард ГУДДА        36,854,325.00      RUR  hh.ru\n",
       "92   5efd8a526fa9af93f70e0893                                     Продавец-кассир (Кирово-Чепецк, улица Ленина, 6к2)  https://hh.ru/vacancy/36868314?query=продавец   2020-06-08            15,000.00            20,000.00                50.02                50.02                                                                                        Кирово-Чепецк                                Пятёрочка. Магазины        36,868,314.00      RUR  hh.ru\n",
       "93   5efd8a526fa9af93f70e0894                                                                Работник торгового зала  https://hh.ru/vacancy/37150325?query=продавец   2020-06-26            25,000.00                  nan                  nan                  nan                                                                         Кировск (Мурманская область)                                            Работут        37,150,325.00      RUR  hh.ru\n",
       "94   5efd8a526fa9af93f70e0895                                                                   Продавец-консультант  https://hh.ru/vacancy/37689664?query=продавец   2020-06-26            20,250.00            35,000.00                  nan                  nan                                                                                              Павлово      Сеть магазинов цифровой и бытовой техники DNS        37,689,664.00      RUR  hh.ru\n",
       "95   5efd8a526fa9af93f70e0896                                          Продавец в магазин кальянов в Южно-Сахалинске  https://hh.ru/vacancy/37335980?query=продавец   2020-06-04            40,000.00            50,000.00                  nan                  nan                                                                                       Южно-Сахалинск                                        ООО Алибаба        37,335,980.00      RUR  hh.ru\n",
       "96   5efd8a526fa9af93f70e0897                                                          Продавец-кассир ТЦ \"Акварель\"  https://hh.ru/vacancy/37522566?query=продавец   2020-06-16            20,000.00                  nan                  nan                  nan                                                                             Тольятти, Южное шоссе, 6                                           ООО MODI        37,522,566.00      RUR  hh.ru\n",
       "97   5efd957d6fa9af93f70e089d                                                       Продавец-консультант (м.Беговая)  https://hh.ru/vacancy/37222956?query=продавец   2020-07-02            45,000.00            80,000.00                  nan                  nan                                                                    Беговая, Москва, Беговая улица, 2                                      ЗАО ЧИП и ДИП        37,222,956.00      RUR  hh.ru\n",
       "98   5efd957d6fa9af93f70e089e                                                        Продавец-консультант (м.Выхино)  https://hh.ru/vacancy/37608536?query=продавец   2020-07-01            48,000.00            60,000.00                  nan                  nan                                                                                               Москва                                             Билайн        37,608,536.00      RUR  hh.ru\n",
       "99   5efd957d6fa9af93f70e089f                                      Продавец-кассир (Мурманск, Кольский проспект, 80)  https://hh.ru/vacancy/36926808?query=продавец   2020-06-14            25,000.00            31,000.00                33.11                33.11                                                                                             Мурманск                                Пятёрочка. Магазины        36,926,808.00      RUR  hh.ru\n",
       "100  5efd957d6fa9af93f70e08a0                                   Продавец-кассир (Нижний Новгород, улица Кащенко, 25)  https://hh.ru/vacancy/36467797?query=продавец   2020-06-24            19,300.00            24,200.00                43.98                43.98                                                                                       Нижний Новород                                Пятёрочка. Магазины        36,467,797.00      RUR  hh.ru\n",
       "101  5efd957d6fa9af93f70e08a1                                             Продавец-кассир (Руза, улица Солнцева, 20)  https://hh.ru/vacancy/36913197?query=продавец   2020-06-13            30,000.00            35,000.00                36.19                36.19                                                                                                 Руза                                Пятёрочка. Магазины        36,913,197.00      RUR  hh.ru\n",
       "102  5efd957d6fa9af93f70e08a2                                                     Продавец-консультант в офис продаж  https://hh.ru/vacancy/37407812?query=продавец   2020-07-01            38,000.00                  nan                  nan                  nan                                                                                                 Руза                                  АО МегаФон Ритейл        37,407,812.00      RUR  hh.ru\n",
       "103  5efd957d6fa9af93f70e08a3                                           Продавец-кассир (Уфа, Вологодская улица, 64)  https://hh.ru/vacancy/37731447?query=продавец   2020-06-29            20,000.00            25,000.00                  nan                  nan                                                                           Уфа, Вологодская улица, 64                                Пятёрочка. Магазины        37,731,447.00      RUR  hh.ru\n",
       "104  5efd957d6fa9af93f70e08a4                                         Продавец-консультант мягкой мебели (тц \"Град\")  https://hh.ru/vacancy/37001722?query=продавец   2020-06-21                30.00            60,000.00                  nan                  nan                                                                                              Воронеж                        Кадровое агентство «Феникс»        37,001,722.00      RUR  hh.ru\n",
       "105  5efd957d6fa9af93f70e08a5                                        Продавец-кассир (село Еткуль, улица Ленина, 44)  https://hh.ru/vacancy/36467303?query=продавец   2020-06-24            16,000.00            19,000.00                61.59                61.59                                                                          Еткульский р-н, село Еткуль                                Пятёрочка. Магазины        36,467,303.00      RUR  hh.ru\n",
       "106  5efd957d6fa9af93f70e08a6                                                                   Продавец-консультант  https://hh.ru/vacancy/37662934?query=продавец   2020-07-02            15,000.00                  nan                  nan                  nan                                                    Хабаровск, микрорайон Южный, улица Ворошилова, 33                                       ООО Кристалл        37,662,934.00      RUR  hh.ru\n",
       "107  5efd957d6fa9af93f70e08a7                                                                   Продавец-консультант  https://hh.ru/vacancy/37437250?query=продавец   2020-06-15            20,250.00                  nan                  nan                  nan                                                                    Лиски, Коммунистическая улица, 21      Сеть магазинов цифровой и бытовой техники DNS        37,437,250.00      RUR  hh.ru\n",
       "108  5efd957d6fa9af93f70e08a8                              Продавец-консультант в мебельный салон (ст. м. Девяткино)  https://hh.ru/vacancy/37167239?query=продавец   2020-06-26            30,000.00            80,000.00                  nan                  nan                                                                                               Мурино                           ООО Торговый дом Лазурит        37,167,239.00      RUR  hh.ru\n",
       "109  5efd957d6fa9af93f70e08a9                                                                        Продавец-кассир  https://hh.ru/vacancy/37722524?query=продавец   2020-06-29            14,000.00            20,000.00                  nan                  nan                                                                                        Кирово-Чепецк                         ИП Трухина Ольга Сергеевна        37,722,524.00      RUR  hh.ru\n",
       "110  5efd957d6fa9af93f70e08aa                                                        Продавец-консультант (Заречный)  https://hh.ru/vacancy/37693208?query=продавец   2020-07-02            28,000.00                  nan                45.17                45.17                                                                                             Заречный                                 Розничная сеть МТС        37,693,208.00      RUR  hh.ru\n",
       "111  5efd957d6fa9af93f70e08ab                                                               Продавец магазина Магнит  https://hh.ru/vacancy/37184919?query=продавец   2020-06-30            18,400.00                  nan                  nan                  nan                                                                                               Мокшан                             МАГНИТ, Розничная сеть        37,184,919.00      RUR  hh.ru\n",
       "112  5efd957d6fa9af93f70e08ac                            Продавец-кассир (Ликино-Дулёво, Коммунистическая улица, 11)  https://hh.ru/vacancy/37125777?query=продавец   2020-06-16            25,000.00            28,000.00                38.96                38.96                                                                                        Ликино-Дулёво                                Пятёрочка. Магазины        37,125,777.00      RUR  hh.ru\n",
       "113  5efd957d6fa9af93f70e08ad                                                                               Продавец  https://hh.ru/vacancy/37541186?query=продавец   2020-06-29            12,000.00            12,000.00                  nan                  nan                                                                                            Жигулевск                                           ООО Рони        37,541,186.00      RUR  hh.ru\n",
       "114  5efd957d6fa9af93f70e08ae                                                             Продавец-кассир в ТЦ Семья  https://hh.ru/vacancy/37510570?query=продавец   2020-06-23            20,000.00                  nan                  nan                  nan                                                                            Уфа, проспект Октября, 34                                    Lady Collection        37,510,570.00      RUR  hh.ru\n",
       "115  5efd957d6fa9af93f70e08af                                   Продавец-кассир (село Лопатино, Советская улица, 15)  https://hh.ru/vacancy/36743303?query=продавец   2020-06-26            17,000.00            20,000.00                50.22                50.22                                                                                        село Лопатино                                Пятёрочка. Магазины        36,743,303.00      RUR  hh.ru\n",
       "116  5efd957d6fa9af93f70e08b0                          Продавец-консультант магазина \"Intimissimi\" в ТЦ \"Мега Химки\"  https://hh.ru/vacancy/37679502?query=продавец   2020-06-25            20,800.00            45,000.00                  nan                  nan                                                                        Химки, Ленинградская улица, 1                                        ООО Саншайн        37,679,502.00      RUR  hh.ru\n",
       "117  5efd957d6fa9af93f70e08b1                                                                   Продавец-консультант  https://hh.ru/vacancy/36610430?query=продавец   2020-06-22               800.00             1,950.00                  nan                  nan                         Немига, Пушкинская, Спортивная, Кунцевщина, Минск, проспект Победителей, 129                                 УП Коллекция света        36,610,430.00      BYR  hh.ru\n",
       "118  5efd957d6fa9af93f70e08b2                                                                   Продавец-консультант  https://hh.ru/vacancy/36812861?query=продавец   2020-06-30            26,000.00            60,000.00                  nan                  nan                                                                        Луга, проспект Урицкого, 77к4      Сеть магазинов цифровой и бытовой техники DNS        36,812,861.00      RUR  hh.ru\n",
       "119  5efd957d6fa9af93f70e08b3                                                                        Продавец-кассир  https://hh.ru/vacancy/37614883?query=продавец   2020-06-30            25,000.00                  nan                  nan                  nan                                                                                               Тутаев                       ООО Бристоль, сеть магазинов        37,614,883.00      RUR  hh.ru\n",
       "120  5efd957d6fa9af93f70e08b4                                                       Продавец-кассир (ул Спасская,14)  https://hh.ru/vacancy/37541047?query=продавец   2020-06-17            23,000.00                  nan                  nan                  nan                                                                                               Тюмень                                    ДИКСИ. Магазины        37,541,047.00      RUR  hh.ru\n",
       "121  5efd957d6fa9af93f70e08b5                                                                   Продавец-консультант  https://hh.ru/vacancy/37492364?query=продавец   2020-06-15            20,000.00                  nan                41.39                41.39                                                                                              Касимов                                       585, Золотой        37,492,364.00      RUR  hh.ru\n",
       "122  5efd957d6fa9af93f70e08b6                                           Продавец-кассир (Тавда, улица Фанерщиков, 2)  https://hh.ru/vacancy/36468085?query=продавец   2020-06-24            19,000.00            25,000.00                65.32                65.32                                                                                                Тавда                                Пятёрочка. Магазины        36,468,085.00      RUR  hh.ru\n",
       "123  5efd957d6fa9af93f70e08b7                                           Продавец-кассир (Сокол, Базарная площадь, 3)  https://hh.ru/vacancy/36467581?query=продавец   2020-06-08            18,000.00            23,000.00                40.13                40.13                                                                                                Сокол                                Пятёрочка. Магазины        36,467,581.00      RUR  hh.ru\n",
       "124  5efd957d6fa9af93f70e08b8                                        Продавец-универсал (Проводник, Коломенский р-н)  https://hh.ru/vacancy/37401010?query=продавец   2020-06-22            30,800.00            38,500.00                  nan                  nan                                                                                              Коломна                             МАГНИТ, Розничная сеть        37,401,010.00      RUR  hh.ru\n",
       "125  5efd957d6fa9af93f70e08b9                                                           Продавец-консультант Мегафон  https://hh.ru/vacancy/36880065?query=продавец   2020-06-17            25,000.00            30,000.00                  nan                  nan                                                                                               Талдом                                          Эра Людей        36,880,065.00      RUR  hh.ru\n",
       "126  5efd957d6fa9af93f70e08ba                                       Продавец-бариста магазина разливного пива и кофе  https://hh.ru/vacancy/37742208?query=продавец   2020-06-29               550.00                  nan                  nan                  nan                                                                                                Минск                                     ИП Адынец Е.О.        37,742,208.00      BYR  hh.ru\n",
       "127  5efd957d6fa9af93f70e08bb                                       Продавец-кассир (Вологда, Зосимовская улица, 70)  https://hh.ru/vacancy/36467832?query=продавец   2020-06-24            18,000.00            23,000.00                39.89                39.89                                                                                               Волода                                Пятёрочка. Магазины        36,467,832.00      RUR  hh.ru\n",
       "128  5efd957d6fa9af93f70e08bc                                    Продавец-кассир (Тетюши, улица 200 лет Тетюшам, 1В)  https://hh.ru/vacancy/36602682?query=продавец   2020-06-12            15,000.00            23,000.00                48.83                48.83                                                                                               Тетюши                                Пятёрочка. Магазины        36,602,682.00      RUR  hh.ru\n",
       "129  5efd957d6fa9af93f70e08bd                                                                        Продавец-кассир  https://hh.ru/vacancy/37474711?query=продавец   2020-06-15            25,000.00                  nan                  nan                  nan                                                                                      Нижний Новгород                                    Гараева Валерия        37,474,711.00      RUR  hh.ru\n",
       "130  5efd957d6fa9af93f70e08be                                        Продавец-консультант салона сотовой связи Tele2  https://hh.ru/vacancy/37242164?query=продавец   2020-07-02                  nan            25,000.00                  nan                  nan                                                                                               Липецк         Теле2 салон связи (ООО Сфера обслуживания)        37,242,164.00      RUR  hh.ru\n",
       "131  5efd957d6fa9af93f70e08bf                                                   Продавец-консультант в ТЦ Зеленопарк  https://hh.ru/vacancy/37657914?query=продавец   2020-06-24            40,000.00            60,000.00                37.26                37.26                                                                               рабочий посёлок Ржавки                          Ангстрем, Группа компаний        37,657,914.00      RUR  hh.ru\n",
       "132  5efd957d6fa9af93f70e08c0                                                                      Продавец дизайнер  https://hh.ru/vacancy/36985790?query=продавец   2020-07-01            20,000.00            45,000.00                  nan                  nan                                                                 Чебоксары, улица Фёдора Гладкова, 10                                          ООО БЭХЭТ        36,985,790.00      RUR  hh.ru\n",
       "133  5efd957d6fa9af93f70e08c1                                               Продавец-консультант в салон связи TELE2  https://hh.ru/vacancy/36993022?query=продавец   2020-06-15                  nan            45,000.00                  nan                  nan                                                                                         Нижний Тагил                                ООО Мобильный город        36,993,022.00      RUR  hh.ru\n",
       "134  5efd957d6fa9af93f70e08c2                                                        Продавец производства (Иваново)  https://hh.ru/vacancy/37334068?query=продавец   2020-06-29            20,000.00            23,000.00                40.99                40.99                                                                                              Иваново     Лента, федеральная розничная сеть, Гипермаркет        37,334,068.00      RUR  hh.ru\n",
       "135  5efd957d6fa9af93f70e08c3                       Продавец-кассир магазина Магнит (пгт Крапивинский, Школьная, 2а)  https://hh.ru/vacancy/37427526?query=продавец   2020-06-26                 0.00            30,000.00                86.06                86.06                                                                                             Кемерово                             МАГНИТ, Розничная сеть        37,427,526.00      RUR  hh.ru\n",
       "136  5efd957d6fa9af93f70e08c4                                Продавец-кассир (Нижний Новгород, Перекопская улица, 8)  https://hh.ru/vacancy/36993619?query=продавец   2020-06-16            19,300.00            24,200.00                43.94                43.94                                                                                      Нижний Новгород                                Пятёрочка. Магазины        36,993,619.00      RUR  hh.ru\n",
       "137  5efd957d6fa9af93f70e08c5                                                  Специалист офиса продаж, г. Чебаркуль  https://hh.ru/vacancy/37711531?query=продавец   2020-06-27            25,000.00            30,000.00                  nan                  nan                                                                                            Чебаркуль                                 Розничная сеть МТС        37,711,531.00      RUR  hh.ru\n",
       "138  5efd957d6fa9af93f70e08c6                                                            Продавец-кассир intimissimi  https://hh.ru/vacancy/37657814?query=продавец   2020-06-24            20,000.00            30,000.00                  nan                  nan                                                              Краснодар, улица Володи Головатого, 313                                     ИП Лущай М. В.        37,657,814.00      RUR  hh.ru\n",
       "139  5efd957d6fa9af93f70e08c7                              Старший продавец-кассир (Пермь, улица Героев Хасана, 100)  https://hh.ru/vacancy/36468404?query=продавец   2020-06-09            25,000.00            29,000.00                56.26                56.26                                                                                                Пермь                                Пятёрочка. Магазины        36,468,404.00      RUR  hh.ru\n",
       "140  5efd957d6fa9af93f70e08c8                                                        Ночной продавец магазина Магнит  https://hh.ru/vacancy/37185540?query=продавец   2020-06-25            21,000.00                  nan                  nan                  nan                                                                                                Пенза                             МАГНИТ, Розничная сеть        37,185,540.00      RUR  hh.ru\n",
       "141  5efd957d6fa9af93f70e08c9                                                                Продавец-кассир (Ивино)  https://hh.ru/vacancy/37587917?query=продавец   2020-06-19            23,000.00                  nan                  nan                  nan                                                                                                Чехов                                    ДИКСИ. Магазины        37,587,917.00      RUR  hh.ru\n",
       "142  5efd957d6fa9af93f70e08ca                                                                               Продавец  https://hh.ru/vacancy/37478128?query=продавец   2020-06-30            20,000.00            25,000.00                  nan                  nan                                                                                             Тольятти                                             Билайн        37,478,128.00      RUR  hh.ru\n",
       "143  5efd957d6fa9af93f70e08cb                                Продавец-консультант в салон сотовой связи, Новоалтайск  https://hh.ru/vacancy/35016201?query=продавец   2020-06-19            15,000.00            25,000.00                  nan                  nan                                                                       Новоалтайск, Парковая улица, 1                                           Наследие        35,016,201.00      RUR  hh.ru\n",
       "144  5efd957d6fa9af93f70e08cc                                               Продавец консультант спортивного питания  https://hh.ru/vacancy/37730358?query=продавец   2020-06-29            25,000.00            35,000.00                  nan                  nan                                                                                            Краснодар                                          Рус спорт        37,730,358.00      RUR  hh.ru\n",
       "145  5efd957d6fa9af93f70e08cd                                                   Продавец-консультант кухонной мебели  https://hh.ru/vacancy/35604738?query=продавец   2020-06-30            23,000.00            50,000.00                  nan                  nan                                                                                          Калининград                             ООО Мебельная компания        35,604,738.00      RUR  hh.ru\n",
       "146  5efd957d6fa9af93f70e08ce                       Продавец-консультант в ювелирном салоне ЭПЛ. Якутские Бриллианты  https://hh.ru/vacancy/37411501?query=продавец   2020-06-30            35,000.00                  nan                  nan                  nan                                                                                            Астрахань                      ИП Сенектутова Инара Мусаевна        37,411,501.00      RUR  hh.ru\n",
       "147  5efd957d6fa9af93f70e08cf                                                                   Продавец-консультант  https://hh.ru/vacancy/37456429?query=продавец   2020-06-11           120,000.00           180,000.00                  nan                  nan                                                                                     Усть-Каменогорск                                       ТОО ТЕХНИТЭЛ        37,456,429.00      KZT  hh.ru\n",
       "148  5efd957d6fa9af93f70e08d0                                              Специалист торгового зала/Продавец-кассир  https://hh.ru/vacancy/37452397?query=продавец   2020-06-29                 0.00            47,000.00                37.96                37.96                                                                             рабочий посёлок Томилино                                    ООО Фреш Маркет        37,452,397.00      RUR  hh.ru\n",
       "149  5efd957d6fa9af93f70e08d1                                                           Продавец-консультант Karcher  https://hh.ru/vacancy/37738506?query=продавец   2020-06-29            35,000.00                  nan                37.95                37.95                                                                                            Череповец                      Карекс-Центр, Группа компаний        37,738,506.00      RUR  hh.ru\n",
       "150  5efd957d6fa9af93f70e08d2                                                             Продавец-кассир ФИКС ПРАЙС  https://hh.ru/vacancy/37710786?query=продавец   2020-06-27            19,000.00            21,000.00                  nan                  nan                                                                                             Белгород                                  ООО КС Интернешнл        37,710,786.00      RUR  hh.ru\n",
       "151  5efd957d6fa9af93f70e08d3                                                                   Продавец-консультант  https://hh.ru/vacancy/37413689?query=продавец   2020-06-30            20,000.00            50,000.00                  nan                  nan                                                                          Брянск, Объездная улица, 30                    ИП Басихина Ольга Александровна        37,413,689.00      RUR  hh.ru\n",
       "152  5efd957d6fa9af93f70e08d4                                       Продавец-кассир (Новосибирск, улица Кирова, 317)  https://hh.ru/vacancy/36896005?query=продавец   2020-06-27            25,300.00            31,900.00                82.97                82.97                                                                                          Новосибирск                                Пятёрочка. Магазины        36,896,005.00      RUR  hh.ru\n",
       "153  5efd957d6fa9af93f70e08d5                                                                  Продавец недвижимости  https://hh.ru/vacancy/31920620?query=продавец   2020-07-02           100,000.00           250,000.00                  nan                  nan                                                                    Хабаровск, улица Дикопольцева, 26                              Компания Новый Атлант        31,920,620.00      RUR  hh.ru\n",
       "154  5efd957d6fa9af93f70e08d6                                                Продавец-кассир (Гай, улица Ленина, 54)  https://hh.ru/vacancy/36705514?query=продавец   2020-06-25            16,000.00            20,000.00                58.44                58.44                                                                                                  Гай                                Пятёрочка. Магазины        36,705,514.00      RUR  hh.ru\n",
       "155  5efd957d6fa9af93f70e08d7                                                                   Продавец-консультант  https://hh.ru/vacancy/37358243?query=продавец   2020-06-05                  nan             1,500.00                  nan                  nan                                                                                                Минск                                ООО ГраальУниверсал        37,358,243.00      BYR  hh.ru\n",
       "156  5efd957d6fa9af93f70e08d8                                                       Продавец-консультант (ТЦ Спектр)  https://hh.ru/vacancy/37738508?query=продавец   2020-06-29            35,000.00            60,000.00                  nan                  nan                                                                               Можайск, улица Мира, 2      Сеть магазинов цифровой и бытовой техники DNS        37,738,508.00      RUR  hh.ru\n",
       "157  5efd957d6fa9af93f70e08d9                                Продавец-кассир (Ярославль, проезд Моторостроителей, 4)  https://hh.ru/vacancy/36466043?query=продавец   2020-06-08            19,000.00            24,000.00                39.77                39.77                                                                                            Ярославль                                Пятёрочка. Магазины        36,466,043.00      RUR  hh.ru\n",
       "158  5efd957d6fa9af93f70e08da                         Продавец-консультант в магазин одежды МF / частичная занятость  https://hh.ru/vacancy/37463631?query=продавец   2020-06-11               300.00                  nan                  nan                  nan                                                                               Минск, улица Немига, 5                                   ООО Марк Формэль        37,463,631.00      BYR  hh.ru\n",
       "159  5efd957d6fa9af93f70e08db                                    Продавец-консультант \"Алкоголь, напитки\" (ТЦ Форум)  https://hh.ru/vacancy/37495920?query=продавец   2020-06-29            19,000.00                  nan                  nan                  nan                                                                          Саратов, улица Танкистов, 1                               О’КЕЙ \"Супермаркеты\"        37,495,920.00      RUR  hh.ru\n",
       "160  5efd957d6fa9af93f70e08dc                                     Продавец-консультант NO ONE (Fashion House Outlet)  https://hh.ru/vacancy/37721080?query=продавец   2020-06-29            50,000.00                  nan                  nan                  nan                                  Планерная, деревня Чёрная Грязь, Ленинградское шоссе, 14-й километр                                             NO ONE        37,721,080.00      RUR  hh.ru\n",
       "161  5efd957d6fa9af93f70e08dd                                                                        Кассир-продавец  https://hh.ru/vacancy/37661295?query=продавец   2020-06-24            16,000.00            25,000.00                  nan                  nan                                                                                              Воронеж                           ИП Беляев Иван Федорович        37,661,295.00      RUR  hh.ru\n",
       "162  5efd957d6fa9af93f70e08de                                         Продавец-кассир (Энгельс, площадь Свободы, 1И)  https://hh.ru/vacancy/37666360?query=продавец   2020-06-25            17,000.00            23,000.00                  nan                  nan                                                                          Энельс, площадь Свободы, 1И                                Пятёрочка. Магазины        37,666,360.00      RUR  hh.ru\n",
       "163  5efd957d6fa9af93f70e08df                                                                   Продавец-консультант  https://hh.ru/vacancy/37028744?query=продавец   2020-07-02            20,000.00                  nan                  nan                  nan                                                                            Барнаул, улица Гоголя, 55                                           ООО БЛИС        37,028,744.00      RUR  hh.ru\n",
       "164  5efd957d6fa9af93f70e08e0                                 Продавец-кассир (Казань, улица Академика Сахарова, 19)  https://hh.ru/vacancy/37650976?query=продавец   2020-06-24            25,000.00            27,700.00                  nan                  nan                                Проспект Победы, Горки, Аметьево, г Казань, ул Академика Сахарова, 19                                Пятёрочка. Магазины        37,650,976.00      RUR  hh.ru\n",
       "165  5efd957d6fa9af93f70e08e1                                 Продавец-кассир (Каменск-Уральский, улица Кунавина, 4)  https://hh.ru/vacancy/37051486?query=продавец   2020-06-20            20,000.00            25,000.00                61.91                61.91                                                                                    Каменск-Уральский                                Пятёрочка. Магазины        37,051,486.00      RUR  hh.ru\n",
       "166  5efd957d6fa9af93f70e08e2                                   Мобильный продавец-кассир (Белебей, Советская улица)  https://hh.ru/vacancy/36528202?query=продавец   2020-06-26            16,000.00            20,000.00                54.14                54.14                                                                                              Белебей                                Пятёрочка. Магазины        36,528,202.00      RUR  hh.ru\n",
       "167  5efd957d6fa9af93f70e08e3                               Продавец-кассир (Челябинск, улица Машиностроителей, 28А)  https://hh.ru/vacancy/36467267?query=продавец   2020-06-24            20,500.00            25,000.00                61.47                61.47                                                                                          г Челябинск                                Пятёрочка. Магазины        36,467,267.00      RUR  hh.ru\n",
       "168  5efd957d6fa9af93f70e08e4                                              Продавец-консультант в офис продаж Билайн  https://hh.ru/vacancy/37165208?query=продавец   2020-06-26            13,000.00            45,000.00                  nan                  nan                                                                                      Нижний Новгород                                         Билайн ШПД        37,165,208.00      RUR  hh.ru\n",
       "169  5efd957d6fa9af93f70e08e5                                    Продавец-кассир (Сочи, улица Красных Партизан, 3/1)  https://hh.ru/vacancy/37650073?query=продавец   2020-06-24            30,000.00            41,000.00                  nan                  nan                                                                    Сочи, улица Красных Партизан, 3/1                                Пятёрочка. Магазины        37,650,073.00      RUR  hh.ru\n",
       "170  5efd957d6fa9af93f70e08e6                                   Продавец-кассир (Горячий Ключ, улица Ворошилова, 27)  https://hh.ru/vacancy/37656821?query=продавец   2020-06-24            16,728.00            21,000.00                  nan                  nan                                                                   Горячий Ключ, улица Ворошилова, 27                                Пятёрочка. Магазины        37,656,821.00      RUR  hh.ru\n",
       "171  5efd957d6fa9af93f70e08e7                                                                               Продавец  https://hh.ru/vacancy/36624925?query=продавец   2020-06-26            27,200.00            34,000.00                  nan                  nan                                                                                                                                  МАГНИТ, Розничная сеть        36,624,925.00      RUR  hh.ru\n",
       "172  5efd957d6fa9af93f70e08e8                                                                   Продавец-консультант  https://hh.ru/vacancy/37390454?query=продавец   2020-06-08            30,000.00                  nan                  nan                  nan                                                           Калининград, улица Профессора Баранова, 34                            ИП Безега Роман Юрьевич        37,390,454.00      RUR  hh.ru\n",
       "173  5efd957d6fa9af93f70e08e9                                                          Продавец-кассир (ТЦ Западный)  https://hh.ru/vacancy/37733495?query=продавец   2020-06-29            20,000.00                  nan                  nan                  nan                                                                                        Горно-Алтайск                                    ПАО Детский Мир        37,733,495.00      RUR  hh.ru\n",
       "174  5efd957d6fa9af93f70e08ea                                                                               Продавец  https://hh.ru/vacancy/37739922?query=продавец   2020-06-29            20,000.00                  nan                  nan                  nan                                                                                       Ростов-на-Дону                         ФГУП КАЛУЖСКОЕ ФСИН РОССИИ        37,739,922.00      RUR  hh.ru\n",
       "175  5efd957d6fa9af93f70e08eb                                                   Продавец-консультант/продавец-кассир  https://hh.ru/vacancy/37564158?query=продавец   2020-06-30            22,000.00            60,000.00                  nan                  nan                         Площадь 1905 года, Бажовская, Геологическая, Екатеринбург, улица 8 Марта, 46                                     ООО Тренди Лаб        37,564,158.00      RUR  hh.ru\n",
       "176  5efd957d6fa9af93f70e08ec                                 Продавец-кассир (село Шеметово, Центральная улица, 57)  https://hh.ru/vacancy/36926450?query=продавец   2020-06-30            22,000.00            28,000.00                38.09                38.09                                                                                        село Шеметово                                Пятёрочка. Магазины        36,926,450.00      RUR  hh.ru\n",
       "177  5efd957d6fa9af93f70e08ed                                                         Продавец-кассир (Первоуральск)  https://hh.ru/vacancy/37673848?query=продавец   2020-07-02            19,000.00            24,000.00                60.40                60.40                                                                                         Екатеринбург                                             Верный        37,673,848.00      RUR  hh.ru\n",
       "178  5efd957d6fa9af93f70e08ee                                                       Продавец недвижимости, (г. Сочи)  https://hh.ru/vacancy/32533035?query=продавец   2020-07-01           200,000.00                  nan                39.72                39.72                                                                                                 Сочи                           ООО Винсент Недвижимость        32,533,035.00      RUR  hh.ru\n",
       "179  5efd957d6fa9af93f70e08ef                                                         Продавец-кассир (ТЦ Сити Молл)  https://hh.ru/vacancy/37639068?query=продавец   2020-06-23            29,000.00                  nan                  nan                  nan                                                                                               Сургут                                    ПАО Детский Мир        37,639,068.00      RUR  hh.ru\n",
       "180  5efd957d6fa9af93f70e08f0              Продавец-консультант в магазин мужской одежды премиум класса \"Boston One\"  https://hh.ru/vacancy/37336465?query=продавец   2020-07-01            18,000.00            30,000.00                  nan                  nan                                                                      Омск, проспект Карла Маркса, 22                                         ТД Ниагара        37,336,465.00      RUR  hh.ru\n",
       "181  5efd957d6fa9af93f70e08f1                                                               Продавец магазина Магнит  https://hh.ru/vacancy/36707219?query=продавец   2020-07-02            23,100.00            23,100.00                  nan                  nan                                                                                                Майма                             МАГНИТ, Розничная сеть        36,707,219.00      RUR  hh.ru\n",
       "182  5efd957d6fa9af93f70e08f2                                                                   Продавец (Зяб 17/17)  https://hh.ru/vacancy/37389298?query=продавец   2020-06-08                 0.00            29,800.00                52.33                52.33                                                                                     Набережные Челны                             МАГНИТ, Розничная сеть        37,389,298.00      RUR  hh.ru\n",
       "183  5efd957d6fa9af93f70e08f3                                                                       Старший продавец  https://hh.ru/vacancy/37569958?query=продавец   2020-06-18            19,000.00                  nan                  nan                  nan                                                                      Кораблино, Октябрьская улица, 6                                     ООО Корзинка-6        37,569,958.00      RUR  hh.ru\n",
       "184  5efd957d6fa9af93f70e08f4                                             Продавец-кассир (ТЦ \"Океан\", г. Жуковский)  https://hh.ru/vacancy/37438227?query=продавец   2020-06-26            14,900.00                  nan                38.09                38.09                                                                                            Жуковский                                             O'STIN        37,438,227.00      RUR  hh.ru\n",
       "185  5efd957d6fa9af93f70e08f5                                                    Продавец магазина МАГНИТ Ялуторовск  https://hh.ru/vacancy/36386566?query=продавец   2020-06-26            20,700.00            25,800.00                  nan                  nan                                                                                           Ялуторовск                             МАГНИТ, Розничная сеть        36,386,566.00      RUR  hh.ru\n",
       "186  5efd957d6fa9af93f70e08f6                                     Продавец-кассир (Казань, улица Мазита Гафури, 9к1)  https://hh.ru/vacancy/36496348?query=продавец   2020-06-08            25,000.00            27,700.00                49.10                49.10                                                                                               Казань                                Пятёрочка. Магазины        36,496,348.00      RUR  hh.ru\n",
       "187  5efd957d6fa9af93f70e08f7                                   Продавец-кассир (Заречный, Ленинградская улица, 19А)  https://hh.ru/vacancy/36692366?query=продавец   2020-06-20            18,000.00            23,000.00                61.32                61.32                                                                                             Заречный                                Пятёрочка. Магазины        36,692,366.00      RUR  hh.ru\n",
       "188  5efd957d6fa9af93f70e08f8                               Продавец-бармен (Заводскй и Кировский районы г.Кемерово)  https://hh.ru/vacancy/32479278?query=продавец   2020-07-02                  nan            30,000.00                  nan                  nan                                                                                             Кемерово                                               АЛДИ        32,479,278.00      RUR  hh.ru\n",
       "189  5efd957d6fa9af93f70e08f9                                                                   Продавец-консультант  https://hh.ru/vacancy/37660348?query=продавец   2020-07-02            25,000.00            50,000.00                  nan                  nan                                                                       Пятигорск, улица Бунимовича, 7                                    Золотая Подкова        37,660,348.00      RUR  hh.ru\n",
       "190  5efd957d6fa9af93f70e08fa                                      Продавец-кассир (Ульяновск, Буинский переулок, 1)  https://hh.ru/vacancy/36496834?query=продавец   2020-06-25            18,000.00            24,000.00                48.39                48.39                                                                                          г Ульяновск                                Пятёрочка. Магазины        36,496,834.00      RUR  hh.ru\n",
       "191  5efd957d6fa9af93f70e08fb                            Продавец-кассир (Нижний Новгород, Верхнепечёрская улица, 5)  https://hh.ru/vacancy/36467608?query=продавец   2020-06-24            19,300.00            24,200.00                44.07                44.07                                                                                      Нижний Новгород                                Пятёрочка. Магазины        36,467,608.00      RUR  hh.ru\n",
       "192  5efd957d6fa9af93f70e08fc                                      Старший продавец-кассир (ТРЦ РИО Севастопольский)  https://hh.ru/vacancy/37384672?query=продавец   2020-06-26            40,000.00                  nan                  nan                  nan                                                    Крымская, Москва, Большая Черёмушкинская улица, 1                                          Henderson        37,384,672.00      RUR  hh.ru\n",
       "193  5efd957d6fa9af93f70e08fd                                  Продавец магазина \"Магнит-Косметик\" (г. Железногорск)  https://hh.ru/vacancy/37438961?query=продавец   2020-06-10                 0.00            20,800.00                92.88                92.88                                                                                           Красноярск                             МАГНИТ, Розничная сеть        37,438,961.00      RUR  hh.ru\n",
       "194  5efd957d6fa9af93f70e08fe                                                                   Продавец-консультант  https://hh.ru/vacancy/37455590?query=продавец   2020-06-11            28,000.00            35,000.00                  nan                  nan                                                                 Подольск, Подольск, улица Кирова, 56          Уютный Дом (ИП Карпузов Сергей Борисович)        37,455,590.00      RUR  hh.ru\n",
       "195  5efd957d6fa9af93f70e08ff                                                      Продавец-кассир (Старый Оскол, 1)  https://hh.ru/vacancy/37649579?query=продавец   2020-06-24            17,500.00            22,000.00                  nan                  nan                                                                      г Старый Оскол, Северный мкр, 1                                Пятёрочка. Магазины        37,649,579.00      RUR  hh.ru\n",
       "196  5efd957d6fa9af93f70e0900                                                    Продавец-кассир, поселок Боголюбово  https://hh.ru/vacancy/37719730?query=продавец   2020-06-29            29,000.00                  nan                  nan                  nan                                                                                             Владимир                       ООО Бристоль, сеть магазинов        37,719,730.00      RUR  hh.ru\n",
       "197  5efd957d6fa9af93f70e0901                                                   Продавец-кассир (м. Аннино, Орехово)  https://hh.ru/vacancy/37681180?query=продавец   2020-07-02            30,000.00                  nan                  nan                  nan                                                                                               Москва                                      Улыбка радуги        37,681,180.00      RUR  hh.ru\n",
       "198  5efd957d6fa9af93f70e0902                                                        Продавец-консультант (ТЦ Лента)  https://hh.ru/vacancy/37559249?query=продавец   2020-06-18            35,000.00            60,000.00                  nan                  nan                                                                         Коломна, улица Астахова, 4к2      Сеть магазинов цифровой и бытовой техники DNS        37,559,249.00      RUR  hh.ru\n",
       "199  5efd957d6fa9af93f70e0903                                                              Продавец-кассир, г.Щапово  https://hh.ru/vacancy/37170392?query=продавец   2020-06-25            26,700.00                  nan                  nan                  nan                                                                                               Москва                                    ДИКСИ. Магазины        37,170,392.00      RUR  hh.ru\n",
       "200  5efd957d6fa9af93f70e0904                                         Продавец-кассир Фикс Прайс (Октябрьский рынок)  https://hh.ru/vacancy/37309259?query=продавец   2020-06-02            19,000.00            21,000.00                  nan                  nan                                                                                               Липецк                                  ООО КС Интернешнл        37,309,259.00      RUR  hh.ru\n",
       "201  5efd957d6fa9af93f70e0905                                     Продавец-кассир (Омск, 1-я Ленинградская улица, 1)  https://hh.ru/vacancy/36466980?query=продавец   2020-06-24            16,500.00            22,000.00                73.48                73.48                                                                                                 Омск                                Пятёрочка. Магазины        36,466,980.00      RUR  hh.ru\n",
       "202  5efd957d6fa9af93f70e0906                                                                        Продавец-кассир  https://hh.ru/vacancy/37327051?query=продавец   2020-06-03               600.00                  nan                  nan                  nan                                                            Гродно, улица Советских Пограничников, 91                                   ООО Марк Формэль        37,327,051.00      BYR  hh.ru\n",
       "203  5efd957d6fa9af93f70e0907                                    Продавец-консультант в отдел Строительные материалы  https://hh.ru/vacancy/37500956?query=продавец   2020-06-16            31,000.00                  nan               135.10               135.10                                                                                            Хабаровск                         Леруа Мерлен. Гипермаркеты        37,500,956.00      RUR  hh.ru\n",
       "204  5efd957d6fa9af93f70e0908                                                                        Продавец-кассир  https://hh.ru/vacancy/37657485?query=продавец   2020-06-24            40,000.00            40,000.00                  nan                  nan                                                                                              Воронеж                       Группа Компаний «GreenSpark»        37,657,485.00      RUR  hh.ru\n",
       "205  5efd957d6fa9af93f70e0909                                                                 Продавец Магнит у дома  https://hh.ru/vacancy/36672259?query=продавец   2020-06-30            21,300.00            25,400.00                  nan                  nan                                                                       Павловск (Воронежская область)                             МАГНИТ, Розничная сеть        36,672,259.00      RUR  hh.ru\n",
       "206  5efd957d6fa9af93f70e090a                                                           Продавец-универсал (Зеленый)  https://hh.ru/vacancy/37084083?query=продавец   2020-06-22            30,800.00            38,500.00                  nan                  nan                                                                                              Ногинск                             МАГНИТ, Розничная сеть        37,084,083.00      RUR  hh.ru\n",
       "207  5efd957d6fa9af93f70e090b                                    Продавец-консультант ЛКМ (Леруа Мерлен/ Варшавское)  https://hh.ru/vacancy/37493224?query=продавец   2020-06-26            35,000.00            45,000.00                  nan                  nan  Аннино, Бульвар Дмитрия Донского, Битца, Ленинский городской округ, Варшавское шоссе, 21-й килом...                            AROUND, Группа компаний        37,493,224.00      RUR  hh.ru\n",
       "208  5efd957d6fa9af93f70e090c                                                                        Продавец-кассир  https://hh.ru/vacancy/36385293?query=продавец   2020-06-26            28,500.00            42,000.00                  nan                  nan                                                                       Москва, Кочновский проезд, 5с7                              ООО Военторг - Ритейл        36,385,293.00      RUR  hh.ru\n",
       "209  5efd957d6fa9af93f70e090d                                   Продавец-кассир (село Павловск, Заводская улица, 4Б)  https://hh.ru/vacancy/37010394?query=продавец   2020-06-01            18,500.00            23,500.00                82.95                82.95                                                                                        село Павловск                                Пятёрочка. Магазины        36,883,242.00      RUR  hh.ru\n",
       "210  5efd957d6fa9af93f70e090e                                        Продавец-кассир (Тюмень, улица Энергетиков, 52)  https://hh.ru/vacancy/36602104?query=продавец   2020-06-12            17,500.00            27,000.00                65.59                65.59                                                                                               Тюмень                                Пятёрочка. Магазины        36,602,104.00      RUR  hh.ru\n",
       "211  5efd957d6fa9af93f70e090f                              Продавец-кассир (село Казачья Слобода, Народная улица, 4)  https://hh.ru/vacancy/37655767?query=продавец   2020-06-24            20,000.00            25,000.00                  nan                  nan                                              Шацкий р-н, село Казачья Слобода, улица Народная, 1                                    Пятёрочка. Магазины        37,655,767.00      RUR  hh.ru\n",
       "212  5efd957d6fa9af93f70e0910                             Продавец-кассир (Ярославль, Большая Октябрьская улица, 71)  https://hh.ru/vacancy/36677827?query=продавец   2020-06-03            21,000.00            23,000.00                39.86                39.86                                                                                            Ярославль                                Пятёрочка. Магазины        36,677,827.00      RUR  hh.ru\n",
       "213  5efd957d6fa9af93f70e0911                                  Продавец-консультант (Санкт-Петербург, Лыжный пер, 6)  https://hh.ru/vacancy/36847416?query=продавец   2020-06-24            25,000.00            30,293.00                  nan                  nan                                                                     г Санкт-Петербург, Лыжный пер, 6                                        Перекресток        36,847,416.00      RUR  hh.ru\n",
       "214  5efd957d6fa9af93f70e0912                                                                  Кассир (Новое Лапино)  https://hh.ru/vacancy/37734031?query=продавец   2020-06-29            40,000.00            45,000.00                37.14                37.14                                                                                       деревня Лапино                                           ВкусВилл        37,734,031.00      RUR  hh.ru\n",
       "215  5efd957d6fa9af93f70e0913                                              Продавец-кассир (г Владимир мкр Коммунар)  https://hh.ru/vacancy/36940493?query=продавец   2020-06-29            27,000.00                  nan                  nan                  nan                                                                                             Владимир                       ООО Бристоль, сеть магазинов        36,940,493.00      RUR  hh.ru\n",
       "216  5efd957d6fa9af93f70e0914                                  Продавец-кассир (село Дубёнки, Центральная улица, 19)  https://hh.ru/vacancy/36743217?query=продавец   2020-06-26            14,000.00            18,000.00                46.30                46.30                                                                          Дубенский р-н, село Дубенки                                Пятёрочка. Магазины        36,743,217.00      RUR  hh.ru\n",
       "217  5efd957d6fa9af93f70e0915                                 Продавец-консультант в салон сотовой связи, ТЦ \"Метро\"  https://hh.ru/vacancy/37496305?query=продавец   2020-06-29            30,000.00                  nan                  nan                  nan                                                                        Арзамас, проспект Ленина, 119                                          ООО Дилер        37,496,305.00      RUR  hh.ru\n",
       "218  5efd957d6fa9af93f70e0916                                          Продавец-консультант/Оптометрист (ТК Альтаир)  https://hh.ru/vacancy/37351503?query=продавец   2020-06-30            30,000.00                  nan                  nan                  nan                                                               Ярославль, Ленинградский проспект, 123                                        ООО АЙКРАФТ        37,351,503.00      RUR  hh.ru\n",
       "219  5efd957d6fa9af93f70e0917                                                Продавец - консультант (ТЦ Взлет Гипер)  https://hh.ru/vacancy/37423154?query=продавец   2020-06-22            42,000.00            60,000.00                  nan                  nan                                                                        Жуковский, улица Гагарина, 24      Сеть магазинов цифровой и бытовой техники DNS        37,423,154.00      RUR  hh.ru\n",
       "220  5efd957d6fa9af93f70e0918                                              Продавец-кассир (Thomas Munz, ТЦ Саларис)  https://hh.ru/vacancy/37598400?query=продавец   2020-06-29            35,000.00                  nan                  nan                  nan                                                                                               Москва                                        THOMAS MUNZ        37,598,400.00      RUR  hh.ru\n",
       "221  5efd957d6fa9af93f70e0919                                      Продавец-кассир (Иваново, улица Карла Маркса, 32)  https://hh.ru/vacancy/36465910?query=продавец   2020-06-08            17,000.00            28,000.00                40.98                40.98                                                                                              Иваново                                Пятёрочка. Магазины        36,465,910.00      RUR  hh.ru\n",
       "222  5efd957d6fa9af93f70e091a                               Продавец-кассир (Нижний Новгород, Верхоянская улица, 11)  https://hh.ru/vacancy/36931388?query=продавец   2020-06-03            19,300.00            24,200.00                43.84                43.84                                                                                      Нижний Новгород                                Пятёрочка. Магазины        36,931,388.00      RUR  hh.ru\n",
       "223  5efd957d6fa9af93f70e091b                                                          Продавец-консультант в adidas  https://hh.ru/vacancy/37101025?query=продавец   2020-07-02            26,000.00                  nan                32.05                32.05                                                                                             Смоленск                         adidas, Фирменные магазины        37,101,025.00      RUR  hh.ru\n",
       "224  5efd957d6fa9af93f70e091c                                                                   Продавец-консультант  https://hh.ru/vacancy/37025818?query=продавец   2020-06-17            90,000.00           200,000.00                  nan                  nan                                                                                               Актобе                                    АО Сәтті Жұлдыз        37,025,818.00      RUR  hh.ru\n",
       "225  5efd957d6fa9af93f70e091d                       Продавец-кассир (рабочий посёлок Решетниково, проезд ОПМС-1, 14)  https://hh.ru/vacancy/36913727?query=продавец   2020-06-13            23,000.00            28,000.00                36.56                36.56                                                                          рабочий посёлок Решетниково                                Пятёрочка. Магазины        36,913,727.00      RUR  hh.ru\n",
       "226  5efd957d6fa9af93f70e091e                                            Продавец-консультант ( ДК Синтезспирт, ХБК)  https://hh.ru/vacancy/37562427?query=продавец   2020-06-18            27,000.00            35,000.00                  nan                  nan                                                                                                  Уфа      Сеть магазинов цифровой и бытовой техники DNS        37,562,427.00      RUR  hh.ru\n",
       "227  5efd957d6fa9af93f70e091f                                        Продавец- консультант спортивной одежды FORWARD  https://hh.ru/vacancy/37501710?query=продавец   2020-06-16            20,000.00            50,000.00                  nan                  nan                                                                   Краснодар, улица Дзержинского, 100                                            Forward        37,501,710.00      RUR  hh.ru\n",
       "228  5efd957d6fa9af93f70e0920                                                         Продавец (вахта в Нововоронеж)  https://hh.ru/vacancy/37582889?query=продавец   2020-06-19            35,000.00            50,000.00                  nan                  nan                                                                                           Острогожск                                      ХМЕЛЬНАЯ МИЛЯ        37,582,889.00      RUR  hh.ru\n",
       "229  5efd957d6fa9af93f70e0921                                        Продавец-кассир (Мурманск, улица Свердлова, 47)  https://hh.ru/vacancy/37127297?query=продавец   2020-06-08            25,000.00            31,000.00                33.11                33.11                                                                                             Мурманск                                Пятёрочка. Магазины        37,127,297.00      RUR  hh.ru\n",
       "230  5efd957d6fa9af93f70e0922                                                                   Продавец-консультант  https://hh.ru/vacancy/36998885?query=продавец   2020-06-29            20,000.00            35,000.00                  nan                  nan                                                                         Белгород, улица Будённого, 3                       ООО Группа Компаний АвтоСеть        36,998,885.00      RUR  hh.ru\n",
       "231  5efd957d6fa9af93f70e0923                                     Продавец-кассир (Серпухов, улица Ворошилова, 133А)  https://hh.ru/vacancy/37250804?query=продавец   2020-06-17            26,000.00            30,000.00                37.44                37.44                                                                                             Серпухов                                Пятёрочка. Магазины        37,250,804.00      RUR  hh.ru\n",
       "232  5efd957d6fa9af93f70e0924                                                                   Продавец в салон МТС  https://hh.ru/vacancy/37351493?query=продавец   2020-07-01            29,000.00            39,000.00                55.09                55.09                                                                                             Оренбург                                 Розничная сеть МТС        37,351,493.00      RUR  hh.ru\n",
       "233  5efd957d6fa9af93f70e0925                                        Продавец-кассир (Тула, улица Максимовского, 15)  https://hh.ru/vacancy/37650426?query=продавец   2020-06-24            23,000.00            26,000.00                  nan                  nan                                                                    Тула, улица Максимовского, 15                                    Пятёрочка. Магазины        37,650,426.00      RUR  hh.ru\n",
       "234  5efd957d6fa9af93f70e0926                                                                               Охранник  https://hh.ru/vacancy/37363482?query=продавец   2020-06-05                  nan            20,000.00                  nan                  nan                                                                                             Заволжье                                 Master-Staff Group        37,363,482.00      RUR  hh.ru\n",
       "235  5efd957d6fa9af93f70e0927                                Продавец-кассир (Челябинск, улица 60-летия Октября, 10)  https://hh.ru/vacancy/36467407?query=продавец   2020-06-08            20,500.00            25,000.00                61.40                61.40                                                                                          г Челябинск                                Пятёрочка. Магазины        36,467,407.00      RUR  hh.ru\n",
       "236  5efd957d6fa9af93f70e0928                                                                   Продавец-консультант  https://hh.ru/vacancy/37451852?query=продавец   2020-06-11            35,000.00            60,000.00                  nan                  nan                                                                    Геленджик, улица Луначарского, 4В                                 ООО Позитроника-Юг        37,451,852.00      RUR  hh.ru\n",
       "237  5efd957d6fa9af93f70e0929                       Продавец-консультант автозапчастей для отечественных автомобилей  https://hh.ru/vacancy/37580893?query=продавец   2020-07-01            27,000.00                  nan                  nan                  nan                                        Нижний Новгород, микрорайон Ипподромный, Херсонская улица, 14                                     ИП Шеенков С.Б        37,580,893.00      RUR  hh.ru\n",
       "238  5efd957d6fa9af93f70e092a  Продавец магазина Магнит (м.:Фрунзенская,Электросила,Парк Победы,Московская,Звездная)  https://hh.ru/vacancy/36472263?query=продавец   2020-06-29                  nan            41,500.00                  nan                  nan                                                                                      Санкт-Петербург                             МАГНИТ, Розничная сеть        36,472,263.00      RUR  hh.ru\n",
       "239  5efd957d6fa9af93f70e092b                   Продавец-консультант выходного дня Fabi (Outlet Village, Белая Дача)  https://hh.ru/vacancy/37429624?query=продавец   2020-06-26            25,000.00                  nan                  nan                  nan                                                                   Котельники, Новорязанское шоссе, 8                                             NO ONE        37,429,624.00      RUR  hh.ru\n",
       "240  5efd957d6fa9af93f70e092c                                                            Продавец-консультант Huawei  https://hh.ru/vacancy/37637015?query=продавец   2020-06-23            40,000.00                  nan                  nan                  nan                                                                       Волгодонск, Весенняя улица, 56                                            Работут        37,637,015.00      RUR  hh.ru\n",
       "241  5efd957d6fa9af93f70e092d                                                                   Продавец-консультант  https://hh.ru/vacancy/37614903?query=продавец   2020-06-22            30,000.00                  nan                  nan                  nan                                                                                              Обнинск                                          Solostyle        37,614,903.00      RUR  hh.ru\n",
       "242  5efd957d6fa9af93f70e092e                                      Продавец-кассир (Мурманск, Кольский проспект, 77)  https://hh.ru/vacancy/37527818?query=продавец   2020-06-17            25,000.00            31,000.00                  nan                  nan                                                                                г Мурманск, False, 77                                Пятёрочка. Магазины        37,527,818.00      RUR  hh.ru\n",
       "243  5efd957d6fa9af93f70e092f                                   Продавец-кассир (станица Азовская, улица Ленина, 59)  https://hh.ru/vacancy/37650551?query=продавец   2020-06-24            21,000.00            22,000.00                  nan                  nan                                                                   станица Азовская, улица Ленина, 59                                Пятёрочка. Магазины        37,650,551.00      RUR  hh.ru\n",
       "244  5efd957d6fa9af93f70e0930                                          Продавец-кассир (Белово, Юбилейная улица, 62)  https://hh.ru/vacancy/36467146?query=продавец   2020-06-24            20,317.00            26,667.00                86.28                86.28                                                                                               Белово                                Пятёрочка. Магазины        36,467,146.00      RUR  hh.ru\n",
       "245  5efd957d6fa9af93f70e0931                                                                   Продавец-консультант  https://hh.ru/vacancy/37709085?query=продавец   2020-06-27            45,000.00            80,000.00                  nan                  nan                                                                             Петропавловск-Камчатский                                    ООО Теплое море        37,709,085.00      RUR  hh.ru\n",
       "246  5efd957d6fa9af93f70e0932                                   Продавец-кассир (Брянск, улица Романа Брянского, 1А)  https://hh.ru/vacancy/37651582?query=продавец   2020-06-24            17,500.00            21,800.00                  nan                  nan                                                                   Брянск, улица Романа Брянского, 1А                                Пятёрочка. Магазины        37,651,582.00      RUR  hh.ru\n",
       "247  5efd957d6fa9af93f70e0933                                                         Продавец-консультант (г. Елец)  https://hh.ru/vacancy/37449675?query=продавец   2020-06-11            22,780.00            28,665.00                  nan                  nan                                                                                                 Елец                           ПОРЯДОК, Группа компаний        37,449,675.00      RUR  hh.ru\n",
       "248  5efd957d6fa9af93f70e0934                                                          Продавец-кассир (ТЦ Апельсин)  https://hh.ru/vacancy/37662096?query=продавец   2020-06-29            25,000.00                  nan                82.90                82.90                                                                                          Новосибирск                                        THOMAS MUNZ        37,662,096.00      RUR  hh.ru\n",
       "249  5efd957d6fa9af93f70e0935                                                                               Продавец  https://hh.ru/vacancy/37736761?query=продавец   2020-06-29            15,000.00            50,000.00                  nan                  nan                                                        Перово, Москва, 2-я Владимирская улица, 38/18                                        Раки Кусаки        37,736,761.00      RUR  hh.ru\n",
       "250  5efd957d6fa9af93f70e0936                                                                   Продавец-консультант  https://hh.ru/vacancy/36934703?query=продавец   2020-06-12                  nan           180,000.00                  nan                  nan                                                                                           Нур-Султан                                 ТОО Victory Travel        36,934,703.00      KZT  hh.ru\n",
       "251  5efd957d6fa9af93f70e0937                                                             Продавец-кассир (ТЦ Центр)  https://hh.ru/vacancy/37071418?query=продавец   2020-06-29            31,000.00                  nan                37.52                37.52                                                                                              Дмитров                                    ПАО Детский Мир        37,071,418.00      RUR  hh.ru\n",
       "252  5efd957d6fa9af93f70e0938                                                                   Продавец-консультант  https://hh.ru/vacancy/37586301?query=продавец   2020-06-19            18,000.00            25,000.00                  nan                  nan                                                                         Киров, улица Воровского, 107                                              УЛИСС        37,586,301.00      RUR  hh.ru\n",
       "253  5efd957d6fa9af93f70e0939                                          Продавец-кассир (Сургут, проспект Мира, 47/2)  https://hh.ru/vacancy/36467999?query=продавец   2020-06-29            25,000.00            34,000.00                73.42                73.42                                                                                               Сургут                                Пятёрочка. Магазины        36,467,999.00      RUR  hh.ru\n",
       "254  5efd957d6fa9af93f70e093a                                                                               Продавец  https://hh.ru/vacancy/36188109?query=продавец   2020-07-01            22,000.00            27,500.00                20.55                20.55                                                                                          Калининград                                             Билайн        36,188,109.00      RUR  hh.ru\n",
       "255  5efd957d6fa9af93f70e093b                            Продавец-кассир (Димитровград, проспект Автостроителей, 51)  https://hh.ru/vacancy/37596245?query=продавец   2020-06-21            18,000.00            20,000.00                  nan                  nan                                                         Димитроврад, проспект Автостроителей, 51                                    Пятёрочка. Магазины        37,596,245.00      RUR  hh.ru\n",
       "256  5efd957d6fa9af93f70e093c                                                                Продавец-консультант TV  https://hh.ru/vacancy/37312186?query=продавец   2020-06-02            40,000.00                  nan                  nan                  nan                                                                                            Кингисепп                                             Action        37,312,186.00      RUR  hh.ru\n",
       "257  5efd957d6fa9af93f70e093d                                                      Продавец спецотдела (гастрономия)  https://hh.ru/vacancy/37674664?query=продавец   2020-06-25            26,000.00                  nan                  nan                  nan                                                                       Вологда, Октябрьская улица, 67                           Макси, торговая компания        37,674,664.00      RUR  hh.ru\n",
       "258  5efd957d6fa9af93f70e093e                                       Продавец-консультант (Тц Сити Молл Белгородский)  https://hh.ru/vacancy/37350668?query=продавец   2020-06-25            25,000.00                  nan                  nan                  nan                                                                                             Белгород                                   Снежная Королева        37,350,668.00      RUR  hh.ru\n",
       "259  5efd957d6fa9af93f70e093f                                                                     Продавец-универсал  https://hh.ru/vacancy/37332332?query=продавец   2020-06-16            20,200.00            20,200.00                  nan                  nan                                                                                               Скопин                             МАГНИТ, Розничная сеть        37,332,332.00      RUR  hh.ru\n",
       "260  5efd957d6fa9af93f70e0940                                                                   Продавец-консультант  https://hh.ru/vacancy/37735684?query=продавец   2020-06-29               600.00             1,000.00                  nan                  nan                                                                       Минск, проспект Победителей, 9                                    ИП Пацкевич А.О        37,735,684.00      BYR  hh.ru\n",
       "261  5efd957d6fa9af93f70e0941                                                                        Продавец-пекарь  https://hh.ru/vacancy/37340864?query=продавец   2020-06-04            30,000.00            45,000.00                  nan                  nan                                                                                          Красногорск                                       ООО ЭКСПРЕСС        37,340,864.00      RUR  hh.ru\n",
       "262  5efd957d6fa9af93f70e0942                                                   Продавец-товаровед (Первомайская 98)  https://hh.ru/vacancy/37740048?query=продавец   2020-06-29            25,000.00                  nan                56.11                56.11                                                                                                  Уфа                                       585, Золотой        37,740,048.00      RUR  hh.ru\n",
       "263  5efd957d6fa9af93f70e0943                                        Продавец-кассир (Новокузнецк, улица Тореза, 35)  https://hh.ru/vacancy/37731451?query=продавец   2020-06-29            23,150.00            27,500.00                  nan                  nan                                                                        Новокузнецк, улица Тореза, 35                                Пятёрочка. Магазины        37,731,451.00      RUR  hh.ru\n",
       "264  5efd957d6fa9af93f70e0944                                                    Работник торгового зала (г. Волхов)  https://hh.ru/vacancy/37489577?query=продавец   2020-06-29            19,800.00            26,400.00                  nan                  nan                                                                                               Волхов                                            Работут        37,489,577.00      RUR  hh.ru\n",
       "265  5efd957d6fa9af93f70e0945                Продавец-кассир (посёлок городского типа Белоярский, улица Ленина, 262)  https://hh.ru/vacancy/36468410?query=продавец   2020-06-08            18,000.00            23,000.00                61.41                61.41                                                                   поселок городского типа Белоярский                                Пятёрочка. Магазины        36,468,410.00      RUR  hh.ru\n",
       "266  5efd957d6fa9af93f70e0946                                          Продавец-кассир (Киселёвск, улица Чумова, 42)  https://hh.ru/vacancy/36809898?query=продавец   2020-06-17            18,396.00            24,142.00                86.70                86.70                                                                                            Киселёвск                                Пятёрочка. Магазины        36,809,898.00      RUR  hh.ru\n",
       "267  5efd957d6fa9af93f70e0947                                     Продавец-кассир (Балашиха, Комсомольская улица, 9)  https://hh.ru/vacancy/37651344?query=продавец   2020-06-24            26,000.00            30,000.00                  nan                  nan                                                     Новокосино, Балашиха, улица Комсомольская, 9                                    Пятёрочка. Магазины        37,651,344.00      RUR  hh.ru\n",
       "268  5efd957d6fa9af93f70e0948                                                           Продавец-кассир в Жилгородок  https://hh.ru/vacancy/37632898?query=продавец   2020-06-23            19,500.00            22,000.00                  nan                  nan                                                                     Балаково, улица Лобачевского, 56                       Гулливер, сеть супермаркетов        37,632,898.00      RUR  hh.ru\n",
       "269  5efd957d6fa9af93f70e0949                                         Специалист по замерам/Продавец ПВХ-конструкций  https://hh.ru/vacancy/37546016?query=продавец   2020-06-29            40,000.00                  nan                  nan                  nan                                                                   Волгоград, улица Рокоссовского, 54                                       ООО Окошкино        37,546,016.00      RUR  hh.ru\n",
       "270  5efd957d6fa9af93f70e094a                                             Продавец-кассир (Сочи, улица Гайдара, 20А)  https://hh.ru/vacancy/37650294?query=продавец   2020-06-24            20,000.00                  nan                  nan                  nan                                                                             Сочи, улица Гайдара, 20А                                Пятёрочка. Магазины        37,650,294.00      RUR  hh.ru\n",
       "271  5efd957d6fa9af93f70e094b                                                                Продавец-кассир (ТЦ КС)  https://hh.ru/vacancy/37451402?query=продавец   2020-06-11            25,000.00                  nan                61.38                61.38                                                                                            Челябинск                                    ZENDEN. Продажи        37,451,402.00      RUR  hh.ru\n",
       "272  5efd957d6fa9af93f70e094c                                                                   Продавец-консультант  https://hh.ru/vacancy/37428838?query=продавец   2020-06-10            30,000.00                  nan                  nan                  nan                                                                                            Пятигорск                          Ангстрем, Группа компаний        37,428,838.00      RUR  hh.ru\n",
       "273  5efd957d6fa9af93f70e094d                              Старший продавец-кассир (г. Красногорск ул.Комсомольская)  https://hh.ru/vacancy/37281162?query=продавец   2020-06-25            29,000.00                  nan                37.31                37.31                                                                                          Красногорск                           Подружка, сеть магазинов        37,281,162.00      RUR  hh.ru\n",
       "274  5efd957d6fa9af93f70e094e                                                                       Кассир, г. Пермь  https://hh.ru/vacancy/37101877?query=продавец   2020-06-23            18,900.00                  nan                  nan                  nan                                                                                                Пермь                                          Fix Price        37,101,877.00      RUR  hh.ru\n",
       "275  5efd957d6fa9af93f70e094f                                         Продавец-кассир (Дзержинск, площадь Ленина, 1)  https://hh.ru/vacancy/36468842?query=продавец   2020-06-24            18,000.00            24,000.00                43.45                43.45                                                                                            Дзержинск                                Пятёрочка. Магазины        36,468,842.00      RUR  hh.ru\n",
       "276  5efd957d6fa9af93f70e0950                              Продавец-кассир (Вичуга, Большая Пролетарская улица, 9/1)  https://hh.ru/vacancy/37625786?query=продавец   2020-06-23            17,000.00            28,000.00                  nan                  nan                                                              Вичуга, Большая Пролетарская улица, 9/1                                Пятёрочка. Магазины        37,625,786.00      RUR  hh.ru\n",
       "277  5efd957d6fa9af93f70e0951                                                                   Продавец-консультант  https://hh.ru/vacancy/37466683?query=продавец   2020-06-30            30,000.00            40,000.00                  nan                  nan                                                                                          Севастополь                    ИП Юрченко Алексей Владимирович        37,466,683.00      RUR  hh.ru\n",
       "278  5efd957d6fa9af93f70e0952                                          Продавец-консультант в магазин женской одежды  https://hh.ru/vacancy/37565408?query=продавец   2020-06-18            25,000.00                  nan                  nan                  nan                                                                                             Владимир                                              Evona        37,565,408.00      RUR  hh.ru\n",
       "279  5efd957d6fa9af93f70e0953                       Продавец-кассир (село Александров Гай, улица Красного Бойца, 28)  https://hh.ru/vacancy/37717066?query=продавец   2020-06-29            17,000.00            23,000.00                48.58                48.58                                                                                 село Александров Гай                                Пятёрочка. Магазины        37,717,066.00      RUR  hh.ru\n",
       "280  5efd957d6fa9af93f70e0954                                                                        Продавец-кассир  https://hh.ru/vacancy/37652718?query=продавец   2020-06-30            25,000.00                  nan                  nan                  nan                                                                                               Абакан                       ИП Мальцева Ирина Викторовна        37,652,718.00      RUR  hh.ru\n",
       "281  5efd957d6fa9af93f70e0955                                            Продавец-консультант в отдел женской одежды  https://hh.ru/vacancy/37682017?query=продавец   2020-06-25            25,000.00                  nan                  nan                  nan                                                                          Брянск, Объездная улица, 30                                              KEDMA        37,682,017.00      RUR  hh.ru\n",
       "282  5efd957d6fa9af93f70e0956                            Продавец-консультант в магазин обуви Rendez-Vous (ТЦ МЕГА )  https://hh.ru/vacancy/37492488?query=продавец   2020-06-29            60,000.00                  nan                  nan                  nan                                                                                               Кстово                                  Rendez-vous. Офис        37,492,488.00      RUR  hh.ru\n",
       "283  5efd957d6fa9af93f70e0957                                                  Продавец зоотоваров (Твой Дом Крокус)  https://hh.ru/vacancy/37481658?query=продавец   2020-06-15            33,000.00            40,000.00                  nan                  nan                                                                                          Красногорск                         Бетховен сеть зоомагазинов        37,481,658.00      RUR  hh.ru\n",
       "284  5efd957d6fa9af93f70e0958                                        Старший продавец магазина \"Магнит\" (п.Кедровый)  https://hh.ru/vacancy/37381465?query=продавец   2020-06-08            23,000.00            27,800.00                  nan                  nan                                                                        Красноярск, проспект Мира, 60                             МАГНИТ, Розничная сеть        37,381,465.00      RUR  hh.ru\n",
       "285  5efd957d6fa9af93f70e0959                                                          Продавец производства (Истра)  https://hh.ru/vacancy/37436379?query=продавец   2020-06-24            30,000.00            34,000.00                36.90                36.90                                                                                                Истра     Лента, федеральная розничная сеть, Гипермаркет        37,436,379.00      RUR  hh.ru\n",
       "286  5efd957d6fa9af93f70e095a                                                                   Менеджер по продажам  https://hh.ru/vacancy/36527495?query=продавец   2020-06-29            25,000.00                  nan                  nan                  nan                                                                                               Усинск                                            Связной        36,527,495.00      RUR  hh.ru\n",
       "287  5efd957d6fa9af93f70e095b                Продавец-кассир (посёлок городского типа Безенчук, Советская улица, 26)  https://hh.ru/vacancy/37338104?query=продавец   2020-06-20            17,000.00            20,000.00                  nan                  nan                                                                       пгт Безенчук, ул Советская, 26                                Пятёрочка. Магазины        37,338,104.00      RUR  hh.ru\n",
       "288  5efd957d6fa9af93f70e095c                                              Администратор магазина / Старший продавец  https://hh.ru/vacancy/12692567?query=продавец   2020-06-29                  nan            47,000.00                  nan                  nan                                                                                               Москва   Федеральная сеть книжных магазинов «Читай-город»        12,692,567.00      RUR  hh.ru\n",
       "289  5efd957d6fa9af93f70e095d                                               Продавец магазина \"Магнит \" (с. Ягодное)  https://hh.ru/vacancy/36884564?query=продавец   2020-06-29            20,400.00                  nan                  nan                  nan                                                                                             Тольятти                             МАГНИТ, Розничная сеть        36,884,564.00      RUR  hh.ru\n",
       "290  5efd957d6fa9af93f70e095e                                                                        Продавец-кассир  https://hh.ru/vacancy/37305295?query=продавец   2020-06-30            25,000.00                  nan                30.15                30.15                                                                                              Гатчина                                    ZENDEN. Продажи        37,305,295.00      RUR  hh.ru\n",
       "291  5efd957d6fa9af93f70e095f                                                   Продавец-кассир Гипермаркет \"Магнит\"  https://hh.ru/vacancy/37740499?query=продавец   2020-06-29            20,200.00            20,200.00                40.59                40.59                                                                                           Курганинск                             МАГНИТ, Розничная сеть        37,740,499.00      RUR  hh.ru\n",
       "292  5efd957d6fa9af93f70e0960                                                        Продавец-кассир (ТЦ Парк плаза)  https://hh.ru/vacancy/37740655?query=продавец   2020-06-29            28,000.00                  nan                  nan                  nan                                                                                         Электросталь          Компания «СПОРТМАСТЕР», Розничные продажи        37,740,655.00      RUR  hh.ru\n",
       "293  5efd957d6fa9af93f70e0961                                                          Продавец-кассир (левый берег)  https://hh.ru/vacancy/37395343?query=продавец   2020-06-30            23,000.00                  nan                  nan                  nan                                                                                           Красноярск                                       585, Золотой        37,395,343.00      RUR  hh.ru"
      ]
     },
     "execution_count": 186,
     "metadata": {},
     "output_type": "execute_result"
    }
   ],
   "source": [
    "# проверяем\n",
    "pd.DataFrame(hh_db.vacancy.find( {} ))"
   ]
  },
  {
   "cell_type": "code",
   "execution_count": 181,
   "metadata": {
    "scrolled": true
   },
   "outputs": [
    {
     "data": {
      "text/html": [
       "<div>\n",
       "<style scoped>\n",
       "    .dataframe tbody tr th:only-of-type {\n",
       "        vertical-align: middle;\n",
       "    }\n",
       "\n",
       "    .dataframe tbody tr th {\n",
       "        vertical-align: top;\n",
       "    }\n",
       "\n",
       "    .dataframe thead th {\n",
       "        text-align: right;\n",
       "    }\n",
       "</style>\n",
       "<table border=\"1\" class=\"dataframe\">\n",
       "  <thead>\n",
       "    <tr style=\"text-align: right;\">\n",
       "      <th></th>\n",
       "      <th>_id</th>\n",
       "      <th>name</th>\n",
       "      <th>link</th>\n",
       "      <th>publish_date</th>\n",
       "      <th>salary_min</th>\n",
       "      <th>salary_max</th>\n",
       "      <th>lat</th>\n",
       "      <th>lon</th>\n",
       "      <th>city</th>\n",
       "      <th>employer</th>\n",
       "      <th>id</th>\n",
       "      <th>currency</th>\n",
       "      <th>site</th>\n",
       "    </tr>\n",
       "  </thead>\n",
       "  <tbody>\n",
       "    <tr>\n",
       "      <td>0</td>\n",
       "      <td>5efd83e56fa9af93f70e0838</td>\n",
       "      <td>Продавец-кассир (Москва, Флотская улица, 50)</td>\n",
       "      <td>https://hh.ru/vacancy/36911843?query=продавец</td>\n",
       "      <td>2020-06-29</td>\n",
       "      <td>33,500.00</td>\n",
       "      <td>38,000.00</td>\n",
       "      <td>37.50</td>\n",
       "      <td>37.50</td>\n",
       "      <td>Москва</td>\n",
       "      <td>Пятёрочка. Магазины</td>\n",
       "      <td>36,911,843.00</td>\n",
       "      <td>RUR</td>\n",
       "      <td>hh.ru</td>\n",
       "    </tr>\n",
       "    <tr>\n",
       "      <td>1</td>\n",
       "      <td>5efd83e56fa9af93f70e0843</td>\n",
       "      <td>Продавец-Управляющий шоу-румом одежды</td>\n",
       "      <td>https://hh.ru/vacancy/37601249?query=продавец</td>\n",
       "      <td>2020-06-22</td>\n",
       "      <td>30,000.00</td>\n",
       "      <td>60,000.00</td>\n",
       "      <td>nan</td>\n",
       "      <td>nan</td>\n",
       "      <td>Тюмень, улица Герцена, 64</td>\n",
       "      <td>ИП Липихин Андрей Николаевич</td>\n",
       "      <td>37,601,249.00</td>\n",
       "      <td>RUR</td>\n",
       "      <td>hh.ru</td>\n",
       "    </tr>\n",
       "    <tr>\n",
       "      <td>2</td>\n",
       "      <td>5efd83e56fa9af93f70e0849</td>\n",
       "      <td>Продавец в бутик одежды Trussardi (Аутлет Новая Рига)</td>\n",
       "      <td>https://hh.ru/vacancy/37583639?query=продавец</td>\n",
       "      <td>2020-07-01</td>\n",
       "      <td>50,000.00</td>\n",
       "      <td>85,000.00</td>\n",
       "      <td>nan</td>\n",
       "      <td>nan</td>\n",
       "      <td>деревня Лапшинка</td>\n",
       "      <td>Т.Р.С. Дистрибьюшн</td>\n",
       "      <td>37,583,639.00</td>\n",
       "      <td>RUR</td>\n",
       "      <td>hh.ru</td>\n",
       "    </tr>\n",
       "    <tr>\n",
       "      <td>3</td>\n",
       "      <td>5efd83e56fa9af93f70e084d</td>\n",
       "      <td>Продавец-кассир (Нефтеюганск, с12)</td>\n",
       "      <td>https://hh.ru/vacancy/36469098?query=продавец</td>\n",
       "      <td>2020-06-24</td>\n",
       "      <td>30,000.00</td>\n",
       "      <td>36,000.00</td>\n",
       "      <td>72.70</td>\n",
       "      <td>72.70</td>\n",
       "      <td>Нефтеюганск</td>\n",
       "      <td>Пятёрочка. Магазины</td>\n",
       "      <td>36,469,098.00</td>\n",
       "      <td>RUR</td>\n",
       "      <td>hh.ru</td>\n",
       "    </tr>\n",
       "    <tr>\n",
       "      <td>4</td>\n",
       "      <td>5efd83e56fa9af93f70e0850</td>\n",
       "      <td>Продавец-дизайнер в мебельный салон \"Инфинити\" (ТЦ Гранд)</td>\n",
       "      <td>https://hh.ru/vacancy/37668466?query=продавец</td>\n",
       "      <td>2020-06-30</td>\n",
       "      <td>50,000.00</td>\n",
       "      <td>100,000.00</td>\n",
       "      <td>nan</td>\n",
       "      <td>nan</td>\n",
       "      <td>Планерная, Химки, улица Бутаково, 4</td>\n",
       "      <td>INFINITI-Мебель</td>\n",
       "      <td>37,668,466.00</td>\n",
       "      <td>RUR</td>\n",
       "      <td>hh.ru</td>\n",
       "    </tr>\n",
       "    <tr>\n",
       "      <td>5</td>\n",
       "      <td>5efd83e56fa9af93f70e0853</td>\n",
       "      <td>Продавец-консультант (м. новокосино)</td>\n",
       "      <td>https://hh.ru/vacancy/37574874?query=продавец</td>\n",
       "      <td>2020-07-01</td>\n",
       "      <td>48,000.00</td>\n",
       "      <td>80,000.00</td>\n",
       "      <td>nan</td>\n",
       "      <td>nan</td>\n",
       "      <td>Москва, Новокосино</td>\n",
       "      <td>Билайн</td>\n",
       "      <td>37,574,874.00</td>\n",
       "      <td>RUR</td>\n",
       "      <td>hh.ru</td>\n",
       "    </tr>\n",
       "    <tr>\n",
       "      <td>6</td>\n",
       "      <td>5efd83e56fa9af93f70e0854</td>\n",
       "      <td>Продавец-кассир (ТЦ \"Республика\")</td>\n",
       "      <td>https://hh.ru/vacancy/37325355?query=продавец</td>\n",
       "      <td>2020-06-26</td>\n",
       "      <td>25,500.00</td>\n",
       "      <td>25,500.00</td>\n",
       "      <td>nan</td>\n",
       "      <td>nan</td>\n",
       "      <td>Нижний Новгород</td>\n",
       "      <td>ПАО Детский Мир</td>\n",
       "      <td>37,325,355.00</td>\n",
       "      <td>RUR</td>\n",
       "      <td>hh.ru</td>\n",
       "    </tr>\n",
       "    <tr>\n",
       "      <td>7</td>\n",
       "      <td>5efd83e56fa9af93f70e0856</td>\n",
       "      <td>Продавец-кассир на АЗС (м. Академическая, Лесная, Финляндский вокзал, Ладожская)</td>\n",
       "      <td>https://hh.ru/vacancy/30386110?query=продавец</td>\n",
       "      <td>2020-06-29</td>\n",
       "      <td>27,000.00</td>\n",
       "      <td>30,000.00</td>\n",
       "      <td>nan</td>\n",
       "      <td>nan</td>\n",
       "      <td>Санкт-Петербург</td>\n",
       "      <td>Стопэкспресс</td>\n",
       "      <td>30,386,110.00</td>\n",
       "      <td>RUR</td>\n",
       "      <td>hh.ru</td>\n",
       "    </tr>\n",
       "    <tr>\n",
       "      <td>8</td>\n",
       "      <td>5efd83e56fa9af93f70e085a</td>\n",
       "      <td>Старший продавец магазина \"Магнит Косметик\" (ЗЖМ)</td>\n",
       "      <td>https://hh.ru/vacancy/37640042?query=продавец</td>\n",
       "      <td>2020-06-23</td>\n",
       "      <td>27,300.00</td>\n",
       "      <td>29,800.00</td>\n",
       "      <td>nan</td>\n",
       "      <td>nan</td>\n",
       "      <td>Ростов-на-Дону</td>\n",
       "      <td>МАГНИТ, Розничная сеть</td>\n",
       "      <td>37,640,042.00</td>\n",
       "      <td>RUR</td>\n",
       "      <td>hh.ru</td>\n",
       "    </tr>\n",
       "    <tr>\n",
       "      <td>9</td>\n",
       "      <td>5efd83e56fa9af93f70e085b</td>\n",
       "      <td>Продавец-консультант (Куйбышевский р-н, свет, электрика)</td>\n",
       "      <td>https://hh.ru/vacancy/37486090?query=продавец</td>\n",
       "      <td>2020-06-17</td>\n",
       "      <td>23,000.00</td>\n",
       "      <td>25,000.00</td>\n",
       "      <td>nan</td>\n",
       "      <td>nan</td>\n",
       "      <td>Новокузнецк, улица Орджоникидзе, 19</td>\n",
       "      <td>ООО Управляющая компания Техносистема</td>\n",
       "      <td>37,486,090.00</td>\n",
       "      <td>RUR</td>\n",
       "      <td>hh.ru</td>\n",
       "    </tr>\n",
       "    <tr>\n",
       "      <td>10</td>\n",
       "      <td>5efd83e56fa9af93f70e0862</td>\n",
       "      <td>Продавец-консультант г. Нижневартовск</td>\n",
       "      <td>https://hh.ru/vacancy/36910962?query=продавец</td>\n",
       "      <td>2020-06-17</td>\n",
       "      <td>29,000.00</td>\n",
       "      <td>32,500.00</td>\n",
       "      <td>nan</td>\n",
       "      <td>nan</td>\n",
       "      <td>Нижневартовск</td>\n",
       "      <td>Билайн</td>\n",
       "      <td>36,910,962.00</td>\n",
       "      <td>RUR</td>\n",
       "      <td>hh.ru</td>\n",
       "    </tr>\n",
       "    <tr>\n",
       "      <td>11</td>\n",
       "      <td>5efd83e56fa9af93f70e0863</td>\n",
       "      <td>Продавец-консультант мебели для кухонь (ТЦ Красная Площадь)</td>\n",
       "      <td>https://hh.ru/vacancy/37673975?query=продавец</td>\n",
       "      <td>2020-06-30</td>\n",
       "      <td>33,000.00</td>\n",
       "      <td>40,000.00</td>\n",
       "      <td>38.98</td>\n",
       "      <td>38.98</td>\n",
       "      <td>Краснодар</td>\n",
       "      <td>Hoff</td>\n",
       "      <td>37,673,975.00</td>\n",
       "      <td>RUR</td>\n",
       "      <td>hh.ru</td>\n",
       "    </tr>\n",
       "    <tr>\n",
       "      <td>12</td>\n",
       "      <td>5efd83e56fa9af93f70e0865</td>\n",
       "      <td>Продавец-консультант автозапчасти для автомобилей</td>\n",
       "      <td>https://hh.ru/vacancy/37573317?query=продавец</td>\n",
       "      <td>2020-06-19</td>\n",
       "      <td>23,000.00</td>\n",
       "      <td>42,000.00</td>\n",
       "      <td>nan</td>\n",
       "      <td>nan</td>\n",
       "      <td>Кемерово</td>\n",
       "      <td>ООО ППСибтрансресуср</td>\n",
       "      <td>37,573,317.00</td>\n",
       "      <td>RUR</td>\n",
       "      <td>hh.ru</td>\n",
       "    </tr>\n",
       "    <tr>\n",
       "      <td>13</td>\n",
       "      <td>5efd8a526fa9af93f70e086c</td>\n",
       "      <td>Продавец-кассир</td>\n",
       "      <td>https://hh.ru/vacancy/37533230?query=продавец</td>\n",
       "      <td>2020-06-30</td>\n",
       "      <td>24,000.00</td>\n",
       "      <td>26,000.00</td>\n",
       "      <td>nan</td>\n",
       "      <td>nan</td>\n",
       "      <td>Уфа</td>\n",
       "      <td>Улыбка радуги</td>\n",
       "      <td>37,533,230.00</td>\n",
       "      <td>RUR</td>\n",
       "      <td>hh.ru</td>\n",
       "    </tr>\n",
       "    <tr>\n",
       "      <td>14</td>\n",
       "      <td>5efd8a526fa9af93f70e0873</td>\n",
       "      <td>Продавец-консультант</td>\n",
       "      <td>https://hh.ru/vacancy/37597044?query=продавец</td>\n",
       "      <td>2020-06-21</td>\n",
       "      <td>90,000.00</td>\n",
       "      <td>165,000.00</td>\n",
       "      <td>nan</td>\n",
       "      <td>nan</td>\n",
       "      <td>Усть-Каменогорск</td>\n",
       "      <td>ИП Лесовская Д.В.</td>\n",
       "      <td>37,597,044.00</td>\n",
       "      <td>KZT</td>\n",
       "      <td>hh.ru</td>\n",
       "    </tr>\n",
       "    <tr>\n",
       "      <td>15</td>\n",
       "      <td>5efd8a526fa9af93f70e0875</td>\n",
       "      <td>Продавец-консультант</td>\n",
       "      <td>https://hh.ru/vacancy/37558963?query=продавец</td>\n",
       "      <td>2020-06-30</td>\n",
       "      <td>80,000.00</td>\n",
       "      <td>90,000.00</td>\n",
       "      <td>nan</td>\n",
       "      <td>nan</td>\n",
       "      <td>Теплый Стан, Москва, МКАД, 41-й километр, 4с13</td>\n",
       "      <td>ООО Большой мастер</td>\n",
       "      <td>37,558,963.00</td>\n",
       "      <td>RUR</td>\n",
       "      <td>hh.ru</td>\n",
       "    </tr>\n",
       "    <tr>\n",
       "      <td>16</td>\n",
       "      <td>5efd8a526fa9af93f70e0878</td>\n",
       "      <td>Продавец магазина Магнит (г. Иваново, ул. 23-я Линия)</td>\n",
       "      <td>https://hh.ru/vacancy/37318700?query=продавец</td>\n",
       "      <td>2020-06-03</td>\n",
       "      <td>25,000.00</td>\n",
       "      <td>31,300.00</td>\n",
       "      <td>nan</td>\n",
       "      <td>nan</td>\n",
       "      <td>Иваново (Ивановская область)</td>\n",
       "      <td>МАГНИТ, Розничная сеть</td>\n",
       "      <td>37,318,700.00</td>\n",
       "      <td>RUR</td>\n",
       "      <td>hh.ru</td>\n",
       "    </tr>\n",
       "    <tr>\n",
       "      <td>17</td>\n",
       "      <td>5efd8a526fa9af93f70e0879</td>\n",
       "      <td>Продавец-кассир (Шишкин Лес)</td>\n",
       "      <td>https://hh.ru/vacancy/36113748?query=продавец</td>\n",
       "      <td>2020-06-26</td>\n",
       "      <td>30,800.00</td>\n",
       "      <td>38,500.00</td>\n",
       "      <td>nan</td>\n",
       "      <td>nan</td>\n",
       "      <td>Шишкин Лес</td>\n",
       "      <td>МАГНИТ, Розничная сеть</td>\n",
       "      <td>36,113,748.00</td>\n",
       "      <td>RUR</td>\n",
       "      <td>hh.ru</td>\n",
       "    </tr>\n",
       "    <tr>\n",
       "      <td>18</td>\n",
       "      <td>5efd8a526fa9af93f70e087a</td>\n",
       "      <td>Продавец-кассир</td>\n",
       "      <td>https://hh.ru/vacancy/37531486?query=продавец</td>\n",
       "      <td>2020-06-30</td>\n",
       "      <td>35,000.00</td>\n",
       "      <td>35,000.00</td>\n",
       "      <td>37.68</td>\n",
       "      <td>37.68</td>\n",
       "      <td>Москва</td>\n",
       "      <td>Home market</td>\n",
       "      <td>37,531,486.00</td>\n",
       "      <td>RUR</td>\n",
       "      <td>hh.ru</td>\n",
       "    </tr>\n",
       "    <tr>\n",
       "      <td>19</td>\n",
       "      <td>5efd8a526fa9af93f70e087e</td>\n",
       "      <td>Продавец-кассир (Санкт-Петербург, улица Костюшко, 68)</td>\n",
       "      <td>https://hh.ru/vacancy/36927060?query=продавец</td>\n",
       "      <td>2020-06-30</td>\n",
       "      <td>27,000.00</td>\n",
       "      <td>33,000.00</td>\n",
       "      <td>30.31</td>\n",
       "      <td>30.31</td>\n",
       "      <td>Санкт-Петербур</td>\n",
       "      <td>Пятёрочка. Магазины</td>\n",
       "      <td>36,927,060.00</td>\n",
       "      <td>RUR</td>\n",
       "      <td>hh.ru</td>\n",
       "    </tr>\n",
       "    <tr>\n",
       "      <td>20</td>\n",
       "      <td>5efd8a526fa9af93f70e087f</td>\n",
       "      <td>Продавец - консультант в салон Мегафон</td>\n",
       "      <td>https://hh.ru/vacancy/37411832?query=продавец</td>\n",
       "      <td>2020-06-23</td>\n",
       "      <td>25,000.00</td>\n",
       "      <td>30,000.00</td>\n",
       "      <td>nan</td>\n",
       "      <td>nan</td>\n",
       "      <td>Киевский</td>\n",
       "      <td>Эра Людей</td>\n",
       "      <td>37,411,832.00</td>\n",
       "      <td>RUR</td>\n",
       "      <td>hh.ru</td>\n",
       "    </tr>\n",
       "    <tr>\n",
       "      <td>21</td>\n",
       "      <td>5efd8a526fa9af93f70e0881</td>\n",
       "      <td>Продавец магазина Магнит у дома</td>\n",
       "      <td>https://hh.ru/vacancy/36448912?query=продавец</td>\n",
       "      <td>2020-06-25</td>\n",
       "      <td>24,000.00</td>\n",
       "      <td>29,000.00</td>\n",
       "      <td>nan</td>\n",
       "      <td>nan</td>\n",
       "      <td>Строитель (Белгородская область)</td>\n",
       "      <td>МАГНИТ, Розничная сеть</td>\n",
       "      <td>36,448,912.00</td>\n",
       "      <td>RUR</td>\n",
       "      <td>hh.ru</td>\n",
       "    </tr>\n",
       "    <tr>\n",
       "      <td>22</td>\n",
       "      <td>5efd8a526fa9af93f70e0887</td>\n",
       "      <td>Продавец-кассир (Дубна, Тверская улица, 4А)</td>\n",
       "      <td>https://hh.ru/vacancy/36912915?query=продавец</td>\n",
       "      <td>2020-06-22</td>\n",
       "      <td>24,000.00</td>\n",
       "      <td>30,000.00</td>\n",
       "      <td>37.14</td>\n",
       "      <td>37.14</td>\n",
       "      <td>Дубна</td>\n",
       "      <td>Пятёрочка. Магазины</td>\n",
       "      <td>36,912,915.00</td>\n",
       "      <td>RUR</td>\n",
       "      <td>hh.ru</td>\n",
       "    </tr>\n",
       "    <tr>\n",
       "      <td>23</td>\n",
       "      <td>5efd8a526fa9af93f70e0889</td>\n",
       "      <td>Продавец-консультант</td>\n",
       "      <td>https://hh.ru/vacancy/37599942?query=продавец</td>\n",
       "      <td>2020-06-22</td>\n",
       "      <td>150,000.00</td>\n",
       "      <td>250,000.00</td>\n",
       "      <td>nan</td>\n",
       "      <td>nan</td>\n",
       "      <td>Нур-Султан</td>\n",
       "      <td>ТОО МЕЧТА, ТМ (Мечта Маркет, ТОО)</td>\n",
       "      <td>37,599,942.00</td>\n",
       "      <td>KZT</td>\n",
       "      <td>hh.ru</td>\n",
       "    </tr>\n",
       "    <tr>\n",
       "      <td>24</td>\n",
       "      <td>5efd8a526fa9af93f70e0890</td>\n",
       "      <td>Продавец в салон МТС (Петрозаводск)</td>\n",
       "      <td>https://hh.ru/vacancy/37634150?query=продавец</td>\n",
       "      <td>2020-07-01</td>\n",
       "      <td>29,500.00</td>\n",
       "      <td>40,000.00</td>\n",
       "      <td>34.37</td>\n",
       "      <td>34.37</td>\n",
       "      <td>Петрозаводск</td>\n",
       "      <td>Розничная сеть МТС</td>\n",
       "      <td>37,634,150.00</td>\n",
       "      <td>RUR</td>\n",
       "      <td>hh.ru</td>\n",
       "    </tr>\n",
       "    <tr>\n",
       "      <td>25</td>\n",
       "      <td>5efd8a526fa9af93f70e0891</td>\n",
       "      <td>Продавец-кассир (Лангепас, улица Ленина, 86А)</td>\n",
       "      <td>https://hh.ru/vacancy/37314882?query=продавец</td>\n",
       "      <td>2020-06-18</td>\n",
       "      <td>30,000.00</td>\n",
       "      <td>36,000.00</td>\n",
       "      <td>75.19</td>\n",
       "      <td>75.19</td>\n",
       "      <td>Лангепас</td>\n",
       "      <td>Пятёрочка. Магазины</td>\n",
       "      <td>37,314,882.00</td>\n",
       "      <td>RUR</td>\n",
       "      <td>hh.ru</td>\n",
       "    </tr>\n",
       "    <tr>\n",
       "      <td>26</td>\n",
       "      <td>5efd8a526fa9af93f70e0896</td>\n",
       "      <td>Продавец в магазин кальянов в Южно-Сахалинске</td>\n",
       "      <td>https://hh.ru/vacancy/37335980?query=продавец</td>\n",
       "      <td>2020-06-04</td>\n",
       "      <td>40,000.00</td>\n",
       "      <td>50,000.00</td>\n",
       "      <td>nan</td>\n",
       "      <td>nan</td>\n",
       "      <td>Южно-Сахалинск</td>\n",
       "      <td>ООО Алибаба</td>\n",
       "      <td>37,335,980.00</td>\n",
       "      <td>RUR</td>\n",
       "      <td>hh.ru</td>\n",
       "    </tr>\n",
       "    <tr>\n",
       "      <td>27</td>\n",
       "      <td>5efd957d6fa9af93f70e089d</td>\n",
       "      <td>Продавец-консультант (м.Беговая)</td>\n",
       "      <td>https://hh.ru/vacancy/37222956?query=продавец</td>\n",
       "      <td>2020-07-02</td>\n",
       "      <td>45,000.00</td>\n",
       "      <td>80,000.00</td>\n",
       "      <td>nan</td>\n",
       "      <td>nan</td>\n",
       "      <td>Беговая, Москва, Беговая улица, 2</td>\n",
       "      <td>ЗАО ЧИП и ДИП</td>\n",
       "      <td>37,222,956.00</td>\n",
       "      <td>RUR</td>\n",
       "      <td>hh.ru</td>\n",
       "    </tr>\n",
       "    <tr>\n",
       "      <td>28</td>\n",
       "      <td>5efd957d6fa9af93f70e089e</td>\n",
       "      <td>Продавец-консультант (м.Выхино)</td>\n",
       "      <td>https://hh.ru/vacancy/37608536?query=продавец</td>\n",
       "      <td>2020-07-01</td>\n",
       "      <td>48,000.00</td>\n",
       "      <td>60,000.00</td>\n",
       "      <td>nan</td>\n",
       "      <td>nan</td>\n",
       "      <td>Москва</td>\n",
       "      <td>Билайн</td>\n",
       "      <td>37,608,536.00</td>\n",
       "      <td>RUR</td>\n",
       "      <td>hh.ru</td>\n",
       "    </tr>\n",
       "    <tr>\n",
       "      <td>29</td>\n",
       "      <td>5efd957d6fa9af93f70e089f</td>\n",
       "      <td>Продавец-кассир (Мурманск, Кольский проспект, 80)</td>\n",
       "      <td>https://hh.ru/vacancy/36926808?query=продавец</td>\n",
       "      <td>2020-06-14</td>\n",
       "      <td>25,000.00</td>\n",
       "      <td>31,000.00</td>\n",
       "      <td>33.11</td>\n",
       "      <td>33.11</td>\n",
       "      <td>Мурманск</td>\n",
       "      <td>Пятёрочка. Магазины</td>\n",
       "      <td>36,926,808.00</td>\n",
       "      <td>RUR</td>\n",
       "      <td>hh.ru</td>\n",
       "    </tr>\n",
       "    <tr>\n",
       "      <td>30</td>\n",
       "      <td>5efd957d6fa9af93f70e08a1</td>\n",
       "      <td>Продавец-кассир (Руза, улица Солнцева, 20)</td>\n",
       "      <td>https://hh.ru/vacancy/36913197?query=продавец</td>\n",
       "      <td>2020-06-13</td>\n",
       "      <td>30,000.00</td>\n",
       "      <td>35,000.00</td>\n",
       "      <td>36.19</td>\n",
       "      <td>36.19</td>\n",
       "      <td>Руза</td>\n",
       "      <td>Пятёрочка. Магазины</td>\n",
       "      <td>36,913,197.00</td>\n",
       "      <td>RUR</td>\n",
       "      <td>hh.ru</td>\n",
       "    </tr>\n",
       "    <tr>\n",
       "      <td>31</td>\n",
       "      <td>5efd957d6fa9af93f70e08a8</td>\n",
       "      <td>Продавец-консультант в мебельный салон (ст. м. Девяткино)</td>\n",
       "      <td>https://hh.ru/vacancy/37167239?query=продавец</td>\n",
       "      <td>2020-06-26</td>\n",
       "      <td>30,000.00</td>\n",
       "      <td>80,000.00</td>\n",
       "      <td>nan</td>\n",
       "      <td>nan</td>\n",
       "      <td>Мурино</td>\n",
       "      <td>ООО Торговый дом Лазурит</td>\n",
       "      <td>37,167,239.00</td>\n",
       "      <td>RUR</td>\n",
       "      <td>hh.ru</td>\n",
       "    </tr>\n",
       "    <tr>\n",
       "      <td>32</td>\n",
       "      <td>5efd957d6fa9af93f70e08ac</td>\n",
       "      <td>Продавец-кассир (Ликино-Дулёво, Коммунистическая улица, 11)</td>\n",
       "      <td>https://hh.ru/vacancy/37125777?query=продавец</td>\n",
       "      <td>2020-06-16</td>\n",
       "      <td>25,000.00</td>\n",
       "      <td>28,000.00</td>\n",
       "      <td>38.96</td>\n",
       "      <td>38.96</td>\n",
       "      <td>Ликино-Дулёво</td>\n",
       "      <td>Пятёрочка. Магазины</td>\n",
       "      <td>37,125,777.00</td>\n",
       "      <td>RUR</td>\n",
       "      <td>hh.ru</td>\n",
       "    </tr>\n",
       "    <tr>\n",
       "      <td>33</td>\n",
       "      <td>5efd957d6fa9af93f70e08b2</td>\n",
       "      <td>Продавец-консультант</td>\n",
       "      <td>https://hh.ru/vacancy/36812861?query=продавец</td>\n",
       "      <td>2020-06-30</td>\n",
       "      <td>26,000.00</td>\n",
       "      <td>60,000.00</td>\n",
       "      <td>nan</td>\n",
       "      <td>nan</td>\n",
       "      <td>Луга, проспект Урицкого, 77к4</td>\n",
       "      <td>Сеть магазинов цифровой и бытовой техники DNS</td>\n",
       "      <td>36,812,861.00</td>\n",
       "      <td>RUR</td>\n",
       "      <td>hh.ru</td>\n",
       "    </tr>\n",
       "    <tr>\n",
       "      <td>34</td>\n",
       "      <td>5efd957d6fa9af93f70e08b8</td>\n",
       "      <td>Продавец-универсал (Проводник, Коломенский р-н)</td>\n",
       "      <td>https://hh.ru/vacancy/37401010?query=продавец</td>\n",
       "      <td>2020-06-22</td>\n",
       "      <td>30,800.00</td>\n",
       "      <td>38,500.00</td>\n",
       "      <td>nan</td>\n",
       "      <td>nan</td>\n",
       "      <td>Коломна</td>\n",
       "      <td>МАГНИТ, Розничная сеть</td>\n",
       "      <td>37,401,010.00</td>\n",
       "      <td>RUR</td>\n",
       "      <td>hh.ru</td>\n",
       "    </tr>\n",
       "    <tr>\n",
       "      <td>35</td>\n",
       "      <td>5efd957d6fa9af93f70e08b9</td>\n",
       "      <td>Продавец-консультант Мегафон</td>\n",
       "      <td>https://hh.ru/vacancy/36880065?query=продавец</td>\n",
       "      <td>2020-06-17</td>\n",
       "      <td>25,000.00</td>\n",
       "      <td>30,000.00</td>\n",
       "      <td>nan</td>\n",
       "      <td>nan</td>\n",
       "      <td>Талдом</td>\n",
       "      <td>Эра Людей</td>\n",
       "      <td>36,880,065.00</td>\n",
       "      <td>RUR</td>\n",
       "      <td>hh.ru</td>\n",
       "    </tr>\n",
       "    <tr>\n",
       "      <td>36</td>\n",
       "      <td>5efd957d6fa9af93f70e08bf</td>\n",
       "      <td>Продавец-консультант в ТЦ Зеленопарк</td>\n",
       "      <td>https://hh.ru/vacancy/37657914?query=продавец</td>\n",
       "      <td>2020-06-24</td>\n",
       "      <td>40,000.00</td>\n",
       "      <td>60,000.00</td>\n",
       "      <td>37.26</td>\n",
       "      <td>37.26</td>\n",
       "      <td>рабочий посёлок Ржавки</td>\n",
       "      <td>Ангстрем, Группа компаний</td>\n",
       "      <td>37,657,914.00</td>\n",
       "      <td>RUR</td>\n",
       "      <td>hh.ru</td>\n",
       "    </tr>\n",
       "    <tr>\n",
       "      <td>37</td>\n",
       "      <td>5efd957d6fa9af93f70e08c5</td>\n",
       "      <td>Специалист офиса продаж, г. Чебаркуль</td>\n",
       "      <td>https://hh.ru/vacancy/37711531?query=продавец</td>\n",
       "      <td>2020-06-27</td>\n",
       "      <td>25,000.00</td>\n",
       "      <td>30,000.00</td>\n",
       "      <td>nan</td>\n",
       "      <td>nan</td>\n",
       "      <td>Чебаркуль</td>\n",
       "      <td>Розничная сеть МТС</td>\n",
       "      <td>37,711,531.00</td>\n",
       "      <td>RUR</td>\n",
       "      <td>hh.ru</td>\n",
       "    </tr>\n",
       "    <tr>\n",
       "      <td>38</td>\n",
       "      <td>5efd957d6fa9af93f70e08c7</td>\n",
       "      <td>Старший продавец-кассир (Пермь, улица Героев Хасана, 100)</td>\n",
       "      <td>https://hh.ru/vacancy/36468404?query=продавец</td>\n",
       "      <td>2020-06-09</td>\n",
       "      <td>25,000.00</td>\n",
       "      <td>29,000.00</td>\n",
       "      <td>56.26</td>\n",
       "      <td>56.26</td>\n",
       "      <td>Пермь</td>\n",
       "      <td>Пятёрочка. Магазины</td>\n",
       "      <td>36,468,404.00</td>\n",
       "      <td>RUR</td>\n",
       "      <td>hh.ru</td>\n",
       "    </tr>\n",
       "    <tr>\n",
       "      <td>39</td>\n",
       "      <td>5efd957d6fa9af93f70e08cc</td>\n",
       "      <td>Продавец консультант спортивного питания</td>\n",
       "      <td>https://hh.ru/vacancy/37730358?query=продавец</td>\n",
       "      <td>2020-06-29</td>\n",
       "      <td>25,000.00</td>\n",
       "      <td>35,000.00</td>\n",
       "      <td>nan</td>\n",
       "      <td>nan</td>\n",
       "      <td>Краснодар</td>\n",
       "      <td>Рус спорт</td>\n",
       "      <td>37,730,358.00</td>\n",
       "      <td>RUR</td>\n",
       "      <td>hh.ru</td>\n",
       "    </tr>\n",
       "    <tr>\n",
       "      <td>40</td>\n",
       "      <td>5efd957d6fa9af93f70e08cd</td>\n",
       "      <td>Продавец-консультант кухонной мебели</td>\n",
       "      <td>https://hh.ru/vacancy/35604738?query=продавец</td>\n",
       "      <td>2020-06-30</td>\n",
       "      <td>23,000.00</td>\n",
       "      <td>50,000.00</td>\n",
       "      <td>nan</td>\n",
       "      <td>nan</td>\n",
       "      <td>Калининград</td>\n",
       "      <td>ООО Мебельная компания</td>\n",
       "      <td>35,604,738.00</td>\n",
       "      <td>RUR</td>\n",
       "      <td>hh.ru</td>\n",
       "    </tr>\n",
       "    <tr>\n",
       "      <td>41</td>\n",
       "      <td>5efd957d6fa9af93f70e08cf</td>\n",
       "      <td>Продавец-консультант</td>\n",
       "      <td>https://hh.ru/vacancy/37456429?query=продавец</td>\n",
       "      <td>2020-06-11</td>\n",
       "      <td>120,000.00</td>\n",
       "      <td>180,000.00</td>\n",
       "      <td>nan</td>\n",
       "      <td>nan</td>\n",
       "      <td>Усть-Каменогорск</td>\n",
       "      <td>ТОО ТЕХНИТЭЛ</td>\n",
       "      <td>37,456,429.00</td>\n",
       "      <td>KZT</td>\n",
       "      <td>hh.ru</td>\n",
       "    </tr>\n",
       "    <tr>\n",
       "      <td>42</td>\n",
       "      <td>5efd957d6fa9af93f70e08d4</td>\n",
       "      <td>Продавец-кассир (Новосибирск, улица Кирова, 317)</td>\n",
       "      <td>https://hh.ru/vacancy/36896005?query=продавец</td>\n",
       "      <td>2020-06-27</td>\n",
       "      <td>25,300.00</td>\n",
       "      <td>31,900.00</td>\n",
       "      <td>82.97</td>\n",
       "      <td>82.97</td>\n",
       "      <td>Новосибирск</td>\n",
       "      <td>Пятёрочка. Магазины</td>\n",
       "      <td>36,896,005.00</td>\n",
       "      <td>RUR</td>\n",
       "      <td>hh.ru</td>\n",
       "    </tr>\n",
       "    <tr>\n",
       "      <td>43</td>\n",
       "      <td>5efd957d6fa9af93f70e08d5</td>\n",
       "      <td>Продавец недвижимости</td>\n",
       "      <td>https://hh.ru/vacancy/31920620?query=продавец</td>\n",
       "      <td>2020-07-02</td>\n",
       "      <td>100,000.00</td>\n",
       "      <td>250,000.00</td>\n",
       "      <td>nan</td>\n",
       "      <td>nan</td>\n",
       "      <td>Хабаровск, улица Дикопольцева, 26</td>\n",
       "      <td>Компания Новый Атлант</td>\n",
       "      <td>31,920,620.00</td>\n",
       "      <td>RUR</td>\n",
       "      <td>hh.ru</td>\n",
       "    </tr>\n",
       "    <tr>\n",
       "      <td>44</td>\n",
       "      <td>5efd957d6fa9af93f70e08d8</td>\n",
       "      <td>Продавец-консультант (ТЦ Спектр)</td>\n",
       "      <td>https://hh.ru/vacancy/37738508?query=продавец</td>\n",
       "      <td>2020-06-29</td>\n",
       "      <td>35,000.00</td>\n",
       "      <td>60,000.00</td>\n",
       "      <td>nan</td>\n",
       "      <td>nan</td>\n",
       "      <td>Можайск, улица Мира, 2</td>\n",
       "      <td>Сеть магазинов цифровой и бытовой техники DNS</td>\n",
       "      <td>37,738,508.00</td>\n",
       "      <td>RUR</td>\n",
       "      <td>hh.ru</td>\n",
       "    </tr>\n",
       "    <tr>\n",
       "      <td>45</td>\n",
       "      <td>5efd957d6fa9af93f70e08e0</td>\n",
       "      <td>Продавец-кассир (Казань, улица Академика Сахарова, 19)</td>\n",
       "      <td>https://hh.ru/vacancy/37650976?query=продавец</td>\n",
       "      <td>2020-06-24</td>\n",
       "      <td>25,000.00</td>\n",
       "      <td>27,700.00</td>\n",
       "      <td>nan</td>\n",
       "      <td>nan</td>\n",
       "      <td>Проспект Победы, Горки, Аметьево, г Казань, ул Академика Сахарова, 19</td>\n",
       "      <td>Пятёрочка. Магазины</td>\n",
       "      <td>37,650,976.00</td>\n",
       "      <td>RUR</td>\n",
       "      <td>hh.ru</td>\n",
       "    </tr>\n",
       "    <tr>\n",
       "      <td>46</td>\n",
       "      <td>5efd957d6fa9af93f70e08e5</td>\n",
       "      <td>Продавец-кассир (Сочи, улица Красных Партизан, 3/1)</td>\n",
       "      <td>https://hh.ru/vacancy/37650073?query=продавец</td>\n",
       "      <td>2020-06-24</td>\n",
       "      <td>30,000.00</td>\n",
       "      <td>41,000.00</td>\n",
       "      <td>nan</td>\n",
       "      <td>nan</td>\n",
       "      <td>Сочи, улица Красных Партизан, 3/1</td>\n",
       "      <td>Пятёрочка. Магазины</td>\n",
       "      <td>37,650,073.00</td>\n",
       "      <td>RUR</td>\n",
       "      <td>hh.ru</td>\n",
       "    </tr>\n",
       "    <tr>\n",
       "      <td>47</td>\n",
       "      <td>5efd957d6fa9af93f70e08e7</td>\n",
       "      <td>Продавец</td>\n",
       "      <td>https://hh.ru/vacancy/36624925?query=продавец</td>\n",
       "      <td>2020-06-26</td>\n",
       "      <td>27,200.00</td>\n",
       "      <td>34,000.00</td>\n",
       "      <td>nan</td>\n",
       "      <td>nan</td>\n",
       "      <td></td>\n",
       "      <td>МАГНИТ, Розничная сеть</td>\n",
       "      <td>36,624,925.00</td>\n",
       "      <td>RUR</td>\n",
       "      <td>hh.ru</td>\n",
       "    </tr>\n",
       "    <tr>\n",
       "      <td>48</td>\n",
       "      <td>5efd957d6fa9af93f70e08f1</td>\n",
       "      <td>Продавец магазина Магнит</td>\n",
       "      <td>https://hh.ru/vacancy/36707219?query=продавец</td>\n",
       "      <td>2020-07-02</td>\n",
       "      <td>23,100.00</td>\n",
       "      <td>23,100.00</td>\n",
       "      <td>nan</td>\n",
       "      <td>nan</td>\n",
       "      <td>Майма</td>\n",
       "      <td>МАГНИТ, Розничная сеть</td>\n",
       "      <td>36,707,219.00</td>\n",
       "      <td>RUR</td>\n",
       "      <td>hh.ru</td>\n",
       "    </tr>\n",
       "    <tr>\n",
       "      <td>49</td>\n",
       "      <td>5efd957d6fa9af93f70e08f6</td>\n",
       "      <td>Продавец-кассир (Казань, улица Мазита Гафури, 9к1)</td>\n",
       "      <td>https://hh.ru/vacancy/36496348?query=продавец</td>\n",
       "      <td>2020-06-08</td>\n",
       "      <td>25,000.00</td>\n",
       "      <td>27,700.00</td>\n",
       "      <td>49.10</td>\n",
       "      <td>49.10</td>\n",
       "      <td>Казань</td>\n",
       "      <td>Пятёрочка. Магазины</td>\n",
       "      <td>36,496,348.00</td>\n",
       "      <td>RUR</td>\n",
       "      <td>hh.ru</td>\n",
       "    </tr>\n",
       "    <tr>\n",
       "      <td>50</td>\n",
       "      <td>5efd957d6fa9af93f70e08f9</td>\n",
       "      <td>Продавец-консультант</td>\n",
       "      <td>https://hh.ru/vacancy/37660348?query=продавец</td>\n",
       "      <td>2020-07-02</td>\n",
       "      <td>25,000.00</td>\n",
       "      <td>50,000.00</td>\n",
       "      <td>nan</td>\n",
       "      <td>nan</td>\n",
       "      <td>Пятигорск, улица Бунимовича, 7</td>\n",
       "      <td>Золотая Подкова</td>\n",
       "      <td>37,660,348.00</td>\n",
       "      <td>RUR</td>\n",
       "      <td>hh.ru</td>\n",
       "    </tr>\n",
       "    <tr>\n",
       "      <td>51</td>\n",
       "      <td>5efd957d6fa9af93f70e08fe</td>\n",
       "      <td>Продавец-консультант</td>\n",
       "      <td>https://hh.ru/vacancy/37455590?query=продавец</td>\n",
       "      <td>2020-06-11</td>\n",
       "      <td>28,000.00</td>\n",
       "      <td>35,000.00</td>\n",
       "      <td>nan</td>\n",
       "      <td>nan</td>\n",
       "      <td>Подольск, Подольск, улица Кирова, 56</td>\n",
       "      <td>Уютный Дом (ИП Карпузов Сергей Борисович)</td>\n",
       "      <td>37,455,590.00</td>\n",
       "      <td>RUR</td>\n",
       "      <td>hh.ru</td>\n",
       "    </tr>\n",
       "    <tr>\n",
       "      <td>52</td>\n",
       "      <td>5efd957d6fa9af93f70e0902</td>\n",
       "      <td>Продавец-консультант (ТЦ Лента)</td>\n",
       "      <td>https://hh.ru/vacancy/37559249?query=продавец</td>\n",
       "      <td>2020-06-18</td>\n",
       "      <td>35,000.00</td>\n",
       "      <td>60,000.00</td>\n",
       "      <td>nan</td>\n",
       "      <td>nan</td>\n",
       "      <td>Коломна, улица Астахова, 4к2</td>\n",
       "      <td>Сеть магазинов цифровой и бытовой техники DNS</td>\n",
       "      <td>37,559,249.00</td>\n",
       "      <td>RUR</td>\n",
       "      <td>hh.ru</td>\n",
       "    </tr>\n",
       "    <tr>\n",
       "      <td>53</td>\n",
       "      <td>5efd957d6fa9af93f70e0908</td>\n",
       "      <td>Продавец-кассир</td>\n",
       "      <td>https://hh.ru/vacancy/37657485?query=продавец</td>\n",
       "      <td>2020-06-24</td>\n",
       "      <td>40,000.00</td>\n",
       "      <td>40,000.00</td>\n",
       "      <td>nan</td>\n",
       "      <td>nan</td>\n",
       "      <td>Воронеж</td>\n",
       "      <td>Группа Компаний «GreenSpark»</td>\n",
       "      <td>37,657,485.00</td>\n",
       "      <td>RUR</td>\n",
       "      <td>hh.ru</td>\n",
       "    </tr>\n",
       "    <tr>\n",
       "      <td>54</td>\n",
       "      <td>5efd957d6fa9af93f70e090a</td>\n",
       "      <td>Продавец-универсал (Зеленый)</td>\n",
       "      <td>https://hh.ru/vacancy/37084083?query=продавец</td>\n",
       "      <td>2020-06-22</td>\n",
       "      <td>30,800.00</td>\n",
       "      <td>38,500.00</td>\n",
       "      <td>nan</td>\n",
       "      <td>nan</td>\n",
       "      <td>Ногинск</td>\n",
       "      <td>МАГНИТ, Розничная сеть</td>\n",
       "      <td>37,084,083.00</td>\n",
       "      <td>RUR</td>\n",
       "      <td>hh.ru</td>\n",
       "    </tr>\n",
       "    <tr>\n",
       "      <td>55</td>\n",
       "      <td>5efd957d6fa9af93f70e090b</td>\n",
       "      <td>Продавец-консультант ЛКМ (Леруа Мерлен/ Варшавское)</td>\n",
       "      <td>https://hh.ru/vacancy/37493224?query=продавец</td>\n",
       "      <td>2020-06-26</td>\n",
       "      <td>35,000.00</td>\n",
       "      <td>45,000.00</td>\n",
       "      <td>nan</td>\n",
       "      <td>nan</td>\n",
       "      <td>Аннино, Бульвар Дмитрия Донского, Битца, Ленинский городской округ, Варшавское шоссе, 21-й килом...</td>\n",
       "      <td>AROUND, Группа компаний</td>\n",
       "      <td>37,493,224.00</td>\n",
       "      <td>RUR</td>\n",
       "      <td>hh.ru</td>\n",
       "    </tr>\n",
       "    <tr>\n",
       "      <td>56</td>\n",
       "      <td>5efd957d6fa9af93f70e090c</td>\n",
       "      <td>Продавец-кассир</td>\n",
       "      <td>https://hh.ru/vacancy/36385293?query=продавец</td>\n",
       "      <td>2020-06-26</td>\n",
       "      <td>28,500.00</td>\n",
       "      <td>42,000.00</td>\n",
       "      <td>nan</td>\n",
       "      <td>nan</td>\n",
       "      <td>Москва, Кочновский проезд, 5с7</td>\n",
       "      <td>ООО Военторг - Ритейл</td>\n",
       "      <td>36,385,293.00</td>\n",
       "      <td>RUR</td>\n",
       "      <td>hh.ru</td>\n",
       "    </tr>\n",
       "    <tr>\n",
       "      <td>57</td>\n",
       "      <td>5efd957d6fa9af93f70e0911</td>\n",
       "      <td>Продавец-консультант (Санкт-Петербург, Лыжный пер, 6)</td>\n",
       "      <td>https://hh.ru/vacancy/36847416?query=продавец</td>\n",
       "      <td>2020-06-24</td>\n",
       "      <td>25,000.00</td>\n",
       "      <td>30,293.00</td>\n",
       "      <td>nan</td>\n",
       "      <td>nan</td>\n",
       "      <td>г Санкт-Петербург, Лыжный пер, 6</td>\n",
       "      <td>Перекресток</td>\n",
       "      <td>36,847,416.00</td>\n",
       "      <td>RUR</td>\n",
       "      <td>hh.ru</td>\n",
       "    </tr>\n",
       "    <tr>\n",
       "      <td>58</td>\n",
       "      <td>5efd957d6fa9af93f70e0912</td>\n",
       "      <td>Кассир (Новое Лапино)</td>\n",
       "      <td>https://hh.ru/vacancy/37734031?query=продавец</td>\n",
       "      <td>2020-06-29</td>\n",
       "      <td>40,000.00</td>\n",
       "      <td>45,000.00</td>\n",
       "      <td>37.14</td>\n",
       "      <td>37.14</td>\n",
       "      <td>деревня Лапино</td>\n",
       "      <td>ВкусВилл</td>\n",
       "      <td>37,734,031.00</td>\n",
       "      <td>RUR</td>\n",
       "      <td>hh.ru</td>\n",
       "    </tr>\n",
       "    <tr>\n",
       "      <td>59</td>\n",
       "      <td>5efd957d6fa9af93f70e0917</td>\n",
       "      <td>Продавец - консультант (ТЦ Взлет Гипер)</td>\n",
       "      <td>https://hh.ru/vacancy/37423154?query=продавец</td>\n",
       "      <td>2020-06-22</td>\n",
       "      <td>42,000.00</td>\n",
       "      <td>60,000.00</td>\n",
       "      <td>nan</td>\n",
       "      <td>nan</td>\n",
       "      <td>Жуковский, улица Гагарина, 24</td>\n",
       "      <td>Сеть магазинов цифровой и бытовой техники DNS</td>\n",
       "      <td>37,423,154.00</td>\n",
       "      <td>RUR</td>\n",
       "      <td>hh.ru</td>\n",
       "    </tr>\n",
       "    <tr>\n",
       "      <td>60</td>\n",
       "      <td>5efd957d6fa9af93f70e091c</td>\n",
       "      <td>Продавец-консультант</td>\n",
       "      <td>https://hh.ru/vacancy/37025818?query=продавец</td>\n",
       "      <td>2020-06-17</td>\n",
       "      <td>90,000.00</td>\n",
       "      <td>200,000.00</td>\n",
       "      <td>nan</td>\n",
       "      <td>nan</td>\n",
       "      <td>Актобе</td>\n",
       "      <td>АО Сәтті Жұлдыз</td>\n",
       "      <td>37,025,818.00</td>\n",
       "      <td>RUR</td>\n",
       "      <td>hh.ru</td>\n",
       "    </tr>\n",
       "    <tr>\n",
       "      <td>61</td>\n",
       "      <td>5efd957d6fa9af93f70e091d</td>\n",
       "      <td>Продавец-кассир (рабочий посёлок Решетниково, проезд ОПМС-1, 14)</td>\n",
       "      <td>https://hh.ru/vacancy/36913727?query=продавец</td>\n",
       "      <td>2020-06-13</td>\n",
       "      <td>23,000.00</td>\n",
       "      <td>28,000.00</td>\n",
       "      <td>36.56</td>\n",
       "      <td>36.56</td>\n",
       "      <td>рабочий посёлок Решетниково</td>\n",
       "      <td>Пятёрочка. Магазины</td>\n",
       "      <td>36,913,727.00</td>\n",
       "      <td>RUR</td>\n",
       "      <td>hh.ru</td>\n",
       "    </tr>\n",
       "    <tr>\n",
       "      <td>62</td>\n",
       "      <td>5efd957d6fa9af93f70e091e</td>\n",
       "      <td>Продавец-консультант ( ДК Синтезспирт, ХБК)</td>\n",
       "      <td>https://hh.ru/vacancy/37562427?query=продавец</td>\n",
       "      <td>2020-06-18</td>\n",
       "      <td>27,000.00</td>\n",
       "      <td>35,000.00</td>\n",
       "      <td>nan</td>\n",
       "      <td>nan</td>\n",
       "      <td>Уфа</td>\n",
       "      <td>Сеть магазинов цифровой и бытовой техники DNS</td>\n",
       "      <td>37,562,427.00</td>\n",
       "      <td>RUR</td>\n",
       "      <td>hh.ru</td>\n",
       "    </tr>\n",
       "    <tr>\n",
       "      <td>63</td>\n",
       "      <td>5efd957d6fa9af93f70e0920</td>\n",
       "      <td>Продавец (вахта в Нововоронеж)</td>\n",
       "      <td>https://hh.ru/vacancy/37582889?query=продавец</td>\n",
       "      <td>2020-06-19</td>\n",
       "      <td>35,000.00</td>\n",
       "      <td>50,000.00</td>\n",
       "      <td>nan</td>\n",
       "      <td>nan</td>\n",
       "      <td>Острогожск</td>\n",
       "      <td>ХМЕЛЬНАЯ МИЛЯ</td>\n",
       "      <td>37,582,889.00</td>\n",
       "      <td>RUR</td>\n",
       "      <td>hh.ru</td>\n",
       "    </tr>\n",
       "    <tr>\n",
       "      <td>64</td>\n",
       "      <td>5efd957d6fa9af93f70e0921</td>\n",
       "      <td>Продавец-кассир (Мурманск, улица Свердлова, 47)</td>\n",
       "      <td>https://hh.ru/vacancy/37127297?query=продавец</td>\n",
       "      <td>2020-06-08</td>\n",
       "      <td>25,000.00</td>\n",
       "      <td>31,000.00</td>\n",
       "      <td>33.11</td>\n",
       "      <td>33.11</td>\n",
       "      <td>Мурманск</td>\n",
       "      <td>Пятёрочка. Магазины</td>\n",
       "      <td>37,127,297.00</td>\n",
       "      <td>RUR</td>\n",
       "      <td>hh.ru</td>\n",
       "    </tr>\n",
       "    <tr>\n",
       "      <td>65</td>\n",
       "      <td>5efd957d6fa9af93f70e0923</td>\n",
       "      <td>Продавец-кассир (Серпухов, улица Ворошилова, 133А)</td>\n",
       "      <td>https://hh.ru/vacancy/37250804?query=продавец</td>\n",
       "      <td>2020-06-17</td>\n",
       "      <td>26,000.00</td>\n",
       "      <td>30,000.00</td>\n",
       "      <td>37.44</td>\n",
       "      <td>37.44</td>\n",
       "      <td>Серпухов</td>\n",
       "      <td>Пятёрочка. Магазины</td>\n",
       "      <td>37,250,804.00</td>\n",
       "      <td>RUR</td>\n",
       "      <td>hh.ru</td>\n",
       "    </tr>\n",
       "    <tr>\n",
       "      <td>66</td>\n",
       "      <td>5efd957d6fa9af93f70e0924</td>\n",
       "      <td>Продавец в салон МТС</td>\n",
       "      <td>https://hh.ru/vacancy/37351493?query=продавец</td>\n",
       "      <td>2020-07-01</td>\n",
       "      <td>29,000.00</td>\n",
       "      <td>39,000.00</td>\n",
       "      <td>55.09</td>\n",
       "      <td>55.09</td>\n",
       "      <td>Оренбург</td>\n",
       "      <td>Розничная сеть МТС</td>\n",
       "      <td>37,351,493.00</td>\n",
       "      <td>RUR</td>\n",
       "      <td>hh.ru</td>\n",
       "    </tr>\n",
       "    <tr>\n",
       "      <td>67</td>\n",
       "      <td>5efd957d6fa9af93f70e0925</td>\n",
       "      <td>Продавец-кассир (Тула, улица Максимовского, 15)</td>\n",
       "      <td>https://hh.ru/vacancy/37650426?query=продавец</td>\n",
       "      <td>2020-06-24</td>\n",
       "      <td>23,000.00</td>\n",
       "      <td>26,000.00</td>\n",
       "      <td>nan</td>\n",
       "      <td>nan</td>\n",
       "      <td>Тула, улица Максимовского, 15</td>\n",
       "      <td>Пятёрочка. Магазины</td>\n",
       "      <td>37,650,426.00</td>\n",
       "      <td>RUR</td>\n",
       "      <td>hh.ru</td>\n",
       "    </tr>\n",
       "    <tr>\n",
       "      <td>68</td>\n",
       "      <td>5efd957d6fa9af93f70e0928</td>\n",
       "      <td>Продавец-консультант</td>\n",
       "      <td>https://hh.ru/vacancy/37451852?query=продавец</td>\n",
       "      <td>2020-06-11</td>\n",
       "      <td>35,000.00</td>\n",
       "      <td>60,000.00</td>\n",
       "      <td>nan</td>\n",
       "      <td>nan</td>\n",
       "      <td>Геленджик, улица Луначарского, 4В</td>\n",
       "      <td>ООО Позитроника-Юг</td>\n",
       "      <td>37,451,852.00</td>\n",
       "      <td>RUR</td>\n",
       "      <td>hh.ru</td>\n",
       "    </tr>\n",
       "    <tr>\n",
       "      <td>69</td>\n",
       "      <td>5efd957d6fa9af93f70e092e</td>\n",
       "      <td>Продавец-кассир (Мурманск, Кольский проспект, 77)</td>\n",
       "      <td>https://hh.ru/vacancy/37527818?query=продавец</td>\n",
       "      <td>2020-06-17</td>\n",
       "      <td>25,000.00</td>\n",
       "      <td>31,000.00</td>\n",
       "      <td>nan</td>\n",
       "      <td>nan</td>\n",
       "      <td>г Мурманск, False, 77</td>\n",
       "      <td>Пятёрочка. Магазины</td>\n",
       "      <td>37,527,818.00</td>\n",
       "      <td>RUR</td>\n",
       "      <td>hh.ru</td>\n",
       "    </tr>\n",
       "    <tr>\n",
       "      <td>70</td>\n",
       "      <td>5efd957d6fa9af93f70e0931</td>\n",
       "      <td>Продавец-консультант</td>\n",
       "      <td>https://hh.ru/vacancy/37709085?query=продавец</td>\n",
       "      <td>2020-06-27</td>\n",
       "      <td>45,000.00</td>\n",
       "      <td>80,000.00</td>\n",
       "      <td>nan</td>\n",
       "      <td>nan</td>\n",
       "      <td>Петропавловск-Камчатский</td>\n",
       "      <td>ООО Теплое море</td>\n",
       "      <td>37,709,085.00</td>\n",
       "      <td>RUR</td>\n",
       "      <td>hh.ru</td>\n",
       "    </tr>\n",
       "    <tr>\n",
       "      <td>71</td>\n",
       "      <td>5efd957d6fa9af93f70e0933</td>\n",
       "      <td>Продавец-консультант (г. Елец)</td>\n",
       "      <td>https://hh.ru/vacancy/37449675?query=продавец</td>\n",
       "      <td>2020-06-11</td>\n",
       "      <td>22,780.00</td>\n",
       "      <td>28,665.00</td>\n",
       "      <td>nan</td>\n",
       "      <td>nan</td>\n",
       "      <td>Елец</td>\n",
       "      <td>ПОРЯДОК, Группа компаний</td>\n",
       "      <td>37,449,675.00</td>\n",
       "      <td>RUR</td>\n",
       "      <td>hh.ru</td>\n",
       "    </tr>\n",
       "    <tr>\n",
       "      <td>72</td>\n",
       "      <td>5efd957d6fa9af93f70e0939</td>\n",
       "      <td>Продавец-кассир (Сургут, проспект Мира, 47/2)</td>\n",
       "      <td>https://hh.ru/vacancy/36467999?query=продавец</td>\n",
       "      <td>2020-06-29</td>\n",
       "      <td>25,000.00</td>\n",
       "      <td>34,000.00</td>\n",
       "      <td>73.42</td>\n",
       "      <td>73.42</td>\n",
       "      <td>Сургут</td>\n",
       "      <td>Пятёрочка. Магазины</td>\n",
       "      <td>36,467,999.00</td>\n",
       "      <td>RUR</td>\n",
       "      <td>hh.ru</td>\n",
       "    </tr>\n",
       "    <tr>\n",
       "      <td>73</td>\n",
       "      <td>5efd957d6fa9af93f70e0941</td>\n",
       "      <td>Продавец-пекарь</td>\n",
       "      <td>https://hh.ru/vacancy/37340864?query=продавец</td>\n",
       "      <td>2020-06-04</td>\n",
       "      <td>30,000.00</td>\n",
       "      <td>45,000.00</td>\n",
       "      <td>nan</td>\n",
       "      <td>nan</td>\n",
       "      <td>Красногорск</td>\n",
       "      <td>ООО ЭКСПРЕСС</td>\n",
       "      <td>37,340,864.00</td>\n",
       "      <td>RUR</td>\n",
       "      <td>hh.ru</td>\n",
       "    </tr>\n",
       "    <tr>\n",
       "      <td>74</td>\n",
       "      <td>5efd957d6fa9af93f70e0943</td>\n",
       "      <td>Продавец-кассир (Новокузнецк, улица Тореза, 35)</td>\n",
       "      <td>https://hh.ru/vacancy/37731451?query=продавец</td>\n",
       "      <td>2020-06-29</td>\n",
       "      <td>23,150.00</td>\n",
       "      <td>27,500.00</td>\n",
       "      <td>nan</td>\n",
       "      <td>nan</td>\n",
       "      <td>Новокузнецк, улица Тореза, 35</td>\n",
       "      <td>Пятёрочка. Магазины</td>\n",
       "      <td>37,731,451.00</td>\n",
       "      <td>RUR</td>\n",
       "      <td>hh.ru</td>\n",
       "    </tr>\n",
       "    <tr>\n",
       "      <td>75</td>\n",
       "      <td>5efd957d6fa9af93f70e0947</td>\n",
       "      <td>Продавец-кассир (Балашиха, Комсомольская улица, 9)</td>\n",
       "      <td>https://hh.ru/vacancy/37651344?query=продавец</td>\n",
       "      <td>2020-06-24</td>\n",
       "      <td>26,000.00</td>\n",
       "      <td>30,000.00</td>\n",
       "      <td>nan</td>\n",
       "      <td>nan</td>\n",
       "      <td>Новокосино, Балашиха, улица Комсомольская, 9</td>\n",
       "      <td>Пятёрочка. Магазины</td>\n",
       "      <td>37,651,344.00</td>\n",
       "      <td>RUR</td>\n",
       "      <td>hh.ru</td>\n",
       "    </tr>\n",
       "    <tr>\n",
       "      <td>76</td>\n",
       "      <td>5efd957d6fa9af93f70e0951</td>\n",
       "      <td>Продавец-консультант</td>\n",
       "      <td>https://hh.ru/vacancy/37466683?query=продавец</td>\n",
       "      <td>2020-06-30</td>\n",
       "      <td>30,000.00</td>\n",
       "      <td>40,000.00</td>\n",
       "      <td>nan</td>\n",
       "      <td>nan</td>\n",
       "      <td>Севастополь</td>\n",
       "      <td>ИП Юрченко Алексей Владимирович</td>\n",
       "      <td>37,466,683.00</td>\n",
       "      <td>RUR</td>\n",
       "      <td>hh.ru</td>\n",
       "    </tr>\n",
       "    <tr>\n",
       "      <td>77</td>\n",
       "      <td>5efd957d6fa9af93f70e0957</td>\n",
       "      <td>Продавец зоотоваров (Твой Дом Крокус)</td>\n",
       "      <td>https://hh.ru/vacancy/37481658?query=продавец</td>\n",
       "      <td>2020-06-15</td>\n",
       "      <td>33,000.00</td>\n",
       "      <td>40,000.00</td>\n",
       "      <td>nan</td>\n",
       "      <td>nan</td>\n",
       "      <td>Красногорск</td>\n",
       "      <td>Бетховен сеть зоомагазинов</td>\n",
       "      <td>37,481,658.00</td>\n",
       "      <td>RUR</td>\n",
       "      <td>hh.ru</td>\n",
       "    </tr>\n",
       "    <tr>\n",
       "      <td>78</td>\n",
       "      <td>5efd957d6fa9af93f70e0958</td>\n",
       "      <td>Старший продавец магазина \"Магнит\" (п.Кедровый)</td>\n",
       "      <td>https://hh.ru/vacancy/37381465?query=продавец</td>\n",
       "      <td>2020-06-08</td>\n",
       "      <td>23,000.00</td>\n",
       "      <td>27,800.00</td>\n",
       "      <td>nan</td>\n",
       "      <td>nan</td>\n",
       "      <td>Красноярск, проспект Мира, 60</td>\n",
       "      <td>МАГНИТ, Розничная сеть</td>\n",
       "      <td>37,381,465.00</td>\n",
       "      <td>RUR</td>\n",
       "      <td>hh.ru</td>\n",
       "    </tr>\n",
       "    <tr>\n",
       "      <td>79</td>\n",
       "      <td>5efd957d6fa9af93f70e0959</td>\n",
       "      <td>Продавец производства (Истра)</td>\n",
       "      <td>https://hh.ru/vacancy/37436379?query=продавец</td>\n",
       "      <td>2020-06-24</td>\n",
       "      <td>30,000.00</td>\n",
       "      <td>34,000.00</td>\n",
       "      <td>36.90</td>\n",
       "      <td>36.90</td>\n",
       "      <td>Истра</td>\n",
       "      <td>Лента, федеральная розничная сеть, Гипермаркет</td>\n",
       "      <td>37,436,379.00</td>\n",
       "      <td>RUR</td>\n",
       "      <td>hh.ru</td>\n",
       "    </tr>\n",
       "  </tbody>\n",
       "</table>\n",
       "</div>"
      ],
      "text/plain": [
       "                         _id                                                                              name                                           link publish_date           salary_min           salary_max                  lat                  lon                                                                                                 city                                         employer                   id currency   site\n",
       "0   5efd83e56fa9af93f70e0838                                      Продавец-кассир (Москва, Флотская улица, 50)  https://hh.ru/vacancy/36911843?query=продавец   2020-06-29            33,500.00            38,000.00                37.50                37.50                                                                                               Москва                              Пятёрочка. Магазины        36,911,843.00      RUR  hh.ru\n",
       "1   5efd83e56fa9af93f70e0843                                             Продавец-Управляющий шоу-румом одежды  https://hh.ru/vacancy/37601249?query=продавец   2020-06-22            30,000.00            60,000.00                  nan                  nan                                                                            Тюмень, улица Герцена, 64                     ИП Липихин Андрей Николаевич        37,601,249.00      RUR  hh.ru\n",
       "2   5efd83e56fa9af93f70e0849                             Продавец в бутик одежды Trussardi (Аутлет Новая Рига)  https://hh.ru/vacancy/37583639?query=продавец   2020-07-01            50,000.00            85,000.00                  nan                  nan                                                                                     деревня Лапшинка                               Т.Р.С. Дистрибьюшн        37,583,639.00      RUR  hh.ru\n",
       "3   5efd83e56fa9af93f70e084d                                                Продавец-кассир (Нефтеюганск, с12)  https://hh.ru/vacancy/36469098?query=продавец   2020-06-24            30,000.00            36,000.00                72.70                72.70                                                                                          Нефтеюганск                              Пятёрочка. Магазины        36,469,098.00      RUR  hh.ru\n",
       "4   5efd83e56fa9af93f70e0850                         Продавец-дизайнер в мебельный салон \"Инфинити\" (ТЦ Гранд)  https://hh.ru/vacancy/37668466?query=продавец   2020-06-30            50,000.00           100,000.00                  nan                  nan                                                                  Планерная, Химки, улица Бутаково, 4                                  INFINITI-Мебель        37,668,466.00      RUR  hh.ru\n",
       "5   5efd83e56fa9af93f70e0853                                              Продавец-консультант (м. новокосино)  https://hh.ru/vacancy/37574874?query=продавец   2020-07-01            48,000.00            80,000.00                  nan                  nan                                                                                   Москва, Новокосино                                           Билайн        37,574,874.00      RUR  hh.ru\n",
       "6   5efd83e56fa9af93f70e0854                                                 Продавец-кассир (ТЦ \"Республика\")  https://hh.ru/vacancy/37325355?query=продавец   2020-06-26            25,500.00            25,500.00                  nan                  nan                                                                                      Нижний Новгород                                  ПАО Детский Мир        37,325,355.00      RUR  hh.ru\n",
       "7   5efd83e56fa9af93f70e0856  Продавец-кассир на АЗС (м. Академическая, Лесная, Финляндский вокзал, Ладожская)  https://hh.ru/vacancy/30386110?query=продавец   2020-06-29            27,000.00            30,000.00                  nan                  nan                                                                                      Санкт-Петербург                                     Стопэкспресс        30,386,110.00      RUR  hh.ru\n",
       "8   5efd83e56fa9af93f70e085a                                 Старший продавец магазина \"Магнит Косметик\" (ЗЖМ)  https://hh.ru/vacancy/37640042?query=продавец   2020-06-23            27,300.00            29,800.00                  nan                  nan                                                                                       Ростов-на-Дону                           МАГНИТ, Розничная сеть        37,640,042.00      RUR  hh.ru\n",
       "9   5efd83e56fa9af93f70e085b                          Продавец-консультант (Куйбышевский р-н, свет, электрика)  https://hh.ru/vacancy/37486090?query=продавец   2020-06-17            23,000.00            25,000.00                  nan                  nan                                                                  Новокузнецк, улица Орджоникидзе, 19            ООО Управляющая компания Техносистема        37,486,090.00      RUR  hh.ru\n",
       "10  5efd83e56fa9af93f70e0862                                             Продавец-консультант г. Нижневартовск  https://hh.ru/vacancy/36910962?query=продавец   2020-06-17            29,000.00            32,500.00                  nan                  nan                                                                                        Нижневартовск                                           Билайн        36,910,962.00      RUR  hh.ru\n",
       "11  5efd83e56fa9af93f70e0863                       Продавец-консультант мебели для кухонь (ТЦ Красная Площадь)  https://hh.ru/vacancy/37673975?query=продавец   2020-06-30            33,000.00            40,000.00                38.98                38.98                                                                                            Краснодар                                             Hoff        37,673,975.00      RUR  hh.ru\n",
       "12  5efd83e56fa9af93f70e0865                                 Продавец-консультант автозапчасти для автомобилей  https://hh.ru/vacancy/37573317?query=продавец   2020-06-19            23,000.00            42,000.00                  nan                  nan                                                                                             Кемерово                             ООО ППСибтрансресуср        37,573,317.00      RUR  hh.ru\n",
       "13  5efd8a526fa9af93f70e086c                                                                   Продавец-кассир  https://hh.ru/vacancy/37533230?query=продавец   2020-06-30            24,000.00            26,000.00                  nan                  nan                                                                                                  Уфа                                    Улыбка радуги        37,533,230.00      RUR  hh.ru\n",
       "14  5efd8a526fa9af93f70e0873                                                              Продавец-консультант  https://hh.ru/vacancy/37597044?query=продавец   2020-06-21            90,000.00           165,000.00                  nan                  nan                                                                                     Усть-Каменогорск                                ИП Лесовская Д.В.        37,597,044.00      KZT  hh.ru\n",
       "15  5efd8a526fa9af93f70e0875                                                              Продавец-консультант  https://hh.ru/vacancy/37558963?query=продавец   2020-06-30            80,000.00            90,000.00                  nan                  nan                                                       Теплый Стан, Москва, МКАД, 41-й километр, 4с13                               ООО Большой мастер        37,558,963.00      RUR  hh.ru\n",
       "16  5efd8a526fa9af93f70e0878                             Продавец магазина Магнит (г. Иваново, ул. 23-я Линия)  https://hh.ru/vacancy/37318700?query=продавец   2020-06-03            25,000.00            31,300.00                  nan                  nan                                                                         Иваново (Ивановская область)                           МАГНИТ, Розничная сеть        37,318,700.00      RUR  hh.ru\n",
       "17  5efd8a526fa9af93f70e0879                                                      Продавец-кассир (Шишкин Лес)  https://hh.ru/vacancy/36113748?query=продавец   2020-06-26            30,800.00            38,500.00                  nan                  nan                                                                                           Шишкин Лес                           МАГНИТ, Розничная сеть        36,113,748.00      RUR  hh.ru\n",
       "18  5efd8a526fa9af93f70e087a                                                                   Продавец-кассир  https://hh.ru/vacancy/37531486?query=продавец   2020-06-30            35,000.00            35,000.00                37.68                37.68                                                                                               Москва                                      Home market        37,531,486.00      RUR  hh.ru\n",
       "19  5efd8a526fa9af93f70e087e                             Продавец-кассир (Санкт-Петербург, улица Костюшко, 68)  https://hh.ru/vacancy/36927060?query=продавец   2020-06-30            27,000.00            33,000.00                30.31                30.31                                                                                       Санкт-Петербур                              Пятёрочка. Магазины        36,927,060.00      RUR  hh.ru\n",
       "20  5efd8a526fa9af93f70e087f                                            Продавец - консультант в салон Мегафон  https://hh.ru/vacancy/37411832?query=продавец   2020-06-23            25,000.00            30,000.00                  nan                  nan                                                                                             Киевский                                        Эра Людей        37,411,832.00      RUR  hh.ru\n",
       "21  5efd8a526fa9af93f70e0881                                                   Продавец магазина Магнит у дома  https://hh.ru/vacancy/36448912?query=продавец   2020-06-25            24,000.00            29,000.00                  nan                  nan                                                                     Строитель (Белгородская область)                           МАГНИТ, Розничная сеть        36,448,912.00      RUR  hh.ru\n",
       "22  5efd8a526fa9af93f70e0887                                       Продавец-кассир (Дубна, Тверская улица, 4А)  https://hh.ru/vacancy/36912915?query=продавец   2020-06-22            24,000.00            30,000.00                37.14                37.14                                                                                                Дубна                              Пятёрочка. Магазины        36,912,915.00      RUR  hh.ru\n",
       "23  5efd8a526fa9af93f70e0889                                                              Продавец-консультант  https://hh.ru/vacancy/37599942?query=продавец   2020-06-22           150,000.00           250,000.00                  nan                  nan                                                                                           Нур-Султан                ТОО МЕЧТА, ТМ (Мечта Маркет, ТОО)        37,599,942.00      KZT  hh.ru\n",
       "24  5efd8a526fa9af93f70e0890                                               Продавец в салон МТС (Петрозаводск)  https://hh.ru/vacancy/37634150?query=продавец   2020-07-01            29,500.00            40,000.00                34.37                34.37                                                                                         Петрозаводск                               Розничная сеть МТС        37,634,150.00      RUR  hh.ru\n",
       "25  5efd8a526fa9af93f70e0891                                     Продавец-кассир (Лангепас, улица Ленина, 86А)  https://hh.ru/vacancy/37314882?query=продавец   2020-06-18            30,000.00            36,000.00                75.19                75.19                                                                                             Лангепас                              Пятёрочка. Магазины        37,314,882.00      RUR  hh.ru\n",
       "26  5efd8a526fa9af93f70e0896                                     Продавец в магазин кальянов в Южно-Сахалинске  https://hh.ru/vacancy/37335980?query=продавец   2020-06-04            40,000.00            50,000.00                  nan                  nan                                                                                       Южно-Сахалинск                                      ООО Алибаба        37,335,980.00      RUR  hh.ru\n",
       "27  5efd957d6fa9af93f70e089d                                                  Продавец-консультант (м.Беговая)  https://hh.ru/vacancy/37222956?query=продавец   2020-07-02            45,000.00            80,000.00                  nan                  nan                                                                    Беговая, Москва, Беговая улица, 2                                    ЗАО ЧИП и ДИП        37,222,956.00      RUR  hh.ru\n",
       "28  5efd957d6fa9af93f70e089e                                                   Продавец-консультант (м.Выхино)  https://hh.ru/vacancy/37608536?query=продавец   2020-07-01            48,000.00            60,000.00                  nan                  nan                                                                                               Москва                                           Билайн        37,608,536.00      RUR  hh.ru\n",
       "29  5efd957d6fa9af93f70e089f                                 Продавец-кассир (Мурманск, Кольский проспект, 80)  https://hh.ru/vacancy/36926808?query=продавец   2020-06-14            25,000.00            31,000.00                33.11                33.11                                                                                             Мурманск                              Пятёрочка. Магазины        36,926,808.00      RUR  hh.ru\n",
       "30  5efd957d6fa9af93f70e08a1                                        Продавец-кассир (Руза, улица Солнцева, 20)  https://hh.ru/vacancy/36913197?query=продавец   2020-06-13            30,000.00            35,000.00                36.19                36.19                                                                                                 Руза                              Пятёрочка. Магазины        36,913,197.00      RUR  hh.ru\n",
       "31  5efd957d6fa9af93f70e08a8                         Продавец-консультант в мебельный салон (ст. м. Девяткино)  https://hh.ru/vacancy/37167239?query=продавец   2020-06-26            30,000.00            80,000.00                  nan                  nan                                                                                               Мурино                         ООО Торговый дом Лазурит        37,167,239.00      RUR  hh.ru\n",
       "32  5efd957d6fa9af93f70e08ac                       Продавец-кассир (Ликино-Дулёво, Коммунистическая улица, 11)  https://hh.ru/vacancy/37125777?query=продавец   2020-06-16            25,000.00            28,000.00                38.96                38.96                                                                                        Ликино-Дулёво                              Пятёрочка. Магазины        37,125,777.00      RUR  hh.ru\n",
       "33  5efd957d6fa9af93f70e08b2                                                              Продавец-консультант  https://hh.ru/vacancy/36812861?query=продавец   2020-06-30            26,000.00            60,000.00                  nan                  nan                                                                        Луга, проспект Урицкого, 77к4    Сеть магазинов цифровой и бытовой техники DNS        36,812,861.00      RUR  hh.ru\n",
       "34  5efd957d6fa9af93f70e08b8                                   Продавец-универсал (Проводник, Коломенский р-н)  https://hh.ru/vacancy/37401010?query=продавец   2020-06-22            30,800.00            38,500.00                  nan                  nan                                                                                              Коломна                           МАГНИТ, Розничная сеть        37,401,010.00      RUR  hh.ru\n",
       "35  5efd957d6fa9af93f70e08b9                                                      Продавец-консультант Мегафон  https://hh.ru/vacancy/36880065?query=продавец   2020-06-17            25,000.00            30,000.00                  nan                  nan                                                                                               Талдом                                        Эра Людей        36,880,065.00      RUR  hh.ru\n",
       "36  5efd957d6fa9af93f70e08bf                                              Продавец-консультант в ТЦ Зеленопарк  https://hh.ru/vacancy/37657914?query=продавец   2020-06-24            40,000.00            60,000.00                37.26                37.26                                                                               рабочий посёлок Ржавки                        Ангстрем, Группа компаний        37,657,914.00      RUR  hh.ru\n",
       "37  5efd957d6fa9af93f70e08c5                                             Специалист офиса продаж, г. Чебаркуль  https://hh.ru/vacancy/37711531?query=продавец   2020-06-27            25,000.00            30,000.00                  nan                  nan                                                                                            Чебаркуль                               Розничная сеть МТС        37,711,531.00      RUR  hh.ru\n",
       "38  5efd957d6fa9af93f70e08c7                         Старший продавец-кассир (Пермь, улица Героев Хасана, 100)  https://hh.ru/vacancy/36468404?query=продавец   2020-06-09            25,000.00            29,000.00                56.26                56.26                                                                                                Пермь                              Пятёрочка. Магазины        36,468,404.00      RUR  hh.ru\n",
       "39  5efd957d6fa9af93f70e08cc                                          Продавец консультант спортивного питания  https://hh.ru/vacancy/37730358?query=продавец   2020-06-29            25,000.00            35,000.00                  nan                  nan                                                                                            Краснодар                                        Рус спорт        37,730,358.00      RUR  hh.ru\n",
       "40  5efd957d6fa9af93f70e08cd                                              Продавец-консультант кухонной мебели  https://hh.ru/vacancy/35604738?query=продавец   2020-06-30            23,000.00            50,000.00                  nan                  nan                                                                                          Калининград                           ООО Мебельная компания        35,604,738.00      RUR  hh.ru\n",
       "41  5efd957d6fa9af93f70e08cf                                                              Продавец-консультант  https://hh.ru/vacancy/37456429?query=продавец   2020-06-11           120,000.00           180,000.00                  nan                  nan                                                                                     Усть-Каменогорск                                     ТОО ТЕХНИТЭЛ        37,456,429.00      KZT  hh.ru\n",
       "42  5efd957d6fa9af93f70e08d4                                  Продавец-кассир (Новосибирск, улица Кирова, 317)  https://hh.ru/vacancy/36896005?query=продавец   2020-06-27            25,300.00            31,900.00                82.97                82.97                                                                                          Новосибирск                              Пятёрочка. Магазины        36,896,005.00      RUR  hh.ru\n",
       "43  5efd957d6fa9af93f70e08d5                                                             Продавец недвижимости  https://hh.ru/vacancy/31920620?query=продавец   2020-07-02           100,000.00           250,000.00                  nan                  nan                                                                    Хабаровск, улица Дикопольцева, 26                            Компания Новый Атлант        31,920,620.00      RUR  hh.ru\n",
       "44  5efd957d6fa9af93f70e08d8                                                  Продавец-консультант (ТЦ Спектр)  https://hh.ru/vacancy/37738508?query=продавец   2020-06-29            35,000.00            60,000.00                  nan                  nan                                                                               Можайск, улица Мира, 2    Сеть магазинов цифровой и бытовой техники DNS        37,738,508.00      RUR  hh.ru\n",
       "45  5efd957d6fa9af93f70e08e0                            Продавец-кассир (Казань, улица Академика Сахарова, 19)  https://hh.ru/vacancy/37650976?query=продавец   2020-06-24            25,000.00            27,700.00                  nan                  nan                                Проспект Победы, Горки, Аметьево, г Казань, ул Академика Сахарова, 19                              Пятёрочка. Магазины        37,650,976.00      RUR  hh.ru\n",
       "46  5efd957d6fa9af93f70e08e5                               Продавец-кассир (Сочи, улица Красных Партизан, 3/1)  https://hh.ru/vacancy/37650073?query=продавец   2020-06-24            30,000.00            41,000.00                  nan                  nan                                                                    Сочи, улица Красных Партизан, 3/1                              Пятёрочка. Магазины        37,650,073.00      RUR  hh.ru\n",
       "47  5efd957d6fa9af93f70e08e7                                                                          Продавец  https://hh.ru/vacancy/36624925?query=продавец   2020-06-26            27,200.00            34,000.00                  nan                  nan                                                                                                                                МАГНИТ, Розничная сеть        36,624,925.00      RUR  hh.ru\n",
       "48  5efd957d6fa9af93f70e08f1                                                          Продавец магазина Магнит  https://hh.ru/vacancy/36707219?query=продавец   2020-07-02            23,100.00            23,100.00                  nan                  nan                                                                                                Майма                           МАГНИТ, Розничная сеть        36,707,219.00      RUR  hh.ru\n",
       "49  5efd957d6fa9af93f70e08f6                                Продавец-кассир (Казань, улица Мазита Гафури, 9к1)  https://hh.ru/vacancy/36496348?query=продавец   2020-06-08            25,000.00            27,700.00                49.10                49.10                                                                                               Казань                              Пятёрочка. Магазины        36,496,348.00      RUR  hh.ru\n",
       "50  5efd957d6fa9af93f70e08f9                                                              Продавец-консультант  https://hh.ru/vacancy/37660348?query=продавец   2020-07-02            25,000.00            50,000.00                  nan                  nan                                                                       Пятигорск, улица Бунимовича, 7                                  Золотая Подкова        37,660,348.00      RUR  hh.ru\n",
       "51  5efd957d6fa9af93f70e08fe                                                              Продавец-консультант  https://hh.ru/vacancy/37455590?query=продавец   2020-06-11            28,000.00            35,000.00                  nan                  nan                                                                 Подольск, Подольск, улица Кирова, 56        Уютный Дом (ИП Карпузов Сергей Борисович)        37,455,590.00      RUR  hh.ru\n",
       "52  5efd957d6fa9af93f70e0902                                                   Продавец-консультант (ТЦ Лента)  https://hh.ru/vacancy/37559249?query=продавец   2020-06-18            35,000.00            60,000.00                  nan                  nan                                                                         Коломна, улица Астахова, 4к2    Сеть магазинов цифровой и бытовой техники DNS        37,559,249.00      RUR  hh.ru\n",
       "53  5efd957d6fa9af93f70e0908                                                                   Продавец-кассир  https://hh.ru/vacancy/37657485?query=продавец   2020-06-24            40,000.00            40,000.00                  nan                  nan                                                                                              Воронеж                     Группа Компаний «GreenSpark»        37,657,485.00      RUR  hh.ru\n",
       "54  5efd957d6fa9af93f70e090a                                                      Продавец-универсал (Зеленый)  https://hh.ru/vacancy/37084083?query=продавец   2020-06-22            30,800.00            38,500.00                  nan                  nan                                                                                              Ногинск                           МАГНИТ, Розничная сеть        37,084,083.00      RUR  hh.ru\n",
       "55  5efd957d6fa9af93f70e090b                               Продавец-консультант ЛКМ (Леруа Мерлен/ Варшавское)  https://hh.ru/vacancy/37493224?query=продавец   2020-06-26            35,000.00            45,000.00                  nan                  nan  Аннино, Бульвар Дмитрия Донского, Битца, Ленинский городской округ, Варшавское шоссе, 21-й килом...                          AROUND, Группа компаний        37,493,224.00      RUR  hh.ru\n",
       "56  5efd957d6fa9af93f70e090c                                                                   Продавец-кассир  https://hh.ru/vacancy/36385293?query=продавец   2020-06-26            28,500.00            42,000.00                  nan                  nan                                                                       Москва, Кочновский проезд, 5с7                            ООО Военторг - Ритейл        36,385,293.00      RUR  hh.ru\n",
       "57  5efd957d6fa9af93f70e0911                             Продавец-консультант (Санкт-Петербург, Лыжный пер, 6)  https://hh.ru/vacancy/36847416?query=продавец   2020-06-24            25,000.00            30,293.00                  nan                  nan                                                                     г Санкт-Петербург, Лыжный пер, 6                                      Перекресток        36,847,416.00      RUR  hh.ru\n",
       "58  5efd957d6fa9af93f70e0912                                                             Кассир (Новое Лапино)  https://hh.ru/vacancy/37734031?query=продавец   2020-06-29            40,000.00            45,000.00                37.14                37.14                                                                                       деревня Лапино                                         ВкусВилл        37,734,031.00      RUR  hh.ru\n",
       "59  5efd957d6fa9af93f70e0917                                           Продавец - консультант (ТЦ Взлет Гипер)  https://hh.ru/vacancy/37423154?query=продавец   2020-06-22            42,000.00            60,000.00                  nan                  nan                                                                        Жуковский, улица Гагарина, 24    Сеть магазинов цифровой и бытовой техники DNS        37,423,154.00      RUR  hh.ru\n",
       "60  5efd957d6fa9af93f70e091c                                                              Продавец-консультант  https://hh.ru/vacancy/37025818?query=продавец   2020-06-17            90,000.00           200,000.00                  nan                  nan                                                                                               Актобе                                  АО Сәтті Жұлдыз        37,025,818.00      RUR  hh.ru\n",
       "61  5efd957d6fa9af93f70e091d                  Продавец-кассир (рабочий посёлок Решетниково, проезд ОПМС-1, 14)  https://hh.ru/vacancy/36913727?query=продавец   2020-06-13            23,000.00            28,000.00                36.56                36.56                                                                          рабочий посёлок Решетниково                              Пятёрочка. Магазины        36,913,727.00      RUR  hh.ru\n",
       "62  5efd957d6fa9af93f70e091e                                       Продавец-консультант ( ДК Синтезспирт, ХБК)  https://hh.ru/vacancy/37562427?query=продавец   2020-06-18            27,000.00            35,000.00                  nan                  nan                                                                                                  Уфа    Сеть магазинов цифровой и бытовой техники DNS        37,562,427.00      RUR  hh.ru\n",
       "63  5efd957d6fa9af93f70e0920                                                    Продавец (вахта в Нововоронеж)  https://hh.ru/vacancy/37582889?query=продавец   2020-06-19            35,000.00            50,000.00                  nan                  nan                                                                                           Острогожск                                    ХМЕЛЬНАЯ МИЛЯ        37,582,889.00      RUR  hh.ru\n",
       "64  5efd957d6fa9af93f70e0921                                   Продавец-кассир (Мурманск, улица Свердлова, 47)  https://hh.ru/vacancy/37127297?query=продавец   2020-06-08            25,000.00            31,000.00                33.11                33.11                                                                                             Мурманск                              Пятёрочка. Магазины        37,127,297.00      RUR  hh.ru\n",
       "65  5efd957d6fa9af93f70e0923                                Продавец-кассир (Серпухов, улица Ворошилова, 133А)  https://hh.ru/vacancy/37250804?query=продавец   2020-06-17            26,000.00            30,000.00                37.44                37.44                                                                                             Серпухов                              Пятёрочка. Магазины        37,250,804.00      RUR  hh.ru\n",
       "66  5efd957d6fa9af93f70e0924                                                              Продавец в салон МТС  https://hh.ru/vacancy/37351493?query=продавец   2020-07-01            29,000.00            39,000.00                55.09                55.09                                                                                             Оренбург                               Розничная сеть МТС        37,351,493.00      RUR  hh.ru\n",
       "67  5efd957d6fa9af93f70e0925                                   Продавец-кассир (Тула, улица Максимовского, 15)  https://hh.ru/vacancy/37650426?query=продавец   2020-06-24            23,000.00            26,000.00                  nan                  nan                                                                    Тула, улица Максимовского, 15                                  Пятёрочка. Магазины        37,650,426.00      RUR  hh.ru\n",
       "68  5efd957d6fa9af93f70e0928                                                              Продавец-консультант  https://hh.ru/vacancy/37451852?query=продавец   2020-06-11            35,000.00            60,000.00                  nan                  nan                                                                    Геленджик, улица Луначарского, 4В                               ООО Позитроника-Юг        37,451,852.00      RUR  hh.ru\n",
       "69  5efd957d6fa9af93f70e092e                                 Продавец-кассир (Мурманск, Кольский проспект, 77)  https://hh.ru/vacancy/37527818?query=продавец   2020-06-17            25,000.00            31,000.00                  nan                  nan                                                                                г Мурманск, False, 77                              Пятёрочка. Магазины        37,527,818.00      RUR  hh.ru\n",
       "70  5efd957d6fa9af93f70e0931                                                              Продавец-консультант  https://hh.ru/vacancy/37709085?query=продавец   2020-06-27            45,000.00            80,000.00                  nan                  nan                                                                             Петропавловск-Камчатский                                  ООО Теплое море        37,709,085.00      RUR  hh.ru\n",
       "71  5efd957d6fa9af93f70e0933                                                    Продавец-консультант (г. Елец)  https://hh.ru/vacancy/37449675?query=продавец   2020-06-11            22,780.00            28,665.00                  nan                  nan                                                                                                 Елец                         ПОРЯДОК, Группа компаний        37,449,675.00      RUR  hh.ru\n",
       "72  5efd957d6fa9af93f70e0939                                     Продавец-кассир (Сургут, проспект Мира, 47/2)  https://hh.ru/vacancy/36467999?query=продавец   2020-06-29            25,000.00            34,000.00                73.42                73.42                                                                                               Сургут                              Пятёрочка. Магазины        36,467,999.00      RUR  hh.ru\n",
       "73  5efd957d6fa9af93f70e0941                                                                   Продавец-пекарь  https://hh.ru/vacancy/37340864?query=продавец   2020-06-04            30,000.00            45,000.00                  nan                  nan                                                                                          Красногорск                                     ООО ЭКСПРЕСС        37,340,864.00      RUR  hh.ru\n",
       "74  5efd957d6fa9af93f70e0943                                   Продавец-кассир (Новокузнецк, улица Тореза, 35)  https://hh.ru/vacancy/37731451?query=продавец   2020-06-29            23,150.00            27,500.00                  nan                  nan                                                                        Новокузнецк, улица Тореза, 35                              Пятёрочка. Магазины        37,731,451.00      RUR  hh.ru\n",
       "75  5efd957d6fa9af93f70e0947                                Продавец-кассир (Балашиха, Комсомольская улица, 9)  https://hh.ru/vacancy/37651344?query=продавец   2020-06-24            26,000.00            30,000.00                  nan                  nan                                                     Новокосино, Балашиха, улица Комсомольская, 9                                  Пятёрочка. Магазины        37,651,344.00      RUR  hh.ru\n",
       "76  5efd957d6fa9af93f70e0951                                                              Продавец-консультант  https://hh.ru/vacancy/37466683?query=продавец   2020-06-30            30,000.00            40,000.00                  nan                  nan                                                                                          Севастополь                  ИП Юрченко Алексей Владимирович        37,466,683.00      RUR  hh.ru\n",
       "77  5efd957d6fa9af93f70e0957                                             Продавец зоотоваров (Твой Дом Крокус)  https://hh.ru/vacancy/37481658?query=продавец   2020-06-15            33,000.00            40,000.00                  nan                  nan                                                                                          Красногорск                       Бетховен сеть зоомагазинов        37,481,658.00      RUR  hh.ru\n",
       "78  5efd957d6fa9af93f70e0958                                   Старший продавец магазина \"Магнит\" (п.Кедровый)  https://hh.ru/vacancy/37381465?query=продавец   2020-06-08            23,000.00            27,800.00                  nan                  nan                                                                        Красноярск, проспект Мира, 60                           МАГНИТ, Розничная сеть        37,381,465.00      RUR  hh.ru\n",
       "79  5efd957d6fa9af93f70e0959                                                     Продавец производства (Истра)  https://hh.ru/vacancy/37436379?query=продавец   2020-06-24            30,000.00            34,000.00                36.90                36.90                                                                                                Истра   Лента, федеральная розничная сеть, Гипермаркет        37,436,379.00      RUR  hh.ru"
      ]
     },
     "execution_count": 181,
     "metadata": {},
     "output_type": "execute_result"
    }
   ],
   "source": [
    "# функция, которая производит поиск и выводит на экран вакансии с заработной платой больше введенной суммы. Поиск по двум полям (мин и макс зарплату)\n",
    "level = 22000\n",
    "pd.DataFrame(hh_db.vacancy.find( {\"$and\": [ {\"salary_min\":{\"$gt\": level}}, {\"salary_max\":{\"$gt\": level}}]} ))"
   ]
  },
  {
   "cell_type": "code",
   "execution_count": null,
   "metadata": {},
   "outputs": [],
   "source": []
  }
 ],
 "metadata": {
  "kernelspec": {
   "display_name": "Python 3",
   "language": "python",
   "name": "python3"
  },
  "language_info": {
   "codemirror_mode": {
    "name": "ipython",
    "version": 3
   },
   "file_extension": ".py",
   "mimetype": "text/x-python",
   "name": "python",
   "nbconvert_exporter": "python",
   "pygments_lexer": "ipython3",
   "version": "3.7.3"
  }
 },
 "nbformat": 4,
 "nbformat_minor": 2
}
