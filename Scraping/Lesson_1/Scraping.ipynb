{
 "cells": [
  {
   "cell_type": "code",
   "execution_count": 214,
   "metadata": {},
   "outputs": [],
   "source": [
    "import requests as rq\n",
    "from bs4 import BeautifulSoup\n",
    "import json\n",
    "from getpass import getpass\n",
    "import xmltodict, json\n",
    "import pandas as pd"
   ]
  },
  {
   "cell_type": "markdown",
   "metadata": {},
   "source": [
    "# Задание 1"
   ]
  },
  {
   "cell_type": "markdown",
   "metadata": {},
   "source": [
    "Посмотреть документацию к API GitHub, \n",
    "разобраться как вывести список репозиториев для конкретного пользователя, \n",
    "сохранить JSON-вывод в файле *.json."
   ]
  },
  {
   "cell_type": "code",
   "execution_count": 154,
   "metadata": {},
   "outputs": [
    {
     "name": "stdout",
     "output_type": "stream",
     "text": [
      "········\n",
      "Статус: 200\n"
     ]
    }
   ],
   "source": [
    "password = getpass()\n",
    "owner = 'Shagen-Madunts' \n",
    "user = 'shagen.madunts@mail.ru'\n",
    "url = \"https://api.github.com\"\n",
    "req = rq.get(f\"{url}/user/repos\", auth=(user, password))\n",
    "print(f\"Статус: {req.status_code}\")"
   ]
  },
  {
   "cell_type": "markdown",
   "metadata": {},
   "source": [
    "***Репозитории***"
   ]
  },
  {
   "cell_type": "code",
   "execution_count": 158,
   "metadata": {},
   "outputs": [
    {
     "name": "stdout",
     "output_type": "stream",
     "text": [
      "https://github.com/Shagen-Madunts/geekbrains\n"
     ]
    }
   ],
   "source": [
    "print(req.json()[0]['html_url'])"
   ]
  },
  {
   "cell_type": "markdown",
   "metadata": {},
   "source": [
    "***Сохраняем в json***"
   ]
  },
  {
   "cell_type": "code",
   "execution_count": 159,
   "metadata": {},
   "outputs": [],
   "source": [
    "json_filename = f'github_{owner}' + '.json'\n",
    "with open(json_filename, 'w', encoding='utf8') as j:\n",
    "    json.dump(req.json()[0],j, allow_nan=True, ensure_ascii=False, indent=4)"
   ]
  },
  {
   "cell_type": "markdown",
   "metadata": {},
   "source": [
    "# Задание 2"
   ]
  },
  {
   "cell_type": "markdown",
   "metadata": {},
   "source": [
    "Изучить список открытых API (https://www.programmableweb.com/category/all/apis). \n",
    "Найти среди них любое, требующее авторизацию (любого типа). \n",
    "Выполнить запросы к нему, пройдя авторизацию. Ответ сервера записать в файл.\n",
    "Если нет желания заморачиваться с поиском, возьмите API вконтакте (https://vk.com/dev/first_guide). \n",
    "Сделайте запрос, чтобы получить список всех сообществ на которые вы подписаны."
   ]
  },
  {
   "cell_type": "code",
   "execution_count": 224,
   "metadata": {},
   "outputs": [
    {
     "name": "stdout",
     "output_type": "stream",
     "text": [
      "Статус: 200\n"
     ]
    }
   ],
   "source": [
    "user = 'shagenmadunts'\n",
    "url = \"http://api.geonames.org/address?lat=52.358&lng=4.881\"\n",
    "req = rq.post(f\"{url}\", data={'username': user, 'password': 'AJt8SFN-tZ-D4@e'})\n",
    "print(f\"Статус: {req.status_code}\")"
   ]
  },
  {
   "cell_type": "code",
   "execution_count": 232,
   "metadata": {},
   "outputs": [
    {
     "data": {
      "text/plain": [
       "{'street': 'Paulus Potterstraat',\n",
       " 'houseNumber': '7',\n",
       " 'locality': 'Amsterdam',\n",
       " 'postalcode': '1071 CX',\n",
       " 'lng': '4.88132',\n",
       " 'lat': '52.35792',\n",
       " 'adminCode1': '07',\n",
       " 'adminName1': 'North Holland',\n",
       " 'adminCode2': '0363',\n",
       " 'adminName2': 'Gemeente Amsterdam',\n",
       " 'adminCode3': None,\n",
       " 'adminCode4': None,\n",
       " 'countryCode': 'NL',\n",
       " 'sourceId': '0363010012084818',\n",
       " 'distance': '0.02'}"
      ]
     },
     "execution_count": 232,
     "metadata": {},
     "output_type": "execute_result"
    }
   ],
   "source": [
    "stats = xmltodict.parse(req.text)\n",
    "data = dict(stats['geonames']['address'])\n",
    "data"
   ]
  },
  {
   "cell_type": "code",
   "execution_count": 235,
   "metadata": {},
   "outputs": [],
   "source": [
    "json_filename = f'geonames_{user}' + '.json'\n",
    "with open(json_filename, 'w', encoding='utf8') as j:\n",
    "    json.dump(data,j, allow_nan=True, ensure_ascii=False, indent=4)"
   ]
  }
 ],
 "metadata": {
  "kernelspec": {
   "display_name": "Python 3",
   "language": "python",
   "name": "python3"
  },
  "language_info": {
   "codemirror_mode": {
    "name": "ipython",
    "version": 3
   },
   "file_extension": ".py",
   "mimetype": "text/x-python",
   "name": "python",
   "nbconvert_exporter": "python",
   "pygments_lexer": "ipython3",
   "version": "3.7.3"
  }
 },
 "nbformat": 4,
 "nbformat_minor": 2
}
