{
 "cells": [
  {
   "cell_type": "code",
   "execution_count": 1,
   "metadata": {},
   "outputs": [
    {
     "data": {
      "text/html": [
       "<style>.container { width:100% !important; }</style>"
      ],
      "text/plain": [
       "<IPython.core.display.HTML object>"
      ]
     },
     "metadata": {},
     "output_type": "display_data"
    }
   ],
   "source": [
    "import requests as rq\n",
    "import re\n",
    "from bs4 import BeautifulSoup as bs\n",
    "import numpy as np\n",
    "import math\n",
    "from random import randint\n",
    "import json\n",
    "import pickle\n",
    "import time\n",
    "from pprint import pprint\n",
    "from lxml import html\n",
    "import requests\n",
    "import tqdm\n",
    "import re\n",
    "import datetime\n",
    "from tqdm import tqdm\n",
    "import datetime\n",
    "from getpass import getpass\n",
    "import xmltodict, json\n",
    "import pandas as pd\n",
    "from IPython.core.display import display, HTML\n",
    "display(HTML(\"<style>.container { width:100% !important; }</style>\"))\n",
    "pd.set_option('display.max_rows', 1000)\n",
    "pd.set_option('display.max_columns', 100)\n",
    "pd.set_option('display.max_colwidth', 100)\n",
    "pd.set_option('display.width', 1000)\n",
    "pd.set_option('precision', 2)\n",
    "\n",
    "pd.options.display.float_format = '{:20,.2f}'.format\n",
    "np.set_printoptions(suppress=False)\n",
    "from pymongo import MongoClient"
   ]
  },
  {
   "cell_type": "markdown",
   "metadata": {},
   "source": [
    "# Задание 4 урок"
   ]
  },
  {
   "cell_type": "markdown",
   "metadata": {},
   "source": [
    "1)Написать приложение, которое собирает основные новости с сайтов news.mail.ru, lenta.ru, yandex.news\n",
    "Для парсинга использовать xpath. Структура данных должна содержать:\n",
    "название источника,\n",
    "наименование новости,\n",
    "ссылку на новость,\n",
    "дата публикации\n",
    "\n",
    "2)Сложить все новости в БД"
   ]
  },
  {
   "cell_type": "code",
   "execution_count": 30,
   "metadata": {},
   "outputs": [],
   "source": [
    "header = {'User-Agent':'Mozilla/5.0 (Windows NT 10.0; Win64; x64) AppleWebKit/537.36 (KHTML, like Gecko) Chrome/83.0.4103.116 Safari/537.36'}\n",
    "\n",
    "def get_news_yandex(header):\n",
    "    response = requests.get('https://yandex.ru/news', headers=header)\n",
    "    dom = html.fromstring(response.text)\n",
    "    news = []\n",
    "    items = dom.xpath(\"//td[@class='stories-set__item']\")\n",
    "    for item in items:\n",
    "        new = {}\n",
    "        title = item.xpath(\".//h2[@class='story__title']//text()\")[0]     \n",
    "        source = item.xpath(\".//div[@class='story__date']/text()\")[0][:-6] \n",
    "        link = 'https://yandex.ru'+item.xpath(\".//h2[@class='story__title']//@href\")[0]\n",
    "        date = item.xpath(\".//div[@class='story__date']/text()\")[0][-5:]\n",
    "\n",
    "        new['title'] = title\n",
    "        new['source'] = source\n",
    "        new['link'] = link\n",
    "        new['date'] = date\n",
    "\n",
    "        news.append(new)\n",
    "        \n",
    "    return(news)"
   ]
  },
  {
   "cell_type": "code",
   "execution_count": 31,
   "metadata": {
    "scrolled": true
   },
   "outputs": [],
   "source": [
    "findings = get_news_yandex(header)"
   ]
  },
  {
   "cell_type": "code",
   "execution_count": 32,
   "metadata": {},
   "outputs": [],
   "source": [
    "# решил попробовать поскладывать в отдельные коллекции\n",
    "def to_dataset(db_name, col_name, data):\n",
    "    client = MongoClient('localhost', 27017)\n",
    "    db = client['news']\n",
    "    collection_name = f\"{col_name}_{datetime.datetime.now().strftime(format='%Y-%m-%d-%H-%M-%S')}\"\n",
    "    collection = db[collection_name]\n",
    "    for el in tqdm(data, total = len(data)):\n",
    "        collection.insert_one(el)\n",
    "    \n",
    "    # проверяем\n",
    "    display(pd.DataFrame(db[collection_name].find( {} )).head(10))"
   ]
  },
  {
   "cell_type": "code",
   "execution_count": 33,
   "metadata": {
    "scrolled": true
   },
   "outputs": [
    {
     "name": "stderr",
     "output_type": "stream",
     "text": [
      "100%|█████████████████████████████████████████████████████████████████████████████████| 64/64 [00:00<00:00, 853.35it/s]\n"
     ]
    },
    {
     "data": {
      "text/html": [
       "<div>\n",
       "<style scoped>\n",
       "    .dataframe tbody tr th:only-of-type {\n",
       "        vertical-align: middle;\n",
       "    }\n",
       "\n",
       "    .dataframe tbody tr th {\n",
       "        vertical-align: top;\n",
       "    }\n",
       "\n",
       "    .dataframe thead th {\n",
       "        text-align: right;\n",
       "    }\n",
       "</style>\n",
       "<table border=\"1\" class=\"dataframe\">\n",
       "  <thead>\n",
       "    <tr style=\"text-align: right;\">\n",
       "      <th></th>\n",
       "      <th>_id</th>\n",
       "      <th>title</th>\n",
       "      <th>source</th>\n",
       "      <th>link</th>\n",
       "      <th>date</th>\n",
       "    </tr>\n",
       "  </thead>\n",
       "  <tbody>\n",
       "    <tr>\n",
       "      <td>0</td>\n",
       "      <td>5f05dfe2ec860e86a0e14a56</td>\n",
       "      <td>Минздрав одобрил препарат от коронавируса «Коронавир»</td>\n",
       "      <td>РБК</td>\n",
       "      <td>https://yandex.ru/news/story/Minzdrav_odobril_preparat_ot_koronavirusa_Koronavir--33232270632e99...</td>\n",
       "      <td>17:45</td>\n",
       "    </tr>\n",
       "    <tr>\n",
       "      <td>1</td>\n",
       "      <td>5f05dfe2ec860e86a0e14a57</td>\n",
       "      <td>В Подмосковье к 15 июля планируют открыть рестораны и пляжи</td>\n",
       "      <td>RT на русском</td>\n",
       "      <td>https://yandex.ru/news/story/V_Podmoskove_k_15_iyulya_planiruyut_otkryt_restorany_i_plyazhi--f89...</td>\n",
       "      <td>17:45</td>\n",
       "    </tr>\n",
       "    <tr>\n",
       "      <td>2</td>\n",
       "      <td>5f05dfe2ec860e86a0e14a58</td>\n",
       "      <td>В АТОР спрогнозировали сроки возобновления зарубежного туризма</td>\n",
       "      <td>Газета.Ru</td>\n",
       "      <td>https://yandex.ru/news/story/V_ATOR_sprognozirovali_sroki_vozobnovleniya_zarubezhnogo_turizma--8...</td>\n",
       "      <td>17:42</td>\n",
       "    </tr>\n",
       "    <tr>\n",
       "      <td>3</td>\n",
       "      <td>5f05dfe2ec860e86a0e14a59</td>\n",
       "      <td>Госдума 23 июля примет закон о приравнивании отчуждения к экстремизму</td>\n",
       "      <td>REGNUM</td>\n",
       "      <td>https://yandex.ru/news/story/Gosduma_23_iyulya_primet_zakon_o_priravnivanii_otchuzhdeniya_k_ehks...</td>\n",
       "      <td>17:42</td>\n",
       "    </tr>\n",
       "    <tr>\n",
       "      <td>4</td>\n",
       "      <td>5f05dfe2ec860e86a0e14a5a</td>\n",
       "      <td>Заксобрание утвердило кандидатуру Бельского на пост вице-губернатора</td>\n",
       "      <td>Gazeta.SPb</td>\n",
       "      <td>https://yandex.ru/news/story/Zaksobranie_utverdilo_kandidaturu_Belskogo_na_post_vice-gubernatora...</td>\n",
       "      <td>17:40</td>\n",
       "    </tr>\n",
       "    <tr>\n",
       "      <td>5</td>\n",
       "      <td>5f05dfe2ec860e86a0e14a5b</td>\n",
       "      <td>Двор «Никольских рядов» на Садовой улице открылся для посетителей</td>\n",
       "      <td>Собака.ru</td>\n",
       "      <td>https://yandex.ru/news/story/Dvor_Nikolskikh_ryadov_na_Sadovoj_ulice_otkrylsya_dlya_posetitelej-...</td>\n",
       "      <td>17:24</td>\n",
       "    </tr>\n",
       "    <tr>\n",
       "      <td>6</td>\n",
       "      <td>5f05dfe2ec860e86a0e14a5c</td>\n",
       "      <td>Коллега Соколова рассказал, как он вел себя после убийства Ещенко</td>\n",
       "      <td>Gazeta.SPb</td>\n",
       "      <td>https://yandex.ru/news/story/Kollega_Sokolova_rasskazal_kak_on_vel_sebya_posle_ubijstva_Eshhenko...</td>\n",
       "      <td>17:10</td>\n",
       "    </tr>\n",
       "    <tr>\n",
       "      <td>7</td>\n",
       "      <td>5f05dfe2ec860e86a0e14a5d</td>\n",
       "      <td>В Петербурге дали разрешение на ввод второй очереди «Лахта Центра»</td>\n",
       "      <td>АиФ Санкт-Петербург</td>\n",
       "      <td>https://yandex.ru/news/story/V_Peterburge_dali_razreshenie_na_vvod_vtoroj_ocheredi_Lakhta_Centra...</td>\n",
       "      <td>15:37</td>\n",
       "    </tr>\n",
       "    <tr>\n",
       "      <td>8</td>\n",
       "      <td>5f05dfe2ec860e86a0e14a5e</td>\n",
       "      <td>Росздравнадзор: возгорания в больницах произошли не от аппаратов ИВЛ</td>\n",
       "      <td>Вести.Ru</td>\n",
       "      <td>https://yandex.ru/news/story/Roszdravnadzor_vozgoraniya_v_bolnicakh_proizoshli_ne_ot_apparatov_I...</td>\n",
       "      <td>17:34</td>\n",
       "    </tr>\n",
       "    <tr>\n",
       "      <td>9</td>\n",
       "      <td>5f05dfe2ec860e86a0e14a5f</td>\n",
       "      <td>Завершено расследование дела в отношении обокравшей банк кассирши</td>\n",
       "      <td>Известия</td>\n",
       "      <td>https://yandex.ru/news/story/Zaversheno_rassledovanie_dela_v_otnoshenii_obokravshej_bank_kassirs...</td>\n",
       "      <td>17:43</td>\n",
       "    </tr>\n",
       "  </tbody>\n",
       "</table>\n",
       "</div>"
      ],
      "text/plain": [
       "                        _id                                                                  title               source                                                                                                 link   date\n",
       "0  5f05dfe2ec860e86a0e14a56                  Минздрав одобрил препарат от коронавируса «Коронавир»                  РБК  https://yandex.ru/news/story/Minzdrav_odobril_preparat_ot_koronavirusa_Koronavir--33232270632e99...  17:45\n",
       "1  5f05dfe2ec860e86a0e14a57            В Подмосковье к 15 июля планируют открыть рестораны и пляжи        RT на русском  https://yandex.ru/news/story/V_Podmoskove_k_15_iyulya_planiruyut_otkryt_restorany_i_plyazhi--f89...  17:45\n",
       "2  5f05dfe2ec860e86a0e14a58         В АТОР спрогнозировали сроки возобновления зарубежного туризма            Газета.Ru  https://yandex.ru/news/story/V_ATOR_sprognozirovali_sroki_vozobnovleniya_zarubezhnogo_turizma--8...  17:42\n",
       "3  5f05dfe2ec860e86a0e14a59  Госдума 23 июля примет закон о приравнивании отчуждения к экстремизму               REGNUM  https://yandex.ru/news/story/Gosduma_23_iyulya_primet_zakon_o_priravnivanii_otchuzhdeniya_k_ehks...  17:42\n",
       "4  5f05dfe2ec860e86a0e14a5a   Заксобрание утвердило кандидатуру Бельского на пост вице-губернатора           Gazeta.SPb  https://yandex.ru/news/story/Zaksobranie_utverdilo_kandidaturu_Belskogo_na_post_vice-gubernatora...  17:40\n",
       "5  5f05dfe2ec860e86a0e14a5b      Двор «Никольских рядов» на Садовой улице открылся для посетителей            Собака.ru  https://yandex.ru/news/story/Dvor_Nikolskikh_ryadov_na_Sadovoj_ulice_otkrylsya_dlya_posetitelej-...  17:24\n",
       "6  5f05dfe2ec860e86a0e14a5c      Коллега Соколова рассказал, как он вел себя после убийства Ещенко           Gazeta.SPb  https://yandex.ru/news/story/Kollega_Sokolova_rasskazal_kak_on_vel_sebya_posle_ubijstva_Eshhenko...  17:10\n",
       "7  5f05dfe2ec860e86a0e14a5d     В Петербурге дали разрешение на ввод второй очереди «Лахта Центра»  АиФ Санкт-Петербург  https://yandex.ru/news/story/V_Peterburge_dali_razreshenie_na_vvod_vtoroj_ocheredi_Lakhta_Centra...  15:37\n",
       "8  5f05dfe2ec860e86a0e14a5e   Росздравнадзор: возгорания в больницах произошли не от аппаратов ИВЛ             Вести.Ru  https://yandex.ru/news/story/Roszdravnadzor_vozgoraniya_v_bolnicakh_proizoshli_ne_ot_apparatov_I...  17:34\n",
       "9  5f05dfe2ec860e86a0e14a5f      Завершено расследование дела в отношении обокравшей банк кассирши             Известия  https://yandex.ru/news/story/Zaversheno_rassledovanie_dela_v_otnoshenii_obokravshej_bank_kassirs...  17:43"
      ]
     },
     "metadata": {},
     "output_type": "display_data"
    }
   ],
   "source": [
    "to_dataset('news', 'yandex', findings)"
   ]
  },
  {
   "cell_type": "code",
   "execution_count": 95,
   "metadata": {},
   "outputs": [],
   "source": [
    "def get_news_lenta(header):\n",
    "    response = requests.get('https://lenta.ru/', headers=header)\n",
    "    dom = html.fromstring(response.text)\n",
    "    news = []\n",
    "    items = dom.xpath(\"//div[contains(@class, 'yellow-box__wrap')]//a\")\n",
    "    for item in items:\n",
    "        new = {}\n",
    "        title = item.xpath(\".//text()\")[0].replace('\\xa0', ' ')     \n",
    "        url = item.xpath(\"./@href\")[0]\n",
    "        if 'https' in url:\n",
    "            continue\n",
    "        time.sleep(1)\n",
    "        link = 'https://lenta.ru'+url\n",
    "        res = requests.get(link, headers=header)\n",
    "        domlink = html.fromstring(res.text)\n",
    "        date = domlink.xpath(\"//time[contains(@class, 'g-date')]/@datetime\")[0]\n",
    "        print(date, link)\n",
    "\n",
    "        new['title'] = title\n",
    "        new['link'] = link\n",
    "        new['date'] = date\n",
    "\n",
    "        news.append(new)\n",
    "        \n",
    "    return(news)"
   ]
  },
  {
   "cell_type": "code",
   "execution_count": 96,
   "metadata": {
    "scrolled": true
   },
   "outputs": [
    {
     "name": "stdout",
     "output_type": "stream",
     "text": [
      "2020-07-08T15:16:00+03:00 https://lenta.ru/news/2020/07/08/progress/\n",
      "2020-07-08T17:08:00+03:00 https://lenta.ru/news/2020/07/08/nalog/\n",
      "2020-07-08T16:06:00+03:00 https://lenta.ru/news/2020/07/08/maya/\n",
      "2020-07-08T12:46:00+03:00 https://lenta.ru/news/2020/07/08/biden_in_ussr/\n",
      "2020-07-08T15:29:00+03:00 https://lenta.ru/news/2020/07/08/netlineek/\n",
      "2020-07-08T13:11:00+03:00 https://lenta.ru/news/2020/07/08/peskov/\n",
      "2020-07-08T14:55:00+03:00 https://lenta.ru/news/2020/07/08/rastorgli/\n",
      "2020-07-08T11:34:00+03:00 https://lenta.ru/news/2020/07/08/proslushka/\n",
      "2020-07-08T06:44:00+03:00 https://lenta.ru/news/2020/07/08/hiv/\n"
     ]
    }
   ],
   "source": [
    "findings = get_news_lenta(header)"
   ]
  },
  {
   "cell_type": "code",
   "execution_count": 97,
   "metadata": {
    "scrolled": true
   },
   "outputs": [
    {
     "data": {
      "text/plain": [
       "[{'title': 'Мишустин заявил об угрозе достижениям в борьбе с бедностью в России',\n",
       "  'link': 'https://lenta.ru/news/2020/07/08/progress/',\n",
       "  'date': '2020-07-08T15:16:00+03:00'},\n",
       " {'title': 'России предрекли самые большие потери из-за нового налога в Европе',\n",
       "  'link': 'https://lenta.ru/news/2020/07/08/nalog/',\n",
       "  'date': '2020-07-08T17:08:00+03:00'},\n",
       " {'title': 'Раскрыт сценарий возвращения международных перелетов в России',\n",
       "  'link': 'https://lenta.ru/news/2020/07/08/maya/',\n",
       "  'date': '2020-07-08T16:06:00+03:00'},\n",
       " {'title': 'Найдено свидетельство первого визита Байдена в СССР',\n",
       "  'link': 'https://lenta.ru/news/2020/07/08/biden_in_ussr/',\n",
       "  'date': '2020-07-08T12:46:00+03:00'},\n",
       " {'title': 'Российских школьников оставили без линеек 1 сентября',\n",
       "  'link': 'https://lenta.ru/news/2020/07/08/netlineek/',\n",
       "  'date': '2020-07-08T15:29:00+03:00'},\n",
       " {'title': 'Кремль ответил на главные вопросы по делу Сафронова',\n",
       "  'link': 'https://lenta.ru/news/2020/07/08/peskov/',\n",
       "  'date': '2020-07-08T13:11:00+03:00'},\n",
       " {'title': 'Украина расторгла меморандум с Россией о борьбе с терроризмом',\n",
       "  'link': 'https://lenta.ru/news/2020/07/08/rastorgli/',\n",
       "  'date': '2020-07-08T14:55:00+03:00'},\n",
       " {'title': 'Стало известно об «очень долгой слежке» ФСБ за советником главы «Роскосмоса»',\n",
       "  'link': 'https://lenta.ru/news/2020/07/08/proslushka/',\n",
       "  'date': '2020-07-08T11:34:00+03:00'},\n",
       " {'title': 'Третий человек в мире излечился от ВИЧ',\n",
       "  'link': 'https://lenta.ru/news/2020/07/08/hiv/',\n",
       "  'date': '2020-07-08T06:44:00+03:00'}]"
      ]
     },
     "execution_count": 97,
     "metadata": {},
     "output_type": "execute_result"
    }
   ],
   "source": [
    "findings"
   ]
  },
  {
   "cell_type": "code",
   "execution_count": 98,
   "metadata": {},
   "outputs": [
    {
     "name": "stderr",
     "output_type": "stream",
     "text": [
      "100%|███████████████████████████████████████████████████████████████████████████████████| 9/9 [00:00<00:00, 299.87it/s]\n"
     ]
    },
    {
     "data": {
      "text/html": [
       "<div>\n",
       "<style scoped>\n",
       "    .dataframe tbody tr th:only-of-type {\n",
       "        vertical-align: middle;\n",
       "    }\n",
       "\n",
       "    .dataframe tbody tr th {\n",
       "        vertical-align: top;\n",
       "    }\n",
       "\n",
       "    .dataframe thead th {\n",
       "        text-align: right;\n",
       "    }\n",
       "</style>\n",
       "<table border=\"1\" class=\"dataframe\">\n",
       "  <thead>\n",
       "    <tr style=\"text-align: right;\">\n",
       "      <th></th>\n",
       "      <th>_id</th>\n",
       "      <th>title</th>\n",
       "      <th>link</th>\n",
       "      <th>date</th>\n",
       "    </tr>\n",
       "  </thead>\n",
       "  <tbody>\n",
       "    <tr>\n",
       "      <td>0</td>\n",
       "      <td>5f05e874ec860e86a0e14a97</td>\n",
       "      <td>Мишустин заявил об угрозе достижениям в борьбе с бедностью в России</td>\n",
       "      <td>https://lenta.ru/news/2020/07/08/progress/</td>\n",
       "      <td>2020-07-08T15:16:00+03:00</td>\n",
       "    </tr>\n",
       "    <tr>\n",
       "      <td>1</td>\n",
       "      <td>5f05e874ec860e86a0e14a98</td>\n",
       "      <td>России предрекли самые большие потери из-за нового налога в Европе</td>\n",
       "      <td>https://lenta.ru/news/2020/07/08/nalog/</td>\n",
       "      <td>2020-07-08T17:08:00+03:00</td>\n",
       "    </tr>\n",
       "    <tr>\n",
       "      <td>2</td>\n",
       "      <td>5f05e874ec860e86a0e14a99</td>\n",
       "      <td>Раскрыт сценарий возвращения международных перелетов в России</td>\n",
       "      <td>https://lenta.ru/news/2020/07/08/maya/</td>\n",
       "      <td>2020-07-08T16:06:00+03:00</td>\n",
       "    </tr>\n",
       "    <tr>\n",
       "      <td>3</td>\n",
       "      <td>5f05e874ec860e86a0e14a9a</td>\n",
       "      <td>Найдено свидетельство первого визита Байдена в СССР</td>\n",
       "      <td>https://lenta.ru/news/2020/07/08/biden_in_ussr/</td>\n",
       "      <td>2020-07-08T12:46:00+03:00</td>\n",
       "    </tr>\n",
       "    <tr>\n",
       "      <td>4</td>\n",
       "      <td>5f05e874ec860e86a0e14a9b</td>\n",
       "      <td>Российских школьников оставили без линеек 1 сентября</td>\n",
       "      <td>https://lenta.ru/news/2020/07/08/netlineek/</td>\n",
       "      <td>2020-07-08T15:29:00+03:00</td>\n",
       "    </tr>\n",
       "    <tr>\n",
       "      <td>5</td>\n",
       "      <td>5f05e874ec860e86a0e14a9c</td>\n",
       "      <td>Кремль ответил на главные вопросы по делу Сафронова</td>\n",
       "      <td>https://lenta.ru/news/2020/07/08/peskov/</td>\n",
       "      <td>2020-07-08T13:11:00+03:00</td>\n",
       "    </tr>\n",
       "    <tr>\n",
       "      <td>6</td>\n",
       "      <td>5f05e874ec860e86a0e14a9d</td>\n",
       "      <td>Украина расторгла меморандум с Россией о борьбе с терроризмом</td>\n",
       "      <td>https://lenta.ru/news/2020/07/08/rastorgli/</td>\n",
       "      <td>2020-07-08T14:55:00+03:00</td>\n",
       "    </tr>\n",
       "    <tr>\n",
       "      <td>7</td>\n",
       "      <td>5f05e874ec860e86a0e14a9e</td>\n",
       "      <td>Стало известно об «очень долгой слежке» ФСБ за советником главы «Роскосмоса»</td>\n",
       "      <td>https://lenta.ru/news/2020/07/08/proslushka/</td>\n",
       "      <td>2020-07-08T11:34:00+03:00</td>\n",
       "    </tr>\n",
       "    <tr>\n",
       "      <td>8</td>\n",
       "      <td>5f05e874ec860e86a0e14a9f</td>\n",
       "      <td>Третий человек в мире излечился от ВИЧ</td>\n",
       "      <td>https://lenta.ru/news/2020/07/08/hiv/</td>\n",
       "      <td>2020-07-08T06:44:00+03:00</td>\n",
       "    </tr>\n",
       "  </tbody>\n",
       "</table>\n",
       "</div>"
      ],
      "text/plain": [
       "                        _id                                                                         title                                             link                       date\n",
       "0  5f05e874ec860e86a0e14a97           Мишустин заявил об угрозе достижениям в борьбе с бедностью в России       https://lenta.ru/news/2020/07/08/progress/  2020-07-08T15:16:00+03:00\n",
       "1  5f05e874ec860e86a0e14a98            России предрекли самые большие потери из-за нового налога в Европе          https://lenta.ru/news/2020/07/08/nalog/  2020-07-08T17:08:00+03:00\n",
       "2  5f05e874ec860e86a0e14a99                 Раскрыт сценарий возвращения международных перелетов в России           https://lenta.ru/news/2020/07/08/maya/  2020-07-08T16:06:00+03:00\n",
       "3  5f05e874ec860e86a0e14a9a                           Найдено свидетельство первого визита Байдена в СССР  https://lenta.ru/news/2020/07/08/biden_in_ussr/  2020-07-08T12:46:00+03:00\n",
       "4  5f05e874ec860e86a0e14a9b                          Российских школьников оставили без линеек 1 сентября      https://lenta.ru/news/2020/07/08/netlineek/  2020-07-08T15:29:00+03:00\n",
       "5  5f05e874ec860e86a0e14a9c                           Кремль ответил на главные вопросы по делу Сафронова         https://lenta.ru/news/2020/07/08/peskov/  2020-07-08T13:11:00+03:00\n",
       "6  5f05e874ec860e86a0e14a9d                 Украина расторгла меморандум с Россией о борьбе с терроризмом      https://lenta.ru/news/2020/07/08/rastorgli/  2020-07-08T14:55:00+03:00\n",
       "7  5f05e874ec860e86a0e14a9e  Стало известно об «очень долгой слежке» ФСБ за советником главы «Роскосмоса»     https://lenta.ru/news/2020/07/08/proslushka/  2020-07-08T11:34:00+03:00\n",
       "8  5f05e874ec860e86a0e14a9f                                        Третий человек в мире излечился от ВИЧ            https://lenta.ru/news/2020/07/08/hiv/  2020-07-08T06:44:00+03:00"
      ]
     },
     "metadata": {},
     "output_type": "display_data"
    }
   ],
   "source": [
    "to_dataset('news', 'lenta', findings)"
   ]
  }
 ],
 "metadata": {
  "kernelspec": {
   "display_name": "Python 3",
   "language": "python",
   "name": "python3"
  },
  "language_info": {
   "codemirror_mode": {
    "name": "ipython",
    "version": 3
   },
   "file_extension": ".py",
   "mimetype": "text/x-python",
   "name": "python",
   "nbconvert_exporter": "python",
   "pygments_lexer": "ipython3",
   "version": "3.7.3"
  }
 },
 "nbformat": 4,
 "nbformat_minor": 2
}
