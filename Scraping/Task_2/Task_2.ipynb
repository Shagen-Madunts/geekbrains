{
 "cells": [
  {
   "cell_type": "code",
   "execution_count": 1,
   "metadata": {},
   "outputs": [
    {
     "data": {
      "text/html": [
       "<style>.container { width:100% !important; }</style>"
      ],
      "text/plain": [
       "<IPython.core.display.HTML object>"
      ]
     },
     "metadata": {},
     "output_type": "display_data"
    }
   ],
   "source": [
    "import requests as rq\n",
    "import re\n",
    "from bs4 import BeautifulSoup as bs\n",
    "import numpy as np\n",
    "import math\n",
    "from random import randint\n",
    "import json\n",
    "import pickle\n",
    "import time\n",
    "# import tqdm\n",
    "from tqdm import tqdm\n",
    "from getpass import getpass\n",
    "import xmltodict, json\n",
    "import pandas as pd\n",
    "from IPython.core.display import display, HTML\n",
    "display(HTML(\"<style>.container { width:100% !important; }</style>\"))\n",
    "pd.set_option('display.max_rows', 1000)\n",
    "pd.set_option('display.max_columns', 100)\n",
    "pd.set_option('display.max_colwidth', 100)\n",
    "pd.set_option('display.width', 1000)\n",
    "pd.set_option('precision', 2)\n",
    "\n",
    "pd.options.display.float_format = '{:20,.2f}'.format\n",
    "np.set_printoptions(suppress=False)"
   ]
  },
  {
   "cell_type": "markdown",
   "metadata": {},
   "source": [
    "# Задание"
   ]
  },
  {
   "cell_type": "markdown",
   "metadata": {},
   "source": [
    "Необходимо собрать информацию о вакансиях на вводимую должность (используем input или через аргументы) с сайта superjob.ru и hh.ru. Приложение должно анализировать несколько страниц сайта(также вводим через input или аргументы). Получившийся список должен содержать в себе минимум:\n",
    "\n",
    "    *Наименование вакансии\n",
    "    *Предлагаемую зарплату (отдельно мин. и отдельно макс. и отдельно валюта)\n",
    "    *Ссылку на саму вакансию        \n",
    "    *Сайт откуда собрана вакансия\n",
    "По своему желанию можно добавить еще работодателя и расположение. Данная структура должна быть одинаковая для вакансий с обоих сайтов. Общий результат можно вывести с помощью dataFrame через pandas."
   ]
  },
  {
   "cell_type": "code",
   "execution_count": 11,
   "metadata": {},
   "outputs": [],
   "source": [
    "# Указываем интересующую должность, Headers и Paparams для запросов \n",
    "job = 'продавец'"
   ]
  },
  {
   "cell_type": "code",
   "execution_count": 12,
   "metadata": {},
   "outputs": [],
   "source": [
    "headers = {\"User-Agent\":'Mozilla/5.0 (Windows NT 10.0; Win64; x64) AppleWebKit/537.36 (KHTML, like Gecko) Chrome/83.0.4103.116 Safari/537.36', 'accept': '*/*',\n",
    "          'cookie': '_xsrf=de884125fde6477ed9c7161ed263ea53; _xsrf=de884125fde6477ed9c7161ed263ea53; hhrole=anonymous; region_clarified=NOT_SET; display=desktop; hhtoken=LPeQjTKZ_afPzaTypkHXCMgn0_jl; hhuid=lk36Wan1dMD2dl74cc1I5w--; GMT=3; _fbp=fb.1.1593340366222.421034606; iap.uid=2016ae8cd7d542b186d6e67a282f7d87; _ga=GA1.2.45243456.1593340367; _gid=GA1.2.1045293019.1593340367; __zzatgib-w-hh=MDA0dBA=Fz2+aQ==; regions=113; __ddg1=arLcdN8Pq8fTWee0ZdlV; _ym_d=1593345354; _ym_uid=159334535496613988; _ym_isad=2; __ddg2=sSwrGRG1bIhS7u2w; total_searches=47; gssc58=; _ym_visorc_156828=w; _gat_gtag_UA_11659974_2=1; cfidsgib-w-hh=yPYHkzwbbl0DO5VJDLh0f+Pjzkb47tVWctu3OAbo9LdPC+lj/9CGbxMAVInqh3ZK/WY/sYxuS1mnY++uDQ+YdSJjEIblX8A66VzewCULumH4nHpBVFhE6T8vOkE3ggxI+Z2Sy33+/mwRkPR7GBSIbk7x2AwQY0EZTjAisLY=; gsscgib-w-hh=NVIvBOyd9CDXzwpLBEvVN1HFf9QmBdIhGDZtZ5ZZ+ps4FZelgYFFK2WM0JAUKnxg2+p9DDGwrfxOPapKqLLkG00k7LEyCdZ8oas9CV4/8dnd8TmJAPbN9OeLhmTQg8vTiauJHU+e8b9PDX2SwgTqQFNmcBN2sahuEv2FuznPrHrndF/3mkhsqTJ4g94=; fgsscgib-w-hh=e0a6861354de74151cc564cc99569903e8742063; cfidsgib-w-hh=cpeq9lhFLTJephPmzT4JIGnNmwmBw8YzbF6rE7KzoX4e/EexNKNVn4RIe5ukHyCGwftXp9d6K1oHMsAoCMnIYJElCYMfks+/vkeg1M26QbfvpepfDBaDFFYKoS47ysDkcgtrpuZAzJYRbqKa8mlaMWF1l97+JMvTQ4jk3Ns='}\n",
    "params = {'area':113, 'st':'searchVacancy', 'text':job,'fromSearch':True, 'from':'suggest_post', \"items_on_page\": 100}"
   ]
  },
  {
   "cell_type": "markdown",
   "metadata": {},
   "source": [
    "*Теперь собираем максильно возможное количество страниц по каждому региону и добавляем ссылки на найденные страницы в список URLS*"
   ]
  },
  {
   "cell_type": "code",
   "execution_count": 5,
   "metadata": {
    "scrolled": true
   },
   "outputs": [
    {
     "name": "stderr",
     "output_type": "stream",
     "text": [
      "100%|██████████████████████████████████████████████████████████████████████████████| 5000/5000 [48:29<00:00,  2.55it/s]\n"
     ]
    }
   ],
   "source": [
    "areas = [i for i in range(0,5000)]\n",
    "\n",
    "urls = []\n",
    "for area in tqdm(areas):\n",
    "    ur = f\"https://hh.ru/search/vacancy?L_is_autosearch=false&area={area}&only_with_salary=true&items_on_page=100&clusters=true&enable_snippets=true&text={params['text']}\"\n",
    "    req = rq.get(f\"{ur}\", headers=headers)\n",
    "    soup = bs(req.text, 'html.parser')\n",
    "    try:\n",
    "        counts = int(str(soup.find_all(\"h1\", attrs={'class':\"bloko-header-1\"})[0].text.strip()).split('вакансий')[0].replace('\\xa0', ''))\n",
    "    except:\n",
    "        continue\n",
    "    if counts > 0 and counts <= 100:\n",
    "        urls.append([f\"https://hh.ru/search/vacancy?L_is_autosearch=true&area={area}&currency_code=RUR&only_with_salary=true&items_on_page=100&clusters=true&enable_snippets=true&text={params['text']}&page=0\"])\n",
    "    if counts > 100:\n",
    "        c = counts // 100 + 1\n",
    "        res = c if c <=20 else 20\n",
    "        urls.append([f\"https://hh.ru/search/vacancy?L_is_autosearch=true&area={area}&currency_code=RUR&only_with_salary=true&items_on_page=100&clusters=true&enable_snippets=true&text={params['text']}&page={i}\" for i in list(range(res))])                            "
   ]
  },
  {
   "cell_type": "code",
   "execution_count": 6,
   "metadata": {},
   "outputs": [],
   "source": [
    "with open('list_urls_hh_v3.pkl', 'wb') as f:\n",
    "    pickle.dump(urls, f)"
   ]
  },
  {
   "cell_type": "markdown",
   "metadata": {},
   "source": [
    "*Теперь собираем по списку URLS все id вакансий и создаем список ссылок LINKS уже на конкретные вакансии*"
   ]
  },
  {
   "cell_type": "code",
   "execution_count": 33,
   "metadata": {},
   "outputs": [],
   "source": [
    "urls = pd.read_pickle('list_urls_hh_v3.pkl')"
   ]
  },
  {
   "cell_type": "code",
   "execution_count": 34,
   "metadata": {
    "scrolled": true
   },
   "outputs": [
    {
     "name": "stderr",
     "output_type": "stream",
     "text": [
      "\n",
      "\n",
      "\n",
      "  0%|                                                                                          | 0/100 [00:00<?, ?it/s]"
     ]
    },
    {
     "name": "stdout",
     "output_type": "stream",
     "text": [
      "https://hh.ru/search/vacancy?L_is_autosearch=true&area=0&currency_code=RUR&only_with_salary=true&items_on_page=100&clusters=true&enable_snippets=true&text=продавец&page=0\n",
      "Статус: 200\n",
      "https://hh.ru/search/vacancy?L_is_autosearch=true&area=0&currency_code=RUR&only_with_salary=true&items_on_page=100&clusters=true&enable_snippets=true&text=продавец&page=1\n",
      "Статус: 200\n",
      "https://hh.ru/search/vacancy?L_is_autosearch=true&area=0&currency_code=RUR&only_with_salary=true&items_on_page=100&clusters=true&enable_snippets=true&text=продавец&page=2\n",
      "Статус: 200\n",
      "https://hh.ru/search/vacancy?L_is_autosearch=true&area=0&currency_code=RUR&only_with_salary=true&items_on_page=100&clusters=true&enable_snippets=true&text=продавец&page=3\n",
      "Статус: 200\n",
      "https://hh.ru/search/vacancy?L_is_autosearch=true&area=0&currency_code=RUR&only_with_salary=true&items_on_page=100&clusters=true&enable_snippets=true&text=продавец&page=4\n",
      "Статус: 200\n",
      "https://hh.ru/search/vacancy?L_is_autosearch=true&area=0&currency_code=RUR&only_with_salary=true&items_on_page=100&clusters=true&enable_snippets=true&text=продавец&page=5\n",
      "Статус: 200\n",
      "https://hh.ru/search/vacancy?L_is_autosearch=true&area=0&currency_code=RUR&only_with_salary=true&items_on_page=100&clusters=true&enable_snippets=true&text=продавец&page=6\n",
      "Статус: 200\n",
      "https://hh.ru/search/vacancy?L_is_autosearch=true&area=0&currency_code=RUR&only_with_salary=true&items_on_page=100&clusters=true&enable_snippets=true&text=продавец&page=7\n",
      "Статус: 200\n",
      "https://hh.ru/search/vacancy?L_is_autosearch=true&area=0&currency_code=RUR&only_with_salary=true&items_on_page=100&clusters=true&enable_snippets=true&text=продавец&page=8\n",
      "Статус: 200\n",
      "https://hh.ru/search/vacancy?L_is_autosearch=true&area=0&currency_code=RUR&only_with_salary=true&items_on_page=100&clusters=true&enable_snippets=true&text=продавец&page=9\n",
      "Статус: 200\n",
      "https://hh.ru/search/vacancy?L_is_autosearch=true&area=0&currency_code=RUR&only_with_salary=true&items_on_page=100&clusters=true&enable_snippets=true&text=продавец&page=10\n",
      "Статус: 200\n",
      "https://hh.ru/search/vacancy?L_is_autosearch=true&area=0&currency_code=RUR&only_with_salary=true&items_on_page=100&clusters=true&enable_snippets=true&text=продавец&page=11\n",
      "Статус: 200\n",
      "https://hh.ru/search/vacancy?L_is_autosearch=true&area=0&currency_code=RUR&only_with_salary=true&items_on_page=100&clusters=true&enable_snippets=true&text=продавец&page=12\n",
      "Статус: 200\n",
      "https://hh.ru/search/vacancy?L_is_autosearch=true&area=0&currency_code=RUR&only_with_salary=true&items_on_page=100&clusters=true&enable_snippets=true&text=продавец&page=13\n",
      "Статус: 200\n",
      "https://hh.ru/search/vacancy?L_is_autosearch=true&area=0&currency_code=RUR&only_with_salary=true&items_on_page=100&clusters=true&enable_snippets=true&text=продавец&page=14\n",
      "Статус: 200\n",
      "https://hh.ru/search/vacancy?L_is_autosearch=true&area=0&currency_code=RUR&only_with_salary=true&items_on_page=100&clusters=true&enable_snippets=true&text=продавец&page=15\n",
      "Статус: 200\n",
      "https://hh.ru/search/vacancy?L_is_autosearch=true&area=0&currency_code=RUR&only_with_salary=true&items_on_page=100&clusters=true&enable_snippets=true&text=продавец&page=16\n",
      "Статус: 200\n",
      "https://hh.ru/search/vacancy?L_is_autosearch=true&area=0&currency_code=RUR&only_with_salary=true&items_on_page=100&clusters=true&enable_snippets=true&text=продавец&page=17\n",
      "Статус: 200\n",
      "https://hh.ru/search/vacancy?L_is_autosearch=true&area=0&currency_code=RUR&only_with_salary=true&items_on_page=100&clusters=true&enable_snippets=true&text=продавец&page=18\n",
      "Статус: 200\n",
      "https://hh.ru/search/vacancy?L_is_autosearch=true&area=0&currency_code=RUR&only_with_salary=true&items_on_page=100&clusters=true&enable_snippets=true&text=продавец&page=19\n",
      "Статус: 200\n"
     ]
    },
    {
     "name": "stderr",
     "output_type": "stream",
     "text": [
      "\n",
      "\n",
      "\n",
      "  1%|▊                                                                                 | 1/100 [00:24<39:48, 24.13s/it]"
     ]
    },
    {
     "name": "stdout",
     "output_type": "stream",
     "text": [
      "https://hh.ru/search/vacancy?L_is_autosearch=true&area=1&currency_code=RUR&only_with_salary=true&items_on_page=100&clusters=true&enable_snippets=true&text=продавец&page=0\n",
      "Статус: 200\n",
      "https://hh.ru/search/vacancy?L_is_autosearch=true&area=1&currency_code=RUR&only_with_salary=true&items_on_page=100&clusters=true&enable_snippets=true&text=продавец&page=1\n",
      "Статус: 200\n",
      "https://hh.ru/search/vacancy?L_is_autosearch=true&area=1&currency_code=RUR&only_with_salary=true&items_on_page=100&clusters=true&enable_snippets=true&text=продавец&page=2\n",
      "Статус: 200\n",
      "https://hh.ru/search/vacancy?L_is_autosearch=true&area=1&currency_code=RUR&only_with_salary=true&items_on_page=100&clusters=true&enable_snippets=true&text=продавец&page=3\n",
      "Статус: 200\n",
      "https://hh.ru/search/vacancy?L_is_autosearch=true&area=1&currency_code=RUR&only_with_salary=true&items_on_page=100&clusters=true&enable_snippets=true&text=продавец&page=4\n",
      "Статус: 200\n",
      "https://hh.ru/search/vacancy?L_is_autosearch=true&area=1&currency_code=RUR&only_with_salary=true&items_on_page=100&clusters=true&enable_snippets=true&text=продавец&page=5\n",
      "Статус: 200\n",
      "https://hh.ru/search/vacancy?L_is_autosearch=true&area=1&currency_code=RUR&only_with_salary=true&items_on_page=100&clusters=true&enable_snippets=true&text=продавец&page=6\n",
      "Статус: 200\n",
      "https://hh.ru/search/vacancy?L_is_autosearch=true&area=1&currency_code=RUR&only_with_salary=true&items_on_page=100&clusters=true&enable_snippets=true&text=продавец&page=7\n",
      "Статус: 200\n",
      "https://hh.ru/search/vacancy?L_is_autosearch=true&area=1&currency_code=RUR&only_with_salary=true&items_on_page=100&clusters=true&enable_snippets=true&text=продавец&page=8\n",
      "Статус: 200\n",
      "https://hh.ru/search/vacancy?L_is_autosearch=true&area=1&currency_code=RUR&only_with_salary=true&items_on_page=100&clusters=true&enable_snippets=true&text=продавец&page=9\n",
      "Статус: 200\n",
      "https://hh.ru/search/vacancy?L_is_autosearch=true&area=1&currency_code=RUR&only_with_salary=true&items_on_page=100&clusters=true&enable_snippets=true&text=продавец&page=10\n",
      "Статус: 200\n",
      "https://hh.ru/search/vacancy?L_is_autosearch=true&area=1&currency_code=RUR&only_with_salary=true&items_on_page=100&clusters=true&enable_snippets=true&text=продавец&page=11\n",
      "Статус: 200\n",
      "https://hh.ru/search/vacancy?L_is_autosearch=true&area=1&currency_code=RUR&only_with_salary=true&items_on_page=100&clusters=true&enable_snippets=true&text=продавец&page=12\n",
      "Статус: 200\n",
      "https://hh.ru/search/vacancy?L_is_autosearch=true&area=1&currency_code=RUR&only_with_salary=true&items_on_page=100&clusters=true&enable_snippets=true&text=продавец&page=13\n",
      "Статус: 200\n",
      "https://hh.ru/search/vacancy?L_is_autosearch=true&area=1&currency_code=RUR&only_with_salary=true&items_on_page=100&clusters=true&enable_snippets=true&text=продавец&page=14\n",
      "Статус: 200\n",
      "https://hh.ru/search/vacancy?L_is_autosearch=true&area=1&currency_code=RUR&only_with_salary=true&items_on_page=100&clusters=true&enable_snippets=true&text=продавец&page=15\n",
      "Статус: 200\n",
      "https://hh.ru/search/vacancy?L_is_autosearch=true&area=1&currency_code=RUR&only_with_salary=true&items_on_page=100&clusters=true&enable_snippets=true&text=продавец&page=16\n",
      "Статус: 200\n",
      "https://hh.ru/search/vacancy?L_is_autosearch=true&area=1&currency_code=RUR&only_with_salary=true&items_on_page=100&clusters=true&enable_snippets=true&text=продавец&page=17\n",
      "Статус: 200\n",
      "https://hh.ru/search/vacancy?L_is_autosearch=true&area=1&currency_code=RUR&only_with_salary=true&items_on_page=100&clusters=true&enable_snippets=true&text=продавец&page=18\n",
      "Статус: 200\n",
      "https://hh.ru/search/vacancy?L_is_autosearch=true&area=1&currency_code=RUR&only_with_salary=true&items_on_page=100&clusters=true&enable_snippets=true&text=продавец&page=19\n",
      "Статус: 200\n"
     ]
    },
    {
     "name": "stderr",
     "output_type": "stream",
     "text": [
      "\n",
      "\n",
      "\n",
      "  2%|█▋                                                                                | 2/100 [00:44<37:42, 23.09s/it]"
     ]
    },
    {
     "name": "stdout",
     "output_type": "stream",
     "text": [
      "https://hh.ru/search/vacancy?L_is_autosearch=true&area=2&currency_code=RUR&only_with_salary=true&items_on_page=100&clusters=true&enable_snippets=true&text=продавец&page=0\n",
      "Статус: 200\n",
      "https://hh.ru/search/vacancy?L_is_autosearch=true&area=2&currency_code=RUR&only_with_salary=true&items_on_page=100&clusters=true&enable_snippets=true&text=продавец&page=1\n",
      "Статус: 200\n",
      "https://hh.ru/search/vacancy?L_is_autosearch=true&area=2&currency_code=RUR&only_with_salary=true&items_on_page=100&clusters=true&enable_snippets=true&text=продавец&page=2\n",
      "Статус: 200\n",
      "https://hh.ru/search/vacancy?L_is_autosearch=true&area=2&currency_code=RUR&only_with_salary=true&items_on_page=100&clusters=true&enable_snippets=true&text=продавец&page=3\n",
      "Статус: 200\n",
      "https://hh.ru/search/vacancy?L_is_autosearch=true&area=2&currency_code=RUR&only_with_salary=true&items_on_page=100&clusters=true&enable_snippets=true&text=продавец&page=4\n",
      "Статус: 200\n",
      "https://hh.ru/search/vacancy?L_is_autosearch=true&area=2&currency_code=RUR&only_with_salary=true&items_on_page=100&clusters=true&enable_snippets=true&text=продавец&page=5\n",
      "Статус: 200\n",
      "https://hh.ru/search/vacancy?L_is_autosearch=true&area=2&currency_code=RUR&only_with_salary=true&items_on_page=100&clusters=true&enable_snippets=true&text=продавец&page=6\n",
      "Статус: 200\n",
      "https://hh.ru/search/vacancy?L_is_autosearch=true&area=2&currency_code=RUR&only_with_salary=true&items_on_page=100&clusters=true&enable_snippets=true&text=продавец&page=7\n",
      "Статус: 200\n",
      "https://hh.ru/search/vacancy?L_is_autosearch=true&area=2&currency_code=RUR&only_with_salary=true&items_on_page=100&clusters=true&enable_snippets=true&text=продавец&page=8\n",
      "Статус: 200\n",
      "https://hh.ru/search/vacancy?L_is_autosearch=true&area=2&currency_code=RUR&only_with_salary=true&items_on_page=100&clusters=true&enable_snippets=true&text=продавец&page=9\n",
      "Статус: 200\n",
      "https://hh.ru/search/vacancy?L_is_autosearch=true&area=2&currency_code=RUR&only_with_salary=true&items_on_page=100&clusters=true&enable_snippets=true&text=продавец&page=10\n",
      "Статус: 200\n",
      "https://hh.ru/search/vacancy?L_is_autosearch=true&area=2&currency_code=RUR&only_with_salary=true&items_on_page=100&clusters=true&enable_snippets=true&text=продавец&page=11\n",
      "Статус: 200\n",
      "https://hh.ru/search/vacancy?L_is_autosearch=true&area=2&currency_code=RUR&only_with_salary=true&items_on_page=100&clusters=true&enable_snippets=true&text=продавец&page=12\n",
      "Статус: 200\n",
      "https://hh.ru/search/vacancy?L_is_autosearch=true&area=2&currency_code=RUR&only_with_salary=true&items_on_page=100&clusters=true&enable_snippets=true&text=продавец&page=13\n",
      "Статус: 200\n",
      "https://hh.ru/search/vacancy?L_is_autosearch=true&area=2&currency_code=RUR&only_with_salary=true&items_on_page=100&clusters=true&enable_snippets=true&text=продавец&page=14\n",
      "Статус: 200\n",
      "https://hh.ru/search/vacancy?L_is_autosearch=true&area=2&currency_code=RUR&only_with_salary=true&items_on_page=100&clusters=true&enable_snippets=true&text=продавец&page=15\n",
      "Статус: 200\n",
      "https://hh.ru/search/vacancy?L_is_autosearch=true&area=2&currency_code=RUR&only_with_salary=true&items_on_page=100&clusters=true&enable_snippets=true&text=продавец&page=16\n",
      "Статус: 200\n"
     ]
    },
    {
     "name": "stderr",
     "output_type": "stream",
     "text": [
      "\n",
      "\n",
      "\n",
      "  3%|██▍                                                                               | 3/100 [01:01<34:17, 21.22s/it]"
     ]
    },
    {
     "name": "stdout",
     "output_type": "stream",
     "text": [
      "https://hh.ru/search/vacancy?L_is_autosearch=true&area=10&currency_code=RUR&only_with_salary=true&items_on_page=100&clusters=true&enable_snippets=true&text=продавец&page=0\n",
      "Статус: 200\n"
     ]
    },
    {
     "name": "stderr",
     "output_type": "stream",
     "text": [
      "\n",
      "\n",
      "\n",
      "  4%|███▎                                                                              | 4/100 [01:02<24:06, 15.07s/it]"
     ]
    },
    {
     "name": "stdout",
     "output_type": "stream",
     "text": [
      "https://hh.ru/search/vacancy?L_is_autosearch=true&area=11&currency_code=RUR&only_with_salary=true&items_on_page=100&clusters=true&enable_snippets=true&text=продавец&page=0\n",
      "Статус: 200\n",
      "https://hh.ru/search/vacancy?L_is_autosearch=true&area=11&currency_code=RUR&only_with_salary=true&items_on_page=100&clusters=true&enable_snippets=true&text=продавец&page=1\n",
      "Статус: 200\n",
      "https://hh.ru/search/vacancy?L_is_autosearch=true&area=11&currency_code=RUR&only_with_salary=true&items_on_page=100&clusters=true&enable_snippets=true&text=продавец&page=2\n",
      "Статус: 200\n"
     ]
    },
    {
     "name": "stderr",
     "output_type": "stream",
     "text": [
      "\n",
      "\n",
      "\n",
      "  5%|████                                                                              | 5/100 [01:06<18:29, 11.68s/it]"
     ]
    },
    {
     "name": "stdout",
     "output_type": "stream",
     "text": [
      "https://hh.ru/search/vacancy?L_is_autosearch=true&area=14&currency_code=RUR&only_with_salary=true&items_on_page=100&clusters=true&enable_snippets=true&text=продавец&page=0\n",
      "Статус: 200\n"
     ]
    },
    {
     "name": "stderr",
     "output_type": "stream",
     "text": [
      "\n",
      "\n",
      "\n",
      "  6%|████▉                                                                             | 6/100 [01:07<13:18,  8.49s/it]"
     ]
    },
    {
     "name": "stdout",
     "output_type": "stream",
     "text": [
      "https://hh.ru/search/vacancy?L_is_autosearch=true&area=15&currency_code=RUR&only_with_salary=true&items_on_page=100&clusters=true&enable_snippets=true&text=продавец&page=0\n",
      "Статус: 200\n",
      "https://hh.ru/search/vacancy?L_is_autosearch=true&area=15&currency_code=RUR&only_with_salary=true&items_on_page=100&clusters=true&enable_snippets=true&text=продавец&page=1\n",
      "Статус: 200\n"
     ]
    },
    {
     "name": "stderr",
     "output_type": "stream",
     "text": [
      "\n",
      "\n",
      "\n",
      "  7%|█████▋                                                                            | 7/100 [01:08<09:55,  6.40s/it]"
     ]
    },
    {
     "name": "stdout",
     "output_type": "stream",
     "text": [
      "https://hh.ru/search/vacancy?L_is_autosearch=true&area=16&currency_code=RUR&only_with_salary=true&items_on_page=100&clusters=true&enable_snippets=true&text=продавец&page=0\n",
      "Статус: 200\n",
      "https://hh.ru/search/vacancy?L_is_autosearch=true&area=16&currency_code=RUR&only_with_salary=true&items_on_page=100&clusters=true&enable_snippets=true&text=продавец&page=1\n",
      "Статус: 200\n",
      "https://hh.ru/search/vacancy?L_is_autosearch=true&area=16&currency_code=RUR&only_with_salary=true&items_on_page=100&clusters=true&enable_snippets=true&text=продавец&page=2\n",
      "Статус: 200\n",
      "https://hh.ru/search/vacancy?L_is_autosearch=true&area=16&currency_code=RUR&only_with_salary=true&items_on_page=100&clusters=true&enable_snippets=true&text=продавец&page=3\n",
      "Статус: 200\n",
      "https://hh.ru/search/vacancy?L_is_autosearch=true&area=16&currency_code=RUR&only_with_salary=true&items_on_page=100&clusters=true&enable_snippets=true&text=продавец&page=4\n",
      "Статус: 200\n",
      "https://hh.ru/search/vacancy?L_is_autosearch=true&area=16&currency_code=RUR&only_with_salary=true&items_on_page=100&clusters=true&enable_snippets=true&text=продавец&page=5\n",
      "Статус: 200\n",
      "https://hh.ru/search/vacancy?L_is_autosearch=true&area=16&currency_code=RUR&only_with_salary=true&items_on_page=100&clusters=true&enable_snippets=true&text=продавец&page=6\n",
      "Статус: 200\n",
      "https://hh.ru/search/vacancy?L_is_autosearch=true&area=16&currency_code=RUR&only_with_salary=true&items_on_page=100&clusters=true&enable_snippets=true&text=продавец&page=7\n",
      "Статус: 200\n",
      "https://hh.ru/search/vacancy?L_is_autosearch=true&area=16&currency_code=RUR&only_with_salary=true&items_on_page=100&clusters=true&enable_snippets=true&text=продавец&page=8\n",
      "Статус: 200\n",
      "https://hh.ru/search/vacancy?L_is_autosearch=true&area=16&currency_code=RUR&only_with_salary=true&items_on_page=100&clusters=true&enable_snippets=true&text=продавец&page=9\n",
      "Статус: 200\n",
      "https://hh.ru/search/vacancy?L_is_autosearch=true&area=16&currency_code=RUR&only_with_salary=true&items_on_page=100&clusters=true&enable_snippets=true&text=продавец&page=10\n",
      "Статус: 200\n",
      "https://hh.ru/search/vacancy?L_is_autosearch=true&area=16&currency_code=RUR&only_with_salary=true&items_on_page=100&clusters=true&enable_snippets=true&text=продавец&page=11\n",
      "Статус: 200\n",
      "https://hh.ru/search/vacancy?L_is_autosearch=true&area=16&currency_code=RUR&only_with_salary=true&items_on_page=100&clusters=true&enable_snippets=true&text=продавец&page=12\n",
      "Статус: 200\n"
     ]
    },
    {
     "name": "stderr",
     "output_type": "stream",
     "text": [
      "\n",
      "\n",
      "\n",
      "  8%|██████▌                                                                           | 8/100 [01:22<13:09,  8.59s/it]"
     ]
    },
    {
     "name": "stdout",
     "output_type": "stream",
     "text": [
      "https://hh.ru/search/vacancy?L_is_autosearch=true&area=17&currency_code=RUR&only_with_salary=true&items_on_page=100&clusters=true&enable_snippets=true&text=продавец&page=0\n",
      "Статус: 200\n",
      "https://hh.ru/search/vacancy?L_is_autosearch=true&area=17&currency_code=RUR&only_with_salary=true&items_on_page=100&clusters=true&enable_snippets=true&text=продавец&page=1\n",
      "Статус: 200\n"
     ]
    },
    {
     "name": "stderr",
     "output_type": "stream",
     "text": [
      "\n",
      "\n",
      "\n",
      "  9%|███████▍                                                                          | 9/100 [01:24<10:00,  6.60s/it]"
     ]
    },
    {
     "name": "stdout",
     "output_type": "stream",
     "text": [
      "https://hh.ru/search/vacancy?L_is_autosearch=true&area=19&currency_code=RUR&only_with_salary=true&items_on_page=100&clusters=true&enable_snippets=true&text=продавец&page=0\n",
      "Статус: 200\n",
      "https://hh.ru/search/vacancy?L_is_autosearch=true&area=19&currency_code=RUR&only_with_salary=true&items_on_page=100&clusters=true&enable_snippets=true&text=продавец&page=1\n",
      "Статус: 200\n"
     ]
    },
    {
     "name": "stderr",
     "output_type": "stream",
     "text": [
      "\n",
      "\n",
      "\n",
      " 10%|████████                                                                         | 10/100 [01:25<07:34,  5.05s/it]"
     ]
    },
    {
     "name": "stdout",
     "output_type": "stream",
     "text": [
      "https://hh.ru/search/vacancy?L_is_autosearch=true&area=23&currency_code=RUR&only_with_salary=true&items_on_page=100&clusters=true&enable_snippets=true&text=продавец&page=0\n",
      "Статус: 200\n",
      "https://hh.ru/search/vacancy?L_is_autosearch=true&area=23&currency_code=RUR&only_with_salary=true&items_on_page=100&clusters=true&enable_snippets=true&text=продавец&page=1\n",
      "Статус: 200\n"
     ]
    },
    {
     "name": "stderr",
     "output_type": "stream",
     "text": [
      "\n",
      "\n",
      "\n",
      " 11%|████████▉                                                                        | 11/100 [01:27<05:57,  4.02s/it]"
     ]
    },
    {
     "name": "stdout",
     "output_type": "stream",
     "text": [
      "https://hh.ru/search/vacancy?L_is_autosearch=true&area=24&currency_code=RUR&only_with_salary=true&items_on_page=100&clusters=true&enable_snippets=true&text=продавец&page=0\n",
      "Статус: 200\n",
      "https://hh.ru/search/vacancy?L_is_autosearch=true&area=24&currency_code=RUR&only_with_salary=true&items_on_page=100&clusters=true&enable_snippets=true&text=продавец&page=1\n",
      "Статус: 200\n",
      "https://hh.ru/search/vacancy?L_is_autosearch=true&area=24&currency_code=RUR&only_with_salary=true&items_on_page=100&clusters=true&enable_snippets=true&text=продавец&page=2\n",
      "Статус: 200\n"
     ]
    },
    {
     "name": "stderr",
     "output_type": "stream",
     "text": [
      "\n",
      "\n",
      "\n",
      " 12%|█████████▋                                                                       | 12/100 [01:29<05:08,  3.50s/it]"
     ]
    },
    {
     "name": "stdout",
     "output_type": "stream",
     "text": [
      "https://hh.ru/search/vacancy?L_is_autosearch=true&area=26&currency_code=RUR&only_with_salary=true&items_on_page=100&clusters=true&enable_snippets=true&text=продавец&page=0\n",
      "Статус: 200\n",
      "https://hh.ru/search/vacancy?L_is_autosearch=true&area=26&currency_code=RUR&only_with_salary=true&items_on_page=100&clusters=true&enable_snippets=true&text=продавец&page=1\n",
      "Статус: 200\n",
      "https://hh.ru/search/vacancy?L_is_autosearch=true&area=26&currency_code=RUR&only_with_salary=true&items_on_page=100&clusters=true&enable_snippets=true&text=продавец&page=2\n",
      "Статус: 200\n",
      "https://hh.ru/search/vacancy?L_is_autosearch=true&area=26&currency_code=RUR&only_with_salary=true&items_on_page=100&clusters=true&enable_snippets=true&text=продавец&page=3\n",
      "Статус: 200\n",
      "https://hh.ru/search/vacancy?L_is_autosearch=true&area=26&currency_code=RUR&only_with_salary=true&items_on_page=100&clusters=true&enable_snippets=true&text=продавец&page=4\n",
      "Статус: 200\n"
     ]
    },
    {
     "name": "stderr",
     "output_type": "stream",
     "text": [
      "\n",
      "\n",
      "\n",
      " 13%|██████████▌                                                                      | 13/100 [01:34<05:28,  3.78s/it]"
     ]
    },
    {
     "name": "stdout",
     "output_type": "stream",
     "text": [
      "https://hh.ru/search/vacancy?L_is_autosearch=true&area=31&currency_code=RUR&only_with_salary=true&items_on_page=100&clusters=true&enable_snippets=true&text=продавец&page=0\n",
      "Статус: 200\n"
     ]
    },
    {
     "name": "stderr",
     "output_type": "stream",
     "text": [
      "\n",
      "\n",
      "\n",
      " 14%|███████████▎                                                                     | 14/100 [01:34<03:57,  2.76s/it]"
     ]
    },
    {
     "name": "stdout",
     "output_type": "stream",
     "text": [
      "https://hh.ru/search/vacancy?L_is_autosearch=true&area=32&currency_code=RUR&only_with_salary=true&items_on_page=100&clusters=true&enable_snippets=true&text=продавец&page=0\n",
      "Статус: 200\n",
      "https://hh.ru/search/vacancy?L_is_autosearch=true&area=32&currency_code=RUR&only_with_salary=true&items_on_page=100&clusters=true&enable_snippets=true&text=продавец&page=1\n",
      "Статус: 200\n"
     ]
    },
    {
     "name": "stderr",
     "output_type": "stream",
     "text": [
      "\n",
      "\n",
      "\n",
      " 15%|████████████▏                                                                    | 15/100 [01:36<03:31,  2.49s/it]"
     ]
    },
    {
     "name": "stdout",
     "output_type": "stream",
     "text": [
      "https://hh.ru/search/vacancy?L_is_autosearch=true&area=35&currency_code=RUR&only_with_salary=true&items_on_page=100&clusters=true&enable_snippets=true&text=продавец&page=0\n",
      "Статус: 200\n",
      "https://hh.ru/search/vacancy?L_is_autosearch=true&area=35&currency_code=RUR&only_with_salary=true&items_on_page=100&clusters=true&enable_snippets=true&text=продавец&page=1\n",
      "Статус: 200\n",
      "https://hh.ru/search/vacancy?L_is_autosearch=true&area=35&currency_code=RUR&only_with_salary=true&items_on_page=100&clusters=true&enable_snippets=true&text=продавец&page=2\n",
      "Статус: 200\n"
     ]
    },
    {
     "name": "stderr",
     "output_type": "stream",
     "text": [
      "\n",
      "\n",
      "\n",
      " 16%|████████████▉                                                                    | 16/100 [01:39<03:42,  2.64s/it]"
     ]
    },
    {
     "name": "stdout",
     "output_type": "stream",
     "text": [
      "https://hh.ru/search/vacancy?L_is_autosearch=true&area=39&currency_code=RUR&only_with_salary=true&items_on_page=100&clusters=true&enable_snippets=true&text=продавец&page=0\n",
      "Статус: 200\n"
     ]
    },
    {
     "name": "stderr",
     "output_type": "stream",
     "text": [
      "\n",
      "\n",
      "\n",
      " 17%|█████████████▊                                                                   | 17/100 [01:39<02:47,  2.01s/it]"
     ]
    },
    {
     "name": "stdout",
     "output_type": "stream",
     "text": [
      "https://hh.ru/search/vacancy?L_is_autosearch=true&area=40&currency_code=RUR&only_with_salary=true&items_on_page=100&clusters=true&enable_snippets=true&text=продавец&page=0\n",
      "Статус: 200\n",
      "https://hh.ru/search/vacancy?L_is_autosearch=true&area=40&currency_code=RUR&only_with_salary=true&items_on_page=100&clusters=true&enable_snippets=true&text=продавец&page=1\n",
      "Статус: 200\n",
      "https://hh.ru/search/vacancy?L_is_autosearch=true&area=40&currency_code=RUR&only_with_salary=true&items_on_page=100&clusters=true&enable_snippets=true&text=продавец&page=2\n",
      "Статус: 200\n",
      "https://hh.ru/search/vacancy?L_is_autosearch=true&area=40&currency_code=RUR&only_with_salary=true&items_on_page=100&clusters=true&enable_snippets=true&text=продавец&page=3\n",
      "Статус: 200\n",
      "https://hh.ru/search/vacancy?L_is_autosearch=true&area=40&currency_code=RUR&only_with_salary=true&items_on_page=100&clusters=true&enable_snippets=true&text=продавец&page=4\n",
      "Статус: 200\n",
      "https://hh.ru/search/vacancy?L_is_autosearch=true&area=40&currency_code=RUR&only_with_salary=true&items_on_page=100&clusters=true&enable_snippets=true&text=продавец&page=5\n",
      "Статус: 200\n"
     ]
    },
    {
     "name": "stderr",
     "output_type": "stream",
     "text": [
      "\n",
      "\n",
      "\n",
      " 18%|██████████████▌                                                                  | 18/100 [01:45<04:12,  3.08s/it]"
     ]
    },
    {
     "name": "stdout",
     "output_type": "stream",
     "text": [
      "https://hh.ru/search/vacancy?L_is_autosearch=true&area=41&currency_code=RUR&only_with_salary=true&items_on_page=100&clusters=true&enable_snippets=true&text=продавец&page=0\n",
      "Статус: 200\n",
      "https://hh.ru/search/vacancy?L_is_autosearch=true&area=41&currency_code=RUR&only_with_salary=true&items_on_page=100&clusters=true&enable_snippets=true&text=продавец&page=1\n",
      "Статус: 200\n"
     ]
    },
    {
     "name": "stderr",
     "output_type": "stream",
     "text": [
      "\n",
      "\n",
      "\n",
      " 19%|███████████████▍                                                                 | 19/100 [01:47<03:35,  2.66s/it]"
     ]
    },
    {
     "name": "stdout",
     "output_type": "stream",
     "text": [
      "https://hh.ru/search/vacancy?L_is_autosearch=true&area=43&currency_code=RUR&only_with_salary=true&items_on_page=100&clusters=true&enable_snippets=true&text=продавец&page=0\n",
      "Статус: 200\n",
      "https://hh.ru/search/vacancy?L_is_autosearch=true&area=43&currency_code=RUR&only_with_salary=true&items_on_page=100&clusters=true&enable_snippets=true&text=продавец&page=1\n",
      "Статус: 200\n"
     ]
    },
    {
     "name": "stderr",
     "output_type": "stream",
     "text": [
      "\n",
      "\n",
      "\n",
      " 20%|████████████████▏                                                                | 20/100 [01:49<03:19,  2.49s/it]"
     ]
    },
    {
     "name": "stdout",
     "output_type": "stream",
     "text": [
      "https://hh.ru/search/vacancy?L_is_autosearch=true&area=44&currency_code=RUR&only_with_salary=true&items_on_page=100&clusters=true&enable_snippets=true&text=продавец&page=0\n",
      "Статус: 200\n"
     ]
    },
    {
     "name": "stderr",
     "output_type": "stream",
     "text": [
      "\n",
      "\n",
      "\n",
      " 21%|█████████████████                                                                | 21/100 [01:50<02:36,  1.98s/it]"
     ]
    },
    {
     "name": "stdout",
     "output_type": "stream",
     "text": [
      "https://hh.ru/search/vacancy?L_is_autosearch=true&area=46&currency_code=RUR&only_with_salary=true&items_on_page=100&clusters=true&enable_snippets=true&text=продавец&page=0\n",
      "Статус: 200\n"
     ]
    },
    {
     "name": "stderr",
     "output_type": "stream",
     "text": [
      "\n",
      "\n",
      "\n",
      " 22%|█████████████████▊                                                               | 22/100 [01:50<02:01,  1.55s/it]"
     ]
    },
    {
     "name": "stdout",
     "output_type": "stream",
     "text": [
      "https://hh.ru/search/vacancy?L_is_autosearch=true&area=47&currency_code=RUR&only_with_salary=true&items_on_page=100&clusters=true&enable_snippets=true&text=продавец&page=0\n",
      "Статус: 200\n",
      "https://hh.ru/search/vacancy?L_is_autosearch=true&area=47&currency_code=RUR&only_with_salary=true&items_on_page=100&clusters=true&enable_snippets=true&text=продавец&page=1\n",
      "Статус: 200\n"
     ]
    },
    {
     "name": "stderr",
     "output_type": "stream",
     "text": [
      "\n",
      "\n",
      "\n",
      " 23%|██████████████████▋                                                              | 23/100 [01:53<02:28,  1.93s/it]"
     ]
    },
    {
     "name": "stdout",
     "output_type": "stream",
     "text": [
      "https://hh.ru/search/vacancy?L_is_autosearch=true&area=48&currency_code=RUR&only_with_salary=true&items_on_page=100&clusters=true&enable_snippets=true&text=продавец&page=0\n",
      "Статус: 200\n"
     ]
    },
    {
     "name": "stderr",
     "output_type": "stream",
     "text": [
      "\n",
      "\n",
      "\n",
      " 24%|███████████████████▍                                                             | 24/100 [01:53<01:50,  1.46s/it]"
     ]
    },
    {
     "name": "stdout",
     "output_type": "stream",
     "text": [
      "https://hh.ru/search/vacancy?L_is_autosearch=true&area=49&currency_code=RUR&only_with_salary=true&items_on_page=100&clusters=true&enable_snippets=true&text=продавец&page=0\n",
      "Статус: 200\n",
      "https://hh.ru/search/vacancy?L_is_autosearch=true&area=49&currency_code=RUR&only_with_salary=true&items_on_page=100&clusters=true&enable_snippets=true&text=продавец&page=1\n",
      "Статус: 200\n",
      "https://hh.ru/search/vacancy?L_is_autosearch=true&area=49&currency_code=RUR&only_with_salary=true&items_on_page=100&clusters=true&enable_snippets=true&text=продавец&page=2\n",
      "Статус: 200\n"
     ]
    },
    {
     "name": "stderr",
     "output_type": "stream",
     "text": [
      "\n",
      "\n",
      "\n",
      " 25%|████████████████████▎                                                            | 25/100 [01:56<02:14,  1.79s/it]"
     ]
    },
    {
     "name": "stdout",
     "output_type": "stream",
     "text": [
      "https://hh.ru/search/vacancy?L_is_autosearch=true&area=54&currency_code=RUR&only_with_salary=true&items_on_page=100&clusters=true&enable_snippets=true&text=продавец&page=0\n",
      "Статус: 200\n",
      "https://hh.ru/search/vacancy?L_is_autosearch=true&area=54&currency_code=RUR&only_with_salary=true&items_on_page=100&clusters=true&enable_snippets=true&text=продавец&page=1\n",
      "Статус: 200\n",
      "https://hh.ru/search/vacancy?L_is_autosearch=true&area=54&currency_code=RUR&only_with_salary=true&items_on_page=100&clusters=true&enable_snippets=true&text=продавец&page=2\n",
      "Статус: 200\n",
      "https://hh.ru/search/vacancy?L_is_autosearch=true&area=54&currency_code=RUR&only_with_salary=true&items_on_page=100&clusters=true&enable_snippets=true&text=продавец&page=3\n",
      "Статус: 200\n"
     ]
    },
    {
     "name": "stderr",
     "output_type": "stream",
     "text": [
      "\n",
      "\n",
      "\n",
      " 26%|█████████████████████                                                            | 26/100 [01:59<02:50,  2.31s/it]"
     ]
    },
    {
     "name": "stdout",
     "output_type": "stream",
     "text": [
      "https://hh.ru/search/vacancy?L_is_autosearch=true&area=55&currency_code=RUR&only_with_salary=true&items_on_page=100&clusters=true&enable_snippets=true&text=продавец&page=0\n",
      "Статус: 200\n"
     ]
    },
    {
     "name": "stderr",
     "output_type": "stream",
     "text": [
      "\n",
      "\n",
      "\n",
      " 27%|█████████████████████▊                                                           | 27/100 [02:00<02:16,  1.87s/it]"
     ]
    },
    {
     "name": "stdout",
     "output_type": "stream",
     "text": [
      "https://hh.ru/search/vacancy?L_is_autosearch=true&area=58&currency_code=RUR&only_with_salary=true&items_on_page=100&clusters=true&enable_snippets=true&text=продавец&page=0\n",
      "Статус: 200\n",
      "https://hh.ru/search/vacancy?L_is_autosearch=true&area=58&currency_code=RUR&only_with_salary=true&items_on_page=100&clusters=true&enable_snippets=true&text=продавец&page=1\n",
      "Статус: 200\n",
      "https://hh.ru/search/vacancy?L_is_autosearch=true&area=58&currency_code=RUR&only_with_salary=true&items_on_page=100&clusters=true&enable_snippets=true&text=продавец&page=2\n",
      "Статус: 200\n"
     ]
    },
    {
     "name": "stderr",
     "output_type": "stream",
     "text": [
      "\n",
      "\n",
      "\n",
      " 28%|██████████████████████▋                                                          | 28/100 [02:03<02:28,  2.06s/it]"
     ]
    },
    {
     "name": "stdout",
     "output_type": "stream",
     "text": [
      "https://hh.ru/search/vacancy?L_is_autosearch=true&area=64&currency_code=RUR&only_with_salary=true&items_on_page=100&clusters=true&enable_snippets=true&text=продавец&page=0\n",
      "Статус: 200\n"
     ]
    },
    {
     "name": "stderr",
     "output_type": "stream",
     "text": [
      "\n",
      "\n",
      "\n",
      " 29%|███████████████████████▍                                                         | 29/100 [02:04<02:01,  1.71s/it]"
     ]
    },
    {
     "name": "stdout",
     "output_type": "stream",
     "text": [
      "https://hh.ru/search/vacancy?L_is_autosearch=true&area=66&currency_code=RUR&only_with_salary=true&items_on_page=100&clusters=true&enable_snippets=true&text=продавец&page=0\n",
      "Статус: 200\n",
      "https://hh.ru/search/vacancy?L_is_autosearch=true&area=66&currency_code=RUR&only_with_salary=true&items_on_page=100&clusters=true&enable_snippets=true&text=продавец&page=1\n",
      "Статус: 200\n",
      "https://hh.ru/search/vacancy?L_is_autosearch=true&area=66&currency_code=RUR&only_with_salary=true&items_on_page=100&clusters=true&enable_snippets=true&text=продавец&page=2\n",
      "Статус: 200\n",
      "https://hh.ru/search/vacancy?L_is_autosearch=true&area=66&currency_code=RUR&only_with_salary=true&items_on_page=100&clusters=true&enable_snippets=true&text=продавец&page=3\n",
      "Статус: 200\n",
      "https://hh.ru/search/vacancy?L_is_autosearch=true&area=66&currency_code=RUR&only_with_salary=true&items_on_page=100&clusters=true&enable_snippets=true&text=продавец&page=4\n",
      "Статус: 200\n"
     ]
    },
    {
     "name": "stderr",
     "output_type": "stream",
     "text": [
      "\n",
      "\n",
      "\n",
      " 30%|████████████████████████▎                                                        | 30/100 [02:08<03:04,  2.63s/it]"
     ]
    },
    {
     "name": "stdout",
     "output_type": "stream",
     "text": [
      "https://hh.ru/search/vacancy?L_is_autosearch=true&area=67&currency_code=RUR&only_with_salary=true&items_on_page=100&clusters=true&enable_snippets=true&text=продавец&page=0\n",
      "Статус: 200\n"
     ]
    },
    {
     "name": "stderr",
     "output_type": "stream",
     "text": [
      "\n",
      "\n",
      "\n",
      " 31%|█████████████████████████                                                        | 31/100 [02:09<02:26,  2.13s/it]"
     ]
    },
    {
     "name": "stdout",
     "output_type": "stream",
     "text": [
      "https://hh.ru/search/vacancy?L_is_autosearch=true&area=69&currency_code=RUR&only_with_salary=true&items_on_page=100&clusters=true&enable_snippets=true&text=продавец&page=0\n",
      "Статус: 200\n",
      "https://hh.ru/search/vacancy?L_is_autosearch=true&area=69&currency_code=RUR&only_with_salary=true&items_on_page=100&clusters=true&enable_snippets=true&text=продавец&page=1\n",
      "Статус: 200\n"
     ]
    },
    {
     "name": "stderr",
     "output_type": "stream",
     "text": [
      "\n",
      "\n",
      "\n",
      " 32%|█████████████████████████▉                                                       | 32/100 [02:11<02:14,  1.98s/it]"
     ]
    },
    {
     "name": "stdout",
     "output_type": "stream",
     "text": [
      "https://hh.ru/search/vacancy?L_is_autosearch=true&area=72&currency_code=RUR&only_with_salary=true&items_on_page=100&clusters=true&enable_snippets=true&text=продавец&page=0\n",
      "Статус: 200\n",
      "https://hh.ru/search/vacancy?L_is_autosearch=true&area=72&currency_code=RUR&only_with_salary=true&items_on_page=100&clusters=true&enable_snippets=true&text=продавец&page=1\n",
      "Статус: 200\n",
      "https://hh.ru/search/vacancy?L_is_autosearch=true&area=72&currency_code=RUR&only_with_salary=true&items_on_page=100&clusters=true&enable_snippets=true&text=продавец&page=2\n",
      "Статус: 200\n",
      "https://hh.ru/search/vacancy?L_is_autosearch=true&area=72&currency_code=RUR&only_with_salary=true&items_on_page=100&clusters=true&enable_snippets=true&text=продавец&page=3\n",
      "Статус: 200\n"
     ]
    },
    {
     "name": "stderr",
     "output_type": "stream",
     "text": [
      "\n",
      "\n",
      "\n",
      " 33%|██████████████████████████▋                                                      | 33/100 [02:15<02:51,  2.55s/it]"
     ]
    },
    {
     "name": "stdout",
     "output_type": "stream",
     "text": [
      "https://hh.ru/search/vacancy?L_is_autosearch=true&area=76&currency_code=RUR&only_with_salary=true&items_on_page=100&clusters=true&enable_snippets=true&text=продавец&page=0\n",
      "Статус: 200\n",
      "https://hh.ru/search/vacancy?L_is_autosearch=true&area=76&currency_code=RUR&only_with_salary=true&items_on_page=100&clusters=true&enable_snippets=true&text=продавец&page=1\n",
      "Статус: 200\n",
      "https://hh.ru/search/vacancy?L_is_autosearch=true&area=76&currency_code=RUR&only_with_salary=true&items_on_page=100&clusters=true&enable_snippets=true&text=продавец&page=2\n",
      "Статус: 200\n",
      "https://hh.ru/search/vacancy?L_is_autosearch=true&area=76&currency_code=RUR&only_with_salary=true&items_on_page=100&clusters=true&enable_snippets=true&text=продавец&page=3\n",
      "Статус: 200\n"
     ]
    },
    {
     "name": "stderr",
     "output_type": "stream",
     "text": [
      "\n",
      "\n",
      "\n",
      " 34%|███████████████████████████▌                                                     | 34/100 [02:19<03:26,  3.13s/it]"
     ]
    },
    {
     "name": "stdout",
     "output_type": "stream",
     "text": [
      "https://hh.ru/search/vacancy?L_is_autosearch=true&area=77&currency_code=RUR&only_with_salary=true&items_on_page=100&clusters=true&enable_snippets=true&text=продавец&page=0\n",
      "Статус: 200\n",
      "https://hh.ru/search/vacancy?L_is_autosearch=true&area=77&currency_code=RUR&only_with_salary=true&items_on_page=100&clusters=true&enable_snippets=true&text=продавец&page=1\n",
      "Статус: 200\n"
     ]
    },
    {
     "name": "stderr",
     "output_type": "stream",
     "text": [
      "\n",
      "\n",
      "\n",
      " 35%|████████████████████████████▎                                                    | 35/100 [02:21<03:02,  2.80s/it]"
     ]
    },
    {
     "name": "stdout",
     "output_type": "stream",
     "text": [
      "https://hh.ru/search/vacancy?L_is_autosearch=true&area=79&currency_code=RUR&only_with_salary=true&items_on_page=100&clusters=true&enable_snippets=true&text=продавец&page=0\n",
      "Статус: 200\n",
      "https://hh.ru/search/vacancy?L_is_autosearch=true&area=79&currency_code=RUR&only_with_salary=true&items_on_page=100&clusters=true&enable_snippets=true&text=продавец&page=1\n",
      "Статус: 200\n",
      "https://hh.ru/search/vacancy?L_is_autosearch=true&area=79&currency_code=RUR&only_with_salary=true&items_on_page=100&clusters=true&enable_snippets=true&text=продавец&page=2\n",
      "Статус: 200\n"
     ]
    },
    {
     "name": "stderr",
     "output_type": "stream",
     "text": [
      "\n",
      "\n",
      "\n",
      " 36%|█████████████████████████████▏                                                   | 36/100 [02:24<02:46,  2.61s/it]"
     ]
    },
    {
     "name": "stdout",
     "output_type": "stream",
     "text": [
      "https://hh.ru/search/vacancy?L_is_autosearch=true&area=80&currency_code=RUR&only_with_salary=true&items_on_page=100&clusters=true&enable_snippets=true&text=продавец&page=0\n",
      "Статус: 200\n"
     ]
    },
    {
     "name": "stderr",
     "output_type": "stream",
     "text": [
      "\n",
      "\n",
      "\n",
      " 37%|█████████████████████████████▉                                                   | 37/100 [02:24<02:06,  2.01s/it]"
     ]
    },
    {
     "name": "stdout",
     "output_type": "stream",
     "text": [
      "https://hh.ru/search/vacancy?L_is_autosearch=true&area=81&currency_code=RUR&only_with_salary=true&items_on_page=100&clusters=true&enable_snippets=true&text=продавец&page=0\n",
      "Статус: 200\n"
     ]
    },
    {
     "name": "stderr",
     "output_type": "stream",
     "text": [
      "\n",
      "\n",
      "\n",
      " 38%|██████████████████████████████▊                                                  | 38/100 [02:25<01:37,  1.58s/it]"
     ]
    },
    {
     "name": "stdout",
     "output_type": "stream",
     "text": [
      "https://hh.ru/search/vacancy?L_is_autosearch=true&area=84&currency_code=RUR&only_with_salary=true&items_on_page=100&clusters=true&enable_snippets=true&text=продавец&page=0\n",
      "Статус: 200\n",
      "https://hh.ru/search/vacancy?L_is_autosearch=true&area=84&currency_code=RUR&only_with_salary=true&items_on_page=100&clusters=true&enable_snippets=true&text=продавец&page=1\n",
      "Статус: 200\n"
     ]
    },
    {
     "name": "stderr",
     "output_type": "stream",
     "text": [
      "\n",
      "\n",
      "\n",
      " 39%|███████████████████████████████▌                                                 | 39/100 [02:26<01:34,  1.55s/it]"
     ]
    },
    {
     "name": "stdout",
     "output_type": "stream",
     "text": [
      "https://hh.ru/search/vacancy?L_is_autosearch=true&area=87&currency_code=RUR&only_with_salary=true&items_on_page=100&clusters=true&enable_snippets=true&text=продавец&page=0\n",
      "Статус: 200\n"
     ]
    },
    {
     "name": "stderr",
     "output_type": "stream",
     "text": [
      "\n",
      "\n",
      "\n",
      " 40%|████████████████████████████████▍                                                | 40/100 [02:27<01:21,  1.36s/it]"
     ]
    },
    {
     "name": "stdout",
     "output_type": "stream",
     "text": [
      "https://hh.ru/search/vacancy?L_is_autosearch=true&area=90&currency_code=RUR&only_with_salary=true&items_on_page=100&clusters=true&enable_snippets=true&text=продавец&page=0\n",
      "Статус: 200\n",
      "https://hh.ru/search/vacancy?L_is_autosearch=true&area=90&currency_code=RUR&only_with_salary=true&items_on_page=100&clusters=true&enable_snippets=true&text=продавец&page=1\n",
      "Статус: 200\n"
     ]
    },
    {
     "name": "stderr",
     "output_type": "stream",
     "text": [
      "\n",
      "\n",
      "\n",
      " 41%|█████████████████████████████████▏                                               | 41/100 [02:29<01:28,  1.50s/it]"
     ]
    },
    {
     "name": "stdout",
     "output_type": "stream",
     "text": [
      "https://hh.ru/search/vacancy?L_is_autosearch=true&area=95&currency_code=RUR&only_with_salary=true&items_on_page=100&clusters=true&enable_snippets=true&text=продавец&page=0\n",
      "Статус: 200\n",
      "https://hh.ru/search/vacancy?L_is_autosearch=true&area=95&currency_code=RUR&only_with_salary=true&items_on_page=100&clusters=true&enable_snippets=true&text=продавец&page=1\n",
      "Статус: 200\n",
      "https://hh.ru/search/vacancy?L_is_autosearch=true&area=95&currency_code=RUR&only_with_salary=true&items_on_page=100&clusters=true&enable_snippets=true&text=продавец&page=2\n",
      "Статус: 200\n",
      "https://hh.ru/search/vacancy?L_is_autosearch=true&area=95&currency_code=RUR&only_with_salary=true&items_on_page=100&clusters=true&enable_snippets=true&text=продавец&page=3\n",
      "Статус: 200\n"
     ]
    },
    {
     "name": "stderr",
     "output_type": "stream",
     "text": [
      "\n",
      "\n",
      "\n",
      " 42%|██████████████████████████████████                                               | 42/100 [02:33<02:07,  2.20s/it]"
     ]
    },
    {
     "name": "stdout",
     "output_type": "stream",
     "text": [
      "https://hh.ru/search/vacancy?L_is_autosearch=true&area=99&currency_code=RUR&only_with_salary=true&items_on_page=100&clusters=true&enable_snippets=true&text=продавец&page=0\n",
      "Статус: 200\n",
      "https://hh.ru/search/vacancy?L_is_autosearch=true&area=99&currency_code=RUR&only_with_salary=true&items_on_page=100&clusters=true&enable_snippets=true&text=продавец&page=1\n",
      "Статус: 200\n",
      "https://hh.ru/search/vacancy?L_is_autosearch=true&area=99&currency_code=RUR&only_with_salary=true&items_on_page=100&clusters=true&enable_snippets=true&text=продавец&page=2\n",
      "Статус: 200\n",
      "https://hh.ru/search/vacancy?L_is_autosearch=true&area=99&currency_code=RUR&only_with_salary=true&items_on_page=100&clusters=true&enable_snippets=true&text=продавец&page=3\n",
      "Статус: 200\n",
      "https://hh.ru/search/vacancy?L_is_autosearch=true&area=99&currency_code=RUR&only_with_salary=true&items_on_page=100&clusters=true&enable_snippets=true&text=продавец&page=4\n",
      "Статус: 200\n",
      "https://hh.ru/search/vacancy?L_is_autosearch=true&area=99&currency_code=RUR&only_with_salary=true&items_on_page=100&clusters=true&enable_snippets=true&text=продавец&page=5\n",
      "Статус: 200\n"
     ]
    },
    {
     "name": "stderr",
     "output_type": "stream",
     "text": [
      "\n",
      "\n",
      "\n",
      " 43%|██████████████████████████████████▊                                              | 43/100 [02:38<03:04,  3.24s/it]"
     ]
    },
    {
     "name": "stdout",
     "output_type": "stream",
     "text": [
      "https://hh.ru/search/vacancy?L_is_autosearch=true&area=102&currency_code=RUR&only_with_salary=true&items_on_page=100&clusters=true&enable_snippets=true&text=продавец&page=0\n",
      "Статус: 200\n",
      "https://hh.ru/search/vacancy?L_is_autosearch=true&area=102&currency_code=RUR&only_with_salary=true&items_on_page=100&clusters=true&enable_snippets=true&text=продавец&page=1\n",
      "Статус: 200\n"
     ]
    },
    {
     "name": "stderr",
     "output_type": "stream",
     "text": [
      "\n",
      "\n",
      "\n",
      " 44%|███████████████████████████████████▋                                             | 44/100 [02:40<02:28,  2.66s/it]"
     ]
    },
    {
     "name": "stdout",
     "output_type": "stream",
     "text": [
      "https://hh.ru/search/vacancy?L_is_autosearch=true&area=106&currency_code=RUR&only_with_salary=true&items_on_page=100&clusters=true&enable_snippets=true&text=продавец&page=0\n",
      "Статус: 200\n"
     ]
    },
    {
     "name": "stderr",
     "output_type": "stream",
     "text": [
      "\n",
      "\n",
      "\n",
      " 45%|████████████████████████████████████▍                                            | 45/100 [02:41<01:56,  2.13s/it]"
     ]
    },
    {
     "name": "stdout",
     "output_type": "stream",
     "text": [
      "https://hh.ru/search/vacancy?L_is_autosearch=true&area=107&currency_code=RUR&only_with_salary=true&items_on_page=100&clusters=true&enable_snippets=true&text=продавец&page=0\n",
      "Статус: 200\n",
      "https://hh.ru/search/vacancy?L_is_autosearch=true&area=107&currency_code=RUR&only_with_salary=true&items_on_page=100&clusters=true&enable_snippets=true&text=продавец&page=1\n",
      "Статус: 200\n"
     ]
    },
    {
     "name": "stderr",
     "output_type": "stream",
     "text": [
      "\n",
      "\n",
      "\n",
      " 46%|█████████████████████████████████████▎                                           | 46/100 [02:43<01:51,  2.07s/it]"
     ]
    },
    {
     "name": "stdout",
     "output_type": "stream",
     "text": [
      "https://hh.ru/search/vacancy?L_is_autosearch=true&area=113&currency_code=RUR&only_with_salary=true&items_on_page=100&clusters=true&enable_snippets=true&text=продавец&page=0\n",
      "Статус: 200\n",
      "https://hh.ru/search/vacancy?L_is_autosearch=true&area=113&currency_code=RUR&only_with_salary=true&items_on_page=100&clusters=true&enable_snippets=true&text=продавец&page=1\n",
      "Статус: 200\n",
      "https://hh.ru/search/vacancy?L_is_autosearch=true&area=113&currency_code=RUR&only_with_salary=true&items_on_page=100&clusters=true&enable_snippets=true&text=продавец&page=2\n",
      "Статус: 200\n",
      "https://hh.ru/search/vacancy?L_is_autosearch=true&area=113&currency_code=RUR&only_with_salary=true&items_on_page=100&clusters=true&enable_snippets=true&text=продавец&page=3\n",
      "Статус: 200\n",
      "https://hh.ru/search/vacancy?L_is_autosearch=true&area=113&currency_code=RUR&only_with_salary=true&items_on_page=100&clusters=true&enable_snippets=true&text=продавец&page=4\n",
      "Статус: 200\n",
      "https://hh.ru/search/vacancy?L_is_autosearch=true&area=113&currency_code=RUR&only_with_salary=true&items_on_page=100&clusters=true&enable_snippets=true&text=продавец&page=5\n",
      "Статус: 200\n",
      "https://hh.ru/search/vacancy?L_is_autosearch=true&area=113&currency_code=RUR&only_with_salary=true&items_on_page=100&clusters=true&enable_snippets=true&text=продавец&page=6\n",
      "Статус: 200\n",
      "https://hh.ru/search/vacancy?L_is_autosearch=true&area=113&currency_code=RUR&only_with_salary=true&items_on_page=100&clusters=true&enable_snippets=true&text=продавец&page=7\n",
      "Статус: 200\n",
      "https://hh.ru/search/vacancy?L_is_autosearch=true&area=113&currency_code=RUR&only_with_salary=true&items_on_page=100&clusters=true&enable_snippets=true&text=продавец&page=8\n",
      "Статус: 200\n",
      "https://hh.ru/search/vacancy?L_is_autosearch=true&area=113&currency_code=RUR&only_with_salary=true&items_on_page=100&clusters=true&enable_snippets=true&text=продавец&page=9\n",
      "Статус: 200\n",
      "https://hh.ru/search/vacancy?L_is_autosearch=true&area=113&currency_code=RUR&only_with_salary=true&items_on_page=100&clusters=true&enable_snippets=true&text=продавец&page=10\n",
      "Статус: 200\n",
      "https://hh.ru/search/vacancy?L_is_autosearch=true&area=113&currency_code=RUR&only_with_salary=true&items_on_page=100&clusters=true&enable_snippets=true&text=продавец&page=11\n",
      "Статус: 200\n",
      "https://hh.ru/search/vacancy?L_is_autosearch=true&area=113&currency_code=RUR&only_with_salary=true&items_on_page=100&clusters=true&enable_snippets=true&text=продавец&page=12\n",
      "Статус: 200\n",
      "https://hh.ru/search/vacancy?L_is_autosearch=true&area=113&currency_code=RUR&only_with_salary=true&items_on_page=100&clusters=true&enable_snippets=true&text=продавец&page=13\n",
      "Статус: 200\n",
      "https://hh.ru/search/vacancy?L_is_autosearch=true&area=113&currency_code=RUR&only_with_salary=true&items_on_page=100&clusters=true&enable_snippets=true&text=продавец&page=14\n",
      "Статус: 200\n",
      "https://hh.ru/search/vacancy?L_is_autosearch=true&area=113&currency_code=RUR&only_with_salary=true&items_on_page=100&clusters=true&enable_snippets=true&text=продавец&page=15\n",
      "Статус: 200\n",
      "https://hh.ru/search/vacancy?L_is_autosearch=true&area=113&currency_code=RUR&only_with_salary=true&items_on_page=100&clusters=true&enable_snippets=true&text=продавец&page=16\n",
      "Статус: 200\n",
      "https://hh.ru/search/vacancy?L_is_autosearch=true&area=113&currency_code=RUR&only_with_salary=true&items_on_page=100&clusters=true&enable_snippets=true&text=продавец&page=17\n",
      "Статус: 200\n",
      "https://hh.ru/search/vacancy?L_is_autosearch=true&area=113&currency_code=RUR&only_with_salary=true&items_on_page=100&clusters=true&enable_snippets=true&text=продавец&page=18\n",
      "Статус: 200\n",
      "https://hh.ru/search/vacancy?L_is_autosearch=true&area=113&currency_code=RUR&only_with_salary=true&items_on_page=100&clusters=true&enable_snippets=true&text=продавец&page=19\n",
      "Статус: 200\n"
     ]
    },
    {
     "name": "stderr",
     "output_type": "stream",
     "text": [
      "\n",
      "\n",
      "\n",
      " 47%|██████████████████████████████████████                                           | 47/100 [03:07<07:40,  8.68s/it]"
     ]
    },
    {
     "name": "stdout",
     "output_type": "stream",
     "text": [
      "https://hh.ru/search/vacancy?L_is_autosearch=true&area=115&currency_code=RUR&only_with_salary=true&items_on_page=100&clusters=true&enable_snippets=true&text=продавец&page=0\n",
      "Статус: 200\n"
     ]
    },
    {
     "name": "stderr",
     "output_type": "stream",
     "text": [
      "\n",
      "\n",
      "\n",
      " 48%|██████████████████████████████████████▉                                          | 48/100 [03:07<05:24,  6.24s/it]"
     ]
    },
    {
     "name": "stdout",
     "output_type": "stream",
     "text": [
      "https://hh.ru/search/vacancy?L_is_autosearch=true&area=117&currency_code=RUR&only_with_salary=true&items_on_page=100&clusters=true&enable_snippets=true&text=продавец&page=0\n",
      "Статус: 200\n"
     ]
    },
    {
     "name": "stderr",
     "output_type": "stream",
     "text": [
      "\n",
      "\n",
      "\n",
      " 49%|███████████████████████████████████████▋                                         | 49/100 [03:08<03:49,  4.50s/it]"
     ]
    },
    {
     "name": "stdout",
     "output_type": "stream",
     "text": [
      "https://hh.ru/search/vacancy?L_is_autosearch=true&area=125&currency_code=RUR&only_with_salary=true&items_on_page=100&clusters=true&enable_snippets=true&text=продавец&page=0\n",
      "Статус: 200\n"
     ]
    },
    {
     "name": "stderr",
     "output_type": "stream",
     "text": [
      "\n",
      "\n",
      "\n",
      " 50%|████████████████████████████████████████▌                                        | 50/100 [03:08<02:43,  3.26s/it]"
     ]
    },
    {
     "name": "stdout",
     "output_type": "stream",
     "text": [
      "https://hh.ru/search/vacancy?L_is_autosearch=true&area=127&currency_code=RUR&only_with_salary=true&items_on_page=100&clusters=true&enable_snippets=true&text=продавец&page=0\n",
      "Статус: 200\n"
     ]
    },
    {
     "name": "stderr",
     "output_type": "stream",
     "text": [
      "\n",
      "\n",
      "\n",
      " 51%|█████████████████████████████████████████▎                                       | 51/100 [03:09<02:03,  2.51s/it]"
     ]
    },
    {
     "name": "stdout",
     "output_type": "stream",
     "text": [
      "https://hh.ru/search/vacancy?L_is_autosearch=true&area=130&currency_code=RUR&only_with_salary=true&items_on_page=100&clusters=true&enable_snippets=true&text=продавец&page=0\n",
      "Статус: 200\n"
     ]
    },
    {
     "name": "stderr",
     "output_type": "stream",
     "text": [
      "\n",
      "\n",
      "\n",
      " 52%|██████████████████████████████████████████                                       | 52/100 [03:10<01:38,  2.05s/it]"
     ]
    },
    {
     "name": "stdout",
     "output_type": "stream",
     "text": [
      "https://hh.ru/search/vacancy?L_is_autosearch=true&area=135&currency_code=RUR&only_with_salary=true&items_on_page=100&clusters=true&enable_snippets=true&text=продавец&page=0\n",
      "Статус: 200\n"
     ]
    },
    {
     "name": "stderr",
     "output_type": "stream",
     "text": [
      "\n",
      "\n",
      "\n",
      " 53%|██████████████████████████████████████████▉                                      | 53/100 [03:10<01:14,  1.59s/it]"
     ]
    },
    {
     "name": "stdout",
     "output_type": "stream",
     "text": [
      "https://hh.ru/search/vacancy?L_is_autosearch=true&area=141&currency_code=RUR&only_with_salary=true&items_on_page=100&clusters=true&enable_snippets=true&text=продавец&page=0\n",
      "Статус: 200\n",
      "https://hh.ru/search/vacancy?L_is_autosearch=true&area=141&currency_code=RUR&only_with_salary=true&items_on_page=100&clusters=true&enable_snippets=true&text=продавец&page=1\n",
      "Статус: 200\n",
      "https://hh.ru/search/vacancy?L_is_autosearch=true&area=141&currency_code=RUR&only_with_salary=true&items_on_page=100&clusters=true&enable_snippets=true&text=продавец&page=2\n",
      "Статус: 200\n",
      "https://hh.ru/search/vacancy?L_is_autosearch=true&area=141&currency_code=RUR&only_with_salary=true&items_on_page=100&clusters=true&enable_snippets=true&text=продавец&page=3\n",
      "Статус: 200\n",
      "https://hh.ru/search/vacancy?L_is_autosearch=true&area=141&currency_code=RUR&only_with_salary=true&items_on_page=100&clusters=true&enable_snippets=true&text=продавец&page=4\n",
      "Статус: 200\n",
      "https://hh.ru/search/vacancy?L_is_autosearch=true&area=141&currency_code=RUR&only_with_salary=true&items_on_page=100&clusters=true&enable_snippets=true&text=продавец&page=5\n",
      "Статус: 200\n",
      "https://hh.ru/search/vacancy?L_is_autosearch=true&area=141&currency_code=RUR&only_with_salary=true&items_on_page=100&clusters=true&enable_snippets=true&text=продавец&page=6\n",
      "Статус: 200\n",
      "https://hh.ru/search/vacancy?L_is_autosearch=true&area=141&currency_code=RUR&only_with_salary=true&items_on_page=100&clusters=true&enable_snippets=true&text=продавец&page=7\n",
      "Статус: 200\n",
      "https://hh.ru/search/vacancy?L_is_autosearch=true&area=141&currency_code=RUR&only_with_salary=true&items_on_page=100&clusters=true&enable_snippets=true&text=продавец&page=8\n",
      "Статус: 200\n",
      "https://hh.ru/search/vacancy?L_is_autosearch=true&area=141&currency_code=RUR&only_with_salary=true&items_on_page=100&clusters=true&enable_snippets=true&text=продавец&page=9\n",
      "Статус: 200\n"
     ]
    },
    {
     "name": "stderr",
     "output_type": "stream",
     "text": [
      "\n",
      "\n",
      "\n",
      " 54%|███████████████████████████████████████████▋                                     | 54/100 [03:21<03:12,  4.19s/it]"
     ]
    },
    {
     "name": "stdout",
     "output_type": "stream",
     "text": [
      "https://hh.ru/search/vacancy?L_is_autosearch=true&area=142&currency_code=RUR&only_with_salary=true&items_on_page=100&clusters=true&enable_snippets=true&text=продавец&page=0\n",
      "Статус: 200\n",
      "https://hh.ru/search/vacancy?L_is_autosearch=true&area=142&currency_code=RUR&only_with_salary=true&items_on_page=100&clusters=true&enable_snippets=true&text=продавец&page=1\n",
      "Статус: 200\n",
      "https://hh.ru/search/vacancy?L_is_autosearch=true&area=142&currency_code=RUR&only_with_salary=true&items_on_page=100&clusters=true&enable_snippets=true&text=продавец&page=2\n",
      "Статус: 200\n",
      "https://hh.ru/search/vacancy?L_is_autosearch=true&area=142&currency_code=RUR&only_with_salary=true&items_on_page=100&clusters=true&enable_snippets=true&text=продавец&page=3\n",
      "Статус: 200\n",
      "https://hh.ru/search/vacancy?L_is_autosearch=true&area=142&currency_code=RUR&only_with_salary=true&items_on_page=100&clusters=true&enable_snippets=true&text=продавец&page=4\n",
      "Статус: 200\n",
      "https://hh.ru/search/vacancy?L_is_autosearch=true&area=142&currency_code=RUR&only_with_salary=true&items_on_page=100&clusters=true&enable_snippets=true&text=продавец&page=5\n",
      "Статус: 200\n",
      "https://hh.ru/search/vacancy?L_is_autosearch=true&area=142&currency_code=RUR&only_with_salary=true&items_on_page=100&clusters=true&enable_snippets=true&text=продавец&page=6\n",
      "Статус: 200\n",
      "https://hh.ru/search/vacancy?L_is_autosearch=true&area=142&currency_code=RUR&only_with_salary=true&items_on_page=100&clusters=true&enable_snippets=true&text=продавец&page=7\n",
      "Статус: 200\n",
      "https://hh.ru/search/vacancy?L_is_autosearch=true&area=142&currency_code=RUR&only_with_salary=true&items_on_page=100&clusters=true&enable_snippets=true&text=продавец&page=8\n",
      "Статус: 200\n",
      "https://hh.ru/search/vacancy?L_is_autosearch=true&area=142&currency_code=RUR&only_with_salary=true&items_on_page=100&clusters=true&enable_snippets=true&text=продавец&page=9\n",
      "Статус: 200\n",
      "https://hh.ru/search/vacancy?L_is_autosearch=true&area=142&currency_code=RUR&only_with_salary=true&items_on_page=100&clusters=true&enable_snippets=true&text=продавец&page=10\n",
      "Статус: 200\n",
      "https://hh.ru/search/vacancy?L_is_autosearch=true&area=142&currency_code=RUR&only_with_salary=true&items_on_page=100&clusters=true&enable_snippets=true&text=продавец&page=11\n",
      "Статус: 200\n"
     ]
    },
    {
     "name": "stderr",
     "output_type": "stream",
     "text": [
      "\n",
      "\n",
      "\n",
      " 55%|████████████████████████████████████████████▌                                    | 55/100 [03:32<04:51,  6.48s/it]"
     ]
    },
    {
     "name": "stdout",
     "output_type": "stream",
     "text": [
      "https://hh.ru/search/vacancy?L_is_autosearch=true&area=143&currency_code=RUR&only_with_salary=true&items_on_page=100&clusters=true&enable_snippets=true&text=продавец&page=0\n",
      "Статус: 200\n",
      "https://hh.ru/search/vacancy?L_is_autosearch=true&area=143&currency_code=RUR&only_with_salary=true&items_on_page=100&clusters=true&enable_snippets=true&text=продавец&page=1\n",
      "Статус: 200\n",
      "https://hh.ru/search/vacancy?L_is_autosearch=true&area=143&currency_code=RUR&only_with_salary=true&items_on_page=100&clusters=true&enable_snippets=true&text=продавец&page=2\n",
      "Статус: 200\n",
      "https://hh.ru/search/vacancy?L_is_autosearch=true&area=143&currency_code=RUR&only_with_salary=true&items_on_page=100&clusters=true&enable_snippets=true&text=продавец&page=3\n",
      "Статус: 200\n",
      "https://hh.ru/search/vacancy?L_is_autosearch=true&area=143&currency_code=RUR&only_with_salary=true&items_on_page=100&clusters=true&enable_snippets=true&text=продавец&page=4\n",
      "Статус: 200\n",
      "https://hh.ru/search/vacancy?L_is_autosearch=true&area=143&currency_code=RUR&only_with_salary=true&items_on_page=100&clusters=true&enable_snippets=true&text=продавец&page=5\n",
      "Статус: 200\n",
      "https://hh.ru/search/vacancy?L_is_autosearch=true&area=143&currency_code=RUR&only_with_salary=true&items_on_page=100&clusters=true&enable_snippets=true&text=продавец&page=6\n",
      "Статус: 200\n",
      "https://hh.ru/search/vacancy?L_is_autosearch=true&area=143&currency_code=RUR&only_with_salary=true&items_on_page=100&clusters=true&enable_snippets=true&text=продавец&page=7\n",
      "Статус: 200\n"
     ]
    },
    {
     "name": "stderr",
     "output_type": "stream",
     "text": [
      "\n",
      "\n",
      "\n",
      " 56%|█████████████████████████████████████████████▎                                   | 56/100 [03:40<05:06,  6.97s/it]"
     ]
    },
    {
     "name": "stdout",
     "output_type": "stream",
     "text": [
      "https://hh.ru/search/vacancy?L_is_autosearch=true&area=144&currency_code=RUR&only_with_salary=true&items_on_page=100&clusters=true&enable_snippets=true&text=продавец&page=0\n",
      "Статус: 200\n",
      "https://hh.ru/search/vacancy?L_is_autosearch=true&area=144&currency_code=RUR&only_with_salary=true&items_on_page=100&clusters=true&enable_snippets=true&text=продавец&page=1\n",
      "Статус: 200\n",
      "https://hh.ru/search/vacancy?L_is_autosearch=true&area=144&currency_code=RUR&only_with_salary=true&items_on_page=100&clusters=true&enable_snippets=true&text=продавец&page=2\n",
      "Статус: 200\n",
      "https://hh.ru/search/vacancy?L_is_autosearch=true&area=144&currency_code=RUR&only_with_salary=true&items_on_page=100&clusters=true&enable_snippets=true&text=продавец&page=3\n",
      "Статус: 200\n",
      "https://hh.ru/search/vacancy?L_is_autosearch=true&area=144&currency_code=RUR&only_with_salary=true&items_on_page=100&clusters=true&enable_snippets=true&text=продавец&page=4\n",
      "Статус: 200\n",
      "https://hh.ru/search/vacancy?L_is_autosearch=true&area=144&currency_code=RUR&only_with_salary=true&items_on_page=100&clusters=true&enable_snippets=true&text=продавец&page=5\n",
      "Статус: 200\n",
      "https://hh.ru/search/vacancy?L_is_autosearch=true&area=144&currency_code=RUR&only_with_salary=true&items_on_page=100&clusters=true&enable_snippets=true&text=продавец&page=6\n",
      "Статус: 200\n",
      "https://hh.ru/search/vacancy?L_is_autosearch=true&area=144&currency_code=RUR&only_with_salary=true&items_on_page=100&clusters=true&enable_snippets=true&text=продавец&page=7\n",
      "Статус: 200\n",
      "https://hh.ru/search/vacancy?L_is_autosearch=true&area=144&currency_code=RUR&only_with_salary=true&items_on_page=100&clusters=true&enable_snippets=true&text=продавец&page=8\n",
      "Статус: 200\n",
      "https://hh.ru/search/vacancy?L_is_autosearch=true&area=144&currency_code=RUR&only_with_salary=true&items_on_page=100&clusters=true&enable_snippets=true&text=продавец&page=9\n",
      "Статус: 200\n",
      "https://hh.ru/search/vacancy?L_is_autosearch=true&area=144&currency_code=RUR&only_with_salary=true&items_on_page=100&clusters=true&enable_snippets=true&text=продавец&page=10\n",
      "Статус: 200\n"
     ]
    },
    {
     "name": "stderr",
     "output_type": "stream",
     "text": [
      "\n",
      "\n",
      "\n",
      " 57%|██████████████████████████████████████████████▏                                  | 57/100 [03:52<05:57,  8.32s/it]"
     ]
    },
    {
     "name": "stdout",
     "output_type": "stream",
     "text": [
      "https://hh.ru/search/vacancy?L_is_autosearch=true&area=145&currency_code=RUR&only_with_salary=true&items_on_page=100&clusters=true&enable_snippets=true&text=продавец&page=0\n",
      "Статус: 200\n",
      "https://hh.ru/search/vacancy?L_is_autosearch=true&area=145&currency_code=RUR&only_with_salary=true&items_on_page=100&clusters=true&enable_snippets=true&text=продавец&page=1\n",
      "Статус: 200\n",
      "https://hh.ru/search/vacancy?L_is_autosearch=true&area=145&currency_code=RUR&only_with_salary=true&items_on_page=100&clusters=true&enable_snippets=true&text=продавец&page=2\n",
      "Статус: 200\n",
      "https://hh.ru/search/vacancy?L_is_autosearch=true&area=145&currency_code=RUR&only_with_salary=true&items_on_page=100&clusters=true&enable_snippets=true&text=продавец&page=3\n",
      "Статус: 200\n",
      "https://hh.ru/search/vacancy?L_is_autosearch=true&area=145&currency_code=RUR&only_with_salary=true&items_on_page=100&clusters=true&enable_snippets=true&text=продавец&page=4\n",
      "Статус: 200\n",
      "https://hh.ru/search/vacancy?L_is_autosearch=true&area=145&currency_code=RUR&only_with_salary=true&items_on_page=100&clusters=true&enable_snippets=true&text=продавец&page=5\n",
      "Статус: 200\n",
      "https://hh.ru/search/vacancy?L_is_autosearch=true&area=145&currency_code=RUR&only_with_salary=true&items_on_page=100&clusters=true&enable_snippets=true&text=продавец&page=6\n",
      "Статус: 200\n",
      "https://hh.ru/search/vacancy?L_is_autosearch=true&area=145&currency_code=RUR&only_with_salary=true&items_on_page=100&clusters=true&enable_snippets=true&text=продавец&page=7\n",
      "Статус: 200\n",
      "https://hh.ru/search/vacancy?L_is_autosearch=true&area=145&currency_code=RUR&only_with_salary=true&items_on_page=100&clusters=true&enable_snippets=true&text=продавец&page=8\n",
      "Статус: 200\n",
      "https://hh.ru/search/vacancy?L_is_autosearch=true&area=145&currency_code=RUR&only_with_salary=true&items_on_page=100&clusters=true&enable_snippets=true&text=продавец&page=9\n",
      "Статус: 200\n"
     ]
    },
    {
     "name": "stderr",
     "output_type": "stream",
     "text": [
      "\n",
      "\n",
      "\n",
      " 58%|██████████████████████████████████████████████▉                                  | 58/100 [04:03<06:21,  9.09s/it]"
     ]
    },
    {
     "name": "stdout",
     "output_type": "stream",
     "text": [
      "https://hh.ru/search/vacancy?L_is_autosearch=true&area=147&currency_code=RUR&only_with_salary=true&items_on_page=100&clusters=true&enable_snippets=true&text=продавец&page=0\n",
      "Статус: 200\n"
     ]
    },
    {
     "name": "stderr",
     "output_type": "stream",
     "text": [
      "\n",
      "\n",
      "\n",
      " 59%|███████████████████████████████████████████████▊                                 | 59/100 [04:04<04:29,  6.57s/it]"
     ]
    },
    {
     "name": "stdout",
     "output_type": "stream",
     "text": [
      "https://hh.ru/search/vacancy?L_is_autosearch=true&area=152&currency_code=RUR&only_with_salary=true&items_on_page=100&clusters=true&enable_snippets=true&text=продавец&page=0\n",
      "Статус: 200\n"
     ]
    },
    {
     "name": "stderr",
     "output_type": "stream",
     "text": [
      "\n",
      "\n",
      "\n",
      " 60%|████████████████████████████████████████████████▌                                | 60/100 [04:04<03:08,  4.70s/it]"
     ]
    },
    {
     "name": "stdout",
     "output_type": "stream",
     "text": [
      "https://hh.ru/search/vacancy?L_is_autosearch=true&area=153&currency_code=RUR&only_with_salary=true&items_on_page=100&clusters=true&enable_snippets=true&text=продавец&page=0\n",
      "Статус: 200\n"
     ]
    },
    {
     "name": "stderr",
     "output_type": "stream",
     "text": [
      "\n",
      "\n",
      "\n",
      " 61%|█████████████████████████████████████████████████▍                               | 61/100 [04:04<02:14,  3.45s/it]"
     ]
    },
    {
     "name": "stdout",
     "output_type": "stream",
     "text": [
      "https://hh.ru/search/vacancy?L_is_autosearch=true&area=154&currency_code=RUR&only_with_salary=true&items_on_page=100&clusters=true&enable_snippets=true&text=продавец&page=0\n",
      "Статус: 200\n"
     ]
    },
    {
     "name": "stderr",
     "output_type": "stream",
     "text": [
      "\n",
      "\n",
      "\n",
      " 62%|██████████████████████████████████████████████████▏                              | 62/100 [04:05<01:37,  2.57s/it]"
     ]
    },
    {
     "name": "stdout",
     "output_type": "stream",
     "text": [
      "https://hh.ru/search/vacancy?L_is_autosearch=true&area=159&currency_code=RUR&only_with_salary=true&items_on_page=100&clusters=true&enable_snippets=true&text=продавец&page=0\n",
      "Статус: 200\n",
      "https://hh.ru/search/vacancy?L_is_autosearch=true&area=159&currency_code=RUR&only_with_salary=true&items_on_page=100&clusters=true&enable_snippets=true&text=продавец&page=1\n",
      "Статус: 200\n"
     ]
    },
    {
     "name": "stderr",
     "output_type": "stream",
     "text": [
      "\n",
      "\n",
      "\n",
      " 63%|███████████████████████████████████████████████████                              | 63/100 [04:06<01:19,  2.16s/it]"
     ]
    },
    {
     "name": "stdout",
     "output_type": "stream",
     "text": [
      "https://hh.ru/search/vacancy?L_is_autosearch=true&area=160&currency_code=RUR&only_with_salary=true&items_on_page=100&clusters=true&enable_snippets=true&text=продавец&page=0\n",
      "Статус: 200\n",
      "https://hh.ru/search/vacancy?L_is_autosearch=true&area=160&currency_code=RUR&only_with_salary=true&items_on_page=100&clusters=true&enable_snippets=true&text=продавец&page=1\n",
      "Статус: 200\n",
      "https://hh.ru/search/vacancy?L_is_autosearch=true&area=160&currency_code=RUR&only_with_salary=true&items_on_page=100&clusters=true&enable_snippets=true&text=продавец&page=2\n",
      "Статус: 200\n"
     ]
    },
    {
     "name": "stderr",
     "output_type": "stream",
     "text": [
      "\n",
      "\n",
      "\n",
      " 64%|███████████████████████████████████████████████████▊                             | 64/100 [04:09<01:22,  2.29s/it]"
     ]
    },
    {
     "name": "stdout",
     "output_type": "stream",
     "text": [
      "https://hh.ru/search/vacancy?L_is_autosearch=true&area=172&currency_code=RUR&only_with_salary=true&items_on_page=100&clusters=true&enable_snippets=true&text=продавец&page=0\n",
      "Статус: 200\n"
     ]
    },
    {
     "name": "stderr",
     "output_type": "stream",
     "text": [
      "\n",
      "\n",
      "\n",
      " 65%|████████████████████████████████████████████████████▋                            | 65/100 [04:09<01:03,  1.81s/it]"
     ]
    },
    {
     "name": "stdout",
     "output_type": "stream",
     "text": [
      "https://hh.ru/search/vacancy?L_is_autosearch=true&area=177&currency_code=RUR&only_with_salary=true&items_on_page=100&clusters=true&enable_snippets=true&text=продавец&page=0\n",
      "Статус: 200\n"
     ]
    },
    {
     "name": "stderr",
     "output_type": "stream",
     "text": [
      "\n",
      "\n",
      "\n",
      " 66%|█████████████████████████████████████████████████████▍                           | 66/100 [04:10<00:50,  1.49s/it]"
     ]
    },
    {
     "name": "stdout",
     "output_type": "stream",
     "text": [
      "https://hh.ru/search/vacancy?L_is_autosearch=true&area=180&currency_code=RUR&only_with_salary=true&items_on_page=100&clusters=true&enable_snippets=true&text=продавец&page=0\n",
      "Статус: 200\n"
     ]
    },
    {
     "name": "stderr",
     "output_type": "stream",
     "text": [
      "\n",
      "\n",
      "\n",
      " 67%|██████████████████████████████████████████████████████▎                          | 67/100 [04:11<00:42,  1.30s/it]"
     ]
    },
    {
     "name": "stdout",
     "output_type": "stream",
     "text": [
      "https://hh.ru/search/vacancy?L_is_autosearch=true&area=185&currency_code=RUR&only_with_salary=true&items_on_page=100&clusters=true&enable_snippets=true&text=продавец&page=0\n",
      "Статус: 200\n"
     ]
    },
    {
     "name": "stderr",
     "output_type": "stream",
     "text": [
      "\n",
      "\n",
      "\n",
      " 68%|███████████████████████████████████████████████████████                          | 68/100 [04:12<00:34,  1.08s/it]"
     ]
    },
    {
     "name": "stdout",
     "output_type": "stream",
     "text": [
      "https://hh.ru/search/vacancy?L_is_autosearch=true&area=187&currency_code=RUR&only_with_salary=true&items_on_page=100&clusters=true&enable_snippets=true&text=продавец&page=0\n",
      "Статус: 200\n"
     ]
    },
    {
     "name": "stderr",
     "output_type": "stream",
     "text": [
      "\n",
      "\n",
      "\n",
      " 69%|███████████████████████████████████████████████████████▉                         | 69/100 [04:12<00:26,  1.15it/s]"
     ]
    },
    {
     "name": "stdout",
     "output_type": "stream",
     "text": [
      "https://hh.ru/search/vacancy?L_is_autosearch=true&area=188&currency_code=RUR&only_with_salary=true&items_on_page=100&clusters=true&enable_snippets=true&text=продавец&page=0\n",
      "Статус: 200\n"
     ]
    },
    {
     "name": "stderr",
     "output_type": "stream",
     "text": [
      "\n",
      "\n",
      "\n",
      " 70%|████████████████████████████████████████████████████████▋                        | 70/100 [04:12<00:22,  1.36it/s]"
     ]
    },
    {
     "name": "stdout",
     "output_type": "stream",
     "text": [
      "https://hh.ru/search/vacancy?L_is_autosearch=true&area=193&currency_code=RUR&only_with_salary=true&items_on_page=100&clusters=true&enable_snippets=true&text=продавец&page=0\n",
      "Статус: 200\n"
     ]
    },
    {
     "name": "stderr",
     "output_type": "stream",
     "text": [
      "\n",
      "\n",
      "\n",
      " 71%|█████████████████████████████████████████████████████████▌                       | 71/100 [04:13<00:20,  1.42it/s]"
     ]
    },
    {
     "name": "stdout",
     "output_type": "stream",
     "text": [
      "https://hh.ru/search/vacancy?L_is_autosearch=true&area=194&currency_code=RUR&only_with_salary=true&items_on_page=100&clusters=true&enable_snippets=true&text=продавец&page=0\n",
      "Статус: 200\n"
     ]
    },
    {
     "name": "stderr",
     "output_type": "stream",
     "text": [
      "\n",
      "\n",
      "\n",
      " 72%|██████████████████████████████████████████████████████████▎                      | 72/100 [04:14<00:19,  1.46it/s]"
     ]
    },
    {
     "name": "stdout",
     "output_type": "stream",
     "text": [
      "https://hh.ru/search/vacancy?L_is_autosearch=true&area=205&currency_code=RUR&only_with_salary=true&items_on_page=100&clusters=true&enable_snippets=true&text=продавец&page=0\n",
      "Статус: 200\n"
     ]
    },
    {
     "name": "stderr",
     "output_type": "stream",
     "text": [
      "\n",
      "\n",
      "\n",
      " 73%|███████████████████████████████████████████████████████████▏                     | 73/100 [04:14<00:16,  1.64it/s]"
     ]
    },
    {
     "name": "stdout",
     "output_type": "stream",
     "text": [
      "https://hh.ru/search/vacancy?L_is_autosearch=true&area=212&currency_code=RUR&only_with_salary=true&items_on_page=100&clusters=true&enable_snippets=true&text=продавец&page=0\n",
      "Статус: 200\n",
      "https://hh.ru/search/vacancy?L_is_autosearch=true&area=212&currency_code=RUR&only_with_salary=true&items_on_page=100&clusters=true&enable_snippets=true&text=продавец&page=1\n",
      "Статус: 200\n",
      "https://hh.ru/search/vacancy?L_is_autosearch=true&area=212&currency_code=RUR&only_with_salary=true&items_on_page=100&clusters=true&enable_snippets=true&text=продавец&page=2\n",
      "Статус: 200\n"
     ]
    },
    {
     "name": "stderr",
     "output_type": "stream",
     "text": [
      "\n",
      "\n",
      "\n",
      " 74%|███████████████████████████████████████████████████████████▉                     | 74/100 [04:17<00:33,  1.29s/it]"
     ]
    },
    {
     "name": "stdout",
     "output_type": "stream",
     "text": [
      "https://hh.ru/search/vacancy?L_is_autosearch=true&area=220&currency_code=RUR&only_with_salary=true&items_on_page=100&clusters=true&enable_snippets=true&text=продавец&page=0\n",
      "Статус: 200\n",
      "https://hh.ru/search/vacancy?L_is_autosearch=true&area=220&currency_code=RUR&only_with_salary=true&items_on_page=100&clusters=true&enable_snippets=true&text=продавец&page=1\n",
      "Статус: 200\n",
      "https://hh.ru/search/vacancy?L_is_autosearch=true&area=220&currency_code=RUR&only_with_salary=true&items_on_page=100&clusters=true&enable_snippets=true&text=продавец&page=2\n",
      "Статус: 200\n",
      "https://hh.ru/search/vacancy?L_is_autosearch=true&area=220&currency_code=RUR&only_with_salary=true&items_on_page=100&clusters=true&enable_snippets=true&text=продавец&page=3\n",
      "Статус: 200\n",
      "https://hh.ru/search/vacancy?L_is_autosearch=true&area=220&currency_code=RUR&only_with_salary=true&items_on_page=100&clusters=true&enable_snippets=true&text=продавец&page=4\n",
      "Статус: 200\n",
      "https://hh.ru/search/vacancy?L_is_autosearch=true&area=220&currency_code=RUR&only_with_salary=true&items_on_page=100&clusters=true&enable_snippets=true&text=продавец&page=5\n",
      "Статус: 200\n"
     ]
    },
    {
     "name": "stderr",
     "output_type": "stream",
     "text": [
      "\n",
      "\n",
      "\n",
      " 75%|████████████████████████████████████████████████████████████▊                    | 75/100 [04:23<01:05,  2.62s/it]"
     ]
    },
    {
     "name": "stdout",
     "output_type": "stream",
     "text": [
      "https://hh.ru/search/vacancy?L_is_autosearch=true&area=222&currency_code=RUR&only_with_salary=true&items_on_page=100&clusters=true&enable_snippets=true&text=продавец&page=0\n",
      "Статус: 200\n",
      "https://hh.ru/search/vacancy?L_is_autosearch=true&area=222&currency_code=RUR&only_with_salary=true&items_on_page=100&clusters=true&enable_snippets=true&text=продавец&page=1\n",
      "Статус: 200\n",
      "https://hh.ru/search/vacancy?L_is_autosearch=true&area=222&currency_code=RUR&only_with_salary=true&items_on_page=100&clusters=true&enable_snippets=true&text=продавец&page=2\n",
      "Статус: 200\n",
      "https://hh.ru/search/vacancy?L_is_autosearch=true&area=222&currency_code=RUR&only_with_salary=true&items_on_page=100&clusters=true&enable_snippets=true&text=продавец&page=3\n",
      "Статус: 200\n",
      "https://hh.ru/search/vacancy?L_is_autosearch=true&area=222&currency_code=RUR&only_with_salary=true&items_on_page=100&clusters=true&enable_snippets=true&text=продавец&page=4\n",
      "Статус: 200\n",
      "https://hh.ru/search/vacancy?L_is_autosearch=true&area=222&currency_code=RUR&only_with_salary=true&items_on_page=100&clusters=true&enable_snippets=true&text=продавец&page=5\n",
      "Статус: 200\n",
      "https://hh.ru/search/vacancy?L_is_autosearch=true&area=222&currency_code=RUR&only_with_salary=true&items_on_page=100&clusters=true&enable_snippets=true&text=продавец&page=6\n",
      "Статус: 200\n",
      "https://hh.ru/search/vacancy?L_is_autosearch=true&area=222&currency_code=RUR&only_with_salary=true&items_on_page=100&clusters=true&enable_snippets=true&text=продавец&page=7\n",
      "Статус: 200\n",
      "https://hh.ru/search/vacancy?L_is_autosearch=true&area=222&currency_code=RUR&only_with_salary=true&items_on_page=100&clusters=true&enable_snippets=true&text=продавец&page=8\n",
      "Статус: 200\n",
      "https://hh.ru/search/vacancy?L_is_autosearch=true&area=222&currency_code=RUR&only_with_salary=true&items_on_page=100&clusters=true&enable_snippets=true&text=продавец&page=9\n",
      "Статус: 200\n",
      "https://hh.ru/search/vacancy?L_is_autosearch=true&area=222&currency_code=RUR&only_with_salary=true&items_on_page=100&clusters=true&enable_snippets=true&text=продавец&page=10\n",
      "Статус: 200\n",
      "https://hh.ru/search/vacancy?L_is_autosearch=true&area=222&currency_code=RUR&only_with_salary=true&items_on_page=100&clusters=true&enable_snippets=true&text=продавец&page=11\n",
      "Статус: 200\n",
      "https://hh.ru/search/vacancy?L_is_autosearch=true&area=222&currency_code=RUR&only_with_salary=true&items_on_page=100&clusters=true&enable_snippets=true&text=продавец&page=12\n",
      "Статус: 200\n",
      "https://hh.ru/search/vacancy?L_is_autosearch=true&area=222&currency_code=RUR&only_with_salary=true&items_on_page=100&clusters=true&enable_snippets=true&text=продавец&page=13\n",
      "Статус: 200\n",
      "https://hh.ru/search/vacancy?L_is_autosearch=true&area=222&currency_code=RUR&only_with_salary=true&items_on_page=100&clusters=true&enable_snippets=true&text=продавец&page=14\n",
      "Статус: 200\n",
      "https://hh.ru/search/vacancy?L_is_autosearch=true&area=222&currency_code=RUR&only_with_salary=true&items_on_page=100&clusters=true&enable_snippets=true&text=продавец&page=15\n",
      "Статус: 200\n",
      "https://hh.ru/search/vacancy?L_is_autosearch=true&area=222&currency_code=RUR&only_with_salary=true&items_on_page=100&clusters=true&enable_snippets=true&text=продавец&page=16\n",
      "Статус: 200\n",
      "https://hh.ru/search/vacancy?L_is_autosearch=true&area=222&currency_code=RUR&only_with_salary=true&items_on_page=100&clusters=true&enable_snippets=true&text=продавец&page=17\n",
      "Статус: 200\n",
      "https://hh.ru/search/vacancy?L_is_autosearch=true&area=222&currency_code=RUR&only_with_salary=true&items_on_page=100&clusters=true&enable_snippets=true&text=продавец&page=18\n",
      "Статус: 200\n",
      "https://hh.ru/search/vacancy?L_is_autosearch=true&area=222&currency_code=RUR&only_with_salary=true&items_on_page=100&clusters=true&enable_snippets=true&text=продавец&page=19\n",
      "Статус: 200\n"
     ]
    },
    {
     "name": "stderr",
     "output_type": "stream",
     "text": [
      "\n",
      "\n",
      "\n",
      " 76%|█████████████████████████████████████████████████████████████▌                   | 76/100 [04:44<03:16,  8.18s/it]"
     ]
    },
    {
     "name": "stdout",
     "output_type": "stream",
     "text": [
      "https://hh.ru/search/vacancy?L_is_autosearch=true&area=225&currency_code=RUR&only_with_salary=true&items_on_page=100&clusters=true&enable_snippets=true&text=продавец&page=0\n",
      "Статус: 200\n",
      "https://hh.ru/search/vacancy?L_is_autosearch=true&area=225&currency_code=RUR&only_with_salary=true&items_on_page=100&clusters=true&enable_snippets=true&text=продавец&page=1\n",
      "Статус: 200\n",
      "https://hh.ru/search/vacancy?L_is_autosearch=true&area=225&currency_code=RUR&only_with_salary=true&items_on_page=100&clusters=true&enable_snippets=true&text=продавец&page=2\n",
      "Статус: 200\n",
      "https://hh.ru/search/vacancy?L_is_autosearch=true&area=225&currency_code=RUR&only_with_salary=true&items_on_page=100&clusters=true&enable_snippets=true&text=продавец&page=3\n",
      "Статус: 200\n",
      "https://hh.ru/search/vacancy?L_is_autosearch=true&area=225&currency_code=RUR&only_with_salary=true&items_on_page=100&clusters=true&enable_snippets=true&text=продавец&page=4\n",
      "Статус: 200\n",
      "https://hh.ru/search/vacancy?L_is_autosearch=true&area=225&currency_code=RUR&only_with_salary=true&items_on_page=100&clusters=true&enable_snippets=true&text=продавец&page=5\n",
      "Статус: 200\n",
      "https://hh.ru/search/vacancy?L_is_autosearch=true&area=225&currency_code=RUR&only_with_salary=true&items_on_page=100&clusters=true&enable_snippets=true&text=продавец&page=6\n",
      "Статус: 200\n",
      "https://hh.ru/search/vacancy?L_is_autosearch=true&area=225&currency_code=RUR&only_with_salary=true&items_on_page=100&clusters=true&enable_snippets=true&text=продавец&page=7\n",
      "Статус: 200\n",
      "https://hh.ru/search/vacancy?L_is_autosearch=true&area=225&currency_code=RUR&only_with_salary=true&items_on_page=100&clusters=true&enable_snippets=true&text=продавец&page=8\n",
      "Статус: 200\n",
      "https://hh.ru/search/vacancy?L_is_autosearch=true&area=225&currency_code=RUR&only_with_salary=true&items_on_page=100&clusters=true&enable_snippets=true&text=продавец&page=9\n",
      "Статус: 200\n",
      "https://hh.ru/search/vacancy?L_is_autosearch=true&area=225&currency_code=RUR&only_with_salary=true&items_on_page=100&clusters=true&enable_snippets=true&text=продавец&page=10\n",
      "Статус: 200\n",
      "https://hh.ru/search/vacancy?L_is_autosearch=true&area=225&currency_code=RUR&only_with_salary=true&items_on_page=100&clusters=true&enable_snippets=true&text=продавец&page=11\n",
      "Статус: 200\n",
      "https://hh.ru/search/vacancy?L_is_autosearch=true&area=225&currency_code=RUR&only_with_salary=true&items_on_page=100&clusters=true&enable_snippets=true&text=продавец&page=12\n",
      "Статус: 200\n",
      "https://hh.ru/search/vacancy?L_is_autosearch=true&area=225&currency_code=RUR&only_with_salary=true&items_on_page=100&clusters=true&enable_snippets=true&text=продавец&page=13\n",
      "Статус: 200\n",
      "https://hh.ru/search/vacancy?L_is_autosearch=true&area=225&currency_code=RUR&only_with_salary=true&items_on_page=100&clusters=true&enable_snippets=true&text=продавец&page=14\n",
      "Статус: 200\n",
      "https://hh.ru/search/vacancy?L_is_autosearch=true&area=225&currency_code=RUR&only_with_salary=true&items_on_page=100&clusters=true&enable_snippets=true&text=продавец&page=15\n",
      "Статус: 200\n",
      "https://hh.ru/search/vacancy?L_is_autosearch=true&area=225&currency_code=RUR&only_with_salary=true&items_on_page=100&clusters=true&enable_snippets=true&text=продавец&page=16\n",
      "Статус: 200\n",
      "https://hh.ru/search/vacancy?L_is_autosearch=true&area=225&currency_code=RUR&only_with_salary=true&items_on_page=100&clusters=true&enable_snippets=true&text=продавец&page=17\n",
      "Статус: 200\n"
     ]
    },
    {
     "name": "stderr",
     "output_type": "stream",
     "text": [
      "\n",
      "\n",
      "\n",
      " 77%|██████████████████████████████████████████████████████████████▎                  | 77/100 [05:01<04:08, 10.82s/it]"
     ]
    },
    {
     "name": "stdout",
     "output_type": "stream",
     "text": [
      "https://hh.ru/search/vacancy?L_is_autosearch=true&area=226&currency_code=RUR&only_with_salary=true&items_on_page=100&clusters=true&enable_snippets=true&text=продавец&page=0\n",
      "Статус: 200\n",
      "https://hh.ru/search/vacancy?L_is_autosearch=true&area=226&currency_code=RUR&only_with_salary=true&items_on_page=100&clusters=true&enable_snippets=true&text=продавец&page=1\n",
      "Статус: 200\n",
      "https://hh.ru/search/vacancy?L_is_autosearch=true&area=226&currency_code=RUR&only_with_salary=true&items_on_page=100&clusters=true&enable_snippets=true&text=продавец&page=2\n",
      "Статус: 200\n",
      "https://hh.ru/search/vacancy?L_is_autosearch=true&area=226&currency_code=RUR&only_with_salary=true&items_on_page=100&clusters=true&enable_snippets=true&text=продавец&page=3\n",
      "Статус: 200\n",
      "https://hh.ru/search/vacancy?L_is_autosearch=true&area=226&currency_code=RUR&only_with_salary=true&items_on_page=100&clusters=true&enable_snippets=true&text=продавец&page=4\n",
      "Статус: 200\n",
      "https://hh.ru/search/vacancy?L_is_autosearch=true&area=226&currency_code=RUR&only_with_salary=true&items_on_page=100&clusters=true&enable_snippets=true&text=продавец&page=5\n",
      "Статус: 200\n",
      "https://hh.ru/search/vacancy?L_is_autosearch=true&area=226&currency_code=RUR&only_with_salary=true&items_on_page=100&clusters=true&enable_snippets=true&text=продавец&page=6\n",
      "Статус: 200\n",
      "https://hh.ru/search/vacancy?L_is_autosearch=true&area=226&currency_code=RUR&only_with_salary=true&items_on_page=100&clusters=true&enable_snippets=true&text=продавец&page=7\n",
      "Статус: 200\n",
      "https://hh.ru/search/vacancy?L_is_autosearch=true&area=226&currency_code=RUR&only_with_salary=true&items_on_page=100&clusters=true&enable_snippets=true&text=продавец&page=8\n",
      "Статус: 200\n",
      "https://hh.ru/search/vacancy?L_is_autosearch=true&area=226&currency_code=RUR&only_with_salary=true&items_on_page=100&clusters=true&enable_snippets=true&text=продавец&page=9\n",
      "Статус: 200\n",
      "https://hh.ru/search/vacancy?L_is_autosearch=true&area=226&currency_code=RUR&only_with_salary=true&items_on_page=100&clusters=true&enable_snippets=true&text=продавец&page=10\n",
      "Статус: 200\n",
      "https://hh.ru/search/vacancy?L_is_autosearch=true&area=226&currency_code=RUR&only_with_salary=true&items_on_page=100&clusters=true&enable_snippets=true&text=продавец&page=11\n",
      "Статус: 200\n",
      "https://hh.ru/search/vacancy?L_is_autosearch=true&area=226&currency_code=RUR&only_with_salary=true&items_on_page=100&clusters=true&enable_snippets=true&text=продавец&page=12\n",
      "Статус: 200\n",
      "https://hh.ru/search/vacancy?L_is_autosearch=true&area=226&currency_code=RUR&only_with_salary=true&items_on_page=100&clusters=true&enable_snippets=true&text=продавец&page=13\n",
      "Статус: 200\n",
      "https://hh.ru/search/vacancy?L_is_autosearch=true&area=226&currency_code=RUR&only_with_salary=true&items_on_page=100&clusters=true&enable_snippets=true&text=продавец&page=14\n",
      "Статус: 200\n",
      "https://hh.ru/search/vacancy?L_is_autosearch=true&area=226&currency_code=RUR&only_with_salary=true&items_on_page=100&clusters=true&enable_snippets=true&text=продавец&page=15\n",
      "Статус: 200\n",
      "https://hh.ru/search/vacancy?L_is_autosearch=true&area=226&currency_code=RUR&only_with_salary=true&items_on_page=100&clusters=true&enable_snippets=true&text=продавец&page=16\n",
      "Статус: 200\n",
      "https://hh.ru/search/vacancy?L_is_autosearch=true&area=226&currency_code=RUR&only_with_salary=true&items_on_page=100&clusters=true&enable_snippets=true&text=продавец&page=17\n",
      "Статус: 200\n",
      "https://hh.ru/search/vacancy?L_is_autosearch=true&area=226&currency_code=RUR&only_with_salary=true&items_on_page=100&clusters=true&enable_snippets=true&text=продавец&page=18\n",
      "Статус: 200\n",
      "https://hh.ru/search/vacancy?L_is_autosearch=true&area=226&currency_code=RUR&only_with_salary=true&items_on_page=100&clusters=true&enable_snippets=true&text=продавец&page=19\n",
      "Статус: 200\n"
     ]
    },
    {
     "name": "stderr",
     "output_type": "stream",
     "text": [
      "\n",
      "\n",
      "\n",
      " 78%|███████████████████████████████████████████████████████████████▏                 | 78/100 [05:22<05:05, 13.90s/it]"
     ]
    },
    {
     "name": "stdout",
     "output_type": "stream",
     "text": [
      "https://hh.ru/search/vacancy?L_is_autosearch=true&area=228&currency_code=RUR&only_with_salary=true&items_on_page=100&clusters=true&enable_snippets=true&text=продавец&page=0\n",
      "Статус: 200\n",
      "https://hh.ru/search/vacancy?L_is_autosearch=true&area=228&currency_code=RUR&only_with_salary=true&items_on_page=100&clusters=true&enable_snippets=true&text=продавец&page=1\n",
      "Статус: 200\n",
      "https://hh.ru/search/vacancy?L_is_autosearch=true&area=228&currency_code=RUR&only_with_salary=true&items_on_page=100&clusters=true&enable_snippets=true&text=продавец&page=2\n",
      "Статус: 200\n",
      "https://hh.ru/search/vacancy?L_is_autosearch=true&area=228&currency_code=RUR&only_with_salary=true&items_on_page=100&clusters=true&enable_snippets=true&text=продавец&page=3\n",
      "Статус: 200\n",
      "https://hh.ru/search/vacancy?L_is_autosearch=true&area=228&currency_code=RUR&only_with_salary=true&items_on_page=100&clusters=true&enable_snippets=true&text=продавец&page=4\n",
      "Статус: 200\n",
      "https://hh.ru/search/vacancy?L_is_autosearch=true&area=228&currency_code=RUR&only_with_salary=true&items_on_page=100&clusters=true&enable_snippets=true&text=продавец&page=5\n",
      "Статус: 200\n",
      "https://hh.ru/search/vacancy?L_is_autosearch=true&area=228&currency_code=RUR&only_with_salary=true&items_on_page=100&clusters=true&enable_snippets=true&text=продавец&page=6\n",
      "Статус: 200\n",
      "https://hh.ru/search/vacancy?L_is_autosearch=true&area=228&currency_code=RUR&only_with_salary=true&items_on_page=100&clusters=true&enable_snippets=true&text=продавец&page=7\n",
      "Статус: 200\n",
      "https://hh.ru/search/vacancy?L_is_autosearch=true&area=228&currency_code=RUR&only_with_salary=true&items_on_page=100&clusters=true&enable_snippets=true&text=продавец&page=8\n",
      "Статус: 200\n",
      "https://hh.ru/search/vacancy?L_is_autosearch=true&area=228&currency_code=RUR&only_with_salary=true&items_on_page=100&clusters=true&enable_snippets=true&text=продавец&page=9\n",
      "Статус: 200\n",
      "https://hh.ru/search/vacancy?L_is_autosearch=true&area=228&currency_code=RUR&only_with_salary=true&items_on_page=100&clusters=true&enable_snippets=true&text=продавец&page=10\n",
      "Статус: 200\n",
      "https://hh.ru/search/vacancy?L_is_autosearch=true&area=228&currency_code=RUR&only_with_salary=true&items_on_page=100&clusters=true&enable_snippets=true&text=продавец&page=11\n",
      "Статус: 200\n",
      "https://hh.ru/search/vacancy?L_is_autosearch=true&area=228&currency_code=RUR&only_with_salary=true&items_on_page=100&clusters=true&enable_snippets=true&text=продавец&page=12\n",
      "Статус: 200\n",
      "https://hh.ru/search/vacancy?L_is_autosearch=true&area=228&currency_code=RUR&only_with_salary=true&items_on_page=100&clusters=true&enable_snippets=true&text=продавец&page=13\n",
      "Статус: 200\n",
      "https://hh.ru/search/vacancy?L_is_autosearch=true&area=228&currency_code=RUR&only_with_salary=true&items_on_page=100&clusters=true&enable_snippets=true&text=продавец&page=14\n",
      "Статус: 200\n",
      "https://hh.ru/search/vacancy?L_is_autosearch=true&area=228&currency_code=RUR&only_with_salary=true&items_on_page=100&clusters=true&enable_snippets=true&text=продавец&page=15\n",
      "Статус: 200\n"
     ]
    },
    {
     "name": "stderr",
     "output_type": "stream",
     "text": [
      "\n",
      "\n",
      "\n",
      " 79%|███████████████████████████████████████████████████████████████▉                 | 79/100 [05:38<05:04, 14.52s/it]"
     ]
    },
    {
     "name": "stdout",
     "output_type": "stream",
     "text": [
      "https://hh.ru/search/vacancy?L_is_autosearch=true&area=231&currency_code=RUR&only_with_salary=true&items_on_page=100&clusters=true&enable_snippets=true&text=продавец&page=0\n",
      "Статус: 200\n",
      "https://hh.ru/search/vacancy?L_is_autosearch=true&area=231&currency_code=RUR&only_with_salary=true&items_on_page=100&clusters=true&enable_snippets=true&text=продавец&page=1\n",
      "Статус: 200\n",
      "https://hh.ru/search/vacancy?L_is_autosearch=true&area=231&currency_code=RUR&only_with_salary=true&items_on_page=100&clusters=true&enable_snippets=true&text=продавец&page=2\n",
      "Статус: 200\n",
      "https://hh.ru/search/vacancy?L_is_autosearch=true&area=231&currency_code=RUR&only_with_salary=true&items_on_page=100&clusters=true&enable_snippets=true&text=продавец&page=3\n",
      "Статус: 200\n",
      "https://hh.ru/search/vacancy?L_is_autosearch=true&area=231&currency_code=RUR&only_with_salary=true&items_on_page=100&clusters=true&enable_snippets=true&text=продавец&page=4\n",
      "Статус: 200\n",
      "https://hh.ru/search/vacancy?L_is_autosearch=true&area=231&currency_code=RUR&only_with_salary=true&items_on_page=100&clusters=true&enable_snippets=true&text=продавец&page=5\n",
      "Статус: 200\n",
      "https://hh.ru/search/vacancy?L_is_autosearch=true&area=231&currency_code=RUR&only_with_salary=true&items_on_page=100&clusters=true&enable_snippets=true&text=продавец&page=6\n",
      "Статус: 200\n",
      "https://hh.ru/search/vacancy?L_is_autosearch=true&area=231&currency_code=RUR&only_with_salary=true&items_on_page=100&clusters=true&enable_snippets=true&text=продавец&page=7\n",
      "Статус: 200\n",
      "https://hh.ru/search/vacancy?L_is_autosearch=true&area=231&currency_code=RUR&only_with_salary=true&items_on_page=100&clusters=true&enable_snippets=true&text=продавец&page=8\n",
      "Статус: 200\n",
      "https://hh.ru/search/vacancy?L_is_autosearch=true&area=231&currency_code=RUR&only_with_salary=true&items_on_page=100&clusters=true&enable_snippets=true&text=продавец&page=9\n",
      "Статус: 200\n",
      "https://hh.ru/search/vacancy?L_is_autosearch=true&area=231&currency_code=RUR&only_with_salary=true&items_on_page=100&clusters=true&enable_snippets=true&text=продавец&page=10\n",
      "Статус: 200\n",
      "https://hh.ru/search/vacancy?L_is_autosearch=true&area=231&currency_code=RUR&only_with_salary=true&items_on_page=100&clusters=true&enable_snippets=true&text=продавец&page=11\n",
      "Статус: 200\n",
      "https://hh.ru/search/vacancy?L_is_autosearch=true&area=231&currency_code=RUR&only_with_salary=true&items_on_page=100&clusters=true&enable_snippets=true&text=продавец&page=12\n",
      "Статус: 200\n",
      "https://hh.ru/search/vacancy?L_is_autosearch=true&area=231&currency_code=RUR&only_with_salary=true&items_on_page=100&clusters=true&enable_snippets=true&text=продавец&page=13\n",
      "Статус: 200\n",
      "https://hh.ru/search/vacancy?L_is_autosearch=true&area=231&currency_code=RUR&only_with_salary=true&items_on_page=100&clusters=true&enable_snippets=true&text=продавец&page=14\n",
      "Статус: 200\n",
      "https://hh.ru/search/vacancy?L_is_autosearch=true&area=231&currency_code=RUR&only_with_salary=true&items_on_page=100&clusters=true&enable_snippets=true&text=продавец&page=15\n",
      "Статус: 200\n",
      "https://hh.ru/search/vacancy?L_is_autosearch=true&area=231&currency_code=RUR&only_with_salary=true&items_on_page=100&clusters=true&enable_snippets=true&text=продавец&page=16\n",
      "Статус: 200\n",
      "https://hh.ru/search/vacancy?L_is_autosearch=true&area=231&currency_code=RUR&only_with_salary=true&items_on_page=100&clusters=true&enable_snippets=true&text=продавец&page=17\n",
      "Статус: 200\n",
      "https://hh.ru/search/vacancy?L_is_autosearch=true&area=231&currency_code=RUR&only_with_salary=true&items_on_page=100&clusters=true&enable_snippets=true&text=продавец&page=18\n",
      "Статус: 200\n",
      "https://hh.ru/search/vacancy?L_is_autosearch=true&area=231&currency_code=RUR&only_with_salary=true&items_on_page=100&clusters=true&enable_snippets=true&text=продавец&page=19\n",
      "Статус: 200\n"
     ]
    },
    {
     "name": "stderr",
     "output_type": "stream",
     "text": [
      "\n",
      "\n",
      "\n",
      " 80%|████████████████████████████████████████████████████████████████▊                | 80/100 [06:00<05:35, 16.77s/it]"
     ]
    },
    {
     "name": "stdout",
     "output_type": "stream",
     "text": [
      "https://hh.ru/search/vacancy?L_is_autosearch=true&area=237&currency_code=RUR&only_with_salary=true&items_on_page=100&clusters=true&enable_snippets=true&text=продавец&page=0\n",
      "Статус: 200\n",
      "https://hh.ru/search/vacancy?L_is_autosearch=true&area=237&currency_code=RUR&only_with_salary=true&items_on_page=100&clusters=true&enable_snippets=true&text=продавец&page=1\n",
      "Статус: 200\n"
     ]
    },
    {
     "name": "stderr",
     "output_type": "stream",
     "text": [
      "\n",
      "\n",
      "\n",
      " 81%|█████████████████████████████████████████████████████████████████▌               | 81/100 [06:01<03:52, 12.22s/it]"
     ]
    },
    {
     "name": "stdout",
     "output_type": "stream",
     "text": [
      "https://hh.ru/search/vacancy?L_is_autosearch=true&area=246&currency_code=RUR&only_with_salary=true&items_on_page=100&clusters=true&enable_snippets=true&text=продавец&page=0\n",
      "Статус: 200\n"
     ]
    },
    {
     "name": "stderr",
     "output_type": "stream",
     "text": [
      "\n",
      "\n",
      "\n",
      " 82%|██████████████████████████████████████████████████████████████████▍              | 82/100 [06:02<02:37,  8.76s/it]"
     ]
    },
    {
     "name": "stdout",
     "output_type": "stream",
     "text": [
      "https://hh.ru/search/vacancy?L_is_autosearch=true&area=252&currency_code=RUR&only_with_salary=true&items_on_page=100&clusters=true&enable_snippets=true&text=продавец&page=0\n",
      "Статус: 200\n",
      "https://hh.ru/search/vacancy?L_is_autosearch=true&area=252&currency_code=RUR&only_with_salary=true&items_on_page=100&clusters=true&enable_snippets=true&text=продавец&page=1\n",
      "Статус: 200\n",
      "https://hh.ru/search/vacancy?L_is_autosearch=true&area=252&currency_code=RUR&only_with_salary=true&items_on_page=100&clusters=true&enable_snippets=true&text=продавец&page=2\n",
      "Статус: 200\n",
      "https://hh.ru/search/vacancy?L_is_autosearch=true&area=252&currency_code=RUR&only_with_salary=true&items_on_page=100&clusters=true&enable_snippets=true&text=продавец&page=3\n",
      "Статус: 200\n",
      "https://hh.ru/search/vacancy?L_is_autosearch=true&area=252&currency_code=RUR&only_with_salary=true&items_on_page=100&clusters=true&enable_snippets=true&text=продавец&page=4\n",
      "Статус: 200\n",
      "https://hh.ru/search/vacancy?L_is_autosearch=true&area=252&currency_code=RUR&only_with_salary=true&items_on_page=100&clusters=true&enable_snippets=true&text=продавец&page=5\n",
      "Статус: 200\n",
      "https://hh.ru/search/vacancy?L_is_autosearch=true&area=252&currency_code=RUR&only_with_salary=true&items_on_page=100&clusters=true&enable_snippets=true&text=продавец&page=6\n",
      "Статус: 200\n",
      "https://hh.ru/search/vacancy?L_is_autosearch=true&area=252&currency_code=RUR&only_with_salary=true&items_on_page=100&clusters=true&enable_snippets=true&text=продавец&page=7\n",
      "Статус: 200\n",
      "https://hh.ru/search/vacancy?L_is_autosearch=true&area=252&currency_code=RUR&only_with_salary=true&items_on_page=100&clusters=true&enable_snippets=true&text=продавец&page=8\n",
      "Статус: 200\n",
      "https://hh.ru/search/vacancy?L_is_autosearch=true&area=252&currency_code=RUR&only_with_salary=true&items_on_page=100&clusters=true&enable_snippets=true&text=продавец&page=9\n",
      "Статус: 200\n",
      "https://hh.ru/search/vacancy?L_is_autosearch=true&area=252&currency_code=RUR&only_with_salary=true&items_on_page=100&clusters=true&enable_snippets=true&text=продавец&page=10\n",
      "Статус: 200\n",
      "https://hh.ru/search/vacancy?L_is_autosearch=true&area=252&currency_code=RUR&only_with_salary=true&items_on_page=100&clusters=true&enable_snippets=true&text=продавец&page=11\n",
      "Статус: 200\n",
      "https://hh.ru/search/vacancy?L_is_autosearch=true&area=252&currency_code=RUR&only_with_salary=true&items_on_page=100&clusters=true&enable_snippets=true&text=продавец&page=12\n",
      "Статус: 200\n",
      "https://hh.ru/search/vacancy?L_is_autosearch=true&area=252&currency_code=RUR&only_with_salary=true&items_on_page=100&clusters=true&enable_snippets=true&text=продавец&page=13\n",
      "Статус: 200\n",
      "https://hh.ru/search/vacancy?L_is_autosearch=true&area=252&currency_code=RUR&only_with_salary=true&items_on_page=100&clusters=true&enable_snippets=true&text=продавец&page=14\n",
      "Статус: 200\n",
      "https://hh.ru/search/vacancy?L_is_autosearch=true&area=252&currency_code=RUR&only_with_salary=true&items_on_page=100&clusters=true&enable_snippets=true&text=продавец&page=15\n",
      "Статус: 200\n",
      "https://hh.ru/search/vacancy?L_is_autosearch=true&area=252&currency_code=RUR&only_with_salary=true&items_on_page=100&clusters=true&enable_snippets=true&text=продавец&page=16\n",
      "Статус: 200\n",
      "https://hh.ru/search/vacancy?L_is_autosearch=true&area=252&currency_code=RUR&only_with_salary=true&items_on_page=100&clusters=true&enable_snippets=true&text=продавец&page=17\n",
      "Статус: 200\n",
      "https://hh.ru/search/vacancy?L_is_autosearch=true&area=252&currency_code=RUR&only_with_salary=true&items_on_page=100&clusters=true&enable_snippets=true&text=продавец&page=18\n",
      "Статус: 200\n",
      "https://hh.ru/search/vacancy?L_is_autosearch=true&area=252&currency_code=RUR&only_with_salary=true&items_on_page=100&clusters=true&enable_snippets=true&text=продавец&page=19\n",
      "Статус: 200\n"
     ]
    },
    {
     "name": "stderr",
     "output_type": "stream",
     "text": [
      "\n",
      "\n",
      "\n",
      " 83%|███████████████████████████████████████████████████████████████████▏             | 83/100 [06:25<03:42, 13.11s/it]"
     ]
    },
    {
     "name": "stdout",
     "output_type": "stream",
     "text": [
      "https://hh.ru/search/vacancy?L_is_autosearch=true&area=253&currency_code=RUR&only_with_salary=true&items_on_page=100&clusters=true&enable_snippets=true&text=продавец&page=0\n",
      "Статус: 200\n",
      "https://hh.ru/search/vacancy?L_is_autosearch=true&area=253&currency_code=RUR&only_with_salary=true&items_on_page=100&clusters=true&enable_snippets=true&text=продавец&page=1\n",
      "Статус: 200\n",
      "https://hh.ru/search/vacancy?L_is_autosearch=true&area=253&currency_code=RUR&only_with_salary=true&items_on_page=100&clusters=true&enable_snippets=true&text=продавец&page=2\n",
      "Статус: 200\n",
      "https://hh.ru/search/vacancy?L_is_autosearch=true&area=253&currency_code=RUR&only_with_salary=true&items_on_page=100&clusters=true&enable_snippets=true&text=продавец&page=3\n",
      "Статус: 200\n",
      "https://hh.ru/search/vacancy?L_is_autosearch=true&area=253&currency_code=RUR&only_with_salary=true&items_on_page=100&clusters=true&enable_snippets=true&text=продавец&page=4\n",
      "Статус: 200\n",
      "https://hh.ru/search/vacancy?L_is_autosearch=true&area=253&currency_code=RUR&only_with_salary=true&items_on_page=100&clusters=true&enable_snippets=true&text=продавец&page=5\n",
      "Статус: 200\n",
      "https://hh.ru/search/vacancy?L_is_autosearch=true&area=253&currency_code=RUR&only_with_salary=true&items_on_page=100&clusters=true&enable_snippets=true&text=продавец&page=6\n",
      "Статус: 200\n",
      "https://hh.ru/search/vacancy?L_is_autosearch=true&area=253&currency_code=RUR&only_with_salary=true&items_on_page=100&clusters=true&enable_snippets=true&text=продавец&page=7\n",
      "Статус: 200\n",
      "https://hh.ru/search/vacancy?L_is_autosearch=true&area=253&currency_code=RUR&only_with_salary=true&items_on_page=100&clusters=true&enable_snippets=true&text=продавец&page=8\n",
      "Статус: 200\n",
      "https://hh.ru/search/vacancy?L_is_autosearch=true&area=253&currency_code=RUR&only_with_salary=true&items_on_page=100&clusters=true&enable_snippets=true&text=продавец&page=9\n",
      "Статус: 200\n",
      "https://hh.ru/search/vacancy?L_is_autosearch=true&area=253&currency_code=RUR&only_with_salary=true&items_on_page=100&clusters=true&enable_snippets=true&text=продавец&page=10\n",
      "Статус: 200\n",
      "https://hh.ru/search/vacancy?L_is_autosearch=true&area=253&currency_code=RUR&only_with_salary=true&items_on_page=100&clusters=true&enable_snippets=true&text=продавец&page=11\n",
      "Статус: 200\n",
      "https://hh.ru/search/vacancy?L_is_autosearch=true&area=253&currency_code=RUR&only_with_salary=true&items_on_page=100&clusters=true&enable_snippets=true&text=продавец&page=12\n",
      "Статус: 200\n",
      "https://hh.ru/search/vacancy?L_is_autosearch=true&area=253&currency_code=RUR&only_with_salary=true&items_on_page=100&clusters=true&enable_snippets=true&text=продавец&page=13\n",
      "Статус: 200\n",
      "https://hh.ru/search/vacancy?L_is_autosearch=true&area=253&currency_code=RUR&only_with_salary=true&items_on_page=100&clusters=true&enable_snippets=true&text=продавец&page=14\n",
      "Статус: 200\n",
      "https://hh.ru/search/vacancy?L_is_autosearch=true&area=253&currency_code=RUR&only_with_salary=true&items_on_page=100&clusters=true&enable_snippets=true&text=продавец&page=15\n",
      "Статус: 200\n",
      "https://hh.ru/search/vacancy?L_is_autosearch=true&area=253&currency_code=RUR&only_with_salary=true&items_on_page=100&clusters=true&enable_snippets=true&text=продавец&page=16\n",
      "Статус: 200\n",
      "https://hh.ru/search/vacancy?L_is_autosearch=true&area=253&currency_code=RUR&only_with_salary=true&items_on_page=100&clusters=true&enable_snippets=true&text=продавец&page=17\n",
      "Статус: 200\n",
      "https://hh.ru/search/vacancy?L_is_autosearch=true&area=253&currency_code=RUR&only_with_salary=true&items_on_page=100&clusters=true&enable_snippets=true&text=продавец&page=18\n",
      "Статус: 200\n",
      "https://hh.ru/search/vacancy?L_is_autosearch=true&area=253&currency_code=RUR&only_with_salary=true&items_on_page=100&clusters=true&enable_snippets=true&text=продавец&page=19\n",
      "Статус: 200\n"
     ]
    },
    {
     "name": "stderr",
     "output_type": "stream",
     "text": [
      "\n",
      "\n",
      "\n",
      " 84%|████████████████████████████████████████████████████████████████████             | 84/100 [06:49<04:18, 16.15s/it]"
     ]
    },
    {
     "name": "stdout",
     "output_type": "stream",
     "text": [
      "https://hh.ru/search/vacancy?L_is_autosearch=true&area=256&currency_code=RUR&only_with_salary=true&items_on_page=100&clusters=true&enable_snippets=true&text=продавец&page=0\n",
      "Статус: 200\n",
      "https://hh.ru/search/vacancy?L_is_autosearch=true&area=256&currency_code=RUR&only_with_salary=true&items_on_page=100&clusters=true&enable_snippets=true&text=продавец&page=1\n",
      "Статус: 200\n",
      "https://hh.ru/search/vacancy?L_is_autosearch=true&area=256&currency_code=RUR&only_with_salary=true&items_on_page=100&clusters=true&enable_snippets=true&text=продавец&page=2\n",
      "Статус: 200\n",
      "https://hh.ru/search/vacancy?L_is_autosearch=true&area=256&currency_code=RUR&only_with_salary=true&items_on_page=100&clusters=true&enable_snippets=true&text=продавец&page=3\n",
      "Статус: 200\n",
      "https://hh.ru/search/vacancy?L_is_autosearch=true&area=256&currency_code=RUR&only_with_salary=true&items_on_page=100&clusters=true&enable_snippets=true&text=продавец&page=4\n",
      "Статус: 200\n",
      "https://hh.ru/search/vacancy?L_is_autosearch=true&area=256&currency_code=RUR&only_with_salary=true&items_on_page=100&clusters=true&enable_snippets=true&text=продавец&page=5\n",
      "Статус: 200\n",
      "https://hh.ru/search/vacancy?L_is_autosearch=true&area=256&currency_code=RUR&only_with_salary=true&items_on_page=100&clusters=true&enable_snippets=true&text=продавец&page=6\n",
      "Статус: 200\n",
      "https://hh.ru/search/vacancy?L_is_autosearch=true&area=256&currency_code=RUR&only_with_salary=true&items_on_page=100&clusters=true&enable_snippets=true&text=продавец&page=7\n",
      "Статус: 200\n",
      "https://hh.ru/search/vacancy?L_is_autosearch=true&area=256&currency_code=RUR&only_with_salary=true&items_on_page=100&clusters=true&enable_snippets=true&text=продавец&page=8\n",
      "Статус: 200\n",
      "https://hh.ru/search/vacancy?L_is_autosearch=true&area=256&currency_code=RUR&only_with_salary=true&items_on_page=100&clusters=true&enable_snippets=true&text=продавец&page=9\n",
      "Статус: 200\n",
      "https://hh.ru/search/vacancy?L_is_autosearch=true&area=256&currency_code=RUR&only_with_salary=true&items_on_page=100&clusters=true&enable_snippets=true&text=продавец&page=10\n",
      "Статус: 200\n",
      "https://hh.ru/search/vacancy?L_is_autosearch=true&area=256&currency_code=RUR&only_with_salary=true&items_on_page=100&clusters=true&enable_snippets=true&text=продавец&page=11\n",
      "Статус: 200\n",
      "https://hh.ru/search/vacancy?L_is_autosearch=true&area=256&currency_code=RUR&only_with_salary=true&items_on_page=100&clusters=true&enable_snippets=true&text=продавец&page=12\n",
      "Статус: 200\n",
      "https://hh.ru/search/vacancy?L_is_autosearch=true&area=256&currency_code=RUR&only_with_salary=true&items_on_page=100&clusters=true&enable_snippets=true&text=продавец&page=13\n",
      "Статус: 200\n",
      "https://hh.ru/search/vacancy?L_is_autosearch=true&area=256&currency_code=RUR&only_with_salary=true&items_on_page=100&clusters=true&enable_snippets=true&text=продавец&page=14\n",
      "Статус: 200\n",
      "https://hh.ru/search/vacancy?L_is_autosearch=true&area=256&currency_code=RUR&only_with_salary=true&items_on_page=100&clusters=true&enable_snippets=true&text=продавец&page=15\n",
      "Статус: 200\n",
      "https://hh.ru/search/vacancy?L_is_autosearch=true&area=256&currency_code=RUR&only_with_salary=true&items_on_page=100&clusters=true&enable_snippets=true&text=продавец&page=16\n",
      "Статус: 200\n",
      "https://hh.ru/search/vacancy?L_is_autosearch=true&area=256&currency_code=RUR&only_with_salary=true&items_on_page=100&clusters=true&enable_snippets=true&text=продавец&page=17\n",
      "Статус: 200\n",
      "https://hh.ru/search/vacancy?L_is_autosearch=true&area=256&currency_code=RUR&only_with_salary=true&items_on_page=100&clusters=true&enable_snippets=true&text=продавец&page=18\n",
      "Статус: 200\n",
      "https://hh.ru/search/vacancy?L_is_autosearch=true&area=256&currency_code=RUR&only_with_salary=true&items_on_page=100&clusters=true&enable_snippets=true&text=продавец&page=19\n",
      "Статус: 200\n"
     ]
    },
    {
     "name": "stderr",
     "output_type": "stream",
     "text": [
      "\n",
      "\n",
      "\n",
      " 85%|████████████████████████████████████████████████████████████████████▊            | 85/100 [07:13<04:39, 18.67s/it]"
     ]
    },
    {
     "name": "stdout",
     "output_type": "stream",
     "text": [
      "https://hh.ru/search/vacancy?L_is_autosearch=true&area=257&currency_code=RUR&only_with_salary=true&items_on_page=100&clusters=true&enable_snippets=true&text=продавец&page=0\n",
      "Статус: 200\n",
      "https://hh.ru/search/vacancy?L_is_autosearch=true&area=257&currency_code=RUR&only_with_salary=true&items_on_page=100&clusters=true&enable_snippets=true&text=продавец&page=1\n",
      "Статус: 200\n",
      "https://hh.ru/search/vacancy?L_is_autosearch=true&area=257&currency_code=RUR&only_with_salary=true&items_on_page=100&clusters=true&enable_snippets=true&text=продавец&page=2\n",
      "Статус: 200\n",
      "https://hh.ru/search/vacancy?L_is_autosearch=true&area=257&currency_code=RUR&only_with_salary=true&items_on_page=100&clusters=true&enable_snippets=true&text=продавец&page=3\n",
      "Статус: 200\n",
      "https://hh.ru/search/vacancy?L_is_autosearch=true&area=257&currency_code=RUR&only_with_salary=true&items_on_page=100&clusters=true&enable_snippets=true&text=продавец&page=4\n",
      "Статус: 200\n",
      "https://hh.ru/search/vacancy?L_is_autosearch=true&area=257&currency_code=RUR&only_with_salary=true&items_on_page=100&clusters=true&enable_snippets=true&text=продавец&page=5\n",
      "Статус: 200\n",
      "https://hh.ru/search/vacancy?L_is_autosearch=true&area=257&currency_code=RUR&only_with_salary=true&items_on_page=100&clusters=true&enable_snippets=true&text=продавец&page=6\n",
      "Статус: 200\n",
      "https://hh.ru/search/vacancy?L_is_autosearch=true&area=257&currency_code=RUR&only_with_salary=true&items_on_page=100&clusters=true&enable_snippets=true&text=продавец&page=7\n",
      "Статус: 200\n",
      "https://hh.ru/search/vacancy?L_is_autosearch=true&area=257&currency_code=RUR&only_with_salary=true&items_on_page=100&clusters=true&enable_snippets=true&text=продавец&page=8\n",
      "Статус: 200\n",
      "https://hh.ru/search/vacancy?L_is_autosearch=true&area=257&currency_code=RUR&only_with_salary=true&items_on_page=100&clusters=true&enable_snippets=true&text=продавец&page=9\n",
      "Статус: 200\n",
      "https://hh.ru/search/vacancy?L_is_autosearch=true&area=257&currency_code=RUR&only_with_salary=true&items_on_page=100&clusters=true&enable_snippets=true&text=продавец&page=10\n",
      "Статус: 200\n",
      "https://hh.ru/search/vacancy?L_is_autosearch=true&area=257&currency_code=RUR&only_with_salary=true&items_on_page=100&clusters=true&enable_snippets=true&text=продавец&page=11\n",
      "Статус: 200\n",
      "https://hh.ru/search/vacancy?L_is_autosearch=true&area=257&currency_code=RUR&only_with_salary=true&items_on_page=100&clusters=true&enable_snippets=true&text=продавец&page=12\n",
      "Статус: 200\n",
      "https://hh.ru/search/vacancy?L_is_autosearch=true&area=257&currency_code=RUR&only_with_salary=true&items_on_page=100&clusters=true&enable_snippets=true&text=продавец&page=13\n",
      "Статус: 200\n",
      "https://hh.ru/search/vacancy?L_is_autosearch=true&area=257&currency_code=RUR&only_with_salary=true&items_on_page=100&clusters=true&enable_snippets=true&text=продавец&page=14\n",
      "Статус: 200\n",
      "https://hh.ru/search/vacancy?L_is_autosearch=true&area=257&currency_code=RUR&only_with_salary=true&items_on_page=100&clusters=true&enable_snippets=true&text=продавец&page=15\n",
      "Статус: 200\n",
      "https://hh.ru/search/vacancy?L_is_autosearch=true&area=257&currency_code=RUR&only_with_salary=true&items_on_page=100&clusters=true&enable_snippets=true&text=продавец&page=16\n",
      "Статус: 200\n",
      "https://hh.ru/search/vacancy?L_is_autosearch=true&area=257&currency_code=RUR&only_with_salary=true&items_on_page=100&clusters=true&enable_snippets=true&text=продавец&page=17\n",
      "Статус: 200\n",
      "https://hh.ru/search/vacancy?L_is_autosearch=true&area=257&currency_code=RUR&only_with_salary=true&items_on_page=100&clusters=true&enable_snippets=true&text=продавец&page=18\n",
      "Статус: 200\n",
      "https://hh.ru/search/vacancy?L_is_autosearch=true&area=257&currency_code=RUR&only_with_salary=true&items_on_page=100&clusters=true&enable_snippets=true&text=продавец&page=19\n",
      "Статус: 200\n"
     ]
    },
    {
     "name": "stderr",
     "output_type": "stream",
     "text": [
      "\n",
      "\n",
      "\n",
      " 86%|█████████████████████████████████████████████████████████████████████▋           | 86/100 [07:36<04:39, 19.93s/it]"
     ]
    },
    {
     "name": "stdout",
     "output_type": "stream",
     "text": [
      "https://hh.ru/search/vacancy?L_is_autosearch=true&area=258&currency_code=RUR&only_with_salary=true&items_on_page=100&clusters=true&enable_snippets=true&text=продавец&page=0\n",
      "Статус: 200\n",
      "https://hh.ru/search/vacancy?L_is_autosearch=true&area=258&currency_code=RUR&only_with_salary=true&items_on_page=100&clusters=true&enable_snippets=true&text=продавец&page=1\n",
      "Статус: 200\n",
      "https://hh.ru/search/vacancy?L_is_autosearch=true&area=258&currency_code=RUR&only_with_salary=true&items_on_page=100&clusters=true&enable_snippets=true&text=продавец&page=2\n",
      "Статус: 200\n",
      "https://hh.ru/search/vacancy?L_is_autosearch=true&area=258&currency_code=RUR&only_with_salary=true&items_on_page=100&clusters=true&enable_snippets=true&text=продавец&page=3\n",
      "Статус: 200\n",
      "https://hh.ru/search/vacancy?L_is_autosearch=true&area=258&currency_code=RUR&only_with_salary=true&items_on_page=100&clusters=true&enable_snippets=true&text=продавец&page=4\n",
      "Статус: 200\n",
      "https://hh.ru/search/vacancy?L_is_autosearch=true&area=258&currency_code=RUR&only_with_salary=true&items_on_page=100&clusters=true&enable_snippets=true&text=продавец&page=5\n",
      "Статус: 200\n",
      "https://hh.ru/search/vacancy?L_is_autosearch=true&area=258&currency_code=RUR&only_with_salary=true&items_on_page=100&clusters=true&enable_snippets=true&text=продавец&page=6\n",
      "Статус: 200\n",
      "https://hh.ru/search/vacancy?L_is_autosearch=true&area=258&currency_code=RUR&only_with_salary=true&items_on_page=100&clusters=true&enable_snippets=true&text=продавец&page=7\n",
      "Статус: 200\n",
      "https://hh.ru/search/vacancy?L_is_autosearch=true&area=258&currency_code=RUR&only_with_salary=true&items_on_page=100&clusters=true&enable_snippets=true&text=продавец&page=8\n",
      "Статус: 200\n",
      "https://hh.ru/search/vacancy?L_is_autosearch=true&area=258&currency_code=RUR&only_with_salary=true&items_on_page=100&clusters=true&enable_snippets=true&text=продавец&page=9\n",
      "Статус: 200\n",
      "https://hh.ru/search/vacancy?L_is_autosearch=true&area=258&currency_code=RUR&only_with_salary=true&items_on_page=100&clusters=true&enable_snippets=true&text=продавец&page=10\n",
      "Статус: 200\n",
      "https://hh.ru/search/vacancy?L_is_autosearch=true&area=258&currency_code=RUR&only_with_salary=true&items_on_page=100&clusters=true&enable_snippets=true&text=продавец&page=11\n",
      "Статус: 200\n",
      "https://hh.ru/search/vacancy?L_is_autosearch=true&area=258&currency_code=RUR&only_with_salary=true&items_on_page=100&clusters=true&enable_snippets=true&text=продавец&page=12\n",
      "Статус: 200\n",
      "https://hh.ru/search/vacancy?L_is_autosearch=true&area=258&currency_code=RUR&only_with_salary=true&items_on_page=100&clusters=true&enable_snippets=true&text=продавец&page=13\n",
      "Статус: 200\n",
      "https://hh.ru/search/vacancy?L_is_autosearch=true&area=258&currency_code=RUR&only_with_salary=true&items_on_page=100&clusters=true&enable_snippets=true&text=продавец&page=14\n",
      "Статус: 200\n",
      "https://hh.ru/search/vacancy?L_is_autosearch=true&area=258&currency_code=RUR&only_with_salary=true&items_on_page=100&clusters=true&enable_snippets=true&text=продавец&page=15\n",
      "Статус: 200\n",
      "https://hh.ru/search/vacancy?L_is_autosearch=true&area=258&currency_code=RUR&only_with_salary=true&items_on_page=100&clusters=true&enable_snippets=true&text=продавец&page=16\n",
      "Статус: 200\n",
      "https://hh.ru/search/vacancy?L_is_autosearch=true&area=258&currency_code=RUR&only_with_salary=true&items_on_page=100&clusters=true&enable_snippets=true&text=продавец&page=17\n",
      "Статус: 200\n",
      "https://hh.ru/search/vacancy?L_is_autosearch=true&area=258&currency_code=RUR&only_with_salary=true&items_on_page=100&clusters=true&enable_snippets=true&text=продавец&page=18\n",
      "Статус: 200\n",
      "https://hh.ru/search/vacancy?L_is_autosearch=true&area=258&currency_code=RUR&only_with_salary=true&items_on_page=100&clusters=true&enable_snippets=true&text=продавец&page=19\n",
      "Статус: 200\n"
     ]
    },
    {
     "name": "stderr",
     "output_type": "stream",
     "text": [
      "\n",
      "\n",
      "\n",
      " 87%|██████████████████████████████████████████████████████████████████████▍          | 87/100 [08:01<04:37, 21.31s/it]"
     ]
    },
    {
     "name": "stdout",
     "output_type": "stream",
     "text": [
      "https://hh.ru/search/vacancy?L_is_autosearch=true&area=260&currency_code=RUR&only_with_salary=true&items_on_page=100&clusters=true&enable_snippets=true&text=продавец&page=0\n",
      "Статус: 200\n",
      "https://hh.ru/search/vacancy?L_is_autosearch=true&area=260&currency_code=RUR&only_with_salary=true&items_on_page=100&clusters=true&enable_snippets=true&text=продавец&page=1\n",
      "Статус: 200\n",
      "https://hh.ru/search/vacancy?L_is_autosearch=true&area=260&currency_code=RUR&only_with_salary=true&items_on_page=100&clusters=true&enable_snippets=true&text=продавец&page=2\n",
      "Статус: 200\n",
      "https://hh.ru/search/vacancy?L_is_autosearch=true&area=260&currency_code=RUR&only_with_salary=true&items_on_page=100&clusters=true&enable_snippets=true&text=продавец&page=3\n",
      "Статус: 200\n",
      "https://hh.ru/search/vacancy?L_is_autosearch=true&area=260&currency_code=RUR&only_with_salary=true&items_on_page=100&clusters=true&enable_snippets=true&text=продавец&page=4\n",
      "Статус: 200\n",
      "https://hh.ru/search/vacancy?L_is_autosearch=true&area=260&currency_code=RUR&only_with_salary=true&items_on_page=100&clusters=true&enable_snippets=true&text=продавец&page=5\n",
      "Статус: 200\n",
      "https://hh.ru/search/vacancy?L_is_autosearch=true&area=260&currency_code=RUR&only_with_salary=true&items_on_page=100&clusters=true&enable_snippets=true&text=продавец&page=6\n",
      "Статус: 200\n",
      "https://hh.ru/search/vacancy?L_is_autosearch=true&area=260&currency_code=RUR&only_with_salary=true&items_on_page=100&clusters=true&enable_snippets=true&text=продавец&page=7\n",
      "Статус: 200\n",
      "https://hh.ru/search/vacancy?L_is_autosearch=true&area=260&currency_code=RUR&only_with_salary=true&items_on_page=100&clusters=true&enable_snippets=true&text=продавец&page=8\n",
      "Статус: 200\n",
      "https://hh.ru/search/vacancy?L_is_autosearch=true&area=260&currency_code=RUR&only_with_salary=true&items_on_page=100&clusters=true&enable_snippets=true&text=продавец&page=9\n",
      "Статус: 200\n",
      "https://hh.ru/search/vacancy?L_is_autosearch=true&area=260&currency_code=RUR&only_with_salary=true&items_on_page=100&clusters=true&enable_snippets=true&text=продавец&page=10\n",
      "Статус: 200\n",
      "https://hh.ru/search/vacancy?L_is_autosearch=true&area=260&currency_code=RUR&only_with_salary=true&items_on_page=100&clusters=true&enable_snippets=true&text=продавец&page=11\n",
      "Статус: 200\n",
      "https://hh.ru/search/vacancy?L_is_autosearch=true&area=260&currency_code=RUR&only_with_salary=true&items_on_page=100&clusters=true&enable_snippets=true&text=продавец&page=12\n",
      "Статус: 200\n",
      "https://hh.ru/search/vacancy?L_is_autosearch=true&area=260&currency_code=RUR&only_with_salary=true&items_on_page=100&clusters=true&enable_snippets=true&text=продавец&page=13\n",
      "Статус: 200\n",
      "https://hh.ru/search/vacancy?L_is_autosearch=true&area=260&currency_code=RUR&only_with_salary=true&items_on_page=100&clusters=true&enable_snippets=true&text=продавец&page=14\n",
      "Статус: 200\n",
      "https://hh.ru/search/vacancy?L_is_autosearch=true&area=260&currency_code=RUR&only_with_salary=true&items_on_page=100&clusters=true&enable_snippets=true&text=продавец&page=15\n",
      "Статус: 200\n",
      "https://hh.ru/search/vacancy?L_is_autosearch=true&area=260&currency_code=RUR&only_with_salary=true&items_on_page=100&clusters=true&enable_snippets=true&text=продавец&page=16\n",
      "Статус: 200\n",
      "https://hh.ru/search/vacancy?L_is_autosearch=true&area=260&currency_code=RUR&only_with_salary=true&items_on_page=100&clusters=true&enable_snippets=true&text=продавец&page=17\n",
      "Статус: 200\n",
      "https://hh.ru/search/vacancy?L_is_autosearch=true&area=260&currency_code=RUR&only_with_salary=true&items_on_page=100&clusters=true&enable_snippets=true&text=продавец&page=18\n",
      "Статус: 200\n",
      "https://hh.ru/search/vacancy?L_is_autosearch=true&area=260&currency_code=RUR&only_with_salary=true&items_on_page=100&clusters=true&enable_snippets=true&text=продавец&page=19\n",
      "Статус: 200\n"
     ]
    },
    {
     "name": "stderr",
     "output_type": "stream",
     "text": [
      "\n",
      "\n",
      "\n",
      " 88%|███████████████████████████████████████████████████████████████████████▎         | 88/100 [08:24<04:21, 21.80s/it]"
     ]
    },
    {
     "name": "stdout",
     "output_type": "stream",
     "text": [
      "https://hh.ru/search/vacancy?L_is_autosearch=true&area=262&currency_code=RUR&only_with_salary=true&items_on_page=100&clusters=true&enable_snippets=true&text=продавец&page=0\n",
      "Статус: 200\n",
      "https://hh.ru/search/vacancy?L_is_autosearch=true&area=262&currency_code=RUR&only_with_salary=true&items_on_page=100&clusters=true&enable_snippets=true&text=продавец&page=1\n",
      "Статус: 200\n",
      "https://hh.ru/search/vacancy?L_is_autosearch=true&area=262&currency_code=RUR&only_with_salary=true&items_on_page=100&clusters=true&enable_snippets=true&text=продавец&page=2\n",
      "Статус: 200\n",
      "https://hh.ru/search/vacancy?L_is_autosearch=true&area=262&currency_code=RUR&only_with_salary=true&items_on_page=100&clusters=true&enable_snippets=true&text=продавец&page=3\n",
      "Статус: 200\n",
      "https://hh.ru/search/vacancy?L_is_autosearch=true&area=262&currency_code=RUR&only_with_salary=true&items_on_page=100&clusters=true&enable_snippets=true&text=продавец&page=4\n",
      "Статус: 200\n",
      "https://hh.ru/search/vacancy?L_is_autosearch=true&area=262&currency_code=RUR&only_with_salary=true&items_on_page=100&clusters=true&enable_snippets=true&text=продавец&page=5\n",
      "Статус: 200\n",
      "https://hh.ru/search/vacancy?L_is_autosearch=true&area=262&currency_code=RUR&only_with_salary=true&items_on_page=100&clusters=true&enable_snippets=true&text=продавец&page=6\n",
      "Статус: 200\n",
      "https://hh.ru/search/vacancy?L_is_autosearch=true&area=262&currency_code=RUR&only_with_salary=true&items_on_page=100&clusters=true&enable_snippets=true&text=продавец&page=7\n",
      "Статус: 200\n",
      "https://hh.ru/search/vacancy?L_is_autosearch=true&area=262&currency_code=RUR&only_with_salary=true&items_on_page=100&clusters=true&enable_snippets=true&text=продавец&page=8\n",
      "Статус: 200\n",
      "https://hh.ru/search/vacancy?L_is_autosearch=true&area=262&currency_code=RUR&only_with_salary=true&items_on_page=100&clusters=true&enable_snippets=true&text=продавец&page=9\n",
      "Статус: 200\n",
      "https://hh.ru/search/vacancy?L_is_autosearch=true&area=262&currency_code=RUR&only_with_salary=true&items_on_page=100&clusters=true&enable_snippets=true&text=продавец&page=10\n",
      "Статус: 200\n",
      "https://hh.ru/search/vacancy?L_is_autosearch=true&area=262&currency_code=RUR&only_with_salary=true&items_on_page=100&clusters=true&enable_snippets=true&text=продавец&page=11\n",
      "Статус: 200\n",
      "https://hh.ru/search/vacancy?L_is_autosearch=true&area=262&currency_code=RUR&only_with_salary=true&items_on_page=100&clusters=true&enable_snippets=true&text=продавец&page=12\n",
      "Статус: 200\n",
      "https://hh.ru/search/vacancy?L_is_autosearch=true&area=262&currency_code=RUR&only_with_salary=true&items_on_page=100&clusters=true&enable_snippets=true&text=продавец&page=13\n",
      "Статус: 200\n",
      "https://hh.ru/search/vacancy?L_is_autosearch=true&area=262&currency_code=RUR&only_with_salary=true&items_on_page=100&clusters=true&enable_snippets=true&text=продавец&page=14\n",
      "Статус: 200\n",
      "https://hh.ru/search/vacancy?L_is_autosearch=true&area=262&currency_code=RUR&only_with_salary=true&items_on_page=100&clusters=true&enable_snippets=true&text=продавец&page=15\n",
      "Статус: 200\n",
      "https://hh.ru/search/vacancy?L_is_autosearch=true&area=262&currency_code=RUR&only_with_salary=true&items_on_page=100&clusters=true&enable_snippets=true&text=продавец&page=16\n",
      "Статус: 200\n",
      "https://hh.ru/search/vacancy?L_is_autosearch=true&area=262&currency_code=RUR&only_with_salary=true&items_on_page=100&clusters=true&enable_snippets=true&text=продавец&page=17\n",
      "Статус: 200\n",
      "https://hh.ru/search/vacancy?L_is_autosearch=true&area=262&currency_code=RUR&only_with_salary=true&items_on_page=100&clusters=true&enable_snippets=true&text=продавец&page=18\n",
      "Статус: 200\n",
      "https://hh.ru/search/vacancy?L_is_autosearch=true&area=262&currency_code=RUR&only_with_salary=true&items_on_page=100&clusters=true&enable_snippets=true&text=продавец&page=19\n",
      "Статус: 200\n"
     ]
    },
    {
     "name": "stderr",
     "output_type": "stream",
     "text": [
      "\n",
      "\n",
      "\n",
      " 89%|████████████████████████████████████████████████████████████████████████         | 89/100 [08:47<04:06, 22.38s/it]"
     ]
    },
    {
     "name": "stdout",
     "output_type": "stream",
     "text": [
      "https://hh.ru/search/vacancy?L_is_autosearch=true&area=264&currency_code=RUR&only_with_salary=true&items_on_page=100&clusters=true&enable_snippets=true&text=продавец&page=0\n",
      "Статус: 200\n",
      "https://hh.ru/search/vacancy?L_is_autosearch=true&area=264&currency_code=RUR&only_with_salary=true&items_on_page=100&clusters=true&enable_snippets=true&text=продавец&page=1\n",
      "Статус: 200\n",
      "https://hh.ru/search/vacancy?L_is_autosearch=true&area=264&currency_code=RUR&only_with_salary=true&items_on_page=100&clusters=true&enable_snippets=true&text=продавец&page=2\n",
      "Статус: 200\n",
      "https://hh.ru/search/vacancy?L_is_autosearch=true&area=264&currency_code=RUR&only_with_salary=true&items_on_page=100&clusters=true&enable_snippets=true&text=продавец&page=3\n",
      "Статус: 200\n",
      "https://hh.ru/search/vacancy?L_is_autosearch=true&area=264&currency_code=RUR&only_with_salary=true&items_on_page=100&clusters=true&enable_snippets=true&text=продавец&page=4\n",
      "Статус: 200\n",
      "https://hh.ru/search/vacancy?L_is_autosearch=true&area=264&currency_code=RUR&only_with_salary=true&items_on_page=100&clusters=true&enable_snippets=true&text=продавец&page=5\n",
      "Статус: 200\n",
      "https://hh.ru/search/vacancy?L_is_autosearch=true&area=264&currency_code=RUR&only_with_salary=true&items_on_page=100&clusters=true&enable_snippets=true&text=продавец&page=6\n",
      "Статус: 200\n",
      "https://hh.ru/search/vacancy?L_is_autosearch=true&area=264&currency_code=RUR&only_with_salary=true&items_on_page=100&clusters=true&enable_snippets=true&text=продавец&page=7\n",
      "Статус: 200\n",
      "https://hh.ru/search/vacancy?L_is_autosearch=true&area=264&currency_code=RUR&only_with_salary=true&items_on_page=100&clusters=true&enable_snippets=true&text=продавец&page=8\n",
      "Статус: 200\n",
      "https://hh.ru/search/vacancy?L_is_autosearch=true&area=264&currency_code=RUR&only_with_salary=true&items_on_page=100&clusters=true&enable_snippets=true&text=продавец&page=9\n",
      "Статус: 200\n",
      "https://hh.ru/search/vacancy?L_is_autosearch=true&area=264&currency_code=RUR&only_with_salary=true&items_on_page=100&clusters=true&enable_snippets=true&text=продавец&page=10\n",
      "Статус: 200\n",
      "https://hh.ru/search/vacancy?L_is_autosearch=true&area=264&currency_code=RUR&only_with_salary=true&items_on_page=100&clusters=true&enable_snippets=true&text=продавец&page=11\n",
      "Статус: 200\n",
      "https://hh.ru/search/vacancy?L_is_autosearch=true&area=264&currency_code=RUR&only_with_salary=true&items_on_page=100&clusters=true&enable_snippets=true&text=продавец&page=12\n",
      "Статус: 200\n",
      "https://hh.ru/search/vacancy?L_is_autosearch=true&area=264&currency_code=RUR&only_with_salary=true&items_on_page=100&clusters=true&enable_snippets=true&text=продавец&page=13\n",
      "Статус: 200\n",
      "https://hh.ru/search/vacancy?L_is_autosearch=true&area=264&currency_code=RUR&only_with_salary=true&items_on_page=100&clusters=true&enable_snippets=true&text=продавец&page=14\n",
      "Статус: 200\n",
      "https://hh.ru/search/vacancy?L_is_autosearch=true&area=264&currency_code=RUR&only_with_salary=true&items_on_page=100&clusters=true&enable_snippets=true&text=продавец&page=15\n",
      "Статус: 200\n",
      "https://hh.ru/search/vacancy?L_is_autosearch=true&area=264&currency_code=RUR&only_with_salary=true&items_on_page=100&clusters=true&enable_snippets=true&text=продавец&page=16\n",
      "Статус: 200\n",
      "https://hh.ru/search/vacancy?L_is_autosearch=true&area=264&currency_code=RUR&only_with_salary=true&items_on_page=100&clusters=true&enable_snippets=true&text=продавец&page=17\n",
      "Статус: 200\n",
      "https://hh.ru/search/vacancy?L_is_autosearch=true&area=264&currency_code=RUR&only_with_salary=true&items_on_page=100&clusters=true&enable_snippets=true&text=продавец&page=18\n",
      "Статус: 200\n",
      "https://hh.ru/search/vacancy?L_is_autosearch=true&area=264&currency_code=RUR&only_with_salary=true&items_on_page=100&clusters=true&enable_snippets=true&text=продавец&page=19\n",
      "Статус: 200\n"
     ]
    },
    {
     "name": "stderr",
     "output_type": "stream",
     "text": [
      "\n",
      "\n",
      "\n",
      " 90%|████████████████████████████████████████████████████████████████████████▉        | 90/100 [09:10<03:44, 22.48s/it]"
     ]
    },
    {
     "name": "stdout",
     "output_type": "stream",
     "text": [
      "https://hh.ru/search/vacancy?L_is_autosearch=true&area=265&currency_code=RUR&only_with_salary=true&items_on_page=100&clusters=true&enable_snippets=true&text=продавец&page=0\n",
      "Статус: 200\n",
      "https://hh.ru/search/vacancy?L_is_autosearch=true&area=265&currency_code=RUR&only_with_salary=true&items_on_page=100&clusters=true&enable_snippets=true&text=продавец&page=1\n",
      "Статус: 200\n",
      "https://hh.ru/search/vacancy?L_is_autosearch=true&area=265&currency_code=RUR&only_with_salary=true&items_on_page=100&clusters=true&enable_snippets=true&text=продавец&page=2\n",
      "Статус: 200\n",
      "https://hh.ru/search/vacancy?L_is_autosearch=true&area=265&currency_code=RUR&only_with_salary=true&items_on_page=100&clusters=true&enable_snippets=true&text=продавец&page=3\n",
      "Статус: 200\n",
      "https://hh.ru/search/vacancy?L_is_autosearch=true&area=265&currency_code=RUR&only_with_salary=true&items_on_page=100&clusters=true&enable_snippets=true&text=продавец&page=4\n",
      "Статус: 200\n",
      "https://hh.ru/search/vacancy?L_is_autosearch=true&area=265&currency_code=RUR&only_with_salary=true&items_on_page=100&clusters=true&enable_snippets=true&text=продавец&page=5\n",
      "Статус: 200\n",
      "https://hh.ru/search/vacancy?L_is_autosearch=true&area=265&currency_code=RUR&only_with_salary=true&items_on_page=100&clusters=true&enable_snippets=true&text=продавец&page=6\n",
      "Статус: 200\n",
      "https://hh.ru/search/vacancy?L_is_autosearch=true&area=265&currency_code=RUR&only_with_salary=true&items_on_page=100&clusters=true&enable_snippets=true&text=продавец&page=7\n",
      "Статус: 200\n",
      "https://hh.ru/search/vacancy?L_is_autosearch=true&area=265&currency_code=RUR&only_with_salary=true&items_on_page=100&clusters=true&enable_snippets=true&text=продавец&page=8\n",
      "Статус: 200\n",
      "https://hh.ru/search/vacancy?L_is_autosearch=true&area=265&currency_code=RUR&only_with_salary=true&items_on_page=100&clusters=true&enable_snippets=true&text=продавец&page=9\n",
      "Статус: 200\n",
      "https://hh.ru/search/vacancy?L_is_autosearch=true&area=265&currency_code=RUR&only_with_salary=true&items_on_page=100&clusters=true&enable_snippets=true&text=продавец&page=10\n",
      "Статус: 200\n",
      "https://hh.ru/search/vacancy?L_is_autosearch=true&area=265&currency_code=RUR&only_with_salary=true&items_on_page=100&clusters=true&enable_snippets=true&text=продавец&page=11\n",
      "Статус: 200\n",
      "https://hh.ru/search/vacancy?L_is_autosearch=true&area=265&currency_code=RUR&only_with_salary=true&items_on_page=100&clusters=true&enable_snippets=true&text=продавец&page=12\n",
      "Статус: 200\n",
      "https://hh.ru/search/vacancy?L_is_autosearch=true&area=265&currency_code=RUR&only_with_salary=true&items_on_page=100&clusters=true&enable_snippets=true&text=продавец&page=13\n",
      "Статус: 200\n",
      "https://hh.ru/search/vacancy?L_is_autosearch=true&area=265&currency_code=RUR&only_with_salary=true&items_on_page=100&clusters=true&enable_snippets=true&text=продавец&page=14\n",
      "Статус: 200\n",
      "https://hh.ru/search/vacancy?L_is_autosearch=true&area=265&currency_code=RUR&only_with_salary=true&items_on_page=100&clusters=true&enable_snippets=true&text=продавец&page=15\n",
      "Статус: 200\n",
      "https://hh.ru/search/vacancy?L_is_autosearch=true&area=265&currency_code=RUR&only_with_salary=true&items_on_page=100&clusters=true&enable_snippets=true&text=продавец&page=16\n",
      "Статус: 200\n",
      "https://hh.ru/search/vacancy?L_is_autosearch=true&area=265&currency_code=RUR&only_with_salary=true&items_on_page=100&clusters=true&enable_snippets=true&text=продавец&page=17\n",
      "Статус: 200\n",
      "https://hh.ru/search/vacancy?L_is_autosearch=true&area=265&currency_code=RUR&only_with_salary=true&items_on_page=100&clusters=true&enable_snippets=true&text=продавец&page=18\n",
      "Статус: 200\n",
      "https://hh.ru/search/vacancy?L_is_autosearch=true&area=265&currency_code=RUR&only_with_salary=true&items_on_page=100&clusters=true&enable_snippets=true&text=продавец&page=19\n",
      "Статус: 200\n"
     ]
    },
    {
     "name": "stderr",
     "output_type": "stream",
     "text": [
      "\n",
      "\n",
      "\n",
      " 91%|█████████████████████████████████████████████████████████████████████████▋       | 91/100 [09:34<03:26, 22.90s/it]"
     ]
    },
    {
     "name": "stdout",
     "output_type": "stream",
     "text": [
      "https://hh.ru/search/vacancy?L_is_autosearch=true&area=266&currency_code=RUR&only_with_salary=true&items_on_page=100&clusters=true&enable_snippets=true&text=продавец&page=0\n",
      "Статус: 200\n",
      "https://hh.ru/search/vacancy?L_is_autosearch=true&area=266&currency_code=RUR&only_with_salary=true&items_on_page=100&clusters=true&enable_snippets=true&text=продавец&page=1\n",
      "Статус: 200\n",
      "https://hh.ru/search/vacancy?L_is_autosearch=true&area=266&currency_code=RUR&only_with_salary=true&items_on_page=100&clusters=true&enable_snippets=true&text=продавец&page=2\n",
      "Статус: 200\n",
      "https://hh.ru/search/vacancy?L_is_autosearch=true&area=266&currency_code=RUR&only_with_salary=true&items_on_page=100&clusters=true&enable_snippets=true&text=продавец&page=3\n",
      "Статус: 200\n",
      "https://hh.ru/search/vacancy?L_is_autosearch=true&area=266&currency_code=RUR&only_with_salary=true&items_on_page=100&clusters=true&enable_snippets=true&text=продавец&page=4\n",
      "Статус: 200\n",
      "https://hh.ru/search/vacancy?L_is_autosearch=true&area=266&currency_code=RUR&only_with_salary=true&items_on_page=100&clusters=true&enable_snippets=true&text=продавец&page=5\n",
      "Статус: 200\n",
      "https://hh.ru/search/vacancy?L_is_autosearch=true&area=266&currency_code=RUR&only_with_salary=true&items_on_page=100&clusters=true&enable_snippets=true&text=продавец&page=6\n",
      "Статус: 200\n",
      "https://hh.ru/search/vacancy?L_is_autosearch=true&area=266&currency_code=RUR&only_with_salary=true&items_on_page=100&clusters=true&enable_snippets=true&text=продавец&page=7\n",
      "Статус: 200\n",
      "https://hh.ru/search/vacancy?L_is_autosearch=true&area=266&currency_code=RUR&only_with_salary=true&items_on_page=100&clusters=true&enable_snippets=true&text=продавец&page=8\n",
      "Статус: 200\n",
      "https://hh.ru/search/vacancy?L_is_autosearch=true&area=266&currency_code=RUR&only_with_salary=true&items_on_page=100&clusters=true&enable_snippets=true&text=продавец&page=9\n",
      "Статус: 200\n",
      "https://hh.ru/search/vacancy?L_is_autosearch=true&area=266&currency_code=RUR&only_with_salary=true&items_on_page=100&clusters=true&enable_snippets=true&text=продавец&page=10\n",
      "Статус: 200\n",
      "https://hh.ru/search/vacancy?L_is_autosearch=true&area=266&currency_code=RUR&only_with_salary=true&items_on_page=100&clusters=true&enable_snippets=true&text=продавец&page=11\n",
      "Статус: 200\n",
      "https://hh.ru/search/vacancy?L_is_autosearch=true&area=266&currency_code=RUR&only_with_salary=true&items_on_page=100&clusters=true&enable_snippets=true&text=продавец&page=12\n",
      "Статус: 200\n",
      "https://hh.ru/search/vacancy?L_is_autosearch=true&area=266&currency_code=RUR&only_with_salary=true&items_on_page=100&clusters=true&enable_snippets=true&text=продавец&page=13\n",
      "Статус: 200\n",
      "https://hh.ru/search/vacancy?L_is_autosearch=true&area=266&currency_code=RUR&only_with_salary=true&items_on_page=100&clusters=true&enable_snippets=true&text=продавец&page=14\n",
      "Статус: 200\n",
      "https://hh.ru/search/vacancy?L_is_autosearch=true&area=266&currency_code=RUR&only_with_salary=true&items_on_page=100&clusters=true&enable_snippets=true&text=продавец&page=15\n",
      "Статус: 200\n",
      "https://hh.ru/search/vacancy?L_is_autosearch=true&area=266&currency_code=RUR&only_with_salary=true&items_on_page=100&clusters=true&enable_snippets=true&text=продавец&page=16\n",
      "Статус: 200\n",
      "https://hh.ru/search/vacancy?L_is_autosearch=true&area=266&currency_code=RUR&only_with_salary=true&items_on_page=100&clusters=true&enable_snippets=true&text=продавец&page=17\n",
      "Статус: 200\n",
      "https://hh.ru/search/vacancy?L_is_autosearch=true&area=266&currency_code=RUR&only_with_salary=true&items_on_page=100&clusters=true&enable_snippets=true&text=продавец&page=18\n",
      "Статус: 200\n",
      "https://hh.ru/search/vacancy?L_is_autosearch=true&area=266&currency_code=RUR&only_with_salary=true&items_on_page=100&clusters=true&enable_snippets=true&text=продавец&page=19\n",
      "Статус: 200\n"
     ]
    },
    {
     "name": "stderr",
     "output_type": "stream",
     "text": [
      "\n",
      "\n",
      "\n",
      " 92%|██████████████████████████████████████████████████████████████████████████▌      | 92/100 [09:56<03:01, 22.74s/it]"
     ]
    },
    {
     "name": "stdout",
     "output_type": "stream",
     "text": [
      "https://hh.ru/search/vacancy?L_is_autosearch=true&area=267&currency_code=RUR&only_with_salary=true&items_on_page=100&clusters=true&enable_snippets=true&text=продавец&page=0\n",
      "Статус: 200\n",
      "https://hh.ru/search/vacancy?L_is_autosearch=true&area=267&currency_code=RUR&only_with_salary=true&items_on_page=100&clusters=true&enable_snippets=true&text=продавец&page=1\n",
      "Статус: 200\n",
      "https://hh.ru/search/vacancy?L_is_autosearch=true&area=267&currency_code=RUR&only_with_salary=true&items_on_page=100&clusters=true&enable_snippets=true&text=продавец&page=2\n",
      "Статус: 200\n",
      "https://hh.ru/search/vacancy?L_is_autosearch=true&area=267&currency_code=RUR&only_with_salary=true&items_on_page=100&clusters=true&enable_snippets=true&text=продавец&page=3\n",
      "Статус: 200\n",
      "https://hh.ru/search/vacancy?L_is_autosearch=true&area=267&currency_code=RUR&only_with_salary=true&items_on_page=100&clusters=true&enable_snippets=true&text=продавец&page=4\n",
      "Статус: 200\n",
      "https://hh.ru/search/vacancy?L_is_autosearch=true&area=267&currency_code=RUR&only_with_salary=true&items_on_page=100&clusters=true&enable_snippets=true&text=продавец&page=5\n",
      "Статус: 200\n",
      "https://hh.ru/search/vacancy?L_is_autosearch=true&area=267&currency_code=RUR&only_with_salary=true&items_on_page=100&clusters=true&enable_snippets=true&text=продавец&page=6\n",
      "Статус: 200\n",
      "https://hh.ru/search/vacancy?L_is_autosearch=true&area=267&currency_code=RUR&only_with_salary=true&items_on_page=100&clusters=true&enable_snippets=true&text=продавец&page=7\n",
      "Статус: 200\n",
      "https://hh.ru/search/vacancy?L_is_autosearch=true&area=267&currency_code=RUR&only_with_salary=true&items_on_page=100&clusters=true&enable_snippets=true&text=продавец&page=8\n",
      "Статус: 200\n",
      "https://hh.ru/search/vacancy?L_is_autosearch=true&area=267&currency_code=RUR&only_with_salary=true&items_on_page=100&clusters=true&enable_snippets=true&text=продавец&page=9\n",
      "Статус: 200\n",
      "https://hh.ru/search/vacancy?L_is_autosearch=true&area=267&currency_code=RUR&only_with_salary=true&items_on_page=100&clusters=true&enable_snippets=true&text=продавец&page=10\n",
      "Статус: 200\n",
      "https://hh.ru/search/vacancy?L_is_autosearch=true&area=267&currency_code=RUR&only_with_salary=true&items_on_page=100&clusters=true&enable_snippets=true&text=продавец&page=11\n",
      "Статус: 200\n",
      "https://hh.ru/search/vacancy?L_is_autosearch=true&area=267&currency_code=RUR&only_with_salary=true&items_on_page=100&clusters=true&enable_snippets=true&text=продавец&page=12\n",
      "Статус: 200\n",
      "https://hh.ru/search/vacancy?L_is_autosearch=true&area=267&currency_code=RUR&only_with_salary=true&items_on_page=100&clusters=true&enable_snippets=true&text=продавец&page=13\n",
      "Статус: 200\n",
      "https://hh.ru/search/vacancy?L_is_autosearch=true&area=267&currency_code=RUR&only_with_salary=true&items_on_page=100&clusters=true&enable_snippets=true&text=продавец&page=14\n",
      "Статус: 200\n",
      "https://hh.ru/search/vacancy?L_is_autosearch=true&area=267&currency_code=RUR&only_with_salary=true&items_on_page=100&clusters=true&enable_snippets=true&text=продавец&page=15\n",
      "Статус: 200\n",
      "https://hh.ru/search/vacancy?L_is_autosearch=true&area=267&currency_code=RUR&only_with_salary=true&items_on_page=100&clusters=true&enable_snippets=true&text=продавец&page=16\n",
      "Статус: 200\n",
      "https://hh.ru/search/vacancy?L_is_autosearch=true&area=267&currency_code=RUR&only_with_salary=true&items_on_page=100&clusters=true&enable_snippets=true&text=продавец&page=17\n",
      "Статус: 200\n",
      "https://hh.ru/search/vacancy?L_is_autosearch=true&area=267&currency_code=RUR&only_with_salary=true&items_on_page=100&clusters=true&enable_snippets=true&text=продавец&page=18\n",
      "Статус: 200\n",
      "https://hh.ru/search/vacancy?L_is_autosearch=true&area=267&currency_code=RUR&only_with_salary=true&items_on_page=100&clusters=true&enable_snippets=true&text=продавец&page=19\n",
      "Статус: 200\n"
     ]
    },
    {
     "name": "stderr",
     "output_type": "stream",
     "text": [
      "\n",
      "\n",
      "\n",
      " 93%|███████████████████████████████████████████████████████████████████████████▎     | 93/100 [10:19<02:39, 22.83s/it]"
     ]
    },
    {
     "name": "stdout",
     "output_type": "stream",
     "text": [
      "https://hh.ru/search/vacancy?L_is_autosearch=true&area=268&currency_code=RUR&only_with_salary=true&items_on_page=100&clusters=true&enable_snippets=true&text=продавец&page=0\n",
      "Статус: 200\n",
      "https://hh.ru/search/vacancy?L_is_autosearch=true&area=268&currency_code=RUR&only_with_salary=true&items_on_page=100&clusters=true&enable_snippets=true&text=продавец&page=1\n",
      "Статус: 200\n",
      "https://hh.ru/search/vacancy?L_is_autosearch=true&area=268&currency_code=RUR&only_with_salary=true&items_on_page=100&clusters=true&enable_snippets=true&text=продавец&page=2\n",
      "Статус: 200\n",
      "https://hh.ru/search/vacancy?L_is_autosearch=true&area=268&currency_code=RUR&only_with_salary=true&items_on_page=100&clusters=true&enable_snippets=true&text=продавец&page=3\n",
      "Статус: 200\n",
      "https://hh.ru/search/vacancy?L_is_autosearch=true&area=268&currency_code=RUR&only_with_salary=true&items_on_page=100&clusters=true&enable_snippets=true&text=продавец&page=4\n",
      "Статус: 200\n",
      "https://hh.ru/search/vacancy?L_is_autosearch=true&area=268&currency_code=RUR&only_with_salary=true&items_on_page=100&clusters=true&enable_snippets=true&text=продавец&page=5\n",
      "Статус: 200\n",
      "https://hh.ru/search/vacancy?L_is_autosearch=true&area=268&currency_code=RUR&only_with_salary=true&items_on_page=100&clusters=true&enable_snippets=true&text=продавец&page=6\n",
      "Статус: 200\n",
      "https://hh.ru/search/vacancy?L_is_autosearch=true&area=268&currency_code=RUR&only_with_salary=true&items_on_page=100&clusters=true&enable_snippets=true&text=продавец&page=7\n",
      "Статус: 200\n",
      "https://hh.ru/search/vacancy?L_is_autosearch=true&area=268&currency_code=RUR&only_with_salary=true&items_on_page=100&clusters=true&enable_snippets=true&text=продавец&page=8\n",
      "Статус: 200\n",
      "https://hh.ru/search/vacancy?L_is_autosearch=true&area=268&currency_code=RUR&only_with_salary=true&items_on_page=100&clusters=true&enable_snippets=true&text=продавец&page=9\n",
      "Статус: 200\n",
      "https://hh.ru/search/vacancy?L_is_autosearch=true&area=268&currency_code=RUR&only_with_salary=true&items_on_page=100&clusters=true&enable_snippets=true&text=продавец&page=10\n",
      "Статус: 200\n",
      "https://hh.ru/search/vacancy?L_is_autosearch=true&area=268&currency_code=RUR&only_with_salary=true&items_on_page=100&clusters=true&enable_snippets=true&text=продавец&page=11\n",
      "Статус: 200\n",
      "https://hh.ru/search/vacancy?L_is_autosearch=true&area=268&currency_code=RUR&only_with_salary=true&items_on_page=100&clusters=true&enable_snippets=true&text=продавец&page=12\n",
      "Статус: 200\n",
      "https://hh.ru/search/vacancy?L_is_autosearch=true&area=268&currency_code=RUR&only_with_salary=true&items_on_page=100&clusters=true&enable_snippets=true&text=продавец&page=13\n",
      "Статус: 200\n",
      "https://hh.ru/search/vacancy?L_is_autosearch=true&area=268&currency_code=RUR&only_with_salary=true&items_on_page=100&clusters=true&enable_snippets=true&text=продавец&page=14\n",
      "Статус: 200\n",
      "https://hh.ru/search/vacancy?L_is_autosearch=true&area=268&currency_code=RUR&only_with_salary=true&items_on_page=100&clusters=true&enable_snippets=true&text=продавец&page=15\n",
      "Статус: 200\n",
      "https://hh.ru/search/vacancy?L_is_autosearch=true&area=268&currency_code=RUR&only_with_salary=true&items_on_page=100&clusters=true&enable_snippets=true&text=продавец&page=16\n",
      "Статус: 200\n",
      "https://hh.ru/search/vacancy?L_is_autosearch=true&area=268&currency_code=RUR&only_with_salary=true&items_on_page=100&clusters=true&enable_snippets=true&text=продавец&page=17\n",
      "Статус: 200\n",
      "https://hh.ru/search/vacancy?L_is_autosearch=true&area=268&currency_code=RUR&only_with_salary=true&items_on_page=100&clusters=true&enable_snippets=true&text=продавец&page=18\n",
      "Статус: 200\n",
      "https://hh.ru/search/vacancy?L_is_autosearch=true&area=268&currency_code=RUR&only_with_salary=true&items_on_page=100&clusters=true&enable_snippets=true&text=продавец&page=19\n",
      "Статус: 200\n"
     ]
    },
    {
     "name": "stderr",
     "output_type": "stream",
     "text": [
      "\n",
      "\n",
      "\n",
      " 94%|████████████████████████████████████████████████████████████████████████████▏    | 94/100 [10:43<02:17, 22.97s/it]"
     ]
    },
    {
     "name": "stdout",
     "output_type": "stream",
     "text": [
      "https://hh.ru/search/vacancy?L_is_autosearch=true&area=270&currency_code=RUR&only_with_salary=true&items_on_page=100&clusters=true&enable_snippets=true&text=продавец&page=0\n",
      "Статус: 200\n",
      "https://hh.ru/search/vacancy?L_is_autosearch=true&area=270&currency_code=RUR&only_with_salary=true&items_on_page=100&clusters=true&enable_snippets=true&text=продавец&page=1\n",
      "Статус: 200\n",
      "https://hh.ru/search/vacancy?L_is_autosearch=true&area=270&currency_code=RUR&only_with_salary=true&items_on_page=100&clusters=true&enable_snippets=true&text=продавец&page=2\n",
      "Статус: 200\n",
      "https://hh.ru/search/vacancy?L_is_autosearch=true&area=270&currency_code=RUR&only_with_salary=true&items_on_page=100&clusters=true&enable_snippets=true&text=продавец&page=3\n",
      "Статус: 200\n",
      "https://hh.ru/search/vacancy?L_is_autosearch=true&area=270&currency_code=RUR&only_with_salary=true&items_on_page=100&clusters=true&enable_snippets=true&text=продавец&page=4\n",
      "Статус: 200\n",
      "https://hh.ru/search/vacancy?L_is_autosearch=true&area=270&currency_code=RUR&only_with_salary=true&items_on_page=100&clusters=true&enable_snippets=true&text=продавец&page=5\n",
      "Статус: 200\n",
      "https://hh.ru/search/vacancy?L_is_autosearch=true&area=270&currency_code=RUR&only_with_salary=true&items_on_page=100&clusters=true&enable_snippets=true&text=продавец&page=6\n",
      "Статус: 200\n",
      "https://hh.ru/search/vacancy?L_is_autosearch=true&area=270&currency_code=RUR&only_with_salary=true&items_on_page=100&clusters=true&enable_snippets=true&text=продавец&page=7\n",
      "Статус: 200\n",
      "https://hh.ru/search/vacancy?L_is_autosearch=true&area=270&currency_code=RUR&only_with_salary=true&items_on_page=100&clusters=true&enable_snippets=true&text=продавец&page=8\n",
      "Статус: 200\n",
      "https://hh.ru/search/vacancy?L_is_autosearch=true&area=270&currency_code=RUR&only_with_salary=true&items_on_page=100&clusters=true&enable_snippets=true&text=продавец&page=9\n",
      "Статус: 200\n",
      "https://hh.ru/search/vacancy?L_is_autosearch=true&area=270&currency_code=RUR&only_with_salary=true&items_on_page=100&clusters=true&enable_snippets=true&text=продавец&page=10\n",
      "Статус: 200\n",
      "https://hh.ru/search/vacancy?L_is_autosearch=true&area=270&currency_code=RUR&only_with_salary=true&items_on_page=100&clusters=true&enable_snippets=true&text=продавец&page=11\n",
      "Статус: 200\n",
      "https://hh.ru/search/vacancy?L_is_autosearch=true&area=270&currency_code=RUR&only_with_salary=true&items_on_page=100&clusters=true&enable_snippets=true&text=продавец&page=12\n",
      "Статус: 200\n",
      "https://hh.ru/search/vacancy?L_is_autosearch=true&area=270&currency_code=RUR&only_with_salary=true&items_on_page=100&clusters=true&enable_snippets=true&text=продавец&page=13\n",
      "Статус: 200\n",
      "https://hh.ru/search/vacancy?L_is_autosearch=true&area=270&currency_code=RUR&only_with_salary=true&items_on_page=100&clusters=true&enable_snippets=true&text=продавец&page=14\n",
      "Статус: 200\n",
      "https://hh.ru/search/vacancy?L_is_autosearch=true&area=270&currency_code=RUR&only_with_salary=true&items_on_page=100&clusters=true&enable_snippets=true&text=продавец&page=15\n",
      "Статус: 200\n",
      "https://hh.ru/search/vacancy?L_is_autosearch=true&area=270&currency_code=RUR&only_with_salary=true&items_on_page=100&clusters=true&enable_snippets=true&text=продавец&page=16\n",
      "Статус: 200\n",
      "https://hh.ru/search/vacancy?L_is_autosearch=true&area=270&currency_code=RUR&only_with_salary=true&items_on_page=100&clusters=true&enable_snippets=true&text=продавец&page=17\n",
      "Статус: 200\n",
      "https://hh.ru/search/vacancy?L_is_autosearch=true&area=270&currency_code=RUR&only_with_salary=true&items_on_page=100&clusters=true&enable_snippets=true&text=продавец&page=18\n",
      "Статус: 200\n",
      "https://hh.ru/search/vacancy?L_is_autosearch=true&area=270&currency_code=RUR&only_with_salary=true&items_on_page=100&clusters=true&enable_snippets=true&text=продавец&page=19\n",
      "Статус: 200\n"
     ]
    },
    {
     "name": "stderr",
     "output_type": "stream",
     "text": [
      "\n",
      "\n",
      "\n",
      " 95%|████████████████████████████████████████████████████████████████████████████▉    | 95/100 [11:05<01:53, 22.76s/it]"
     ]
    },
    {
     "name": "stdout",
     "output_type": "stream",
     "text": [
      "https://hh.ru/search/vacancy?L_is_autosearch=true&area=271&currency_code=RUR&only_with_salary=true&items_on_page=100&clusters=true&enable_snippets=true&text=продавец&page=0\n",
      "Статус: 200\n",
      "https://hh.ru/search/vacancy?L_is_autosearch=true&area=271&currency_code=RUR&only_with_salary=true&items_on_page=100&clusters=true&enable_snippets=true&text=продавец&page=1\n",
      "Статус: 200\n",
      "https://hh.ru/search/vacancy?L_is_autosearch=true&area=271&currency_code=RUR&only_with_salary=true&items_on_page=100&clusters=true&enable_snippets=true&text=продавец&page=2\n",
      "Статус: 200\n",
      "https://hh.ru/search/vacancy?L_is_autosearch=true&area=271&currency_code=RUR&only_with_salary=true&items_on_page=100&clusters=true&enable_snippets=true&text=продавец&page=3\n",
      "Статус: 200\n",
      "https://hh.ru/search/vacancy?L_is_autosearch=true&area=271&currency_code=RUR&only_with_salary=true&items_on_page=100&clusters=true&enable_snippets=true&text=продавец&page=4\n",
      "Статус: 200\n",
      "https://hh.ru/search/vacancy?L_is_autosearch=true&area=271&currency_code=RUR&only_with_salary=true&items_on_page=100&clusters=true&enable_snippets=true&text=продавец&page=5\n",
      "Статус: 200\n",
      "https://hh.ru/search/vacancy?L_is_autosearch=true&area=271&currency_code=RUR&only_with_salary=true&items_on_page=100&clusters=true&enable_snippets=true&text=продавец&page=6\n",
      "Статус: 200\n",
      "https://hh.ru/search/vacancy?L_is_autosearch=true&area=271&currency_code=RUR&only_with_salary=true&items_on_page=100&clusters=true&enable_snippets=true&text=продавец&page=7\n",
      "Статус: 200\n",
      "https://hh.ru/search/vacancy?L_is_autosearch=true&area=271&currency_code=RUR&only_with_salary=true&items_on_page=100&clusters=true&enable_snippets=true&text=продавец&page=8\n",
      "Статус: 200\n",
      "https://hh.ru/search/vacancy?L_is_autosearch=true&area=271&currency_code=RUR&only_with_salary=true&items_on_page=100&clusters=true&enable_snippets=true&text=продавец&page=9\n",
      "Статус: 200\n",
      "https://hh.ru/search/vacancy?L_is_autosearch=true&area=271&currency_code=RUR&only_with_salary=true&items_on_page=100&clusters=true&enable_snippets=true&text=продавец&page=10\n",
      "Статус: 200\n",
      "https://hh.ru/search/vacancy?L_is_autosearch=true&area=271&currency_code=RUR&only_with_salary=true&items_on_page=100&clusters=true&enable_snippets=true&text=продавец&page=11\n",
      "Статус: 200\n",
      "https://hh.ru/search/vacancy?L_is_autosearch=true&area=271&currency_code=RUR&only_with_salary=true&items_on_page=100&clusters=true&enable_snippets=true&text=продавец&page=12\n",
      "Статус: 200\n",
      "https://hh.ru/search/vacancy?L_is_autosearch=true&area=271&currency_code=RUR&only_with_salary=true&items_on_page=100&clusters=true&enable_snippets=true&text=продавец&page=13\n",
      "Статус: 200\n",
      "https://hh.ru/search/vacancy?L_is_autosearch=true&area=271&currency_code=RUR&only_with_salary=true&items_on_page=100&clusters=true&enable_snippets=true&text=продавец&page=14\n",
      "Статус: 200\n",
      "https://hh.ru/search/vacancy?L_is_autosearch=true&area=271&currency_code=RUR&only_with_salary=true&items_on_page=100&clusters=true&enable_snippets=true&text=продавец&page=15\n",
      "Статус: 200\n",
      "https://hh.ru/search/vacancy?L_is_autosearch=true&area=271&currency_code=RUR&only_with_salary=true&items_on_page=100&clusters=true&enable_snippets=true&text=продавец&page=16\n",
      "Статус: 200\n",
      "https://hh.ru/search/vacancy?L_is_autosearch=true&area=271&currency_code=RUR&only_with_salary=true&items_on_page=100&clusters=true&enable_snippets=true&text=продавец&page=17\n",
      "Статус: 200\n",
      "https://hh.ru/search/vacancy?L_is_autosearch=true&area=271&currency_code=RUR&only_with_salary=true&items_on_page=100&clusters=true&enable_snippets=true&text=продавец&page=18\n",
      "Статус: 200\n",
      "https://hh.ru/search/vacancy?L_is_autosearch=true&area=271&currency_code=RUR&only_with_salary=true&items_on_page=100&clusters=true&enable_snippets=true&text=продавец&page=19\n",
      "Статус: 200\n"
     ]
    },
    {
     "name": "stderr",
     "output_type": "stream",
     "text": [
      "\n",
      "\n",
      "\n",
      " 96%|█████████████████████████████████████████████████████████████████████████████▊   | 96/100 [11:28<01:31, 22.86s/it]"
     ]
    },
    {
     "name": "stdout",
     "output_type": "stream",
     "text": [
      "https://hh.ru/search/vacancy?L_is_autosearch=true&area=272&currency_code=RUR&only_with_salary=true&items_on_page=100&clusters=true&enable_snippets=true&text=продавец&page=0\n",
      "Статус: 200\n",
      "https://hh.ru/search/vacancy?L_is_autosearch=true&area=272&currency_code=RUR&only_with_salary=true&items_on_page=100&clusters=true&enable_snippets=true&text=продавец&page=1\n",
      "Статус: 200\n",
      "https://hh.ru/search/vacancy?L_is_autosearch=true&area=272&currency_code=RUR&only_with_salary=true&items_on_page=100&clusters=true&enable_snippets=true&text=продавец&page=2\n",
      "Статус: 200\n",
      "https://hh.ru/search/vacancy?L_is_autosearch=true&area=272&currency_code=RUR&only_with_salary=true&items_on_page=100&clusters=true&enable_snippets=true&text=продавец&page=3\n",
      "Статус: 200\n",
      "https://hh.ru/search/vacancy?L_is_autosearch=true&area=272&currency_code=RUR&only_with_salary=true&items_on_page=100&clusters=true&enable_snippets=true&text=продавец&page=4\n",
      "Статус: 200\n",
      "https://hh.ru/search/vacancy?L_is_autosearch=true&area=272&currency_code=RUR&only_with_salary=true&items_on_page=100&clusters=true&enable_snippets=true&text=продавец&page=5\n",
      "Статус: 200\n",
      "https://hh.ru/search/vacancy?L_is_autosearch=true&area=272&currency_code=RUR&only_with_salary=true&items_on_page=100&clusters=true&enable_snippets=true&text=продавец&page=6\n",
      "Статус: 200\n",
      "https://hh.ru/search/vacancy?L_is_autosearch=true&area=272&currency_code=RUR&only_with_salary=true&items_on_page=100&clusters=true&enable_snippets=true&text=продавец&page=7\n",
      "Статус: 200\n",
      "https://hh.ru/search/vacancy?L_is_autosearch=true&area=272&currency_code=RUR&only_with_salary=true&items_on_page=100&clusters=true&enable_snippets=true&text=продавец&page=8\n",
      "Статус: 200\n",
      "https://hh.ru/search/vacancy?L_is_autosearch=true&area=272&currency_code=RUR&only_with_salary=true&items_on_page=100&clusters=true&enable_snippets=true&text=продавец&page=9\n",
      "Статус: 200\n",
      "https://hh.ru/search/vacancy?L_is_autosearch=true&area=272&currency_code=RUR&only_with_salary=true&items_on_page=100&clusters=true&enable_snippets=true&text=продавец&page=10\n",
      "Статус: 200\n",
      "https://hh.ru/search/vacancy?L_is_autosearch=true&area=272&currency_code=RUR&only_with_salary=true&items_on_page=100&clusters=true&enable_snippets=true&text=продавец&page=11\n",
      "Статус: 200\n",
      "https://hh.ru/search/vacancy?L_is_autosearch=true&area=272&currency_code=RUR&only_with_salary=true&items_on_page=100&clusters=true&enable_snippets=true&text=продавец&page=12\n",
      "Статус: 200\n",
      "https://hh.ru/search/vacancy?L_is_autosearch=true&area=272&currency_code=RUR&only_with_salary=true&items_on_page=100&clusters=true&enable_snippets=true&text=продавец&page=13\n",
      "Статус: 200\n",
      "https://hh.ru/search/vacancy?L_is_autosearch=true&area=272&currency_code=RUR&only_with_salary=true&items_on_page=100&clusters=true&enable_snippets=true&text=продавец&page=14\n",
      "Статус: 200\n",
      "https://hh.ru/search/vacancy?L_is_autosearch=true&area=272&currency_code=RUR&only_with_salary=true&items_on_page=100&clusters=true&enable_snippets=true&text=продавец&page=15\n",
      "Статус: 200\n",
      "https://hh.ru/search/vacancy?L_is_autosearch=true&area=272&currency_code=RUR&only_with_salary=true&items_on_page=100&clusters=true&enable_snippets=true&text=продавец&page=16\n",
      "Статус: 200\n",
      "https://hh.ru/search/vacancy?L_is_autosearch=true&area=272&currency_code=RUR&only_with_salary=true&items_on_page=100&clusters=true&enable_snippets=true&text=продавец&page=17\n",
      "Статус: 200\n",
      "https://hh.ru/search/vacancy?L_is_autosearch=true&area=272&currency_code=RUR&only_with_salary=true&items_on_page=100&clusters=true&enable_snippets=true&text=продавец&page=18\n",
      "Статус: 200\n",
      "https://hh.ru/search/vacancy?L_is_autosearch=true&area=272&currency_code=RUR&only_with_salary=true&items_on_page=100&clusters=true&enable_snippets=true&text=продавец&page=19\n",
      "Статус: 200\n"
     ]
    },
    {
     "name": "stderr",
     "output_type": "stream",
     "text": [
      "\n",
      "\n",
      "\n",
      " 97%|██████████████████████████████████████████████████████████████████████████████▌  | 97/100 [11:51<01:09, 23.07s/it]"
     ]
    },
    {
     "name": "stdout",
     "output_type": "stream",
     "text": [
      "https://hh.ru/search/vacancy?L_is_autosearch=true&area=273&currency_code=RUR&only_with_salary=true&items_on_page=100&clusters=true&enable_snippets=true&text=продавец&page=0\n",
      "Статус: 200\n",
      "https://hh.ru/search/vacancy?L_is_autosearch=true&area=273&currency_code=RUR&only_with_salary=true&items_on_page=100&clusters=true&enable_snippets=true&text=продавец&page=1\n",
      "Статус: 200\n",
      "https://hh.ru/search/vacancy?L_is_autosearch=true&area=273&currency_code=RUR&only_with_salary=true&items_on_page=100&clusters=true&enable_snippets=true&text=продавец&page=2\n",
      "Статус: 200\n",
      "https://hh.ru/search/vacancy?L_is_autosearch=true&area=273&currency_code=RUR&only_with_salary=true&items_on_page=100&clusters=true&enable_snippets=true&text=продавец&page=3\n",
      "Статус: 200\n",
      "https://hh.ru/search/vacancy?L_is_autosearch=true&area=273&currency_code=RUR&only_with_salary=true&items_on_page=100&clusters=true&enable_snippets=true&text=продавец&page=4\n",
      "Статус: 200\n",
      "https://hh.ru/search/vacancy?L_is_autosearch=true&area=273&currency_code=RUR&only_with_salary=true&items_on_page=100&clusters=true&enable_snippets=true&text=продавец&page=5\n",
      "Статус: 200\n",
      "https://hh.ru/search/vacancy?L_is_autosearch=true&area=273&currency_code=RUR&only_with_salary=true&items_on_page=100&clusters=true&enable_snippets=true&text=продавец&page=6\n",
      "Статус: 200\n",
      "https://hh.ru/search/vacancy?L_is_autosearch=true&area=273&currency_code=RUR&only_with_salary=true&items_on_page=100&clusters=true&enable_snippets=true&text=продавец&page=7\n",
      "Статус: 200\n",
      "https://hh.ru/search/vacancy?L_is_autosearch=true&area=273&currency_code=RUR&only_with_salary=true&items_on_page=100&clusters=true&enable_snippets=true&text=продавец&page=8\n",
      "Статус: 200\n",
      "https://hh.ru/search/vacancy?L_is_autosearch=true&area=273&currency_code=RUR&only_with_salary=true&items_on_page=100&clusters=true&enable_snippets=true&text=продавец&page=9\n",
      "Статус: 200\n",
      "https://hh.ru/search/vacancy?L_is_autosearch=true&area=273&currency_code=RUR&only_with_salary=true&items_on_page=100&clusters=true&enable_snippets=true&text=продавец&page=10\n",
      "Статус: 200\n",
      "https://hh.ru/search/vacancy?L_is_autosearch=true&area=273&currency_code=RUR&only_with_salary=true&items_on_page=100&clusters=true&enable_snippets=true&text=продавец&page=11\n",
      "Статус: 200\n",
      "https://hh.ru/search/vacancy?L_is_autosearch=true&area=273&currency_code=RUR&only_with_salary=true&items_on_page=100&clusters=true&enable_snippets=true&text=продавец&page=12\n",
      "Статус: 200\n",
      "https://hh.ru/search/vacancy?L_is_autosearch=true&area=273&currency_code=RUR&only_with_salary=true&items_on_page=100&clusters=true&enable_snippets=true&text=продавец&page=13\n",
      "Статус: 200\n",
      "https://hh.ru/search/vacancy?L_is_autosearch=true&area=273&currency_code=RUR&only_with_salary=true&items_on_page=100&clusters=true&enable_snippets=true&text=продавец&page=14\n",
      "Статус: 200\n",
      "https://hh.ru/search/vacancy?L_is_autosearch=true&area=273&currency_code=RUR&only_with_salary=true&items_on_page=100&clusters=true&enable_snippets=true&text=продавец&page=15\n",
      "Статус: 200\n",
      "https://hh.ru/search/vacancy?L_is_autosearch=true&area=273&currency_code=RUR&only_with_salary=true&items_on_page=100&clusters=true&enable_snippets=true&text=продавец&page=16\n",
      "Статус: 200\n",
      "https://hh.ru/search/vacancy?L_is_autosearch=true&area=273&currency_code=RUR&only_with_salary=true&items_on_page=100&clusters=true&enable_snippets=true&text=продавец&page=17\n",
      "Статус: 200\n",
      "https://hh.ru/search/vacancy?L_is_autosearch=true&area=273&currency_code=RUR&only_with_salary=true&items_on_page=100&clusters=true&enable_snippets=true&text=продавец&page=18\n",
      "Статус: 200\n",
      "https://hh.ru/search/vacancy?L_is_autosearch=true&area=273&currency_code=RUR&only_with_salary=true&items_on_page=100&clusters=true&enable_snippets=true&text=продавец&page=19\n",
      "Статус: 200\n"
     ]
    },
    {
     "name": "stderr",
     "output_type": "stream",
     "text": [
      "\n",
      "\n",
      "\n",
      " 98%|███████████████████████████████████████████████████████████████████████████████▍ | 98/100 [12:15<00:46, 23.21s/it]"
     ]
    },
    {
     "name": "stdout",
     "output_type": "stream",
     "text": [
      "https://hh.ru/search/vacancy?L_is_autosearch=true&area=275&currency_code=RUR&only_with_salary=true&items_on_page=100&clusters=true&enable_snippets=true&text=продавец&page=0\n",
      "Статус: 200\n",
      "https://hh.ru/search/vacancy?L_is_autosearch=true&area=275&currency_code=RUR&only_with_salary=true&items_on_page=100&clusters=true&enable_snippets=true&text=продавец&page=1\n",
      "Статус: 200\n",
      "https://hh.ru/search/vacancy?L_is_autosearch=true&area=275&currency_code=RUR&only_with_salary=true&items_on_page=100&clusters=true&enable_snippets=true&text=продавец&page=2\n",
      "Статус: 200\n",
      "https://hh.ru/search/vacancy?L_is_autosearch=true&area=275&currency_code=RUR&only_with_salary=true&items_on_page=100&clusters=true&enable_snippets=true&text=продавец&page=3\n",
      "Статус: 200\n",
      "https://hh.ru/search/vacancy?L_is_autosearch=true&area=275&currency_code=RUR&only_with_salary=true&items_on_page=100&clusters=true&enable_snippets=true&text=продавец&page=4\n",
      "Статус: 200\n",
      "https://hh.ru/search/vacancy?L_is_autosearch=true&area=275&currency_code=RUR&only_with_salary=true&items_on_page=100&clusters=true&enable_snippets=true&text=продавец&page=5\n",
      "Статус: 200\n",
      "https://hh.ru/search/vacancy?L_is_autosearch=true&area=275&currency_code=RUR&only_with_salary=true&items_on_page=100&clusters=true&enable_snippets=true&text=продавец&page=6\n",
      "Статус: 200\n",
      "https://hh.ru/search/vacancy?L_is_autosearch=true&area=275&currency_code=RUR&only_with_salary=true&items_on_page=100&clusters=true&enable_snippets=true&text=продавец&page=7\n",
      "Статус: 200\n",
      "https://hh.ru/search/vacancy?L_is_autosearch=true&area=275&currency_code=RUR&only_with_salary=true&items_on_page=100&clusters=true&enable_snippets=true&text=продавец&page=8\n",
      "Статус: 200\n",
      "https://hh.ru/search/vacancy?L_is_autosearch=true&area=275&currency_code=RUR&only_with_salary=true&items_on_page=100&clusters=true&enable_snippets=true&text=продавец&page=9\n",
      "Статус: 200\n",
      "https://hh.ru/search/vacancy?L_is_autosearch=true&area=275&currency_code=RUR&only_with_salary=true&items_on_page=100&clusters=true&enable_snippets=true&text=продавец&page=10\n",
      "Статус: 200\n",
      "https://hh.ru/search/vacancy?L_is_autosearch=true&area=275&currency_code=RUR&only_with_salary=true&items_on_page=100&clusters=true&enable_snippets=true&text=продавец&page=11\n",
      "Статус: 200\n",
      "https://hh.ru/search/vacancy?L_is_autosearch=true&area=275&currency_code=RUR&only_with_salary=true&items_on_page=100&clusters=true&enable_snippets=true&text=продавец&page=12\n",
      "Статус: 200\n",
      "https://hh.ru/search/vacancy?L_is_autosearch=true&area=275&currency_code=RUR&only_with_salary=true&items_on_page=100&clusters=true&enable_snippets=true&text=продавец&page=13\n",
      "Статус: 200\n",
      "https://hh.ru/search/vacancy?L_is_autosearch=true&area=275&currency_code=RUR&only_with_salary=true&items_on_page=100&clusters=true&enable_snippets=true&text=продавец&page=14\n",
      "Статус: 200\n",
      "https://hh.ru/search/vacancy?L_is_autosearch=true&area=275&currency_code=RUR&only_with_salary=true&items_on_page=100&clusters=true&enable_snippets=true&text=продавец&page=15\n",
      "Статус: 200\n",
      "https://hh.ru/search/vacancy?L_is_autosearch=true&area=275&currency_code=RUR&only_with_salary=true&items_on_page=100&clusters=true&enable_snippets=true&text=продавец&page=16\n",
      "Статус: 200\n",
      "https://hh.ru/search/vacancy?L_is_autosearch=true&area=275&currency_code=RUR&only_with_salary=true&items_on_page=100&clusters=true&enable_snippets=true&text=продавец&page=17\n",
      "Статус: 200\n",
      "https://hh.ru/search/vacancy?L_is_autosearch=true&area=275&currency_code=RUR&only_with_salary=true&items_on_page=100&clusters=true&enable_snippets=true&text=продавец&page=18\n",
      "Статус: 200\n",
      "https://hh.ru/search/vacancy?L_is_autosearch=true&area=275&currency_code=RUR&only_with_salary=true&items_on_page=100&clusters=true&enable_snippets=true&text=продавец&page=19\n",
      "Статус: 200\n"
     ]
    },
    {
     "name": "stderr",
     "output_type": "stream",
     "text": [
      "\n",
      "\n",
      "\n",
      " 99%|████████████████████████████████████████████████████████████████████████████████▏| 99/100 [12:39<00:23, 23.43s/it]"
     ]
    },
    {
     "name": "stdout",
     "output_type": "stream",
     "text": [
      "https://hh.ru/search/vacancy?L_is_autosearch=true&area=276&currency_code=RUR&only_with_salary=true&items_on_page=100&clusters=true&enable_snippets=true&text=продавец&page=0\n",
      "Статус: 200\n",
      "https://hh.ru/search/vacancy?L_is_autosearch=true&area=276&currency_code=RUR&only_with_salary=true&items_on_page=100&clusters=true&enable_snippets=true&text=продавец&page=1\n",
      "Статус: 200\n",
      "https://hh.ru/search/vacancy?L_is_autosearch=true&area=276&currency_code=RUR&only_with_salary=true&items_on_page=100&clusters=true&enable_snippets=true&text=продавец&page=2\n",
      "Статус: 200\n",
      "https://hh.ru/search/vacancy?L_is_autosearch=true&area=276&currency_code=RUR&only_with_salary=true&items_on_page=100&clusters=true&enable_snippets=true&text=продавец&page=3\n",
      "Статус: 200\n",
      "https://hh.ru/search/vacancy?L_is_autosearch=true&area=276&currency_code=RUR&only_with_salary=true&items_on_page=100&clusters=true&enable_snippets=true&text=продавец&page=4\n",
      "Статус: 200\n",
      "https://hh.ru/search/vacancy?L_is_autosearch=true&area=276&currency_code=RUR&only_with_salary=true&items_on_page=100&clusters=true&enable_snippets=true&text=продавец&page=5\n",
      "Статус: 200\n",
      "https://hh.ru/search/vacancy?L_is_autosearch=true&area=276&currency_code=RUR&only_with_salary=true&items_on_page=100&clusters=true&enable_snippets=true&text=продавец&page=6\n",
      "Статус: 200\n",
      "https://hh.ru/search/vacancy?L_is_autosearch=true&area=276&currency_code=RUR&only_with_salary=true&items_on_page=100&clusters=true&enable_snippets=true&text=продавец&page=7\n",
      "Статус: 200\n",
      "https://hh.ru/search/vacancy?L_is_autosearch=true&area=276&currency_code=RUR&only_with_salary=true&items_on_page=100&clusters=true&enable_snippets=true&text=продавец&page=8\n",
      "Статус: 200\n",
      "https://hh.ru/search/vacancy?L_is_autosearch=true&area=276&currency_code=RUR&only_with_salary=true&items_on_page=100&clusters=true&enable_snippets=true&text=продавец&page=9\n",
      "Статус: 200\n",
      "https://hh.ru/search/vacancy?L_is_autosearch=true&area=276&currency_code=RUR&only_with_salary=true&items_on_page=100&clusters=true&enable_snippets=true&text=продавец&page=10\n",
      "Статус: 200\n",
      "https://hh.ru/search/vacancy?L_is_autosearch=true&area=276&currency_code=RUR&only_with_salary=true&items_on_page=100&clusters=true&enable_snippets=true&text=продавец&page=11\n",
      "Статус: 200\n",
      "https://hh.ru/search/vacancy?L_is_autosearch=true&area=276&currency_code=RUR&only_with_salary=true&items_on_page=100&clusters=true&enable_snippets=true&text=продавец&page=12\n",
      "Статус: 200\n",
      "https://hh.ru/search/vacancy?L_is_autosearch=true&area=276&currency_code=RUR&only_with_salary=true&items_on_page=100&clusters=true&enable_snippets=true&text=продавец&page=13\n",
      "Статус: 200\n",
      "https://hh.ru/search/vacancy?L_is_autosearch=true&area=276&currency_code=RUR&only_with_salary=true&items_on_page=100&clusters=true&enable_snippets=true&text=продавец&page=14\n",
      "Статус: 200\n",
      "https://hh.ru/search/vacancy?L_is_autosearch=true&area=276&currency_code=RUR&only_with_salary=true&items_on_page=100&clusters=true&enable_snippets=true&text=продавец&page=15\n",
      "Статус: 200\n",
      "https://hh.ru/search/vacancy?L_is_autosearch=true&area=276&currency_code=RUR&only_with_salary=true&items_on_page=100&clusters=true&enable_snippets=true&text=продавец&page=16\n",
      "Статус: 200\n",
      "https://hh.ru/search/vacancy?L_is_autosearch=true&area=276&currency_code=RUR&only_with_salary=true&items_on_page=100&clusters=true&enable_snippets=true&text=продавец&page=17\n",
      "Статус: 200\n",
      "https://hh.ru/search/vacancy?L_is_autosearch=true&area=276&currency_code=RUR&only_with_salary=true&items_on_page=100&clusters=true&enable_snippets=true&text=продавец&page=18\n",
      "Статус: 200\n",
      "https://hh.ru/search/vacancy?L_is_autosearch=true&area=276&currency_code=RUR&only_with_salary=true&items_on_page=100&clusters=true&enable_snippets=true&text=продавец&page=19\n",
      "Статус: 200\n"
     ]
    },
    {
     "name": "stderr",
     "output_type": "stream",
     "text": [
      "\n",
      "\n",
      "\n",
      "100%|████████████████████████████████████████████████████████████████████████████████| 100/100 [13:04<00:00, 23.97s/it]"
     ]
    }
   ],
   "source": [
    "links = []\n",
    "for url in tqdm(urls[:100]):  # собрем не все, а то все - долго ждать\n",
    "    for href in url:\n",
    "        print(f\"{href}\")        \n",
    "        req = rq.get(f\"{href}\", headers=headers)\n",
    "        print(f\"Статус: {req.status_code}\")     \n",
    "        soup = bs(req.text, 'html.parser')\n",
    "        items1 = soup.find_all(\"script\", attrs={\"data-name\":\"HH/Vacancy/SendResponseAttempt\"})\n",
    "        for link in items1:\n",
    "            data = dict(json.loads(link.get('data-params')))\n",
    "            links.append(f\"https://hh.ru/vacancy/{data['vacancyId']}?query={params['text']}\")\n",
    "links = list(set(links))"
   ]
  },
  {
   "cell_type": "code",
   "execution_count": 35,
   "metadata": {},
   "outputs": [],
   "source": [
    "with open('final_links.pkl', 'wb') as f:\n",
    "    pickle.dump(links, f)"
   ]
  },
  {
   "cell_type": "markdown",
   "metadata": {},
   "source": [
    "***Собираем конечную информацию с отдельных конечных страничек вакансий*** "
   ]
  },
  {
   "cell_type": "code",
   "execution_count": 36,
   "metadata": {},
   "outputs": [],
   "source": [
    "links = pd.read_pickle('final_links.pkl')"
   ]
  },
  {
   "cell_type": "code",
   "execution_count": 247,
   "metadata": {
    "scrolled": true
   },
   "outputs": [
    {
     "name": "stderr",
     "output_type": "stream",
     "text": [
      "\n",
      "\n",
      "\n",
      "\n",
      "\n",
      "\n",
      "\n",
      "\n",
      "\n",
      "\n",
      "\n",
      "\n",
      "\n",
      "  0%|                                                                                          | 0/100 [00:00<?, ?it/s]"
     ]
    },
    {
     "name": "stdout",
     "output_type": "stream",
     "text": [
      "https://hh.ru/vacancy/37293110?query=продавец\n",
      "Статус: 200\n"
     ]
    },
    {
     "name": "stderr",
     "output_type": "stream",
     "text": [
      "\n",
      "\n",
      "\n",
      "\n",
      "\n",
      "\n",
      "\n",
      "\n",
      "\n",
      "\n",
      "\n",
      "\n",
      "\n",
      "  1%|▊                                                                                 | 1/100 [00:00<00:38,  2.57it/s]"
     ]
    },
    {
     "name": "stdout",
     "output_type": "stream",
     "text": [
      "https://hh.ru/vacancy/37355797?query=продавец\n",
      "Статус: 200\n"
     ]
    },
    {
     "name": "stderr",
     "output_type": "stream",
     "text": [
      "\n",
      "\n",
      "\n",
      "\n",
      "\n",
      "\n",
      "\n",
      "\n",
      "\n",
      "\n",
      "\n",
      "\n",
      "\n",
      "  2%|█▋                                                                                | 2/100 [00:00<00:37,  2.61it/s]"
     ]
    },
    {
     "name": "stdout",
     "output_type": "stream",
     "text": [
      "https://hh.ru/vacancy/37706452?query=продавец\n",
      "Статус: 200\n"
     ]
    },
    {
     "name": "stderr",
     "output_type": "stream",
     "text": [
      "\n",
      "\n",
      "\n",
      "\n",
      "\n",
      "\n",
      "\n",
      "\n",
      "\n",
      "\n",
      "\n",
      "\n",
      "\n",
      "  3%|██▍                                                                               | 3/100 [00:01<00:36,  2.68it/s]"
     ]
    },
    {
     "name": "stdout",
     "output_type": "stream",
     "text": [
      "https://hh.ru/vacancy/35542958?query=продавец\n",
      "Статус: 200\n"
     ]
    },
    {
     "name": "stderr",
     "output_type": "stream",
     "text": [
      "\n",
      "\n",
      "\n",
      "\n",
      "\n",
      "\n",
      "\n",
      "\n",
      "\n",
      "\n",
      "\n",
      "\n",
      "\n",
      "  4%|███▎                                                                              | 4/100 [00:01<00:37,  2.58it/s]"
     ]
    },
    {
     "name": "stdout",
     "output_type": "stream",
     "text": [
      "https://hh.ru/vacancy/37379497?query=продавец\n",
      "Статус: 200\n"
     ]
    },
    {
     "name": "stderr",
     "output_type": "stream",
     "text": [
      "\n",
      "\n",
      "\n",
      "\n",
      "\n",
      "\n",
      "\n",
      "\n",
      "\n",
      "\n",
      "\n",
      "\n",
      "\n",
      "  5%|████                                                                              | 5/100 [00:01<00:36,  2.63it/s]"
     ]
    },
    {
     "name": "stdout",
     "output_type": "stream",
     "text": [
      "https://hh.ru/vacancy/37426744?query=продавец\n",
      "Статус: 200\n"
     ]
    },
    {
     "name": "stderr",
     "output_type": "stream",
     "text": [
      "\n",
      "\n",
      "\n",
      "\n",
      "\n",
      "\n",
      "\n",
      "\n",
      "\n",
      "\n",
      "\n",
      "\n",
      "\n",
      "  6%|████▉                                                                             | 6/100 [00:02<00:36,  2.56it/s]"
     ]
    },
    {
     "name": "stdout",
     "output_type": "stream",
     "text": [
      "https://hh.ru/vacancy/36970374?query=продавец\n",
      "Статус: 200\n"
     ]
    },
    {
     "name": "stderr",
     "output_type": "stream",
     "text": [
      "\n",
      "\n",
      "\n",
      "\n",
      "\n",
      "\n",
      "\n",
      "\n",
      "\n",
      "\n",
      "\n",
      "\n",
      "\n",
      "  7%|█████▋                                                                            | 7/100 [00:02<00:35,  2.63it/s]"
     ]
    },
    {
     "name": "stdout",
     "output_type": "stream",
     "text": [
      "https://hh.ru/vacancy/36926721?query=продавец\n",
      "Статус: 200\n"
     ]
    },
    {
     "name": "stderr",
     "output_type": "stream",
     "text": [
      "\n",
      "\n",
      "\n",
      "\n",
      "\n",
      "\n",
      "\n",
      "\n",
      "\n",
      "\n",
      "\n",
      "\n",
      "\n",
      "  8%|██████▌                                                                           | 8/100 [00:03<00:37,  2.43it/s]"
     ]
    },
    {
     "name": "stdout",
     "output_type": "stream",
     "text": [
      "https://hh.ru/vacancy/36127126?query=продавец\n",
      "Статус: 200\n"
     ]
    },
    {
     "name": "stderr",
     "output_type": "stream",
     "text": [
      "\n",
      "\n",
      "\n",
      "\n",
      "\n",
      "\n",
      "\n",
      "\n",
      "\n",
      "\n",
      "\n",
      "\n",
      "\n",
      "  9%|███████▍                                                                          | 9/100 [00:03<00:39,  2.33it/s]"
     ]
    },
    {
     "name": "stdout",
     "output_type": "stream",
     "text": [
      "https://hh.ru/vacancy/37142665?query=продавец\n",
      "Статус: 200\n"
     ]
    },
    {
     "name": "stderr",
     "output_type": "stream",
     "text": [
      "\n",
      "\n",
      "\n",
      "\n",
      "\n",
      "\n",
      "\n",
      "\n",
      "\n",
      "\n",
      "\n",
      "\n",
      "\n",
      " 10%|████████                                                                         | 10/100 [00:04<00:38,  2.36it/s]"
     ]
    },
    {
     "name": "stdout",
     "output_type": "stream",
     "text": [
      "https://hh.ru/vacancy/35721735?query=продавец\n",
      "Статус: 200\n"
     ]
    },
    {
     "name": "stderr",
     "output_type": "stream",
     "text": [
      "\n",
      "\n",
      "\n",
      "\n",
      "\n",
      "\n",
      "\n",
      "\n",
      "\n",
      "\n",
      "\n",
      "\n",
      "\n",
      " 11%|████████▉                                                                        | 11/100 [00:04<00:34,  2.55it/s]"
     ]
    },
    {
     "name": "stdout",
     "output_type": "stream",
     "text": [
      "https://hh.ru/vacancy/37463926?query=продавец\n",
      "Статус: 200\n"
     ]
    },
    {
     "name": "stderr",
     "output_type": "stream",
     "text": [
      "\n",
      "\n",
      "\n",
      "\n",
      "\n",
      "\n",
      "\n",
      "\n",
      "\n",
      "\n",
      "\n",
      "\n",
      "\n",
      " 12%|█████████▋                                                                       | 12/100 [00:04<00:36,  2.39it/s]"
     ]
    },
    {
     "name": "stdout",
     "output_type": "stream",
     "text": [
      "https://hh.ru/vacancy/37276356?query=продавец\n",
      "Статус: 200\n"
     ]
    },
    {
     "name": "stderr",
     "output_type": "stream",
     "text": [
      "\n",
      "\n",
      "\n",
      "\n",
      "\n",
      "\n",
      "\n",
      "\n",
      "\n",
      "\n",
      "\n",
      "\n",
      "\n",
      " 13%|██████████▌                                                                      | 13/100 [00:05<00:35,  2.42it/s]"
     ]
    },
    {
     "name": "stdout",
     "output_type": "stream",
     "text": [
      "https://hh.ru/vacancy/37695883?query=продавец\n",
      "Статус: 200\n"
     ]
    },
    {
     "name": "stderr",
     "output_type": "stream",
     "text": [
      "\n",
      "\n",
      "\n",
      "\n",
      "\n",
      "\n",
      "\n",
      "\n",
      "\n",
      "\n",
      "\n",
      "\n",
      "\n",
      " 14%|███████████▎                                                                     | 14/100 [00:05<00:33,  2.54it/s]"
     ]
    },
    {
     "name": "stdout",
     "output_type": "stream",
     "text": [
      "https://hh.ru/vacancy/37730995?query=продавец\n",
      "Статус: 200\n"
     ]
    },
    {
     "name": "stderr",
     "output_type": "stream",
     "text": [
      "\n",
      "\n",
      "\n",
      "\n",
      "\n",
      "\n",
      "\n",
      "\n",
      "\n",
      "\n",
      "\n",
      "\n",
      "\n",
      " 15%|████████████▏                                                                    | 15/100 [00:05<00:32,  2.62it/s]"
     ]
    },
    {
     "name": "stdout",
     "output_type": "stream",
     "text": [
      "https://hh.ru/vacancy/37337822?query=продавец\n",
      "Статус: 200\n"
     ]
    },
    {
     "name": "stderr",
     "output_type": "stream",
     "text": [
      "\n",
      "\n",
      "\n",
      "\n",
      "\n",
      "\n",
      "\n",
      "\n",
      "\n",
      "\n",
      "\n",
      "\n",
      "\n",
      " 16%|████████████▉                                                                    | 16/100 [00:06<00:33,  2.54it/s]"
     ]
    },
    {
     "name": "stdout",
     "output_type": "stream",
     "text": [
      "https://hh.ru/vacancy/37164412?query=продавец\n",
      "Статус: 200\n"
     ]
    },
    {
     "name": "stderr",
     "output_type": "stream",
     "text": [
      "\n",
      "\n",
      "\n",
      "\n",
      "\n",
      "\n",
      "\n",
      "\n",
      "\n",
      "\n",
      "\n",
      "\n",
      "\n",
      " 17%|█████████████▊                                                                   | 17/100 [00:06<00:31,  2.65it/s]"
     ]
    },
    {
     "name": "stdout",
     "output_type": "stream",
     "text": [
      "https://hh.ru/vacancy/37319274?query=продавец\n",
      "Статус: 200\n"
     ]
    },
    {
     "name": "stderr",
     "output_type": "stream",
     "text": [
      "\n",
      "\n",
      "\n",
      "\n",
      "\n",
      "\n",
      "\n",
      "\n",
      "\n",
      "\n",
      "\n",
      "\n",
      "\n",
      " 18%|██████████████▌                                                                  | 18/100 [00:07<00:31,  2.59it/s]"
     ]
    },
    {
     "name": "stdout",
     "output_type": "stream",
     "text": [
      "https://hh.ru/vacancy/37308176?query=продавец\n",
      "Статус: 200\n"
     ]
    },
    {
     "name": "stderr",
     "output_type": "stream",
     "text": [
      "\n",
      "\n",
      "\n",
      "\n",
      "\n",
      "\n",
      "\n",
      "\n",
      "\n",
      "\n",
      "\n",
      "\n",
      "\n",
      " 19%|███████████████▍                                                                 | 19/100 [00:07<00:30,  2.69it/s]"
     ]
    },
    {
     "name": "stdout",
     "output_type": "stream",
     "text": [
      "https://hh.ru/vacancy/37692143?query=продавец\n",
      "Статус: 200\n"
     ]
    },
    {
     "name": "stderr",
     "output_type": "stream",
     "text": [
      "\n",
      "\n",
      "\n",
      "\n",
      "\n",
      "\n",
      "\n",
      "\n",
      "\n",
      "\n",
      "\n",
      "\n",
      "\n",
      " 20%|████████████████▏                                                                | 20/100 [00:07<00:28,  2.85it/s]"
     ]
    },
    {
     "name": "stdout",
     "output_type": "stream",
     "text": [
      "https://hh.ru/vacancy/37666507?query=продавец\n",
      "Статус: 200\n"
     ]
    },
    {
     "name": "stderr",
     "output_type": "stream",
     "text": [
      "\n",
      "\n",
      "\n",
      "\n",
      "\n",
      "\n",
      "\n",
      "\n",
      "\n",
      "\n",
      "\n",
      "\n",
      "\n",
      " 21%|█████████████████                                                                | 21/100 [00:08<00:27,  2.92it/s]"
     ]
    },
    {
     "name": "stdout",
     "output_type": "stream",
     "text": [
      "https://hh.ru/vacancy/36496129?query=продавец\n",
      "Статус: 200\n"
     ]
    },
    {
     "name": "stderr",
     "output_type": "stream",
     "text": [
      "\n",
      "\n",
      "\n",
      "\n",
      "\n",
      "\n",
      "\n",
      "\n",
      "\n",
      "\n",
      "\n",
      "\n",
      "\n",
      " 22%|█████████████████▊                                                               | 22/100 [00:08<00:30,  2.55it/s]"
     ]
    },
    {
     "name": "stdout",
     "output_type": "stream",
     "text": [
      "https://hh.ru/vacancy/37376662?query=продавец\n",
      "Статус: 200\n"
     ]
    },
    {
     "name": "stderr",
     "output_type": "stream",
     "text": [
      "\n",
      "\n",
      "\n",
      "\n",
      "\n",
      "\n",
      "\n",
      "\n",
      "\n",
      "\n",
      "\n",
      "\n",
      "\n",
      " 23%|██████████████████▋                                                              | 23/100 [00:09<00:31,  2.48it/s]"
     ]
    },
    {
     "name": "stdout",
     "output_type": "stream",
     "text": [
      "https://hh.ru/vacancy/37132840?query=продавец\n",
      "Статус: 200\n"
     ]
    },
    {
     "name": "stderr",
     "output_type": "stream",
     "text": [
      "\n",
      "\n",
      "\n",
      "\n",
      "\n",
      "\n",
      "\n",
      "\n",
      "\n",
      "\n",
      "\n",
      "\n",
      "\n",
      " 24%|███████████████████▍                                                             | 24/100 [00:09<00:29,  2.61it/s]"
     ]
    },
    {
     "name": "stdout",
     "output_type": "stream",
     "text": [
      "https://hh.ru/vacancy/36723864?query=продавец\n",
      "Статус: 200\n"
     ]
    },
    {
     "name": "stderr",
     "output_type": "stream",
     "text": [
      "\n",
      "\n",
      "\n",
      "\n",
      "\n",
      "\n",
      "\n",
      "\n",
      "\n",
      "\n",
      "\n",
      "\n",
      "\n",
      " 25%|████████████████████▎                                                            | 25/100 [00:09<00:28,  2.67it/s]"
     ]
    },
    {
     "name": "stdout",
     "output_type": "stream",
     "text": [
      "https://hh.ru/vacancy/37593333?query=продавец\n",
      "Статус: 200\n"
     ]
    },
    {
     "name": "stderr",
     "output_type": "stream",
     "text": [
      "\n",
      "\n",
      "\n",
      "\n",
      "\n",
      "\n",
      "\n",
      "\n",
      "\n",
      "\n",
      "\n",
      "\n",
      "\n",
      " 26%|█████████████████████                                                            | 26/100 [00:10<00:30,  2.39it/s]"
     ]
    },
    {
     "name": "stdout",
     "output_type": "stream",
     "text": [
      "https://hh.ru/vacancy/37582134?query=продавец\n",
      "Статус: 200\n"
     ]
    },
    {
     "name": "stderr",
     "output_type": "stream",
     "text": [
      "\n",
      "\n",
      "\n",
      "\n",
      "\n",
      "\n",
      "\n",
      "\n",
      "\n",
      "\n",
      "\n",
      "\n",
      "\n",
      " 27%|█████████████████████▊                                                           | 27/100 [00:10<00:30,  2.41it/s]"
     ]
    },
    {
     "name": "stdout",
     "output_type": "stream",
     "text": [
      "https://hh.ru/vacancy/37474963?query=продавец\n",
      "Статус: 200\n"
     ]
    },
    {
     "name": "stderr",
     "output_type": "stream",
     "text": [
      "\n",
      "\n",
      "\n",
      "\n",
      "\n",
      "\n",
      "\n",
      "\n",
      "\n",
      "\n",
      "\n",
      "\n",
      "\n",
      " 28%|██████████████████████▋                                                          | 28/100 [00:11<00:31,  2.28it/s]"
     ]
    },
    {
     "name": "stdout",
     "output_type": "stream",
     "text": [
      "https://hh.ru/vacancy/37648189?query=продавец\n",
      "Статус: 200\n"
     ]
    },
    {
     "name": "stderr",
     "output_type": "stream",
     "text": [
      "\n",
      "\n",
      "\n",
      "\n",
      "\n",
      "\n",
      "\n",
      "\n",
      "\n",
      "\n",
      "\n",
      "\n",
      "\n",
      " 29%|███████████████████████▍                                                         | 29/100 [00:11<00:29,  2.44it/s]"
     ]
    },
    {
     "name": "stdout",
     "output_type": "stream",
     "text": [
      "https://hh.ru/vacancy/36833978?query=продавец\n",
      "Статус: 200\n"
     ]
    },
    {
     "name": "stderr",
     "output_type": "stream",
     "text": [
      "\n",
      "\n",
      "\n",
      "\n",
      "\n",
      "\n",
      "\n",
      "\n",
      "\n",
      "\n",
      "\n",
      "\n",
      "\n",
      " 30%|████████████████████████▎                                                        | 30/100 [00:11<00:27,  2.53it/s]"
     ]
    },
    {
     "name": "stdout",
     "output_type": "stream",
     "text": [
      "https://hh.ru/vacancy/36467523?query=продавец\n",
      "Статус: 200\n"
     ]
    },
    {
     "name": "stderr",
     "output_type": "stream",
     "text": [
      "\n",
      "\n",
      "\n",
      "\n",
      "\n",
      "\n",
      "\n",
      "\n",
      "\n",
      "\n",
      "\n",
      "\n",
      "\n",
      " 31%|█████████████████████████                                                        | 31/100 [00:12<00:28,  2.43it/s]"
     ]
    },
    {
     "name": "stdout",
     "output_type": "stream",
     "text": [
      "https://hh.ru/vacancy/37675291?query=продавец\n",
      "Статус: 200\n"
     ]
    },
    {
     "name": "stderr",
     "output_type": "stream",
     "text": [
      "\n",
      "\n",
      "\n",
      "\n",
      "\n",
      "\n",
      "\n",
      "\n",
      "\n",
      "\n",
      "\n",
      "\n",
      "\n",
      " 32%|█████████████████████████▉                                                       | 32/100 [00:12<00:28,  2.40it/s]"
     ]
    },
    {
     "name": "stdout",
     "output_type": "stream",
     "text": [
      "https://hh.ru/vacancy/33695427?query=продавец\n",
      "Статус: 200\n"
     ]
    },
    {
     "name": "stderr",
     "output_type": "stream",
     "text": [
      "\n",
      "\n",
      "\n",
      "\n",
      "\n",
      "\n",
      "\n",
      "\n",
      "\n",
      "\n",
      "\n",
      "\n",
      "\n",
      " 33%|██████████████████████████▋                                                      | 33/100 [00:13<00:26,  2.55it/s]"
     ]
    },
    {
     "name": "stdout",
     "output_type": "stream",
     "text": [
      "https://hh.ru/vacancy/37569074?query=продавец\n",
      "Статус: 200\n"
     ]
    },
    {
     "name": "stderr",
     "output_type": "stream",
     "text": [
      "\n",
      "\n",
      "\n",
      "\n",
      "\n",
      "\n",
      "\n",
      "\n",
      "\n",
      "\n",
      "\n",
      "\n",
      "\n",
      " 34%|███████████████████████████▌                                                     | 34/100 [00:13<00:24,  2.71it/s]"
     ]
    },
    {
     "name": "stdout",
     "output_type": "stream",
     "text": [
      "https://hh.ru/vacancy/37017326?query=продавец\n",
      "Статус: 200\n"
     ]
    },
    {
     "name": "stderr",
     "output_type": "stream",
     "text": [
      "\n",
      "\n",
      "\n",
      "\n",
      "\n",
      "\n",
      "\n",
      "\n",
      "\n",
      "\n",
      "\n",
      "\n",
      "\n",
      " 35%|████████████████████████████▎                                                    | 35/100 [00:13<00:25,  2.57it/s]"
     ]
    },
    {
     "name": "stdout",
     "output_type": "stream",
     "text": [
      "https://hh.ru/vacancy/37644169?query=продавец\n",
      "Статус: 200\n"
     ]
    },
    {
     "name": "stderr",
     "output_type": "stream",
     "text": [
      "\n",
      "\n",
      "\n",
      "\n",
      "\n",
      "\n",
      "\n",
      "\n",
      "\n",
      "\n",
      "\n",
      "\n",
      "\n",
      " 36%|█████████████████████████████▏                                                   | 36/100 [00:14<00:23,  2.68it/s]"
     ]
    },
    {
     "name": "stdout",
     "output_type": "stream",
     "text": [
      "https://hh.ru/vacancy/36499393?query=продавец\n",
      "Статус: 200\n"
     ]
    },
    {
     "name": "stderr",
     "output_type": "stream",
     "text": [
      "\n",
      "\n",
      "\n",
      "\n",
      "\n",
      "\n",
      "\n",
      "\n",
      "\n",
      "\n",
      "\n",
      "\n",
      "\n",
      " 37%|█████████████████████████████▉                                                   | 37/100 [00:14<00:23,  2.72it/s]"
     ]
    },
    {
     "name": "stdout",
     "output_type": "stream",
     "text": [
      "https://hh.ru/vacancy/35378377?query=продавец\n",
      "Статус: 200\n"
     ]
    },
    {
     "name": "stderr",
     "output_type": "stream",
     "text": [
      "\n",
      "\n",
      "\n",
      "\n",
      "\n",
      "\n",
      "\n",
      "\n",
      "\n",
      "\n",
      "\n",
      "\n",
      "\n",
      " 38%|██████████████████████████████▊                                                  | 38/100 [00:14<00:21,  2.85it/s]"
     ]
    },
    {
     "name": "stdout",
     "output_type": "stream",
     "text": [
      "https://hh.ru/vacancy/37686639?query=продавец\n",
      "Статус: 200\n"
     ]
    },
    {
     "name": "stderr",
     "output_type": "stream",
     "text": [
      "\n",
      "\n",
      "\n",
      "\n",
      "\n",
      "\n",
      "\n",
      "\n",
      "\n",
      "\n",
      "\n",
      "\n",
      "\n",
      " 39%|███████████████████████████████▌                                                 | 39/100 [00:15<00:21,  2.85it/s]"
     ]
    },
    {
     "name": "stdout",
     "output_type": "stream",
     "text": [
      "https://hh.ru/vacancy/37704237?query=продавец\n",
      "Статус: 200\n"
     ]
    },
    {
     "name": "stderr",
     "output_type": "stream",
     "text": [
      "\n",
      "\n",
      "\n",
      "\n",
      "\n",
      "\n",
      "\n",
      "\n",
      "\n",
      "\n",
      "\n",
      "\n",
      "\n",
      " 40%|████████████████████████████████▍                                                | 40/100 [00:15<00:21,  2.84it/s]"
     ]
    },
    {
     "name": "stdout",
     "output_type": "stream",
     "text": [
      "https://hh.ru/vacancy/36467542?query=продавец\n",
      "Статус: 200\n"
     ]
    },
    {
     "name": "stderr",
     "output_type": "stream",
     "text": [
      "\n",
      "\n",
      "\n",
      "\n",
      "\n",
      "\n",
      "\n",
      "\n",
      "\n",
      "\n",
      "\n",
      "\n",
      "\n",
      " 41%|█████████████████████████████████▏                                               | 41/100 [00:16<00:23,  2.50it/s]"
     ]
    },
    {
     "name": "stdout",
     "output_type": "stream",
     "text": [
      "https://hh.ru/vacancy/28815229?query=продавец\n",
      "Статус: 200\n"
     ]
    },
    {
     "name": "stderr",
     "output_type": "stream",
     "text": [
      "\n",
      "\n",
      "\n",
      "\n",
      "\n",
      "\n",
      "\n",
      "\n",
      "\n",
      "\n",
      "\n",
      "\n",
      "\n",
      " 42%|██████████████████████████████████                                               | 42/100 [00:16<00:22,  2.55it/s]"
     ]
    },
    {
     "name": "stdout",
     "output_type": "stream",
     "text": [
      "https://hh.ru/vacancy/36705588?query=продавец\n",
      "Статус: 200\n"
     ]
    },
    {
     "name": "stderr",
     "output_type": "stream",
     "text": [
      "\n",
      "\n",
      "\n",
      "\n",
      "\n",
      "\n",
      "\n",
      "\n",
      "\n",
      "\n",
      "\n",
      "\n",
      "\n",
      " 43%|██████████████████████████████████▊                                              | 43/100 [00:16<00:24,  2.28it/s]"
     ]
    },
    {
     "name": "stdout",
     "output_type": "stream",
     "text": [
      "https://hh.ru/vacancy/37554817?query=продавец\n",
      "Статус: 200\n"
     ]
    },
    {
     "name": "stderr",
     "output_type": "stream",
     "text": [
      "\n",
      "\n",
      "\n",
      "\n",
      "\n",
      "\n",
      "\n",
      "\n",
      "\n",
      "\n",
      "\n",
      "\n",
      "\n",
      " 44%|███████████████████████████████████▋                                             | 44/100 [00:17<00:22,  2.48it/s]"
     ]
    },
    {
     "name": "stdout",
     "output_type": "stream",
     "text": [
      "https://hh.ru/vacancy/37318625?query=продавец\n",
      "Статус: 200\n"
     ]
    },
    {
     "name": "stderr",
     "output_type": "stream",
     "text": [
      "\n",
      "\n",
      "\n",
      "\n",
      "\n",
      "\n",
      "\n",
      "\n",
      "\n",
      "\n",
      "\n",
      "\n",
      "\n",
      " 45%|████████████████████████████████████▍                                            | 45/100 [00:17<00:21,  2.50it/s]"
     ]
    },
    {
     "name": "stdout",
     "output_type": "stream",
     "text": [
      "https://hh.ru/vacancy/37435033?query=продавец\n",
      "Статус: 200\n"
     ]
    },
    {
     "name": "stderr",
     "output_type": "stream",
     "text": [
      "\n",
      "\n",
      "\n",
      "\n",
      "\n",
      "\n",
      "\n",
      "\n",
      "\n",
      "\n",
      "\n",
      "\n",
      "\n",
      " 46%|█████████████████████████████████████▎                                           | 46/100 [00:18<00:21,  2.50it/s]"
     ]
    },
    {
     "name": "stdout",
     "output_type": "stream",
     "text": [
      "https://hh.ru/vacancy/37687111?query=продавец\n",
      "Статус: 200\n"
     ]
    },
    {
     "name": "stderr",
     "output_type": "stream",
     "text": [
      "\n",
      "\n",
      "\n",
      "\n",
      "\n",
      "\n",
      "\n",
      "\n",
      "\n",
      "\n",
      "\n",
      "\n",
      "\n",
      " 47%|██████████████████████████████████████                                           | 47/100 [00:18<00:21,  2.50it/s]"
     ]
    },
    {
     "name": "stdout",
     "output_type": "stream",
     "text": [
      "https://hh.ru/vacancy/37445094?query=продавец\n",
      "Статус: 200\n"
     ]
    },
    {
     "name": "stderr",
     "output_type": "stream",
     "text": [
      "\n",
      "\n",
      "\n",
      "\n",
      "\n",
      "\n",
      "\n",
      "\n",
      "\n",
      "\n",
      "\n",
      "\n",
      "\n",
      " 48%|██████████████████████████████████████▉                                          | 48/100 [00:18<00:20,  2.51it/s]"
     ]
    },
    {
     "name": "stdout",
     "output_type": "stream",
     "text": [
      "https://hh.ru/vacancy/34825281?query=продавец\n",
      "Статус: 200\n"
     ]
    },
    {
     "name": "stderr",
     "output_type": "stream",
     "text": [
      "\n",
      "\n",
      "\n",
      "\n",
      "\n",
      "\n",
      "\n",
      "\n",
      "\n",
      "\n",
      "\n",
      "\n",
      "\n",
      " 49%|███████████████████████████████████████▋                                         | 49/100 [00:19<00:20,  2.45it/s]"
     ]
    },
    {
     "name": "stdout",
     "output_type": "stream",
     "text": [
      "https://hh.ru/vacancy/36465735?query=продавец\n",
      "Статус: 200\n"
     ]
    },
    {
     "name": "stderr",
     "output_type": "stream",
     "text": [
      "\n",
      "\n",
      "\n",
      "\n",
      "\n",
      "\n",
      "\n",
      "\n",
      "\n",
      "\n",
      "\n",
      "\n",
      "\n",
      " 50%|████████████████████████████████████████▌                                        | 50/100 [00:19<00:20,  2.48it/s]"
     ]
    },
    {
     "name": "stdout",
     "output_type": "stream",
     "text": [
      "https://hh.ru/vacancy/37213285?query=продавец\n",
      "Статус: 200\n"
     ]
    },
    {
     "name": "stderr",
     "output_type": "stream",
     "text": [
      "\n",
      "\n",
      "\n",
      "\n",
      "\n",
      "\n",
      "\n",
      "\n",
      "\n",
      "\n",
      "\n",
      "\n",
      "\n",
      " 51%|█████████████████████████████████████████▎                                       | 51/100 [00:20<00:19,  2.55it/s]"
     ]
    },
    {
     "name": "stdout",
     "output_type": "stream",
     "text": [
      "https://hh.ru/vacancy/37474622?query=продавец\n",
      "Статус: 200\n"
     ]
    },
    {
     "name": "stderr",
     "output_type": "stream",
     "text": [
      "\n",
      "\n",
      "\n",
      "\n",
      "\n",
      "\n",
      "\n",
      "\n",
      "\n",
      "\n",
      "\n",
      "\n",
      "\n",
      " 52%|██████████████████████████████████████████                                       | 52/100 [00:20<00:19,  2.40it/s]"
     ]
    },
    {
     "name": "stdout",
     "output_type": "stream",
     "text": [
      "https://hh.ru/vacancy/37130738?query=продавец\n",
      "Статус: 200\n"
     ]
    },
    {
     "name": "stderr",
     "output_type": "stream",
     "text": [
      "\n",
      "\n",
      "\n",
      "\n",
      "\n",
      "\n",
      "\n",
      "\n",
      "\n",
      "\n",
      "\n",
      "\n",
      "\n",
      " 53%|██████████████████████████████████████████▉                                      | 53/100 [00:20<00:19,  2.43it/s]"
     ]
    },
    {
     "name": "stdout",
     "output_type": "stream",
     "text": [
      "https://hh.ru/vacancy/37573381?query=продавец\n",
      "Статус: 200\n"
     ]
    },
    {
     "name": "stderr",
     "output_type": "stream",
     "text": [
      "\n",
      "\n",
      "\n",
      "\n",
      "\n",
      "\n",
      "\n",
      "\n",
      "\n",
      "\n",
      "\n",
      "\n",
      "\n",
      " 54%|███████████████████████████████████████████▋                                     | 54/100 [00:21<00:17,  2.59it/s]"
     ]
    },
    {
     "name": "stdout",
     "output_type": "stream",
     "text": [
      "https://hh.ru/vacancy/37290468?query=продавец\n",
      "Статус: 200\n"
     ]
    },
    {
     "name": "stderr",
     "output_type": "stream",
     "text": [
      "\n",
      "\n",
      "\n",
      "\n",
      "\n",
      "\n",
      "\n",
      "\n",
      "\n",
      "\n",
      "\n",
      "\n",
      "\n",
      " 55%|████████████████████████████████████████████▌                                    | 55/100 [00:21<00:16,  2.76it/s]"
     ]
    },
    {
     "name": "stdout",
     "output_type": "stream",
     "text": [
      "https://hh.ru/vacancy/37304033?query=продавец\n",
      "Статус: 200\n"
     ]
    },
    {
     "name": "stderr",
     "output_type": "stream",
     "text": [
      "\n",
      "\n",
      "\n",
      "\n",
      "\n",
      "\n",
      "\n",
      "\n",
      "\n",
      "\n",
      "\n",
      "\n",
      "\n",
      " 56%|█████████████████████████████████████████████▎                                   | 56/100 [00:21<00:15,  2.80it/s]"
     ]
    },
    {
     "name": "stdout",
     "output_type": "stream",
     "text": [
      "https://hh.ru/vacancy/36914436?query=продавец\n",
      "Статус: 200\n"
     ]
    },
    {
     "name": "stderr",
     "output_type": "stream",
     "text": [
      "\n",
      "\n",
      "\n",
      "\n",
      "\n",
      "\n",
      "\n",
      "\n",
      "\n",
      "\n",
      "\n",
      "\n",
      "\n",
      " 57%|██████████████████████████████████████████████▏                                  | 57/100 [00:22<00:15,  2.82it/s]"
     ]
    },
    {
     "name": "stdout",
     "output_type": "stream",
     "text": [
      "https://hh.ru/vacancy/37273285?query=продавец\n",
      "Статус: 200\n"
     ]
    },
    {
     "name": "stderr",
     "output_type": "stream",
     "text": [
      "\n",
      "\n",
      "\n",
      "\n",
      "\n",
      "\n",
      "\n",
      "\n",
      "\n",
      "\n",
      "\n",
      "\n",
      "\n",
      " 58%|██████████████████████████████████████████████▉                                  | 58/100 [00:22<00:17,  2.44it/s]"
     ]
    },
    {
     "name": "stdout",
     "output_type": "stream",
     "text": [
      "https://hh.ru/vacancy/37417366?query=продавец\n",
      "Статус: 200\n"
     ]
    },
    {
     "name": "stderr",
     "output_type": "stream",
     "text": [
      "\n",
      "\n",
      "\n",
      "\n",
      "\n",
      "\n",
      "\n",
      "\n",
      "\n",
      "\n",
      "\n",
      "\n",
      "\n",
      " 59%|███████████████████████████████████████████████▊                                 | 59/100 [00:23<00:17,  2.33it/s]"
     ]
    },
    {
     "name": "stdout",
     "output_type": "stream",
     "text": [
      "https://hh.ru/vacancy/36749858?query=продавец\n",
      "Статус: 200\n"
     ]
    },
    {
     "name": "stderr",
     "output_type": "stream",
     "text": [
      "\n",
      "\n",
      "\n",
      "\n",
      "\n",
      "\n",
      "\n",
      "\n",
      "\n",
      "\n",
      "\n",
      "\n",
      "\n",
      " 60%|████████████████████████████████████████████████▌                                | 60/100 [00:23<00:17,  2.28it/s]"
     ]
    },
    {
     "name": "stdout",
     "output_type": "stream",
     "text": [
      "https://hh.ru/vacancy/37144645?query=продавец\n",
      "Статус: 200\n"
     ]
    },
    {
     "name": "stderr",
     "output_type": "stream",
     "text": [
      "\n",
      "\n",
      "\n",
      "\n",
      "\n",
      "\n",
      "\n",
      "\n",
      "\n",
      "\n",
      "\n",
      "\n",
      "\n",
      " 61%|█████████████████████████████████████████████████▍                               | 61/100 [00:24<00:15,  2.50it/s]"
     ]
    },
    {
     "name": "stdout",
     "output_type": "stream",
     "text": [
      "https://hh.ru/vacancy/33509332?query=продавец\n",
      "Статус: 200\n"
     ]
    },
    {
     "name": "stderr",
     "output_type": "stream",
     "text": [
      "\n",
      "\n",
      "\n",
      "\n",
      "\n",
      "\n",
      "\n",
      "\n",
      "\n",
      "\n",
      "\n",
      "\n",
      "\n",
      " 62%|██████████████████████████████████████████████████▏                              | 62/100 [00:24<00:15,  2.43it/s]"
     ]
    },
    {
     "name": "stdout",
     "output_type": "stream",
     "text": [
      "https://hh.ru/vacancy/37483784?query=продавец\n",
      "Статус: 200\n"
     ]
    },
    {
     "name": "stderr",
     "output_type": "stream",
     "text": [
      "\n",
      "\n",
      "\n",
      "\n",
      "\n",
      "\n",
      "\n",
      "\n",
      "\n",
      "\n",
      "\n",
      "\n",
      "\n",
      " 63%|███████████████████████████████████████████████████                              | 63/100 [00:25<00:17,  2.16it/s]"
     ]
    },
    {
     "name": "stdout",
     "output_type": "stream",
     "text": [
      "https://hh.ru/vacancy/37356067?query=продавец\n",
      "Статус: 200\n"
     ]
    },
    {
     "name": "stderr",
     "output_type": "stream",
     "text": [
      "\n",
      "\n",
      "\n",
      "\n",
      "\n",
      "\n",
      "\n",
      "\n",
      "\n",
      "\n",
      "\n",
      "\n",
      "\n",
      " 64%|███████████████████████████████████████████████████▊                             | 64/100 [00:25<00:15,  2.28it/s]"
     ]
    },
    {
     "name": "stdout",
     "output_type": "stream",
     "text": [
      "https://hh.ru/vacancy/37269321?query=продавец\n",
      "Статус: 200\n"
     ]
    },
    {
     "name": "stderr",
     "output_type": "stream",
     "text": [
      "\n",
      "\n",
      "\n",
      "\n",
      "\n",
      "\n",
      "\n",
      "\n",
      "\n",
      "\n",
      "\n",
      "\n",
      "\n",
      " 65%|████████████████████████████████████████████████████▋                            | 65/100 [00:25<00:14,  2.43it/s]"
     ]
    },
    {
     "name": "stdout",
     "output_type": "stream",
     "text": [
      "https://hh.ru/vacancy/37535141?query=продавец\n",
      "Статус: 200\n"
     ]
    },
    {
     "name": "stderr",
     "output_type": "stream",
     "text": [
      "\n",
      "\n",
      "\n",
      "\n",
      "\n",
      "\n",
      "\n",
      "\n",
      "\n",
      "\n",
      "\n",
      "\n",
      "\n",
      " 66%|█████████████████████████████████████████████████████▍                           | 66/100 [00:26<00:13,  2.45it/s]"
     ]
    },
    {
     "name": "stdout",
     "output_type": "stream",
     "text": [
      "https://hh.ru/vacancy/37651923?query=продавец\n",
      "Статус: 200\n"
     ]
    },
    {
     "name": "stderr",
     "output_type": "stream",
     "text": [
      "\n",
      "\n",
      "\n",
      "\n",
      "\n",
      "\n",
      "\n",
      "\n",
      "\n",
      "\n",
      "\n",
      "\n",
      "\n",
      " 67%|██████████████████████████████████████████████████████▎                          | 67/100 [00:26<00:13,  2.42it/s]"
     ]
    },
    {
     "name": "stdout",
     "output_type": "stream",
     "text": [
      "https://hh.ru/vacancy/37529031?query=продавец\n",
      "Статус: 200\n"
     ]
    },
    {
     "name": "stderr",
     "output_type": "stream",
     "text": [
      "\n",
      "\n",
      "\n",
      "\n",
      "\n",
      "\n",
      "\n",
      "\n",
      "\n",
      "\n",
      "\n",
      "\n",
      "\n",
      " 68%|███████████████████████████████████████████████████████                          | 68/100 [00:26<00:13,  2.44it/s]"
     ]
    },
    {
     "name": "stdout",
     "output_type": "stream",
     "text": [
      "https://hh.ru/vacancy/37342856?query=продавец\n",
      "Статус: 200\n"
     ]
    },
    {
     "name": "stderr",
     "output_type": "stream",
     "text": [
      "\n",
      "\n",
      "\n",
      "\n",
      "\n",
      "\n",
      "\n",
      "\n",
      "\n",
      "\n",
      "\n",
      "\n",
      "\n",
      " 69%|███████████████████████████████████████████████████████▉                         | 69/100 [00:27<00:11,  2.67it/s]"
     ]
    },
    {
     "name": "stdout",
     "output_type": "stream",
     "text": [
      "https://hh.ru/vacancy/37454987?query=продавец\n",
      "Статус: 200\n"
     ]
    },
    {
     "name": "stderr",
     "output_type": "stream",
     "text": [
      "\n",
      "\n",
      "\n",
      "\n",
      "\n",
      "\n",
      "\n",
      "\n",
      "\n",
      "\n",
      "\n",
      "\n",
      "\n",
      " 70%|████████████████████████████████████████████████████████▋                        | 70/100 [00:27<00:10,  2.82it/s]"
     ]
    },
    {
     "name": "stdout",
     "output_type": "stream",
     "text": [
      "https://hh.ru/vacancy/37698606?query=продавец\n",
      "Статус: 200\n"
     ]
    },
    {
     "name": "stderr",
     "output_type": "stream",
     "text": [
      "\n",
      "\n",
      "\n",
      "\n",
      "\n",
      "\n",
      "\n",
      "\n",
      "\n",
      "\n",
      "\n",
      "\n",
      "\n",
      " 71%|█████████████████████████████████████████████████████████▌                       | 71/100 [00:27<00:10,  2.76it/s]"
     ]
    },
    {
     "name": "stdout",
     "output_type": "stream",
     "text": [
      "https://hh.ru/vacancy/37613839?query=продавец\n",
      "Статус: 200\n"
     ]
    },
    {
     "name": "stderr",
     "output_type": "stream",
     "text": [
      "\n",
      "\n",
      "\n",
      "\n",
      "\n",
      "\n",
      "\n",
      "\n",
      "\n",
      "\n",
      "\n",
      "\n",
      "\n",
      " 72%|██████████████████████████████████████████████████████████▎                      | 72/100 [00:28<00:10,  2.56it/s]"
     ]
    },
    {
     "name": "stdout",
     "output_type": "stream",
     "text": [
      "https://hh.ru/vacancy/37662879?query=продавец\n",
      "Статус: 200\n"
     ]
    },
    {
     "name": "stderr",
     "output_type": "stream",
     "text": [
      "\n",
      "\n",
      "\n",
      "\n",
      "\n",
      "\n",
      "\n",
      "\n",
      "\n",
      "\n",
      "\n",
      "\n",
      "\n",
      " 73%|███████████████████████████████████████████████████████████▏                     | 73/100 [00:28<00:10,  2.49it/s]"
     ]
    },
    {
     "name": "stdout",
     "output_type": "stream",
     "text": [
      "https://hh.ru/vacancy/36926638?query=продавец\n",
      "Статус: 200\n"
     ]
    },
    {
     "name": "stderr",
     "output_type": "stream",
     "text": [
      "\n",
      "\n",
      "\n",
      "\n",
      "\n",
      "\n",
      "\n",
      "\n",
      "\n",
      "\n",
      "\n",
      "\n",
      "\n",
      " 74%|███████████████████████████████████████████████████████████▉                     | 74/100 [00:29<00:11,  2.27it/s]"
     ]
    },
    {
     "name": "stdout",
     "output_type": "stream",
     "text": [
      "https://hh.ru/vacancy/37277566?query=продавец\n",
      "Статус: 200\n"
     ]
    },
    {
     "name": "stderr",
     "output_type": "stream",
     "text": [
      "\n",
      "\n",
      "\n",
      "\n",
      "\n",
      "\n",
      "\n",
      "\n",
      "\n",
      "\n",
      "\n",
      "\n",
      "\n",
      " 75%|████████████████████████████████████████████████████████████▊                    | 75/100 [00:29<00:10,  2.39it/s]"
     ]
    },
    {
     "name": "stdout",
     "output_type": "stream",
     "text": [
      "https://hh.ru/vacancy/37503916?query=продавец\n",
      "Статус: 200\n"
     ]
    },
    {
     "name": "stderr",
     "output_type": "stream",
     "text": [
      "\n",
      "\n",
      "\n",
      "\n",
      "\n",
      "\n",
      "\n",
      "\n",
      "\n",
      "\n",
      "\n",
      "\n",
      "\n",
      " 76%|█████████████████████████████████████████████████████████████▌                   | 76/100 [00:30<00:09,  2.51it/s]"
     ]
    },
    {
     "name": "stdout",
     "output_type": "stream",
     "text": [
      "https://hh.ru/vacancy/37548368?query=продавец\n",
      "Статус: 200\n"
     ]
    },
    {
     "name": "stderr",
     "output_type": "stream",
     "text": [
      "\n",
      "\n",
      "\n",
      "\n",
      "\n",
      "\n",
      "\n",
      "\n",
      "\n",
      "\n",
      "\n",
      "\n",
      "\n",
      " 77%|██████████████████████████████████████████████████████████████▎                  | 77/100 [00:30<00:09,  2.53it/s]"
     ]
    },
    {
     "name": "stdout",
     "output_type": "stream",
     "text": [
      "https://hh.ru/vacancy/37500970?query=продавец\n",
      "Статус: 200\n"
     ]
    },
    {
     "name": "stderr",
     "output_type": "stream",
     "text": [
      "\n",
      "\n",
      "\n",
      "\n",
      "\n",
      "\n",
      "\n",
      "\n",
      "\n",
      "\n",
      "\n",
      "\n",
      "\n",
      " 78%|███████████████████████████████████████████████████████████████▏                 | 78/100 [00:30<00:08,  2.65it/s]"
     ]
    },
    {
     "name": "stdout",
     "output_type": "stream",
     "text": [
      "https://hh.ru/vacancy/36708665?query=продавец\n",
      "Статус: 200\n"
     ]
    },
    {
     "name": "stderr",
     "output_type": "stream",
     "text": [
      "\n",
      "\n",
      "\n",
      "\n",
      "\n",
      "\n",
      "\n",
      "\n",
      "\n",
      "\n",
      "\n",
      "\n",
      "\n",
      " 79%|███████████████████████████████████████████████████████████████▉                 | 79/100 [00:31<00:08,  2.46it/s]"
     ]
    },
    {
     "name": "stdout",
     "output_type": "stream",
     "text": [
      "https://hh.ru/vacancy/37045967?query=продавец\n",
      "Статус: 200\n"
     ]
    },
    {
     "name": "stderr",
     "output_type": "stream",
     "text": [
      "\n",
      "\n",
      "\n",
      "\n",
      "\n",
      "\n",
      "\n",
      "\n",
      "\n",
      "\n",
      "\n",
      "\n",
      "\n",
      " 80%|████████████████████████████████████████████████████████████████▊                | 80/100 [00:31<00:07,  2.53it/s]"
     ]
    },
    {
     "name": "stdout",
     "output_type": "stream",
     "text": [
      "https://hh.ru/vacancy/37651366?query=продавец\n",
      "Статус: 200\n"
     ]
    },
    {
     "name": "stderr",
     "output_type": "stream",
     "text": [
      "\n",
      "\n",
      "\n",
      "\n",
      "\n",
      "\n",
      "\n",
      "\n",
      "\n",
      "\n",
      "\n",
      "\n",
      "\n",
      " 81%|█████████████████████████████████████████████████████████████████▌               | 81/100 [00:32<00:07,  2.52it/s]"
     ]
    },
    {
     "name": "stdout",
     "output_type": "stream",
     "text": [
      "https://hh.ru/vacancy/37721635?query=продавец\n",
      "Статус: 200\n"
     ]
    },
    {
     "name": "stderr",
     "output_type": "stream",
     "text": [
      "\n",
      "\n",
      "\n",
      "\n",
      "\n",
      "\n",
      "\n",
      "\n",
      "\n",
      "\n",
      "\n",
      "\n",
      "\n",
      " 82%|██████████████████████████████████████████████████████████████████▍              | 82/100 [00:32<00:06,  2.58it/s]"
     ]
    },
    {
     "name": "stdout",
     "output_type": "stream",
     "text": [
      "https://hh.ru/vacancy/37494281?query=продавец\n",
      "Статус: 200\n"
     ]
    },
    {
     "name": "stderr",
     "output_type": "stream",
     "text": [
      "\n",
      "\n",
      "\n",
      "\n",
      "\n",
      "\n",
      "\n",
      "\n",
      "\n",
      "\n",
      "\n",
      "\n",
      "\n",
      " 83%|███████████████████████████████████████████████████████████████████▏             | 83/100 [00:32<00:06,  2.71it/s]"
     ]
    },
    {
     "name": "stdout",
     "output_type": "stream",
     "text": [
      "https://hh.ru/vacancy/37369178?query=продавец\n",
      "Статус: 200\n"
     ]
    },
    {
     "name": "stderr",
     "output_type": "stream",
     "text": [
      "\n",
      "\n",
      "\n",
      "\n",
      "\n",
      "\n",
      "\n",
      "\n",
      "\n",
      "\n",
      "\n",
      "\n",
      "\n",
      " 84%|████████████████████████████████████████████████████████████████████             | 84/100 [00:33<00:05,  2.75it/s]"
     ]
    },
    {
     "name": "stdout",
     "output_type": "stream",
     "text": [
      "https://hh.ru/vacancy/37553248?query=продавец\n",
      "Статус: 200\n"
     ]
    },
    {
     "name": "stderr",
     "output_type": "stream",
     "text": [
      "\n",
      "\n",
      "\n",
      "\n",
      "\n",
      "\n",
      "\n",
      "\n",
      "\n",
      "\n",
      "\n",
      "\n",
      "\n",
      " 85%|████████████████████████████████████████████████████████████████████▊            | 85/100 [00:33<00:06,  2.48it/s]"
     ]
    },
    {
     "name": "stdout",
     "output_type": "stream",
     "text": [
      "https://hh.ru/vacancy/36467720?query=продавец\n",
      "Статус: 200\n"
     ]
    },
    {
     "name": "stderr",
     "output_type": "stream",
     "text": [
      "\n",
      "\n",
      "\n",
      "\n",
      "\n",
      "\n",
      "\n",
      "\n",
      "\n",
      "\n",
      "\n",
      "\n",
      "\n",
      " 86%|█████████████████████████████████████████████████████████████████████▋           | 86/100 [00:34<00:05,  2.40it/s]"
     ]
    },
    {
     "name": "stdout",
     "output_type": "stream",
     "text": [
      "https://hh.ru/vacancy/37667726?query=продавец\n",
      "Статус: 200\n"
     ]
    },
    {
     "name": "stderr",
     "output_type": "stream",
     "text": [
      "\n",
      "\n",
      "\n",
      "\n",
      "\n",
      "\n",
      "\n",
      "\n",
      "\n",
      "\n",
      "\n",
      "\n",
      "\n",
      " 87%|██████████████████████████████████████████████████████████████████████▍          | 87/100 [00:34<00:05,  2.49it/s]"
     ]
    },
    {
     "name": "stdout",
     "output_type": "stream",
     "text": [
      "https://hh.ru/vacancy/37483265?query=продавец\n",
      "Статус: 200\n"
     ]
    },
    {
     "name": "stderr",
     "output_type": "stream",
     "text": [
      "\n",
      "\n",
      "\n",
      "\n",
      "\n",
      "\n",
      "\n",
      "\n",
      "\n",
      "\n",
      "\n",
      "\n",
      "\n",
      " 88%|███████████████████████████████████████████████████████████████████████▎         | 88/100 [00:34<00:04,  2.65it/s]"
     ]
    },
    {
     "name": "stdout",
     "output_type": "stream",
     "text": [
      "https://hh.ru/vacancy/36913267?query=продавец\n",
      "Статус: 200\n"
     ]
    },
    {
     "name": "stderr",
     "output_type": "stream",
     "text": [
      "\n",
      "\n",
      "\n",
      "\n",
      "\n",
      "\n",
      "\n",
      "\n",
      "\n",
      "\n",
      "\n",
      "\n",
      "\n",
      " 89%|████████████████████████████████████████████████████████████████████████         | 89/100 [00:35<00:04,  2.56it/s]"
     ]
    },
    {
     "name": "stdout",
     "output_type": "stream",
     "text": [
      "https://hh.ru/vacancy/36528890?query=продавец\n",
      "Статус: 200\n"
     ]
    },
    {
     "name": "stderr",
     "output_type": "stream",
     "text": [
      "\n",
      "\n",
      "\n",
      "\n",
      "\n",
      "\n",
      "\n",
      "\n",
      "\n",
      "\n",
      "\n",
      "\n",
      "\n",
      " 90%|████████████████████████████████████████████████████████████████████████▉        | 90/100 [00:35<00:03,  2.51it/s]"
     ]
    },
    {
     "name": "stdout",
     "output_type": "stream",
     "text": [
      "https://hh.ru/vacancy/37143772?query=продавец\n",
      "Статус: 200\n"
     ]
    },
    {
     "name": "stderr",
     "output_type": "stream",
     "text": [
      "\n",
      "\n",
      "\n",
      "\n",
      "\n",
      "\n",
      "\n",
      "\n",
      "\n",
      "\n",
      "\n",
      "\n",
      "\n",
      " 91%|█████████████████████████████████████████████████████████████████████████▋       | 91/100 [00:35<00:03,  2.63it/s]"
     ]
    },
    {
     "name": "stdout",
     "output_type": "stream",
     "text": [
      "https://hh.ru/vacancy/36940493?query=продавец\n",
      "Статус: 200\n"
     ]
    },
    {
     "name": "stderr",
     "output_type": "stream",
     "text": [
      "\n",
      "\n",
      "\n",
      "\n",
      "\n",
      "\n",
      "\n",
      "\n",
      "\n",
      "\n",
      "\n",
      "\n",
      "\n",
      " 92%|██████████████████████████████████████████████████████████████████████████▌      | 92/100 [00:36<00:03,  2.67it/s]"
     ]
    },
    {
     "name": "stdout",
     "output_type": "stream",
     "text": [
      "https://hh.ru/vacancy/37484942?query=продавец\n",
      "Статус: 200\n"
     ]
    },
    {
     "name": "stderr",
     "output_type": "stream",
     "text": [
      "\n",
      "\n",
      "\n",
      "\n",
      "\n",
      "\n",
      "\n",
      "\n",
      "\n",
      "\n",
      "\n",
      "\n",
      "\n",
      " 93%|███████████████████████████████████████████████████████████████████████████▎     | 93/100 [00:36<00:02,  2.71it/s]"
     ]
    },
    {
     "name": "stdout",
     "output_type": "stream",
     "text": [
      "https://hh.ru/vacancy/37409149?query=продавец\n",
      "Статус: 200\n"
     ]
    },
    {
     "name": "stderr",
     "output_type": "stream",
     "text": [
      "\n",
      "\n",
      "\n",
      "\n",
      "\n",
      "\n",
      "\n",
      "\n",
      "\n",
      "\n",
      "\n",
      "\n",
      "\n",
      " 94%|████████████████████████████████████████████████████████████████████████████▏    | 94/100 [00:36<00:02,  2.82it/s]"
     ]
    },
    {
     "name": "stdout",
     "output_type": "stream",
     "text": [
      "https://hh.ru/vacancy/37460345?query=продавец\n",
      "Статус: 200\n"
     ]
    },
    {
     "name": "stderr",
     "output_type": "stream",
     "text": [
      "\n",
      "\n",
      "\n",
      "\n",
      "\n",
      "\n",
      "\n",
      "\n",
      "\n",
      "\n",
      "\n",
      "\n",
      "\n",
      " 95%|████████████████████████████████████████████████████████████████████████████▉    | 95/100 [00:37<00:01,  2.85it/s]"
     ]
    },
    {
     "name": "stdout",
     "output_type": "stream",
     "text": [
      "https://hh.ru/vacancy/37728849?query=продавец\n",
      "Статус: 200\n"
     ]
    },
    {
     "name": "stderr",
     "output_type": "stream",
     "text": [
      "\n",
      "\n",
      "\n",
      "\n",
      "\n",
      "\n",
      "\n",
      "\n",
      "\n",
      "\n",
      "\n",
      "\n",
      "\n",
      " 96%|█████████████████████████████████████████████████████████████████████████████▊   | 96/100 [00:37<00:01,  2.95it/s]"
     ]
    },
    {
     "name": "stdout",
     "output_type": "stream",
     "text": [
      "https://hh.ru/vacancy/37608514?query=продавец\n",
      "Статус: 200\n"
     ]
    },
    {
     "name": "stderr",
     "output_type": "stream",
     "text": [
      "\n",
      "\n",
      "\n",
      "\n",
      "\n",
      "\n",
      "\n",
      "\n",
      "\n",
      "\n",
      "\n",
      "\n",
      "\n",
      " 97%|██████████████████████████████████████████████████████████████████████████████▌  | 97/100 [00:38<00:01,  2.74it/s]"
     ]
    },
    {
     "name": "stdout",
     "output_type": "stream",
     "text": [
      "https://hh.ru/vacancy/37428610?query=продавец\n",
      "Статус: 200\n"
     ]
    },
    {
     "name": "stderr",
     "output_type": "stream",
     "text": [
      "\n",
      "\n",
      "\n",
      "\n",
      "\n",
      "\n",
      "\n",
      "\n",
      "\n",
      "\n",
      "\n",
      "\n",
      "\n",
      " 98%|███████████████████████████████████████████████████████████████████████████████▍ | 98/100 [00:38<00:00,  2.62it/s]"
     ]
    },
    {
     "name": "stdout",
     "output_type": "stream",
     "text": [
      "https://hh.ru/vacancy/37452713?query=продавец\n",
      "Статус: 200\n"
     ]
    },
    {
     "name": "stderr",
     "output_type": "stream",
     "text": [
      "\n",
      "\n",
      "\n",
      "\n",
      "\n",
      "\n",
      "\n",
      "\n",
      "\n",
      "\n",
      "\n",
      "\n",
      "\n",
      " 99%|████████████████████████████████████████████████████████████████████████████████▏| 99/100 [00:38<00:00,  2.77it/s]"
     ]
    },
    {
     "name": "stdout",
     "output_type": "stream",
     "text": [
      "https://hh.ru/vacancy/22089648?query=продавец\n",
      "Статус: 200\n"
     ]
    },
    {
     "name": "stderr",
     "output_type": "stream",
     "text": [
      "\n",
      "\n",
      "\n",
      "\n",
      "\n",
      "\n",
      "\n",
      "\n",
      "\n",
      "\n",
      "\n",
      "\n",
      "\n",
      "100%|████████████████████████████████████████████████████████████████████████████████| 100/100 [00:39<00:00,  2.78it/s]"
     ]
    },
    {
     "name": "stdout",
     "output_type": "stream",
     "text": [
      "Количество записей  100 Количество обработанных адресов 100\n"
     ]
    }
   ],
   "source": [
    "data_f = []\n",
    "count_ok = 0\n",
    "for href in tqdm(links[:100]):\n",
    "#     time.sleep(randint(2,10))\n",
    "    print(f\"{href}\")        \n",
    "    req = rq.get(f\"{href}\", headers=headers)\n",
    "    print(f\"Статус: {req.status_code}\")     \n",
    "    soup = bs(req.text, 'html.parser')\n",
    "\n",
    "    el = {}\n",
    "    \n",
    "    v1 = soup.find(\"script\", attrs={'data-name':\"HH/GoogleDfpService\"})\n",
    "    if v1:\n",
    "        dd = v1.get('data-params')    \n",
    "        salary_min = dict(json.loads(dd))['vac_salary_from']\n",
    "        salary_max = dict(json.loads(dd))['vac_salary_to']\n",
    "        lat = np.nan\n",
    "        lon = np.nan\n",
    "        employer = soup.find(\"span\", attrs={'class':\"bloko-section-header-2 bloko-section-header-2_lite\"}).text\n",
    "        city = soup.find(\"p\", attrs={'data-qa':\"vacancy-view-location\"}).text\n",
    "        \n",
    "        ids1 = soup.find(\"script\", attrs={'data-name':'HH/VacancyResponsePopup/VacancyResponsePopup'})\n",
    "        if ids1:\n",
    "            ids = ids1.get('data-params')\n",
    "            id_point =  dict(json.loads(ids))['vacancyId']\n",
    "        \n",
    "        ids2 = soup.find(\"input\", attrs={'name':'vacancyId'})\n",
    "        if ids2:\n",
    "            id_point = ids2.get('value')         \n",
    "        \n",
    "        currency = dict(json.loads(dd))['vac_salary_cur']\n",
    "        date1 = soup.find(\"script\", attrs={'type':\"application/ld+json\"})\n",
    "        if date1:\n",
    "            ff = date1.text\n",
    "            date = dict(json.loads(ff))['datePosted']\n",
    "            name = dict(json.loads(ff))['title']\n",
    "\n",
    "        \n",
    "        date2 = soup.find(\"span\", attrs={'class':\"vacancy-serp-item__publication-date\"})\n",
    "        if date2:\n",
    "            date = date2.text.replace('\\xa0', ' ')   \n",
    "        \n",
    "        date3 = soup.find(\"p\", attrs={'class':\"vacancy-creation-time\"})\n",
    "        if date3:\n",
    "            date = date3.text.split('Вакансия опубликована')[1].split(' в ')[0].replace('\\xa0', ' ').strip()  \n",
    "        \n",
    "        \n",
    "        name = soup.find(\"h1\", attrs={'data-qa':\"vacancy-title\"}).text\n",
    "    \n",
    "    \n",
    "    v2 = soup.find(\"script\", attrs={'data-name':\"HH/Employer/VacancyCard/VacancyMap\"})\n",
    "    if v2:\n",
    "        dd = v2.get('data-params')    \n",
    "        salary_min = dict(json.loads(dd))['cianPlacemarks']['compensation']['from']\n",
    "        salary_max = dict(json.loads(dd))['cianPlacemarks']['compensation']['to']\n",
    "        lat = dict(json.loads(dd))['address']['mapData']['points']['marker']['lat']\n",
    "        lon = dict(json.loads(dd))['address']['mapData']['points']['marker']['lng']\n",
    "        city = dict(json.loads(dd))['address']['city']\n",
    "        employer = soup.find(\"span\", attrs={'class':\"bloko-section-header-2 bloko-section-header-2_lite\"}).text\n",
    "        ids = soup.find(\"script\", attrs={'data-name':\"HH/Vacancy/SendResponseAttempt\"}).get('data-params')\n",
    "        id_point = dict(json.loads(ids))['vacancyId']\n",
    "        currency = dict(json.loads(dd))['cianPlacemarks']['compensation']['currencyCode']\n",
    "        \n",
    "        if date:\n",
    "            pass\n",
    "        else:\n",
    "            date = soup.find(\"span\", attrs={'class':\"vacancy-serp-item__publication-date\"}).text.replace('\\xa0', ' ')   \n",
    "        \n",
    "        name = soup.find(\"h1\", attrs={'data-qa':\"vacancy-title\"}).text\n",
    "    \n",
    "    el.update({\n",
    "        'name' : name, \n",
    "        'link': href,\n",
    "        'publish_date': date, \n",
    "        'salary_min': salary_min,\n",
    "        'salary_max': salary_max,\n",
    "        'lat': lat,\n",
    "        'lon': lon,\n",
    "        'city': city,\n",
    "        'employer': employer,\n",
    "        'id': id_point,\n",
    "        'currency' : currency,\n",
    "        'site': 'hh.ru'\n",
    "\n",
    "    })\n",
    "    data_f.append(el)\n",
    "    count_ok += 1\n",
    "df = pd.DataFrame(data_f)\n",
    "hh = df.drop_duplicates('link')\n",
    "hh.to_pickle('raw_data_v1.pkl')\n",
    "print('Количество записей ', len(hh), 'Количество обработанных адресов', count_ok)"
   ]
  },
  {
   "cell_type": "markdown",
   "metadata": {},
   "source": [
    "***Готовый DF***"
   ]
  },
  {
   "cell_type": "code",
   "execution_count": null,
   "metadata": {},
   "outputs": [],
   "source": [
    "hh = pd.read_pickle('raw_data_v1.pkl')"
   ]
  },
  {
   "cell_type": "code",
   "execution_count": 252,
   "metadata": {
    "scrolled": true
   },
   "outputs": [
    {
     "data": {
      "text/html": [
       "<div>\n",
       "<style scoped>\n",
       "    .dataframe tbody tr th:only-of-type {\n",
       "        vertical-align: middle;\n",
       "    }\n",
       "\n",
       "    .dataframe tbody tr th {\n",
       "        vertical-align: top;\n",
       "    }\n",
       "\n",
       "    .dataframe thead th {\n",
       "        text-align: right;\n",
       "    }\n",
       "</style>\n",
       "<table border=\"1\" class=\"dataframe\">\n",
       "  <thead>\n",
       "    <tr style=\"text-align: right;\">\n",
       "      <th></th>\n",
       "      <th>name</th>\n",
       "      <th>link</th>\n",
       "      <th>publish_date</th>\n",
       "      <th>salary_min</th>\n",
       "      <th>salary_max</th>\n",
       "      <th>lat</th>\n",
       "      <th>lon</th>\n",
       "      <th>city</th>\n",
       "      <th>employer</th>\n",
       "      <th>id</th>\n",
       "      <th>currency</th>\n",
       "      <th>site</th>\n",
       "    </tr>\n",
       "  </thead>\n",
       "  <tbody>\n",
       "    <tr>\n",
       "      <td>93</td>\n",
       "      <td>Продавец-кассир (Жирновск, улица Ломоносова 73)</td>\n",
       "      <td>https://hh.ru/vacancy/37409149?query=продавец</td>\n",
       "      <td>9 июня 2020</td>\n",
       "      <td>25000</td>\n",
       "      <td>0</td>\n",
       "      <td>50.97</td>\n",
       "      <td>44.79</td>\n",
       "      <td>Жирновск</td>\n",
       "      <td>ООО Бристоль, сеть магазинов</td>\n",
       "      <td>37409149</td>\n",
       "      <td>RUR</td>\n",
       "      <td>hh.ru</td>\n",
       "    </tr>\n",
       "    <tr>\n",
       "      <td>31</td>\n",
       "      <td>Заместитель директора магазина (ул.Паустовского, м. Ясенево)</td>\n",
       "      <td>https://hh.ru/vacancy/37675291?query=продавец</td>\n",
       "      <td>25 июня 2020</td>\n",
       "      <td>47800</td>\n",
       "      <td>54900</td>\n",
       "      <td>55.60</td>\n",
       "      <td>37.54</td>\n",
       "      <td>Москва</td>\n",
       "      <td>Familia</td>\n",
       "      <td>37675291</td>\n",
       "      <td>RUR</td>\n",
       "      <td>hh.ru</td>\n",
       "    </tr>\n",
       "    <tr>\n",
       "      <td>9</td>\n",
       "      <td>Продавец \"Магнит-косметик\" (Мошково)</td>\n",
       "      <td>https://hh.ru/vacancy/37142665?query=продавец</td>\n",
       "      <td>27 июня 2020</td>\n",
       "      <td>17700</td>\n",
       "      <td></td>\n",
       "      <td>NaN</td>\n",
       "      <td>NaN</td>\n",
       "      <td>Мошково</td>\n",
       "      <td>МАГНИТ, Розничная сеть</td>\n",
       "      <td>37142665</td>\n",
       "      <td>RUR</td>\n",
       "      <td>hh.ru</td>\n",
       "    </tr>\n",
       "    <tr>\n",
       "      <td>98</td>\n",
       "      <td>Продавец-консультант (бытовой техники МБТ и КБТ)</td>\n",
       "      <td>https://hh.ru/vacancy/37452713?query=продавец</td>\n",
       "      <td>24 июня 2020</td>\n",
       "      <td>60000</td>\n",
       "      <td></td>\n",
       "      <td>NaN</td>\n",
       "      <td>NaN</td>\n",
       "      <td>деревня Чёрная Грязь, Промышленная улица, с2</td>\n",
       "      <td>HOLODILNIK.RU</td>\n",
       "      <td>37452713</td>\n",
       "      <td>RUR</td>\n",
       "      <td>hh.ru</td>\n",
       "    </tr>\n",
       "    <tr>\n",
       "      <td>77</td>\n",
       "      <td>Продавец-кассир</td>\n",
       "      <td>https://hh.ru/vacancy/37500970?query=продавец</td>\n",
       "      <td>22 июня 2020</td>\n",
       "      <td>35000</td>\n",
       "      <td></td>\n",
       "      <td>NaN</td>\n",
       "      <td>NaN</td>\n",
       "      <td>Советская Гавань, улица Чкалова, 25А</td>\n",
       "      <td>Азбука мебели</td>\n",
       "      <td>37500970</td>\n",
       "      <td>RUR</td>\n",
       "      <td>hh.ru</td>\n",
       "    </tr>\n",
       "    <tr>\n",
       "      <td>45</td>\n",
       "      <td>Старший продавец магазина \"Магнит-Косметик\"</td>\n",
       "      <td>https://hh.ru/vacancy/37435033?query=продавец</td>\n",
       "      <td>18 июня 2020</td>\n",
       "      <td>35000</td>\n",
       "      <td>43300</td>\n",
       "      <td>NaN</td>\n",
       "      <td>NaN</td>\n",
       "      <td>Химки</td>\n",
       "      <td>МАГНИТ, Розничная сеть</td>\n",
       "      <td>37435033</td>\n",
       "      <td>RUR</td>\n",
       "      <td>hh.ru</td>\n",
       "    </tr>\n",
       "    <tr>\n",
       "      <td>16</td>\n",
       "      <td>Продавец-кассир (посёлок городского типа Тереньга, Ульяновская улица, 22)</td>\n",
       "      <td>https://hh.ru/vacancy/37164412?query=продавец</td>\n",
       "      <td>27 июня 2020</td>\n",
       "      <td>18000</td>\n",
       "      <td>24000</td>\n",
       "      <td>53.715663</td>\n",
       "      <td>48.368098</td>\n",
       "      <td>рабочий поселок Тереньга</td>\n",
       "      <td>Пятёрочка. Магазины</td>\n",
       "      <td>37164412</td>\n",
       "      <td>RUR</td>\n",
       "      <td>hh.ru</td>\n",
       "    </tr>\n",
       "    <tr>\n",
       "      <td>46</td>\n",
       "      <td>Продавец-кассир</td>\n",
       "      <td>https://hh.ru/vacancy/37687111?query=продавец</td>\n",
       "      <td>26 июня 2020</td>\n",
       "      <td>27500</td>\n",
       "      <td></td>\n",
       "      <td>NaN</td>\n",
       "      <td>NaN</td>\n",
       "      <td>Хабаровск</td>\n",
       "      <td>ООО Сеть минимаркетов «ЁЁ»</td>\n",
       "      <td>37687111</td>\n",
       "      <td>RUR</td>\n",
       "      <td>hh.ru</td>\n",
       "    </tr>\n",
       "    <tr>\n",
       "      <td>96</td>\n",
       "      <td>Продавец-грузчик (м. Багратионовская/Филевский парк/Пионерская)</td>\n",
       "      <td>https://hh.ru/vacancy/37608514?query=продавец</td>\n",
       "      <td>26 июня 2020</td>\n",
       "      <td>34500</td>\n",
       "      <td>43100</td>\n",
       "      <td>NaN</td>\n",
       "      <td>NaN</td>\n",
       "      <td>Москва</td>\n",
       "      <td>МАГНИТ, Розничная сеть</td>\n",
       "      <td>37608514</td>\n",
       "      <td>RUR</td>\n",
       "      <td>hh.ru</td>\n",
       "    </tr>\n",
       "    <tr>\n",
       "      <td>90</td>\n",
       "      <td>Продавец-консультант (мкр-н Солнечный ТЦ Байкальский )</td>\n",
       "      <td>https://hh.ru/vacancy/37143772?query=продавец</td>\n",
       "      <td>22 июня 2020</td>\n",
       "      <td>22000</td>\n",
       "      <td>30000</td>\n",
       "      <td>NaN</td>\n",
       "      <td>NaN</td>\n",
       "      <td>Иркутск, улица Ржанова, 164</td>\n",
       "      <td>ООО Славия Тех</td>\n",
       "      <td>37143772</td>\n",
       "      <td>RUR</td>\n",
       "      <td>hh.ru</td>\n",
       "    </tr>\n",
       "    <tr>\n",
       "      <td>89</td>\n",
       "      <td>Мобильный продавец-кассир (Оренбург, Больничный проезд, 12)</td>\n",
       "      <td>https://hh.ru/vacancy/36528890?query=продавец</td>\n",
       "      <td>26 июня 2020</td>\n",
       "      <td>20000</td>\n",
       "      <td>26000</td>\n",
       "      <td>51.775505</td>\n",
       "      <td>55.121794</td>\n",
       "      <td>Оренбур</td>\n",
       "      <td>Пятёрочка. Магазины</td>\n",
       "      <td>36528890</td>\n",
       "      <td>RUR</td>\n",
       "      <td>hh.ru</td>\n",
       "    </tr>\n",
       "    <tr>\n",
       "      <td>21</td>\n",
       "      <td>Продавец-кассир (Самара, Лысвенская улица, 30)</td>\n",
       "      <td>https://hh.ru/vacancy/36496129?query=продавец</td>\n",
       "      <td>24 июня 2020</td>\n",
       "      <td>17000</td>\n",
       "      <td>20000</td>\n",
       "      <td>53.14</td>\n",
       "      <td>50.13</td>\n",
       "      <td>г Самара</td>\n",
       "      <td>Пятёрочка. Магазины</td>\n",
       "      <td>36496129</td>\n",
       "      <td>RUR</td>\n",
       "      <td>hh.ru</td>\n",
       "    </tr>\n",
       "    <tr>\n",
       "      <td>34</td>\n",
       "      <td>Продавец-кассир (деревня Ожигово, Восточный проезд)</td>\n",
       "      <td>https://hh.ru/vacancy/37017326?query=продавец</td>\n",
       "      <td>19 июня 2020</td>\n",
       "      <td>25000</td>\n",
       "      <td>32000</td>\n",
       "      <td>55.62</td>\n",
       "      <td>36.38</td>\n",
       "      <td>деревня Ожигово</td>\n",
       "      <td>Пятёрочка. Магазины</td>\n",
       "      <td>37017326</td>\n",
       "      <td>RUR</td>\n",
       "      <td>hh.ru</td>\n",
       "    </tr>\n",
       "    <tr>\n",
       "      <td>84</td>\n",
       "      <td>Продавец-консультант (Ульяновск)</td>\n",
       "      <td>https://hh.ru/vacancy/37553248?query=продавец</td>\n",
       "      <td>26 июня 2020</td>\n",
       "      <td>33000</td>\n",
       "      <td>0</td>\n",
       "      <td>54.28</td>\n",
       "      <td>48.29</td>\n",
       "      <td>Ульяновск</td>\n",
       "      <td>Розничная сеть МТС</td>\n",
       "      <td>37553248</td>\n",
       "      <td>RUR</td>\n",
       "      <td>hh.ru</td>\n",
       "    </tr>\n",
       "    <tr>\n",
       "      <td>92</td>\n",
       "      <td>Продавец-консультант</td>\n",
       "      <td>https://hh.ru/vacancy/37484942?query=продавец</td>\n",
       "      <td>15 июня 2020</td>\n",
       "      <td>30000</td>\n",
       "      <td></td>\n",
       "      <td>NaN</td>\n",
       "      <td>NaN</td>\n",
       "      <td>Жигулевск</td>\n",
       "      <td>Связной</td>\n",
       "      <td>37484942</td>\n",
       "      <td>RUR</td>\n",
       "      <td>hh.ru</td>\n",
       "    </tr>\n",
       "    <tr>\n",
       "      <td>80</td>\n",
       "      <td>Старший продавец-кассир (Пермь, улица Куйбышева, 79А)</td>\n",
       "      <td>https://hh.ru/vacancy/37651366?query=продавец</td>\n",
       "      <td>24 июня 2020</td>\n",
       "      <td>25000</td>\n",
       "      <td>29000</td>\n",
       "      <td>NaN</td>\n",
       "      <td>NaN</td>\n",
       "      <td>г Пермь, ул Куйбышева, 79А</td>\n",
       "      <td>Пятёрочка. Магазины</td>\n",
       "      <td>37651366</td>\n",
       "      <td>RUR</td>\n",
       "      <td>hh.ru</td>\n",
       "    </tr>\n",
       "    <tr>\n",
       "      <td>3</td>\n",
       "      <td>Продавец</td>\n",
       "      <td>https://hh.ru/vacancy/35542958?query=продавец</td>\n",
       "      <td>28 июня 2020</td>\n",
       "      <td>635</td>\n",
       "      <td></td>\n",
       "      <td>NaN</td>\n",
       "      <td>NaN</td>\n",
       "      <td>Каменная Горка, Минск, Каменногорская улица, 3/5</td>\n",
       "      <td>Сеть строительных гипермаркетов МИЛЯ</td>\n",
       "      <td>35542958</td>\n",
       "      <td>BYR</td>\n",
       "      <td>hh.ru</td>\n",
       "    </tr>\n",
       "    <tr>\n",
       "      <td>43</td>\n",
       "      <td>Продавец-консультант (Акварель)</td>\n",
       "      <td>https://hh.ru/vacancy/37554817?query=продавец</td>\n",
       "      <td>18 июня 2020</td>\n",
       "      <td>25000</td>\n",
       "      <td></td>\n",
       "      <td>NaN</td>\n",
       "      <td>NaN</td>\n",
       "      <td>Волгоград, Университетский проспект, 107</td>\n",
       "      <td>Снежная Королева</td>\n",
       "      <td>37554817</td>\n",
       "      <td>RUR</td>\n",
       "      <td>hh.ru</td>\n",
       "    </tr>\n",
       "    <tr>\n",
       "      <td>72</td>\n",
       "      <td>Продавец-консультант</td>\n",
       "      <td>https://hh.ru/vacancy/37662879?query=продавец</td>\n",
       "      <td>25 июня 2020</td>\n",
       "      <td>20000</td>\n",
       "      <td>50000</td>\n",
       "      <td>NaN</td>\n",
       "      <td>NaN</td>\n",
       "      <td>Иркутск, улица Октябрьской Революции, 7</td>\n",
       "      <td>Дом Рыбака</td>\n",
       "      <td>37662879</td>\n",
       "      <td>RUR</td>\n",
       "      <td>hh.ru</td>\n",
       "    </tr>\n",
       "    <tr>\n",
       "      <td>22</td>\n",
       "      <td>Продавец в магазин хозяйственных товаров</td>\n",
       "      <td>https://hh.ru/vacancy/37376662?query=продавец</td>\n",
       "      <td>27 июня 2020</td>\n",
       "      <td>35000</td>\n",
       "      <td>55000</td>\n",
       "      <td>NaN</td>\n",
       "      <td>NaN</td>\n",
       "      <td>деревня Бабенки</td>\n",
       "      <td>ИП Вдовина Ольга Борисовна</td>\n",
       "      <td>37376662</td>\n",
       "      <td>RUR</td>\n",
       "      <td>hh.ru</td>\n",
       "    </tr>\n",
       "    <tr>\n",
       "      <td>42</td>\n",
       "      <td>Продавец-кассир (Оренбург, Восточная улица, 84)</td>\n",
       "      <td>https://hh.ru/vacancy/36705588?query=продавец</td>\n",
       "      <td>25 июня 2020</td>\n",
       "      <td>19000</td>\n",
       "      <td>22000</td>\n",
       "      <td>51.78885</td>\n",
       "      <td>55.153316</td>\n",
       "      <td>Оренбур</td>\n",
       "      <td>Пятёрочка. Магазины</td>\n",
       "      <td>36705588</td>\n",
       "      <td>RUR</td>\n",
       "      <td>hh.ru</td>\n",
       "    </tr>\n",
       "    <tr>\n",
       "      <td>26</td>\n",
       "      <td>Администратор магазина</td>\n",
       "      <td>https://hh.ru/vacancy/37582134?query=продавец</td>\n",
       "      <td>19 июня 2020</td>\n",
       "      <td>800</td>\n",
       "      <td></td>\n",
       "      <td>NaN</td>\n",
       "      <td>NaN</td>\n",
       "      <td>Грушевка, Минск, проспект Дзержинского, 11</td>\n",
       "      <td>ИП Махнач Е.О.</td>\n",
       "      <td>37582134</td>\n",
       "      <td>BYR</td>\n",
       "      <td>hh.ru</td>\n",
       "    </tr>\n",
       "    <tr>\n",
       "      <td>95</td>\n",
       "      <td>Продавец-консультант в зоомагазин</td>\n",
       "      <td>https://hh.ru/vacancy/37728849?query=продавец</td>\n",
       "      <td>29 июня 2020</td>\n",
       "      <td>25000</td>\n",
       "      <td></td>\n",
       "      <td>NaN</td>\n",
       "      <td>NaN</td>\n",
       "      <td>Нижний Новгород</td>\n",
       "      <td>ООО Зоокомпания Друг</td>\n",
       "      <td>37728849</td>\n",
       "      <td>RUR</td>\n",
       "      <td>hh.ru</td>\n",
       "    </tr>\n",
       "    <tr>\n",
       "      <td>20</td>\n",
       "      <td>Ночной Старший продавец кассир (Раменский г.о. пос.Верея 461а)</td>\n",
       "      <td>https://hh.ru/vacancy/37666507?query=продавец</td>\n",
       "      <td>25 июня 2020</td>\n",
       "      <td>27000</td>\n",
       "      <td></td>\n",
       "      <td>NaN</td>\n",
       "      <td>NaN</td>\n",
       "      <td>Жуковский</td>\n",
       "      <td>ДИКСИ. Магазины</td>\n",
       "      <td>37666507</td>\n",
       "      <td>RUR</td>\n",
       "      <td>hh.ru</td>\n",
       "    </tr>\n",
       "    <tr>\n",
       "      <td>24</td>\n",
       "      <td>Старший продавец-кассир (Пермь, Уинская улица, 8А)</td>\n",
       "      <td>https://hh.ru/vacancy/36723864?query=продавец</td>\n",
       "      <td>26 июня 2020</td>\n",
       "      <td>25000</td>\n",
       "      <td>29000</td>\n",
       "      <td>58.01</td>\n",
       "      <td>56.30</td>\n",
       "      <td>г Пермь</td>\n",
       "      <td>Пятёрочка. Магазины</td>\n",
       "      <td>36723864</td>\n",
       "      <td>RUR</td>\n",
       "      <td>hh.ru</td>\n",
       "    </tr>\n",
       "  </tbody>\n",
       "</table>\n",
       "</div>"
      ],
      "text/plain": [
       "                                                                         name                                           link  publish_date salary_min salary_max                  lat                  lon                                              city                              employer        id currency   site\n",
       "93                            Продавец-кассир (Жирновск, улица Ломоносова 73)  https://hh.ru/vacancy/37409149?query=продавец   9 июня 2020      25000          0                50.97                44.79                                          Жирновск          ООО Бристоль, сеть магазинов  37409149      RUR  hh.ru\n",
       "31               Заместитель директора магазина (ул.Паустовского, м. Ясенево)  https://hh.ru/vacancy/37675291?query=продавец  25 июня 2020      47800      54900                55.60                37.54                                            Москва                               Familia  37675291      RUR  hh.ru\n",
       "9                                        Продавец \"Магнит-косметик\" (Мошково)  https://hh.ru/vacancy/37142665?query=продавец  27 июня 2020      17700                             NaN                  NaN                                           Мошково                МАГНИТ, Розничная сеть  37142665      RUR  hh.ru\n",
       "98                           Продавец-консультант (бытовой техники МБТ и КБТ)  https://hh.ru/vacancy/37452713?query=продавец  24 июня 2020      60000                             NaN                  NaN      деревня Чёрная Грязь, Промышленная улица, с2                         HOLODILNIK.RU  37452713      RUR  hh.ru\n",
       "77                                                            Продавец-кассир  https://hh.ru/vacancy/37500970?query=продавец  22 июня 2020      35000                             NaN                  NaN              Советская Гавань, улица Чкалова, 25А                         Азбука мебели  37500970      RUR  hh.ru\n",
       "45                                Старший продавец магазина \"Магнит-Косметик\"  https://hh.ru/vacancy/37435033?query=продавец  18 июня 2020      35000      43300                  NaN                  NaN                                             Химки                МАГНИТ, Розничная сеть  37435033      RUR  hh.ru\n",
       "16  Продавец-кассир (посёлок городского типа Тереньга, Ульяновская улица, 22)  https://hh.ru/vacancy/37164412?query=продавец  27 июня 2020      18000      24000            53.715663            48.368098                          рабочий поселок Тереньга                   Пятёрочка. Магазины  37164412      RUR  hh.ru\n",
       "46                                                            Продавец-кассир  https://hh.ru/vacancy/37687111?query=продавец  26 июня 2020      27500                             NaN                  NaN                                         Хабаровск            ООО Сеть минимаркетов «ЁЁ»  37687111      RUR  hh.ru\n",
       "96            Продавец-грузчик (м. Багратионовская/Филевский парк/Пионерская)  https://hh.ru/vacancy/37608514?query=продавец  26 июня 2020      34500      43100                  NaN                  NaN                                            Москва                МАГНИТ, Розничная сеть  37608514      RUR  hh.ru\n",
       "90                     Продавец-консультант (мкр-н Солнечный ТЦ Байкальский )  https://hh.ru/vacancy/37143772?query=продавец  22 июня 2020      22000      30000                  NaN                  NaN                       Иркутск, улица Ржанова, 164                        ООО Славия Тех  37143772      RUR  hh.ru\n",
       "89                Мобильный продавец-кассир (Оренбург, Больничный проезд, 12)  https://hh.ru/vacancy/36528890?query=продавец  26 июня 2020      20000      26000            51.775505            55.121794                                           Оренбур                   Пятёрочка. Магазины  36528890      RUR  hh.ru\n",
       "21                             Продавец-кассир (Самара, Лысвенская улица, 30)  https://hh.ru/vacancy/36496129?query=продавец  24 июня 2020      17000      20000                53.14                50.13                                          г Самара                   Пятёрочка. Магазины  36496129      RUR  hh.ru\n",
       "34                        Продавец-кассир (деревня Ожигово, Восточный проезд)  https://hh.ru/vacancy/37017326?query=продавец  19 июня 2020      25000      32000                55.62                36.38                                   деревня Ожигово                   Пятёрочка. Магазины  37017326      RUR  hh.ru\n",
       "84                                           Продавец-консультант (Ульяновск)  https://hh.ru/vacancy/37553248?query=продавец  26 июня 2020      33000          0                54.28                48.29                                         Ульяновск                    Розничная сеть МТС  37553248      RUR  hh.ru\n",
       "92                                                       Продавец-консультант  https://hh.ru/vacancy/37484942?query=продавец  15 июня 2020      30000                             NaN                  NaN                                         Жигулевск                               Связной  37484942      RUR  hh.ru\n",
       "80                      Старший продавец-кассир (Пермь, улица Куйбышева, 79А)  https://hh.ru/vacancy/37651366?query=продавец  24 июня 2020      25000      29000                  NaN                  NaN                        г Пермь, ул Куйбышева, 79А                   Пятёрочка. Магазины  37651366      RUR  hh.ru\n",
       "3                                                                    Продавец  https://hh.ru/vacancy/35542958?query=продавец  28 июня 2020        635                             NaN                  NaN  Каменная Горка, Минск, Каменногорская улица, 3/5  Сеть строительных гипермаркетов МИЛЯ  35542958      BYR  hh.ru\n",
       "43                                            Продавец-консультант (Акварель)  https://hh.ru/vacancy/37554817?query=продавец  18 июня 2020      25000                             NaN                  NaN          Волгоград, Университетский проспект, 107                      Снежная Королева  37554817      RUR  hh.ru\n",
       "72                                                       Продавец-консультант  https://hh.ru/vacancy/37662879?query=продавец  25 июня 2020      20000      50000                  NaN                  NaN           Иркутск, улица Октябрьской Революции, 7                            Дом Рыбака  37662879      RUR  hh.ru\n",
       "22                                   Продавец в магазин хозяйственных товаров  https://hh.ru/vacancy/37376662?query=продавец  27 июня 2020      35000      55000                  NaN                  NaN                                   деревня Бабенки            ИП Вдовина Ольга Борисовна  37376662      RUR  hh.ru\n",
       "42                            Продавец-кассир (Оренбург, Восточная улица, 84)  https://hh.ru/vacancy/36705588?query=продавец  25 июня 2020      19000      22000             51.78885            55.153316                                           Оренбур                   Пятёрочка. Магазины  36705588      RUR  hh.ru\n",
       "26                                                     Администратор магазина  https://hh.ru/vacancy/37582134?query=продавец  19 июня 2020        800                             NaN                  NaN        Грушевка, Минск, проспект Дзержинского, 11                        ИП Махнач Е.О.  37582134      BYR  hh.ru\n",
       "95                                          Продавец-консультант в зоомагазин  https://hh.ru/vacancy/37728849?query=продавец  29 июня 2020      25000                             NaN                  NaN                                   Нижний Новгород                  ООО Зоокомпания Друг  37728849      RUR  hh.ru\n",
       "20             Ночной Старший продавец кассир (Раменский г.о. пос.Верея 461а)  https://hh.ru/vacancy/37666507?query=продавец  25 июня 2020      27000                             NaN                  NaN                                         Жуковский                       ДИКСИ. Магазины  37666507      RUR  hh.ru\n",
       "24                         Старший продавец-кассир (Пермь, Уинская улица, 8А)  https://hh.ru/vacancy/36723864?query=продавец  26 июня 2020      25000      29000                58.01                56.30                                           г Пермь                   Пятёрочка. Магазины  36723864      RUR  hh.ru"
      ]
     },
     "execution_count": 252,
     "metadata": {},
     "output_type": "execute_result"
    }
   ],
   "source": [
    "hh.sample(25)"
   ]
  },
  {
   "cell_type": "code",
   "execution_count": null,
   "metadata": {},
   "outputs": [],
   "source": []
  }
 ],
 "metadata": {
  "kernelspec": {
   "display_name": "Python 3",
   "language": "python",
   "name": "python3"
  },
  "language_info": {
   "codemirror_mode": {
    "name": "ipython",
    "version": 3
   },
   "file_extension": ".py",
   "mimetype": "text/x-python",
   "name": "python",
   "nbconvert_exporter": "python",
   "pygments_lexer": "ipython3",
   "version": "3.7.3"
  }
 },
 "nbformat": 4,
 "nbformat_minor": 2
}
